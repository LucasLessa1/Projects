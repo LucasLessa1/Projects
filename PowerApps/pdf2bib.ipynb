{
 "cells": [
  {
   "cell_type": "code",
   "execution_count": 1,
   "metadata": {},
   "outputs": [
    {
     "name": "stdout",
     "output_type": "stream",
     "text": [
      "Requirement already satisfied: pdf2bib==1.1rc4 in /usr/local/python/3.10.8/lib/python3.10/site-packages (1.1rc4)\n",
      "Requirement already satisfied: bibtexparser>=1.2.0 in /usr/local/python/3.10.8/lib/python3.10/site-packages (from pdf2bib==1.1rc4) (1.4.1)\n",
      "Requirement already satisfied: pyperclip in /usr/local/python/3.10.8/lib/python3.10/site-packages (from pdf2bib==1.1rc4) (1.8.2)\n",
      "Requirement already satisfied: unidecode in /usr/local/python/3.10.8/lib/python3.10/site-packages (from pdf2bib==1.1rc4) (1.3.7)\n",
      "Requirement already satisfied: pdf2doi==1.5rc8 in /usr/local/python/3.10.8/lib/python3.10/site-packages (from pdf2bib==1.1rc4) (1.5rc8)\n",
      "Requirement already satisfied: google>=3.0.0 in /usr/local/python/3.10.8/lib/python3.10/site-packages (from pdf2doi==1.5rc8->pdf2bib==1.1rc4) (3.0.0)\n",
      "Requirement already satisfied: requests>=2.25.1 in /home/codespace/.local/lib/python3.10/site-packages (from pdf2doi==1.5rc8->pdf2bib==1.1rc4) (2.31.0)\n",
      "Requirement already satisfied: pypdf2==2.0.0 in /usr/local/python/3.10.8/lib/python3.10/site-packages (from pdf2doi==1.5rc8->pdf2bib==1.1rc4) (2.0.0)\n",
      "Requirement already satisfied: pdftitle>=0.3 in /usr/local/python/3.10.8/lib/python3.10/site-packages (from pdf2doi==1.5rc8->pdf2bib==1.1rc4) (0.11)\n",
      "Requirement already satisfied: feedparser>=6.0.2 in /usr/local/python/3.10.8/lib/python3.10/site-packages (from pdf2doi==1.5rc8->pdf2bib==1.1rc4) (6.0.10)\n",
      "Requirement already satisfied: easygui in /usr/local/python/3.10.8/lib/python3.10/site-packages (from pdf2doi==1.5rc8->pdf2bib==1.1rc4) (0.98.3)\n",
      "Requirement already satisfied: pdfminer.six==20221105 in /usr/local/python/3.10.8/lib/python3.10/site-packages (from pdf2doi==1.5rc8->pdf2bib==1.1rc4) (20221105)\n",
      "Requirement already satisfied: pymupdf==1.21.0 in /usr/local/python/3.10.8/lib/python3.10/site-packages (from pdf2doi==1.5rc8->pdf2bib==1.1rc4) (1.21.0)\n",
      "Requirement already satisfied: charset-normalizer>=2.0.0 in /home/codespace/.local/lib/python3.10/site-packages (from pdfminer.six==20221105->pdf2doi==1.5rc8->pdf2bib==1.1rc4) (3.3.0)\n",
      "Requirement already satisfied: cryptography>=36.0.0 in /usr/local/python/3.10.8/lib/python3.10/site-packages (from pdfminer.six==20221105->pdf2doi==1.5rc8->pdf2bib==1.1rc4) (41.0.5)\n",
      "Requirement already satisfied: pyparsing>=2.0.3 in /home/codespace/.local/lib/python3.10/site-packages (from bibtexparser>=1.2.0->pdf2bib==1.1rc4) (3.1.1)\n",
      "Requirement already satisfied: sgmllib3k in /usr/local/python/3.10.8/lib/python3.10/site-packages (from feedparser>=6.0.2->pdf2doi==1.5rc8->pdf2bib==1.1rc4) (1.0.0)\n",
      "Requirement already satisfied: beautifulsoup4 in /home/codespace/.local/lib/python3.10/site-packages (from google>=3.0.0->pdf2doi==1.5rc8->pdf2bib==1.1rc4) (4.12.2)\n",
      "Requirement already satisfied: idna<4,>=2.5 in /home/codespace/.local/lib/python3.10/site-packages (from requests>=2.25.1->pdf2doi==1.5rc8->pdf2bib==1.1rc4) (3.4)\n",
      "Requirement already satisfied: urllib3<3,>=1.21.1 in /home/codespace/.local/lib/python3.10/site-packages (from requests>=2.25.1->pdf2doi==1.5rc8->pdf2bib==1.1rc4) (2.0.7)\n",
      "Requirement already satisfied: certifi>=2017.4.17 in /home/codespace/.local/lib/python3.10/site-packages (from requests>=2.25.1->pdf2doi==1.5rc8->pdf2bib==1.1rc4) (2023.7.22)\n",
      "Requirement already satisfied: cffi>=1.12 in /home/codespace/.local/lib/python3.10/site-packages (from cryptography>=36.0.0->pdfminer.six==20221105->pdf2doi==1.5rc8->pdf2bib==1.1rc4) (1.16.0)\n",
      "Requirement already satisfied: soupsieve>1.2 in /home/codespace/.local/lib/python3.10/site-packages (from beautifulsoup4->google>=3.0.0->pdf2doi==1.5rc8->pdf2bib==1.1rc4) (2.5)\n",
      "Requirement already satisfied: pycparser in /home/codespace/.local/lib/python3.10/site-packages (from cffi>=1.12->cryptography>=36.0.0->pdfminer.six==20221105->pdf2doi==1.5rc8->pdf2bib==1.1rc4) (2.21)\n",
      "\n",
      "\u001b[1m[\u001b[0m\u001b[34;49mnotice\u001b[0m\u001b[1;39;49m]\u001b[0m\u001b[39;49m A new release of pip is available: \u001b[0m\u001b[31;49m23.3\u001b[0m\u001b[39;49m -> \u001b[0m\u001b[32;49m23.3.1\u001b[0m\n",
      "\u001b[1m[\u001b[0m\u001b[34;49mnotice\u001b[0m\u001b[1;39;49m]\u001b[0m\u001b[39;49m To update, run: \u001b[0m\u001b[32;49mpython -m pip install --upgrade pip\u001b[0m\n"
     ]
    }
   ],
   "source": [
    "!pip install pdf2bib==1.1rc4"
   ]
  },
  {
   "cell_type": "code",
   "execution_count": 2,
   "metadata": {},
   "outputs": [
    {
     "name": "stdout",
     "output_type": "stream",
     "text": [
      "Requirement already satisfied: bibtexparser in /usr/local/python/3.10.8/lib/python3.10/site-packages (1.4.1)\n",
      "Requirement already satisfied: pyparsing>=2.0.3 in /home/codespace/.local/lib/python3.10/site-packages (from bibtexparser) (3.1.1)\n",
      "\n",
      "\u001b[1m[\u001b[0m\u001b[34;49mnotice\u001b[0m\u001b[1;39;49m]\u001b[0m\u001b[39;49m A new release of pip is available: \u001b[0m\u001b[31;49m23.3\u001b[0m\u001b[39;49m -> \u001b[0m\u001b[32;49m23.3.1\u001b[0m\n",
      "\u001b[1m[\u001b[0m\u001b[34;49mnotice\u001b[0m\u001b[1;39;49m]\u001b[0m\u001b[39;49m To update, run: \u001b[0m\u001b[32;49mpython -m pip install --upgrade pip\u001b[0m\n"
     ]
    }
   ],
   "source": [
    "!pip install bibtexparser"
   ]
  },
  {
   "cell_type": "code",
   "execution_count": 3,
   "metadata": {},
   "outputs": [],
   "source": [
    "import pdf2bib\n",
    "pdf2bib.config.set('verbose',False)"
   ]
  },
  {
   "cell_type": "code",
   "execution_count": 4,
   "metadata": {},
   "outputs": [],
   "source": [
    "import os\n",
    "\n",
    "folder_path = '/workspaces/Projects/PowerApps/Artigos' "
   ]
  },
  {
   "cell_type": "code",
   "execution_count": 5,
   "metadata": {},
   "outputs": [
    {
     "data": {
      "text/plain": [
       "'/workspaces/Projects/PowerApps/Artigos/Reinforcement Learning for Humanoid Robot Control.pdf'"
      ]
     },
     "execution_count": 5,
     "metadata": {},
     "output_type": "execute_result"
    }
   ],
   "source": [
    "pdf_files_path = [os.path.join(folder_path, f) for f in os.listdir(folder_path) if f.endswith('.pdf')]\n",
    "\n",
    "pdf_files_path[0]"
   ]
  },
  {
   "cell_type": "code",
   "execution_count": 6,
   "metadata": {},
   "outputs": [],
   "source": [
    "result = pdf2bib.pdf2bib(pdf_files_path[0])"
   ]
  },
  {
   "cell_type": "code",
   "execution_count": 7,
   "metadata": {},
   "outputs": [],
   "source": [
    "folder_bibtex = \"\"\n",
    "for article in pdf_files_path:\n",
    "    data_ = pdf2bib.pdf2bib(article)\n",
    "    folder_bibtex += \"\\n\\n\\n\"\n",
    "    folder_bibtex += data_['bibtex']"
   ]
  },
  {
   "cell_type": "code",
   "execution_count": 8,
   "metadata": {},
   "outputs": [
    {
     "name": "stdout",
     "output_type": "stream",
     "text": [
      "\n",
      "\n",
      "\n",
      "@article{mnih2015humanlevel,\n",
      "\ttitle = {Human-level control through deep reinforcement learning},\n",
      "\tvolume = {518},\n",
      "\tissue = {7540},\n",
      "\tpage = {529-533},\n",
      "\tpublisher = {Springer Science and Business Media LLC},\n",
      "\turl = {http://dx.doi.org/10.1038/nature14236},\n",
      "\tdoi = {10.1038/nature14236},\n",
      "\tjournal = {Nature},\n",
      "\tyear = {2015},\n",
      "\tmonth = {2},\n",
      "\tauthor = {Volodymyr Mnih and Koray Kavukcuoglu and David Silver and Andrei A. Rusu and Joel Veness and Marc G. Bellemare and Alex Graves and Martin Riedmiller and Andreas K. Fidjeland and Georg Ostrovski and Stig Petersen and Charles Beattie and Amir Sadik and Ioannis Antonoglou and Helen King and Dharshan Kumaran and Daan Wierstra and Shane Legg and Demis Hassabis}\n",
      "}\n",
      "\n",
      "\n",
      "@article{jung2012optimized,\n",
      "\ttitle = {Optimized Look-Ahead Tree Policies: A Bridge Between Look-Ahead Tree Policies and Direct Policy Search},\n",
      "\tpublisher = {arXiv},\n",
      "\turl = {https://arxiv.org/abs/1208.4773},\n",
      "\tdoi = {10.48550/ARXIV.1208.4773},\n",
      "\tjournal = {arXiv},\n",
      "\tyear = {2012},\n",
      "\tauthor = {Tobias Jung and Louis Wehenkel and Damien Ernst and Francis Maes}\n",
      "}\n",
      "\n",
      "\n",
      "@article{littman1994markov,\n",
      "\ttitle = {Markov games as a framework for multi-agent reinforcement learning},\n",
      "\tpage = {157-163},\n",
      "\tpublisher = {Elsevier},\n",
      "\turl = {http://dx.doi.org/10.1016/b978-1-55860-335-6.50027-1},\n",
      "\tdoi = {10.1016/b978-1-55860-335-6.50027-1},\n",
      "\tjournal = {Machine Learning Proceedings 1994},\n",
      "\tyear = {1994},\n",
      "\tauthor = {Michael L. Littman}\n",
      "}\n",
      "\n",
      "\n",
      "@article{du2020a,\n",
      "\ttitle = {A survey on multi-agent deep reinforcement learning: from the perspective of challenges and applications},\n",
      "\tvolume = {54},\n",
      "\tissue = {5},\n",
      "\tpage = {3215-3238},\n",
      "\tpublisher = {Springer Science and Business Media LLC},\n",
      "\turl = {http://dx.doi.org/10.1007/s10462-020-09938-y},\n",
      "\tdoi = {10.1007/s10462-020-09938-y},\n",
      "\tjournal = {Artificial Intelligence Review},\n",
      "\tyear = {2020},\n",
      "\tmonth = {11},\n",
      "\tauthor = {Wei Du and Shifei Ding}\n",
      "}\n",
      "\n",
      "\n",
      "@article{fazel2018global,\n",
      "\ttitle = {Global Convergence of Policy Gradient Methods for the Linear Quadratic Regulator},\n",
      "\tpublisher = {arXiv},\n",
      "\turl = {https://arxiv.org/abs/1801.05039},\n",
      "\tdoi = {10.48550/ARXIV.1801.05039},\n",
      "\tjournal = {arXiv},\n",
      "\tyear = {2018},\n",
      "\tauthor = {Maryam Fazel and Rong Ge and Sham M. Kakade and Mehran Mesbahi}\n",
      "}\n",
      "\n",
      "\n",
      "@article{muzio2022deep,\n",
      "\ttitle = {Deep Reinforcement Learning for Humanoid Robot Behaviors},\n",
      "\tvolume = {105},\n",
      "\tissue = {1},\n",
      "\tpublisher = {Springer Science and Business Media LLC},\n",
      "\turl = {http://dx.doi.org/10.1007/s10846-022-01619-y},\n",
      "\tdoi = {10.1007/s10846-022-01619-y},\n",
      "\tjournal = {Journal of Intelligent &amp; Robotic Systems},\n",
      "\tyear = {2022},\n",
      "\tmonth = {4},\n",
      "\tauthor = {Alexandre F. V. Muzio and Marcos R. O. A. Maximo and Takashi Yoneyama}\n",
      "}\n",
      "\n",
      "\n",
      "@article{busoniu2008a,\n",
      "\ttitle = {A Comprehensive Survey of Multiagent Reinforcement Learning},\n",
      "\tvolume = {38},\n",
      "\tissue = {2},\n",
      "\tpage = {156-172},\n",
      "\tpublisher = {Institute of Electrical and Electronics Engineers (IEEE)},\n",
      "\turl = {http://dx.doi.org/10.1109/tsmcc.2007.913919},\n",
      "\tdoi = {10.1109/tsmcc.2007.913919},\n",
      "\tjournal = {IEEE Transactions on Systems, Man, and Cybernetics, Part C (Applications and Reviews)},\n",
      "\tyear = {2008},\n",
      "\tmonth = {3},\n",
      "\tauthor = {Lucian Busoniu and Robert Babuska and Bart De Schutter}\n",
      "}\n",
      "\n",
      "\n",
      "@article{canese2021multiagent,\n",
      "\ttitle = {Multi-Agent Reinforcement Learning: A Review of Challenges and Applications},\n",
      "\tvolume = {11},\n",
      "\tissue = {11},\n",
      "\tpage = {4948},\n",
      "\tpublisher = {MDPI AG},\n",
      "\turl = {http://dx.doi.org/10.3390/app11114948},\n",
      "\tdoi = {10.3390/app11114948},\n",
      "\tjournal = {Applied Sciences},\n",
      "\tyear = {2021},\n",
      "\tmonth = {5},\n",
      "\tauthor = {Lorenzo Canese and Gian Carlo Cardarilli and Luca Di Nunzio and Rocco Fazzolari and Daniele Giardino and Marco Re and Sergio Spanò}\n",
      "}\n",
      "\n",
      "\n",
      "@article{hester2010generalized,\n",
      "\ttitle = {Generalized model learning for Reinforcement Learning on a humanoid robot},\n",
      "\tpublisher = {IEEE},\n",
      "\turl = {http://dx.doi.org/10.1109/robot.2010.5509181},\n",
      "\tdoi = {10.1109/robot.2010.5509181},\n",
      "\tjournal = {2010 IEEE International Conference on Robotics and Automation},\n",
      "\tyear = {2010},\n",
      "\tmonth = {5},\n",
      "\tauthor = {Todd Hester and Michael Quinlan and Peter Stone}\n",
      "}\n",
      "\n",
      "\n",
      "@article{2021handbook,\n",
      "\ttitle = {Handbook of Reinforcement Learning and Control},\n",
      "\tpublisher = {Springer International Publishing},\n",
      "\turl = {http://dx.doi.org/10.1007/978-3-030-60990-0},\n",
      "\tdoi = {10.1007/978-3-030-60990-0},\n",
      "\tjournal = {Studies in Systems, Decision and Control},\n",
      "\tyear = {2021}\n",
      "}\n",
      "\n",
      "\n",
      "@article{2010innovations,\n",
      "\ttitle = {Innovations in Multi-Agent Systems and Applications - 1},\n",
      "\tpublisher = {Springer Berlin Heidelberg},\n",
      "\turl = {http://dx.doi.org/10.1007/978-3-642-14435-6},\n",
      "\tdoi = {10.1007/978-3-642-14435-6},\n",
      "\tjournal = {Studies in Computational Intelligence},\n",
      "\tyear = {2010}\n",
      "}\n",
      "\n",
      "\n",
      "@article{kumar2019navigation,\n",
      "\ttitle = {Navigation of a Quadratic Potential with Ellipsoidal Obstacles},\n",
      "\tpublisher = {arXiv},\n",
      "\turl = {https://arxiv.org/abs/1908.08509},\n",
      "\tdoi = {10.48550/ARXIV.1908.08509},\n",
      "\tjournal = {arXiv},\n",
      "\tyear = {2019},\n",
      "\tauthor = {Harshat Kumar and Santiago Paternain and Alejandro Ribeiro}\n",
      "}\n"
     ]
    }
   ],
   "source": [
    "print(folder_bibtex)"
   ]
  },
  {
   "cell_type": "code",
   "execution_count": 9,
   "metadata": {},
   "outputs": [],
   "source": [
    "import bibtexparser\n",
    "from bibtexparser.bwriter import BibTexWriter\n",
    "from bibtexparser.bibdatabase import BibDatabase\n",
    "\n",
    "\n",
    "# Analisa a string .bib\n",
    "bib_database = bibtexparser.loads(folder_bibtex)\n",
    "\n",
    "# Escreve a base de dados em um arquivo .bib\n",
    "with open('mybibfile.bib', 'w') as bibfile:\n",
    "    writer = BibTexWriter()\n",
    "    bibfile.write(writer.write(bib_database))\n"
   ]
  }
 ],
 "metadata": {
  "kernelspec": {
   "display_name": "Python 3",
   "language": "python",
   "name": "python3"
  },
  "language_info": {
   "codemirror_mode": {
    "name": "ipython",
    "version": 3
   },
   "file_extension": ".py",
   "mimetype": "text/x-python",
   "name": "python",
   "nbconvert_exporter": "python",
   "pygments_lexer": "ipython3",
   "version": "3.10.8"
  }
 },
 "nbformat": 4,
 "nbformat_minor": 2
}
