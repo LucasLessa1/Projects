{
 "cells": [
  {
   "cell_type": "markdown",
   "metadata": {},
   "source": [
    "### Imports"
   ]
  },
  {
   "cell_type": "code",
   "execution_count": 1,
   "metadata": {},
   "outputs": [],
   "source": [
    "from tools import *\n",
    "import math\n",
    "import warnings\n",
    "warnings.filterwarnings(\"ignore\")"
   ]
  },
  {
   "cell_type": "markdown",
   "metadata": {},
   "source": [
    "### API\n",
    "\n",
    "- Dados de Usuário"
   ]
  },
  {
   "cell_type": "code",
   "execution_count": 2,
   "metadata": {},
   "outputs": [],
   "source": [
    "user = \"190126230@aluno.unb.br\"\n",
    "password = \"ENG1901me00$$\""
   ]
  },
  {
   "cell_type": "markdown",
   "metadata": {},
   "source": [
    "### Dynamics CRM Data Retrieval Workflow\n",
    "\n",
    "1. **Initialize WebDriver for Chrome:**\n",
    "\n",
    "\n",
    "2. **Azure AD and OAuth2.0 Parameters:**\n",
    "\n",
    "\n",
    "3. **Construct Authorization URL:**\n",
    "\n",
    "\n",
    "4. **Retrieve Callback URL after Authentication:**\n",
    "\n",
    "\n",
    "5. **Get Access Token:**\n",
    "\n",
    "\n",
    "6. **Define Dynamics CRM API Endpoint:**\n",
    "\n",
    "\n",
    "7. **Make Authenticated Request to API Endpoint:**\n",
    "\n",
    "\n",
    "8. **Process Response Data:**\n",
    "\n"
   ]
  },
  {
   "cell_type": "code",
   "execution_count": 3,
   "metadata": {},
   "outputs": [
    {
     "name": "stdout",
     "output_type": "stream",
     "text": [
      "https://localhost/?code=0.AQoAoZs17AtjK024M8jm1I-AWYkU-FHuEp5Kqq6iWR9FmH0BAAA.AgABAAIAAAAmoFfGtYxvRrNriQdPKIZ-AgDs_wUA9P-Nx97JSRBdK6A5uFLW69A6wxbaboJ5oVRZMeFPdn1oiwyXOXsmuB9Wb7Mh9TvvrbxzkrMapyd-tG4OAcIAwQHta8ZwpX_Q83qNpbMcbfq7dBRUgxuhmY_YXQ8uLpVwlOwplZgyEu26la7D-aw3khcbQ9P4KUoNTRjmW46yD2BZ0C6PcKCBm4ggTcSZevxwo5GKvHAUni3qC9WMry8KtkmDQS5WkkT_RqG29LmOU_NPGjVgrIka8Gfn13YuecG4XQR5kRY0NzdBnHcHV0jEY0G4G_0SrbCthRgA7oRTM4yaM2a_Vgd89Z-iwoMw9GilZGOg30CoUe-WMK5TKd34YCrOLNoWddV7Na7YYwYb15Qgw5IEToeDJFsZiinYGBNJtcfyH6j2npIseePVV-KCCgUnKwNy5sVIE_1dGTNWu3ahHvEuVCaSwOpADxYVVULGlUigaVcUo26GRrDbJNXOHgY95vxd8-TIGymrGq_ahLsiTs1BcQ0XBz3XsTwCzMovbHCJQyLNO-zIFhZ2K7rKHCK5CApir9DGW-5BjNtB_ZMGhwNz0iXEbuc1PQ4MbC4tlawuAplH6N5wuLlp9UYAozIrz-pDg2TBMq7j8YETBxizJsf2rhBg1JhQmRBT0X1S_7Y_T1bO4Ht3GG2Es4RXAmCtyWKKq72XCgJdVsc&session_state=9a3c4fc3-263a-4b95-a631-05dce250ecd9\n",
      "eyJ0eXAiOiJKV1QiLCJhbGciOiJSUzI1NiIsIng1dCI6IlQxU3QtZExUdnlXUmd4Ql82NzZ1OGtyWFMtSSIsImtpZCI6IlQxU3QtZExUdnlXUmd4Ql82NzZ1OGtyWFMtSSJ9.eyJhdWQiOiJodHRwczovL29yZzQyNWVlMmNmLmFwaS5jcm0uZHluYW1pY3MuY29tIiwiaXNzIjoiaHR0cHM6Ly9zdHMud2luZG93cy5uZXQvZWMzNTliYTEtNjMwYi00ZDJiLWI4MzMtYzhlNmQ0OGY4MDU5LyIsImlhdCI6MTcwMzI2ODI4OCwibmJmIjoxNzAzMjY4Mjg4LCJleHAiOjE3MDMyNzM2ODUsImFjY3QiOjAsImFjciI6IjEiLCJhaW8iOiJBVFFBeS84VkFBQUFEamU4eFBVRFQwOGI2YjF4ejk4STczMi9rV25rWWdhRTdUM1NsYVRkWkJ6L0x4VUZ5Tld4WURWMjA4SlV2b1Y1IiwiYW1yIjpbInB3ZCJdLCJhcHBpZCI6IjUxZjgxNDg5LTEyZWUtNGE5ZS1hYWFlLWEyNTkxZjQ1OTg3ZCIsImFwcGlkYWNyIjoiMCIsImZhbWlseV9uYW1lIjoiU2FudG9zIExlc3NhIiwiZ2l2ZW5fbmFtZSI6Ikx1Y2FzIiwiaXBhZGRyIjoiMjgwNDoxNGM6NjVhMTo4YjNhOmZkNTM6Njc3YjpiM2M5OjNlOTAiLCJsb2dpbl9oaW50IjoiTy5DaVE1TTJFMVpUSmlaQzFoWmpJMkxUUTVZbUl0WWpsak9DMDBZV0ZpWW1KaE16QTBaallTSkdWak16VTVZbUV4TFRZek1HSXROR1F5WWkxaU9ETXpMV000WlRaa05EaG1PREExT1JvV01Ua3dNVEkyTWpNd1FHRnNkVzV2TG5WdVlpNWljaUREQVE9PSIsIm5hbWUiOiJMdWNhcyBTYW50b3MgTGVzc2EiLCJvaWQiOiI5M2E1ZTJiZC1hZjI2LTQ5YmItYjljOC00YWFiYmJhMzA0ZjYiLCJvbnByZW1fc2lkIjoiUy0xLTUtMjEtMTY3NTc5OTcwLTE3MDI0MDAzOTgtMzUzOTY0NzM2NS01NDkyNiIsInB1aWQiOiIxMDAzMjAwMDVGQkM4QTk1IiwicmgiOiIwLkFRb0FvWnMxN0F0akswMjRNOGptMUktQVdRY0FBQUFBQUFBQXdBQUFBQUFBQUFBS0FDby4iLCJzY3AiOiJ1c2VyX2ltcGVyc29uYXRpb24iLCJzdWIiOiJ0RU1LYkw2YUJEelBoam55OVhZVXQzRDhfVjlDTTBIalA5Z1RvU1VHRmtRIiwidGVuYW50X3JlZ2lvbl9zY29wZSI6IlNBIiwidGlkIjoiZWMzNTliYTEtNjMwYi00ZDJiLWI4MzMtYzhlNmQ0OGY4MDU5IiwidW5pcXVlX25hbWUiOiIxOTAxMjYyMzBAYWx1bm8udW5iLmJyIiwidXBuIjoiMTkwMTI2MjMwQGFsdW5vLnVuYi5iciIsInV0aSI6IndlRm9rd2gwRjBxekVha19CNjJYQVEiLCJ2ZXIiOiIxLjAiLCJ3aWRzIjpbImI3OWZiZjRkLTNlZjktNDY4OS04MTQzLTc2YjE5NGU4NTUwOSJdLCJ4bXNfY2FlIjoiMSJ9.rnTl8Uw8GWQFfQplTed9yXCA0m7fQnen0KpnN3M9eYrTLnCoYt3ZvAAe22-jSJrI5ZMZgI8jGZ_mEnrCtLYZUzjGND7erM25wC2b4sR-GRdXHvdcEUHJqB7Q3hK8joYGPyQ6XDRhN8whlhW9eJ4FzI7e6q1ug6bYC_O9J68erpgImhKg0TlMolDwlqJUZ_sJ_RXCKeMad8KHcNBycuGVoZDAvXHBlr2H797F34KMjQD2ZyNx7XtG1Lfs6dhEN3t2zdgXFLjOD1-MQrI5YgqUsrNpDoOGfMvSeE3aBd8sfC9Zgt6_BPljhzziXV3PGyGUNwgZcK3FjG8RBbaYXu2cYg\n",
      "<Response [200]>\n",
      "{'@odata.context': 'https://org425ee2cf.crm.dynamics.com/api/data/v9.2/$metadata#crddb_autorowreportinputsessions', 'value': [{'@odata.etag': 'W/\"4758090\"', 'crddb_c1b_sep': 0.4, 'crddb_contributionfaultcurrent_term1_mod': 5000.0, 'crddb_crosssection_targety': 1.5, 'crddb_contributionfaultcurrent_term2_phase': 0.0, '_ownerid_value': 'eade9878-0d57-ee11-be6f-000d3a1f576d', 'crddb_spansbeforeemizone': 5, 'statecode': 0, 'crddb_contributionfaultcurrent_term2_mod': 5000.0, 'crddb_circuittype': 1, 'crddb_groundimpedance_terminal2_r': 1.0, 'crddb_approxtype': 1, 'crddb_coordinatesfile_source': '23ab9985-027d-ee11-8179-000d3a1f576d', '_crddb_c1c_condtype_value': '72ab56d1-cb92-ee11-be37-000d3a1f576d', '_crddb_sw2_condtype_value': '72ab56d1-cb92-ee11-be37-000d3a1f576d', 'crddb_coordinatesfile_target': '96c89991-027d-ee11-8179-000d3a1f576d', 'crddb_term1_name': 'Term1', 'crddb_safelimits_bodycurrent': 6.0, 'crddb_c1b_vertical': 18.995, 'crddb_targetlinetype': 1, 'crddb_targetlineowner': 'EmpresaDT', 'modifiedon': '2023-12-19T14:52:58Z', '_owninguser_value': 'eade9878-0d57-ee11-be6f-000d3a1f576d', 'crddb_safelimits_rb': 1000.0, '_crddb_c1a_condtype_value': '72ab56d1-cb92-ee11-be37-000d3a1f576d', 'crddb_nominalfaultcurrent_1phase_term1_mod': 4010.0, 'crddb_targetgroundimpedance_right_r': 10.0, 'crddb_sourcelineowner': 'EmpresaLT', 'crddb_casedescription': 'Teste cruzamento 45 graus', 'crddb_c1c_vertical': 18.995, 'crddb_interferencetype': 2, 'crddb_term2_name': 'Term2', 'crddb_targetgroundimpedance_left_r': 10.0, 'crddb_exposurelength': 2500.0, '_crddb_coating_type_value': '9598ed21-ee98-ee11-be37-000d3a1f576d', 'crddb_safelimits_currdensity': 100.0, 'crddb_c1phasesequence': 1, 'crddb_c1a_horizontal': 0.0, 'crddb_nominalfaultcurrent_1phase_term1_phase': 0.0, 'crddb_safelimits_rectifier': 1000.0, 'crddb_faultlocation_section': '15', 'crddb_nominalfaultcurrent_1phase_term2_phase': 0.0, 'crddb_coordinatesfile_source_name': 'LT_VM100.csv', 'crddb_mitigation_covermaterialthickness': 0.1, 'crddb_contributionfaultcurrent_term1_phase': 0.0, 'crddb_groundimpedance_terminal2_x': 0.0, 'crddb_safelimits_steadystate': 15.0, 'crddb_steadystatecurrent': 670.0, 'crddb_c1c_alpha': 45.0, 'statuscode': 1, 'createdon': '2023-11-07T00:13:40Z', 'crddb_c1c_sep': 0.4, 'crddb_spansafteremizone': 5, 'crddb_nominalfaultcurrent_3phase_term2_mod': 2370.0, 'crddb_nominalfaultcurrent_3phase_term1_phase': 0.0, 'crddb_nominalfaultcurrent_3phase_term2_phase': 0.0, 'crddb_c1c_horizontal': 28.41, 'crddb_linevoltage': 138.0, 'crddb_jobstatus': 1, 'crddb_c1c_numcond': 4, 'crddb_c1a_numcond': 4, 'versionnumber': 4758090, 'crddb_coatingdatathickness': 0.0, 'crddb_jobid': 'ROW-1004L5J9', 'crddb_nominalfaultcurrent_1phase_term2_mod': 4640.0, 'crddb_averagespanlength': 100.0, 'crddb_mitigation_covermaterial': 'Brita nº. 4', 'crddb_targetline': 'Duto teste', '_crddb_faullocationsoilresistivity_value': 'a08a3884-cc92-ee11-be37-000d3a1f576d', '_crddb_projectid_value': '62560189-fe7c-ee11-8179-000d3a1f576d', 'crddb_c1b_alpha': 45.0, '_crddb_sw1_condtype_value': '72ab56d1-cb92-ee11-be37-000d3a1f576d', 'crddb_coatingdataresistivity': 100000000.0, 'crddb_shieldwirehorizontal1': 11.25, 'crddb_safelimits_faultduration': 1000.0, 'crddb_coordinatesfile_target_name': 'Gas_VM50_CRUZ_45graus.csv', '_modifiedby_value': '69d46714-c7eb-ed11-8849-000d3a17a888', 'crddb_pipediameter': 10.0, '_createdby_value': 'eade9878-0d57-ee11-be6f-000d3a1f576d', 'crddb_groundimpedance_terminal1_x': 0.0, 'crddb_shieldwirevertical2': 24.99, 'crddb_shieldwirevertical1': 24.99, 'crddb_counterpoiselength': 100.0, 'crddb_groundimpedance_terminal1_r': 1.0, 'crddb_autorowreportinputsessionid': '55329a7f-027d-ee11-8179-000d3a1f576d', 'crddb_groundimpedance_towers_r': 15.0, '_crddb_pipeconductortype_value': 'f2e82abc-4394-ee11-be37-000d3a1f576d', 'crddb_sourceline': 'Linha teste', 'crddb_c1a_alpha': 45.0, 'crddb_targetgroundimpedance_left_x': 0.0, 'crddb_groundimpedance_towers_x': 0.0, 'crddb_safelimits_insuljoint': 2500.0, 'crddb_shieldwirehorizontal2': 22.5, 'crddb_c1a_sep': 0.4, '_owningbusinessunit_value': '77cd6714-c7eb-ed11-8849-000d3a17a888', 'crddb_faultlocation_epicenter_x': 0.0, 'crddb_faultlocation_epicenter_y': 0.0, 'crddb_mitigation_covermaterialresistivity': 3000.0, 'crddb_c1a_vertical': 18.995, 'crddb_safelimits_coating': 5000.0, '_crddb_c1b_condtype_value': '72ab56d1-cb92-ee11-be37-000d3a1f576d', 'crddb_coatingdatatype': 'PE3L', 'crddb_targetgroundimpedance_right_x': 0.0, 'crddb_c1b_horizontal': 14.205, 'crddb_c2a_vertical': None, 'crddb_c2b_alpha': None, 'crddb_c2b_horizontal': None, 'crddb_c2c_numcond': None, 'importsequencenumber': None, 'utcconversiontimezonecode': None, 'overriddencreatedon': None, 'crddb_c2phasesequence': None, 'crddb_nominalfaultcurrent_3phase_term1_mod': None, '_crddb_c2b_condtype_value': None, '_crddb_c2a_condtype_value': None, 'timezoneruleversionnumber': None, '_owningteam_value': None, 'crddb_c2b_numcond': None, '_modifiedonbehalfby_value': None, 'crddb_c2c_alpha': None, 'crddb_c2a_horizontal': None, '_createdonbehalfby_value': None, 'crddb_c2c_vertical': None, 'crddb_progress': None, 'crddb_c1b_numcond': None, 'crddb_c2c_horizontal': None, 'crddb_c2a_sep': None, '_crddb_authorizationticket_value': None, 'crddb_c2b_vertical': None, 'crddb_c2b_sep': None, 'crddb_c2a_numcond': None, 'crddb_c2c_sep': None, 'crddb_c2a_alpha': None, '_crddb_c2c_condtype_value': None}, {'@odata.etag': 'W/\"3602231\"', 'crddb_c1b_sep': None, 'crddb_contributionfaultcurrent_term1_mod': None, 'crddb_crosssection_targety': None, 'crddb_contributionfaultcurrent_term2_phase': None, '_ownerid_value': '69d46714-c7eb-ed11-8849-000d3a17a888', 'crddb_spansbeforeemizone': None, 'statecode': 0, 'crddb_contributionfaultcurrent_term2_mod': None, 'crddb_circuittype': None, 'crddb_groundimpedance_terminal2_r': None, 'crddb_approxtype': 1, 'crddb_coordinatesfile_source': None, '_crddb_c1c_condtype_value': None, '_crddb_sw2_condtype_value': None, 'crddb_coordinatesfile_target': None, 'crddb_term1_name': None, 'crddb_safelimits_bodycurrent': None, 'crddb_c1b_vertical': None, 'crddb_targetlinetype': None, 'crddb_targetlineowner': None, 'modifiedon': '2023-10-07T13:19:50Z', '_owninguser_value': '69d46714-c7eb-ed11-8849-000d3a17a888', 'crddb_safelimits_rb': None, '_crddb_c1a_condtype_value': None, 'crddb_nominalfaultcurrent_1phase_term1_mod': None, 'crddb_targetgroundimpedance_right_r': None, 'crddb_sourcelineowner': None, 'crddb_casedescription': 'Caso teste', 'crddb_c1c_vertical': None, 'crddb_interferencetype': 2, 'crddb_term2_name': None, 'crddb_targetgroundimpedance_left_r': None, 'crddb_exposurelength': None, '_crddb_coating_type_value': None, 'crddb_safelimits_currdensity': None, 'crddb_c1phasesequence': None, 'crddb_c1a_horizontal': None, 'crddb_nominalfaultcurrent_1phase_term1_phase': None, 'crddb_safelimits_rectifier': None, 'crddb_faultlocation_section': None, 'crddb_nominalfaultcurrent_1phase_term2_phase': None, 'crddb_coordinatesfile_source_name': None, 'crddb_mitigation_covermaterialthickness': None, 'crddb_contributionfaultcurrent_term1_phase': None, 'crddb_groundimpedance_terminal2_x': None, 'crddb_safelimits_steadystate': None, 'crddb_steadystatecurrent': None, 'crddb_c1c_alpha': None, 'statuscode': 1, 'createdon': '2023-05-21T18:22:27Z', 'crddb_c1c_sep': None, 'crddb_spansafteremizone': None, 'crddb_nominalfaultcurrent_3phase_term2_mod': None, 'crddb_nominalfaultcurrent_3phase_term1_phase': None, 'crddb_nominalfaultcurrent_3phase_term2_phase': None, 'crddb_c1c_horizontal': None, 'crddb_linevoltage': None, 'crddb_jobstatus': 4, 'crddb_c1c_numcond': None, 'crddb_c1a_numcond': None, 'versionnumber': 3602231, 'crddb_coatingdatathickness': None, 'crddb_jobid': 'ROW-1002L5M5', 'crddb_nominalfaultcurrent_1phase_term2_mod': None, 'crddb_averagespanlength': None, 'crddb_mitigation_covermaterial': None, 'crddb_targetline': None, '_crddb_faullocationsoilresistivity_value': None, '_crddb_projectid_value': '2018e5fb-e8f7-ed11-8848-000d3a1f576d', 'crddb_c1b_alpha': None, '_crddb_sw1_condtype_value': None, 'crddb_coatingdataresistivity': None, 'crddb_shieldwirehorizontal1': None, 'crddb_safelimits_faultduration': None, 'crddb_coordinatesfile_target_name': None, '_modifiedby_value': 'eade9878-0d57-ee11-be6f-000d3a1f576d', 'crddb_pipediameter': None, '_createdby_value': '69d46714-c7eb-ed11-8849-000d3a17a888', 'crddb_groundimpedance_terminal1_x': None, 'crddb_shieldwirevertical2': None, 'crddb_shieldwirevertical1': None, 'crddb_counterpoiselength': None, 'crddb_groundimpedance_terminal1_r': None, 'crddb_autorowreportinputsessionid': '7451df6f-04f8-ed11-8848-000d3a1f576d', 'crddb_groundimpedance_towers_r': None, '_crddb_pipeconductortype_value': None, 'crddb_sourceline': 'Source', 'crddb_c1a_alpha': None, 'crddb_targetgroundimpedance_left_x': None, 'crddb_groundimpedance_towers_x': None, 'crddb_safelimits_insuljoint': None, 'crddb_shieldwirehorizontal2': None, 'crddb_c1a_sep': None, '_owningbusinessunit_value': '77cd6714-c7eb-ed11-8849-000d3a17a888', 'crddb_faultlocation_epicenter_x': None, 'crddb_faultlocation_epicenter_y': None, 'crddb_mitigation_covermaterialresistivity': None, 'crddb_c1a_vertical': None, 'crddb_safelimits_coating': None, '_crddb_c1b_condtype_value': None, 'crddb_coatingdatatype': None, 'crddb_targetgroundimpedance_right_x': None, 'crddb_c1b_horizontal': None, 'crddb_c2a_vertical': None, 'crddb_c2b_alpha': None, 'crddb_c2b_horizontal': None, 'crddb_c2c_numcond': None, 'importsequencenumber': None, 'utcconversiontimezonecode': None, 'overriddencreatedon': None, 'crddb_c2phasesequence': None, 'crddb_nominalfaultcurrent_3phase_term1_mod': None, '_crddb_c2b_condtype_value': None, '_crddb_c2a_condtype_value': None, 'timezoneruleversionnumber': None, '_owningteam_value': None, 'crddb_c2b_numcond': None, '_modifiedonbehalfby_value': None, 'crddb_c2c_alpha': None, 'crddb_c2a_horizontal': None, '_createdonbehalfby_value': None, 'crddb_c2c_vertical': None, 'crddb_progress': 50, 'crddb_c1b_numcond': None, 'crddb_c2c_horizontal': None, 'crddb_c2a_sep': None, '_crddb_authorizationticket_value': None, 'crddb_c2b_vertical': None, 'crddb_c2b_sep': None, 'crddb_c2a_numcond': None, 'crddb_c2c_sep': None, 'crddb_c2a_alpha': None, '_crddb_c2c_condtype_value': None}]}\n"
     ]
    }
   ],
   "source": [
    "# Initialize WebDriver for Chrome\n",
    "driver = webdriver.Chrome()\n",
    "\n",
    "# Azure AD and OAuth2.0 parameters\n",
    "url = 'https://org425ee2cf.api.crm.dynamics.com'\n",
    "client_id = '51f81489-12ee-4a9e-aaae-a2591f45987d'\n",
    "callback_base_url = 'https://localhost'\n",
    "\n",
    "# Construct authorization URL\n",
    "auth_url = (\n",
    "    f'https://login.microsoftonline.com/common/oauth2/authorize?'\n",
    "    f'client_id={client_id}&response_type=code&redirect_uri={callback_base_url}&resource={url}'\n",
    ")\n",
    "\n",
    "# Retrieve callback URL after authentication\n",
    "callback_url = take_callback_url(auth_url, driver, user, password)\n",
    "\n",
    "# Get access token\n",
    "access_token = get_access_token(callback_url, client_id, callback_base_url, url)\n",
    "\n",
    "# Define Dynamics CRM API endpoint\n",
    "api_endpoint = 'https://org425ee2cf.crm.dynamics.com/api/data/v9.2/crddb_autorowreportinputsessions?$top=10'\n",
    "\n",
    "# Make authenticated request\n",
    "data = make_authenticated_request(access_token, api_endpoint)\n",
    "\n",
    "# Process the response\n",
    "print(data)\n",
    "\n",
    "# Create DataFrame from response data\n",
    "data_df = pd.DataFrame(data['value'])\n",
    "data_df.set_index(\"crddb_autorowreportinputsessionid\", inplace=True)\n"
   ]
  },
  {
   "cell_type": "code",
   "execution_count": 4,
   "metadata": {},
   "outputs": [
    {
     "name": "stdout",
     "output_type": "stream",
     "text": [
      "O dataset não possui colunas com nomes iguais.\n"
     ]
    },
    {
     "data": {
      "text/plain": [
       "False"
      ]
     },
     "execution_count": 4,
     "metadata": {},
     "output_type": "execute_result"
    }
   ],
   "source": [
    "#  Chame a função e passe o caminho do seu dataset como argumento\n",
    "check_equal_columns(data_df)"
   ]
  },
  {
   "cell_type": "markdown",
   "metadata": {},
   "source": [
    "## Coordinate LT"
   ]
  },
  {
   "cell_type": "code",
   "execution_count": 5,
   "metadata": {},
   "outputs": [
    {
     "name": "stdout",
     "output_type": "stream",
     "text": [
      "File downloaded successfully.\n",
      "File downloaded successfully.\n",
      "Failed to download the file. Status code: 404\n",
      "Failed to download the file. Status code: 404\n"
     ]
    }
   ],
   "source": [
    "id_projects = list(data_df.index)\n",
    "name_target = list(data_df['crddb_coordinatesfile_target_name'])\n",
    "name_source = list(data_df['crddb_coordinatesfile_source_name'])\n",
    "\n",
    "for i, target, source in zip(id_projects, name_target, name_source):\n",
    "    downloaded_file(i, 'target', target, access_token)\n",
    "    downloaded_file(i, 'source', source, access_token)\n",
    "        "
   ]
  },
  {
   "cell_type": "code",
   "execution_count": 6,
   "metadata": {},
   "outputs": [],
   "source": [
    "lt_coor = pd.read_csv(name_source[0], header=None)\n",
    "\n",
    "n_points_before = data_df['crddb_spansbeforeemizone'][0]  # Number of points to add before\n",
    "n_points_after = data_df['crddb_spansafteremizone'][0]   # Number of points to add after\n",
    "distance_between_points = data_df['crddb_averagespanlength'][0]  # Euclidean distance between points\n",
    "\n",
    "lt_coor_ = create_orientation_points(\n",
    "    lt_coor, n_points_before, n_points_after, distance_between_points)\n",
    "\n",
    "lt_coor_final = lt_coor_[[0,1]]\n",
    "lt_coor_final = lt_coor_final.astype(float)\n",
    "new_row = lt_coor_final.iloc[0].copy() + 0.01\n",
    "\n",
    "# Insert the new row at index 0\n",
    "lt_coor_final = pd.concat([pd.DataFrame(new_row).transpose(), lt_coor_final], ignore_index=True)"
   ]
  },
  {
   "cell_type": "markdown",
   "metadata": {},
   "source": [
    "# Monitor Fault"
   ]
  },
  {
   "cell_type": "code",
   "execution_count": 7,
   "metadata": {},
   "outputs": [],
   "source": [
    "from tools_fault import *"
   ]
  },
  {
   "cell_type": "markdown",
   "metadata": {},
   "source": [
    "Parâmetros relativos ao tipo de circuito"
   ]
  },
  {
   "cell_type": "code",
   "execution_count": 8,
   "metadata": {},
   "outputs": [],
   "source": [
    "circuit_type = data_df.iloc[0]['crddb_circuittype']  \n",
    "\n",
    "victim_phase = 5 if circuit_type == 1 else 8\n",
    "ref_phase = 4 if circuit_type == 1 else 7\n",
    "ref_phase = 4 if circuit_type == 1 else 7"
   ]
  },
  {
   "cell_type": "markdown",
   "metadata": {},
   "source": [
    "Contribution"
   ]
  },
  {
   "cell_type": "code",
   "execution_count": 9,
   "metadata": {},
   "outputs": [
    {
     "name": "stdout",
     "output_type": "stream",
     "text": [
      "Contribution from terminal 1: Magnitude 5000.0 Angle 0.0\n",
      "Contribution from terminal 1: Magnitude 5000.0 Angle 0.0\n"
     ]
    }
   ],
   "source": [
    "contri_term1_mod = data_df['crddb_contributionfaultcurrent_term1_mod'][0]\n",
    "contri_term2_mod = data_df['crddb_contributionfaultcurrent_term2_mod'][0]\n",
    "\n",
    "contri_term1_phase = data_df['crddb_contributionfaultcurrent_term1_phase'][0]\n",
    "contri_term2_phase = data_df['crddb_contributionfaultcurrent_term2_phase'][0]\n",
    "\n",
    "print(f'Contribution from terminal 1: Magnitude {contri_term1_mod} Angle {contri_term1_phase}')\n",
    "print(f'Contribution from terminal 1: Magnitude {contri_term2_mod} Angle {contri_term2_phase}')"
   ]
  },
  {
   "cell_type": "markdown",
   "metadata": {},
   "source": [
    "Fault Location"
   ]
  },
  {
   "cell_type": "code",
   "execution_count": 10,
   "metadata": {},
   "outputs": [
    {
     "data": {
      "text/plain": [
       "15"
      ]
     },
     "execution_count": 10,
     "metadata": {},
     "output_type": "execute_result"
    }
   ],
   "source": [
    "faultLocation_Section = int(data_df[\"crddb_faultlocation_section\"][0])\n",
    "faultLocation_Section"
   ]
  },
  {
   "cell_type": "code",
   "execution_count": 11,
   "metadata": {},
   "outputs": [
    {
     "name": "stdout",
     "output_type": "stream",
     "text": [
      "Length between the start and end points of the DataFrame: 3220\n"
     ]
    }
   ],
   "source": [
    "length = calculate_length(lt_coor_final)\n",
    "length = math.ceil(length)\n",
    "print(f\"Length between the start and end points of the DataFrame: {length}\")"
   ]
  },
  {
   "cell_type": "code",
   "execution_count": 12,
   "metadata": {},
   "outputs": [],
   "source": [
    "fault = f'''  MONITOR-FAULt\n",
    "    REF-SPLITS-FILE,YES,.\\Sp_SteadyState_0.f05\n",
    "      FAULT-PHASE,1\n",
    "      REF-PHASE,{ref_phase}\n",
    "      CONNECTION-Impedance,0.0001,0\n",
    "      SOURCE-TYPE,1\n",
    "        SOURCE_CURRENT,Linear,\n",
    "      LOCATION-TYPE,SECTION,1000\n",
    "      TERMINAL,Term1\n",
    "      TERMINAL,Term2\n",
    "        LOCATION,{faultLocation_Section},{faultLocation_Section},1\n",
    "      MONITOR-DATA,YES\n",
    "        DATA,1,1,0,0,0,1,0\n",
    "        VICTIM-PHASE,{victim_phase}\n",
    "\n",
    "      CURRENT SOURCE\n",
    "        SOURCE-TERM,1,2\n",
    "        INTERPOLATED-PHASES,1\n",
    "        INTERPLT-METHOD,BasedOnFaultedPhase\n",
    "        KNOWNFAULT-Pts,2\n",
    "          FAULT-LOCATION,0\n",
    "            TERM_FAULTCURREN,{contri_term1_mod},{contri_term1_phase}\n",
    "            TERM_FAULTCURREN,{contri_term1_phase},{contri_term1_phase}\n",
    "          FAULT-LOCATION,{length}\n",
    "            TERM_FAULTCURREN,{contri_term2_mod},{contri_term2_phase}\n",
    "            TERM_FAULTCURREN,{contri_term2_phase},{contri_term2_phase}\n",
    "\n",
    "TOTAL-INTERFerence\n",
    "  FAULT-TYPE,ALL,0\n",
    "  ADDITION-MALZ,,2\n",
    "  INDUCTION,YES\n",
    "  SUBDIVISION,NO,0\n",
    "  SUBDIVISION,NO\n",
    "  WORKTYPE,PHASE\n",
    "  IMPED-CORRECT,NO\n",
    "  PATHS-PROFILES\n",
    "    WINDOW-PROFILES,NO,\n",
    "    INCLUDED-PATHS-PROFILES,YES,5\n",
    "    COATING-CORRECTION,YES,\n",
    "      SURFACE-PROFile,POINTS,1\n",
    "  TOWER-SELECTION,YES,\n",
    "    LIMIT-IMPEDAnce,20\n",
    "    LOCATION-PATh,4\n",
    "    ROTATETOWER,YES\n",
    "    EXPORT-TOWER-Ref,PATH\n",
    "    GROUND-CONFIguration,ARRAY,3,5,0.00794\n",
    "  ENERGIZATION-busses,CURRENT\n",
    "    SELECTION-PRocess\n",
    "      SHUNT-CURRENT,YES,1\n",
    "      TOWER-LOCATIon,NO\n",
    "      USE-TERMINAL-GRD,NO\n",
    "    GLOBAL-OFFSET,NO,-1000,-1000\n",
    "\n",
    "ENDPROGRAM'''"
   ]
  },
  {
   "cell_type": "code",
   "execution_count": 13,
   "metadata": {},
   "outputs": [
    {
     "name": "stdout",
     "output_type": "stream",
     "text": [
      "File 'C:/Codigos_VS/Projects/PowerApps/RW_SteadyState.f05' created with the modification.\n"
     ]
    }
   ],
   "source": [
    "# File paths\n",
    "input_file_path = 'C:/Codigos_VS/Projects/PowerApps/RW_SteadyState.f05'\n",
    "output_file_path = input_file_path # 'C:/Codigos_VS/Projects/PowerApps/RW_SteadyState.f05'\n",
    "\n",
    "# Text to search for and replacement text\n",
    "search_text = \"MONITOR-FAULt\"\n",
    "replacement_text = fault  # Replace with your desired text\n",
    "\n",
    "# Call the function to modify the file content and save to a new file\n",
    "modify_file_and_save(input_file_path, output_file_path, search_text, replacement_text)\n"
   ]
  }
 ],
 "metadata": {
  "kernelspec": {
   "display_name": "base",
   "language": "python",
   "name": "python3"
  },
  "language_info": {
   "codemirror_mode": {
    "name": "ipython",
    "version": 3
   },
   "file_extension": ".py",
   "mimetype": "text/x-python",
   "name": "python",
   "nbconvert_exporter": "python",
   "pygments_lexer": "ipython3",
   "version": "3.11.5"
  }
 },
 "nbformat": 4,
 "nbformat_minor": 2
}
