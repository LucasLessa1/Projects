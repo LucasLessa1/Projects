{
 "cells": [
  {
   "cell_type": "code",
   "execution_count": 1,
   "metadata": {},
   "outputs": [],
   "source": [
    "def save_to_txt_file(file_name, content):\n",
    "    with open(file_name, 'w') as file:\n",
    "        file.write(content)\n",
    "    print(f\"Content successfully saved to '{file_name}'.\")"
   ]
  },
  {
   "cell_type": "code",
   "execution_count": 2,
   "metadata": {},
   "outputs": [],
   "source": [
    "ground_point_LT = 1\n",
    "ground_point_DT = 2\n",
    "cartesian1 = 1\n",
    "#Lembrar que no Power Apps eu tenho que calucar isso com a corrente nominal\n",
    "r_abc = 574   \n",
    "x_abc = 0\n",
    "r_sw = 1354   \n",
    "x_sw = 0\n",
    "r_pipe = 80\n",
    "x_pipe = 0\n",
    "\n",
    "polar2 = 2   # Praticamente sempre\n",
    "voltage_mag_kv = 1 #pu\n",
    "voltage_mag_kv_other = 0 #pu\n",
    "voltage_ang_deg = 0\n",
    "polar2 = 2\n",
    "current_mag_ka = 0\n",
    "current_ang_deg = 0\n",
    "\n",
    "phase_a_term1 = {'name': 'a','id': 1, 'ph':1, \"ground_point\":ground_point_LT,\"cartesian1\" : cartesian1 ,\"R\" : r_abc,\"X\" : x_abc\n",
    "           ,\"polar2\" : polar2,\"voltage_mag_kv\": voltage_mag_kv ,\"voltage_ang_deg\":voltage_ang_deg \n",
    "           ,\"current_mag_ka\": 0, \"current_ang_deg\": 0}\n",
    "\n",
    "phase_b_term1 = {'name': 'b','id': 2, 'ph':2, \"ground_point\":ground_point_LT,\"cartesian1\" : cartesian1 ,\"R\" : r_abc,\"X\" : x_abc\n",
    "           ,\"polar2\" : polar2,\"voltage_mag_kv\": voltage_mag_kv_other ,\"voltage_ang_deg\":voltage_ang_deg \n",
    "           ,\"current_mag_ka\": 0, \"current_ang_deg\": 0}\n",
    "phase_c_term1 = {'name': 'c','id': 3, 'ph':3, \"ground_point\":ground_point_LT,\"cartesian1\" : cartesian1 ,\"R\" : r_abc,\"X\" : x_abc\n",
    "           ,\"polar2\" : polar2,\"voltage_mag_kv\": voltage_mag_kv_other ,\"voltage_ang_deg\":voltage_ang_deg \n",
    "           ,\"current_mag_ka\": 0, \"current_ang_deg\": 0}\n",
    "phase_sw1_term1 = {'name': 'e_sw1','id': 4, 'ph':4, \"ground_point\":ground_point_LT,\"cartesian1\" : cartesian1 ,\"R\" : r_sw,\"X\" : x_sw\n",
    "           ,\"polar2\" : polar2,\"voltage_mag_kv\": voltage_mag_kv_other ,\"voltage_ang_deg\":voltage_ang_deg \n",
    "           ,\"current_mag_ka\": 0, \"current_ang_deg\": 0}\n",
    "phase_sw2_term1 = {'name': 'f_sw2','id': 5, 'ph':5, \"ground_point\":ground_point_LT,\"cartesian1\" : cartesian1 ,\"R\" : r_sw,\"X\" : x_sw\n",
    "           ,\"polar2\" : polar2,\"voltage_mag_kv\": voltage_mag_kv_other ,\"voltage_ang_deg\":voltage_ang_deg \n",
    "           ,\"current_mag_ka\": 0, \"current_ang_deg\": 0}\n",
    "phase_pipe_term1 = {'name': 'pipe','id': 6, 'ph':6, \"ground_point\":ground_point_DT,\"cartesian1\" : cartesian1 ,\"R\" : r_pipe,\"X\" : x_pipe\n",
    "           ,\"polar2\" : polar2,\"voltage_mag_kv\": voltage_mag_kv_other ,\"voltage_ang_deg\":voltage_ang_deg \n",
    "           ,\"current_mag_ka\": 0, \"current_ang_deg\": 0}"
   ]
  },
  {
   "cell_type": "code",
   "execution_count": 3,
   "metadata": {},
   "outputs": [],
   "source": [
    "ground_point_LT = 1\n",
    "ground_point_DT = 2\n",
    "cartesian1 = 1\n",
    "#Lembrar que no Power Apps eu tenho que calucar isso com a corrente nominal\n",
    "r_abc = 574   \n",
    "x_abc = 0\n",
    "r_sw = 1354   \n",
    "x_sw = 0\n",
    "r_pipe = 80\n",
    "x_pipe = 0\n",
    "\n",
    "polar2 = 2   # Praticamente sempre\n",
    "voltage_mag_kv = 0 #pu\n",
    "voltage_mag_kv_other = 0 #pu\n",
    "voltage_ang_deg = 0\n",
    "polar2 = 2\n",
    "current_mag_ka = 0\n",
    "current_ang_deg = 0\n",
    "\n",
    "phase_a_term2 = {'name': 'a','id': 1, 'ph':1, \"ground_point\":ground_point_LT,\"cartesian1\" : cartesian1 ,\"R\" : r_abc,\"X\" : x_abc\n",
    "           ,\"polar2\" : polar2,\"voltage_mag_kv\": voltage_mag_kv ,\"voltage_ang_deg\":voltage_ang_deg \n",
    "           ,\"current_mag_ka\": 0, \"current_ang_deg\": 0}\n",
    "\n",
    "phase_b_term2 = {'name': 'b','id': 2, 'ph':2, \"ground_point\":ground_point_LT,\"cartesian1\" : cartesian1 ,\"R\" : r_abc,\"X\" : x_abc\n",
    "           ,\"polar2\" : polar2,\"voltage_mag_kv\": voltage_mag_kv_other ,\"voltage_ang_deg\":voltage_ang_deg \n",
    "           ,\"current_mag_ka\": 0, \"current_ang_deg\": 0}\n",
    "phase_c_term2 = {'name': 'c','id': 3, 'ph':3, \"ground_point\":ground_point_LT,\"cartesian1\" : cartesian1 ,\"R\" : r_abc,\"X\" : x_abc\n",
    "           ,\"polar2\" : polar2,\"voltage_mag_kv\": voltage_mag_kv_other ,\"voltage_ang_deg\":voltage_ang_deg \n",
    "           ,\"current_mag_ka\": 0, \"current_ang_deg\": 0}\n",
    "phase_sw1_term2 = {'name': 'e_sw1','id': 4, 'ph':4, \"ground_point\":ground_point_LT,\"cartesian1\" : cartesian1 ,\"R\" : r_sw,\"X\" : x_sw\n",
    "           ,\"polar2\" : polar2,\"voltage_mag_kv\": voltage_mag_kv_other ,\"voltage_ang_deg\":voltage_ang_deg \n",
    "           ,\"current_mag_ka\": 0, \"current_ang_deg\": 0}\n",
    "phase_sw2_term2 = {'name': 'f_sw2','id': 5, 'ph':5, \"ground_point\":ground_point_LT,\"cartesian1\" : cartesian1 ,\"R\" : r_sw,\"X\" : x_sw\n",
    "           ,\"polar2\" : polar2,\"voltage_mag_kv\": voltage_mag_kv_other ,\"voltage_ang_deg\":voltage_ang_deg \n",
    "           ,\"current_mag_ka\": 0, \"current_ang_deg\": 0}\n",
    "phase_pipe_term2 = {'name': 'pipe','id': 6, 'ph':6, \"ground_point\":ground_point_DT,\"cartesian1\" : cartesian1 ,\"R\" : r_pipe,\"X\" : x_pipe\n",
    "           ,\"polar2\" : polar2,\"voltage_mag_kv\": voltage_mag_kv_other ,\"voltage_ang_deg\":voltage_ang_deg \n",
    "           ,\"current_mag_ka\": 0, \"current_ang_deg\": 0}"
   ]
  },
  {
   "cell_type": "markdown",
   "metadata": {},
   "source": [
    "#### Energization"
   ]
  },
  {
   "cell_type": "markdown",
   "metadata": {},
   "source": [
    "##### LT"
   ]
  },
  {
   "cell_type": "code",
   "execution_count": 4,
   "metadata": {},
   "outputs": [
    {
     "name": "stdout",
     "output_type": "stream",
     "text": [
      "        ENERGIZATION,VOLTAGE,1,1,1,1,574,0,2,1,0,2,0,0\n",
      "        ENERGIZATION,VOLTAGE,2,2,1,1,574,0,2,0,0,2,0,0\n",
      "        ENERGIZATION,VOLTAGE,3,3,1,1,574,0,2,0,0,2,0,0\n",
      "        ENERGIZATION,VOLTAGE,4,4,1,1,1354,0,2,0,0,2,0,0\n",
      "        ENERGIZATION,VOLTAGE,5,5,1,1,1354,0,2,0,0,2,0,0\n",
      "        ENERGIZATION,VOLTAGE,6,6,2,1,80,0,2,0,0,2,0,0\n"
     ]
    }
   ],
   "source": [
    "lista = []\n",
    "energization_info = [phase_a_term1, phase_b_term1, phase_c_term1, phase_sw1_term1, phase_sw2_term1, phase_pipe_term1]\n",
    "for i in energization_info:\n",
    "    lista.append(f'        ENERGIZATION,VOLTAGE,{i[\"id\"]},{i[\"ph\"]},{i[\"ground_point\"]},{i[\"cartesian1\"]},{i[\"R\"]},{i[\"X\"]},{i[\"polar2\"]},{i[\"voltage_mag_kv\"]},{i[\"voltage_ang_deg\"]},{i[\"polar2\"]},{i[\"current_mag_ka\"]},{i[\"current_ang_deg\"]}')\n",
    "\n",
    "energization_LT = '\\n'.join(lista)\n",
    "print(energization_LT)"
   ]
  },
  {
   "cell_type": "markdown",
   "metadata": {},
   "source": [
    "##### DT"
   ]
  },
  {
   "cell_type": "code",
   "execution_count": 5,
   "metadata": {},
   "outputs": [
    {
     "name": "stdout",
     "output_type": "stream",
     "text": [
      "        ENERGIZATION,VOLTAGE,1,1,1,1,574,0,2,0,0,2,0,0\n",
      "        ENERGIZATION,VOLTAGE,2,2,1,1,574,0,2,0,0,2,0,0\n",
      "        ENERGIZATION,VOLTAGE,3,3,1,1,574,0,2,0,0,2,0,0\n",
      "        ENERGIZATION,VOLTAGE,4,4,1,1,1354,0,2,0,0,2,0,0\n",
      "        ENERGIZATION,VOLTAGE,5,5,1,1,1354,0,2,0,0,2,0,0\n",
      "        ENERGIZATION,VOLTAGE,6,6,2,1,80,0,2,0,0,2,0,0\n"
     ]
    }
   ],
   "source": [
    "lista = []\n",
    "energization_info = [phase_a_term2, phase_b_term2, phase_c_term2, phase_sw1_term2, phase_sw2_term2, phase_pipe_term2]\n",
    "for i in energization_info:\n",
    "    lista.append(f'        ENERGIZATION,VOLTAGE,{i[\"id\"]},{i[\"ph\"]},{i[\"ground_point\"]},{i[\"cartesian1\"]},{i[\"R\"]},{i[\"X\"]},{i[\"polar2\"]},{i[\"voltage_mag_kv\"]},{i[\"voltage_ang_deg\"]},{i[\"polar2\"]},{i[\"current_mag_ka\"]},{i[\"current_ang_deg\"]}')\n",
    "\n",
    "energization_DT = '\\n'.join(lista)\n",
    "print(energization_DT)"
   ]
  },
  {
   "cell_type": "code",
   "execution_count": 6,
   "metadata": {},
   "outputs": [],
   "source": [
    "# ENERGIZATION,VOLTAGE,1,1,1,1,574,0,2,0,0,2,0,0\n",
    "# ENERGIZATION,VOLTAGE,2,2,1,1,574,0,2,0,0,2,0,0\n",
    "# ENERGIZATION,VOLTAGE,3,3,1,1,574,0,2,0,0,2,0,0\n",
    "# ENERGIZATION,VOLTAGE,4,4,1,1,1354,0,2,0,0,2,0,0\n",
    "# ENERGIZATION,VOLTAGE,5,5,1,1,1354,0,2,0,0,2,0,0\n",
    "# ENERGIZATION,VOLTAGE,6,6,2,1,80,0,2,0,0,2,0,0"
   ]
  },
  {
   "cell_type": "code",
   "execution_count": 7,
   "metadata": {},
   "outputs": [],
   "source": [
    "# lista = []\n",
    "# energization_info = [phase_a, phase_b, phase_c, phase_sw1, phase_sw2, phase_pipe]\n",
    "# for i in energization_info:\n",
    "#     lista.append(f'    ENERGIZATION,VOLTAGE,{i[\"id\"]},{i[\"ph\"]},{i[\"ground_point\"]},{i[\"cartesian1\"]},{i[\"R\"]},{i[\"X\"]},{i[\"polar2\"]},{i[\"voltage_mag_kv\"]},{i[\"voltage_ang_deg\"]},{i[\"polar2\"]},{i[\"current_mag_ka\"]},{i[\"current_ang_deg\"]}')\n",
    "\n",
    "# energization_LT = '\\n'.join(lista)\n",
    "# print(energization_LT)"
   ]
  },
  {
   "cell_type": "markdown",
   "metadata": {},
   "source": [
    " ENERGIZATION,VOLTAGE,ph_no,ph,ground_point,cartesian1,R,X,polar2,voltage_mag_kv,voltage_ang_deg,polar2,current_mag_ka,current_ang_deg\n"
   ]
  },
  {
   "cell_type": "markdown",
   "metadata": {},
   "source": [
    "### Polyline 1 LT"
   ]
  },
  {
   "cell_type": "code",
   "execution_count": 8,
   "metadata": {},
   "outputs": [
    {
     "data": {
      "text/plain": [
       "(',1,,-500,0,0,0,1,0,1,0', ',2,,0,0,0,1,1,0,1,0', ',3,,500,0,0,2,1,0,1,0')"
      ]
     },
     "execution_count": 8,
     "metadata": {},
     "output_type": "execute_result"
    }
   ],
   "source": [
    "    # POLYLINE,1,LT\n",
    "    #   POINT,1,,-500,0,0,0,1,0,1,0\n",
    "    #   POINT,2,,0,0,0,1,1,0,1,0\n",
    "    #   POINT,3,,500,0,0,2,1,0,1,0\n",
    "xterm1_LT = -500\n",
    "yterm1_LT = 0\n",
    "xcentralside_LT = 0 \n",
    "ycentralside_LT = 0\n",
    "\n",
    "xterm2 = 500\n",
    "yterm2 = 0\n",
    "term1_LT_point1 = f\",1,,{xterm1_LT},{yterm1_LT},{xcentralside_LT},{ycentralside_LT},1,0,1,0\"\n",
    "central_side_LT_point2 = f\",2,,{xcentralside_LT},{ycentralside_LT},{'0,1'},1,0,1,0\"\n",
    "term2_LT_point3 = f\",3,,{xterm2},{yterm2},{'0,2'},1,0,1,0\"\n",
    "\n",
    "\n",
    "term1_LT_point1, central_side_LT_point2, term2_LT_point3"
   ]
  },
  {
   "cell_type": "code",
   "execution_count": 9,
   "metadata": {},
   "outputs": [
    {
     "data": {
      "text/plain": [
       "True"
      ]
     },
     "execution_count": 9,
     "metadata": {},
     "output_type": "execute_result"
    }
   ],
   "source": [
    "term2_LT_point3 == ',3,,500,0,0,2,1,0,1,0'"
   ]
  },
  {
   "cell_type": "markdown",
   "metadata": {},
   "source": [
    "### Polyline 2 DT"
   ]
  },
  {
   "cell_type": "code",
   "execution_count": 10,
   "metadata": {},
   "outputs": [
    {
     "data": {
      "text/plain": [
       "(',1,,-500,10,0,10,0,0,2,0', ',2,,0,10,0,0,0,0,2,0', ',3,,500,10,0,0,0,0,2,0')"
      ]
     },
     "execution_count": 10,
     "metadata": {},
     "output_type": "execute_result"
    }
   ],
   "source": [
    "# POINT,1,,-500,10,0,0,0,0,2,0\n",
    "# POINT,2,,0,10,0,0,0,0,2,0\n",
    "# POINT,3,,500,10,0,0,0,0,2,0\n",
    "\n",
    "\n",
    "xterm1_DT = -500\n",
    "yterm1_DT = 10\n",
    "xcentralside_DT = 0 \n",
    "ycentralside_DT = 10\n",
    "\n",
    "xterm2 = 500\n",
    "yterm2 = 10\n",
    "term1_DT_point1 = f\",1,,{xterm1_DT},{yterm1_DT},{xcentralside_DT},{ycentralside_DT},0,0,2,0\"\n",
    "central_side_DT_point2 = f\",2,,{xcentralside_DT},{ycentralside_DT},{'0,0'},0,0,2,0\"\n",
    "term2_DT_point3 = f\",3,,{xterm2},{yterm2},{'0,0'},0,0,2,0\"\n",
    "\n",
    "\n",
    "term1_DT_point1, central_side_DT_point2, term2_DT_point3, "
   ]
  },
  {
   "cell_type": "code",
   "execution_count": 11,
   "metadata": {},
   "outputs": [
    {
     "data": {
      "text/plain": [
       "True"
      ]
     },
     "execution_count": 11,
     "metadata": {},
     "output_type": "execute_result"
    }
   ],
   "source": [
    "term2_DT_point3 == ',3,,500,10,0,0,0,0,2,0'"
   ]
  },
  {
   "cell_type": "markdown",
   "metadata": {},
   "source": [
    "### Cross Section"
   ]
  },
  {
   "cell_type": "code",
   "execution_count": 12,
   "metadata": {},
   "outputs": [
    {
     "name": "stdout",
     "output_type": "stream",
     "text": [
      "  PHASE,1,a,1\n",
      "  PHASE,2,b,2\n",
      "  PHASE,3,c,3\n",
      "  PHASE,4,e_sw1,4\n",
      "  PHASE,5,f_sw2,5\n",
      "  PHASE,6,pipe,6\n"
     ]
    }
   ],
   "source": [
    "lista = []\n",
    "energization_info = [phase_a_term1, phase_b_term1, phase_c_term1, phase_sw1_term1, phase_sw2_term1, phase_pipe_term1]\n",
    "for i in energization_info:\n",
    "    lista.append(f'  PHASE,{i[\"id\"]},{i[\"name\"]},{i[\"ph\"]}')\n",
    "\n",
    "phase_cross_section = '\\n'.join(lista)\n",
    "print(phase_cross_section)"
   ]
  },
  {
   "cell_type": "markdown",
   "metadata": {},
   "source": [
    "#### Grosbeak"
   ]
  },
  {
   "cell_type": "code",
   "execution_count": 13,
   "metadata": {},
   "outputs": [],
   "source": [
    "grosbeak_info = {'Conductor_Name' : 'Grosbeak', 'inner_Radius' : 0.00463549979031086, 'outer_Radius' : 0.0125705003738403, 'relative_resistivity' : 2.28166460990906, 'dc_Resistance' : 0.0917143970727921, 'ac_Resistance' : 0.0922114998102188, 'relative_permeability' : 1.06434440612793, 'GMR' : 0.0102107999846339, 'X' : 0.256067007780075}\n",
    "grosbeak = f\"\"\"  COMPONENT-TYPE,1,Grosbeak\n",
    "    GROUP-COMPONENT,CONDUCTOR,1,Grosbeak,0,0,0,0\n",
    "      LAYER,CONDUCTOR,1,Grosbeak_Conductor\n",
    "        CONDUCTOR-CHARACTERISTICS,{grosbeak_info[\"inner_Radius\"]},{grosbeak_info[\"outer_Radius\"]},1,{grosbeak_info[\"relative_resistivity\"]},{grosbeak_info[\"dc_Resistance\"]},{grosbeak_info[\"ac_Resistance\"]},1,{grosbeak_info[\"relative_permeability\"]},{grosbeak_info[\"GMR\"]},{grosbeak_info[\"X\"]},1,26,0.00198628008365631,0.00463549979031086,7,0.00154432002454996,322.265960693359,636,,60,0,0\n",
    "          DB-CONDUCTOR_INFO,SYNCHRONIZEDWITHDB,Grosbeak,ACSR,60,0\"\"\""
   ]
  },
  {
   "cell_type": "code",
   "execution_count": 14,
   "metadata": {},
   "outputs": [],
   "source": [
    "# print(grosbeak)"
   ]
  },
  {
   "cell_type": "markdown",
   "metadata": {},
   "source": [
    "#### Pipe"
   ]
  },
  {
   "cell_type": "code",
   "execution_count": 15,
   "metadata": {},
   "outputs": [],
   "source": [
    "pipe_info = {'Conductor_Name' : 'Pipe10pol_mod', 'inner_Radius' : 0.1245, 'outer_Radius' : 0.1272, 'relative_resistivity' : 10, 'dc_Resistance' : '', 'ac_Resistance' : '', 'relative_permeability' : 300, 'GMR' : '', 'X' : ''}\n",
    "pipe = f\"\"\"  COMPONENT-TYPE,1,Pipe10pol_mod\n",
    "    GROUP-COMPONENT,CONDUCTOR,1,Pipe10pol_mod,0,0,0,0\n",
    "      LAYER,CONDUCTOR,1,Pipe10pol_mod_Conductor\n",
    "        CONDUCTOR-CHARACTERISTICS,{pipe_info['inner_Radius']},{pipe_info['outer_Radius']},0,{pipe_info['relative_resistivity']},{pipe_info['dc_Resistance']},{pipe_info['ac_Resistance']},0,{pipe_info['relative_permeability']},{pipe_info['GMR']},{pipe_info['X']},0,,,0.127254009246826,,,7682.7451171875,15162.091796875,,60,0,0\n",
    "          DB-CONDUCTOR_INFO,UNLINKEDFROMDB,10\" STD,Pipes-Steel,60,0\n",
    "      LAYER,INSULATION,2,Pipe10pol_mod_Conductor - Insulation\n",
    "        INSULATION-CHARACTERISTICS,RESISTIVITY,0.1272,0.2272,100000000,1,1\"\"\""
   ]
  },
  {
   "cell_type": "code",
   "execution_count": 16,
   "metadata": {},
   "outputs": [
    {
     "name": "stdout",
     "output_type": "stream",
     "text": [
      "  COMPONENT-TYPE,1,Pipe10pol_mod\n",
      "    GROUP-COMPONENT,CONDUCTOR,1,Pipe10pol_mod,0,0,0,0\n",
      "      LAYER,CONDUCTOR,1,Pipe10pol_mod_Conductor\n",
      "        CONDUCTOR-CHARACTERISTICS,0.1245,0.1272,0,10,,,0,300,,,0,,,0.127254009246826,,,7682.7451171875,15162.091796875,,60,0,0\n",
      "          DB-CONDUCTOR_INFO,UNLINKEDFROMDB,10\" STD,Pipes-Steel,60,0\n",
      "      LAYER,INSULATION,2,Pipe10pol_mod_Conductor - Insulation\n",
      "        INSULATION-CHARACTERISTICS,RESISTIVITY,0.1272,0.2272,100000000,1,1\n"
     ]
    }
   ],
   "source": [
    "print(pipe)"
   ]
  },
  {
   "cell_type": "markdown",
   "metadata": {},
   "source": [
    "#### Steel 3/8\""
   ]
  },
  {
   "cell_type": "code",
   "execution_count": 17,
   "metadata": {},
   "outputs": [],
   "source": [
    "steel38_info = {'Conductor_Name' : 'Steel 3/8\"', 'inner_Radius' : 0, 'outer_Radius' : 0.00457199988886714, 'relative_resistivity' : 13.0129995346069, 'dc_Resistance' : '', 'ac_Resistance' : 3.42313003540039, 'relative_permeability' : 13.871922492981, 'GMR' : '', 'X' : 0.577875018119812}\n",
    "steel38 = f\"\"\"  COMPONENT-TYPE,2,Steel 3/8\"\n",
    "    GROUP-COMPONENT,CONDUCTOR,1,Steel 3/8\",0,0,0,0\n",
    "      LAYER,CONDUCTOR,1,Steel 3/8\"_Conductor\n",
    "        CONDUCTOR-CHARACTERISTICS,{steel38_info['inner_Radius']},{steel38_info['outer_Radius']},2,{steel38_info['relative_resistivity']},{steel38_info['dc_Resistance']},{steel38_info['ac_Resistance']},2,{steel38_info['relative_permeability']},{steel38_info['GMR']},{steel38_info['X']},1,7,0.00152399996295571,0,,,51.076099395752,100.79997253418,,60,0,0\n",
    "          DB-CONDUCTOR_INFO,SYNCHRONIZEDWITHDB,3/8 EHS-CG,Steel,60,0\"\"\""
   ]
  },
  {
   "cell_type": "code",
   "execution_count": 18,
   "metadata": {},
   "outputs": [
    {
     "name": "stdout",
     "output_type": "stream",
     "text": [
      "  PHASE,1,a,1\n",
      "  PHASE,2,b,2\n",
      "  PHASE,3,c,3\n",
      "  PHASE,4,e_sw1,4\n",
      "  PHASE,5,f_sw2,5\n",
      "  PHASE,6,pipe,6\n"
     ]
    }
   ],
   "source": [
    "print(phase_cross_section)"
   ]
  },
  {
   "cell_type": "code",
   "execution_count": 19,
   "metadata": {},
   "outputs": [
    {
     "data": {
      "text/plain": [
       "'Grosbeak'"
      ]
     },
     "execution_count": 19,
     "metadata": {},
     "output_type": "execute_result"
    }
   ],
   "source": [
    "grosbeak_info['Conductor_Name']"
   ]
  },
  {
   "cell_type": "code",
   "execution_count": 20,
   "metadata": {},
   "outputs": [],
   "source": [
    "total_cross_section1_LT = f\"\"\"CROSSSECTION\n",
    "  OPTIONS\n",
    "    CONFIGURATION-MODE,ROW\n",
    "    UNITS,METRIC\n",
    "  {phase_cross_section}\n",
    "  {grosbeak}\n",
    "  {steel38}\n",
    "  {pipe}\n",
    "  SYSTEM\n",
    "    SUBSET,1,Set #1\n",
    "      COMPONENT,1,Component #1,-6.65,13.5,1\n",
    "        INFO-GROUPCOMPONENT,1,{grosbeak_info['Conductor_Name']}\n",
    "          INFO-PHASE-CIRCUIT,1,{phase_a_term1[\"id\"]},0,0\n",
    "      COMPONENT,2,Component #2,0,13.5,1\n",
    "        INFO-GROUPCOMPONENT,1,{grosbeak_info[\"Conductor_Name\"]}\n",
    "          INFO-PHASE-CIRCUIT,1,{phase_b_term1[\"id\"]},0,0\n",
    "      COMPONENT,3,Component #3,6.65,13.5,1\n",
    "        INFO-GROUPCOMPONENT,1,{grosbeak_info[\"Conductor_Name\"]}\n",
    "          INFO-PHASE-CIRCUIT,1,{phase_c_term1[\"id\"]},0,0\n",
    "      COMPONENT,4,Component #4,4.65,17.6,2\n",
    "        INFO-GROUPCOMPONENT,1,{steel38_info[\"Conductor_Name\"]}\n",
    "          INFO-PHASE-CIRCUIT,1,{phase_sw1_term1[\"id\"]},0,0\n",
    "      COMPONENT,5,Component #5,-4.65,17.6,2\n",
    "        INFO-GROUPCOMPONENT,1,{steel38_info[\"Conductor_Name\"]}\n",
    "          INFO-PHASE-CIRCUIT,1,{phase_sw2_term1[\"id\"]},0,0\n",
    "ENDPROGRAM\"\"\""
   ]
  },
  {
   "cell_type": "code",
   "execution_count": 21,
   "metadata": {},
   "outputs": [
    {
     "name": "stdout",
     "output_type": "stream",
     "text": [
      "Content successfully saved to 'XS_crossSection1.f05'.\n"
     ]
    }
   ],
   "source": [
    "file_name = \"XS_crossSection1.f05\"\n",
    "save_to_txt_file(file_name, total_cross_section1_LT)"
   ]
  },
  {
   "cell_type": "code",
   "execution_count": 22,
   "metadata": {},
   "outputs": [],
   "source": [
    "total_cross_section2_DT = f\"\"\"CROSSSECTION\n",
    "  OPTIONS\n",
    "    CONFIGURATION-MODE,ROW\n",
    "    UNITS,METRIC\n",
    "  {phase_cross_section}\n",
    "  {pipe}\n",
    "  SYSTEM\n",
    "    SUBSET,1,Set #1\n",
    "      COMPONENT,1,pipe,0,-1,1\n",
    "        INFO-GROUPCOMPONENT,1,{pipe_info['Conductor_Name']}\n",
    "          INFO-PHASE-CIRCUIT,1,{phase_pipe_term2['id']},0,0\n",
    "ENDPROGRAM\"\"\""
   ]
  },
  {
   "cell_type": "code",
   "execution_count": 23,
   "metadata": {},
   "outputs": [
    {
     "name": "stdout",
     "output_type": "stream",
     "text": [
      "Content successfully saved to 'XS_crossSection2.f05'.\n"
     ]
    }
   ],
   "source": [
    "file_name = \"XS_crossSection2.f05\"\n",
    "save_to_txt_file(file_name, total_cross_section2_DT)"
   ]
  },
  {
   "cell_type": "code",
   "execution_count": 24,
   "metadata": {},
   "outputs": [],
   "source": [
    "path_cross_section1 = 'C:\\Codigos_VS\\Projects\\PowerApps\\XS_crossSection1.f05'\n",
    "path_cross_section2 = 'C:\\Codigos_VS\\Projects\\PowerApps\\XS_crossSection2.f05'"
   ]
  },
  {
   "cell_type": "markdown",
   "metadata": {},
   "source": [
    "### Soil"
   ]
  },
  {
   "cell_type": "code",
   "execution_count": 25,
   "metadata": {},
   "outputs": [],
   "source": [
    "soil_resistence_term1_LT = 1E-06  \n",
    "soil_resistence_term2_LT = 1E-06  \n",
    "soil_resistence_term1_DT = 1E-06  \n",
    "soil_resistence_term2_DT = 1E-06  "
   ]
  },
  {
   "cell_type": "markdown",
   "metadata": {},
   "source": [
    "### Lekage"
   ]
  },
  {
   "cell_type": "code",
   "execution_count": 26,
   "metadata": {},
   "outputs": [
    {
     "name": "stdout",
     "output_type": "stream",
     "text": [
      "    LEAKAGE,COMPUTED,1,a,0,9999999,9999999\n",
      "    LEAKAGE,COMPUTED,2,b,0,9999999,9999999\n",
      "    LEAKAGE,COMPUTED,3,c,0,9999999,9999999\n",
      "    LEAKAGE,COMPUTED,4,e_sw1,0,9999999,9999999\n",
      "    LEAKAGE,COMPUTED,5,f_sw2,0,9999999,9999999\n",
      "    LEAKAGE,COMPUTED,6,pipe,0,9999999,9999999\n"
     ]
    }
   ],
   "source": [
    "lista = []\n",
    "# total_leakage = f\"\"\"\"\"\"\n",
    "for i in energization_info:\n",
    "    lista.append(f'    LEAKAGE,COMPUTED,{i[\"id\"]},{i[\"name\"]},0,9999999,9999999')\n",
    "\n",
    "total_leakage = '\\n'.join(lista)\n",
    "print(total_leakage)"
   ]
  },
  {
   "cell_type": "code",
   "execution_count": 27,
   "metadata": {},
   "outputs": [
    {
     "name": "stdout",
     "output_type": "stream",
     "text": [
      "LEAKAGE-DEF\n",
      "  DEFINITION\n",
      "    LEAKAGE,COMPUTED,1,a,0,9999999,9999999\n",
      "    LEAKAGE,COMPUTED,2,b,0,9999999,9999999\n",
      "    LEAKAGE,COMPUTED,3,c,0,9999999,9999999\n",
      "    LEAKAGE,COMPUTED,4,e_sw1,0,9999999,9999999\n",
      "    LEAKAGE,COMPUTED,5,f_sw2,0,9999999,9999999\n",
      "    LEAKAGE,COMPUTED,6,pipe,0,9999999,9999999\n",
      "ENDPROGRAM\n"
     ]
    }
   ],
   "source": [
    "file_string = f\"\"\"LEAKAGE-DEF\n",
    "  DEFINITION\n",
    "{total_leakage}\n",
    "ENDPROGRAM\"\"\"\n",
    "print(file_string)"
   ]
  },
  {
   "cell_type": "code",
   "execution_count": 28,
   "metadata": {},
   "outputs": [],
   "source": [
    "true_ground = \"\"\"\n",
    "LEAKAGE-DEF\n",
    "  DEFINITION\n",
    "    LEAKAGE,COMPUTED,1,a,0,9999999,9999999\n",
    "    LEAKAGE,COMPUTED,2,b,0,9999999,9999999\n",
    "    LEAKAGE,COMPUTED,3,c,0,9999999,9999999\n",
    "    LEAKAGE,COMPUTED,4,e_sw1,0,9999999,9999999\n",
    "    LEAKAGE,COMPUTED,5,f_sw2,0,9999999,9999999\n",
    "    LEAKAGE,COMPUTED,6,pipe,0,9999999,9999999\n",
    "ENDPROGRAM\"\"\""
   ]
  },
  {
   "cell_type": "code",
   "execution_count": 29,
   "metadata": {},
   "outputs": [
    {
     "name": "stdout",
     "output_type": "stream",
     "text": [
      "Content successfully saved to 'LD_testLeakage.f05'.\n"
     ]
    }
   ],
   "source": [
    "file_name = \"LD_testLeakage.f05\"\n",
    "save_to_txt_file(file_name, file_string)"
   ]
  },
  {
   "cell_type": "markdown",
   "metadata": {},
   "source": [
    "### Final"
   ]
  },
  {
   "cell_type": "code",
   "execution_count": 30,
   "metadata": {},
   "outputs": [],
   "source": [
    "final = f\"\"\"ROWCAD\n",
    "  OPTIONS\n",
    "    INPUT-MODE,CROSSSECTIONMODE\n",
    "    REGION-GENERATION,0,1,1\n",
    "  SYSTEM\n",
    "    POLYLINE,1,LT\n",
    "      POINT{term1_LT_point1}\n",
    "      POINT{central_side_LT_point2}\n",
    "      POINT{term2_LT_point3}\n",
    "      DISPLAY-COLOR,1,0,0,1\n",
    "    POLYLINE,2,DT\n",
    "      POINT{term1_DT_point1}\n",
    "      POINT{central_side_DT_point2}\n",
    "      POINT{term2_DT_point3}\n",
    "      DISPLAY-COLOR,1,1,0,0\n",
    "    ATTRIBUTE-SET,1,AttributeSet #1\n",
    "      DISPLAY-COLOR,1,0,0,1\n",
    "    ATTRIBUTE-SET,2,AttributeSet #2\n",
    "      DISPLAY-COLOR,1,1,0,0\n",
    "    SOIL-TYPE,1,Soil #1\n",
    "      DISPLAY-COLOR,1,0,0,1\n",
    "    TYPE-CROSSSECTION,1,LT,{path_cross_section1}\n",
    "      DISPLAY-COLOR,1,0,0,1\n",
    "    TYPE-CROSSSECTION,2,DT,{path_cross_section2}\n",
    "      DISPLAY-COLOR,1,1,0,0\n",
    "  CIRCUIT\n",
    "    PATH-CONSTRUCTION,1,1,2,2,1,1\n",
    "    PATH-CONSTRUCTION,2,1,2,2,2,2\n",
    "    CENTRAL-SITE,CentralSite\n",
    "    TERMINAL,1,Term1\n",
    "      EARTH,{soil_resistence_term1_LT},0,LT,1\n",
    "      EARTH,{soil_resistence_term1_DT},0,DT,2\n",
    "      LINES   \n",
    "        {energization_LT}\n",
    "    TERMINAL,2,Term2\n",
    "      EARTH,{soil_resistence_term2_LT},0,LT,1\n",
    "      EARTH,{soil_resistence_term2_DT},0,DT,2\n",
    "      LINES\n",
    "        {energization_DT}\n",
    "    PATH,1,Path\n",
    "      CONNECT-SATE-REF,NO\n",
    "    PATH,2,DT\n",
    "      CONNECT-SATE-REF,NO\n",
    "    PHASE-LEAKAGE\n",
    "      DEFAULT-DEFINITION,C:\\Codigos_VS\\Projects\\PowerApps\\LD_testLeakage.f05\n",
    "ENDPROGRAM\"\"\""
   ]
  },
  {
   "cell_type": "code",
   "execution_count": 31,
   "metadata": {},
   "outputs": [
    {
     "name": "stdout",
     "output_type": "stream",
     "text": [
      "ROWCAD\n",
      "  OPTIONS\n",
      "    INPUT-MODE,CROSSSECTIONMODE\n",
      "    REGION-GENERATION,0,1,1\n",
      "  SYSTEM\n",
      "    POLYLINE,1,LT\n",
      "      POINT,1,,-500,0,0,0,1,0,1,0\n",
      "      POINT,2,,0,0,0,1,1,0,1,0\n",
      "      POINT,3,,500,0,0,2,1,0,1,0\n",
      "      DISPLAY-COLOR,1,0,0,1\n",
      "    POLYLINE,2,DT\n",
      "      POINT,1,,-500,10,0,10,0,0,2,0\n",
      "      POINT,2,,0,10,0,0,0,0,2,0\n",
      "      POINT,3,,500,10,0,0,0,0,2,0\n",
      "      DISPLAY-COLOR,1,1,0,0\n",
      "    ATTRIBUTE-SET,1,AttributeSet #1\n",
      "      DISPLAY-COLOR,1,0,0,1\n",
      "    ATTRIBUTE-SET,2,AttributeSet #2\n",
      "      DISPLAY-COLOR,1,1,0,0\n",
      "    SOIL-TYPE,1,Soil #1\n",
      "      DISPLAY-COLOR,1,0,0,1\n",
      "    TYPE-CROSSSECTION,1,LT,C:\\Codigos_VS\\Projects\\PowerApps\\XS_crossSection1.f05\n",
      "      DISPLAY-COLOR,1,0,0,1\n",
      "    TYPE-CROSSSECTION,2,DT,C:\\Codigos_VS\\Projects\\PowerApps\\XS_crossSection2.f05\n",
      "      DISPLAY-COLOR,1,1,0,0\n",
      "  CIRCUIT\n",
      "    PATH-CONSTRUCTION,1,1,2,2,1,1\n",
      "    PATH-CONSTRUCTION,2,1,2,2,2,2\n",
      "    CENTRAL-SITE,CentralSite\n",
      "    TERMINAL,1,Term1\n",
      "      EARTH,1e-06,0,LT,1\n",
      "      EARTH,1e-06,0,DT,2\n",
      "      LINES   \n",
      "                ENERGIZATION,VOLTAGE,1,1,1,1,574,0,2,1,0,2,0,0\n",
      "        ENERGIZATION,VOLTAGE,2,2,1,1,574,0,2,0,0,2,0,0\n",
      "        ENERGIZATION,VOLTAGE,3,3,1,1,574,0,2,0,0,2,0,0\n",
      "        ENERGIZATION,VOLTAGE,4,4,1,1,1354,0,2,0,0,2,0,0\n",
      "        ENERGIZATION,VOLTAGE,5,5,1,1,1354,0,2,0,0,2,0,0\n",
      "        ENERGIZATION,VOLTAGE,6,6,2,1,80,0,2,0,0,2,0,0\n",
      "    TERMINAL,2,Term2\n",
      "      EARTH,1e-06,0,LT,1\n",
      "      EARTH,1e-06,0,DT,2\n",
      "      LINES\n",
      "                ENERGIZATION,VOLTAGE,1,1,1,1,574,0,2,0,0,2,0,0\n",
      "        ENERGIZATION,VOLTAGE,2,2,1,1,574,0,2,0,0,2,0,0\n",
      "        ENERGIZATION,VOLTAGE,3,3,1,1,574,0,2,0,0,2,0,0\n",
      "        ENERGIZATION,VOLTAGE,4,4,1,1,1354,0,2,0,0,2,0,0\n",
      "        ENERGIZATION,VOLTAGE,5,5,1,1,1354,0,2,0,0,2,0,0\n",
      "        ENERGIZATION,VOLTAGE,6,6,2,1,80,0,2,0,0,2,0,0\n",
      "    PATH,1,Path\n",
      "      CONNECT-SATE-REF,NO\n",
      "    PATH,2,DT\n",
      "      CONNECT-SATE-REF,NO\n",
      "    PHASE-LEAKAGE\n",
      "      DEFAULT-DEFINITION,C:\\Codigos_VS\\Projects\\PowerApps\\LD_testLeakage.f05\n",
      "ENDPROGRAM\n"
     ]
    }
   ],
   "source": [
    "print(final)"
   ]
  },
  {
   "cell_type": "code",
   "execution_count": 32,
   "metadata": {},
   "outputs": [
    {
     "name": "stdout",
     "output_type": "stream",
     "text": [
      "Content successfully saved to 'RC_final.f05'.\n"
     ]
    }
   ],
   "source": [
    "file_name = \"RC_final.f05\"\n",
    "save_to_txt_file(file_name, final)"
   ]
  },
  {
   "cell_type": "code",
   "execution_count": null,
   "metadata": {},
   "outputs": [],
   "source": []
  }
 ],
 "metadata": {
  "kernelspec": {
   "display_name": "base",
   "language": "python",
   "name": "python3"
  },
  "language_info": {
   "codemirror_mode": {
    "name": "ipython",
    "version": 3
   },
   "file_extension": ".py",
   "mimetype": "text/x-python",
   "name": "python",
   "nbconvert_exporter": "python",
   "pygments_lexer": "ipython3",
   "version": "3.9.12"
  }
 },
 "nbformat": 4,
 "nbformat_minor": 2
}
