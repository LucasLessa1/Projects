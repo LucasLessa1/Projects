{
 "cells": [
  {
   "cell_type": "code",
   "execution_count": 1,
   "metadata": {},
   "outputs": [],
   "source": [
    "from selenium import webdriver\n",
    "from selenium.webdriver.chrome.service import Service as ChromeSerice\n",
    "import requests\n",
    "from selenium.webdriver.common.by import By\n",
    "\n",
    "from selenium import webdriver\n",
    "import requests\n",
    "import pyautogui as py\n",
    "import time\n",
    "\n",
    "import clipboard\n",
    "import pandas as pd"
   ]
  },
  {
   "cell_type": "code",
   "execution_count": 2,
   "metadata": {},
   "outputs": [],
   "source": [
    "user = \"190126230@aluno.unb.br\"\n",
    "password = \"ENG1901me00$$\""
   ]
  },
  {
   "cell_type": "code",
   "execution_count": 3,
   "metadata": {},
   "outputs": [
    {
     "name": "stdout",
     "output_type": "stream",
     "text": [
      "https://localhost/?code=0.AQoAoZs17AtjK024M8jm1I-AWYkU-FHuEp5Kqq6iWR9FmH0BAAA.AgABAAIAAAAmoFfGtYxvRrNriQdPKIZ-AgDs_wUA9P_FHPF8GQgMKFKwayIR_5-vSyr1iGTEz4U4JdyMnVW8IgAAWG-AOYNOdh9rP1cBRlKeBMB5ub4uBwuZl8M0Xo4a_xxSTNNYxIj_z6OizMsDhxRzDDAb9GoBFRzBKzC611WuQVLaWO6CX4TQXMKk3_0dLdHnrtcskVW2agRfDwqmA0XW4pwg526HYAD-LpScryx2f3GEaKyC3OO6MYIq8bndiEZJ2w7ZJgKMXb3N3ZZVh9r5rSr9L_hsE71mIJ5JDIHfLvpica00RrVlUf3LtOsUqwWXw2SiFBn_SU1YX6zvk0LoRmUbQU2IT6c6WgMWNj3-CUfrcRcvZP5rHRtcA0Txaf_X0DWNZQivI-puFiQZymp4JD2bt8Snj4TVs8B2FKrE0Hn0rXcHmMyttf3C1XVNKqi8DiPMEFD9zDLQm-oawBo2ZEsllrqJmoQWBeD7RGtbSsZ9Vm1szJ2Wn5zr0MwRtcTMo7b_NBoYyGfxWqAm_OW0mHAvuSYb2xOsy9PijQHhOnCUztrCXkp8NOgNi9z2JRiW1LIpuJ2rqCHtLDBZ6kH8lI13QX_7alwYr2owIPdF52B5VTB-vR0r8HRPGycEZu-fCNe7hMSSdtXldu5PGiKd7HaqHCJQKxgAKpIxMQ&session_state=a60efa65-44ee-4584-b09b-20b78c68853e\n"
     ]
    }
   ],
   "source": [
    "# Initialize a Chrome WebDriver\n",
    "driver = webdriver.Chrome()\n",
    "\n",
    "# Your Azure AD and OAuth2.0 parameters\n",
    "url = 'https://org425ee2cf.api.crm.dynamics.com'\n",
    "client_id = '51f81489-12ee-4a9e-aaae-a2591f45987d'\n",
    "callback_base_url = 'https://localhost'\n",
    "\n",
    "\n",
    "# Construct the authorization URL with query parameters\n",
    "auth_url = f'https://login.microsoftonline.com/common/oauth2/authorize?' \\\n",
    "           f'client_id={client_id}&response_type=code&redirect_uri={callback_base_url}&resource={url}'\n",
    "\n",
    "\n",
    "# Open the authorization URL in a browser\n",
    "driver.get(auth_url)\n",
    "\n",
    "time.sleep(3)\n",
    "py.write(user)\n",
    "time.sleep(1)\n",
    "py.press('enter')\n",
    "\n",
    "\n",
    "time.sleep(3)\n",
    "py.write(password)\n",
    "time.sleep(1)\n",
    "py.press('enter')\n",
    "\n",
    "time.sleep(3)\n",
    "py.hotkey('ctrl', 'l')\n",
    "py.hotkey('ctrl', 'c')\n",
    "callback_url = str(clipboard.paste())\n",
    "print(callback_url)"
   ]
  },
  {
   "cell_type": "code",
   "execution_count": 4,
   "metadata": {},
   "outputs": [
    {
     "name": "stdout",
     "output_type": "stream",
     "text": [
      "Access token:\n",
      "eyJ0eXAiOiJKV1QiLCJhbGciOiJSUzI1NiIsIng1dCI6IjlHbW55RlBraGMzaE91UjIybXZTdmduTG83WSIsImtpZCI6IjlHbW55RlBraGMzaE91UjIybXZTdmduTG83WSJ9.eyJhdWQiOiJodHRwczovL29yZzQyNWVlMmNmLmFwaS5jcm0uZHluYW1pY3MuY29tIiwiaXNzIjoiaHR0cHM6Ly9zdHMud2luZG93cy5uZXQvZWMzNTliYTEtNjMwYi00ZDJiLWI4MzMtYzhlNmQ0OGY4MDU5LyIsImlhdCI6MTcwMDIzNDYzMiwibmJmIjoxNzAwMjM0NjMyLCJleHAiOjE3MDAyMzkxMDEsImFjY3QiOjAsImFjciI6IjEiLCJhaW8iOiJBVFFBeS84VkFBQUExZTVzUUZvZG1tdWVsSDlsQzVLeWh2M3VvTE5SV2hJbmRnOVVQWTd3cXNqVFczeWxLK29BRmorV0xBM1pkdDZtIiwiYW1yIjpbInB3ZCJdLCJhcHBpZCI6IjUxZjgxNDg5LTEyZWUtNGE5ZS1hYWFlLWEyNTkxZjQ1OTg3ZCIsImFwcGlkYWNyIjoiMCIsImZhbWlseV9uYW1lIjoiU2FudG9zIExlc3NhIiwiZ2l2ZW5fbmFtZSI6Ikx1Y2FzIiwiaXBhZGRyIjoiMTY0LjQxLjQuMjYiLCJsb2dpbl9oaW50IjoiTy5DaVE1TTJFMVpUSmlaQzFoWmpJMkxUUTVZbUl0WWpsak9DMDBZV0ZpWW1KaE16QTBaallTSkdWak16VTVZbUV4TFRZek1HSXROR1F5WWkxaU9ETXpMV000WlRaa05EaG1PREExT1JvV01Ua3dNVEkyTWpNd1FHRnNkVzV2TG5WdVlpNWljaUJsIiwibmFtZSI6Ikx1Y2FzIFNhbnRvcyBMZXNzYSIsIm9pZCI6IjkzYTVlMmJkLWFmMjYtNDliYi1iOWM4LTRhYWJiYmEzMDRmNiIsIm9ucHJlbV9zaWQiOiJTLTEtNS0yMS0xNjc1Nzk5NzAtMTcwMjQwMDM5OC0zNTM5NjQ3MzY1LTU0OTI2IiwicHVpZCI6IjEwMDMyMDAwNUZCQzhBOTUiLCJyaCI6IjAuQVFvQW9aczE3QXRqSzAyNE04am0xSS1BV1FjQUFBQUFBQUFBd0FBQUFBQUFBQUFLQUNvLiIsInNjcCI6InVzZXJfaW1wZXJzb25hdGlvbiIsInN1YiI6InRFTUtiTDZhQkR6UGhqbnk5WFlVdDNEOF9WOUNNMEhqUDlnVG9TVUdGa1EiLCJ0ZW5hbnRfcmVnaW9uX3Njb3BlIjoiU0EiLCJ0aWQiOiJlYzM1OWJhMS02MzBiLTRkMmItYjgzMy1jOGU2ZDQ4ZjgwNTkiLCJ1bmlxdWVfbmFtZSI6IjE5MDEyNjIzMEBhbHVuby51bmIuYnIiLCJ1cG4iOiIxOTAxMjYyMzBAYWx1bm8udW5iLmJyIiwidXRpIjoiMkwtTWNFOWNua0czMlhRaG52bUJBQSIsInZlciI6IjEuMCIsIndpZHMiOlsiYjc5ZmJmNGQtM2VmOS00Njg5LTgxNDMtNzZiMTk0ZTg1NTA5Il0sInhtc19jYWUiOiIxIn0.REJHvt5-u-v7oxnB51cCIaWg_bA9E564z1VNVklY7nI3r_qpo8Ht4SVhe0ylBkGF41DRSkXHnXw49r9Gk2Gz4Krytj2vFRhR5b0neyxrU3MNtLymbPe3qbQB9hJ_fZEzahVVz8Ix670qaWqJ5QgnozkvYhm2_GsfmKm8tGP_oN7lKT66UcqPJx-Y38MbDeJNxEiHAVpZcXMb74tzzxVH_p3JbUIDye9mq7hU5vu--xnLmxT3FNA2bhoPUXUxsHm_wWY4eaP3p0CvQIEMzpaNvqIhIc24LsIpopq2-pMUTNiLeZC-FJX4GBE-QiNMwsMwYAxFo1FQ9wgjy8na0bTSCg\n",
      "{'@odata.context': 'https://org425ee2cf.crm.dynamics.com/api/data/v9.2/$metadata#crddb_autorowreportinputsessions', 'value': [{'@odata.etag': 'W/\"4132305\"', 'crddb_circuittype': 1, 'crddb_jobstatus': 1, 'crddb_coordinatesfile_target_name': 'Gas_VM50_CRUZ_45graus.csv', '_owningbusinessunit_value': '77cd6714-c7eb-ed11-8849-000d3a17a888', 'crddb_jobid': 'ROW-1004L5J9', 'statecode': 0, 'statuscode': 1, '_createdby_value': 'eade9878-0d57-ee11-be6f-000d3a1f576d', 'crddb_coordinatesfile_source_name': 'LT_VM100.csv', '_ownerid_value': 'eade9878-0d57-ee11-be6f-000d3a1f576d', 'modifiedon': '2023-11-07T00:14:09Z', 'crddb_coordinatesfile_target': '96c89991-027d-ee11-8179-000d3a1f576d', 'crddb_coordinatesfile_source': '23ab9985-027d-ee11-8179-000d3a1f576d', '_owninguser_value': 'eade9878-0d57-ee11-be6f-000d3a1f576d', '_modifiedby_value': 'eade9878-0d57-ee11-be6f-000d3a1f576d', 'versionnumber': 4132305, 'createdon': '2023-11-07T00:13:40Z', 'crddb_autorowreportinputsessionid': '55329a7f-027d-ee11-8179-000d3a1f576d', '_crddb_projectid_value': '62560189-fe7c-ee11-8179-000d3a1f576d', 'crddb_c2a_vertical': None, 'crddb_c1b_horizontal': None, 'crddb_targetgroundimpedance_left_r': None, 'crddb_c1a_numcond': None, 'crddb_coatingdataresistivity': None, 'crddb_c2b_horizontal': None, 'crddb_steadystatecurrent': None, 'crddb_c2c_numcond': None, 'crddb_term2_name': None, 'crddb_safelimits_steadystate': None, 'importsequencenumber': None, 'crddb_linevoltage': None, 'utcconversiontimezonecode': None, 'crddb_sourcelineowner': None, 'overriddencreatedon': None, 'crddb_c1a_vertical': None, 'crddb_sourceline': None, 'crddb_safelimits_coating': None, 'crddb_c2phasesequence': None, 'crddb_safelimits_currdensity': None, '_crddb_c1b_condtype_value': None, 'crddb_nominalfaultcurrent_3phase_term1_phase': None, 'crddb_c1phasesequence': None, 'crddb_nominalfaultcurrent_3phase_term2_mod': None, 'crddb_nominalfaultcurrent_1phase_term1_phase': None, 'crddb_groundimpedance_terminal1_x': None, 'crddb_groundimpedance_terminal1_r': None, 'crddb_safelimits_insuljoint': None, '_crddb_c1a_condtype_value': None, 'crddb_targetlinetype': None, 'crddb_nominalfaultcurrent_3phase_term1_mod': None, 'crddb_spansbeforeemizone': None, 'crddb_c1c_numcond': None, 'crddb_mitigation_covermaterialthickness': None, 'crddb_nominalfaultcurrent_3phase_term2_phase': None, 'crddb_term1_name': None, '_crddb_c2b_condtype_value': None, 'crddb_nominalfaultcurrent_1phase_term2_phase': None, 'crddb_casedescription': None, 'crddb_c1c_horizontal': None, 'crddb_exposurelength': None, 'crddb_averagespanlength': None, 'crddb_mitigation_covermaterialresistivity': None, 'crddb_coatingdatathickness': None, '_crddb_c2a_condtype_value': None, 'crddb_safelimits_rectifier': None, 'crddb_targetgroundimpedance_right_r': None, 'timezoneruleversionnumber': None, '_owningteam_value': None, 'crddb_targetgroundimpedance_right_x': None, 'crddb_targetlineowner': None, 'crddb_c2b_numcond': None, 'crddb_groundimpedance_towers_r': None, '_modifiedonbehalfby_value': None, 'crddb_c1a_horizontal': None, '_crddb_faullocationsoilresistivity_value': None, 'crddb_c2a_horizontal': None, 'crddb_spansafteremizone': None, 'crddb_safelimits_rb': None, 'crddb_interferencetype': None, '_createdonbehalfby_value': None, 'crddb_faultlocation_epicenter_y': None, 'crddb_faultlocation_epicenter_x': None, 'crddb_safelimits_faultduration': None, 'crddb_nominalfaultcurrent_1phase_term2_mod': None, 'crddb_shieldwirehorizontal1': None, 'crddb_shieldwirehorizontal2': None, 'crddb_c2c_vertical': None, 'crddb_approxtype': None, 'crddb_mitigation_covermaterial': None, 'crddb_progress': None, 'crddb_c1b_numcond': None, 'crddb_c2c_horizontal': None, 'crddb_nominalfaultcurrent_1phase_term1_mod': None, 'crddb_groundimpedance_towers_x': None, 'crddb_crosssection_targety': None, 'crddb_faultlocation_section': None, 'crddb_c1c_vertical': None, 'crddb_c2a_sep': None, '_crddb_authorizationticket_value': None, 'crddb_c1a_sep': None, 'crddb_c2b_vertical': None, 'crddb_contributionfaultcurrent_term2_phase': None, 'crddb_contributionfaultcurrent_term2_mod': None, 'crddb_contributionfaultcurrent_term1_mod': None, 'crddb_c2b_sep': None, 'crddb_targetgroundimpedance_left_x': None, 'crddb_groundimpedance_terminal2_x': None, 'crddb_c1b_sep': None, 'crddb_c2a_numcond': None, 'crddb_groundimpedance_terminal2_r': None, 'crddb_counterpoiselength': None, '_crddb_c1c_condtype_value': None, 'crddb_c1b_vertical': None, 'crddb_contributionfaultcurrent_term1_phase': None, 'crddb_coatingdatatype': None, 'crddb_c2c_sep': None, 'crddb_safelimits_bodycurrent': None, 'crddb_c1c_sep': None, '_crddb_sw2_condtype_value': None, '_crddb_sw1_condtype_value': None, 'crddb_shieldwirevertical2': None, 'crddb_shieldwirevertical1': None, 'crddb_pipediameter': None, '_crddb_c2c_condtype_value': None, 'crddb_targetline': None}, {'@odata.etag': 'W/\"3602231\"', 'crddb_circuittype': None, 'crddb_jobstatus': 4, 'crddb_coordinatesfile_target_name': None, '_owningbusinessunit_value': '77cd6714-c7eb-ed11-8849-000d3a17a888', 'crddb_jobid': 'ROW-1002L5M5', 'statecode': 0, 'statuscode': 1, '_createdby_value': '69d46714-c7eb-ed11-8849-000d3a17a888', 'crddb_coordinatesfile_source_name': None, '_ownerid_value': '69d46714-c7eb-ed11-8849-000d3a17a888', 'modifiedon': '2023-10-07T13:19:50Z', 'crddb_coordinatesfile_target': None, 'crddb_coordinatesfile_source': None, '_owninguser_value': '69d46714-c7eb-ed11-8849-000d3a17a888', '_modifiedby_value': 'eade9878-0d57-ee11-be6f-000d3a1f576d', 'versionnumber': 3602231, 'createdon': '2023-05-21T18:22:27Z', 'crddb_autorowreportinputsessionid': '7451df6f-04f8-ed11-8848-000d3a1f576d', '_crddb_projectid_value': '2018e5fb-e8f7-ed11-8848-000d3a1f576d', 'crddb_c2a_vertical': None, 'crddb_c1b_horizontal': None, 'crddb_targetgroundimpedance_left_r': None, 'crddb_c1a_numcond': None, 'crddb_coatingdataresistivity': None, 'crddb_c2b_horizontal': None, 'crddb_steadystatecurrent': None, 'crddb_c2c_numcond': None, 'crddb_term2_name': None, 'crddb_safelimits_steadystate': None, 'importsequencenumber': None, 'crddb_linevoltage': None, 'utcconversiontimezonecode': None, 'crddb_sourcelineowner': None, 'overriddencreatedon': None, 'crddb_c1a_vertical': None, 'crddb_sourceline': 'Source', 'crddb_safelimits_coating': None, 'crddb_c2phasesequence': None, 'crddb_safelimits_currdensity': None, '_crddb_c1b_condtype_value': None, 'crddb_nominalfaultcurrent_3phase_term1_phase': None, 'crddb_c1phasesequence': None, 'crddb_nominalfaultcurrent_3phase_term2_mod': None, 'crddb_nominalfaultcurrent_1phase_term1_phase': None, 'crddb_groundimpedance_terminal1_x': None, 'crddb_groundimpedance_terminal1_r': None, 'crddb_safelimits_insuljoint': None, '_crddb_c1a_condtype_value': None, 'crddb_targetlinetype': None, 'crddb_nominalfaultcurrent_3phase_term1_mod': None, 'crddb_spansbeforeemizone': None, 'crddb_c1c_numcond': None, 'crddb_mitigation_covermaterialthickness': None, 'crddb_nominalfaultcurrent_3phase_term2_phase': None, 'crddb_term1_name': None, '_crddb_c2b_condtype_value': None, 'crddb_nominalfaultcurrent_1phase_term2_phase': None, 'crddb_casedescription': 'Caso teste', 'crddb_c1c_horizontal': None, 'crddb_exposurelength': None, 'crddb_averagespanlength': None, 'crddb_mitigation_covermaterialresistivity': None, 'crddb_coatingdatathickness': None, '_crddb_c2a_condtype_value': None, 'crddb_safelimits_rectifier': None, 'crddb_targetgroundimpedance_right_r': None, 'timezoneruleversionnumber': None, '_owningteam_value': None, 'crddb_targetgroundimpedance_right_x': None, 'crddb_targetlineowner': None, 'crddb_c2b_numcond': None, 'crddb_groundimpedance_towers_r': None, '_modifiedonbehalfby_value': None, 'crddb_c1a_horizontal': None, '_crddb_faullocationsoilresistivity_value': None, 'crddb_c2a_horizontal': None, 'crddb_spansafteremizone': None, 'crddb_safelimits_rb': None, 'crddb_interferencetype': 2, '_createdonbehalfby_value': None, 'crddb_faultlocation_epicenter_y': None, 'crddb_faultlocation_epicenter_x': None, 'crddb_safelimits_faultduration': None, 'crddb_nominalfaultcurrent_1phase_term2_mod': None, 'crddb_shieldwirehorizontal1': None, 'crddb_shieldwirehorizontal2': None, 'crddb_c2c_vertical': None, 'crddb_approxtype': 1, 'crddb_mitigation_covermaterial': None, 'crddb_progress': 50, 'crddb_c1b_numcond': None, 'crddb_c2c_horizontal': None, 'crddb_nominalfaultcurrent_1phase_term1_mod': None, 'crddb_groundimpedance_towers_x': None, 'crddb_crosssection_targety': None, 'crddb_faultlocation_section': None, 'crddb_c1c_vertical': None, 'crddb_c2a_sep': None, '_crddb_authorizationticket_value': None, 'crddb_c1a_sep': None, 'crddb_c2b_vertical': None, 'crddb_contributionfaultcurrent_term2_phase': None, 'crddb_contributionfaultcurrent_term2_mod': None, 'crddb_contributionfaultcurrent_term1_mod': None, 'crddb_c2b_sep': None, 'crddb_targetgroundimpedance_left_x': None, 'crddb_groundimpedance_terminal2_x': None, 'crddb_c1b_sep': None, 'crddb_c2a_numcond': None, 'crddb_groundimpedance_terminal2_r': None, 'crddb_counterpoiselength': None, '_crddb_c1c_condtype_value': None, 'crddb_c1b_vertical': None, 'crddb_contributionfaultcurrent_term1_phase': None, 'crddb_coatingdatatype': None, 'crddb_c2c_sep': None, 'crddb_safelimits_bodycurrent': None, 'crddb_c1c_sep': None, '_crddb_sw2_condtype_value': None, '_crddb_sw1_condtype_value': None, 'crddb_shieldwirevertical2': None, 'crddb_shieldwirevertical1': None, 'crddb_pipediameter': None, '_crddb_c2c_condtype_value': None, 'crddb_targetline': None}]}\n"
     ]
    }
   ],
   "source": [
    "start_index = callback_url.find('code=')\n",
    "end_index = callback_url.find('&', start_index)\n",
    "authorization_code = callback_url[start_index + len('code='):end_index]\n",
    "\n",
    "# Parse the authorization code from the callback URL\n",
    "# authorization_code = callback_url.split('code=')[1]\n",
    "\n",
    "# Exchange the authorization code for an access token\n",
    "token_url = 'https://login.microsoftonline.com/common/oauth2/token'\n",
    "\n",
    "\n",
    "data = {\n",
    "    'grant_type': 'authorization_code',\n",
    "    'client_id': client_id,\n",
    "    'code': authorization_code,\n",
    "    'redirect_uri': callback_base_url,\n",
    "    'resource': url  # Add the 'resource' parameter\n",
    "}\n",
    "\n",
    "headers = {\n",
    "    'Content-Type': 'application/x-www-form-urlencoded'\n",
    "}\n",
    "\n",
    "response = requests.post(token_url, data=data, headers=headers)\n",
    "\n",
    "access_token = response.json().get('access_token')\n",
    "# Display the access token\n",
    "print('Access token:')\n",
    "print(access_token)\n",
    "\n",
    "\n",
    "url = 'https://org425ee2cf.crm.dynamics.com/api/data/v9.2/crddb_autorowreportinputsessions?$top=10'\n",
    "\n",
    "# Create the headers with the Authorization token\n",
    "headers = {\n",
    "    'Authorization': f'Bearer {access_token}'\n",
    "}\n",
    "\n",
    "# Send the HTTP GET request\n",
    "response = requests.get(url, headers=headers)\n",
    "\n",
    "# Process the response as needed\n",
    "data = response.json()  # Assuming the response is in JSON format\n",
    "print(data)"
   ]
  },
  {
   "cell_type": "code",
   "execution_count": 5,
   "metadata": {},
   "outputs": [
    {
     "data": {
      "text/html": [
       "<div>\n",
       "<style scoped>\n",
       "    .dataframe tbody tr th:only-of-type {\n",
       "        vertical-align: middle;\n",
       "    }\n",
       "\n",
       "    .dataframe tbody tr th {\n",
       "        vertical-align: top;\n",
       "    }\n",
       "\n",
       "    .dataframe thead th {\n",
       "        text-align: right;\n",
       "    }\n",
       "</style>\n",
       "<table border=\"1\" class=\"dataframe\">\n",
       "  <thead>\n",
       "    <tr style=\"text-align: right;\">\n",
       "      <th></th>\n",
       "      <th>@odata.etag</th>\n",
       "      <th>crddb_circuittype</th>\n",
       "      <th>crddb_jobstatus</th>\n",
       "      <th>crddb_coordinatesfile_target_name</th>\n",
       "      <th>_owningbusinessunit_value</th>\n",
       "      <th>crddb_jobid</th>\n",
       "      <th>statecode</th>\n",
       "      <th>statuscode</th>\n",
       "      <th>_createdby_value</th>\n",
       "      <th>crddb_coordinatesfile_source_name</th>\n",
       "      <th>...</th>\n",
       "      <th>crddb_c2c_sep</th>\n",
       "      <th>crddb_safelimits_bodycurrent</th>\n",
       "      <th>crddb_c1c_sep</th>\n",
       "      <th>_crddb_sw2_condtype_value</th>\n",
       "      <th>_crddb_sw1_condtype_value</th>\n",
       "      <th>crddb_shieldwirevertical2</th>\n",
       "      <th>crddb_shieldwirevertical1</th>\n",
       "      <th>crddb_pipediameter</th>\n",
       "      <th>_crddb_c2c_condtype_value</th>\n",
       "      <th>crddb_targetline</th>\n",
       "    </tr>\n",
       "  </thead>\n",
       "  <tbody>\n",
       "    <tr>\n",
       "      <th>0</th>\n",
       "      <td>W/\"4132305\"</td>\n",
       "      <td>1.0</td>\n",
       "      <td>1</td>\n",
       "      <td>Gas_VM50_CRUZ_45graus.csv</td>\n",
       "      <td>77cd6714-c7eb-ed11-8849-000d3a17a888</td>\n",
       "      <td>ROW-1004L5J9</td>\n",
       "      <td>0</td>\n",
       "      <td>1</td>\n",
       "      <td>eade9878-0d57-ee11-be6f-000d3a1f576d</td>\n",
       "      <td>LT_VM100.csv</td>\n",
       "      <td>...</td>\n",
       "      <td>None</td>\n",
       "      <td>None</td>\n",
       "      <td>None</td>\n",
       "      <td>None</td>\n",
       "      <td>None</td>\n",
       "      <td>None</td>\n",
       "      <td>None</td>\n",
       "      <td>None</td>\n",
       "      <td>None</td>\n",
       "      <td>None</td>\n",
       "    </tr>\n",
       "    <tr>\n",
       "      <th>1</th>\n",
       "      <td>W/\"3602231\"</td>\n",
       "      <td>NaN</td>\n",
       "      <td>4</td>\n",
       "      <td>None</td>\n",
       "      <td>77cd6714-c7eb-ed11-8849-000d3a17a888</td>\n",
       "      <td>ROW-1002L5M5</td>\n",
       "      <td>0</td>\n",
       "      <td>1</td>\n",
       "      <td>69d46714-c7eb-ed11-8849-000d3a17a888</td>\n",
       "      <td>None</td>\n",
       "      <td>...</td>\n",
       "      <td>None</td>\n",
       "      <td>None</td>\n",
       "      <td>None</td>\n",
       "      <td>None</td>\n",
       "      <td>None</td>\n",
       "      <td>None</td>\n",
       "      <td>None</td>\n",
       "      <td>None</td>\n",
       "      <td>None</td>\n",
       "      <td>None</td>\n",
       "    </tr>\n",
       "  </tbody>\n",
       "</table>\n",
       "<p>2 rows × 126 columns</p>\n",
       "</div>"
      ],
      "text/plain": [
       "   @odata.etag  crddb_circuittype  crddb_jobstatus  \\\n",
       "0  W/\"4132305\"                1.0                1   \n",
       "1  W/\"3602231\"                NaN                4   \n",
       "\n",
       "  crddb_coordinatesfile_target_name             _owningbusinessunit_value  \\\n",
       "0         Gas_VM50_CRUZ_45graus.csv  77cd6714-c7eb-ed11-8849-000d3a17a888   \n",
       "1                              None  77cd6714-c7eb-ed11-8849-000d3a17a888   \n",
       "\n",
       "    crddb_jobid  statecode  statuscode                      _createdby_value  \\\n",
       "0  ROW-1004L5J9          0           1  eade9878-0d57-ee11-be6f-000d3a1f576d   \n",
       "1  ROW-1002L5M5          0           1  69d46714-c7eb-ed11-8849-000d3a17a888   \n",
       "\n",
       "  crddb_coordinatesfile_source_name  ... crddb_c2c_sep  \\\n",
       "0                      LT_VM100.csv  ...          None   \n",
       "1                              None  ...          None   \n",
       "\n",
       "  crddb_safelimits_bodycurrent crddb_c1c_sep _crddb_sw2_condtype_value  \\\n",
       "0                         None          None                      None   \n",
       "1                         None          None                      None   \n",
       "\n",
       "  _crddb_sw1_condtype_value crddb_shieldwirevertical2  \\\n",
       "0                      None                      None   \n",
       "1                      None                      None   \n",
       "\n",
       "   crddb_shieldwirevertical1 crddb_pipediameter _crddb_c2c_condtype_value  \\\n",
       "0                       None               None                      None   \n",
       "1                       None               None                      None   \n",
       "\n",
       "  crddb_targetline  \n",
       "0             None  \n",
       "1             None  \n",
       "\n",
       "[2 rows x 126 columns]"
      ]
     },
     "execution_count": 5,
     "metadata": {},
     "output_type": "execute_result"
    }
   ],
   "source": [
    "data_df = pd.DataFrame(data['value'])\n",
    "data_df"
   ]
  },
  {
   "cell_type": "code",
   "execution_count": 6,
   "metadata": {},
   "outputs": [],
   "source": [
    "# 55329a7f-027d-ee11-8179-000d3a1f576d\n",
    "# 55329a7f-027d-ee11-8179-000d3a1f576d\n",
    "\n",
    "\n",
    "# 55329a7f-027d-ee11-8179-000d3a1f576d"
   ]
  },
  {
   "cell_type": "code",
   "execution_count": 7,
   "metadata": {},
   "outputs": [],
   "source": [
    "# https://org425ee2cf.crm.dynamics.com/main.aspx?appid=711598ab-c3ee-ed11-8848-0022481c5dfb&pagetype=entityrecord&etn=crddb_autorowreportinputsession&id=55329a7f-027d-ee11-8179-000d3a1f576d"
   ]
  },
  {
   "cell_type": "code",
   "execution_count": 8,
   "metadata": {},
   "outputs": [
    {
     "data": {
      "text/plain": [
       "'55329a7f-027d-ee11-8179-000d3a1f576d'"
      ]
     },
     "execution_count": 8,
     "metadata": {},
     "output_type": "execute_result"
    }
   ],
   "source": [
    "id_autorow = data_df['crddb_autorowreportinputsessionid'][0]\n",
    "id_autorow"
   ]
  },
  {
   "cell_type": "code",
   "execution_count": 9,
   "metadata": {},
   "outputs": [
    {
     "data": {
      "text/plain": [
       "['Gas_VM50_CRUZ_45graus.csv', 'LT_VM100.csv']"
      ]
     },
     "execution_count": 9,
     "metadata": {},
     "output_type": "execute_result"
    }
   ],
   "source": [
    "id_autorow = data_df['crddb_autorowreportinputsessionid'][0]\n",
    "file_source = data_df['crddb_coordinatesfile_source_name'][0]\n",
    "file_target = data_df['crddb_coordinatesfile_target_name'][0]\n",
    "names = [file_target, file_source]\n",
    "names"
   ]
  },
  {
   "cell_type": "code",
   "execution_count": 14,
   "metadata": {},
   "outputs": [
    {
     "name": "stdout",
     "output_type": "stream",
     "text": [
      "File downloaded successfully.\n",
      "File downloaded successfully.\n"
     ]
    }
   ],
   "source": [
    "# api_endpoint = 'https://org425ee2cf.crm.dynamics.com/api/data/v9.1/crddb_autorowreportinputsessions'#/ROW-1004L5J9/crddb_coordinatesfile_source'\n",
    "api_endpoint_target = f'https://org425ee2cf.crm.dynamics.com/api/data/v9.0/crddb_autorowreportinputsessions({id_autorow})/crddb_coordinatesfile_target/$value'\n",
    "api_endpoint_source = f'https://org425ee2cf.crm.dynamics.com/api/data/v9.0/crddb_autorowreportinputsessions({id_autorow})/crddb_coordinatesfile_target/$value'\n",
    "\n",
    "\n",
    "headers = {\n",
    "    'Authorization': f'Bearer {access_token}'\n",
    "}\n",
    "\n",
    "# Making the API request to get the file content\n",
    "response_target = requests.get(api_endpoint_target, headers=headers)\n",
    "response_source = requests.get(api_endpoint_source, headers=headers)\n",
    "\n",
    "# Check if the request was successful\n",
    "if response_target.status_code == 200:\n",
    "    file_content = response_target.content\n",
    "    # Write the binary data to a file\n",
    "    with open(names[0], 'wb') as file:\n",
    "        file.write(file_content)\n",
    "    print(\"File downloaded successfully.\")\n",
    "else:\n",
    "    print(f\"Failed to download the file. Status code: {response_target.status_code}\")\n",
    "    \n",
    "# Check if the request was successful\n",
    "if response_source.status_code == 200:\n",
    "    file_content = response_source.content\n",
    "    # Write the binary data to a file\n",
    "    with open(names[1], 'wb') as file:\n",
    "        file.write(file_content)\n",
    "    print(\"File downloaded successfully.\")\n",
    "else:\n",
    "    print(f\"Failed to download the file. Status code: {response_source.status_code}\")\n",
    "    "
   ]
  },
  {
   "cell_type": "code",
   "execution_count": 11,
   "metadata": {},
   "outputs": [
    {
     "ename": "SyntaxError",
     "evalue": "invalid syntax (2797086791.py, line 1)",
     "output_type": "error",
     "traceback": [
      "\u001b[1;36m  Input \u001b[1;32mIn [11]\u001b[1;36m\u001b[0m\n\u001b[1;33m    875Sdcsdcs67\u001b[0m\n\u001b[1;37m       ^\u001b[0m\n\u001b[1;31mSyntaxError\u001b[0m\u001b[1;31m:\u001b[0m invalid syntax\n"
     ]
    }
   ],
   "source": [
    "875Sdcsdcs67"
   ]
  },
  {
   "cell_type": "code",
   "execution_count": null,
   "metadata": {},
   "outputs": [
    {
     "data": {
      "text/plain": [
       "b'<!DOCTYPE html>\\r\\n<html>\\r\\n    <head>\\r\\n        <title>Runtime Error</title>\\r\\n        <meta name=\"viewport\" content=\"width=device-width\" />\\r\\n        <style>\\r\\n         body {font-family:\"Verdana\";font-weight:normal;font-size: .7em;color:black;} \\r\\n         p {font-family:\"Verdana\";font-weight:normal;color:black;margin-top: -5px}\\r\\n         b {font-family:\"Verdana\";font-weight:bold;color:black;margin-top: -5px}\\r\\n         H1 { font-family:\"Verdana\";font-weight:normal;font-size:18pt;color:red }\\r\\n         H2 { font-family:\"Verdana\";font-weight:normal;font-size:14pt;color:maroon }\\r\\n         pre {font-family:\"Consolas\",\"Lucida Console\",Monospace;font-size:11pt;margin:0;padding:0.5em;line-height:14pt}\\r\\n         .marker {font-weight: bold; color: black;text-decoration: none;}\\r\\n         .version {color: gray;}\\r\\n         .error {margin-bottom: 10px;}\\r\\n         .expandable { text-decoration:underline; font-weight:bold; color:navy; cursor:pointer; }\\r\\n         @media screen and (max-width: 639px) {\\r\\n          pre { width: 440px; overflow: auto; white-space: pre-wrap; word-wrap: break-word; }\\r\\n         }\\r\\n         @media screen and (max-width: 479px) {\\r\\n          pre { width: 280px; }\\r\\n         }\\r\\n        </style>\\r\\n    </head>\\r\\n\\r\\n    <body bgcolor=\"white\">\\r\\n\\r\\n            <span><H1>Server Error in \\'/\\' Application.<hr width=100% size=1 color=silver></H1>\\r\\n\\r\\n            <h2> <i>Runtime Error</i> </h2></span>\\r\\n\\r\\n            <font face=\"Arial, Helvetica, Geneva, SunSans-Regular, sans-serif \">\\r\\n\\r\\n            <b> Description: </b>An application error occurred on the server. The current custom error settings for this application prevent the details of the application error from being viewed remotely (for security reasons). It could, however, be viewed by browsers running on the local server machine.\\r\\n            <br><br>\\r\\n\\r\\n            <b>Details:</b> To enable the details of this specific error message to be viewable on remote machines, please create a &lt;customErrors&gt; tag within a &quot;web.config&quot; configuration file located in the root directory of the current web application. This &lt;customErrors&gt; tag should then have its &quot;mode&quot; attribute set to &quot;Off&quot;.<br><br>\\r\\n\\r\\n            <table width=100% bgcolor=\"#ffffcc\">\\r\\n               <tr>\\r\\n                  <td>\\r\\n                      <code><pre>\\r\\n\\r\\n&lt;!-- Web.Config Configuration File --&gt;\\r\\n\\r\\n&lt;configuration&gt;\\r\\n    &lt;system.web&gt;\\r\\n        &lt;customErrors mode=&quot;Off&quot;/&gt;\\r\\n    &lt;/system.web&gt;\\r\\n&lt;/configuration&gt;</pre>                      </code>\\r\\n\\r\\n                  </td>\\r\\n               </tr>\\r\\n            </table>\\r\\n\\r\\n            <br>\\r\\n\\r\\n            <b>Notes:</b> The current error page you are seeing can be replaced by a custom error page by modifying the &quot;defaultRedirect&quot; attribute of the application&#39;s &lt;customErrors&gt; configuration tag to point to a custom error page URL.<br><br>\\r\\n\\r\\n            <table width=100% bgcolor=\"#ffffcc\">\\r\\n               <tr>\\r\\n                  <td>\\r\\n                      <code><pre>\\r\\n\\r\\n&lt;!-- Web.Config Configuration File --&gt;\\r\\n\\r\\n&lt;configuration&gt;\\r\\n    &lt;system.web&gt;\\r\\n        &lt;customErrors mode=&quot;RemoteOnly&quot; defaultRedirect=&quot;mycustompage.htm&quot;/&gt;\\r\\n    &lt;/system.web&gt;\\r\\n&lt;/configuration&gt;</pre>                      </code>\\r\\n\\r\\n                  </td>\\r\\n               </tr>\\r\\n            </table>\\r\\n\\r\\n            <br>\\r\\n\\r\\n            </font>\\r\\n\\r\\n    </body>\\r\\n</html>\\r\\n'"
      ]
     },
     "execution_count": 21,
     "metadata": {},
     "output_type": "execute_result"
    }
   ],
   "source": [
    "\n",
    "# columns = ['crddb_coordinatesfile_source_name', 'crddb_coordinatesfile_target_name']\n",
    "# headers = {\n",
    "#     'Authorization': f'Bearer {access_token}'\n",
    "# }\n",
    "\n",
    "# for column, name in zip(columns, names):\n",
    "\n",
    "#     api_endpoint = f'https://org425ee2cf.crm.dynamics.com/api/data/v9.0/crddb_autorowreportinputsessions({id_autorow})/{column}/$value'\n",
    "#     print(api_endpoint)\n",
    "#     response = requests.get(api_endpoint, headers=headers)\n",
    "#     print(name)\n",
    "#     if response.status_code == 200:\n",
    "#         file_content = response.content\n",
    "#         # Write the binary data to a file\n",
    "#         with open(name, 'wb') as file:\n",
    "#             file.write(file_content)\n",
    "#         print(\"File downloaded successfully.\")\n",
    "#     else:\n",
    "#         print(f\"Failed to download the file. Status code: {response.status_code}\")\n",
    "    \n"
   ]
  },
  {
   "cell_type": "code",
   "execution_count": null,
   "metadata": {},
   "outputs": [
    {
     "name": "stdout",
     "output_type": "stream",
     "text": [
      "File downloaded successfully.\n"
     ]
    }
   ],
   "source": [
    "# import requests\n",
    "\n",
    "# # Assuming you have the necessary details for authentication and API endpoint\n",
    "# token_endpoint = token_url\n",
    "# api_endpoint = url#\"/providers/Microsoft.PowerApps/apis/shared_commondataserviceforapps\"  # Replace with your Common Data Service API URL\n",
    "# entity_name = 'crddb_AutoROWReportInputSession'\n",
    "# record_id = \"@triggerOutputs()?['body/file/contentBytes']\"  # Replace with the record ID obtained from 'Get_row_(legacy)' step\n",
    "\n",
    "# # Make the request to fetch file content using the obtained access token\n",
    "# headers = {\n",
    "#     'Authorization': f'Bearer {access_token}',\n",
    "#     'Content-Type': 'application/json'\n",
    "# }\n",
    "\n",
    "# file_image_field_name = 'crddb_coordinatesfile_target_name'\n",
    "\n",
    "# file_download_endpoint = f'{api_endpoint}/{entity_name}/{record_id}/{file_image_field_name}'\n",
    "\n",
    "# file_response = requests.get(file_download_endpoint, headers=headers)\n",
    "\n",
    "# # Save the file content to a local file\n",
    "# with open('downloaded_file.csv', 'wb') as file:\n",
    "#     file.write(file_response.content)\n",
    "\n",
    "# print('File downloaded successfully.')\n"
   ]
  },
  {
   "cell_type": "code",
   "execution_count": null,
   "metadata": {},
   "outputs": [
    {
     "data": {
      "text/plain": [
       "b'{\"error\":{\"code\":\"0x80060888\",\"message\":\"Invalid value \\'10/crddb_AutoROWReportInputSession/@triggerOutputs()?[\\'body/file/contentBytes\\']/crddb_coordinatesfile_target_name\\' for $top query option found. The $top query option requires a non-negative integer value.\"}}'"
      ]
     },
     "execution_count": 11,
     "metadata": {},
     "output_type": "execute_result"
    }
   ],
   "source": [
    "file_response.content"
   ]
  },
  {
   "cell_type": "code",
   "execution_count": null,
   "metadata": {},
   "outputs": [
    {
     "data": {
      "text/plain": [
       "401"
      ]
     },
     "execution_count": 26,
     "metadata": {},
     "output_type": "execute_result"
    },
    {
     "ename": "",
     "evalue": "",
     "output_type": "error",
     "traceback": [
      "\u001b[1;31mThe Kernel crashed while executing code in the the current cell or a previous cell. Please review the code in the cell(s) to identify a possible cause of the failure. Click <a href='https://aka.ms/vscodeJupyterKernelCrash'>here</a> for more info. View Jupyter <a href='command:jupyter.viewOutput'>log</a> for further details."
     ]
    }
   ],
   "source": [
    "file_response.status_code"
   ]
  },
  {
   "cell_type": "code",
   "execution_count": null,
   "metadata": {},
   "outputs": [
    {
     "ename": "SyntaxError",
     "evalue": "invalid syntax (1872964407.py, line 1)",
     "output_type": "error",
     "traceback": [
      "\u001b[1;36m  Input \u001b[1;32mIn [7]\u001b[1;36m\u001b[0m\n\u001b[1;33m    6eveerv\u001b[0m\n\u001b[1;37m     ^\u001b[0m\n\u001b[1;31mSyntaxError\u001b[0m\u001b[1;31m:\u001b[0m invalid syntax\n"
     ]
    }
   ],
   "source": [
    "6eveerv"
   ]
  },
  {
   "cell_type": "code",
   "execution_count": null,
   "metadata": {},
   "outputs": [
    {
     "name": "stdout",
     "output_type": "stream",
     "text": [
      "https://org425ee2cf.crm.dynamics.com/api/data/v9.2/crddb_autorowreportinputsessions?$top=10//Gas_VM50_CRUZ_45graus.csv\n",
      "Failed to download file 'Gas_VM50_CRUZ_45graus.csv'. Status code: 401\n"
     ]
    }
   ],
   "source": [
    "\n",
    "# # Extracting filenames from the data\n",
    "# file_names = [entry.get('crddb_coordinatesfile_target_name') for entry in data.get('value', []) if entry.get('crddb_coordinatesfile_target_name')]\n",
    "\n",
    "# # URL or base URL from where you'll be downloading the files\n",
    "# base_download_url = 'https://org425ee2cf.crm.dynamics.com/api/data/v9.2/crddb_autorowreportinputsessions?$top=10/'  # Replace with your file download URL\n",
    "\n",
    "# for file_name in file_names:\n",
    "#     # Construct the URL for downloading each file\n",
    "#     file_download_url = f\"{base_download_url}/{file_name}\"  # Modify the URL structure according to your API\n",
    "#     print(file_download_url)\n",
    "#     # Make a GET request to download the file\n",
    "#     file_response = requests.get(file_download_url)\n",
    "\n",
    "#     # Check if the request was successful (status code 200)\n",
    "#     if file_response.status_code == 200:\n",
    "#         # Save the file with the same name as it has on the server\n",
    "#         with open(file_name, 'wb') as file:\n",
    "#             file.write(file_response.content)\n",
    "#         print(f\"File '{file_name}' has been downloaded successfully.\")\n",
    "#     else:\n",
    "#         print(f\"Failed to download file '{file_name}'. Status code:\", file_response.status_code)\n"
   ]
  },
  {
   "cell_type": "code",
   "execution_count": null,
   "metadata": {},
   "outputs": [
    {
     "data": {
      "text/plain": [
       "b'{\"@odata.context\":\"https://org425ee2cf.crm.dynamics.com/api/data/v9.2/$metadata#crddb_autorowreportinputsessions\",\"value\":[{\"@odata.etag\":\"W/\\\\\"4132305\\\\\"\",\"crddb_circuittype\":1,\"crddb_jobstatus\":1,\"crddb_coordinatesfile_target_name\":\"Gas_VM50_CRUZ_45graus.csv\",\"_owningbusinessunit_value\":\"77cd6714-c7eb-ed11-8849-000d3a17a888\",\"crddb_jobid\":\"ROW-1004L5J9\",\"statecode\":0,\"statuscode\":1,\"_createdby_value\":\"eade9878-0d57-ee11-be6f-000d3a1f576d\",\"crddb_coordinatesfile_source_name\":\"LT_VM100.csv\",\"_ownerid_value\":\"eade9878-0d57-ee11-be6f-000d3a1f576d\",\"modifiedon\":\"2023-11-07T00:14:09Z\",\"crddb_coordinatesfile_target\":\"96c89991-027d-ee11-8179-000d3a1f576d\",\"crddb_coordinatesfile_source\":\"23ab9985-027d-ee11-8179-000d3a1f576d\",\"_owninguser_value\":\"eade9878-0d57-ee11-be6f-000d3a1f576d\",\"_modifiedby_value\":\"eade9878-0d57-ee11-be6f-000d3a1f576d\",\"versionnumber\":4132305,\"createdon\":\"2023-11-07T00:13:40Z\",\"crddb_autorowreportinputsessionid\":\"55329a7f-027d-ee11-8179-000d3a1f576d\",\"_crddb_projectid_value\":\"62560189-fe7c-ee11-8179-000d3a1f576d\",\"crddb_c2a_vertical\":null,\"crddb_c1b_horizontal\":null,\"crddb_targetgroundimpedance_left_r\":null,\"crddb_c1a_numcond\":null,\"crddb_coatingdataresistivity\":null,\"crddb_c2b_horizontal\":null,\"crddb_steadystatecurrent\":null,\"crddb_c2c_numcond\":null,\"crddb_term2_name\":null,\"crddb_safelimits_steadystate\":null,\"importsequencenumber\":null,\"crddb_linevoltage\":null,\"crddb_sourcelineowner\":null,\"utcconversiontimezonecode\":null,\"overriddencreatedon\":null,\"crddb_c1a_vertical\":null,\"crddb_sourceline\":null,\"crddb_safelimits_coating\":null,\"crddb_c2phasesequence\":null,\"crddb_safelimits_currdensity\":null,\"_crddb_c1b_condtype_value\":null,\"crddb_nominalfaultcurrent_3phase_term1_phase\":null,\"crddb_c1phasesequence\":null,\"crddb_nominalfaultcurrent_3phase_term2_mod\":null,\"crddb_nominalfaultcurrent_1phase_term1_phase\":null,\"crddb_groundimpedance_terminal1_x\":null,\"crddb_groundimpedance_terminal1_r\":null,\"crddb_safelimits_insuljoint\":null,\"_crddb_c1a_condtype_value\":null,\"crddb_targetlinetype\":null,\"crddb_nominalfaultcurrent_3phase_term1_mod\":null,\"crddb_spansbeforeemizone\":null,\"crddb_c1c_numcond\":null,\"crddb_mitigation_covermaterialthickness\":null,\"crddb_nominalfaultcurrent_3phase_term2_phase\":null,\"crddb_term1_name\":null,\"_crddb_c2b_condtype_value\":null,\"crddb_nominalfaultcurrent_1phase_term2_phase\":null,\"crddb_casedescription\":null,\"crddb_c1c_horizontal\":null,\"crddb_exposurelength\":null,\"crddb_averagespanlength\":null,\"crddb_mitigation_covermaterialresistivity\":null,\"crddb_coatingdatathickness\":null,\"_crddb_c2a_condtype_value\":null,\"crddb_safelimits_rectifier\":null,\"crddb_targetgroundimpedance_right_r\":null,\"timezoneruleversionnumber\":null,\"_owningteam_value\":null,\"crddb_targetgroundimpedance_right_x\":null,\"crddb_targetlineowner\":null,\"crddb_c2b_numcond\":null,\"crddb_groundimpedance_towers_r\":null,\"_modifiedonbehalfby_value\":null,\"crddb_c1a_horizontal\":null,\"_crddb_faullocationsoilresistivity_value\":null,\"crddb_c2a_horizontal\":null,\"crddb_spansafteremizone\":null,\"crddb_safelimits_rb\":null,\"crddb_interferencetype\":null,\"_createdonbehalfby_value\":null,\"crddb_faultlocation_epicenter_y\":null,\"crddb_faultlocation_epicenter_x\":null,\"crddb_safelimits_faultduration\":null,\"crddb_nominalfaultcurrent_1phase_term2_mod\":null,\"crddb_shieldwirehorizontal1\":null,\"crddb_shieldwirehorizontal2\":null,\"crddb_c2c_vertical\":null,\"crddb_approxtype\":null,\"crddb_mitigation_covermaterial\":null,\"crddb_progress\":null,\"crddb_c1b_numcond\":null,\"crddb_c2c_horizontal\":null,\"crddb_nominalfaultcurrent_1phase_term1_mod\":null,\"crddb_groundimpedance_towers_x\":null,\"crddb_crosssection_targety\":null,\"crddb_faultlocation_section\":null,\"crddb_c1c_vertical\":null,\"crddb_c2a_sep\":null,\"_crddb_authorizationticket_value\":null,\"crddb_c1a_sep\":null,\"crddb_c2b_vertical\":null,\"crddb_contributionfaultcurrent_term2_phase\":null,\"crddb_contributionfaultcurrent_term2_mod\":null,\"crddb_contributionfaultcurrent_term1_mod\":null,\"crddb_c2b_sep\":null,\"crddb_targetgroundimpedance_left_x\":null,\"crddb_groundimpedance_terminal2_x\":null,\"crddb_c1b_sep\":null,\"crddb_c2a_numcond\":null,\"crddb_groundimpedance_terminal2_r\":null,\"crddb_counterpoiselength\":null,\"_crddb_c1c_condtype_value\":null,\"crddb_c1b_vertical\":null,\"crddb_contributionfaultcurrent_term1_phase\":null,\"crddb_coatingdatatype\":null,\"crddb_c2c_sep\":null,\"crddb_safelimits_bodycurrent\":null,\"crddb_c1c_sep\":null,\"_crddb_sw2_condtype_value\":null,\"_crddb_sw1_condtype_value\":null,\"crddb_shieldwirevertical2\":null,\"crddb_shieldwirevertical1\":null,\"crddb_pipediameter\":null,\"_crddb_c2c_condtype_value\":null,\"crddb_targetline\":null},{\"@odata.etag\":\"W/\\\\\"3602231\\\\\"\",\"crddb_circuittype\":null,\"crddb_jobstatus\":4,\"crddb_coordinatesfile_target_name\":null,\"_owningbusinessunit_value\":\"77cd6714-c7eb-ed11-8849-000d3a17a888\",\"crddb_jobid\":\"ROW-1002L5M5\",\"statecode\":0,\"statuscode\":1,\"_createdby_value\":\"69d46714-c7eb-ed11-8849-000d3a17a888\",\"crddb_coordinatesfile_source_name\":null,\"_ownerid_value\":\"69d46714-c7eb-ed11-8849-000d3a17a888\",\"modifiedon\":\"2023-10-07T13:19:50Z\",\"crddb_coordinatesfile_target\":null,\"crddb_coordinatesfile_source\":null,\"_owninguser_value\":\"69d46714-c7eb-ed11-8849-000d3a17a888\",\"_modifiedby_value\":\"eade9878-0d57-ee11-be6f-000d3a1f576d\",\"versionnumber\":3602231,\"createdon\":\"2023-05-21T18:22:27Z\",\"crddb_autorowreportinputsessionid\":\"7451df6f-04f8-ed11-8848-000d3a1f576d\",\"_crddb_projectid_value\":\"2018e5fb-e8f7-ed11-8848-000d3a1f576d\",\"crddb_c2a_vertical\":null,\"crddb_c1b_horizontal\":null,\"crddb_targetgroundimpedance_left_r\":null,\"crddb_c1a_numcond\":null,\"crddb_coatingdataresistivity\":null,\"crddb_c2b_horizontal\":null,\"crddb_steadystatecurrent\":null,\"crddb_c2c_numcond\":null,\"crddb_term2_name\":null,\"crddb_safelimits_steadystate\":null,\"importsequencenumber\":null,\"crddb_linevoltage\":null,\"crddb_sourcelineowner\":null,\"utcconversiontimezonecode\":null,\"overriddencreatedon\":null,\"crddb_c1a_vertical\":null,\"crddb_sourceline\":\"Source\",\"crddb_safelimits_coating\":null,\"crddb_c2phasesequence\":null,\"crddb_safelimits_currdensity\":null,\"_crddb_c1b_condtype_value\":null,\"crddb_nominalfaultcurrent_3phase_term1_phase\":null,\"crddb_c1phasesequence\":null,\"crddb_nominalfaultcurrent_3phase_term2_mod\":null,\"crddb_nominalfaultcurrent_1phase_term1_phase\":null,\"crddb_groundimpedance_terminal1_x\":null,\"crddb_groundimpedance_terminal1_r\":null,\"crddb_safelimits_insuljoint\":null,\"_crddb_c1a_condtype_value\":null,\"crddb_targetlinetype\":null,\"crddb_nominalfaultcurrent_3phase_term1_mod\":null,\"crddb_spansbeforeemizone\":null,\"crddb_c1c_numcond\":null,\"crddb_mitigation_covermaterialthickness\":null,\"crddb_nominalfaultcurrent_3phase_term2_phase\":null,\"crddb_term1_name\":null,\"_crddb_c2b_condtype_value\":null,\"crddb_nominalfaultcurrent_1phase_term2_phase\":null,\"crddb_casedescription\":\"Caso teste\",\"crddb_c1c_horizontal\":null,\"crddb_exposurelength\":null,\"crddb_averagespanlength\":null,\"crddb_mitigation_covermaterialresistivity\":null,\"crddb_coatingdatathickness\":null,\"_crddb_c2a_condtype_value\":null,\"crddb_safelimits_rectifier\":null,\"crddb_targetgroundimpedance_right_r\":null,\"timezoneruleversionnumber\":null,\"_owningteam_value\":null,\"crddb_targetgroundimpedance_right_x\":null,\"crddb_targetlineowner\":null,\"crddb_c2b_numcond\":null,\"crddb_groundimpedance_towers_r\":null,\"_modifiedonbehalfby_value\":null,\"crddb_c1a_horizontal\":null,\"_crddb_faullocationsoilresistivity_value\":null,\"crddb_c2a_horizontal\":null,\"crddb_spansafteremizone\":null,\"crddb_safelimits_rb\":null,\"crddb_interferencetype\":2,\"_createdonbehalfby_value\":null,\"crddb_faultlocation_epicenter_y\":null,\"crddb_faultlocation_epicenter_x\":null,\"crddb_safelimits_faultduration\":null,\"crddb_nominalfaultcurrent_1phase_term2_mod\":null,\"crddb_shieldwirehorizontal1\":null,\"crddb_shieldwirehorizontal2\":null,\"crddb_c2c_vertical\":null,\"crddb_approxtype\":1,\"crddb_mitigation_covermaterial\":null,\"crddb_progress\":50,\"crddb_c1b_numcond\":null,\"crddb_c2c_horizontal\":null,\"crddb_nominalfaultcurrent_1phase_term1_mod\":null,\"crddb_groundimpedance_towers_x\":null,\"crddb_crosssection_targety\":null,\"crddb_faultlocation_section\":null,\"crddb_c1c_vertical\":null,\"crddb_c2a_sep\":null,\"_crddb_authorizationticket_value\":null,\"crddb_c1a_sep\":null,\"crddb_c2b_vertical\":null,\"crddb_contributionfaultcurrent_term2_phase\":null,\"crddb_contributionfaultcurrent_term2_mod\":null,\"crddb_contributionfaultcurrent_term1_mod\":null,\"crddb_c2b_sep\":null,\"crddb_targetgroundimpedance_left_x\":null,\"crddb_groundimpedance_terminal2_x\":null,\"crddb_c1b_sep\":null,\"crddb_c2a_numcond\":null,\"crddb_groundimpedance_terminal2_r\":null,\"crddb_counterpoiselength\":null,\"_crddb_c1c_condtype_value\":null,\"crddb_c1b_vertical\":null,\"crddb_contributionfaultcurrent_term1_phase\":null,\"crddb_coatingdatatype\":null,\"crddb_c2c_sep\":null,\"crddb_safelimits_bodycurrent\":null,\"crddb_c1c_sep\":null,\"_crddb_sw2_condtype_value\":null,\"_crddb_sw1_condtype_value\":null,\"crddb_shieldwirevertical2\":null,\"crddb_shieldwirevertical1\":null,\"crddb_pipediameter\":null,\"_crddb_c2c_condtype_value\":null,\"crddb_targetline\":null}]}'"
      ]
     },
     "execution_count": 10,
     "metadata": {},
     "output_type": "execute_result"
    }
   ],
   "source": [
    "response.content"
   ]
  },
  {
   "cell_type": "code",
   "execution_count": null,
   "metadata": {},
   "outputs": [],
   "source": [
    "# data['value']"
   ]
  },
  {
   "cell_type": "code",
   "execution_count": null,
   "metadata": {},
   "outputs": [],
   "source": [
    "data_df = pd.DataFrame(data['value'])\n",
    "# data_df"
   ]
  },
  {
   "cell_type": "code",
   "execution_count": null,
   "metadata": {},
   "outputs": [],
   "source": [
    "# data_df = data_df.transpose()\n",
    "# data_df"
   ]
  },
  {
   "cell_type": "code",
   "execution_count": null,
   "metadata": {},
   "outputs": [
    {
     "data": {
      "text/plain": [
       "'Gas_VM50_CRUZ_45graus.csv'"
      ]
     },
     "execution_count": 14,
     "metadata": {},
     "output_type": "execute_result"
    }
   ],
   "source": [
    "# filename = data_df[0]['crddb_coordinatesfile_target_name']\n",
    "# filename"
   ]
  }
 ],
 "metadata": {
  "kernelspec": {
   "display_name": "base",
   "language": "python",
   "name": "python3"
  },
  "language_info": {
   "codemirror_mode": {
    "name": "ipython",
    "version": 3
   },
   "file_extension": ".py",
   "mimetype": "text/x-python",
   "name": "python",
   "nbconvert_exporter": "python",
   "pygments_lexer": "ipython3",
   "version": "3.9.12"
  }
 },
 "nbformat": 4,
 "nbformat_minor": 2
}
