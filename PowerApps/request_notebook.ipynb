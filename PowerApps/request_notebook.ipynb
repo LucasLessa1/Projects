{
 "cells": [
  {
   "cell_type": "markdown",
   "metadata": {},
   "source": [
    "### Imports"
   ]
  },
  {
   "cell_type": "code",
   "execution_count": 1,
   "metadata": {},
   "outputs": [],
   "source": [
    "from tools import *"
   ]
  },
  {
   "cell_type": "markdown",
   "metadata": {},
   "source": [
    "# Requests"
   ]
  },
  {
   "cell_type": "markdown",
   "metadata": {},
   "source": [
    "## API Auto ROW Report Input Session"
   ]
  },
  {
   "cell_type": "markdown",
   "metadata": {},
   "source": [
    "Dados de Usuário"
   ]
  },
  {
   "cell_type": "code",
   "execution_count": 2,
   "metadata": {},
   "outputs": [],
   "source": [
    "user = \"190126230@aluno.unb.br\"\n",
    "password = \"ENG1901me00$$\""
   ]
  },
  {
   "cell_type": "markdown",
   "metadata": {},
   "source": [
    "This function take all the need part to all requests"
   ]
  },
  {
   "cell_type": "code",
   "execution_count": 3,
   "metadata": {},
   "outputs": [
    {
     "name": "stdout",
     "output_type": "stream",
     "text": [
      "https://localhost/?code=0.AQoAoZs17AtjK024M8jm1I-AWYkU-FHuEp5Kqq6iWR9FmH0BAAA.AgABAAIAAAAmoFfGtYxvRrNriQdPKIZ-AgDs_wUA9P9V_asEto_2B0Gf1SFXUweF7SMk8iac5lVkEOL4ji6FgoWBfxSnis_sF-iaR2IqQI0c8UXzX424dprSToHJpgWvvpiy9gNcl3jbRo_BWV8cdhIpEpuqMdoptyafCwXvg6riiyVVbvbVIYIq2AcSsz12xYhIp9wYN-HM3W5--fUFnKsr-S5oMuXmDGkAN8lFmtuidMdaSweKSti4niGAhYFkF0tkgvMxK9FQXa6KAuyyArKeZM2hWzo69rlFeZsc_YsXF9cD2CsNuEtQrZKm7K2o8c7oxZrxm4gOztwnDAaeWiL1Ypvg2X_I4WFfCgO-w0Ne2ZZntypIF4OgZ4WDG3YgxC3yxoyf3GIkcjfi75wHzg_iHlXvWljVbF8O2dlFBBd4Xbp8lGJFf54HUMT_MC2AFdMp_w3wcBjWZUyrrevUMg7jS9RSG1o7Zy8WKgC4cZP53s5P-pLA4NdZi-wrtiU9FyF5z3epMikWSU0QVzvvLonNLHWQu01r4ZIdsFvX-BrBfs2DcCxN6aNn1NzBr8nJreg4L7y24rA7yrDNzRJqeVU8IYGRr-_Jz9CC3nCIWuUwDaDBfkLVKe719SuRCx0FrSQ0dDrNnDG-mhFRaw900xlNDzyTF-EdDWaS2jR_LDXNZfMCpRKhLPYPaW68ZEWC4BaswWRHD-I&session_state=7b26595e-188e-4adc-b0f9-fed4bcc88630\n",
      "eyJ0eXAiOiJKV1QiLCJhbGciOiJSUzI1NiIsIng1dCI6IlQxU3QtZExUdnlXUmd4Ql82NzZ1OGtyWFMtSSIsImtpZCI6IlQxU3QtZExUdnlXUmd4Ql82NzZ1OGtyWFMtSSJ9.eyJhdWQiOiJodHRwczovL29yZzQyNWVlMmNmLmFwaS5jcm0uZHluYW1pY3MuY29tIiwiaXNzIjoiaHR0cHM6Ly9zdHMud2luZG93cy5uZXQvZWMzNTliYTEtNjMwYi00ZDJiLWI4MzMtYzhlNmQ0OGY4MDU5LyIsImlhdCI6MTcwMzI3MDU3OSwibmJmIjoxNzAzMjcwNTc5LCJleHAiOjE3MDMyNzQ1OTcsImFjY3QiOjAsImFjciI6IjEiLCJhaW8iOiJBVFFBeS84VkFBQUE4aDhBQVFKTnlBU1JsZVYzUWFxcXhIMzNUN0Z3ZFNuS1orbHlQeUZOcWxRWG00MnZ5dXdmaTE1M3VnUHNBY0hyIiwiYW1yIjpbInB3ZCJdLCJhcHBpZCI6IjUxZjgxNDg5LTEyZWUtNGE5ZS1hYWFlLWEyNTkxZjQ1OTg3ZCIsImFwcGlkYWNyIjoiMCIsImZhbWlseV9uYW1lIjoiU2FudG9zIExlc3NhIiwiZ2l2ZW5fbmFtZSI6Ikx1Y2FzIiwiaXBhZGRyIjoiMjgwNDoxNGM6NjVhMTo4YjNhOmZkNTM6Njc3YjpiM2M5OjNlOTAiLCJsb2dpbl9oaW50IjoiTy5DaVE1TTJFMVpUSmlaQzFoWmpJMkxUUTVZbUl0WWpsak9DMDBZV0ZpWW1KaE16QTBaallTSkdWak16VTVZbUV4TFRZek1HSXROR1F5WWkxaU9ETXpMV000WlRaa05EaG1PREExT1JvV01Ua3dNVEkyTWpNd1FHRnNkVzV2TG5WdVlpNWljaUJlIiwibmFtZSI6Ikx1Y2FzIFNhbnRvcyBMZXNzYSIsIm9pZCI6IjkzYTVlMmJkLWFmMjYtNDliYi1iOWM4LTRhYWJiYmEzMDRmNiIsIm9ucHJlbV9zaWQiOiJTLTEtNS0yMS0xNjc1Nzk5NzAtMTcwMjQwMDM5OC0zNTM5NjQ3MzY1LTU0OTI2IiwicHVpZCI6IjEwMDMyMDAwNUZCQzhBOTUiLCJyaCI6IjAuQVFvQW9aczE3QXRqSzAyNE04am0xSS1BV1FjQUFBQUFBQUFBd0FBQUFBQUFBQUFLQUNvLiIsInNjcCI6InVzZXJfaW1wZXJzb25hdGlvbiIsInN1YiI6InRFTUtiTDZhQkR6UGhqbnk5WFlVdDNEOF9WOUNNMEhqUDlnVG9TVUdGa1EiLCJ0ZW5hbnRfcmVnaW9uX3Njb3BlIjoiU0EiLCJ0aWQiOiJlYzM1OWJhMS02MzBiLTRkMmItYjgzMy1jOGU2ZDQ4ZjgwNTkiLCJ1bmlxdWVfbmFtZSI6IjE5MDEyNjIzMEBhbHVuby51bmIuYnIiLCJ1cG4iOiIxOTAxMjYyMzBAYWx1bm8udW5iLmJyIiwidXRpIjoiWndXQzRMTWFEMGlEbkE5cXVyNHdBZyIsInZlciI6IjEuMCIsIndpZHMiOlsiYjc5ZmJmNGQtM2VmOS00Njg5LTgxNDMtNzZiMTk0ZTg1NTA5Il0sInhtc19jYWUiOiIxIn0.JIiOD3GEcRvJtj_qfznWnW8OWm710nwvWYXtyRrGBv5d7q67M4Z5zCTA9OSvuTBvrflMR5RpkgtF-UnUtmIlee5pV1tYGCOJ--HtU1J-2XweIpIAU9ln5bE8YUilPxkh-6SD4u02BaAt3EpvRKJbVpcVhQhWLq2SDzT_lejjgPVsGJrV-KUslnMnaMkmqxB56B_JnpiX_BtIyyXaXfzHjbgwdIPceu402em6mFigC9bFtbJZtzTFL8-ScorE3YSxmm_uV3jeYIE-q8gbQkPmAEqkU7rLQqLG05H6gfvqp5H_HRsU5C7D4NIJV6RrF3B6PkhHCq9ggZNlhT5YGtKt3Q\n"
     ]
    }
   ],
   "source": [
    "access_token, callback_url =  take_request(user, password)"
   ]
  },
  {
   "cell_type": "markdown",
   "metadata": {},
   "source": [
    "### Request Auto ROW"
   ]
  },
  {
   "cell_type": "code",
   "execution_count": 4,
   "metadata": {},
   "outputs": [
    {
     "data": {
      "text/html": [
       "<div>\n",
       "<style scoped>\n",
       "    .dataframe tbody tr th:only-of-type {\n",
       "        vertical-align: middle;\n",
       "    }\n",
       "\n",
       "    .dataframe tbody tr th {\n",
       "        vertical-align: top;\n",
       "    }\n",
       "\n",
       "    .dataframe thead th {\n",
       "        text-align: right;\n",
       "    }\n",
       "</style>\n",
       "<table border=\"1\" class=\"dataframe\">\n",
       "  <thead>\n",
       "    <tr style=\"text-align: right;\">\n",
       "      <th></th>\n",
       "      <th>@odata.etag</th>\n",
       "      <th>crddb_c1b_sep</th>\n",
       "      <th>crddb_contributionfaultcurrent_term1_mod</th>\n",
       "      <th>crddb_crosssection_targety</th>\n",
       "      <th>crddb_contributionfaultcurrent_term2_phase</th>\n",
       "      <th>_ownerid_value</th>\n",
       "      <th>crddb_spansbeforeemizone</th>\n",
       "      <th>statecode</th>\n",
       "      <th>crddb_contributionfaultcurrent_term2_mod</th>\n",
       "      <th>crddb_circuittype</th>\n",
       "      <th>...</th>\n",
       "      <th>crddb_c1b_numcond</th>\n",
       "      <th>crddb_c2c_horizontal</th>\n",
       "      <th>crddb_c2a_sep</th>\n",
       "      <th>_crddb_authorizationticket_value</th>\n",
       "      <th>crddb_c2b_vertical</th>\n",
       "      <th>crddb_c2b_sep</th>\n",
       "      <th>crddb_c2a_numcond</th>\n",
       "      <th>crddb_c2c_sep</th>\n",
       "      <th>crddb_c2a_alpha</th>\n",
       "      <th>_crddb_c2c_condtype_value</th>\n",
       "    </tr>\n",
       "    <tr>\n",
       "      <th>crddb_autorowreportinputsessionid</th>\n",
       "      <th></th>\n",
       "      <th></th>\n",
       "      <th></th>\n",
       "      <th></th>\n",
       "      <th></th>\n",
       "      <th></th>\n",
       "      <th></th>\n",
       "      <th></th>\n",
       "      <th></th>\n",
       "      <th></th>\n",
       "      <th></th>\n",
       "      <th></th>\n",
       "      <th></th>\n",
       "      <th></th>\n",
       "      <th></th>\n",
       "      <th></th>\n",
       "      <th></th>\n",
       "      <th></th>\n",
       "      <th></th>\n",
       "      <th></th>\n",
       "      <th></th>\n",
       "    </tr>\n",
       "  </thead>\n",
       "  <tbody>\n",
       "    <tr>\n",
       "      <th>55329a7f-027d-ee11-8179-000d3a1f576d</th>\n",
       "      <td>W/\"4758090\"</td>\n",
       "      <td>0.4</td>\n",
       "      <td>5000.0</td>\n",
       "      <td>1.5</td>\n",
       "      <td>0.0</td>\n",
       "      <td>eade9878-0d57-ee11-be6f-000d3a1f576d</td>\n",
       "      <td>5.0</td>\n",
       "      <td>0</td>\n",
       "      <td>5000.0</td>\n",
       "      <td>1.0</td>\n",
       "      <td>...</td>\n",
       "      <td>None</td>\n",
       "      <td>None</td>\n",
       "      <td>None</td>\n",
       "      <td>None</td>\n",
       "      <td>None</td>\n",
       "      <td>None</td>\n",
       "      <td>None</td>\n",
       "      <td>None</td>\n",
       "      <td>None</td>\n",
       "      <td>None</td>\n",
       "    </tr>\n",
       "    <tr>\n",
       "      <th>7451df6f-04f8-ed11-8848-000d3a1f576d</th>\n",
       "      <td>W/\"3602231\"</td>\n",
       "      <td>NaN</td>\n",
       "      <td>NaN</td>\n",
       "      <td>NaN</td>\n",
       "      <td>NaN</td>\n",
       "      <td>69d46714-c7eb-ed11-8849-000d3a17a888</td>\n",
       "      <td>NaN</td>\n",
       "      <td>0</td>\n",
       "      <td>NaN</td>\n",
       "      <td>NaN</td>\n",
       "      <td>...</td>\n",
       "      <td>None</td>\n",
       "      <td>None</td>\n",
       "      <td>None</td>\n",
       "      <td>None</td>\n",
       "      <td>None</td>\n",
       "      <td>None</td>\n",
       "      <td>None</td>\n",
       "      <td>None</td>\n",
       "      <td>None</td>\n",
       "      <td>None</td>\n",
       "    </tr>\n",
       "  </tbody>\n",
       "</table>\n",
       "<p>2 rows × 133 columns</p>\n",
       "</div>"
      ],
      "text/plain": [
       "                                      @odata.etag  crddb_c1b_sep  \\\n",
       "crddb_autorowreportinputsessionid                                  \n",
       "55329a7f-027d-ee11-8179-000d3a1f576d  W/\"4758090\"            0.4   \n",
       "7451df6f-04f8-ed11-8848-000d3a1f576d  W/\"3602231\"            NaN   \n",
       "\n",
       "                                      crddb_contributionfaultcurrent_term1_mod  \\\n",
       "crddb_autorowreportinputsessionid                                                \n",
       "55329a7f-027d-ee11-8179-000d3a1f576d                                    5000.0   \n",
       "7451df6f-04f8-ed11-8848-000d3a1f576d                                       NaN   \n",
       "\n",
       "                                      crddb_crosssection_targety  \\\n",
       "crddb_autorowreportinputsessionid                                  \n",
       "55329a7f-027d-ee11-8179-000d3a1f576d                         1.5   \n",
       "7451df6f-04f8-ed11-8848-000d3a1f576d                         NaN   \n",
       "\n",
       "                                      crddb_contributionfaultcurrent_term2_phase  \\\n",
       "crddb_autorowreportinputsessionid                                                  \n",
       "55329a7f-027d-ee11-8179-000d3a1f576d                                         0.0   \n",
       "7451df6f-04f8-ed11-8848-000d3a1f576d                                         NaN   \n",
       "\n",
       "                                                            _ownerid_value  \\\n",
       "crddb_autorowreportinputsessionid                                            \n",
       "55329a7f-027d-ee11-8179-000d3a1f576d  eade9878-0d57-ee11-be6f-000d3a1f576d   \n",
       "7451df6f-04f8-ed11-8848-000d3a1f576d  69d46714-c7eb-ed11-8849-000d3a17a888   \n",
       "\n",
       "                                      crddb_spansbeforeemizone  statecode  \\\n",
       "crddb_autorowreportinputsessionid                                           \n",
       "55329a7f-027d-ee11-8179-000d3a1f576d                       5.0          0   \n",
       "7451df6f-04f8-ed11-8848-000d3a1f576d                       NaN          0   \n",
       "\n",
       "                                      crddb_contributionfaultcurrent_term2_mod  \\\n",
       "crddb_autorowreportinputsessionid                                                \n",
       "55329a7f-027d-ee11-8179-000d3a1f576d                                    5000.0   \n",
       "7451df6f-04f8-ed11-8848-000d3a1f576d                                       NaN   \n",
       "\n",
       "                                      crddb_circuittype  ...  \\\n",
       "crddb_autorowreportinputsessionid                        ...   \n",
       "55329a7f-027d-ee11-8179-000d3a1f576d                1.0  ...   \n",
       "7451df6f-04f8-ed11-8848-000d3a1f576d                NaN  ...   \n",
       "\n",
       "                                      crddb_c1b_numcond  crddb_c2c_horizontal  \\\n",
       "crddb_autorowreportinputsessionid                                               \n",
       "55329a7f-027d-ee11-8179-000d3a1f576d               None                  None   \n",
       "7451df6f-04f8-ed11-8848-000d3a1f576d               None                  None   \n",
       "\n",
       "                                     crddb_c2a_sep  \\\n",
       "crddb_autorowreportinputsessionid                    \n",
       "55329a7f-027d-ee11-8179-000d3a1f576d          None   \n",
       "7451df6f-04f8-ed11-8848-000d3a1f576d          None   \n",
       "\n",
       "                                     _crddb_authorizationticket_value  \\\n",
       "crddb_autorowreportinputsessionid                                       \n",
       "55329a7f-027d-ee11-8179-000d3a1f576d                             None   \n",
       "7451df6f-04f8-ed11-8848-000d3a1f576d                             None   \n",
       "\n",
       "                                     crddb_c2b_vertical crddb_c2b_sep  \\\n",
       "crddb_autorowreportinputsessionid                                       \n",
       "55329a7f-027d-ee11-8179-000d3a1f576d               None          None   \n",
       "7451df6f-04f8-ed11-8848-000d3a1f576d               None          None   \n",
       "\n",
       "                                     crddb_c2a_numcond  crddb_c2c_sep  \\\n",
       "crddb_autorowreportinputsessionid                                       \n",
       "55329a7f-027d-ee11-8179-000d3a1f576d              None           None   \n",
       "7451df6f-04f8-ed11-8848-000d3a1f576d              None           None   \n",
       "\n",
       "                                      crddb_c2a_alpha  \\\n",
       "crddb_autorowreportinputsessionid                       \n",
       "55329a7f-027d-ee11-8179-000d3a1f576d             None   \n",
       "7451df6f-04f8-ed11-8848-000d3a1f576d             None   \n",
       "\n",
       "                                      _crddb_c2c_condtype_value  \n",
       "crddb_autorowreportinputsessionid                                \n",
       "55329a7f-027d-ee11-8179-000d3a1f576d                       None  \n",
       "7451df6f-04f8-ed11-8848-000d3a1f576d                       None  \n",
       "\n",
       "[2 rows x 133 columns]"
      ]
     },
     "execution_count": 4,
     "metadata": {},
     "output_type": "execute_result"
    }
   ],
   "source": [
    "# Make authenticated request\n",
    "data = request_autorow(access_token)\n",
    "data_df = pd.DataFrame(data['value'])\n",
    "data_df.set_index(\"crddb_autorowreportinputsessionid\", inplace = True)\n",
    "data_df"
   ]
  },
  {
   "cell_type": "code",
   "execution_count": 5,
   "metadata": {},
   "outputs": [
    {
     "name": "stdout",
     "output_type": "stream",
     "text": [
      "O dataset não possui colunas com nomes iguais.\n"
     ]
    }
   ],
   "source": [
    "_ = check_equal_columns(data_df)"
   ]
  },
  {
   "cell_type": "markdown",
   "metadata": {},
   "source": [
    "## API Files Auto ROW Report"
   ]
  },
  {
   "cell_type": "code",
   "execution_count": 6,
   "metadata": {},
   "outputs": [
    {
     "data": {
      "text/plain": [
       "['55329a7f-027d-ee11-8179-000d3a1f576d',\n",
       " '7451df6f-04f8-ed11-8848-000d3a1f576d']"
      ]
     },
     "execution_count": 6,
     "metadata": {},
     "output_type": "execute_result"
    }
   ],
   "source": [
    "id_projects = list(data_df.index)\n",
    "name_target = list(data_df['crddb_coordinatesfile_target_name'])\n",
    "name_source = list(data_df['crddb_coordinatesfile_source_name'])\n",
    "id_projects"
   ]
  },
  {
   "cell_type": "code",
   "execution_count": 7,
   "metadata": {},
   "outputs": [
    {
     "name": "stdout",
     "output_type": "stream",
     "text": [
      "File downloaded successfully.\n",
      "File downloaded successfully.\n",
      "Failed to download the file. Status code: 404\n",
      "Failed to download the file. Status code: 404\n"
     ]
    }
   ],
   "source": [
    "for i, target, source in zip(id_projects, name_target, name_source):\n",
    "    downloaded_file(i, 'target', target, access_token)\n",
    "    downloaded_file(i, 'source', source, access_token)\n",
    "        "
   ]
  },
  {
   "cell_type": "markdown",
   "metadata": {},
   "source": [
    "## API Conductors LookUp"
   ]
  },
  {
   "cell_type": "markdown",
   "metadata": {},
   "source": [
    "### Columns LookUps in Auto ROW"
   ]
  },
  {
   "cell_type": "code",
   "execution_count": 8,
   "metadata": {},
   "outputs": [],
   "source": [
    "col_lookup_c1 = ['_crddb_c1a_condtype_value', '_crddb_c1b_condtype_value', '_crddb_c1c_condtype_value']\n",
    "\n",
    "col_lookup_c2 = ['_crddb_c2a_condtype_value', '_crddb_c2b_condtype_value', '_crddb_c2c_condtype_value',\n",
    "                                                '_crddb_sw1_condtype_value', '_crddb_sw2_condtype_value']\n",
    "\n",
    "col_lookup_sw = ['_crddb_sw1_condtype_value', '_crddb_sw2_condtype_value']\n",
    "\n",
    "col_lookup_dt = ['_crddb_pipeconductortype_value']"
   ]
  },
  {
   "cell_type": "code",
   "execution_count": 9,
   "metadata": {},
   "outputs": [
    {
     "data": {
      "text/plain": [
       "{'_crddb_pipeconductortype_value': ['f2e82abc-4394-ee11-be37-000d3a1f576d',\n",
       "  None]}"
      ]
     },
     "execution_count": 9,
     "metadata": {},
     "output_type": "execute_result"
    }
   ],
   "source": [
    "lookup_c1 = data_df[col_lookup_c1].to_dict(orient='list')\n",
    "lookup_c2 = data_df[col_lookup_c2].to_dict(orient='list')\n",
    "lookup_sw = data_df[col_lookup_sw].to_dict(orient='list')\n",
    "lookup_dt = data_df[col_lookup_dt].to_dict(orient='list')\n",
    "lookup_dt # Lembrando que o index são os projetos"
   ]
  },
  {
   "cell_type": "code",
   "execution_count": 10,
   "metadata": {},
   "outputs": [
    {
     "data": {
      "text/plain": [
       "'72ab56d1-cb92-ee11-be37-000d3a1f576d'"
      ]
     },
     "execution_count": 10,
     "metadata": {},
     "output_type": "execute_result"
    }
   ],
   "source": [
    "lookup_c1[\"_crddb_c1a_condtype_value\"][0]"
   ]
  },
  {
   "cell_type": "markdown",
   "metadata": {},
   "source": [
    "### Request Conductors - crddb_conductor"
   ]
  },
  {
   "cell_type": "code",
   "execution_count": 11,
   "metadata": {},
   "outputs": [
    {
     "name": "stdout",
     "output_type": "stream",
     "text": [
      "{'@odata.context': 'https://org425ee2cf.crm.dynamics.com/api/data/v9.2/$metadata#crddb_conductors', 'value': [{'@odata.etag': 'W/\"4450795\"', 'crddb_name': 'Name_Conductor', 'crddb_conductorid': 'e3dbcae1-6085-ee11-8179-000d3a1f576d', '_owningbusinessunit_value': '77cd6714-c7eb-ed11-8849-000d3a17a888', 'statecode': 0, 'statuscode': 1, '_createdby_value': 'eade9878-0d57-ee11-be6f-000d3a1f576d', '_ownerid_value': 'eade9878-0d57-ee11-be6f-000d3a1f576d', 'modifiedon': '2023-11-17T15:49:26Z', '_owninguser_value': 'eade9878-0d57-ee11-be6f-000d3a1f576d', '_modifiedby_value': 'eade9878-0d57-ee11-be6f-000d3a1f576d', 'versionnumber': 4450795, 'createdon': '2023-11-17T15:49:26Z', 'crddb_cross_section': None, 'crddb_ac_resistence': None, 'overriddencreatedon': None, 'importsequencenumber': None, '_modifiedonbehalfby_value': None, 'crddb_resistivity': None, 'utcconversiontimezonecode': None, 'crddb_outerradius': None, '_createdonbehalfby_value': None, 'crddb_innerradius': None, 'crddb_dc_resistance': None, 'crddb_relativepermeability': None, 'crddb_gmr': None, '_owningteam_value': None, 'timezoneruleversionnumber': None}, {'@odata.etag': 'W/\"4504706\"', 'crddb_name': 'Grosbeak', 'crddb_conductorid': '72ab56d1-cb92-ee11-be37-000d3a1f576d', '_owningbusinessunit_value': '77cd6714-c7eb-ed11-8849-000d3a17a888', 'statecode': 0, 'statuscode': 1, '_createdby_value': 'eade9878-0d57-ee11-be6f-000d3a1f576d', '_ownerid_value': 'eade9878-0d57-ee11-be6f-000d3a1f576d', 'modifiedon': '2023-12-04T17:37:40Z', '_owninguser_value': 'eade9878-0d57-ee11-be6f-000d3a1f576d', '_modifiedby_value': 'eade9878-0d57-ee11-be6f-000d3a1f576d', 'versionnumber': 4504706, 'createdon': '2023-12-04T17:37:40Z', 'crddb_cross_section': 636.0, 'crddb_ac_resistence': 0.0922114998, 'overriddencreatedon': None, 'importsequencenumber': None, '_modifiedonbehalfby_value': None, 'crddb_resistivity': 2.2816646099, 'utcconversiontimezonecode': None, 'crddb_outerradius': 0.0125705004, '_createdonbehalfby_value': None, 'crddb_innerradius': 0.0046354998, 'crddb_dc_resistance': 0.0917143971, 'crddb_relativepermeability': 1.0643444061, 'crddb_gmr': 0.0102108, '_owningteam_value': None, 'timezoneruleversionnumber': None}, {'@odata.etag': 'W/\"4719441\"', 'crddb_name': 'Pipes-Steel_10\" 140', 'crddb_conductorid': 'f2e82abc-4394-ee11-be37-000d3a1f576d', '_owningbusinessunit_value': '77cd6714-c7eb-ed11-8849-000d3a17a888', 'statecode': 0, 'statuscode': 1, '_createdby_value': 'eade9878-0d57-ee11-be6f-000d3a1f576d', '_ownerid_value': 'eade9878-0d57-ee11-be6f-000d3a1f576d', 'modifiedon': '2023-12-12T19:49:23Z', '_owninguser_value': 'eade9878-0d57-ee11-be6f-000d3a1f576d', '_modifiedby_value': 'eade9878-0d57-ee11-be6f-000d3a1f576d', 'versionnumber': 4719441, 'createdon': '2023-12-06T14:28:41Z', 'crddb_cross_section': 100.7999725342, 'crddb_ac_resistence': 3.4231300354, 'overriddencreatedon': None, 'importsequencenumber': None, '_modifiedonbehalfby_value': None, 'crddb_resistivity': 10.0, 'utcconversiontimezonecode': None, 'crddb_outerradius': 0.4479166868, '_createdonbehalfby_value': None, 'crddb_innerradius': 0.3645833355, 'crddb_dc_resistance': None, 'crddb_relativepermeability': 300.0, 'crddb_gmr': None, '_owningteam_value': None, 'timezoneruleversionnumber': None}]}\n",
      "Request Done.\n"
     ]
    }
   ],
   "source": [
    "data_cond = request_conductors(access_token)"
   ]
  },
  {
   "cell_type": "code",
   "execution_count": 12,
   "metadata": {},
   "outputs": [
    {
     "data": {
      "text/html": [
       "<div>\n",
       "<style scoped>\n",
       "    .dataframe tbody tr th:only-of-type {\n",
       "        vertical-align: middle;\n",
       "    }\n",
       "\n",
       "    .dataframe tbody tr th {\n",
       "        vertical-align: top;\n",
       "    }\n",
       "\n",
       "    .dataframe thead th {\n",
       "        text-align: right;\n",
       "    }\n",
       "</style>\n",
       "<table border=\"1\" class=\"dataframe\">\n",
       "  <thead>\n",
       "    <tr style=\"text-align: right;\">\n",
       "      <th></th>\n",
       "      <th>crddb_name</th>\n",
       "      <th>crddb_name</th>\n",
       "      <th>crddb_cross_section</th>\n",
       "      <th>crddb_ac_resistence</th>\n",
       "      <th>crddb_resistivity</th>\n",
       "      <th>crddb_outerradius</th>\n",
       "      <th>crddb_innerradius</th>\n",
       "      <th>crddb_dc_resistance</th>\n",
       "      <th>crddb_relativepermeability</th>\n",
       "      <th>crddb_gmr</th>\n",
       "    </tr>\n",
       "    <tr>\n",
       "      <th>crddb_conductorid</th>\n",
       "      <th></th>\n",
       "      <th></th>\n",
       "      <th></th>\n",
       "      <th></th>\n",
       "      <th></th>\n",
       "      <th></th>\n",
       "      <th></th>\n",
       "      <th></th>\n",
       "      <th></th>\n",
       "      <th></th>\n",
       "    </tr>\n",
       "  </thead>\n",
       "  <tbody>\n",
       "    <tr>\n",
       "      <th>e3dbcae1-6085-ee11-8179-000d3a1f576d</th>\n",
       "      <td>Name_Conductor</td>\n",
       "      <td>Name_Conductor</td>\n",
       "      <td>NaN</td>\n",
       "      <td>NaN</td>\n",
       "      <td>NaN</td>\n",
       "      <td>NaN</td>\n",
       "      <td>NaN</td>\n",
       "      <td>NaN</td>\n",
       "      <td>NaN</td>\n",
       "      <td>NaN</td>\n",
       "    </tr>\n",
       "    <tr>\n",
       "      <th>72ab56d1-cb92-ee11-be37-000d3a1f576d</th>\n",
       "      <td>Grosbeak</td>\n",
       "      <td>Grosbeak</td>\n",
       "      <td>636.000000</td>\n",
       "      <td>0.092211</td>\n",
       "      <td>2.281665</td>\n",
       "      <td>0.012571</td>\n",
       "      <td>0.004635</td>\n",
       "      <td>0.091714</td>\n",
       "      <td>1.064344</td>\n",
       "      <td>0.010211</td>\n",
       "    </tr>\n",
       "    <tr>\n",
       "      <th>f2e82abc-4394-ee11-be37-000d3a1f576d</th>\n",
       "      <td>Pipes-Steel_10\" 140</td>\n",
       "      <td>Pipes-Steel_10\" 140</td>\n",
       "      <td>100.799973</td>\n",
       "      <td>3.423130</td>\n",
       "      <td>10.000000</td>\n",
       "      <td>0.447917</td>\n",
       "      <td>0.364583</td>\n",
       "      <td>NaN</td>\n",
       "      <td>300.000000</td>\n",
       "      <td>NaN</td>\n",
       "    </tr>\n",
       "  </tbody>\n",
       "</table>\n",
       "</div>"
      ],
      "text/plain": [
       "                                               crddb_name  \\\n",
       "crddb_conductorid                                           \n",
       "e3dbcae1-6085-ee11-8179-000d3a1f576d       Name_Conductor   \n",
       "72ab56d1-cb92-ee11-be37-000d3a1f576d             Grosbeak   \n",
       "f2e82abc-4394-ee11-be37-000d3a1f576d  Pipes-Steel_10\" 140   \n",
       "\n",
       "                                               crddb_name  \\\n",
       "crddb_conductorid                                           \n",
       "e3dbcae1-6085-ee11-8179-000d3a1f576d       Name_Conductor   \n",
       "72ab56d1-cb92-ee11-be37-000d3a1f576d             Grosbeak   \n",
       "f2e82abc-4394-ee11-be37-000d3a1f576d  Pipes-Steel_10\" 140   \n",
       "\n",
       "                                      crddb_cross_section  \\\n",
       "crddb_conductorid                                           \n",
       "e3dbcae1-6085-ee11-8179-000d3a1f576d                  NaN   \n",
       "72ab56d1-cb92-ee11-be37-000d3a1f576d           636.000000   \n",
       "f2e82abc-4394-ee11-be37-000d3a1f576d           100.799973   \n",
       "\n",
       "                                      crddb_ac_resistence  crddb_resistivity  \\\n",
       "crddb_conductorid                                                              \n",
       "e3dbcae1-6085-ee11-8179-000d3a1f576d                  NaN                NaN   \n",
       "72ab56d1-cb92-ee11-be37-000d3a1f576d             0.092211           2.281665   \n",
       "f2e82abc-4394-ee11-be37-000d3a1f576d             3.423130          10.000000   \n",
       "\n",
       "                                      crddb_outerradius  crddb_innerradius  \\\n",
       "crddb_conductorid                                                            \n",
       "e3dbcae1-6085-ee11-8179-000d3a1f576d                NaN                NaN   \n",
       "72ab56d1-cb92-ee11-be37-000d3a1f576d           0.012571           0.004635   \n",
       "f2e82abc-4394-ee11-be37-000d3a1f576d           0.447917           0.364583   \n",
       "\n",
       "                                      crddb_dc_resistance  \\\n",
       "crddb_conductorid                                           \n",
       "e3dbcae1-6085-ee11-8179-000d3a1f576d                  NaN   \n",
       "72ab56d1-cb92-ee11-be37-000d3a1f576d             0.091714   \n",
       "f2e82abc-4394-ee11-be37-000d3a1f576d                  NaN   \n",
       "\n",
       "                                      crddb_relativepermeability  crddb_gmr  \n",
       "crddb_conductorid                                                            \n",
       "e3dbcae1-6085-ee11-8179-000d3a1f576d                         NaN        NaN  \n",
       "72ab56d1-cb92-ee11-be37-000d3a1f576d                    1.064344   0.010211  \n",
       "f2e82abc-4394-ee11-be37-000d3a1f576d                  300.000000        NaN  "
      ]
     },
     "execution_count": 12,
     "metadata": {},
     "output_type": "execute_result"
    }
   ],
   "source": [
    "cond_columns = ['crddb_name'         , 'crddb_name'                , 'crddb_conductorid', 'crddb_cross_section',\n",
    "                'crddb_ac_resistence', 'crddb_resistivity'         , 'crddb_outerradius', 'crddb_innerradius'  ,\n",
    "                'crddb_dc_resistance', 'crddb_relativepermeability', 'crddb_gmr']\n",
    "cond_df = df_columns(data_cond, cond_columns)\n",
    "cond_df.set_index('crddb_conductorid', inplace=True)\n",
    "cond_df"
   ]
  },
  {
   "cell_type": "code",
   "execution_count": 13,
   "metadata": {},
   "outputs": [
    {
     "data": {
      "text/plain": [
       "{'crddb_name': 'Name_Conductor',\n",
       " 'crddb_cross_section': nan,\n",
       " 'crddb_ac_resistence': nan,\n",
       " 'crddb_resistivity': nan,\n",
       " 'crddb_outerradius': nan,\n",
       " 'crddb_innerradius': nan,\n",
       " 'crddb_dc_resistance': nan,\n",
       " 'crddb_relativepermeability': nan,\n",
       " 'crddb_gmr': nan}"
      ]
     },
     "execution_count": 13,
     "metadata": {},
     "output_type": "execute_result"
    }
   ],
   "source": [
    "row_dict = cond_df.iloc[0].to_dict()\n",
    "row_dict"
   ]
  },
  {
   "cell_type": "markdown",
   "metadata": {},
   "source": [
    "## API Soil Fit"
   ]
  },
  {
   "cell_type": "markdown",
   "metadata": {},
   "source": [
    "### Request Soil Fit"
   ]
  },
  {
   "cell_type": "code",
   "execution_count": 14,
   "metadata": {},
   "outputs": [
    {
     "name": "stdout",
     "output_type": "stream",
     "text": [
      "{'@odata.context': 'https://org425ee2cf.crm.dynamics.com/api/data/v9.2/$metadata#crddb_soilfitinputsessions', 'value': [{'@odata.etag': 'W/\"4131965\"', '_owningbusinessunit_value': '77cd6714-c7eb-ed11-8849-000d3a17a888', 'crddb_type': 2, 'crddb_jobid': 'SFT-1002Q5M7', 'crddb_measurementmethod': 1, 'statecode': 0, 'statuscode': 1, 'crddb_soilfitinputsessionid': '25578596-fe7c-ee11-8179-000d3a1f576d', '_createdby_value': 'eade9878-0d57-ee11-be6f-000d3a1f576d', '_ownerid_value': 'eade9878-0d57-ee11-be6f-000d3a1f576d', 'modifiedon': '2023-11-06T23:45:43Z', '_owninguser_value': 'eade9878-0d57-ee11-be6f-000d3a1f576d', '_modifiedby_value': 'eade9878-0d57-ee11-be6f-000d3a1f576d', 'crddb_status': 1, 'versionnumber': 4131965, 'crddb_casedescription': 'Projeto Teste', 'createdon': '2023-11-06T23:45:43Z', '_crddb_projectid_value': '62560189-fe7c-ee11-8179-000d3a1f576d', 'overriddencreatedon': None, 'importsequencenumber': None, '_modifiedonbehalfby_value': None, 'utcconversiontimezonecode': None, '_createdonbehalfby_value': None, 'crddb_progress': None, '_owningteam_value': None, 'timezoneruleversionnumber': None}, {'@odata.etag': 'W/\"3636972\"', '_owningbusinessunit_value': '77cd6714-c7eb-ed11-8849-000d3a17a888', 'crddb_type': 2, 'crddb_jobid': 'SFT-1001P2D2', 'crddb_measurementmethod': None, 'statecode': 0, 'statuscode': 1, 'crddb_soilfitinputsessionid': '8791b844-b566-ee11-9ae7-000d3a1f576d', '_createdby_value': '69d46714-c7eb-ed11-8849-000d3a17a888', '_ownerid_value': '69d46714-c7eb-ed11-8849-000d3a17a888', 'modifiedon': '2023-10-09T15:05:29Z', '_owninguser_value': '69d46714-c7eb-ed11-8849-000d3a17a888', '_modifiedby_value': '69d46714-c7eb-ed11-8849-000d3a17a888', 'crddb_status': 1, 'versionnumber': 3636972, 'crddb_casedescription': 'teste', 'createdon': '2023-10-09T15:05:29Z', '_crddb_projectid_value': '2018e5fb-e8f7-ed11-8848-000d3a1f576d', 'overriddencreatedon': None, 'importsequencenumber': None, '_modifiedonbehalfby_value': None, 'utcconversiontimezonecode': None, '_createdonbehalfby_value': None, 'crddb_progress': None, '_owningteam_value': None, 'timezoneruleversionnumber': None}, {'@odata.etag': 'W/\"4504717\"', '_owningbusinessunit_value': '77cd6714-c7eb-ed11-8849-000d3a17a888', 'crddb_type': 2, 'crddb_jobid': 'SFT-1003M6C9', 'crddb_measurementmethod': 1, 'statecode': 0, 'statuscode': 1, 'crddb_soilfitinputsessionid': 'a08a3884-cc92-ee11-be37-000d3a1f576d', '_createdby_value': 'eade9878-0d57-ee11-be6f-000d3a1f576d', '_ownerid_value': 'eade9878-0d57-ee11-be6f-000d3a1f576d', 'modifiedon': '2023-12-04T17:42:44Z', '_owninguser_value': 'eade9878-0d57-ee11-be6f-000d3a1f576d', '_modifiedby_value': 'eade9878-0d57-ee11-be6f-000d3a1f576d', 'crddb_status': 1, 'versionnumber': 4504717, 'crddb_casedescription': 'Dummy SoilFit', 'createdon': '2023-12-04T17:42:44Z', '_crddb_projectid_value': '62560189-fe7c-ee11-8179-000d3a1f576d', 'overriddencreatedon': None, 'importsequencenumber': None, '_modifiedonbehalfby_value': None, 'utcconversiontimezonecode': None, '_createdonbehalfby_value': None, 'crddb_progress': None, '_owningteam_value': None, 'timezoneruleversionnumber': None}]}\n",
      "Request Done.\n"
     ]
    }
   ],
   "source": [
    "data_soil = request_soil(access_token)"
   ]
  },
  {
   "cell_type": "code",
   "execution_count": 15,
   "metadata": {},
   "outputs": [
    {
     "data": {
      "text/html": [
       "<div>\n",
       "<style scoped>\n",
       "    .dataframe tbody tr th:only-of-type {\n",
       "        vertical-align: middle;\n",
       "    }\n",
       "\n",
       "    .dataframe tbody tr th {\n",
       "        vertical-align: top;\n",
       "    }\n",
       "\n",
       "    .dataframe thead th {\n",
       "        text-align: right;\n",
       "    }\n",
       "</style>\n",
       "<table border=\"1\" class=\"dataframe\">\n",
       "  <thead>\n",
       "    <tr style=\"text-align: right;\">\n",
       "      <th></th>\n",
       "      <th>crddb_type</th>\n",
       "      <th>crddb_measurementmethod</th>\n",
       "      <th>crddb_soilfitinputsessionid</th>\n",
       "      <th>_crddb_projectid_value</th>\n",
       "      <th>crddb_measurementmethod</th>\n",
       "      <th>crddb_soilfitinputsessionid</th>\n",
       "    </tr>\n",
       "  </thead>\n",
       "  <tbody>\n",
       "    <tr>\n",
       "      <th>0</th>\n",
       "      <td>2</td>\n",
       "      <td>1.0</td>\n",
       "      <td>25578596-fe7c-ee11-8179-000d3a1f576d</td>\n",
       "      <td>62560189-fe7c-ee11-8179-000d3a1f576d</td>\n",
       "      <td>1.0</td>\n",
       "      <td>25578596-fe7c-ee11-8179-000d3a1f576d</td>\n",
       "    </tr>\n",
       "    <tr>\n",
       "      <th>1</th>\n",
       "      <td>2</td>\n",
       "      <td>NaN</td>\n",
       "      <td>8791b844-b566-ee11-9ae7-000d3a1f576d</td>\n",
       "      <td>2018e5fb-e8f7-ed11-8848-000d3a1f576d</td>\n",
       "      <td>NaN</td>\n",
       "      <td>8791b844-b566-ee11-9ae7-000d3a1f576d</td>\n",
       "    </tr>\n",
       "    <tr>\n",
       "      <th>2</th>\n",
       "      <td>2</td>\n",
       "      <td>1.0</td>\n",
       "      <td>a08a3884-cc92-ee11-be37-000d3a1f576d</td>\n",
       "      <td>62560189-fe7c-ee11-8179-000d3a1f576d</td>\n",
       "      <td>1.0</td>\n",
       "      <td>a08a3884-cc92-ee11-be37-000d3a1f576d</td>\n",
       "    </tr>\n",
       "  </tbody>\n",
       "</table>\n",
       "</div>"
      ],
      "text/plain": [
       "   crddb_type  crddb_measurementmethod           crddb_soilfitinputsessionid  \\\n",
       "0           2                      1.0  25578596-fe7c-ee11-8179-000d3a1f576d   \n",
       "1           2                      NaN  8791b844-b566-ee11-9ae7-000d3a1f576d   \n",
       "2           2                      1.0  a08a3884-cc92-ee11-be37-000d3a1f576d   \n",
       "\n",
       "                 _crddb_projectid_value  crddb_measurementmethod  \\\n",
       "0  62560189-fe7c-ee11-8179-000d3a1f576d                      1.0   \n",
       "1  2018e5fb-e8f7-ed11-8848-000d3a1f576d                      NaN   \n",
       "2  62560189-fe7c-ee11-8179-000d3a1f576d                      1.0   \n",
       "\n",
       "            crddb_soilfitinputsessionid  \n",
       "0  25578596-fe7c-ee11-8179-000d3a1f576d  \n",
       "1  8791b844-b566-ee11-9ae7-000d3a1f576d  \n",
       "2  a08a3884-cc92-ee11-be37-000d3a1f576d  "
      ]
     },
     "execution_count": 15,
     "metadata": {},
     "output_type": "execute_result"
    }
   ],
   "source": [
    "soil_columns = ['crddb_type'            , 'crddb_measurementmethod', 'crddb_soilfitinputsessionid',\n",
    "                '_crddb_projectid_value', 'crddb_measurementmethod', 'crddb_soilfitinputsessionid']\n",
    "\n",
    "soil_df = df_columns(data_soil, soil_columns)\n",
    "soil_df"
   ]
  },
  {
   "cell_type": "markdown",
   "metadata": {},
   "source": [
    "## API Observation Point - LookUp"
   ]
  },
  {
   "cell_type": "code",
   "execution_count": 16,
   "metadata": {},
   "outputs": [
    {
     "name": "stdout",
     "output_type": "stream",
     "text": [
      "{'@odata.context': 'https://org425ee2cf.crm.dynamics.com/api/data/v9.2/$metadata#new_obspoints', 'value': [{'@odata.etag': 'W/\"4489367\"', '_crddb_autorowreportid_value': '55329a7f-027d-ee11-8179-000d3a1f576d', '_owningbusinessunit_value': '77cd6714-c7eb-ed11-8849-000d3a17a888', 'new_pointid': 'PTE-001', 'statecode': 0, 'statuscode': 1, '_createdby_value': '69d46714-c7eb-ed11-8849-000d3a17a888', 'crddb_pointtype': 11, '_ownerid_value': '69d46714-c7eb-ed11-8849-000d3a17a888', 'modifiedon': '2023-12-04T00:54:48Z', 'crddb_ycoordinate': 0.0, '_owninguser_value': '69d46714-c7eb-ed11-8849-000d3a17a888', '_modifiedby_value': '69d46714-c7eb-ed11-8849-000d3a17a888', 'versionnumber': 4489367, 'new_xcoordinate': 0.0, 'createdon': '2023-12-04T00:54:38Z', 'new_obspointid': 'a6099db1-3f92-ee11-be37-000d3a1f576d', 'overriddencreatedon': None, 'importsequencenumber': None, '_modifiedonbehalfby_value': None, '_crddb_resistivity_value': None, 'utcconversiontimezonecode': None, '_createdonbehalfby_value': None, 'new_name': None, '_owningteam_value': None, 'timezoneruleversionnumber': None}]}\n",
      "Request Done.\n"
     ]
    }
   ],
   "source": [
    "data_obs = request_obs(access_token)"
   ]
  },
  {
   "cell_type": "code",
   "execution_count": 17,
   "metadata": {},
   "outputs": [
    {
     "data": {
      "text/html": [
       "<div>\n",
       "<style scoped>\n",
       "    .dataframe tbody tr th:only-of-type {\n",
       "        vertical-align: middle;\n",
       "    }\n",
       "\n",
       "    .dataframe tbody tr th {\n",
       "        vertical-align: top;\n",
       "    }\n",
       "\n",
       "    .dataframe thead th {\n",
       "        text-align: right;\n",
       "    }\n",
       "</style>\n",
       "<table border=\"1\" class=\"dataframe\">\n",
       "  <thead>\n",
       "    <tr style=\"text-align: right;\">\n",
       "      <th></th>\n",
       "      <th>_crddb_autorowreportid_value</th>\n",
       "      <th>new_pointid</th>\n",
       "      <th>crddb_pointtype</th>\n",
       "      <th>_crddb_resistivity_value</th>\n",
       "      <th>crddb_ycoordinate</th>\n",
       "      <th>new_xcoordinate</th>\n",
       "      <th>new_obspointid</th>\n",
       "    </tr>\n",
       "  </thead>\n",
       "  <tbody>\n",
       "    <tr>\n",
       "      <th>0</th>\n",
       "      <td>55329a7f-027d-ee11-8179-000d3a1f576d</td>\n",
       "      <td>PTE-001</td>\n",
       "      <td>11</td>\n",
       "      <td>None</td>\n",
       "      <td>0.0</td>\n",
       "      <td>0.0</td>\n",
       "      <td>a6099db1-3f92-ee11-be37-000d3a1f576d</td>\n",
       "    </tr>\n",
       "  </tbody>\n",
       "</table>\n",
       "</div>"
      ],
      "text/plain": [
       "           _crddb_autorowreportid_value new_pointid  crddb_pointtype  \\\n",
       "0  55329a7f-027d-ee11-8179-000d3a1f576d     PTE-001               11   \n",
       "\n",
       "  _crddb_resistivity_value  crddb_ycoordinate  new_xcoordinate  \\\n",
       "0                     None                0.0              0.0   \n",
       "\n",
       "                         new_obspointid  \n",
       "0  a6099db1-3f92-ee11-be37-000d3a1f576d  "
      ]
     },
     "execution_count": 17,
     "metadata": {},
     "output_type": "execute_result"
    }
   ],
   "source": [
    "obs_columns = ['_crddb_autorowreportid_value', 'new_pointid'      , 'crddb_pointtype', \n",
    "               '_crddb_resistivity_value'    , 'crddb_ycoordinate', 'new_xcoordinate', 'new_obspointid' ]\n",
    "obs_df = df_columns(data_obs, obs_columns)\n",
    "obs_df"
   ]
  },
  {
   "cell_type": "markdown",
   "metadata": {},
   "source": [
    "## API Coating"
   ]
  },
  {
   "cell_type": "code",
   "execution_count": 18,
   "metadata": {},
   "outputs": [
    {
     "name": "stdout",
     "output_type": "stream",
     "text": [
      "{'@odata.context': 'https://org425ee2cf.crm.dynamics.com/api/data/v9.2/$metadata#crddb_coatings', 'value': [{'@odata.etag': 'W/\"4719402\"', 'crddb_name': 'Coating 3LPE', '_owningbusinessunit_value': '77cd6714-c7eb-ed11-8849-000d3a17a888', 'crddb_type': '3LPE', 'crddb_coatingid': '9598ed21-ee98-ee11-be37-000d3a1f576d', 'statecode': 0, 'statuscode': 1, '_createdby_value': 'eade9878-0d57-ee11-be6f-000d3a1f576d', 'crddb_area_resistance': 450000.0, 'crddb_thickness': 0.03, 'crddb_resistivity': 0.18, '_ownerid_value': 'eade9878-0d57-ee11-be6f-000d3a1f576d', 'modifiedon': '2023-12-12T12:58:30Z', '_owninguser_value': 'eade9878-0d57-ee11-be6f-000d3a1f576d', '_modifiedby_value': 'eade9878-0d57-ee11-be6f-000d3a1f576d', 'versionnumber': 4719402, 'createdon': '2023-12-12T12:58:30Z', 'overriddencreatedon': None, 'importsequencenumber': None, '_modifiedonbehalfby_value': None, 'crddb_permeability': None, 'utcconversiontimezonecode': None, 'crddb_permittivity': None, '_createdonbehalfby_value': None, '_owningteam_value': None, 'timezoneruleversionnumber': None}]}\n",
      "Request Done.\n"
     ]
    }
   ],
   "source": [
    "data_coating = request_coating(access_token)"
   ]
  },
  {
   "cell_type": "code",
   "execution_count": 19,
   "metadata": {},
   "outputs": [
    {
     "data": {
      "text/html": [
       "<div>\n",
       "<style scoped>\n",
       "    .dataframe tbody tr th:only-of-type {\n",
       "        vertical-align: middle;\n",
       "    }\n",
       "\n",
       "    .dataframe tbody tr th {\n",
       "        vertical-align: top;\n",
       "    }\n",
       "\n",
       "    .dataframe thead th {\n",
       "        text-align: right;\n",
       "    }\n",
       "</style>\n",
       "<table border=\"1\" class=\"dataframe\">\n",
       "  <thead>\n",
       "    <tr style=\"text-align: right;\">\n",
       "      <th></th>\n",
       "      <th>crddb_coatingid</th>\n",
       "      <th>crddb_name</th>\n",
       "      <th>crddb_type</th>\n",
       "      <th>crddb_area_resistance</th>\n",
       "      <th>crddb_thickness</th>\n",
       "      <th>crddb_resistivity</th>\n",
       "      <th>crddb_permeability</th>\n",
       "      <th>crddb_permittivity</th>\n",
       "    </tr>\n",
       "  </thead>\n",
       "  <tbody>\n",
       "    <tr>\n",
       "      <th>0</th>\n",
       "      <td>9598ed21-ee98-ee11-be37-000d3a1f576d</td>\n",
       "      <td>Coating 3LPE</td>\n",
       "      <td>3LPE</td>\n",
       "      <td>450000.0</td>\n",
       "      <td>0.03</td>\n",
       "      <td>0.18</td>\n",
       "      <td>None</td>\n",
       "      <td>None</td>\n",
       "    </tr>\n",
       "  </tbody>\n",
       "</table>\n",
       "</div>"
      ],
      "text/plain": [
       "                        crddb_coatingid    crddb_name crddb_type  \\\n",
       "0  9598ed21-ee98-ee11-be37-000d3a1f576d  Coating 3LPE       3LPE   \n",
       "\n",
       "   crddb_area_resistance  crddb_thickness  crddb_resistivity  \\\n",
       "0               450000.0             0.03               0.18   \n",
       "\n",
       "  crddb_permeability crddb_permittivity  \n",
       "0               None               None  "
      ]
     },
     "execution_count": 19,
     "metadata": {},
     "output_type": "execute_result"
    }
   ],
   "source": [
    "coating_columns = [ 'crddb_coatingid', 'crddb_name'       , 'crddb_type'        , 'crddb_area_resistance', \n",
    "                    'crddb_thickness', 'crddb_resistivity', 'crddb_permeability', 'crddb_permittivity']\n",
    "\n",
    "coating_df = df_columns(data_coating, coating_columns)\n",
    "coating_df"
   ]
  },
  {
   "cell_type": "code",
   "execution_count": 20,
   "metadata": {},
   "outputs": [
    {
     "data": {
      "text/plain": [
       "'9598ed21-ee98-ee11-be37-000d3a1f576d'"
      ]
     },
     "execution_count": 20,
     "metadata": {},
     "output_type": "execute_result"
    }
   ],
   "source": [
    "data_df.iloc[0][\"_crddb_coating_type_value\"]"
   ]
  },
  {
   "cell_type": "markdown",
   "metadata": {},
   "source": [
    "# RowCAD"
   ]
  },
  {
   "cell_type": "markdown",
   "metadata": {},
   "source": [
    "Flags importantes: crddb_circuittype, crddb_c1phasesequence e crddb_c2phasesequence."
   ]
  },
  {
   "cell_type": "code",
   "execution_count": null,
   "metadata": {},
   "outputs": [],
   "source": [
    "circuit_type = data_df.iloc[0]['crddb_circuittype']         # Single"
   ]
  },
  {
   "cell_type": "code",
   "execution_count": null,
   "metadata": {},
   "outputs": [],
   "source": [
    "sequence_c1 = data_df.iloc[0]['crddb_c1phasesequence'] # ABC = 1; CBA = 2; CAB = 3  \n",
    "\n",
    "match sequence_c1:\n",
    "   \n",
    "    case 1  : \n",
    "        phases = [-120, 0, 120]\n",
    "     \n",
    "    case 2 : \n",
    "        phases = [120, 0, -120]\n",
    "         \n",
    "    case 3 : \n",
    "        phases = [120, 0, -120]\n"
   ]
  },
  {
   "cell_type": "code",
   "execution_count": null,
   "metadata": {},
   "outputs": [],
   "source": [
    "data_df"
   ]
  },
  {
   "cell_type": "code",
   "execution_count": null,
   "metadata": {},
   "outputs": [],
   "source": [
    "data_df.iloc[0]['crddb_linevoltage']/np.sqrt(3)"
   ]
  },
  {
   "cell_type": "code",
   "execution_count": null,
   "metadata": {},
   "outputs": [],
   "source": [
    "ground_point_LT = 1\n",
    "ground_point_DT = 2\n",
    "cartesian1 = 1\n",
    "#Lembrar que no Power Apps eu tenho que calcular isso com a corrente nominal\n",
    "r_abc_term1 = 0 #data_df.iloc[0]['crddb_groundimpedance_terminal1_r']  \n",
    "x_abc_term1 = 0 #data_df.iloc[0]['crddb_groundimpedance_terminal1_x']\n",
    "\n",
    "\n",
    "polar2 = 2   # Praticamente sempre\n",
    "\n",
    "line2neutral_kv = data_df.iloc[0]['crddb_linevoltage']/np.sqrt(3) #pu\n",
    "line2neutral_deg = phases\n",
    "\n",
    "current_mag_ka = data_df.iloc[0][\"crddb_contributionfaultcurrent_term1_mod\"]\n",
    "current_ang_deg = data_df.iloc[0][\"crddb_contributionfaultcurrent_term1_phase\"]\n",
    "\n",
    "phase_a_term1 = {'name': 'a','id': 1, 'ph':1, \"ground_point\":ground_point_LT,\"cartesian1\" : cartesian1 ,\"R\" : r_abc_term1,\"X\" : x_abc_term1\n",
    "           ,\"polar2\" : polar2,\"line2neutral_kv\": line2neutral_kv ,\"line2neutral_deg\":line2neutral_deg[0] \n",
    "           ,\"current_mag_ka\": 0, \"current_ang_deg\": 0}\n",
    "\n",
    "phase_b_term1 = {'name': 'b','id': 2, 'ph':2, \"ground_point\":ground_point_LT,\"cartesian1\" : cartesian1 ,\"R\" : r_abc_term1,\"X\" : x_abc_term1\n",
    "           ,\"polar2\" : polar2,\"line2neutral_kv\": line2neutral_kv ,\"line2neutral_deg\":line2neutral_deg[1]\n",
    "           ,\"current_mag_ka\": 0, \"current_ang_deg\": 0}\n",
    "phase_c_term1 = {'name': 'c','id': 3, 'ph':3, \"ground_point\":ground_point_LT,\"cartesian1\" : cartesian1 ,\"R\" : r_abc_term1,\"X\" : x_abc_term1\n",
    "           ,\"polar2\" : polar2,\"line2neutral_kv\": line2neutral_kv ,\"line2neutral_deg\":line2neutral_deg[2] \n",
    "           ,\"current_mag_ka\": 0, \"current_ang_deg\": 0}\n",
    "phase_sw1_term1 = {'name': 'e_sw1','id': 4, 'ph':4, \"ground_point\":ground_point_LT,\"cartesian1\" : cartesian1 ,\"R\" : 0,\"X\" : 0\n",
    "           ,\"polar2\" : polar2,\"line2neutral_kv\": 0 ,\"line2neutral_deg\":0 \n",
    "           ,\"current_mag_ka\": 0, \"current_ang_deg\": 0}\n",
    "phase_sw2_term1 = {'name': 'f_sw2','id': 5, 'ph':5, \"ground_point\":ground_point_LT,\"cartesian1\" : cartesian1 ,\"R\" : 0,\"X\" : 0\n",
    "           ,\"polar2\" : polar2,\"line2neutral_kv\": 0 ,\"line2neutral_deg\":0 \n",
    "           ,\"current_mag_ka\": 0, \"current_ang_deg\": 0}\n",
    "phase_pipe_term1 = {'name': 'pipe','id': 5, 'ph':5, \"ground_point\":ground_point_DT,\"cartesian1\" : cartesian1 ,\"R\" : 0,\"X\" : 0\n",
    "           ,\"polar2\" : polar2,\"line2neutral_kv\": 0 ,\"line2neutral_deg\":0 \n",
    "           ,\"current_mag_ka\": 0, \"current_ang_deg\": 0}"
   ]
  },
  {
   "cell_type": "code",
   "execution_count": null,
   "metadata": {},
   "outputs": [],
   "source": [
    "r_sw = 0#data_df.iloc[0]['crddb_groundimpedance_towers_r']   \n",
    "x_sw = 0#data_df.iloc[0]['crddb_groundimpedance_towers_x']\n",
    "sw_ = {'name': 'sw','id': 4, 'ph':4, \"ground_point\":ground_point_LT,\"cartesian1\" : cartesian1 ,\"R\" : r_sw,\"X\" : x_sw\n",
    "           ,\"polar2\" : polar2,\"line2neutral_kv\": 0 ,\"line2neutral_deg\":0 \n",
    "           ,\"current_mag_ka\": 0, \"current_ang_deg\": 0}"
   ]
  },
  {
   "cell_type": "code",
   "execution_count": null,
   "metadata": {},
   "outputs": [],
   "source": [
    "sw_"
   ]
  },
  {
   "cell_type": "code",
   "execution_count": null,
   "metadata": {},
   "outputs": [],
   "source": [
    "ground_point_LT = 1\n",
    "ground_point_DT = 2\n",
    "cartesian1 = 1\n",
    "#Lembrar que no Power Apps eu tenho que calcular isso com a corrente nominal\n",
    "r_abc_term2 = (data_df.iloc[0]['crddb_linevoltage']*1e3/np.sqrt(3))/data_df.iloc[0][\"crddb_steadystatecurrent\"]\n",
    "x_abc_term2 = 0\n",
    "\n",
    "\n",
    "r_pipe = data_df.iloc[0]['crddb_targetgroundimpedance_right_r']\n",
    "x_pipe = data_df.iloc[0]['crddb_targetgroundimpedance_right_x']\n",
    "\n",
    "polar2 = 2   # Praticamente sempre\n",
    "line2neutral_kv = 0 \n",
    "line2neutral_deg = 0\n",
    "\n",
    "polar2 = 2\n",
    "current_mag_ka = data_df.iloc[0][\"crddb_contributionfaultcurrent_term2_mod\"]\n",
    "current_ang_deg = data_df.iloc[0][\"crddb_contributionfaultcurrent_term2_phase\"]\n",
    "\n",
    "phase_a_term2 = {'name': 'a','id': 1, 'ph':1, \"ground_point\":ground_point_LT,\"cartesian1\" : cartesian1 ,\"R\" : r_abc_term2,\"X\" : x_abc_term2\n",
    "           ,\"polar2\" : polar2,\"line2neutral_kv\": line2neutral_kv ,\"line2neutral_deg\":line2neutral_deg \n",
    "           ,\"current_mag_ka\": current_mag_ka , \"current_ang_deg\": current_ang_deg}\n",
    "\n",
    "phase_b_term2 = {'name': 'b','id': 2, 'ph':2, \"ground_point\":ground_point_LT,\"cartesian1\" : cartesian1 ,\"R\" : r_abc_term2,\"X\" : x_abc_term2\n",
    "           ,\"polar2\" : polar2,\"line2neutral_kv\": line2neutral_kv ,\"line2neutral_deg\":line2neutral_deg \n",
    "           ,\"current_mag_ka\": current_mag_ka , \"current_ang_deg\": current_ang_deg}\n",
    "phase_c_term2 = {'name': 'c','id': 3, 'ph':3, \"ground_point\":ground_point_LT,\"cartesian1\" : cartesian1 ,\"R\" : r_abc_term2,\"X\" : x_abc_term2\n",
    "           ,\"polar2\" : polar2,\"line2neutral_kv\": line2neutral_kv ,\"line2neutral_deg\":line2neutral_deg \n",
    "           ,\"current_mag_ka\": current_mag_ka , \"current_ang_deg\": current_ang_deg}\n",
    "phase_sw1_term2 = {'name': 'e_sw1','id': 4, 'ph':4, \"ground_point\":ground_point_LT,\"cartesian1\" : cartesian1 ,\"R\" : 0,\"X\" : 0\n",
    "           ,\"polar2\" : polar2,\"line2neutral_kv\": 0 ,\"line2neutral_deg\":0 \n",
    "           ,\"current_mag_ka\": current_mag_ka , \"current_ang_deg\": current_ang_deg}\n",
    "phase_sw2_term2 = {'name': 'f_sw2','id': 5, 'ph':5, \"ground_point\":ground_point_LT,\"cartesian1\" : cartesian1 ,\"R\" : 0,\"X\" : 0\n",
    "           ,\"polar2\" : polar2,\"line2neutral_kv\": 0 ,\"line2neutral_deg\":0 \n",
    "           ,\"current_mag_ka\": current_mag_ka , \"current_ang_deg\": current_ang_deg}\n",
    "phase_pipe_term2 = {'name': 'pipe','id': 5, 'ph':5, \"ground_point\":ground_point_DT,\"cartesian1\" : cartesian1 ,\"R\" : 0,\"X\" : 0\n",
    "           ,\"polar2\" : polar2,\"line2neutral_kv\": 0 ,\"line2neutral_deg\":0 \n",
    "           ,\"current_mag_ka\": 0, \"current_ang_deg\": 0}"
   ]
  },
  {
   "cell_type": "markdown",
   "metadata": {},
   "source": [
    "## Energization"
   ]
  },
  {
   "cell_type": "markdown",
   "metadata": {},
   "source": [
    "### LT"
   ]
  },
  {
   "cell_type": "code",
   "execution_count": null,
   "metadata": {},
   "outputs": [],
   "source": [
    "lista = []\n",
    "energization_info = [phase_a_term1, phase_b_term1, phase_c_term1, sw_, phase_pipe_term1]\n",
    "for i in energization_info:\n",
    "    lista.append(f'        ENERGIZATION,VOLTAGE,{i[\"id\"]},{i[\"ph\"]},{i[\"ground_point\"]},{i[\"cartesian1\"]},{i[\"R\"]},{i[\"X\"]},{i[\"polar2\"]},{i[\"line2neutral_kv\"]},{i[\"line2neutral_deg\"]},{i[\"polar2\"]},{i[\"current_mag_ka\"]},{i[\"current_ang_deg\"]}')\n",
    "\n",
    "energization_LT = '\\n'.join(lista)\n",
    "print(energization_LT)"
   ]
  },
  {
   "cell_type": "code",
   "execution_count": null,
   "metadata": {},
   "outputs": [],
   "source": [
    "sw_"
   ]
  },
  {
   "cell_type": "markdown",
   "metadata": {},
   "source": [
    "### DT"
   ]
  },
  {
   "cell_type": "code",
   "execution_count": null,
   "metadata": {},
   "outputs": [],
   "source": [
    "lista = []\n",
    "energization_info = [phase_a_term2, phase_b_term2, phase_c_term2, sw_, phase_pipe_term2]\n",
    "for i in energization_info:\n",
    "    lista.append(f'        ENERGIZATION,VOLTAGE,{i[\"id\"]},{i[\"ph\"]},{i[\"ground_point\"]},{i[\"cartesian1\"]},{i[\"R\"]},{i[\"X\"]},{i[\"polar2\"]},{i[\"line2neutral_kv\"]},{i[\"line2neutral_deg\"]},{i[\"polar2\"]},{i[\"current_mag_ka\"]},{i[\"current_ang_deg\"]}')\n",
    "\n",
    "energization_DT = '\\n'.join(lista)\n",
    "print(energization_DT)"
   ]
  },
  {
   "cell_type": "markdown",
   "metadata": {},
   "source": [
    "## Polyline"
   ]
  },
  {
   "cell_type": "markdown",
   "metadata": {},
   "source": [
    "###  1 LT"
   ]
  },
  {
   "cell_type": "code",
   "execution_count": null,
   "metadata": {},
   "outputs": [],
   "source": [
    "lt_coor = pd.read_csv('LT_VM100.csv', header=None)\n",
    "dt_coor = pd.read_csv('Gas_VM50_CRUZ_45graus.csv', header=None)\n",
    "# lt_coor"
   ]
  },
  {
   "cell_type": "code",
   "execution_count": null,
   "metadata": {},
   "outputs": [],
   "source": [
    "data_df['crddb_averagespanlength'][0] "
   ]
  },
  {
   "cell_type": "markdown",
   "metadata": {},
   "source": [
    "#### Add dummy points"
   ]
  },
  {
   "cell_type": "code",
   "execution_count": null,
   "metadata": {},
   "outputs": [],
   "source": [
    "\n",
    "n_points_before = data_df['crddb_spansbeforeemizone'][0]  # Number of points to add before\n",
    "n_points_after = data_df['crddb_spansafteremizone'][0]   # Number of points to add after\n",
    "distance_between_points = data_df['crddb_averagespanlength'][0]  # Euclidean distance between points\n",
    "\n",
    "lt_coor_ = create_orientation_points(\n",
    "    lt_coor, n_points_before, n_points_after, distance_between_points)"
   ]
  },
  {
   "cell_type": "code",
   "execution_count": null,
   "metadata": {},
   "outputs": [],
   "source": [
    "lt_coor_final = lt_coor_[[0,1]]\n",
    "lt_coor_final = lt_coor_final.astype(float)\n",
    "lt_coor_final.head(3)"
   ]
  },
  {
   "cell_type": "markdown",
   "metadata": {},
   "source": [
    "#### Adding 1 cm to the first point"
   ]
  },
  {
   "cell_type": "code",
   "execution_count": null,
   "metadata": {},
   "outputs": [],
   "source": [
    "new_row = lt_coor_final.iloc[0].copy() + 0.01\n",
    "\n",
    "# Insert the new row at index 0\n",
    "lt_coor_final = pd.concat([pd.DataFrame(new_row).transpose(), lt_coor_final], ignore_index=True)\n",
    "\n",
    "lt_coor_final.head()"
   ]
  },
  {
   "cell_type": "code",
   "execution_count": null,
   "metadata": {},
   "outputs": [],
   "source": [
    "# POINT, 1, , -500,10,0,0,0,0,2,0\n",
    "# POINT, 2, ,    0,10,0,0,0,0,2,0\n",
    "# POINT, 3, ,  500,10,0,0,0,0,2,0"
   ]
  },
  {
   "cell_type": "markdown",
   "metadata": {},
   "source": [
    "#### Write LT points"
   ]
  },
  {
   "cell_type": "code",
   "execution_count": null,
   "metadata": {},
   "outputs": [],
   "source": [
    "lista = []\n",
    "name = ''\n",
    "rho = 1\n",
    "xs = 1\n",
    "type_ = -2 # Towers = -2, Coordinate = -1 e Undefined = 0;\n",
    "\n",
    "first = True\n",
    "for index, row in lt_coor_final.iterrows():\n",
    "    if first: # Garantindo afastamento de 1 cm \n",
    "        x = row[0] + 0.01\n",
    "        first = False\n",
    "    else : \n",
    "        x = row[0]\n",
    "    if index == 0:\n",
    "        type_ = -1\n",
    "        y = row[1]\n",
    "        lista.append(f'      POINT,{index+1},{name},{x},{y},0,0,{rho},{type_},{xs},0')\n",
    "        type_ = -2\n",
    "        continue\n",
    "    y = row[1]\n",
    "    lista.append(f'      POINT,{index+1},{name},{x},{y},0,0,{rho},{type_},{xs},0')\n",
    "\n",
    "LT_points = '\\n'.join(lista)\n",
    "print(LT_points)"
   ]
  },
  {
   "cell_type": "markdown",
   "metadata": {},
   "source": [
    "### 2 DT"
   ]
  },
  {
   "cell_type": "code",
   "execution_count": null,
   "metadata": {},
   "outputs": [],
   "source": [
    "# POLYLINE,2,DT                                      \n",
    "#   Point,N, name,   x,  y,  z?,   , rho, type, XS, ?\n",
    "#   POINT,1,     ,-500, 10,   0, 10,   0,    0,  2, 0\n",
    "#   POINT,2,     ,   0, 10,   0,  0,   0,    0,  2, 0\n",
    "#   POINT,3,     , 500, 10,   0,  0,   0,    0,  2, 0"
   ]
  },
  {
   "cell_type": "code",
   "execution_count": null,
   "metadata": {},
   "outputs": [],
   "source": [
    "lista = []\n",
    "name = ''\n",
    "rho = 1\n",
    "xs = 2\n",
    "type_ = 0 # Towers = -2, Coordinate = -1 e Undefined = 0;\n",
    "\n",
    "for index, row in dt_coor.iterrows():\n",
    "    x = row[0]\n",
    "    y = row[1]\n",
    "    if index == 0:\n",
    "        something = 10\n",
    "    else:\n",
    "        something = 0\n",
    "    lista.append(f'      POINT,{index+1},{name},{x},{y},0,{something},{rho},{type_},{xs},0')\n",
    "\n",
    "DT_points = '\\n'.join(lista)\n",
    "print(DT_points)"
   ]
  },
  {
   "cell_type": "markdown",
   "metadata": {},
   "source": [
    "## Cross Section"
   ]
  },
  {
   "cell_type": "code",
   "execution_count": null,
   "metadata": {},
   "outputs": [],
   "source": [
    "lista = []\n",
    "energization_info = [phase_a_term1, phase_b_term1, phase_c_term1, sw_, phase_pipe_term1]\n",
    "for index, i in enumerate(energization_info):\n",
    "    lista.append(f'  PHASE,{index+1},{i[\"name\"]},{index+1}')\n",
    "\n",
    "phase_cross_section = '\\n'.join(lista)\n",
    "print(phase_cross_section)"
   ]
  },
  {
   "cell_type": "markdown",
   "metadata": {},
   "source": [
    "#### LT"
   ]
  },
  {
   "cell_type": "markdown",
   "metadata": {},
   "source": [
    "Conductor"
   ]
  },
  {
   "cell_type": "code",
   "execution_count": null,
   "metadata": {},
   "outputs": [],
   "source": [
    "if circuit_type ==1:\n",
    "    conductor_c1a = cond_df.loc[lookup_c1[\"_crddb_c1a_condtype_value\"][0]].to_dict()\n",
    "    conductor_c1b = cond_df.loc[lookup_c1[\"_crddb_c1b_condtype_value\"][0]].to_dict()\n",
    "    conductor_c1c = cond_df.loc[lookup_c1[\"_crddb_c1c_condtype_value\"][0]].to_dict()\n",
    "    \n",
    "    conductor_sw1 = cond_df.loc[lookup_sw[\"_crddb_sw1_condtype_value\"][0]].to_dict()\n",
    "    conductor_sw2 = cond_df.loc[lookup_sw[\"_crddb_sw2_condtype_value\"][0]].to_dict()\n",
    "    \n",
    "    condutores = [conductor_c1a, conductor_c1b, conductor_c1c, conductor_sw1, conductor_sw2]\n",
    "\n",
    "    c2 = None\n",
    "elif circuit_type ==2:\n",
    "    conductor_c1a = cond_df.loc[lookup_c1[\"_crddb_c1a_condtype_value\"][0]].to_dict()\n",
    "    conductor_c1b = cond_df.loc[lookup_c1[\"_crddb_c1b_condtype_value\"][0]].to_dict()\n",
    "    conductor_c1c = cond_df.loc[lookup_c1[\"_crddb_c1c_condtype_value\"][0]].to_dict()\n",
    "    \n",
    "    conductor_sw1 = cond_df.loc[lookup_sw[\"_crddb_sw1_condtype_value\"][0]].to_dict()\n",
    "    conductor_sw2 = cond_df.loc[lookup_sw[\"_crddb_sw2_condtype_value\"][0]].to_dict()\n",
    "    \n",
    "    conductor_c2a = cond_df.loc[lookup_c2[\"_crddb_c2a_condtype_value\"][0]].to_dict()\n",
    "    conductor_c2b = cond_df.loc[lookup_c2[\"_crddb_c2b_condtype_value\"][0]].to_dict()\n",
    "    conductor_c2c = cond_df.loc[lookup_c2[\"_crddb_c2c_condtype_value\"][0]].to_dict()\n",
    "    \n",
    "    condutores = [conductor_c1a, conductor_c1b, conductor_c1c, conductor_c2a, conductor_c2b, \n",
    "                  conductor_c2c, conductor_sw1, conductor_sw2]"
   ]
  },
  {
   "cell_type": "markdown",
   "metadata": {},
   "source": [
    "Pipe"
   ]
  },
  {
   "cell_type": "code",
   "execution_count": null,
   "metadata": {},
   "outputs": [],
   "source": [
    "conductor_dt = cond_df.loc[lookup_dt[\"_crddb_pipeconductortype_value\"][0]].to_dict()\n",
    "conductor_dt"
   ]
  },
  {
   "cell_type": "code",
   "execution_count": null,
   "metadata": {},
   "outputs": [],
   "source": [
    "\n",
    "\n",
    "# Dicionário para armazenar as strings correspondentes a cada condutor\n",
    "strings_condutores = {}\n",
    "\n",
    "# Verifica e cria as strings correspondentes para cada condutor\n",
    "for i, condutor in enumerate(condutores, start=1):\n",
    "    for j, outro_condutor in enumerate(condutores[i:], start=i+1):\n",
    "        if condutor == outro_condutor:\n",
    "            # Se os condutores forem iguais, usa apenas um deles\n",
    "            strings_condutores[condutor['crddb_name']] = criar_string_condutor(condutor)\n",
    "        else:\n",
    "            # Se os condutores forem diferentes, cria strings para ambos\n",
    "            strings_condutores[condutor['crddb_name']] = criar_string_condutor(condutor)\n",
    "            strings_condutores[outro_condutor['crddb_name']] = criar_string_condutor(outro_condutor)\n",
    "\n",
    "# Itera sobre os valores do dicionário e junta-os usando '\\n'.join(lista)\n",
    "lista_strings = [valor for valor in strings_condutores.values()]\n",
    "condutores_rowCAD = '\\n'.join(lista_strings)\n",
    "\n",
    "# Exibe as strings juntas\n",
    "print(condutores_rowCAD)"
   ]
  },
  {
   "cell_type": "code",
   "execution_count": null,
   "metadata": {},
   "outputs": [],
   "source": [
    "total_cross_section1_LT = f\"\"\"CROSSSECTION\n",
    "  OPTIONS\n",
    "    CONFIGURATION-MODE,ROW\n",
    "    UNITS,METRIC\n",
    "{phase_cross_section}\n",
    "{condutores_rowCAD}\n",
    "  SYSTEM\n",
    "    SUBSET,1,Set #1\n",
    "      COMPONENT,1,Component #1,-6.65,13.5,1\n",
    "        INFO-GROUPCOMPONENT,1,{conductor_c1a['crddb_name']}\n",
    "          INFO-PHASE-CIRCUIT,1,{phase_a_term1[\"id\"]},0,0\n",
    "      COMPONENT,2,Component #2,0,13.5,1\n",
    "        INFO-GROUPCOMPONENT,1,{conductor_c1b['crddb_name']}\n",
    "          INFO-PHASE-CIRCUIT,1,{phase_b_term1[\"id\"]},0,0\n",
    "      COMPONENT,3,Component #3,6.65,13.5,1\n",
    "        INFO-GROUPCOMPONENT,1,{conductor_c1c['crddb_name']}\n",
    "          INFO-PHASE-CIRCUIT,1,{phase_c_term1[\"id\"]},0,0\n",
    "      COMPONENT,4,Component #4,4.65,17.6,1\n",
    "        INFO-GROUPCOMPONENT,1,{conductor_sw1['crddb_name']}\n",
    "          INFO-PHASE-CIRCUIT,1,{sw_[\"id\"]},0,0\n",
    "      COMPONENT,5,Component #5,-4.65,17.6,1\n",
    "        INFO-GROUPCOMPONENT,1,{conductor_sw2['crddb_name']}\n",
    "          INFO-PHASE-CIRCUIT,1,{sw_[\"id\"]},0,0\n",
    "ENDPROGRAM\"\"\""
   ]
  },
  {
   "cell_type": "code",
   "execution_count": null,
   "metadata": {},
   "outputs": [],
   "source": [
    "print(total_cross_section1_LT)"
   ]
  },
  {
   "cell_type": "code",
   "execution_count": null,
   "metadata": {},
   "outputs": [],
   "source": [
    "conductor_c1a['crddb_name']"
   ]
  },
  {
   "cell_type": "code",
   "execution_count": null,
   "metadata": {},
   "outputs": [],
   "source": [
    "print(total_cross_section1_LT)"
   ]
  },
  {
   "cell_type": "code",
   "execution_count": null,
   "metadata": {},
   "outputs": [],
   "source": [
    "file_name = \"C:/Users/Public/Documents/SES Software/My Projects/Crossing_45deg/final-CrossSectionDefinition/XS_CrossSection-1 - LT.f05\"\n",
    "save_to_txt_file(file_name, total_cross_section1_LT)"
   ]
  },
  {
   "cell_type": "markdown",
   "metadata": {},
   "source": [
    "#### DT"
   ]
  },
  {
   "cell_type": "code",
   "execution_count": null,
   "metadata": {},
   "outputs": [],
   "source": [
    "coating_dt = coating_df.loc[coating_df['crddb_coatingid'] == data_df.iloc[0][\"_crddb_coating_type_value\"]].squeeze().to_dict()\n",
    "coating_dt"
   ]
  },
  {
   "cell_type": "code",
   "execution_count": null,
   "metadata": {},
   "outputs": [],
   "source": [
    "  # COMPONENT-TYPE,1,Pipes-Steel_10\" 140\n",
    "  #   GROUP-COMPONENT,CONDUCTOR,1,Pipes-Steel_10\" 140,0,0,0,0\n",
    "  #     LAYER,CONDUCTOR,1,Pipes-Steel_10\" 140_Conductor\n",
    "  #       CONDUCTOR-CHARACTERISTICS,0.3645833355,0.4479166868,2,10,,3.4231300354,2,300,,0.577875018119812,1,7,0.00152399996295571,0,,,51.076099395752,100.7999725342,,60,0,0\n",
    "  #         DB-CONDUCTOR_INFO,SYNCHRONIZEDWITHDB,3/8 EHS-CG,Steel,60,0\n",
    "  #     LAYER,INSULATION,2,Pipes-Steel_10\" 140_Conductor - Insulation\n",
    "  #       INSULATION-CHARACTERISTICS,AREARESISTANCE,0.4479166868,666.4479166868,999,555,444\n",
    "        \n",
    "  #                                                outer Radius  thickness + outerradious, area resistance, permittivity, permeabliliy"
   ]
  },
  {
   "cell_type": "code",
   "execution_count": null,
   "metadata": {},
   "outputs": [],
   "source": [
    "remove_nan_from_dict(conductor_dt)\n",
    "remove_nan_from_dict(coating_dt)\n",
    "print(conductor_dt)"
   ]
  },
  {
   "cell_type": "code",
   "execution_count": null,
   "metadata": {},
   "outputs": [],
   "source": [
    "dt_rowCAD = criar_string_duto(conductor_dt, coating_dt)\n",
    "print(dt_rowCAD)"
   ]
  },
  {
   "cell_type": "code",
   "execution_count": null,
   "metadata": {},
   "outputs": [],
   "source": [
    "# # print(dt_rowCAD)\n",
    "# dt_rowCAD = \"\"\"   COMPONENT-TYPE,1,Steel 10\"\n",
    "#      GROUP-COMPONENT,CONDUCTOR,1,Steel 10\",0,0,0,0\n",
    "#        LAYER,CONDUCTOR,1,Steel 10\"_Conductor\n",
    "#          CONDUCTOR-CHARACTERISTICS,0.127254009246826,0.136525005102159,0,10,,,0,300,,,0,,,0.127254009246826,,,7682.7451171875,15162.091796875,,60,0,0\n",
    "#            DB-CONDUCTOR_INFO,UNLINKEDFROMDB,,,60\n",
    "#        LAYER,INSULATION,2,Steel 10\"_Conductor - Insulation\n",
    "#          INSULATION-CHARACTERISTICS,RESISTIVITY,0.136525005102159,0.136525005102159,,1,1\n",
    "#  DB-CONDUCTOR_INFO,SYNCHRONIZEDWITHDB,3/8 EHS-CG,Steel,60,0\"\"\""
   ]
  },
  {
   "cell_type": "code",
   "execution_count": null,
   "metadata": {},
   "outputs": [],
   "source": [
    "total_cross_section2_DT = f\"\"\"CROSSSECTION\n",
    "  OPTIONS\n",
    "    CONFIGURATION-MODE,ROW\n",
    "    UNITS,METRIC\n",
    "{phase_cross_section}\n",
    "{dt_rowCAD}\n",
    "  SYSTEM\n",
    "    SUBSET,1,Set #1\n",
    "      COMPONENT,1,pipe,0,-1,1\n",
    "        INFO-GROUPCOMPONENT,1,{conductor_dt['crddb_name']}\n",
    "          INFO-PHASE-CIRCUIT,1,{phase_pipe_term2['id']},0,0\n",
    "ENDPROGRAM\"\"\""
   ]
  },
  {
   "cell_type": "code",
   "execution_count": null,
   "metadata": {},
   "outputs": [],
   "source": [
    "print(total_cross_section2_DT)"
   ]
  },
  {
   "cell_type": "code",
   "execution_count": null,
   "metadata": {},
   "outputs": [],
   "source": [
    "file_name = \"C:/Users/Public/Documents/SES Software/My Projects/Crossing_45deg/final-CrossSectionDefinition/XS_CrossSection-2 - DT.f05\"\n",
    "save_to_txt_file(file_name, total_cross_section2_DT)"
   ]
  },
  {
   "cell_type": "code",
   "execution_count": null,
   "metadata": {},
   "outputs": [],
   "source": [
    "path_cross_section1 = 'XS_CrossSection-1 - LT.f05'\n",
    "path_cross_section2 = 'XS_CrossSection-2 - DT.f05'"
   ]
  },
  {
   "cell_type": "markdown",
   "metadata": {},
   "source": [
    "## Soil"
   ]
  },
  {
   "cell_type": "code",
   "execution_count": null,
   "metadata": {},
   "outputs": [],
   "source": [
    "ground_imped_term1_LT_r = data_df.iloc[0][\"crddb_groundimpedance_terminal1_r\"]\n",
    "ground_imped_term1_LT_x = data_df.iloc[0][\"crddb_groundimpedance_terminal1_x\"]\n",
    "ground_imped_term2_LT_r = data_df.iloc[0][\"crddb_groundimpedance_terminal2_r\"]\n",
    "ground_imped_term2_LT_x = data_df.iloc[0][\"crddb_groundimpedance_terminal2_x\"]"
   ]
  },
  {
   "cell_type": "code",
   "execution_count": null,
   "metadata": {},
   "outputs": [],
   "source": [
    "ground_imped_term1_LT_r, ground_imped_term1_LT_x, ground_imped_term2_LT_r, ground_imped_term2_LT_x"
   ]
  },
  {
   "cell_type": "code",
   "execution_count": null,
   "metadata": {},
   "outputs": [],
   "source": [
    "ground_imped_term1_DT_r = data_df.iloc[0][\"crddb_targetgroundimpedance_left_r\"]\n",
    "ground_imped_term1_DT_x = data_df.iloc[0][\"crddb_targetgroundimpedance_left_x\"]\n",
    "ground_imped_term2_DT_r = data_df.iloc[0][\"crddb_targetgroundimpedance_right_r\"]\n",
    "ground_imped_term2_DT_x = data_df.iloc[0][\"crddb_targetgroundimpedance_right_x\"]"
   ]
  },
  {
   "cell_type": "code",
   "execution_count": null,
   "metadata": {},
   "outputs": [],
   "source": [
    "ground_imped_term1_DT_r, ground_imped_term1_DT_x, ground_imped_term2_DT_r, ground_imped_term2_DT_x"
   ]
  },
  {
   "cell_type": "markdown",
   "metadata": {},
   "source": [
    "## Leakage"
   ]
  },
  {
   "cell_type": "code",
   "execution_count": null,
   "metadata": {},
   "outputs": [],
   "source": [
    "lista = []\n",
    "energization_info = [phase_a_term1, phase_b_term1, phase_c_term1, sw_, phase_pipe_term1]\n",
    "r_sw = data_df.iloc[0]['crddb_groundimpedance_towers_r']   \n",
    "x_sw = data_df.iloc[0]['crddb_groundimpedance_towers_x']\n",
    "for index, i in enumerate(energization_info):\n",
    "    if i[\"name\"] == 'sw':\n",
    "        tower_ground_imped = [r_sw, x_sw]\n",
    "        leakege_type = \"OHMSPERTOWER\"\n",
    "    else:\n",
    "        tower_ground_imped = [9999999, 9999999]\n",
    "        leakege_type = \"COMPUTED\"\n",
    "\n",
    "    lista.append(f'    LEAKAGE,{leakege_type},{i[\"id\"]},{i[\"name\"]},0,{tower_ground_imped[0]},{tower_ground_imped[1]}')\n",
    "\n",
    "total_leakage = '\\n'.join(lista)\n",
    "print(total_leakage)"
   ]
  },
  {
   "cell_type": "code",
   "execution_count": null,
   "metadata": {},
   "outputs": [],
   "source": [
    "file_string = f\"\"\"LEAKAGE-DEF\n",
    "  DEFINITION\n",
    "{total_leakage}\n",
    "ENDPROGRAM\"\"\"\n",
    "print(file_string)"
   ]
  },
  {
   "cell_type": "code",
   "execution_count": null,
   "metadata": {},
   "outputs": [],
   "source": [
    "name_leakage = \"LD_testLeakage.f05\"\n",
    "path_leakage = f\"C:/Users/Public/Documents/SES Software/My Projects/Crossing_45deg/final-PhaseLeakageDefinition/{name_leakage}\"\n",
    "save_to_txt_file(path_leakage, file_string)"
   ]
  },
  {
   "cell_type": "markdown",
   "metadata": {},
   "source": [
    "## Observation Point"
   ]
  },
  {
   "cell_type": "code",
   "execution_count": null,
   "metadata": {},
   "outputs": [],
   "source": [
    "point = obs_df.iloc[0].to_dict()\n",
    "point"
   ]
  },
  {
   "cell_type": "markdown",
   "metadata": {},
   "source": [
    "# Final"
   ]
  },
  {
   "cell_type": "code",
   "execution_count": null,
   "metadata": {},
   "outputs": [],
   "source": [
    "final = f\"\"\"ROWCAD\n",
    "  OPTIONS\n",
    "    INPUT-MODE,CROSSSECTIONMODE\n",
    "    REGION-GENERATION,0,1,1\n",
    "  SYSTEM\n",
    "    POLYLINE,1,LT\n",
    "{LT_points}\n",
    "      DISPLAY-COLOR,1,0,0,1\n",
    "    POLYLINE,2,DT\n",
    "{DT_points}\n",
    "      DISPLAY-COLOR,1,1,0,0\n",
    "    SOIL-TYPE,1,Soil #1\n",
    "      DISPLAY-COLOR,1,0,0,1\n",
    "    ATTRIBUTE-SET,1,AttributeSet #1\n",
    "      DISPLAY-COLOR,1,0,0,1\n",
    "    ATTRIBUTE-SET,2,AttributeSet #2\n",
    "      DISPLAY-COLOR,1,1,0,0\n",
    "    ENTITY-MODEL,OBSERVATIONPOINT,1,{point['new_pointid']},\n",
    "      LOCATION,GLOBAL,1,{point['new_pointid']},{point['new_xcoordinate']},{point['crddb_ycoordinate']},0\n",
    "    TYPE-CROSSSECTION,1,LT,./final-CrossSectionDefinition/{path_cross_section1}\n",
    "      DISPLAY-COLOR,1,0,0,1\n",
    "    TYPE-CROSSSECTION,2,DT,./final-CrossSectionDefinition/{path_cross_section2}\n",
    "      DISPLAY-COLOR,1,1,0,0\n",
    "  CIRCUIT\n",
    "    PATH-CONSTRUCTION,1,1,2,2,1,1\n",
    "    PATH-CONSTRUCTION,2,-1,1,2,2,2\n",
    "    CENTRAL-SITE,CentralSite\n",
    "    TERMINAL,1,Term1   \n",
    "      EARTH,{ground_imped_term1_LT_r},{ground_imped_term1_LT_x},LT,1\n",
    "      EARTH,{ground_imped_term1_DT_r},{ground_imped_term1_DT_x},DT,2\n",
    "      LINES   \n",
    "{energization_LT}\n",
    "    TERMINAL,2,Term2\n",
    "      EARTH,{ground_imped_term2_LT_r},{ground_imped_term2_LT_x},LT,1\n",
    "      EARTH,{ground_imped_term2_DT_r},{ground_imped_term2_DT_x},DT,2\n",
    "      LINES\n",
    "{energization_DT}\n",
    "    PATH,1,Path\n",
    "      CONNECT-SATE-REF,NO\n",
    "    PATH,2,DT\n",
    "      CONNECT-SATE-REF,NO\n",
    "    PHASE-LEAKAGE\n",
    "      DEFAULT-DEFINITION,./final-PhaseLeakageDefinition/{name_leakage}\n",
    "ENDPROGRAM\"\"\""
   ]
  },
  {
   "cell_type": "code",
   "execution_count": null,
   "metadata": {},
   "outputs": [],
   "source": [
    "print(final)"
   ]
  },
  {
   "cell_type": "code",
   "execution_count": null,
   "metadata": {},
   "outputs": [],
   "source": [
    "file_name = \"C:/Users/Public/Documents/SES Software/My Projects/Crossing_45deg/RC_final.f05\"\n",
    "save_to_txt_file(file_name, final)"
   ]
  }
 ],
 "metadata": {
  "kernelspec": {
   "display_name": "base",
   "language": "python",
   "name": "python3"
  },
  "language_info": {
   "codemirror_mode": {
    "name": "ipython",
    "version": 3
   },
   "file_extension": ".py",
   "mimetype": "text/x-python",
   "name": "python",
   "nbconvert_exporter": "python",
   "pygments_lexer": "ipython3",
   "version": "3.11.5"
  }
 },
 "nbformat": 4,
 "nbformat_minor": 2
}
