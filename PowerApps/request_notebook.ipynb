{
 "cells": [
  {
   "cell_type": "markdown",
   "metadata": {},
   "source": [
    "# Imports"
   ]
  },
  {
   "cell_type": "code",
   "execution_count": 1,
   "metadata": {},
   "outputs": [],
   "source": [
    "from selenium import webdriver\n",
    "from selenium.webdriver.chrome.service import Service as ChromeSerice\n",
    "import requests\n",
    "from selenium.webdriver.common.by import By\n",
    "\n",
    "from selenium import webdriver\n",
    "import requests\n",
    "import pyautogui as py\n",
    "import time\n",
    "\n",
    "import clipboard\n",
    "import pandas as pd"
   ]
  },
  {
   "cell_type": "markdown",
   "metadata": {},
   "source": [
    "# API Auto ROW Report Input Session"
   ]
  },
  {
   "cell_type": "markdown",
   "metadata": {},
   "source": [
    "## Dados de Usuário"
   ]
  },
  {
   "cell_type": "code",
   "execution_count": 2,
   "metadata": {},
   "outputs": [],
   "source": [
    "user = \"190126230@aluno.unb.br\"\n",
    "password = \"ENG1901me00$$\""
   ]
  },
  {
   "cell_type": "markdown",
   "metadata": {},
   "source": [
    "## Chrome WebDriver"
   ]
  },
  {
   "cell_type": "code",
   "execution_count": 3,
   "metadata": {},
   "outputs": [
    {
     "name": "stdout",
     "output_type": "stream",
     "text": [
      "https://localhost/?code=0.AQoAoZs17AtjK024M8jm1I-AWYkU-FHuEp5Kqq6iWR9FmH0BAAA.AgABAAIAAAAmoFfGtYxvRrNriQdPKIZ-AgDs_wUA9P9NDtJ5Lo4fITscO04SxwlqNFzBViiyBVI0c7VlHvyw07bDmXin1116T06J5_FDozMhrYlVt-5Lz9D0RvydjH3Bv4KGRtLmbsUNwcRkO3N6aN4AuLAMyo_yZi-lUEzYfkPBi-8mXOg5Wnna6xAu58IJrf7tTMTl55ZFXTD3IDDncKfI3_vuqd5pd20LYqgll0h5xF2b6Qdajl0999Gf8-yTT-kdgRxADKdBWpuZqusItFmAQBzYj1EKBayfUJMx-Ouffzz7yQKnHpND3HaRmheenD9wGOyyF9oPg4ul1a0jFpkeD64nctxaRW3nw4bYBjOhbS_Q7DKMBNw13kVL5uouQeQJEMVkMmEwUZoGneDh1fjVSIkWbNrBE38BVf_R3ypZqFLTMtjrkzFCag9dhkYVerYAiKr2fTzCWtIVA2i-9zXHkWQIRPQ1bvQ3C_WZWnE1NROwwte2rT0DgViAD4L9kWnzq-Eg61hYLRUVZtdlm00juncYemrIAovP-i9BZkDcmg1-hrJOeOES04VuIG4i5mVO_89ELdmTMxAZ26XktTND_iEgHI4_Fsb-SCLQLlO220y2aVLjFv3zmHbZ8AjfHBMylw_wJPotmA5RxrO4EJVeRopbdeSIDujGbrVZ3ObK&session_state=4c0cf13e-3d31-450e-90a0-4e7b0b41e070\n"
     ]
    }
   ],
   "source": [
    "# Initialize a Chrome WebDriver\n",
    "driver = webdriver.Chrome()\n",
    "\n",
    "# Your Azure AD and OAuth2.0 parameters\n",
    "url = 'https://org425ee2cf.api.crm.dynamics.com'\n",
    "client_id = '51f81489-12ee-4a9e-aaae-a2591f45987d'\n",
    "callback_base_url = 'https://localhost'\n",
    "\n",
    "\n",
    "# Construct the authorization URL with query parameters\n",
    "auth_url = f'https://login.microsoftonline.com/common/oauth2/authorize?' \\\n",
    "           f'client_id={client_id}&response_type=code&redirect_uri={callback_base_url}&resource={url}'\n",
    "\n",
    "\n",
    "# Open the authorization URL in a browser\n",
    "driver.get(auth_url)\n",
    "\n",
    "time.sleep(3)\n",
    "py.write(user)\n",
    "time.sleep(1)\n",
    "py.press('enter')\n",
    "\n",
    "\n",
    "time.sleep(3)\n",
    "py.write(password)\n",
    "time.sleep(1)\n",
    "py.press('enter')\n",
    "\n",
    "time.sleep(3)\n",
    "py.hotkey('ctrl', 'l')\n",
    "py.hotkey('ctrl', 'c')\n",
    "callback_url = str(clipboard.paste())\n",
    "print(callback_url)"
   ]
  },
  {
   "cell_type": "markdown",
   "metadata": {},
   "source": [
    "## Request Auto ROW"
   ]
  },
  {
   "cell_type": "code",
   "execution_count": 4,
   "metadata": {},
   "outputs": [
    {
     "name": "stdout",
     "output_type": "stream",
     "text": [
      "Access token:\n",
      "eyJ0eXAiOiJKV1QiLCJhbGciOiJSUzI1NiIsIng1dCI6IlQxU3QtZExUdnlXUmd4Ql82NzZ1OGtyWFMtSSIsImtpZCI6IlQxU3QtZExUdnlXUmd4Ql82NzZ1OGtyWFMtSSJ9.eyJhdWQiOiJodHRwczovL29yZzQyNWVlMmNmLmFwaS5jcm0uZHluYW1pY3MuY29tIiwiaXNzIjoiaHR0cHM6Ly9zdHMud2luZG93cy5uZXQvZWMzNTliYTEtNjMwYi00ZDJiLWI4MzMtYzhlNmQ0OGY4MDU5LyIsImlhdCI6MTcwMDU3NDQ2OSwibmJmIjoxNzAwNTc0NDY5LCJleHAiOjE3MDA1NzkwNDksImFjY3QiOjAsImFjciI6IjEiLCJhaW8iOiJBVFFBeS84VkFBQUF6TGJ5d0tVT3V4aVRGQmdkTTdjSXpJUkhydlhsWWRWaUxKd3dyKzkwdy96L0paTmgvV3R5eWtwWjRKdGNKdjNpIiwiYW1yIjpbInB3ZCJdLCJhcHBpZCI6IjUxZjgxNDg5LTEyZWUtNGE5ZS1hYWFlLWEyNTkxZjQ1OTg3ZCIsImFwcGlkYWNyIjoiMCIsImZhbWlseV9uYW1lIjoiU2FudG9zIExlc3NhIiwiZ2l2ZW5fbmFtZSI6Ikx1Y2FzIiwiaXBhZGRyIjoiMTY0LjQxLjQuMjYiLCJsb2dpbl9oaW50IjoiTy5DaVE1TTJFMVpUSmlaQzFoWmpJMkxUUTVZbUl0WWpsak9DMDBZV0ZpWW1KaE16QTBaallTSkdWak16VTVZbUV4TFRZek1HSXROR1F5WWkxaU9ETXpMV000WlRaa05EaG1PREExT1JvV01Ua3dNVEkyTWpNd1FHRnNkVzV2TG5WdVlpNWljaUErIiwibmFtZSI6Ikx1Y2FzIFNhbnRvcyBMZXNzYSIsIm9pZCI6IjkzYTVlMmJkLWFmMjYtNDliYi1iOWM4LTRhYWJiYmEzMDRmNiIsIm9ucHJlbV9zaWQiOiJTLTEtNS0yMS0xNjc1Nzk5NzAtMTcwMjQwMDM5OC0zNTM5NjQ3MzY1LTU0OTI2IiwicHVpZCI6IjEwMDMyMDAwNUZCQzhBOTUiLCJyaCI6IjAuQVFvQW9aczE3QXRqSzAyNE04am0xSS1BV1FjQUFBQUFBQUFBd0FBQUFBQUFBQUFLQUNvLiIsInNjcCI6InVzZXJfaW1wZXJzb25hdGlvbiIsInN1YiI6InRFTUtiTDZhQkR6UGhqbnk5WFlVdDNEOF9WOUNNMEhqUDlnVG9TVUdGa1EiLCJ0ZW5hbnRfcmVnaW9uX3Njb3BlIjoiU0EiLCJ0aWQiOiJlYzM1OWJhMS02MzBiLTRkMmItYjgzMy1jOGU2ZDQ4ZjgwNTkiLCJ1bmlxdWVfbmFtZSI6IjE5MDEyNjIzMEBhbHVuby51bmIuYnIiLCJ1cG4iOiIxOTAxMjYyMzBAYWx1bm8udW5iLmJyIiwidXRpIjoiclBLQXpwa2FpRXF5SVExQlFSZDJBUSIsInZlciI6IjEuMCIsIndpZHMiOlsiYjc5ZmJmNGQtM2VmOS00Njg5LTgxNDMtNzZiMTk0ZTg1NTA5Il0sInhtc19jYWUiOiIxIn0.OsfMtlkALZ4N28DAko8Q3VY9POh5NnETBLVRDjJzCv83rA2CKMJrg1Op4F_Hu2SkEvrifW1raGH6WAkW1ScAsrycAR0aW39cHMXwzdKXeaGcoyieE30nUgxlUa4zr8hqR8O2cepF82iUtC9kjy40UjvgOS-aJ4bdmThl7O0I4LlKubPwAYxo-W8BpkQUmC_mcFGRzquB1-INYFgkhgkt2PZ9NRPiWEuyu3qcPBbFm7ZBccK1SezMLsCgoUjKqAOc-Q2xPY6nbzMrbv69WOh3GIm87cM0cFLAFngpNn0VhEHzlB4tKV8Jqc0g_rWlGZhu5wR6oZ8J5dtAnn9dgqW0Vg\n",
      "{'@odata.context': 'https://org425ee2cf.crm.dynamics.com/api/data/v9.2/$metadata#crddb_autorowreportinputsessions', 'value': [{'@odata.etag': 'W/\"4450966\"', 'statecode': 0, 'crddb_coordinatesfile_source_name': 'LT_VM100.csv', 'crddb_jobstatus': 1, 'statuscode': 1, 'crddb_jobid': 'ROW-1004L5J9', 'createdon': '2023-11-07T00:13:40Z', '_crddb_projectid_value': '62560189-fe7c-ee11-8179-000d3a1f576d', '_ownerid_value': 'eade9878-0d57-ee11-be6f-000d3a1f576d', 'modifiedon': '2023-11-17T18:10:04Z', '_crddb_c2a_condtype_value': 'e3dbcae1-6085-ee11-8179-000d3a1f576d', '_modifiedby_value': 'eade9878-0d57-ee11-be6f-000d3a1f576d', 'crddb_coordinatesfile_target_name': 'Gas_VM50_CRUZ_45graus.csv', 'versionnumber': 4450966, 'crddb_coordinatesfile_target': '96c89991-027d-ee11-8179-000d3a1f576d', 'crddb_coordinatesfile_source': '23ab9985-027d-ee11-8179-000d3a1f576d', '_createdby_value': 'eade9878-0d57-ee11-be6f-000d3a1f576d', '_owningbusinessunit_value': '77cd6714-c7eb-ed11-8849-000d3a17a888', '_owninguser_value': 'eade9878-0d57-ee11-be6f-000d3a1f576d', 'crddb_circuittype': 1, 'crddb_autorowreportinputsessionid': '55329a7f-027d-ee11-8179-000d3a1f576d', 'crddb_c2a_vertical': None, 'crddb_c1b_horizontal': None, 'crddb_targetgroundimpedance_left_r': None, 'crddb_c1a_numcond': None, 'crddb_coatingdataresistivity': None, 'crddb_c2b_horizontal': None, 'crddb_steadystatecurrent': None, 'crddb_c2c_numcond': None, 'crddb_term2_name': None, 'crddb_safelimits_steadystate': None, 'importsequencenumber': None, 'crddb_linevoltage': None, 'crddb_sourcelineowner': None, 'utcconversiontimezonecode': None, 'overriddencreatedon': None, 'crddb_c1a_vertical': None, 'crddb_sourceline': None, 'crddb_safelimits_coating': None, 'crddb_c2phasesequence': None, 'crddb_safelimits_currdensity': None, '_crddb_c1b_condtype_value': None, 'crddb_nominalfaultcurrent_3phase_term1_phase': None, 'crddb_c1phasesequence': None, 'crddb_nominalfaultcurrent_3phase_term2_mod': None, 'crddb_nominalfaultcurrent_1phase_term1_phase': None, 'crddb_groundimpedance_terminal1_x': None, 'crddb_groundimpedance_terminal1_r': None, 'crddb_safelimits_insuljoint': None, '_crddb_c1a_condtype_value': None, 'crddb_targetlinetype': None, 'crddb_nominalfaultcurrent_3phase_term1_mod': None, 'crddb_spansbeforeemizone': None, 'crddb_c1c_numcond': None, 'crddb_mitigation_covermaterialthickness': None, 'crddb_nominalfaultcurrent_3phase_term2_phase': None, 'crddb_term1_name': None, '_crddb_c2b_condtype_value': None, 'crddb_nominalfaultcurrent_1phase_term2_phase': None, 'crddb_casedescription': None, 'crddb_c1c_horizontal': None, 'crddb_exposurelength': None, 'crddb_averagespanlength': None, 'crddb_mitigation_covermaterialresistivity': None, 'crddb_coatingdatathickness': None, 'crddb_safelimits_rectifier': None, 'crddb_targetgroundimpedance_right_r': None, 'timezoneruleversionnumber': None, '_owningteam_value': None, 'crddb_targetgroundimpedance_right_x': None, 'crddb_targetlineowner': None, 'crddb_c2b_numcond': None, 'crddb_groundimpedance_towers_r': None, '_modifiedonbehalfby_value': None, 'crddb_c1a_horizontal': None, '_crddb_faullocationsoilresistivity_value': None, 'crddb_c2a_horizontal': None, 'crddb_spansafteremizone': None, 'crddb_safelimits_rb': None, 'crddb_interferencetype': None, '_createdonbehalfby_value': None, 'crddb_faultlocation_epicenter_y': None, 'crddb_faultlocation_epicenter_x': None, 'crddb_safelimits_faultduration': None, 'crddb_nominalfaultcurrent_1phase_term2_mod': None, 'crddb_shieldwirehorizontal1': None, 'crddb_shieldwirehorizontal2': None, 'crddb_c2c_vertical': None, 'crddb_approxtype': None, 'crddb_mitigation_covermaterial': None, 'crddb_progress': None, 'crddb_c1b_numcond': None, 'crddb_c2c_horizontal': None, 'crddb_nominalfaultcurrent_1phase_term1_mod': None, 'crddb_groundimpedance_towers_x': None, 'crddb_crosssection_targety': None, 'crddb_faultlocation_section': None, 'crddb_c1c_vertical': None, 'crddb_c2a_sep': None, '_crddb_authorizationticket_value': None, 'crddb_c1a_sep': None, 'crddb_c2b_vertical': None, 'crddb_contributionfaultcurrent_term2_phase': None, 'crddb_contributionfaultcurrent_term2_mod': None, 'crddb_contributionfaultcurrent_term1_mod': None, 'crddb_c2b_sep': None, 'crddb_targetgroundimpedance_left_x': None, 'crddb_groundimpedance_terminal2_x': None, 'crddb_c1b_sep': None, 'crddb_c2a_numcond': None, 'crddb_groundimpedance_terminal2_r': None, 'crddb_counterpoiselength': None, '_crddb_c1c_condtype_value': None, 'crddb_c1b_vertical': None, 'crddb_contributionfaultcurrent_term1_phase': None, 'crddb_coatingdatatype': None, 'crddb_c2c_sep': None, 'crddb_safelimits_bodycurrent': None, 'crddb_c1c_sep': None, '_crddb_sw2_condtype_value': None, '_crddb_sw1_condtype_value': None, 'crddb_shieldwirevertical2': None, 'crddb_shieldwirevertical1': None, 'crddb_pipediameter': None, '_crddb_c2c_condtype_value': None, 'crddb_targetline': None}, {'@odata.etag': 'W/\"3602231\"', 'statecode': 0, 'crddb_coordinatesfile_source_name': None, 'crddb_jobstatus': 4, 'statuscode': 1, 'crddb_jobid': 'ROW-1002L5M5', 'createdon': '2023-05-21T18:22:27Z', '_crddb_projectid_value': '2018e5fb-e8f7-ed11-8848-000d3a1f576d', '_ownerid_value': '69d46714-c7eb-ed11-8849-000d3a17a888', 'modifiedon': '2023-10-07T13:19:50Z', '_crddb_c2a_condtype_value': None, '_modifiedby_value': 'eade9878-0d57-ee11-be6f-000d3a1f576d', 'crddb_coordinatesfile_target_name': None, 'versionnumber': 3602231, 'crddb_coordinatesfile_target': None, 'crddb_coordinatesfile_source': None, '_createdby_value': '69d46714-c7eb-ed11-8849-000d3a17a888', '_owningbusinessunit_value': '77cd6714-c7eb-ed11-8849-000d3a17a888', '_owninguser_value': '69d46714-c7eb-ed11-8849-000d3a17a888', 'crddb_circuittype': None, 'crddb_autorowreportinputsessionid': '7451df6f-04f8-ed11-8848-000d3a1f576d', 'crddb_c2a_vertical': None, 'crddb_c1b_horizontal': None, 'crddb_targetgroundimpedance_left_r': None, 'crddb_c1a_numcond': None, 'crddb_coatingdataresistivity': None, 'crddb_c2b_horizontal': None, 'crddb_steadystatecurrent': None, 'crddb_c2c_numcond': None, 'crddb_term2_name': None, 'crddb_safelimits_steadystate': None, 'importsequencenumber': None, 'crddb_linevoltage': None, 'crddb_sourcelineowner': None, 'utcconversiontimezonecode': None, 'overriddencreatedon': None, 'crddb_c1a_vertical': None, 'crddb_sourceline': 'Source', 'crddb_safelimits_coating': None, 'crddb_c2phasesequence': None, 'crddb_safelimits_currdensity': None, '_crddb_c1b_condtype_value': None, 'crddb_nominalfaultcurrent_3phase_term1_phase': None, 'crddb_c1phasesequence': None, 'crddb_nominalfaultcurrent_3phase_term2_mod': None, 'crddb_nominalfaultcurrent_1phase_term1_phase': None, 'crddb_groundimpedance_terminal1_x': None, 'crddb_groundimpedance_terminal1_r': None, 'crddb_safelimits_insuljoint': None, '_crddb_c1a_condtype_value': None, 'crddb_targetlinetype': None, 'crddb_nominalfaultcurrent_3phase_term1_mod': None, 'crddb_spansbeforeemizone': None, 'crddb_c1c_numcond': None, 'crddb_mitigation_covermaterialthickness': None, 'crddb_nominalfaultcurrent_3phase_term2_phase': None, 'crddb_term1_name': None, '_crddb_c2b_condtype_value': None, 'crddb_nominalfaultcurrent_1phase_term2_phase': None, 'crddb_casedescription': 'Caso teste', 'crddb_c1c_horizontal': None, 'crddb_exposurelength': None, 'crddb_averagespanlength': None, 'crddb_mitigation_covermaterialresistivity': None, 'crddb_coatingdatathickness': None, 'crddb_safelimits_rectifier': None, 'crddb_targetgroundimpedance_right_r': None, 'timezoneruleversionnumber': None, '_owningteam_value': None, 'crddb_targetgroundimpedance_right_x': None, 'crddb_targetlineowner': None, 'crddb_c2b_numcond': None, 'crddb_groundimpedance_towers_r': None, '_modifiedonbehalfby_value': None, 'crddb_c1a_horizontal': None, '_crddb_faullocationsoilresistivity_value': None, 'crddb_c2a_horizontal': None, 'crddb_spansafteremizone': None, 'crddb_safelimits_rb': None, 'crddb_interferencetype': 2, '_createdonbehalfby_value': None, 'crddb_faultlocation_epicenter_y': None, 'crddb_faultlocation_epicenter_x': None, 'crddb_safelimits_faultduration': None, 'crddb_nominalfaultcurrent_1phase_term2_mod': None, 'crddb_shieldwirehorizontal1': None, 'crddb_shieldwirehorizontal2': None, 'crddb_c2c_vertical': None, 'crddb_approxtype': 1, 'crddb_mitigation_covermaterial': None, 'crddb_progress': 50, 'crddb_c1b_numcond': None, 'crddb_c2c_horizontal': None, 'crddb_nominalfaultcurrent_1phase_term1_mod': None, 'crddb_groundimpedance_towers_x': None, 'crddb_crosssection_targety': None, 'crddb_faultlocation_section': None, 'crddb_c1c_vertical': None, 'crddb_c2a_sep': None, '_crddb_authorizationticket_value': None, 'crddb_c1a_sep': None, 'crddb_c2b_vertical': None, 'crddb_contributionfaultcurrent_term2_phase': None, 'crddb_contributionfaultcurrent_term2_mod': None, 'crddb_contributionfaultcurrent_term1_mod': None, 'crddb_c2b_sep': None, 'crddb_targetgroundimpedance_left_x': None, 'crddb_groundimpedance_terminal2_x': None, 'crddb_c1b_sep': None, 'crddb_c2a_numcond': None, 'crddb_groundimpedance_terminal2_r': None, 'crddb_counterpoiselength': None, '_crddb_c1c_condtype_value': None, 'crddb_c1b_vertical': None, 'crddb_contributionfaultcurrent_term1_phase': None, 'crddb_coatingdatatype': None, 'crddb_c2c_sep': None, 'crddb_safelimits_bodycurrent': None, 'crddb_c1c_sep': None, '_crddb_sw2_condtype_value': None, '_crddb_sw1_condtype_value': None, 'crddb_shieldwirevertical2': None, 'crddb_shieldwirevertical1': None, 'crddb_pipediameter': None, '_crddb_c2c_condtype_value': None, 'crddb_targetline': None}]}\n"
     ]
    }
   ],
   "source": [
    "start_index = callback_url.find('code=')\n",
    "end_index = callback_url.find('&', start_index)\n",
    "authorization_code = callback_url[start_index + len('code='):end_index]\n",
    "\n",
    "# Parse the authorization code from the callback URL\n",
    "# authorization_code = callback_url.split('code=')[1]\n",
    "\n",
    "# Exchange the authorization code for an access token\n",
    "token_url = 'https://login.microsoftonline.com/common/oauth2/token'\n",
    "\n",
    "\n",
    "data = {\n",
    "    'grant_type': 'authorization_code',\n",
    "    'client_id': client_id,\n",
    "    'code': authorization_code,\n",
    "    'redirect_uri': callback_base_url,\n",
    "    'resource': url  # Add the 'resource' parameter\n",
    "}\n",
    "\n",
    "headers = {\n",
    "    'Content-Type': 'application/x-www-form-urlencoded'\n",
    "}\n",
    "\n",
    "response = requests.post(token_url, data=data, headers=headers)\n",
    "\n",
    "access_token = response.json().get('access_token')\n",
    "# Display the access token\n",
    "print('Access token:')\n",
    "print(access_token)\n",
    "\n",
    "\n",
    "url = 'https://org425ee2cf.crm.dynamics.com/api/data/v9.2/crddb_autorowreportinputsessions?$top=10'\n",
    "\n",
    "# Create the headers with the Authorization token\n",
    "headers = {\n",
    "    'Authorization': f'Bearer {access_token}'\n",
    "}\n",
    "\n",
    "# Send the HTTP GET request\n",
    "response = requests.get(url, headers=headers)\n",
    "\n",
    "# Process the response as needed\n",
    "data = response.json()  # Assuming the response is in JSON format\n",
    "print(data)"
   ]
  },
  {
   "cell_type": "code",
   "execution_count": 5,
   "metadata": {},
   "outputs": [
    {
     "data": {
      "text/html": [
       "<div>\n",
       "<style scoped>\n",
       "    .dataframe tbody tr th:only-of-type {\n",
       "        vertical-align: middle;\n",
       "    }\n",
       "\n",
       "    .dataframe tbody tr th {\n",
       "        vertical-align: top;\n",
       "    }\n",
       "\n",
       "    .dataframe thead th {\n",
       "        text-align: right;\n",
       "    }\n",
       "</style>\n",
       "<table border=\"1\" class=\"dataframe\">\n",
       "  <thead>\n",
       "    <tr style=\"text-align: right;\">\n",
       "      <th></th>\n",
       "      <th>@odata.etag</th>\n",
       "      <th>statecode</th>\n",
       "      <th>crddb_coordinatesfile_source_name</th>\n",
       "      <th>crddb_jobstatus</th>\n",
       "      <th>statuscode</th>\n",
       "      <th>crddb_jobid</th>\n",
       "      <th>createdon</th>\n",
       "      <th>_crddb_projectid_value</th>\n",
       "      <th>_ownerid_value</th>\n",
       "      <th>modifiedon</th>\n",
       "      <th>...</th>\n",
       "      <th>crddb_c2c_sep</th>\n",
       "      <th>crddb_safelimits_bodycurrent</th>\n",
       "      <th>crddb_c1c_sep</th>\n",
       "      <th>_crddb_sw2_condtype_value</th>\n",
       "      <th>_crddb_sw1_condtype_value</th>\n",
       "      <th>crddb_shieldwirevertical2</th>\n",
       "      <th>crddb_shieldwirevertical1</th>\n",
       "      <th>crddb_pipediameter</th>\n",
       "      <th>_crddb_c2c_condtype_value</th>\n",
       "      <th>crddb_targetline</th>\n",
       "    </tr>\n",
       "  </thead>\n",
       "  <tbody>\n",
       "    <tr>\n",
       "      <th>0</th>\n",
       "      <td>W/\"4450966\"</td>\n",
       "      <td>0</td>\n",
       "      <td>LT_VM100.csv</td>\n",
       "      <td>1</td>\n",
       "      <td>1</td>\n",
       "      <td>ROW-1004L5J9</td>\n",
       "      <td>2023-11-07T00:13:40Z</td>\n",
       "      <td>62560189-fe7c-ee11-8179-000d3a1f576d</td>\n",
       "      <td>eade9878-0d57-ee11-be6f-000d3a1f576d</td>\n",
       "      <td>2023-11-17T18:10:04Z</td>\n",
       "      <td>...</td>\n",
       "      <td>None</td>\n",
       "      <td>None</td>\n",
       "      <td>None</td>\n",
       "      <td>None</td>\n",
       "      <td>None</td>\n",
       "      <td>None</td>\n",
       "      <td>None</td>\n",
       "      <td>None</td>\n",
       "      <td>None</td>\n",
       "      <td>None</td>\n",
       "    </tr>\n",
       "    <tr>\n",
       "      <th>1</th>\n",
       "      <td>W/\"3602231\"</td>\n",
       "      <td>0</td>\n",
       "      <td>None</td>\n",
       "      <td>4</td>\n",
       "      <td>1</td>\n",
       "      <td>ROW-1002L5M5</td>\n",
       "      <td>2023-05-21T18:22:27Z</td>\n",
       "      <td>2018e5fb-e8f7-ed11-8848-000d3a1f576d</td>\n",
       "      <td>69d46714-c7eb-ed11-8849-000d3a17a888</td>\n",
       "      <td>2023-10-07T13:19:50Z</td>\n",
       "      <td>...</td>\n",
       "      <td>None</td>\n",
       "      <td>None</td>\n",
       "      <td>None</td>\n",
       "      <td>None</td>\n",
       "      <td>None</td>\n",
       "      <td>None</td>\n",
       "      <td>None</td>\n",
       "      <td>None</td>\n",
       "      <td>None</td>\n",
       "      <td>None</td>\n",
       "    </tr>\n",
       "  </tbody>\n",
       "</table>\n",
       "<p>2 rows × 126 columns</p>\n",
       "</div>"
      ],
      "text/plain": [
       "   @odata.etag  statecode crddb_coordinatesfile_source_name  crddb_jobstatus  \\\n",
       "0  W/\"4450966\"          0                      LT_VM100.csv                1   \n",
       "1  W/\"3602231\"          0                              None                4   \n",
       "\n",
       "   statuscode   crddb_jobid             createdon  \\\n",
       "0           1  ROW-1004L5J9  2023-11-07T00:13:40Z   \n",
       "1           1  ROW-1002L5M5  2023-05-21T18:22:27Z   \n",
       "\n",
       "                 _crddb_projectid_value                        _ownerid_value  \\\n",
       "0  62560189-fe7c-ee11-8179-000d3a1f576d  eade9878-0d57-ee11-be6f-000d3a1f576d   \n",
       "1  2018e5fb-e8f7-ed11-8848-000d3a1f576d  69d46714-c7eb-ed11-8849-000d3a17a888   \n",
       "\n",
       "             modifiedon  ... crddb_c2c_sep crddb_safelimits_bodycurrent  \\\n",
       "0  2023-11-17T18:10:04Z  ...          None                         None   \n",
       "1  2023-10-07T13:19:50Z  ...          None                         None   \n",
       "\n",
       "  crddb_c1c_sep  _crddb_sw2_condtype_value _crddb_sw1_condtype_value  \\\n",
       "0          None                       None                      None   \n",
       "1          None                       None                      None   \n",
       "\n",
       "  crddb_shieldwirevertical2 crddb_shieldwirevertical1 crddb_pipediameter  \\\n",
       "0                      None                      None               None   \n",
       "1                      None                      None               None   \n",
       "\n",
       "  _crddb_c2c_condtype_value  crddb_targetline  \n",
       "0                      None              None  \n",
       "1                      None              None  \n",
       "\n",
       "[2 rows x 126 columns]"
      ]
     },
     "execution_count": 5,
     "metadata": {},
     "output_type": "execute_result"
    }
   ],
   "source": [
    "data_df = pd.DataFrame(data['value'])\n",
    "data_df"
   ]
  },
  {
   "cell_type": "code",
   "execution_count": 10,
   "metadata": {},
   "outputs": [
    {
     "name": "stdout",
     "output_type": "stream",
     "text": [
      "O dataset não possui colunas com nomes iguais.\n"
     ]
    },
    {
     "data": {
      "text/plain": [
       "False"
      ]
     },
     "execution_count": 10,
     "metadata": {},
     "output_type": "execute_result"
    }
   ],
   "source": [
    "def verifica_colunas_iguais(df):\n",
    "    \n",
    "    # Verificar se há colunas duplicadas\n",
    "    duplicatas = df.columns[df.columns.duplicated()]\n",
    "    \n",
    "    if duplicatas.any():\n",
    "        print(f'O dataset possui colunas com nomes iguais: {duplicatas.tolist()}')\n",
    "        return True\n",
    "    else:\n",
    "        print('O dataset não possui colunas com nomes iguais.')\n",
    "        return False\n",
    "\n",
    "# Chame a função e passe o caminho do seu dataset como argumento\n",
    "verifica_colunas_iguais(data_df)"
   ]
  },
  {
   "cell_type": "markdown",
   "metadata": {},
   "source": [
    "## API Files Auto ROW Report"
   ]
  },
  {
   "cell_type": "code",
   "execution_count": 7,
   "metadata": {},
   "outputs": [
    {
     "data": {
      "text/plain": [
       "['55329a7f-027d-ee11-8179-000d3a1f576d',\n",
       " '7451df6f-04f8-ed11-8848-000d3a1f576d']"
      ]
     },
     "execution_count": 7,
     "metadata": {},
     "output_type": "execute_result"
    }
   ],
   "source": [
    "id_projects = list(data_df['crddb_autorowreportinputsessionid'])\n",
    "name_target = list(data_df['crddb_coordinatesfile_target_name'])\n",
    "name_source = list(data_df['crddb_coordinatesfile_source_name'])\n",
    "id_projects"
   ]
  },
  {
   "cell_type": "code",
   "execution_count": 8,
   "metadata": {},
   "outputs": [],
   "source": [
    "def downloaded_file(id, column, name):\n",
    "\n",
    "    api_endpoint = f'https://org425ee2cf.crm.dynamics.com/api/data/v9.0/crddb_autorowreportinputsessions({id})/crddb_coordinatesfile_{column}/$value'\n",
    "    response = requests.get(api_endpoint, headers=headers)\n",
    "    if response.status_code == 200:\n",
    "        file_content = response.content\n",
    "        # Write the binary data to a file\n",
    "        with open(name, 'wb') as file:\n",
    "            file.write(file_content)\n",
    "        print(\"File downloaded successfully.\")\n",
    "    else:\n",
    "        print(f\"Failed to download the file. Status code: {response.status_code}\")\n"
   ]
  },
  {
   "cell_type": "code",
   "execution_count": 9,
   "metadata": {},
   "outputs": [
    {
     "name": "stdout",
     "output_type": "stream",
     "text": [
      "File downloaded successfully.\n",
      "File downloaded successfully.\n",
      "Failed to download the file. Status code: 404\n",
      "Failed to download the file. Status code: 404\n"
     ]
    }
   ],
   "source": [
    "for i, target, source in zip(id_projects, name_target, name_source):\n",
    "    downloaded_file(i, 'target', target)\n",
    "    downloaded_file(i, 'source', source)\n",
    "        "
   ]
  },
  {
   "cell_type": "markdown",
   "metadata": {},
   "source": [
    "# API Conductors LookUp"
   ]
  },
  {
   "cell_type": "markdown",
   "metadata": {},
   "source": [
    "## Columns LookUps in Auto ROW"
   ]
  },
  {
   "cell_type": "code",
   "execution_count": 17,
   "metadata": {},
   "outputs": [
    {
     "data": {
      "text/html": [
       "<div>\n",
       "<style scoped>\n",
       "    .dataframe tbody tr th:only-of-type {\n",
       "        vertical-align: middle;\n",
       "    }\n",
       "\n",
       "    .dataframe tbody tr th {\n",
       "        vertical-align: top;\n",
       "    }\n",
       "\n",
       "    .dataframe thead th {\n",
       "        text-align: right;\n",
       "    }\n",
       "</style>\n",
       "<table border=\"1\" class=\"dataframe\">\n",
       "  <thead>\n",
       "    <tr style=\"text-align: right;\">\n",
       "      <th></th>\n",
       "      <th>_crddb_c1a_condtype_value</th>\n",
       "      <th>_crddb_c1b_condtype_value</th>\n",
       "      <th>_crddb_c1c_condtype_value</th>\n",
       "      <th>_crddb_c2a_condtype_value</th>\n",
       "      <th>_crddb_c2b_condtype_value</th>\n",
       "      <th>_crddb_c2c_condtype_value</th>\n",
       "      <th>_crddb_sw1_condtype_value</th>\n",
       "      <th>_crddb_sw2_condtype_value</th>\n",
       "    </tr>\n",
       "  </thead>\n",
       "  <tbody>\n",
       "    <tr>\n",
       "      <th>0</th>\n",
       "      <td>None</td>\n",
       "      <td>None</td>\n",
       "      <td>None</td>\n",
       "      <td>e3dbcae1-6085-ee11-8179-000d3a1f576d</td>\n",
       "      <td>None</td>\n",
       "      <td>None</td>\n",
       "      <td>None</td>\n",
       "      <td>None</td>\n",
       "    </tr>\n",
       "    <tr>\n",
       "      <th>1</th>\n",
       "      <td>None</td>\n",
       "      <td>None</td>\n",
       "      <td>None</td>\n",
       "      <td>None</td>\n",
       "      <td>None</td>\n",
       "      <td>None</td>\n",
       "      <td>None</td>\n",
       "      <td>None</td>\n",
       "    </tr>\n",
       "  </tbody>\n",
       "</table>\n",
       "</div>"
      ],
      "text/plain": [
       "  _crddb_c1a_condtype_value _crddb_c1b_condtype_value  \\\n",
       "0                      None                      None   \n",
       "1                      None                      None   \n",
       "\n",
       "  _crddb_c1c_condtype_value             _crddb_c2a_condtype_value  \\\n",
       "0                      None  e3dbcae1-6085-ee11-8179-000d3a1f576d   \n",
       "1                      None                                  None   \n",
       "\n",
       "  _crddb_c2b_condtype_value _crddb_c2c_condtype_value  \\\n",
       "0                      None                      None   \n",
       "1                      None                      None   \n",
       "\n",
       "  _crddb_sw1_condtype_value _crddb_sw2_condtype_value  \n",
       "0                      None                      None  \n",
       "1                      None                      None  "
      ]
     },
     "execution_count": 17,
     "metadata": {},
     "output_type": "execute_result"
    }
   ],
   "source": [
    "lookup = ['_crddb_c1a_condtype_value', '_crddb_c1b_condtype_value', '_crddb_c1c_condtype_value', '_crddb_c2a_condtype_value',\n",
    "    '_crddb_c2b_condtype_value', '_crddb_c2c_condtype_value', '_crddb_sw1_condtype_value', '_crddb_sw2_condtype_value']\n",
    "\n",
    "data_df[lookup]"
   ]
  },
  {
   "cell_type": "code",
   "execution_count": 43,
   "metadata": {},
   "outputs": [
    {
     "data": {
      "text/plain": [
       "{'_crddb_c1a_condtype_value': [None, None],\n",
       " '_crddb_c1b_condtype_value': [None, None],\n",
       " '_crddb_c1c_condtype_value': [None, None],\n",
       " '_crddb_c2a_condtype_value': ['e3dbcae1-6085-ee11-8179-000d3a1f576d', None],\n",
       " '_crddb_c2b_condtype_value': [None, None],\n",
       " '_crddb_c2c_condtype_value': [None, None],\n",
       " '_crddb_sw1_condtype_value': [None, None],\n",
       " '_crddb_sw2_condtype_value': [None, None]}"
      ]
     },
     "execution_count": 43,
     "metadata": {},
     "output_type": "execute_result"
    }
   ],
   "source": [
    "lookup = data_df[lookup].to_dict(orient='list')\n",
    "lookup # Lembrando que o index são os projetos"
   ]
  },
  {
   "cell_type": "code",
   "execution_count": 45,
   "metadata": {},
   "outputs": [
    {
     "data": {
      "text/plain": [
       "'e3dbcae1-6085-ee11-8179-000d3a1f576d'"
      ]
     },
     "execution_count": 45,
     "metadata": {},
     "output_type": "execute_result"
    }
   ],
   "source": [
    "lookup[\"_crddb_c2a_condtype_value\"][0]"
   ]
  },
  {
   "cell_type": "markdown",
   "metadata": {},
   "source": [
    "## Request Conductors - crddb_conductor"
   ]
  },
  {
   "cell_type": "code",
   "execution_count": 22,
   "metadata": {},
   "outputs": [
    {
     "name": "stdout",
     "output_type": "stream",
     "text": [
      "{'@odata.context': 'https://org425ee2cf.crm.dynamics.com/api/data/v9.2/$metadata#crddb_conductors', 'value': [{'@odata.etag': 'W/\"4450795\"', 'crddb_name': 'Name_Conductor', 'crddb_conductorid': 'e3dbcae1-6085-ee11-8179-000d3a1f576d', '_owningbusinessunit_value': '77cd6714-c7eb-ed11-8849-000d3a17a888', 'statecode': 0, 'statuscode': 1, '_createdby_value': 'eade9878-0d57-ee11-be6f-000d3a1f576d', '_ownerid_value': 'eade9878-0d57-ee11-be6f-000d3a1f576d', 'modifiedon': '2023-11-17T15:49:26Z', '_owninguser_value': 'eade9878-0d57-ee11-be6f-000d3a1f576d', '_modifiedby_value': 'eade9878-0d57-ee11-be6f-000d3a1f576d', 'versionnumber': 4450795, 'createdon': '2023-11-17T15:49:26Z', 'crddb_cross_section': None, 'crddb_ac_resistence': None, 'overriddencreatedon': None, 'importsequencenumber': None, '_modifiedonbehalfby_value': None, 'crddb_resistivity': None, 'utcconversiontimezonecode': None, 'crddb_outerradius': None, '_createdonbehalfby_value': None, 'crddb_innerradius': None, 'crddb_dc_resistance': None, 'crddb_relativepermeability': None, 'crddb_gmr': None, '_owningteam_value': None, 'timezoneruleversionnumber': None}]}\n",
      "File downloaded successfully.\n"
     ]
    }
   ],
   "source": [
    "api_cond = 'https://org425ee2cf.crm.dynamics.com/api/data/v9.2/crddb_conductors?$top=10'\n",
    "\n",
    "response = requests.get(api_cond, headers=headers)\n",
    "if response.status_code == 200:\n",
    "    data_cond = response.json()  # Assuming the response is in JSON format\n",
    "    print(data_cond)\n",
    " \n",
    "    print(\"File downloaded successfully.\")\n",
    "else:\n",
    "    print(f\"Failed to download the file. Status code: {response.status_code}\")\n"
   ]
  },
  {
   "cell_type": "code",
   "execution_count": 40,
   "metadata": {},
   "outputs": [
    {
     "data": {
      "text/html": [
       "<div>\n",
       "<style scoped>\n",
       "    .dataframe tbody tr th:only-of-type {\n",
       "        vertical-align: middle;\n",
       "    }\n",
       "\n",
       "    .dataframe tbody tr th {\n",
       "        vertical-align: top;\n",
       "    }\n",
       "\n",
       "    .dataframe thead th {\n",
       "        text-align: right;\n",
       "    }\n",
       "</style>\n",
       "<table border=\"1\" class=\"dataframe\">\n",
       "  <thead>\n",
       "    <tr style=\"text-align: right;\">\n",
       "      <th></th>\n",
       "      <th>crddb_name</th>\n",
       "      <th>crddb_name</th>\n",
       "      <th>crddb_cross_section</th>\n",
       "      <th>crddb_ac_resistence</th>\n",
       "      <th>crddb_resistivity</th>\n",
       "      <th>crddb_outerradius</th>\n",
       "      <th>_createdonbehalfby_value</th>\n",
       "      <th>crddb_innerradius</th>\n",
       "      <th>crddb_dc_resistance</th>\n",
       "      <th>crddb_relativepermeability</th>\n",
       "      <th>crddb_gmr</th>\n",
       "    </tr>\n",
       "    <tr>\n",
       "      <th>crddb_conductorid</th>\n",
       "      <th></th>\n",
       "      <th></th>\n",
       "      <th></th>\n",
       "      <th></th>\n",
       "      <th></th>\n",
       "      <th></th>\n",
       "      <th></th>\n",
       "      <th></th>\n",
       "      <th></th>\n",
       "      <th></th>\n",
       "      <th></th>\n",
       "    </tr>\n",
       "  </thead>\n",
       "  <tbody>\n",
       "    <tr>\n",
       "      <th>e3dbcae1-6085-ee11-8179-000d3a1f576d</th>\n",
       "      <td>Name_Conductor</td>\n",
       "      <td>Name_Conductor</td>\n",
       "      <td>None</td>\n",
       "      <td>None</td>\n",
       "      <td>None</td>\n",
       "      <td>None</td>\n",
       "      <td>None</td>\n",
       "      <td>None</td>\n",
       "      <td>None</td>\n",
       "      <td>None</td>\n",
       "      <td>None</td>\n",
       "    </tr>\n",
       "  </tbody>\n",
       "</table>\n",
       "</div>"
      ],
      "text/plain": [
       "                                          crddb_name      crddb_name  \\\n",
       "crddb_conductorid                                                      \n",
       "e3dbcae1-6085-ee11-8179-000d3a1f576d  Name_Conductor  Name_Conductor   \n",
       "\n",
       "                                     crddb_cross_section crddb_ac_resistence  \\\n",
       "crddb_conductorid                                                              \n",
       "e3dbcae1-6085-ee11-8179-000d3a1f576d                None                None   \n",
       "\n",
       "                                     crddb_resistivity crddb_outerradius  \\\n",
       "crddb_conductorid                                                          \n",
       "e3dbcae1-6085-ee11-8179-000d3a1f576d              None              None   \n",
       "\n",
       "                                     _createdonbehalfby_value  \\\n",
       "crddb_conductorid                                               \n",
       "e3dbcae1-6085-ee11-8179-000d3a1f576d                     None   \n",
       "\n",
       "                                     crddb_innerradius crddb_dc_resistance  \\\n",
       "crddb_conductorid                                                            \n",
       "e3dbcae1-6085-ee11-8179-000d3a1f576d              None                None   \n",
       "\n",
       "                                     crddb_relativepermeability crddb_gmr  \n",
       "crddb_conductorid                                                          \n",
       "e3dbcae1-6085-ee11-8179-000d3a1f576d                       None      None  "
      ]
     },
     "execution_count": 40,
     "metadata": {},
     "output_type": "execute_result"
    }
   ],
   "source": [
    "cond_df = pd.DataFrame(data_cond['value'])\n",
    "cond_columns = ['crddb_name', 'crddb_name', 'crddb_conductorid', 'crddb_cross_section',\n",
    "'crddb_ac_resistence', 'crddb_resistivity' , 'crddb_outerradius', '_createdonbehalfby_value',\n",
    "'crddb_innerradius', 'crddb_dc_resistance', 'crddb_relativepermeability', 'crddb_gmr']\n",
    "cond_df = cond_df[cond_columns]\n",
    "# cond = cond_df.to_dict(orient='list')\n",
    "cond_df.set_index('crddb_conductorid', inplace=True)\n",
    "cond_df"
   ]
  },
  {
   "cell_type": "code",
   "execution_count": 47,
   "metadata": {},
   "outputs": [
    {
     "data": {
      "text/plain": [
       "['Name_Conductor',\n",
       " 'Name_Conductor',\n",
       " None,\n",
       " None,\n",
       " None,\n",
       " None,\n",
       " None,\n",
       " None,\n",
       " None,\n",
       " None,\n",
       " None]"
      ]
     },
     "execution_count": 47,
     "metadata": {},
     "output_type": "execute_result"
    }
   ],
   "source": [
    "row_by_index = list(cond_df.loc[lookup[\"_crddb_c2a_condtype_value\"][0]])\n",
    "row_by_index"
   ]
  },
  {
   "cell_type": "markdown",
   "metadata": {},
   "source": [
    "# API Soil Fit"
   ]
  },
  {
   "cell_type": "markdown",
   "metadata": {},
   "source": [
    "## Request Soil Fit"
   ]
  },
  {
   "cell_type": "code",
   "execution_count": 48,
   "metadata": {},
   "outputs": [
    {
     "name": "stdout",
     "output_type": "stream",
     "text": [
      "{'@odata.context': 'https://org425ee2cf.crm.dynamics.com/api/data/v9.2/$metadata#crddb_soilfitinputsessions', 'value': [{'@odata.etag': 'W/\"4131965\"', '_owningbusinessunit_value': '77cd6714-c7eb-ed11-8849-000d3a17a888', 'crddb_type': 2, 'crddb_jobid': 'SFT-1002Q5M7', 'crddb_measurementmethod': 1, 'statecode': 0, 'statuscode': 1, 'crddb_soilfitinputsessionid': '25578596-fe7c-ee11-8179-000d3a1f576d', '_createdby_value': 'eade9878-0d57-ee11-be6f-000d3a1f576d', '_ownerid_value': 'eade9878-0d57-ee11-be6f-000d3a1f576d', 'modifiedon': '2023-11-06T23:45:43Z', '_owninguser_value': 'eade9878-0d57-ee11-be6f-000d3a1f576d', '_modifiedby_value': 'eade9878-0d57-ee11-be6f-000d3a1f576d', 'crddb_status': 1, 'versionnumber': 4131965, 'crddb_casedescription': 'Projeto Teste', 'createdon': '2023-11-06T23:45:43Z', '_crddb_projectid_value': '62560189-fe7c-ee11-8179-000d3a1f576d', 'overriddencreatedon': None, 'importsequencenumber': None, '_modifiedonbehalfby_value': None, 'utcconversiontimezonecode': None, '_createdonbehalfby_value': None, 'crddb_progress': None, '_owningteam_value': None, 'timezoneruleversionnumber': None}, {'@odata.etag': 'W/\"3636972\"', '_owningbusinessunit_value': '77cd6714-c7eb-ed11-8849-000d3a17a888', 'crddb_type': 2, 'crddb_jobid': 'SFT-1001P2D2', 'crddb_measurementmethod': None, 'statecode': 0, 'statuscode': 1, 'crddb_soilfitinputsessionid': '8791b844-b566-ee11-9ae7-000d3a1f576d', '_createdby_value': '69d46714-c7eb-ed11-8849-000d3a17a888', '_ownerid_value': '69d46714-c7eb-ed11-8849-000d3a17a888', 'modifiedon': '2023-10-09T15:05:29Z', '_owninguser_value': '69d46714-c7eb-ed11-8849-000d3a17a888', '_modifiedby_value': '69d46714-c7eb-ed11-8849-000d3a17a888', 'crddb_status': 1, 'versionnumber': 3636972, 'crddb_casedescription': 'teste', 'createdon': '2023-10-09T15:05:29Z', '_crddb_projectid_value': '2018e5fb-e8f7-ed11-8848-000d3a1f576d', 'overriddencreatedon': None, 'importsequencenumber': None, '_modifiedonbehalfby_value': None, 'utcconversiontimezonecode': None, '_createdonbehalfby_value': None, 'crddb_progress': None, '_owningteam_value': None, 'timezoneruleversionnumber': None}]}\n",
      "Request successfully.\n"
     ]
    }
   ],
   "source": [
    "api_cond = 'https://org425ee2cf.crm.dynamics.com/api/data/v9.2/crddb_soilfitinputsessions?$top=10'\n",
    "\n",
    "response = requests.get(api_cond, headers=headers)\n",
    "if response.status_code == 200:\n",
    "    data_soil = response.json()  # Assuming the response is in JSON format\n",
    "    print(data_soil)\n",
    " \n",
    "    print(\"Request successfully.\")\n",
    "else:\n",
    "    print(f\"Failed to request the file. Status code: {response.status_code}\")\n"
   ]
  },
  {
   "cell_type": "code",
   "execution_count": 50,
   "metadata": {},
   "outputs": [],
   "source": [
    "soil_columns = ['crddb_type', 'crddb_measurementmethod', 'crddb_soilfitinputsessionid',\n",
    "'_crddb_projectid_value', 'crddb_measurementmethod', 'crddb_soilfitinputsessionid']"
   ]
  },
  {
   "cell_type": "code",
   "execution_count": 51,
   "metadata": {},
   "outputs": [
    {
     "data": {
      "text/html": [
       "<div>\n",
       "<style scoped>\n",
       "    .dataframe tbody tr th:only-of-type {\n",
       "        vertical-align: middle;\n",
       "    }\n",
       "\n",
       "    .dataframe tbody tr th {\n",
       "        vertical-align: top;\n",
       "    }\n",
       "\n",
       "    .dataframe thead th {\n",
       "        text-align: right;\n",
       "    }\n",
       "</style>\n",
       "<table border=\"1\" class=\"dataframe\">\n",
       "  <thead>\n",
       "    <tr style=\"text-align: right;\">\n",
       "      <th></th>\n",
       "      <th>crddb_type</th>\n",
       "      <th>crddb_measurementmethod</th>\n",
       "      <th>crddb_soilfitinputsessionid</th>\n",
       "      <th>_crddb_projectid_value</th>\n",
       "      <th>crddb_measurementmethod</th>\n",
       "      <th>crddb_soilfitinputsessionid</th>\n",
       "    </tr>\n",
       "  </thead>\n",
       "  <tbody>\n",
       "    <tr>\n",
       "      <th>0</th>\n",
       "      <td>2</td>\n",
       "      <td>1.0</td>\n",
       "      <td>25578596-fe7c-ee11-8179-000d3a1f576d</td>\n",
       "      <td>62560189-fe7c-ee11-8179-000d3a1f576d</td>\n",
       "      <td>1.0</td>\n",
       "      <td>25578596-fe7c-ee11-8179-000d3a1f576d</td>\n",
       "    </tr>\n",
       "    <tr>\n",
       "      <th>1</th>\n",
       "      <td>2</td>\n",
       "      <td>NaN</td>\n",
       "      <td>8791b844-b566-ee11-9ae7-000d3a1f576d</td>\n",
       "      <td>2018e5fb-e8f7-ed11-8848-000d3a1f576d</td>\n",
       "      <td>NaN</td>\n",
       "      <td>8791b844-b566-ee11-9ae7-000d3a1f576d</td>\n",
       "    </tr>\n",
       "  </tbody>\n",
       "</table>\n",
       "</div>"
      ],
      "text/plain": [
       "   crddb_type  crddb_measurementmethod           crddb_soilfitinputsessionid  \\\n",
       "0           2                      1.0  25578596-fe7c-ee11-8179-000d3a1f576d   \n",
       "1           2                      NaN  8791b844-b566-ee11-9ae7-000d3a1f576d   \n",
       "\n",
       "                 _crddb_projectid_value  crddb_measurementmethod  \\\n",
       "0  62560189-fe7c-ee11-8179-000d3a1f576d                      1.0   \n",
       "1  2018e5fb-e8f7-ed11-8848-000d3a1f576d                      NaN   \n",
       "\n",
       "            crddb_soilfitinputsessionid  \n",
       "0  25578596-fe7c-ee11-8179-000d3a1f576d  \n",
       "1  8791b844-b566-ee11-9ae7-000d3a1f576d  "
      ]
     },
     "execution_count": 51,
     "metadata": {},
     "output_type": "execute_result"
    }
   ],
   "source": [
    "soil_df = pd.DataFrame(data_soil['value'])\n",
    "soil_df = soil_df[soil_columns]\n",
    "# soil = soil_df.to_dict(orient='list')\n",
    "# soil_df.set_index('crddb_soiluctorid', inplace=True)\n",
    "soil_df"
   ]
  },
  {
   "cell_type": "markdown",
   "metadata": {},
   "source": [
    "# API Observation Point - LookUp"
   ]
  },
  {
   "cell_type": "code",
   "execution_count": 52,
   "metadata": {},
   "outputs": [
    {
     "name": "stdout",
     "output_type": "stream",
     "text": [
      "{'@odata.context': 'https://org425ee2cf.crm.dynamics.com/api/data/v9.2/$metadata#new_obspoints', 'value': [{'@odata.etag': 'W/\"4126444\"', '_crddb_autorowreportid_value': '7451df6f-04f8-ed11-8848-000d3a1f576d', '_owningbusinessunit_value': '77cd6714-c7eb-ed11-8849-000d3a17a888', 'new_pointid': 'PTE-TESTE', 'statecode': 0, 'statuscode': 1, '_createdby_value': '69d46714-c7eb-ed11-8849-000d3a17a888', 'crddb_pointtype': 1, '_crddb_resistivity_value': '8791b844-b566-ee11-9ae7-000d3a1f576d', '_ownerid_value': '69d46714-c7eb-ed11-8849-000d3a17a888', 'modifiedon': '2023-11-01T17:58:59Z', 'crddb_ycoordinate': 5678.0, '_owninguser_value': '69d46714-c7eb-ed11-8849-000d3a17a888', '_modifiedby_value': '69d46714-c7eb-ed11-8849-000d3a17a888', 'versionnumber': 4126444, 'new_xcoordinate': 1234.0, 'createdon': '2023-11-01T17:58:36Z', 'new_obspointid': '71772047-e078-ee11-8179-000d3a1f576d', 'overriddencreatedon': None, 'importsequencenumber': None, '_modifiedonbehalfby_value': None, 'utcconversiontimezonecode': None, '_createdonbehalfby_value': None, 'new_name': None, '_owningteam_value': None, 'timezoneruleversionnumber': None}]}\n",
      "Request successfully.\n"
     ]
    }
   ],
   "source": [
    "api_cond = 'https://org425ee2cf.crm.dynamics.com/api/data/v9.2/new_obspoints?$top=10'\n",
    "\n",
    "response = requests.get(api_cond, headers=headers)\n",
    "if response.status_code == 200:\n",
    "    data_obs = response.json()  # Assuming the response is in JSON format\n",
    "    print(data_obs)\n",
    " \n",
    "    print(\"Request successfully.\")\n",
    "else:\n",
    "    print(f\"Failed to request the file. Status code: {response.status_code}\")\n"
   ]
  },
  {
   "cell_type": "code",
   "execution_count": null,
   "metadata": {},
   "outputs": [],
   "source": [
    "obs_columns = ['_crddb_autorowreportid_value', 'new_pointid', 'crddb_pointtype', '_crddb_resistivity_value', 'crddb_ycoordinate', 'new_xcoordinate', 'new_obspointid' ]"
   ]
  },
  {
   "cell_type": "code",
   "execution_count": 56,
   "metadata": {},
   "outputs": [
    {
     "data": {
      "text/html": [
       "<div>\n",
       "<style scoped>\n",
       "    .dataframe tbody tr th:only-of-type {\n",
       "        vertical-align: middle;\n",
       "    }\n",
       "\n",
       "    .dataframe tbody tr th {\n",
       "        vertical-align: top;\n",
       "    }\n",
       "\n",
       "    .dataframe thead th {\n",
       "        text-align: right;\n",
       "    }\n",
       "</style>\n",
       "<table border=\"1\" class=\"dataframe\">\n",
       "  <thead>\n",
       "    <tr style=\"text-align: right;\">\n",
       "      <th></th>\n",
       "      <th>_crddb_autorowreportid_value</th>\n",
       "      <th>new_pointid</th>\n",
       "      <th>crddb_pointtype</th>\n",
       "      <th>_crddb_resistivity_value</th>\n",
       "      <th>crddb_ycoordinate</th>\n",
       "      <th>new_xcoordinate</th>\n",
       "      <th>new_obspointid</th>\n",
       "    </tr>\n",
       "  </thead>\n",
       "  <tbody>\n",
       "    <tr>\n",
       "      <th>0</th>\n",
       "      <td>7451df6f-04f8-ed11-8848-000d3a1f576d</td>\n",
       "      <td>PTE-TESTE</td>\n",
       "      <td>1</td>\n",
       "      <td>8791b844-b566-ee11-9ae7-000d3a1f576d</td>\n",
       "      <td>5678.0</td>\n",
       "      <td>1234.0</td>\n",
       "      <td>71772047-e078-ee11-8179-000d3a1f576d</td>\n",
       "    </tr>\n",
       "  </tbody>\n",
       "</table>\n",
       "</div>"
      ],
      "text/plain": [
       "           _crddb_autorowreportid_value new_pointid  crddb_pointtype  \\\n",
       "0  7451df6f-04f8-ed11-8848-000d3a1f576d   PTE-TESTE                1   \n",
       "\n",
       "               _crddb_resistivity_value  crddb_ycoordinate  new_xcoordinate  \\\n",
       "0  8791b844-b566-ee11-9ae7-000d3a1f576d             5678.0           1234.0   \n",
       "\n",
       "                         new_obspointid  \n",
       "0  71772047-e078-ee11-8179-000d3a1f576d  "
      ]
     },
     "execution_count": 56,
     "metadata": {},
     "output_type": "execute_result"
    }
   ],
   "source": [
    "obs_df = pd.DataFrame(data_obs['value'])\n",
    "obs_columns = ['_crddb_autorowreportid_value', 'new_pointid', 'crddb_pointtype', \n",
    "'_crddb_resistivity_value', 'crddb_ycoordinate', 'new_xcoordinate', 'new_obspointid' ]\n",
    "obs_df = obs_df[obs_columns]\n",
    "obs_df"
   ]
  }
 ],
 "metadata": {
  "kernelspec": {
   "display_name": "base",
   "language": "python",
   "name": "python3"
  },
  "language_info": {
   "codemirror_mode": {
    "name": "ipython",
    "version": 3
   },
   "file_extension": ".py",
   "mimetype": "text/x-python",
   "name": "python",
   "nbconvert_exporter": "python",
   "pygments_lexer": "ipython3",
   "version": "3.9.12"
  }
 },
 "nbformat": 4,
 "nbformat_minor": 2
}
