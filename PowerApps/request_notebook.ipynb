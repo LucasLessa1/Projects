{
 "cells": [
  {
   "cell_type": "markdown",
   "metadata": {},
   "source": [
    "# Imports"
   ]
  },
  {
   "cell_type": "code",
   "execution_count": 1,
   "metadata": {},
   "outputs": [],
   "source": [
    "from selenium import webdriver\n",
    "from selenium.webdriver.chrome.service import Service as ChromeSerice\n",
    "import requests\n",
    "from selenium.webdriver.common.by import By\n",
    "\n",
    "from selenium import webdriver\n",
    "import requests\n",
    "import pyautogui as py\n",
    "import time\n",
    "\n",
    "import clipboard\n",
    "import pandas as pd"
   ]
  },
  {
   "cell_type": "markdown",
   "metadata": {},
   "source": [
    "# API Auto ROW Report Input Session"
   ]
  },
  {
   "cell_type": "markdown",
   "metadata": {},
   "source": [
    "## Dados de Usuário"
   ]
  },
  {
   "cell_type": "code",
   "execution_count": 2,
   "metadata": {},
   "outputs": [],
   "source": [
    "user = \"190126230@aluno.unb.br\"\n",
    "password = \"ENG1901me00$$\""
   ]
  },
  {
   "cell_type": "markdown",
   "metadata": {},
   "source": [
    "## Chrome WebDriver"
   ]
  },
  {
   "cell_type": "code",
   "execution_count": 3,
   "metadata": {},
   "outputs": [
    {
     "name": "stdout",
     "output_type": "stream",
     "text": [
      "https://localhost/?code=0.AQoAoZs17AtjK024M8jm1I-AWYkU-FHuEp5Kqq6iWR9FmH0BAAA.AgABAAIAAAAmoFfGtYxvRrNriQdPKIZ-AgDs_wUA9P9iUd7CMYtuwod4_jrVJ896KoJ5BHmGvlIHaq01a45j-94hMPOA0vfgoy5khzbDAcbKno_ImNuVdrsZ4Vx7o150kY_t5NdihBUUoQ0SfCO6KMB3CbGQX1nUIHyOkNBQpC3OLUzNK08MOY3MUzP-FMGaIIa7LvUaMOWLB_90dEbnHosMHJ9t81Ug5hLt6r6O-Ef0ggHWEwtdNmdSSpKwKvGaLuqmETL3P-NHG6FzHyHpbgvNfTQh4B-iMOA9zSYQlyqkRYamvIQ84y8aXvvgLVtEZAQwllCGICWGDfXpHKEys5AwCvtWoDNsQphwzzLtrmtCfgbzbLHbNso4ZDkGV8ZCX4p4QQFIW6ZuT1_uqfpqAcO4ZcVHfyFIeG4Xj_RiQYVKLucyuJ1BNUjxMr8AKmxcW7nJWx9ID2UTppQfvfEhnctL3-Ywv3ZxklVlWKVucG9i8Z5CaAXefM0uf57YudOQ04WNzZbLVdMBDGc1yBhS5z8mIrEM9OS8KFysSLlOYhKJJzCLkDxpYBKdunbVm6lezj4cSLvxBdKwRCDWReYSOdumdeL1vyaB-Z6pQg8rXrRVjCJuT15c1RiDD1ZEW4dxmVgR8lvGjEysyQ8QBzK_G-LPzP4YeSCdEmt1ZTi7o0Ld&session_state=7364bab0-9598-44f7-82b9-8166b341e783\n"
     ]
    }
   ],
   "source": [
    "# Initialize a Chrome WebDriver\n",
    "driver = webdriver.Chrome()\n",
    "\n",
    "# Your Azure AD and OAuth2.0 parameters\n",
    "url = 'https://org425ee2cf.api.crm.dynamics.com'\n",
    "client_id = '51f81489-12ee-4a9e-aaae-a2591f45987d'\n",
    "callback_base_url = 'https://localhost'\n",
    "\n",
    "\n",
    "# Construct the authorization URL with query parameters\n",
    "auth_url = f'https://login.microsoftonline.com/common/oauth2/authorize?' \\\n",
    "           f'client_id={client_id}&response_type=code&redirect_uri={callback_base_url}&resource={url}'\n",
    "\n",
    "\n",
    "# Open the authorization URL in a browser\n",
    "driver.get(auth_url)\n",
    "\n",
    "time.sleep(3)\n",
    "py.write(user)\n",
    "time.sleep(1)\n",
    "py.press('enter')\n",
    "\n",
    "\n",
    "time.sleep(3)\n",
    "py.write(password)\n",
    "time.sleep(1)\n",
    "py.press('enter')\n",
    "\n",
    "time.sleep(3)\n",
    "py.hotkey('ctrl', 'l')\n",
    "py.hotkey('ctrl', 'c')\n",
    "callback_url = str(clipboard.paste())\n",
    "print(callback_url)"
   ]
  },
  {
   "cell_type": "markdown",
   "metadata": {},
   "source": [
    "## Request Auto ROW"
   ]
  },
  {
   "cell_type": "code",
   "execution_count": 4,
   "metadata": {},
   "outputs": [
    {
     "name": "stdout",
     "output_type": "stream",
     "text": [
      "Access token:\n",
      "eyJ0eXAiOiJKV1QiLCJhbGciOiJSUzI1NiIsIng1dCI6IlQxU3QtZExUdnlXUmd4Ql82NzZ1OGtyWFMtSSIsImtpZCI6IlQxU3QtZExUdnlXUmd4Ql82NzZ1OGtyWFMtSSJ9.eyJhdWQiOiJodHRwczovL29yZzQyNWVlMmNmLmFwaS5jcm0uZHluYW1pY3MuY29tIiwiaXNzIjoiaHR0cHM6Ly9zdHMud2luZG93cy5uZXQvZWMzNTliYTEtNjMwYi00ZDJiLWI4MzMtYzhlNmQ0OGY4MDU5LyIsImlhdCI6MTcwMTcxODk0OSwibmJmIjoxNzAxNzE4OTQ5LCJleHAiOjE3MDE3MjMwMjcsImFjY3QiOjAsImFjciI6IjEiLCJhaW8iOiJBVFFBeS84VkFBQUE0QVh0VTRHcXdGVnVQZnRBcS82ZHhGY0JjMHV6YVFtLzBxeGRXZ1JRUGRvMDhtTC95clRNN0ZEWVg4ZDNaYWMxIiwiYW1yIjpbInB3ZCJdLCJhcHBpZCI6IjUxZjgxNDg5LTEyZWUtNGE5ZS1hYWFlLWEyNTkxZjQ1OTg3ZCIsImFwcGlkYWNyIjoiMCIsImZhbWlseV9uYW1lIjoiU2FudG9zIExlc3NhIiwiZ2l2ZW5fbmFtZSI6Ikx1Y2FzIiwiaXBhZGRyIjoiMTg5LjM5LjE3Ny4yOCIsImxvZ2luX2hpbnQiOiJPLkNpUTVNMkUxWlRKaVpDMWhaakkyTFRRNVltSXRZamxqT0MwMFlXRmlZbUpoTXpBMFpqWVNKR1ZqTXpVNVltRXhMVFl6TUdJdE5HUXlZaTFpT0RNekxXTTRaVFprTkRobU9EQTFPUm9XTVRrd01USTJNak13UUdGc2RXNXZMblZ1WWk1aWNpQ3dBUT09IiwibmFtZSI6Ikx1Y2FzIFNhbnRvcyBMZXNzYSIsIm9pZCI6IjkzYTVlMmJkLWFmMjYtNDliYi1iOWM4LTRhYWJiYmEzMDRmNiIsIm9ucHJlbV9zaWQiOiJTLTEtNS0yMS0xNjc1Nzk5NzAtMTcwMjQwMDM5OC0zNTM5NjQ3MzY1LTU0OTI2IiwicHVpZCI6IjEwMDMyMDAwNUZCQzhBOTUiLCJyaCI6IjAuQVFvQW9aczE3QXRqSzAyNE04am0xSS1BV1FjQUFBQUFBQUFBd0FBQUFBQUFBQUFLQUNvLiIsInNjcCI6InVzZXJfaW1wZXJzb25hdGlvbiIsInN1YiI6InRFTUtiTDZhQkR6UGhqbnk5WFlVdDNEOF9WOUNNMEhqUDlnVG9TVUdGa1EiLCJ0ZW5hbnRfcmVnaW9uX3Njb3BlIjoiU0EiLCJ0aWQiOiJlYzM1OWJhMS02MzBiLTRkMmItYjgzMy1jOGU2ZDQ4ZjgwNTkiLCJ1bmlxdWVfbmFtZSI6IjE5MDEyNjIzMEBhbHVuby51bmIuYnIiLCJ1cG4iOiIxOTAxMjYyMzBAYWx1bm8udW5iLmJyIiwidXRpIjoiVG9panhNQVN3MFdaNGN0ODFsWUZBQSIsInZlciI6IjEuMCIsIndpZHMiOlsiYjc5ZmJmNGQtM2VmOS00Njg5LTgxNDMtNzZiMTk0ZTg1NTA5Il0sInhtc19jYWUiOiIxIn0.ciW4CQnJ3T4OChuJgUCC4bN_XWC0lE-QS-gdS5cP5SOqvZQkwGfsqY173X7rdBjxt7933m5zlbHyWmQ8hG_KtF-z9KqQFPTx9f0LuGA-WDmhtjcSpqN4nmGdJ9mp2F6M-ObiHrpvK5ZzanHtCQksCDMNgW1Bq6cs2VziILOBqsGGqP-tyP6lhRRikWVtMoYEDv8-gCX-JbMn7dmz5LX0-ic2vMl_FKP_AU29HLhZtUfobTPm0h-MFPPr5xebIRwLvw2_ZNADeuCry9t5Q9oeRXvRcXvq1PhInaYci1Sj9QeekdETvGBpjrtIbrN3-Sa0ACjekWhLjVwefnZunv1lQg\n",
      "{'@odata.context': 'https://org425ee2cf.crm.dynamics.com/api/data/v9.2/$metadata#crddb_autorowreportinputsessions', 'value': [{'@odata.etag': 'W/\"4504770\"', 'crddb_c1b_sep': 0.4, 'crddb_contributionfaultcurrent_term1_mod': 5000.0, 'crddb_crosssection_targety': 1.5, 'crddb_contributionfaultcurrent_term2_phase': 0.0, '_ownerid_value': 'eade9878-0d57-ee11-be6f-000d3a1f576d', 'crddb_spansbeforeemizone': 5, 'statecode': 0, 'crddb_contributionfaultcurrent_term2_mod': 5000.0, 'crddb_circuittype': 1, 'crddb_groundimpedance_terminal2_r': 1.0, 'crddb_approxtype': 1, 'crddb_coordinatesfile_source': '23ab9985-027d-ee11-8179-000d3a1f576d', '_crddb_c1c_condtype_value': '72ab56d1-cb92-ee11-be37-000d3a1f576d', '_crddb_sw2_condtype_value': '72ab56d1-cb92-ee11-be37-000d3a1f576d', 'crddb_coordinatesfile_target': '96c89991-027d-ee11-8179-000d3a1f576d', 'crddb_term1_name': 'Term1', 'crddb_safelimits_bodycurrent': 6.0, 'crddb_c1b_vertical': 18.995, 'crddb_targetlinetype': 1, 'crddb_targetlineowner': 'EmpresaDT', 'modifiedon': '2023-12-04T17:47:20Z', '_owninguser_value': 'eade9878-0d57-ee11-be6f-000d3a1f576d', 'crddb_safelimits_rb': 1000.0, '_crddb_c1a_condtype_value': '72ab56d1-cb92-ee11-be37-000d3a1f576d', 'crddb_nominalfaultcurrent_1phase_term1_mod': 4010.0, 'crddb_targetgroundimpedance_right_r': 10.0, 'crddb_sourcelineowner': 'EmpresaLT', 'crddb_casedescription': 'Teste cruzamento 45 graus', 'crddb_c1c_vertical': 18.995, 'crddb_interferencetype': 2, 'crddb_term2_name': 'Term2', 'crddb_targetgroundimpedance_left_r': 10.0, 'crddb_exposurelength': 2500.0, 'crddb_safelimits_currdensity': 100.0, 'crddb_c1phasesequence': 1, 'crddb_c1a_horizontal': 0.0, 'crddb_nominalfaultcurrent_1phase_term1_phase': 0.0, 'crddb_safelimits_rectifier': 1000.0, 'crddb_faultlocation_section': '17', 'crddb_nominalfaultcurrent_1phase_term2_phase': 0.0, 'crddb_coordinatesfile_source_name': 'LT_VM100.csv', 'crddb_mitigation_covermaterialthickness': 0.1, 'crddb_contributionfaultcurrent_term1_phase': 0.0, 'crddb_groundimpedance_terminal2_x': 0.0, 'crddb_safelimits_steadystate': 15.0, 'crddb_steadystatecurrent': 670.0, 'crddb_c1c_alpha': 45.0, 'statuscode': 1, 'createdon': '2023-11-07T00:13:40Z', 'crddb_c1c_sep': 0.4, 'crddb_spansafteremizone': 5, 'crddb_nominalfaultcurrent_3phase_term2_mod': 2370.0, 'crddb_nominalfaultcurrent_3phase_term1_phase': 0.0, 'crddb_nominalfaultcurrent_3phase_term2_phase': 0.0, 'crddb_c1c_horizontal': 28.41, 'crddb_linevoltage': 138.0, 'crddb_jobstatus': 1, 'crddb_c1c_numcond': 4, 'crddb_c1a_numcond': 4, 'versionnumber': 4504770, 'crddb_coatingdatathickness': 0.0, 'crddb_jobid': 'ROW-1004L5J9', 'crddb_nominalfaultcurrent_1phase_term2_mod': 2040.0, 'crddb_averagespanlength': 100.0, 'crddb_mitigation_covermaterial': 'Brita nº. 4', 'crddb_targetline': 'Duto teste', '_crddb_faullocationsoilresistivity_value': 'a08a3884-cc92-ee11-be37-000d3a1f576d', '_crddb_projectid_value': '62560189-fe7c-ee11-8179-000d3a1f576d', 'crddb_c1b_alpha': 45.0, '_crddb_sw1_condtype_value': '72ab56d1-cb92-ee11-be37-000d3a1f576d', 'crddb_coatingdataresistivity': 100000000.0, 'crddb_shieldwirehorizontal1': 11.25, 'crddb_safelimits_faultduration': 1000.0, 'crddb_coordinatesfile_target_name': 'Gas_VM50_CRUZ_45graus.csv', '_modifiedby_value': 'eade9878-0d57-ee11-be6f-000d3a1f576d', 'crddb_pipediameter': 10.0, '_createdby_value': 'eade9878-0d57-ee11-be6f-000d3a1f576d', 'crddb_groundimpedance_terminal1_x': 0.0, 'crddb_shieldwirevertical2': 24.99, 'crddb_shieldwirevertical1': 24.99, 'crddb_counterpoiselength': 100.0, 'crddb_groundimpedance_terminal1_r': 1.0, 'crddb_autorowreportinputsessionid': '55329a7f-027d-ee11-8179-000d3a1f576d', 'crddb_groundimpedance_towers_r': 15.0, 'crddb_sourceline': 'Linha teste', 'crddb_c1a_alpha': 45.0, 'crddb_targetgroundimpedance_left_x': 0.0, 'crddb_groundimpedance_towers_x': 0.0, 'crddb_nominalfaultcurrent_3phase_term1_mod': 4640.0, 'crddb_safelimits_insuljoint': 2500.0, 'crddb_shieldwirehorizontal2': 22.5, 'crddb_c1a_sep': 0.4, '_owningbusinessunit_value': '77cd6714-c7eb-ed11-8849-000d3a17a888', 'crddb_faultlocation_epicenter_x': 0.0, 'crddb_faultlocation_epicenter_y': 0.0, 'crddb_mitigation_covermaterialresistivity': 3000.0, 'crddb_c1a_vertical': 18.995, 'crddb_safelimits_coating': 5000.0, '_crddb_c1b_condtype_value': '72ab56d1-cb92-ee11-be37-000d3a1f576d', 'crddb_coatingdatatype': 'PE3L', 'crddb_targetgroundimpedance_right_x': 0.0, 'crddb_c1b_horizontal': 14.205, 'crddb_c2a_vertical': None, 'crddb_c2b_alpha': None, 'crddb_c2b_horizontal': None, 'crddb_c2c_numcond': None, 'importsequencenumber': None, 'utcconversiontimezonecode': None, 'overriddencreatedon': None, 'crddb_c2phasesequence': None, '_crddb_c2b_condtype_value': None, '_crddb_c2a_condtype_value': None, 'timezoneruleversionnumber': None, '_owningteam_value': None, 'crddb_c2b_numcond': None, '_modifiedonbehalfby_value': None, 'crddb_c2c_alpha': None, 'crddb_c2a_horizontal': None, '_createdonbehalfby_value': None, 'crddb_c2c_vertical': None, 'crddb_progress': None, 'crddb_c1b_numcond': None, 'crddb_c2c_horizontal': None, 'crddb_c2a_sep': None, '_crddb_authorizationticket_value': None, 'crddb_c2b_vertical': None, 'crddb_c2b_sep': None, 'crddb_c2a_numcond': None, 'crddb_c2c_sep': None, 'crddb_c2a_alpha': None, '_crddb_c2c_condtype_value': None}, {'@odata.etag': 'W/\"3602231\"', 'crddb_c1b_sep': None, 'crddb_contributionfaultcurrent_term1_mod': None, 'crddb_crosssection_targety': None, 'crddb_contributionfaultcurrent_term2_phase': None, '_ownerid_value': '69d46714-c7eb-ed11-8849-000d3a17a888', 'crddb_spansbeforeemizone': None, 'statecode': 0, 'crddb_contributionfaultcurrent_term2_mod': None, 'crddb_circuittype': None, 'crddb_groundimpedance_terminal2_r': None, 'crddb_approxtype': 1, 'crddb_coordinatesfile_source': None, '_crddb_c1c_condtype_value': None, '_crddb_sw2_condtype_value': None, 'crddb_coordinatesfile_target': None, 'crddb_term1_name': None, 'crddb_safelimits_bodycurrent': None, 'crddb_c1b_vertical': None, 'crddb_targetlinetype': None, 'crddb_targetlineowner': None, 'modifiedon': '2023-10-07T13:19:50Z', '_owninguser_value': '69d46714-c7eb-ed11-8849-000d3a17a888', 'crddb_safelimits_rb': None, '_crddb_c1a_condtype_value': None, 'crddb_nominalfaultcurrent_1phase_term1_mod': None, 'crddb_targetgroundimpedance_right_r': None, 'crddb_sourcelineowner': None, 'crddb_casedescription': 'Caso teste', 'crddb_c1c_vertical': None, 'crddb_interferencetype': 2, 'crddb_term2_name': None, 'crddb_targetgroundimpedance_left_r': None, 'crddb_exposurelength': None, 'crddb_safelimits_currdensity': None, 'crddb_c1phasesequence': None, 'crddb_c1a_horizontal': None, 'crddb_nominalfaultcurrent_1phase_term1_phase': None, 'crddb_safelimits_rectifier': None, 'crddb_faultlocation_section': None, 'crddb_nominalfaultcurrent_1phase_term2_phase': None, 'crddb_coordinatesfile_source_name': None, 'crddb_mitigation_covermaterialthickness': None, 'crddb_contributionfaultcurrent_term1_phase': None, 'crddb_groundimpedance_terminal2_x': None, 'crddb_safelimits_steadystate': None, 'crddb_steadystatecurrent': None, 'crddb_c1c_alpha': None, 'statuscode': 1, 'createdon': '2023-05-21T18:22:27Z', 'crddb_c1c_sep': None, 'crddb_spansafteremizone': None, 'crddb_nominalfaultcurrent_3phase_term2_mod': None, 'crddb_nominalfaultcurrent_3phase_term1_phase': None, 'crddb_nominalfaultcurrent_3phase_term2_phase': None, 'crddb_c1c_horizontal': None, 'crddb_linevoltage': None, 'crddb_jobstatus': 4, 'crddb_c1c_numcond': None, 'crddb_c1a_numcond': None, 'versionnumber': 3602231, 'crddb_coatingdatathickness': None, 'crddb_jobid': 'ROW-1002L5M5', 'crddb_nominalfaultcurrent_1phase_term2_mod': None, 'crddb_averagespanlength': None, 'crddb_mitigation_covermaterial': None, 'crddb_targetline': None, '_crddb_faullocationsoilresistivity_value': None, '_crddb_projectid_value': '2018e5fb-e8f7-ed11-8848-000d3a1f576d', 'crddb_c1b_alpha': None, '_crddb_sw1_condtype_value': None, 'crddb_coatingdataresistivity': None, 'crddb_shieldwirehorizontal1': None, 'crddb_safelimits_faultduration': None, 'crddb_coordinatesfile_target_name': None, '_modifiedby_value': 'eade9878-0d57-ee11-be6f-000d3a1f576d', 'crddb_pipediameter': None, '_createdby_value': '69d46714-c7eb-ed11-8849-000d3a17a888', 'crddb_groundimpedance_terminal1_x': None, 'crddb_shieldwirevertical2': None, 'crddb_shieldwirevertical1': None, 'crddb_counterpoiselength': None, 'crddb_groundimpedance_terminal1_r': None, 'crddb_autorowreportinputsessionid': '7451df6f-04f8-ed11-8848-000d3a1f576d', 'crddb_groundimpedance_towers_r': None, 'crddb_sourceline': 'Source', 'crddb_c1a_alpha': None, 'crddb_targetgroundimpedance_left_x': None, 'crddb_groundimpedance_towers_x': None, 'crddb_nominalfaultcurrent_3phase_term1_mod': None, 'crddb_safelimits_insuljoint': None, 'crddb_shieldwirehorizontal2': None, 'crddb_c1a_sep': None, '_owningbusinessunit_value': '77cd6714-c7eb-ed11-8849-000d3a17a888', 'crddb_faultlocation_epicenter_x': None, 'crddb_faultlocation_epicenter_y': None, 'crddb_mitigation_covermaterialresistivity': None, 'crddb_c1a_vertical': None, 'crddb_safelimits_coating': None, '_crddb_c1b_condtype_value': None, 'crddb_coatingdatatype': None, 'crddb_targetgroundimpedance_right_x': None, 'crddb_c1b_horizontal': None, 'crddb_c2a_vertical': None, 'crddb_c2b_alpha': None, 'crddb_c2b_horizontal': None, 'crddb_c2c_numcond': None, 'importsequencenumber': None, 'utcconversiontimezonecode': None, 'overriddencreatedon': None, 'crddb_c2phasesequence': None, '_crddb_c2b_condtype_value': None, '_crddb_c2a_condtype_value': None, 'timezoneruleversionnumber': None, '_owningteam_value': None, 'crddb_c2b_numcond': None, '_modifiedonbehalfby_value': None, 'crddb_c2c_alpha': None, 'crddb_c2a_horizontal': None, '_createdonbehalfby_value': None, 'crddb_c2c_vertical': None, 'crddb_progress': 50, 'crddb_c1b_numcond': None, 'crddb_c2c_horizontal': None, 'crddb_c2a_sep': None, '_crddb_authorizationticket_value': None, 'crddb_c2b_vertical': None, 'crddb_c2b_sep': None, 'crddb_c2a_numcond': None, 'crddb_c2c_sep': None, 'crddb_c2a_alpha': None, '_crddb_c2c_condtype_value': None}]}\n"
     ]
    }
   ],
   "source": [
    "start_index = callback_url.find('code=')\n",
    "end_index = callback_url.find('&', start_index)\n",
    "authorization_code = callback_url[start_index + len('code='):end_index]\n",
    "\n",
    "# Parse the authorization code from the callback URL\n",
    "# authorization_code = callback_url.split('code=')[1]\n",
    "\n",
    "# Exchange the authorization code for an access token\n",
    "token_url = 'https://login.microsoftonline.com/common/oauth2/token'\n",
    "\n",
    "\n",
    "data = {\n",
    "    'grant_type': 'authorization_code',\n",
    "    'client_id': client_id,\n",
    "    'code': authorization_code,\n",
    "    'redirect_uri': callback_base_url,\n",
    "    'resource': url  # Add the 'resource' parameter\n",
    "}\n",
    "\n",
    "headers = {\n",
    "    'Content-Type': 'application/x-www-form-urlencoded'\n",
    "}\n",
    "\n",
    "response = requests.post(token_url, data=data, headers=headers)\n",
    "\n",
    "access_token = response.json().get('access_token')\n",
    "# Display the access token\n",
    "print('Access token:')\n",
    "print(access_token)\n",
    "\n",
    "\n",
    "url = 'https://org425ee2cf.crm.dynamics.com/api/data/v9.2/crddb_autorowreportinputsessions?$top=10'\n",
    "\n",
    "# Create the headers with the Authorization token\n",
    "headers = {\n",
    "    'Authorization': f'Bearer {access_token}'\n",
    "}\n",
    "\n",
    "# Send the HTTP GET request\n",
    "response = requests.get(url, headers=headers)\n",
    "\n",
    "# Process the response as needed\n",
    "data = response.json()  # Assuming the response is in JSON format\n",
    "print(data)"
   ]
  },
  {
   "cell_type": "code",
   "execution_count": 5,
   "metadata": {},
   "outputs": [
    {
     "data": {
      "text/html": [
       "<div>\n",
       "<style scoped>\n",
       "    .dataframe tbody tr th:only-of-type {\n",
       "        vertical-align: middle;\n",
       "    }\n",
       "\n",
       "    .dataframe tbody tr th {\n",
       "        vertical-align: top;\n",
       "    }\n",
       "\n",
       "    .dataframe thead th {\n",
       "        text-align: right;\n",
       "    }\n",
       "</style>\n",
       "<table border=\"1\" class=\"dataframe\">\n",
       "  <thead>\n",
       "    <tr style=\"text-align: right;\">\n",
       "      <th></th>\n",
       "      <th>@odata.etag</th>\n",
       "      <th>crddb_c1b_sep</th>\n",
       "      <th>crddb_contributionfaultcurrent_term1_mod</th>\n",
       "      <th>crddb_crosssection_targety</th>\n",
       "      <th>crddb_contributionfaultcurrent_term2_phase</th>\n",
       "      <th>_ownerid_value</th>\n",
       "      <th>crddb_spansbeforeemizone</th>\n",
       "      <th>statecode</th>\n",
       "      <th>crddb_contributionfaultcurrent_term2_mod</th>\n",
       "      <th>crddb_circuittype</th>\n",
       "      <th>...</th>\n",
       "      <th>crddb_c1b_numcond</th>\n",
       "      <th>crddb_c2c_horizontal</th>\n",
       "      <th>crddb_c2a_sep</th>\n",
       "      <th>_crddb_authorizationticket_value</th>\n",
       "      <th>crddb_c2b_vertical</th>\n",
       "      <th>crddb_c2b_sep</th>\n",
       "      <th>crddb_c2a_numcond</th>\n",
       "      <th>crddb_c2c_sep</th>\n",
       "      <th>crddb_c2a_alpha</th>\n",
       "      <th>_crddb_c2c_condtype_value</th>\n",
       "    </tr>\n",
       "  </thead>\n",
       "  <tbody>\n",
       "    <tr>\n",
       "      <th>0</th>\n",
       "      <td>W/\"4504770\"</td>\n",
       "      <td>0.4</td>\n",
       "      <td>5000.0</td>\n",
       "      <td>1.5</td>\n",
       "      <td>0.0</td>\n",
       "      <td>eade9878-0d57-ee11-be6f-000d3a1f576d</td>\n",
       "      <td>5.0</td>\n",
       "      <td>0</td>\n",
       "      <td>5000.0</td>\n",
       "      <td>1.0</td>\n",
       "      <td>...</td>\n",
       "      <td>None</td>\n",
       "      <td>None</td>\n",
       "      <td>None</td>\n",
       "      <td>None</td>\n",
       "      <td>None</td>\n",
       "      <td>None</td>\n",
       "      <td>None</td>\n",
       "      <td>None</td>\n",
       "      <td>None</td>\n",
       "      <td>None</td>\n",
       "    </tr>\n",
       "    <tr>\n",
       "      <th>1</th>\n",
       "      <td>W/\"3602231\"</td>\n",
       "      <td>NaN</td>\n",
       "      <td>NaN</td>\n",
       "      <td>NaN</td>\n",
       "      <td>NaN</td>\n",
       "      <td>69d46714-c7eb-ed11-8849-000d3a17a888</td>\n",
       "      <td>NaN</td>\n",
       "      <td>0</td>\n",
       "      <td>NaN</td>\n",
       "      <td>NaN</td>\n",
       "      <td>...</td>\n",
       "      <td>None</td>\n",
       "      <td>None</td>\n",
       "      <td>None</td>\n",
       "      <td>None</td>\n",
       "      <td>None</td>\n",
       "      <td>None</td>\n",
       "      <td>None</td>\n",
       "      <td>None</td>\n",
       "      <td>None</td>\n",
       "      <td>None</td>\n",
       "    </tr>\n",
       "  </tbody>\n",
       "</table>\n",
       "<p>2 rows × 132 columns</p>\n",
       "</div>"
      ],
      "text/plain": [
       "   @odata.etag  crddb_c1b_sep  crddb_contributionfaultcurrent_term1_mod  \\\n",
       "0  W/\"4504770\"            0.4                                    5000.0   \n",
       "1  W/\"3602231\"            NaN                                       NaN   \n",
       "\n",
       "   crddb_crosssection_targety  crddb_contributionfaultcurrent_term2_phase  \\\n",
       "0                         1.5                                         0.0   \n",
       "1                         NaN                                         NaN   \n",
       "\n",
       "                         _ownerid_value  crddb_spansbeforeemizone  statecode  \\\n",
       "0  eade9878-0d57-ee11-be6f-000d3a1f576d                       5.0          0   \n",
       "1  69d46714-c7eb-ed11-8849-000d3a17a888                       NaN          0   \n",
       "\n",
       "   crddb_contributionfaultcurrent_term2_mod  crddb_circuittype  ...  \\\n",
       "0                                    5000.0                1.0  ...   \n",
       "1                                       NaN                NaN  ...   \n",
       "\n",
       "   crddb_c1b_numcond  crddb_c2c_horizontal crddb_c2a_sep  \\\n",
       "0               None                  None          None   \n",
       "1               None                  None          None   \n",
       "\n",
       "  _crddb_authorizationticket_value crddb_c2b_vertical crddb_c2b_sep  \\\n",
       "0                             None               None          None   \n",
       "1                             None               None          None   \n",
       "\n",
       "  crddb_c2a_numcond  crddb_c2c_sep  crddb_c2a_alpha  _crddb_c2c_condtype_value  \n",
       "0              None           None             None                       None  \n",
       "1              None           None             None                       None  \n",
       "\n",
       "[2 rows x 132 columns]"
      ]
     },
     "execution_count": 5,
     "metadata": {},
     "output_type": "execute_result"
    }
   ],
   "source": [
    "data_df = pd.DataFrame(data['value'])\n",
    "data_df"
   ]
  },
  {
   "cell_type": "code",
   "execution_count": 6,
   "metadata": {},
   "outputs": [
    {
     "name": "stdout",
     "output_type": "stream",
     "text": [
      "O dataset não possui colunas com nomes iguais.\n"
     ]
    },
    {
     "data": {
      "text/plain": [
       "False"
      ]
     },
     "execution_count": 6,
     "metadata": {},
     "output_type": "execute_result"
    }
   ],
   "source": [
    "def verifica_colunas_iguais(df):\n",
    "    \n",
    "    # Verificar se há colunas duplicadas\n",
    "    duplicatas = df.columns[df.columns.duplicated()]\n",
    "    \n",
    "    if duplicatas.any():\n",
    "        print(f'O dataset possui colunas com nomes iguais: {duplicatas.tolist()}')\n",
    "        return True\n",
    "    else:\n",
    "        print('O dataset não possui colunas com nomes iguais.')\n",
    "        return False\n",
    "\n",
    "# Chame a função e passe o caminho do seu dataset como argumento\n",
    "verifica_colunas_iguais(data_df)"
   ]
  },
  {
   "cell_type": "markdown",
   "metadata": {},
   "source": [
    "## API Files Auto ROW Report"
   ]
  },
  {
   "cell_type": "code",
   "execution_count": 7,
   "metadata": {},
   "outputs": [
    {
     "data": {
      "text/plain": [
       "['55329a7f-027d-ee11-8179-000d3a1f576d',\n",
       " '7451df6f-04f8-ed11-8848-000d3a1f576d']"
      ]
     },
     "execution_count": 7,
     "metadata": {},
     "output_type": "execute_result"
    }
   ],
   "source": [
    "id_projects = list(data_df['crddb_autorowreportinputsessionid'])\n",
    "name_target = list(data_df['crddb_coordinatesfile_target_name'])\n",
    "name_source = list(data_df['crddb_coordinatesfile_source_name'])\n",
    "id_projects"
   ]
  },
  {
   "cell_type": "code",
   "execution_count": 8,
   "metadata": {},
   "outputs": [],
   "source": [
    "def downloaded_file(id, column, name):\n",
    "\n",
    "    api_endpoint = f'https://org425ee2cf.crm.dynamics.com/api/data/v9.0/crddb_autorowreportinputsessions({id})/crddb_coordinatesfile_{column}/$value'\n",
    "    response = requests.get(api_endpoint, headers=headers)\n",
    "    if response.status_code == 200:\n",
    "        file_content = response.content\n",
    "        # Write the binary data to a file\n",
    "        with open(name, 'wb') as file:\n",
    "            file.write(file_content)\n",
    "        print(\"File downloaded successfully.\")\n",
    "    else:\n",
    "        print(f\"Failed to download the file. Status code: {response.status_code}\")\n"
   ]
  },
  {
   "cell_type": "code",
   "execution_count": 9,
   "metadata": {},
   "outputs": [
    {
     "name": "stdout",
     "output_type": "stream",
     "text": [
      "File downloaded successfully.\n",
      "File downloaded successfully.\n",
      "Failed to download the file. Status code: 404\n",
      "Failed to download the file. Status code: 404\n"
     ]
    }
   ],
   "source": [
    "for i, target, source in zip(id_projects, name_target, name_source):\n",
    "    downloaded_file(i, 'target', target)\n",
    "    downloaded_file(i, 'source', source)\n",
    "        "
   ]
  },
  {
   "cell_type": "markdown",
   "metadata": {},
   "source": [
    "# API Conductors LookUp"
   ]
  },
  {
   "cell_type": "markdown",
   "metadata": {},
   "source": [
    "## Columns LookUps in Auto ROW"
   ]
  },
  {
   "cell_type": "code",
   "execution_count": 10,
   "metadata": {},
   "outputs": [
    {
     "data": {
      "text/html": [
       "<div>\n",
       "<style scoped>\n",
       "    .dataframe tbody tr th:only-of-type {\n",
       "        vertical-align: middle;\n",
       "    }\n",
       "\n",
       "    .dataframe tbody tr th {\n",
       "        vertical-align: top;\n",
       "    }\n",
       "\n",
       "    .dataframe thead th {\n",
       "        text-align: right;\n",
       "    }\n",
       "</style>\n",
       "<table border=\"1\" class=\"dataframe\">\n",
       "  <thead>\n",
       "    <tr style=\"text-align: right;\">\n",
       "      <th></th>\n",
       "      <th>_crddb_c1a_condtype_value</th>\n",
       "      <th>_crddb_c1b_condtype_value</th>\n",
       "      <th>_crddb_c1c_condtype_value</th>\n",
       "      <th>_crddb_c2a_condtype_value</th>\n",
       "      <th>_crddb_c2b_condtype_value</th>\n",
       "      <th>_crddb_c2c_condtype_value</th>\n",
       "      <th>_crddb_sw1_condtype_value</th>\n",
       "      <th>_crddb_sw2_condtype_value</th>\n",
       "    </tr>\n",
       "  </thead>\n",
       "  <tbody>\n",
       "    <tr>\n",
       "      <th>0</th>\n",
       "      <td>72ab56d1-cb92-ee11-be37-000d3a1f576d</td>\n",
       "      <td>72ab56d1-cb92-ee11-be37-000d3a1f576d</td>\n",
       "      <td>72ab56d1-cb92-ee11-be37-000d3a1f576d</td>\n",
       "      <td>None</td>\n",
       "      <td>None</td>\n",
       "      <td>None</td>\n",
       "      <td>72ab56d1-cb92-ee11-be37-000d3a1f576d</td>\n",
       "      <td>72ab56d1-cb92-ee11-be37-000d3a1f576d</td>\n",
       "    </tr>\n",
       "    <tr>\n",
       "      <th>1</th>\n",
       "      <td>None</td>\n",
       "      <td>None</td>\n",
       "      <td>None</td>\n",
       "      <td>None</td>\n",
       "      <td>None</td>\n",
       "      <td>None</td>\n",
       "      <td>None</td>\n",
       "      <td>None</td>\n",
       "    </tr>\n",
       "  </tbody>\n",
       "</table>\n",
       "</div>"
      ],
      "text/plain": [
       "              _crddb_c1a_condtype_value             _crddb_c1b_condtype_value  \\\n",
       "0  72ab56d1-cb92-ee11-be37-000d3a1f576d  72ab56d1-cb92-ee11-be37-000d3a1f576d   \n",
       "1                                  None                                  None   \n",
       "\n",
       "              _crddb_c1c_condtype_value _crddb_c2a_condtype_value  \\\n",
       "0  72ab56d1-cb92-ee11-be37-000d3a1f576d                      None   \n",
       "1                                  None                      None   \n",
       "\n",
       "  _crddb_c2b_condtype_value _crddb_c2c_condtype_value  \\\n",
       "0                      None                      None   \n",
       "1                      None                      None   \n",
       "\n",
       "              _crddb_sw1_condtype_value             _crddb_sw2_condtype_value  \n",
       "0  72ab56d1-cb92-ee11-be37-000d3a1f576d  72ab56d1-cb92-ee11-be37-000d3a1f576d  \n",
       "1                                  None                                  None  "
      ]
     },
     "execution_count": 10,
     "metadata": {},
     "output_type": "execute_result"
    }
   ],
   "source": [
    "lookup = ['_crddb_c1a_condtype_value', '_crddb_c1b_condtype_value', '_crddb_c1c_condtype_value', '_crddb_c2a_condtype_value',\n",
    "    '_crddb_c2b_condtype_value', '_crddb_c2c_condtype_value', '_crddb_sw1_condtype_value', '_crddb_sw2_condtype_value']\n",
    "\n",
    "data_df[lookup]"
   ]
  },
  {
   "cell_type": "code",
   "execution_count": 11,
   "metadata": {},
   "outputs": [
    {
     "data": {
      "text/plain": [
       "{'_crddb_c1a_condtype_value': ['72ab56d1-cb92-ee11-be37-000d3a1f576d', None],\n",
       " '_crddb_c1b_condtype_value': ['72ab56d1-cb92-ee11-be37-000d3a1f576d', None],\n",
       " '_crddb_c1c_condtype_value': ['72ab56d1-cb92-ee11-be37-000d3a1f576d', None],\n",
       " '_crddb_c2a_condtype_value': [None, None],\n",
       " '_crddb_c2b_condtype_value': [None, None],\n",
       " '_crddb_c2c_condtype_value': [None, None],\n",
       " '_crddb_sw1_condtype_value': ['72ab56d1-cb92-ee11-be37-000d3a1f576d', None],\n",
       " '_crddb_sw2_condtype_value': ['72ab56d1-cb92-ee11-be37-000d3a1f576d', None]}"
      ]
     },
     "execution_count": 11,
     "metadata": {},
     "output_type": "execute_result"
    }
   ],
   "source": [
    "lookup = data_df[lookup].to_dict(orient='list')\n",
    "lookup # Lembrando que o index são os projetos"
   ]
  },
  {
   "cell_type": "code",
   "execution_count": 12,
   "metadata": {},
   "outputs": [],
   "source": [
    "lookup[\"_crddb_c2a_condtype_value\"][0]"
   ]
  },
  {
   "cell_type": "markdown",
   "metadata": {},
   "source": [
    "## Request Conductors - crddb_conductor"
   ]
  },
  {
   "cell_type": "code",
   "execution_count": 13,
   "metadata": {},
   "outputs": [
    {
     "name": "stdout",
     "output_type": "stream",
     "text": [
      "{'@odata.context': 'https://org425ee2cf.crm.dynamics.com/api/data/v9.2/$metadata#crddb_conductors', 'value': [{'@odata.etag': 'W/\"4450795\"', 'crddb_name': 'Name_Conductor', 'crddb_conductorid': 'e3dbcae1-6085-ee11-8179-000d3a1f576d', '_owningbusinessunit_value': '77cd6714-c7eb-ed11-8849-000d3a17a888', 'statecode': 0, 'statuscode': 1, '_createdby_value': 'eade9878-0d57-ee11-be6f-000d3a1f576d', '_ownerid_value': 'eade9878-0d57-ee11-be6f-000d3a1f576d', 'modifiedon': '2023-11-17T15:49:26Z', '_owninguser_value': 'eade9878-0d57-ee11-be6f-000d3a1f576d', '_modifiedby_value': 'eade9878-0d57-ee11-be6f-000d3a1f576d', 'versionnumber': 4450795, 'createdon': '2023-11-17T15:49:26Z', 'crddb_cross_section': None, 'crddb_ac_resistence': None, 'overriddencreatedon': None, 'importsequencenumber': None, '_modifiedonbehalfby_value': None, 'crddb_resistivity': None, 'utcconversiontimezonecode': None, 'crddb_outerradius': None, '_createdonbehalfby_value': None, 'crddb_innerradius': None, 'crddb_dc_resistance': None, 'crddb_relativepermeability': None, 'crddb_gmr': None, '_owningteam_value': None, 'timezoneruleversionnumber': None}, {'@odata.etag': 'W/\"4504706\"', 'crddb_name': 'Grosbeak', 'crddb_conductorid': '72ab56d1-cb92-ee11-be37-000d3a1f576d', '_owningbusinessunit_value': '77cd6714-c7eb-ed11-8849-000d3a17a888', 'statecode': 0, 'statuscode': 1, '_createdby_value': 'eade9878-0d57-ee11-be6f-000d3a1f576d', '_ownerid_value': 'eade9878-0d57-ee11-be6f-000d3a1f576d', 'modifiedon': '2023-12-04T17:37:40Z', '_owninguser_value': 'eade9878-0d57-ee11-be6f-000d3a1f576d', '_modifiedby_value': 'eade9878-0d57-ee11-be6f-000d3a1f576d', 'versionnumber': 4504706, 'createdon': '2023-12-04T17:37:40Z', 'crddb_cross_section': 636.0, 'crddb_ac_resistence': 0.0922114998, 'overriddencreatedon': None, 'importsequencenumber': None, '_modifiedonbehalfby_value': None, 'crddb_resistivity': 2.2816646099, 'utcconversiontimezonecode': None, 'crddb_outerradius': 0.0125705004, '_createdonbehalfby_value': None, 'crddb_innerradius': 0.0046354998, 'crddb_dc_resistance': 0.0917143971, 'crddb_relativepermeability': 1.0643444061, 'crddb_gmr': 0.0102108, '_owningteam_value': None, 'timezoneruleversionnumber': None}]}\n",
      "File downloaded successfully.\n"
     ]
    }
   ],
   "source": [
    "api_cond = 'https://org425ee2cf.crm.dynamics.com/api/data/v9.2/crddb_conductors?$top=10'\n",
    "\n",
    "response = requests.get(api_cond, headers=headers)\n",
    "if response.status_code == 200:\n",
    "    data_cond = response.json()  # Assuming the response is in JSON format\n",
    "    print(data_cond)\n",
    " \n",
    "    print(\"File downloaded successfully.\")\n",
    "else:\n",
    "    print(f\"Failed to download the file. Status code: {response.status_code}\")\n"
   ]
  },
  {
   "cell_type": "code",
   "execution_count": 14,
   "metadata": {},
   "outputs": [
    {
     "data": {
      "text/html": [
       "<div>\n",
       "<style scoped>\n",
       "    .dataframe tbody tr th:only-of-type {\n",
       "        vertical-align: middle;\n",
       "    }\n",
       "\n",
       "    .dataframe tbody tr th {\n",
       "        vertical-align: top;\n",
       "    }\n",
       "\n",
       "    .dataframe thead th {\n",
       "        text-align: right;\n",
       "    }\n",
       "</style>\n",
       "<table border=\"1\" class=\"dataframe\">\n",
       "  <thead>\n",
       "    <tr style=\"text-align: right;\">\n",
       "      <th></th>\n",
       "      <th>crddb_name</th>\n",
       "      <th>crddb_name</th>\n",
       "      <th>crddb_cross_section</th>\n",
       "      <th>crddb_ac_resistence</th>\n",
       "      <th>crddb_resistivity</th>\n",
       "      <th>crddb_outerradius</th>\n",
       "      <th>crddb_innerradius</th>\n",
       "      <th>crddb_dc_resistance</th>\n",
       "      <th>crddb_relativepermeability</th>\n",
       "      <th>crddb_gmr</th>\n",
       "    </tr>\n",
       "    <tr>\n",
       "      <th>crddb_conductorid</th>\n",
       "      <th></th>\n",
       "      <th></th>\n",
       "      <th></th>\n",
       "      <th></th>\n",
       "      <th></th>\n",
       "      <th></th>\n",
       "      <th></th>\n",
       "      <th></th>\n",
       "      <th></th>\n",
       "      <th></th>\n",
       "    </tr>\n",
       "  </thead>\n",
       "  <tbody>\n",
       "    <tr>\n",
       "      <th>e3dbcae1-6085-ee11-8179-000d3a1f576d</th>\n",
       "      <td>Name_Conductor</td>\n",
       "      <td>Name_Conductor</td>\n",
       "      <td>NaN</td>\n",
       "      <td>NaN</td>\n",
       "      <td>NaN</td>\n",
       "      <td>NaN</td>\n",
       "      <td>NaN</td>\n",
       "      <td>NaN</td>\n",
       "      <td>NaN</td>\n",
       "      <td>NaN</td>\n",
       "    </tr>\n",
       "    <tr>\n",
       "      <th>72ab56d1-cb92-ee11-be37-000d3a1f576d</th>\n",
       "      <td>Grosbeak</td>\n",
       "      <td>Grosbeak</td>\n",
       "      <td>636.0</td>\n",
       "      <td>0.092211</td>\n",
       "      <td>2.281665</td>\n",
       "      <td>0.012571</td>\n",
       "      <td>0.004635</td>\n",
       "      <td>0.091714</td>\n",
       "      <td>1.064344</td>\n",
       "      <td>0.010211</td>\n",
       "    </tr>\n",
       "  </tbody>\n",
       "</table>\n",
       "</div>"
      ],
      "text/plain": [
       "                                          crddb_name      crddb_name  \\\n",
       "crddb_conductorid                                                      \n",
       "e3dbcae1-6085-ee11-8179-000d3a1f576d  Name_Conductor  Name_Conductor   \n",
       "72ab56d1-cb92-ee11-be37-000d3a1f576d        Grosbeak        Grosbeak   \n",
       "\n",
       "                                      crddb_cross_section  \\\n",
       "crddb_conductorid                                           \n",
       "e3dbcae1-6085-ee11-8179-000d3a1f576d                  NaN   \n",
       "72ab56d1-cb92-ee11-be37-000d3a1f576d                636.0   \n",
       "\n",
       "                                      crddb_ac_resistence  crddb_resistivity  \\\n",
       "crddb_conductorid                                                              \n",
       "e3dbcae1-6085-ee11-8179-000d3a1f576d                  NaN                NaN   \n",
       "72ab56d1-cb92-ee11-be37-000d3a1f576d             0.092211           2.281665   \n",
       "\n",
       "                                      crddb_outerradius  crddb_innerradius  \\\n",
       "crddb_conductorid                                                            \n",
       "e3dbcae1-6085-ee11-8179-000d3a1f576d                NaN                NaN   \n",
       "72ab56d1-cb92-ee11-be37-000d3a1f576d           0.012571           0.004635   \n",
       "\n",
       "                                      crddb_dc_resistance  \\\n",
       "crddb_conductorid                                           \n",
       "e3dbcae1-6085-ee11-8179-000d3a1f576d                  NaN   \n",
       "72ab56d1-cb92-ee11-be37-000d3a1f576d             0.091714   \n",
       "\n",
       "                                      crddb_relativepermeability  crddb_gmr  \n",
       "crddb_conductorid                                                            \n",
       "e3dbcae1-6085-ee11-8179-000d3a1f576d                         NaN        NaN  \n",
       "72ab56d1-cb92-ee11-be37-000d3a1f576d                    1.064344   0.010211  "
      ]
     },
     "execution_count": 14,
     "metadata": {},
     "output_type": "execute_result"
    }
   ],
   "source": [
    "cond_df = pd.DataFrame(data_cond['value'])\n",
    "cond_columns = ['crddb_name', 'crddb_name', 'crddb_conductorid', 'crddb_cross_section',\n",
    "'crddb_ac_resistence', 'crddb_resistivity' , 'crddb_outerradius',\n",
    "'crddb_innerradius', 'crddb_dc_resistance', 'crddb_relativepermeability', 'crddb_gmr']\n",
    "cond_df = cond_df[cond_columns]\n",
    "# cond = cond_df.to_dict(orient='list')\n",
    "cond_df.set_index('crddb_conductorid', inplace=True)\n",
    "cond_df"
   ]
  },
  {
   "cell_type": "code",
   "execution_count": 15,
   "metadata": {},
   "outputs": [
    {
     "data": {
      "text/plain": [
       "{'crddb_name': 'Name_Conductor',\n",
       " 'crddb_cross_section': nan,\n",
       " 'crddb_ac_resistence': nan,\n",
       " 'crddb_resistivity': nan,\n",
       " 'crddb_outerradius': nan,\n",
       " 'crddb_innerradius': nan,\n",
       " 'crddb_dc_resistance': nan,\n",
       " 'crddb_relativepermeability': nan,\n",
       " 'crddb_gmr': nan}"
      ]
     },
     "execution_count": 15,
     "metadata": {},
     "output_type": "execute_result"
    }
   ],
   "source": [
    "row_dict = cond_df.iloc[0].to_dict()\n",
    "row_dict"
   ]
  },
  {
   "cell_type": "markdown",
   "metadata": {},
   "source": [
    "# API Soil Fit"
   ]
  },
  {
   "cell_type": "markdown",
   "metadata": {},
   "source": [
    "## Request Soil Fit"
   ]
  },
  {
   "cell_type": "code",
   "execution_count": 17,
   "metadata": {},
   "outputs": [
    {
     "name": "stdout",
     "output_type": "stream",
     "text": [
      "{'@odata.context': 'https://org425ee2cf.crm.dynamics.com/api/data/v9.2/$metadata#crddb_soilfitinputsessions', 'value': [{'@odata.etag': 'W/\"4131965\"', '_owningbusinessunit_value': '77cd6714-c7eb-ed11-8849-000d3a17a888', 'crddb_type': 2, 'crddb_jobid': 'SFT-1002Q5M7', 'crddb_measurementmethod': 1, 'statecode': 0, 'statuscode': 1, 'crddb_soilfitinputsessionid': '25578596-fe7c-ee11-8179-000d3a1f576d', '_createdby_value': 'eade9878-0d57-ee11-be6f-000d3a1f576d', '_ownerid_value': 'eade9878-0d57-ee11-be6f-000d3a1f576d', 'modifiedon': '2023-11-06T23:45:43Z', '_owninguser_value': 'eade9878-0d57-ee11-be6f-000d3a1f576d', '_modifiedby_value': 'eade9878-0d57-ee11-be6f-000d3a1f576d', 'crddb_status': 1, 'versionnumber': 4131965, 'crddb_casedescription': 'Projeto Teste', 'createdon': '2023-11-06T23:45:43Z', '_crddb_projectid_value': '62560189-fe7c-ee11-8179-000d3a1f576d', 'overriddencreatedon': None, 'importsequencenumber': None, '_modifiedonbehalfby_value': None, 'utcconversiontimezonecode': None, '_createdonbehalfby_value': None, 'crddb_progress': None, '_owningteam_value': None, 'timezoneruleversionnumber': None}, {'@odata.etag': 'W/\"3636972\"', '_owningbusinessunit_value': '77cd6714-c7eb-ed11-8849-000d3a17a888', 'crddb_type': 2, 'crddb_jobid': 'SFT-1001P2D2', 'crddb_measurementmethod': None, 'statecode': 0, 'statuscode': 1, 'crddb_soilfitinputsessionid': '8791b844-b566-ee11-9ae7-000d3a1f576d', '_createdby_value': '69d46714-c7eb-ed11-8849-000d3a17a888', '_ownerid_value': '69d46714-c7eb-ed11-8849-000d3a17a888', 'modifiedon': '2023-10-09T15:05:29Z', '_owninguser_value': '69d46714-c7eb-ed11-8849-000d3a17a888', '_modifiedby_value': '69d46714-c7eb-ed11-8849-000d3a17a888', 'crddb_status': 1, 'versionnumber': 3636972, 'crddb_casedescription': 'teste', 'createdon': '2023-10-09T15:05:29Z', '_crddb_projectid_value': '2018e5fb-e8f7-ed11-8848-000d3a1f576d', 'overriddencreatedon': None, 'importsequencenumber': None, '_modifiedonbehalfby_value': None, 'utcconversiontimezonecode': None, '_createdonbehalfby_value': None, 'crddb_progress': None, '_owningteam_value': None, 'timezoneruleversionnumber': None}, {'@odata.etag': 'W/\"4504717\"', '_owningbusinessunit_value': '77cd6714-c7eb-ed11-8849-000d3a17a888', 'crddb_type': 2, 'crddb_jobid': 'SFT-1003M6C9', 'crddb_measurementmethod': 1, 'statecode': 0, 'statuscode': 1, 'crddb_soilfitinputsessionid': 'a08a3884-cc92-ee11-be37-000d3a1f576d', '_createdby_value': 'eade9878-0d57-ee11-be6f-000d3a1f576d', '_ownerid_value': 'eade9878-0d57-ee11-be6f-000d3a1f576d', 'modifiedon': '2023-12-04T17:42:44Z', '_owninguser_value': 'eade9878-0d57-ee11-be6f-000d3a1f576d', '_modifiedby_value': 'eade9878-0d57-ee11-be6f-000d3a1f576d', 'crddb_status': 1, 'versionnumber': 4504717, 'crddb_casedescription': 'Dummy SoilFit', 'createdon': '2023-12-04T17:42:44Z', '_crddb_projectid_value': '62560189-fe7c-ee11-8179-000d3a1f576d', 'overriddencreatedon': None, 'importsequencenumber': None, '_modifiedonbehalfby_value': None, 'utcconversiontimezonecode': None, '_createdonbehalfby_value': None, 'crddb_progress': None, '_owningteam_value': None, 'timezoneruleversionnumber': None}]}\n",
      "Request successfully.\n"
     ]
    }
   ],
   "source": [
    "api_cond = 'https://org425ee2cf.crm.dynamics.com/api/data/v9.2/crddb_soilfitinputsessions?$top=10'\n",
    "\n",
    "response = requests.get(api_cond, headers=headers)\n",
    "if response.status_code == 200:\n",
    "    data_soil = response.json()  # Assuming the response is in JSON format\n",
    "    print(data_soil)\n",
    " \n",
    "    print(\"Request successfully.\")\n",
    "else:\n",
    "    print(f\"Failed to request the file. Status code: {response.status_code}\")\n"
   ]
  },
  {
   "cell_type": "code",
   "execution_count": 18,
   "metadata": {},
   "outputs": [],
   "source": [
    "soil_columns = ['crddb_type', 'crddb_measurementmethod', 'crddb_soilfitinputsessionid',\n",
    "'_crddb_projectid_value', 'crddb_measurementmethod', 'crddb_soilfitinputsessionid']"
   ]
  },
  {
   "cell_type": "code",
   "execution_count": 19,
   "metadata": {},
   "outputs": [
    {
     "data": {
      "text/html": [
       "<div>\n",
       "<style scoped>\n",
       "    .dataframe tbody tr th:only-of-type {\n",
       "        vertical-align: middle;\n",
       "    }\n",
       "\n",
       "    .dataframe tbody tr th {\n",
       "        vertical-align: top;\n",
       "    }\n",
       "\n",
       "    .dataframe thead th {\n",
       "        text-align: right;\n",
       "    }\n",
       "</style>\n",
       "<table border=\"1\" class=\"dataframe\">\n",
       "  <thead>\n",
       "    <tr style=\"text-align: right;\">\n",
       "      <th></th>\n",
       "      <th>crddb_type</th>\n",
       "      <th>crddb_measurementmethod</th>\n",
       "      <th>crddb_soilfitinputsessionid</th>\n",
       "      <th>_crddb_projectid_value</th>\n",
       "      <th>crddb_measurementmethod</th>\n",
       "      <th>crddb_soilfitinputsessionid</th>\n",
       "    </tr>\n",
       "  </thead>\n",
       "  <tbody>\n",
       "    <tr>\n",
       "      <th>0</th>\n",
       "      <td>2</td>\n",
       "      <td>1.0</td>\n",
       "      <td>25578596-fe7c-ee11-8179-000d3a1f576d</td>\n",
       "      <td>62560189-fe7c-ee11-8179-000d3a1f576d</td>\n",
       "      <td>1.0</td>\n",
       "      <td>25578596-fe7c-ee11-8179-000d3a1f576d</td>\n",
       "    </tr>\n",
       "    <tr>\n",
       "      <th>1</th>\n",
       "      <td>2</td>\n",
       "      <td>NaN</td>\n",
       "      <td>8791b844-b566-ee11-9ae7-000d3a1f576d</td>\n",
       "      <td>2018e5fb-e8f7-ed11-8848-000d3a1f576d</td>\n",
       "      <td>NaN</td>\n",
       "      <td>8791b844-b566-ee11-9ae7-000d3a1f576d</td>\n",
       "    </tr>\n",
       "    <tr>\n",
       "      <th>2</th>\n",
       "      <td>2</td>\n",
       "      <td>1.0</td>\n",
       "      <td>a08a3884-cc92-ee11-be37-000d3a1f576d</td>\n",
       "      <td>62560189-fe7c-ee11-8179-000d3a1f576d</td>\n",
       "      <td>1.0</td>\n",
       "      <td>a08a3884-cc92-ee11-be37-000d3a1f576d</td>\n",
       "    </tr>\n",
       "  </tbody>\n",
       "</table>\n",
       "</div>"
      ],
      "text/plain": [
       "   crddb_type  crddb_measurementmethod           crddb_soilfitinputsessionid  \\\n",
       "0           2                      1.0  25578596-fe7c-ee11-8179-000d3a1f576d   \n",
       "1           2                      NaN  8791b844-b566-ee11-9ae7-000d3a1f576d   \n",
       "2           2                      1.0  a08a3884-cc92-ee11-be37-000d3a1f576d   \n",
       "\n",
       "                 _crddb_projectid_value  crddb_measurementmethod  \\\n",
       "0  62560189-fe7c-ee11-8179-000d3a1f576d                      1.0   \n",
       "1  2018e5fb-e8f7-ed11-8848-000d3a1f576d                      NaN   \n",
       "2  62560189-fe7c-ee11-8179-000d3a1f576d                      1.0   \n",
       "\n",
       "            crddb_soilfitinputsessionid  \n",
       "0  25578596-fe7c-ee11-8179-000d3a1f576d  \n",
       "1  8791b844-b566-ee11-9ae7-000d3a1f576d  \n",
       "2  a08a3884-cc92-ee11-be37-000d3a1f576d  "
      ]
     },
     "execution_count": 19,
     "metadata": {},
     "output_type": "execute_result"
    }
   ],
   "source": [
    "soil_df = pd.DataFrame(data_soil['value'])\n",
    "soil_df = soil_df[soil_columns]\n",
    "# soil = soil_df.to_dict(orient='list')\n",
    "# soil_df.set_index('crddb_soiluctorid', inplace=True)\n",
    "soil_df"
   ]
  },
  {
   "cell_type": "markdown",
   "metadata": {},
   "source": [
    "# API Observation Point - LookUp"
   ]
  },
  {
   "cell_type": "code",
   "execution_count": 20,
   "metadata": {},
   "outputs": [
    {
     "name": "stdout",
     "output_type": "stream",
     "text": [
      "{'@odata.context': 'https://org425ee2cf.crm.dynamics.com/api/data/v9.2/$metadata#new_obspoints', 'value': [{'@odata.etag': 'W/\"4126444\"', '_crddb_autorowreportid_value': '7451df6f-04f8-ed11-8848-000d3a1f576d', '_owningbusinessunit_value': '77cd6714-c7eb-ed11-8849-000d3a17a888', 'new_pointid': 'PTE-TESTE', 'statecode': 0, 'statuscode': 1, '_createdby_value': '69d46714-c7eb-ed11-8849-000d3a17a888', 'crddb_pointtype': 1, '_crddb_resistivity_value': '8791b844-b566-ee11-9ae7-000d3a1f576d', '_ownerid_value': '69d46714-c7eb-ed11-8849-000d3a17a888', 'modifiedon': '2023-11-01T17:58:59Z', 'crddb_ycoordinate': 5678.0, '_owninguser_value': '69d46714-c7eb-ed11-8849-000d3a17a888', '_modifiedby_value': '69d46714-c7eb-ed11-8849-000d3a17a888', 'versionnumber': 4126444, 'new_xcoordinate': 1234.0, 'createdon': '2023-11-01T17:58:36Z', 'new_obspointid': '71772047-e078-ee11-8179-000d3a1f576d', 'overriddencreatedon': None, 'importsequencenumber': None, '_modifiedonbehalfby_value': None, 'utcconversiontimezonecode': None, '_createdonbehalfby_value': None, 'new_name': None, '_owningteam_value': None, 'timezoneruleversionnumber': None}, {'@odata.etag': 'W/\"4489367\"', '_crddb_autorowreportid_value': '55329a7f-027d-ee11-8179-000d3a1f576d', '_owningbusinessunit_value': '77cd6714-c7eb-ed11-8849-000d3a17a888', 'new_pointid': 'PTE-001', 'statecode': 0, 'statuscode': 1, '_createdby_value': '69d46714-c7eb-ed11-8849-000d3a17a888', 'crddb_pointtype': 11, '_crddb_resistivity_value': None, '_ownerid_value': '69d46714-c7eb-ed11-8849-000d3a17a888', 'modifiedon': '2023-12-04T00:54:48Z', 'crddb_ycoordinate': 0.0, '_owninguser_value': '69d46714-c7eb-ed11-8849-000d3a17a888', '_modifiedby_value': '69d46714-c7eb-ed11-8849-000d3a17a888', 'versionnumber': 4489367, 'new_xcoordinate': 0.0, 'createdon': '2023-12-04T00:54:38Z', 'new_obspointid': 'a6099db1-3f92-ee11-be37-000d3a1f576d', 'overriddencreatedon': None, 'importsequencenumber': None, '_modifiedonbehalfby_value': None, 'utcconversiontimezonecode': None, '_createdonbehalfby_value': None, 'new_name': None, '_owningteam_value': None, 'timezoneruleversionnumber': None}]}\n",
      "Request successfully.\n"
     ]
    }
   ],
   "source": [
    "api_cond = 'https://org425ee2cf.crm.dynamics.com/api/data/v9.2/new_obspoints?$top=10'\n",
    "\n",
    "response = requests.get(api_cond, headers=headers)\n",
    "if response.status_code == 200:\n",
    "    data_obs = response.json()  # Assuming the response is in JSON format\n",
    "    print(data_obs)\n",
    " \n",
    "    print(\"Request successfully.\")\n",
    "else:\n",
    "    print(f\"Failed to request the file. Status code: {response.status_code}\")\n"
   ]
  },
  {
   "cell_type": "code",
   "execution_count": 21,
   "metadata": {},
   "outputs": [],
   "source": [
    "obs_columns = ['_crddb_autorowreportid_value', 'new_pointid', 'crddb_pointtype', '_crddb_resistivity_value', 'crddb_ycoordinate', 'new_xcoordinate', 'new_obspointid' ]"
   ]
  },
  {
   "cell_type": "code",
   "execution_count": 22,
   "metadata": {},
   "outputs": [
    {
     "data": {
      "text/html": [
       "<div>\n",
       "<style scoped>\n",
       "    .dataframe tbody tr th:only-of-type {\n",
       "        vertical-align: middle;\n",
       "    }\n",
       "\n",
       "    .dataframe tbody tr th {\n",
       "        vertical-align: top;\n",
       "    }\n",
       "\n",
       "    .dataframe thead th {\n",
       "        text-align: right;\n",
       "    }\n",
       "</style>\n",
       "<table border=\"1\" class=\"dataframe\">\n",
       "  <thead>\n",
       "    <tr style=\"text-align: right;\">\n",
       "      <th></th>\n",
       "      <th>_crddb_autorowreportid_value</th>\n",
       "      <th>new_pointid</th>\n",
       "      <th>crddb_pointtype</th>\n",
       "      <th>_crddb_resistivity_value</th>\n",
       "      <th>crddb_ycoordinate</th>\n",
       "      <th>new_xcoordinate</th>\n",
       "      <th>new_obspointid</th>\n",
       "    </tr>\n",
       "  </thead>\n",
       "  <tbody>\n",
       "    <tr>\n",
       "      <th>0</th>\n",
       "      <td>7451df6f-04f8-ed11-8848-000d3a1f576d</td>\n",
       "      <td>PTE-TESTE</td>\n",
       "      <td>1</td>\n",
       "      <td>8791b844-b566-ee11-9ae7-000d3a1f576d</td>\n",
       "      <td>5678.0</td>\n",
       "      <td>1234.0</td>\n",
       "      <td>71772047-e078-ee11-8179-000d3a1f576d</td>\n",
       "    </tr>\n",
       "    <tr>\n",
       "      <th>1</th>\n",
       "      <td>55329a7f-027d-ee11-8179-000d3a1f576d</td>\n",
       "      <td>PTE-001</td>\n",
       "      <td>11</td>\n",
       "      <td>None</td>\n",
       "      <td>0.0</td>\n",
       "      <td>0.0</td>\n",
       "      <td>a6099db1-3f92-ee11-be37-000d3a1f576d</td>\n",
       "    </tr>\n",
       "  </tbody>\n",
       "</table>\n",
       "</div>"
      ],
      "text/plain": [
       "           _crddb_autorowreportid_value new_pointid  crddb_pointtype  \\\n",
       "0  7451df6f-04f8-ed11-8848-000d3a1f576d   PTE-TESTE                1   \n",
       "1  55329a7f-027d-ee11-8179-000d3a1f576d     PTE-001               11   \n",
       "\n",
       "               _crddb_resistivity_value  crddb_ycoordinate  new_xcoordinate  \\\n",
       "0  8791b844-b566-ee11-9ae7-000d3a1f576d             5678.0           1234.0   \n",
       "1                                  None                0.0              0.0   \n",
       "\n",
       "                         new_obspointid  \n",
       "0  71772047-e078-ee11-8179-000d3a1f576d  \n",
       "1  a6099db1-3f92-ee11-be37-000d3a1f576d  "
      ]
     },
     "execution_count": 22,
     "metadata": {},
     "output_type": "execute_result"
    }
   ],
   "source": [
    "obs_df = pd.DataFrame(data_obs['value'])\n",
    "obs_columns = ['_crddb_autorowreportid_value', 'new_pointid', 'crddb_pointtype', \n",
    "'_crddb_resistivity_value', 'crddb_ycoordinate', 'new_xcoordinate', 'new_obspointid' ]\n",
    "obs_df = obs_df[obs_columns]\n",
    "obs_df"
   ]
  },
  {
   "cell_type": "markdown",
   "metadata": {},
   "source": [
    "# RowCAD"
   ]
  },
  {
   "cell_type": "code",
   "execution_count": 109,
   "metadata": {},
   "outputs": [],
   "source": [
    "def save_to_txt_file(file_name, content):\n",
    "    with open(file_name, 'w') as file:\n",
    "        file.write(content)\n",
    "    print(f\"Content successfully saved to '{file_name}'.\")"
   ]
  },
  {
   "cell_type": "markdown",
   "metadata": {},
   "source": [
    "Flags importantes: crddb_circuittype, crddb_c1phasesequence e crddb_c2phasesequence."
   ]
  },
  {
   "cell_type": "code",
   "execution_count": 110,
   "metadata": {},
   "outputs": [],
   "source": [
    "circuit_type = data_df.iloc[0]['crddb_circuittype']         # Single"
   ]
  },
  {
   "cell_type": "code",
   "execution_count": 111,
   "metadata": {},
   "outputs": [
    {
     "data": {
      "text/html": [
       "<div>\n",
       "<style scoped>\n",
       "    .dataframe tbody tr th:only-of-type {\n",
       "        vertical-align: middle;\n",
       "    }\n",
       "\n",
       "    .dataframe tbody tr th {\n",
       "        vertical-align: top;\n",
       "    }\n",
       "\n",
       "    .dataframe thead th {\n",
       "        text-align: right;\n",
       "    }\n",
       "</style>\n",
       "<table border=\"1\" class=\"dataframe\">\n",
       "  <thead>\n",
       "    <tr style=\"text-align: right;\">\n",
       "      <th></th>\n",
       "      <th>@odata.etag</th>\n",
       "      <th>crddb_c1b_sep</th>\n",
       "      <th>crddb_contributionfaultcurrent_term1_mod</th>\n",
       "      <th>crddb_crosssection_targety</th>\n",
       "      <th>crddb_contributionfaultcurrent_term2_phase</th>\n",
       "      <th>_ownerid_value</th>\n",
       "      <th>crddb_spansbeforeemizone</th>\n",
       "      <th>statecode</th>\n",
       "      <th>crddb_contributionfaultcurrent_term2_mod</th>\n",
       "      <th>crddb_circuittype</th>\n",
       "      <th>...</th>\n",
       "      <th>crddb_c1b_numcond</th>\n",
       "      <th>crddb_c2c_horizontal</th>\n",
       "      <th>crddb_c2a_sep</th>\n",
       "      <th>_crddb_authorizationticket_value</th>\n",
       "      <th>crddb_c2b_vertical</th>\n",
       "      <th>crddb_c2b_sep</th>\n",
       "      <th>crddb_c2a_numcond</th>\n",
       "      <th>crddb_c2c_sep</th>\n",
       "      <th>crddb_c2a_alpha</th>\n",
       "      <th>_crddb_c2c_condtype_value</th>\n",
       "    </tr>\n",
       "  </thead>\n",
       "  <tbody>\n",
       "    <tr>\n",
       "      <th>0</th>\n",
       "      <td>W/\"4504770\"</td>\n",
       "      <td>0.4</td>\n",
       "      <td>5000.0</td>\n",
       "      <td>1.5</td>\n",
       "      <td>0.0</td>\n",
       "      <td>eade9878-0d57-ee11-be6f-000d3a1f576d</td>\n",
       "      <td>5.0</td>\n",
       "      <td>0</td>\n",
       "      <td>5000.0</td>\n",
       "      <td>1.0</td>\n",
       "      <td>...</td>\n",
       "      <td>None</td>\n",
       "      <td>None</td>\n",
       "      <td>None</td>\n",
       "      <td>None</td>\n",
       "      <td>None</td>\n",
       "      <td>None</td>\n",
       "      <td>None</td>\n",
       "      <td>None</td>\n",
       "      <td>None</td>\n",
       "      <td>None</td>\n",
       "    </tr>\n",
       "    <tr>\n",
       "      <th>1</th>\n",
       "      <td>W/\"3602231\"</td>\n",
       "      <td>NaN</td>\n",
       "      <td>NaN</td>\n",
       "      <td>NaN</td>\n",
       "      <td>NaN</td>\n",
       "      <td>69d46714-c7eb-ed11-8849-000d3a17a888</td>\n",
       "      <td>NaN</td>\n",
       "      <td>0</td>\n",
       "      <td>NaN</td>\n",
       "      <td>NaN</td>\n",
       "      <td>...</td>\n",
       "      <td>None</td>\n",
       "      <td>None</td>\n",
       "      <td>None</td>\n",
       "      <td>None</td>\n",
       "      <td>None</td>\n",
       "      <td>None</td>\n",
       "      <td>None</td>\n",
       "      <td>None</td>\n",
       "      <td>None</td>\n",
       "      <td>None</td>\n",
       "    </tr>\n",
       "  </tbody>\n",
       "</table>\n",
       "<p>2 rows × 132 columns</p>\n",
       "</div>"
      ],
      "text/plain": [
       "   @odata.etag  crddb_c1b_sep  crddb_contributionfaultcurrent_term1_mod  \\\n",
       "0  W/\"4504770\"            0.4                                    5000.0   \n",
       "1  W/\"3602231\"            NaN                                       NaN   \n",
       "\n",
       "   crddb_crosssection_targety  crddb_contributionfaultcurrent_term2_phase  \\\n",
       "0                         1.5                                         0.0   \n",
       "1                         NaN                                         NaN   \n",
       "\n",
       "                         _ownerid_value  crddb_spansbeforeemizone  statecode  \\\n",
       "0  eade9878-0d57-ee11-be6f-000d3a1f576d                       5.0          0   \n",
       "1  69d46714-c7eb-ed11-8849-000d3a17a888                       NaN          0   \n",
       "\n",
       "   crddb_contributionfaultcurrent_term2_mod  crddb_circuittype  ...  \\\n",
       "0                                    5000.0                1.0  ...   \n",
       "1                                       NaN                NaN  ...   \n",
       "\n",
       "   crddb_c1b_numcond  crddb_c2c_horizontal crddb_c2a_sep  \\\n",
       "0               None                  None          None   \n",
       "1               None                  None          None   \n",
       "\n",
       "  _crddb_authorizationticket_value crddb_c2b_vertical crddb_c2b_sep  \\\n",
       "0                             None               None          None   \n",
       "1                             None               None          None   \n",
       "\n",
       "  crddb_c2a_numcond  crddb_c2c_sep  crddb_c2a_alpha  _crddb_c2c_condtype_value  \n",
       "0              None           None             None                       None  \n",
       "1              None           None             None                       None  \n",
       "\n",
       "[2 rows x 132 columns]"
      ]
     },
     "execution_count": 111,
     "metadata": {},
     "output_type": "execute_result"
    }
   ],
   "source": [
    "data_df"
   ]
  },
  {
   "cell_type": "code",
   "execution_count": 112,
   "metadata": {},
   "outputs": [
    {
     "data": {
      "text/plain": [
       "0    1.0\n",
       "1    NaN\n",
       "Name: crddb_groundimpedance_terminal1_r, dtype: float64"
      ]
     },
     "execution_count": 112,
     "metadata": {},
     "output_type": "execute_result"
    }
   ],
   "source": [
    "data_df['crddb_groundimpedance_terminal1_r']  "
   ]
  },
  {
   "cell_type": "code",
   "execution_count": 113,
   "metadata": {},
   "outputs": [],
   "source": [
    "ground_point_LT = 1\n",
    "ground_point_DT = 2\n",
    "cartesian1 = 1\n",
    "#Lembrar que no Power Apps eu tenho que calcular isso com a corrente nominal\n",
    "r_abc = data_df.iloc[0]['crddb_groundimpedance_terminal1_r']  \n",
    "x_abc = data_df.iloc[0]['crddb_groundimpedance_terminal1_x']\n",
    "\n",
    "r_sw = data_df.iloc[0]['crddb_groundimpedance_towers_r']   \n",
    "x_sw = data_df.iloc[0]['crddb_groundimpedance_towers_x']\n",
    "\n",
    "r_pipe = data_df.iloc[0]['crddb_targetgroundimpedance_right_r']\n",
    "x_pipe = data_df.iloc[0]['crddb_targetgroundimpedance_right_x']\n",
    "\n",
    "polar2 = 2   # Praticamente sempre\n",
    "\n",
    "voltage_mag_kv = 1 #pu\n",
    "voltage_mag_kv_other = 0 #pu\n",
    "voltage_ang_deg = 0\n",
    "\n",
    "current_mag_ka = data_df.iloc[0][\"crddb_contributionfaultcurrent_term1_mod\"]\n",
    "current_ang_deg = data_df.iloc[0][\"crddb_contributionfaultcurrent_term1_phase\"]\n",
    "\n",
    "phase_a_term1 = {'name': 'a','id': 1, 'ph':1, \"ground_point\":ground_point_LT,\"cartesian1\" : cartesian1 ,\"R\" : r_abc,\"X\" : x_abc\n",
    "           ,\"polar2\" : polar2,\"voltage_mag_kv\": voltage_mag_kv ,\"voltage_ang_deg\":voltage_ang_deg \n",
    "           ,\"current_mag_ka\": 0, \"current_ang_deg\": 0}\n",
    "\n",
    "phase_b_term1 = {'name': 'b','id': 2, 'ph':2, \"ground_point\":ground_point_LT,\"cartesian1\" : cartesian1 ,\"R\" : r_abc,\"X\" : x_abc\n",
    "           ,\"polar2\" : polar2,\"voltage_mag_kv\": voltage_mag_kv_other ,\"voltage_ang_deg\":voltage_ang_deg \n",
    "           ,\"current_mag_ka\": 0, \"current_ang_deg\": 0}\n",
    "phase_c_term1 = {'name': 'c','id': 3, 'ph':3, \"ground_point\":ground_point_LT,\"cartesian1\" : cartesian1 ,\"R\" : r_abc,\"X\" : x_abc\n",
    "           ,\"polar2\" : polar2,\"voltage_mag_kv\": voltage_mag_kv_other ,\"voltage_ang_deg\":voltage_ang_deg \n",
    "           ,\"current_mag_ka\": 0, \"current_ang_deg\": 0}\n",
    "phase_sw1_term1 = {'name': 'e_sw1','id': 4, 'ph':4, \"ground_point\":ground_point_LT,\"cartesian1\" : cartesian1 ,\"R\" : r_sw,\"X\" : x_sw\n",
    "           ,\"polar2\" : polar2,\"voltage_mag_kv\": voltage_mag_kv_other ,\"voltage_ang_deg\":voltage_ang_deg \n",
    "           ,\"current_mag_ka\": 0, \"current_ang_deg\": 0}\n",
    "phase_sw2_term1 = {'name': 'f_sw2','id': 5, 'ph':5, \"ground_point\":ground_point_LT,\"cartesian1\" : cartesian1 ,\"R\" : r_sw,\"X\" : x_sw\n",
    "           ,\"polar2\" : polar2,\"voltage_mag_kv\": voltage_mag_kv_other ,\"voltage_ang_deg\":voltage_ang_deg \n",
    "           ,\"current_mag_ka\": 0, \"current_ang_deg\": 0}\n",
    "phase_pipe_term1 = {'name': 'pipe','id': 6, 'ph':6, \"ground_point\":ground_point_DT,\"cartesian1\" : cartesian1 ,\"R\" : r_pipe,\"X\" : x_pipe\n",
    "           ,\"polar2\" : polar2,\"voltage_mag_kv\": voltage_mag_kv_other ,\"voltage_ang_deg\":voltage_ang_deg \n",
    "           ,\"current_mag_ka\": 0, \"current_ang_deg\": 0}"
   ]
  },
  {
   "cell_type": "code",
   "execution_count": 114,
   "metadata": {},
   "outputs": [],
   "source": [
    "ground_point_LT = 1\n",
    "ground_point_DT = 2\n",
    "cartesian1 = 1\n",
    "#Lembrar que no Power Apps eu tenho que calcular isso com a corrente nominal\n",
    "r_abc = data_df.iloc[0]['crddb_groundimpedance_terminal1_r']  \n",
    "x_abc = data_df.iloc[0]['crddb_groundimpedance_terminal1_x']\n",
    "\n",
    "r_sw = data_df.iloc[0]['crddb_groundimpedance_towers_r']   \n",
    "x_sw = data_df.iloc[0]['crddb_groundimpedance_towers_x']\n",
    "\n",
    "r_pipe = data_df.iloc[0]['crddb_targetgroundimpedance_left_r']\n",
    "x_pipe = data_df.iloc[0]['crddb_targetgroundimpedance_left_x']\n",
    "\n",
    "polar2 = 2   # Praticamente sempre\n",
    "voltage_mag_kv = 1 #pu\n",
    "voltage_mag_kv_other = 0 #pu\n",
    "voltage_ang_deg = 0\n",
    "polar2 = 2\n",
    "current_mag_ka = data_df.iloc[0][\"crddb_contributionfaultcurrent_term2_mod\"]\n",
    "current_ang_deg = data_df.iloc[0][\"crddb_contributionfaultcurrent_term2_phase\"]\n",
    "\n",
    "phase_a_term2 = {'name': 'a','id': 1, 'ph':1, \"ground_point\":ground_point_LT,\"cartesian1\" : cartesian1 ,\"R\" : r_abc,\"X\" : x_abc\n",
    "           ,\"polar2\" : polar2,\"voltage_mag_kv\": voltage_mag_kv ,\"voltage_ang_deg\":voltage_ang_deg \n",
    "           ,\"current_mag_ka\": 0, \"current_ang_deg\": 0}\n",
    "\n",
    "phase_b_term2 = {'name': 'b','id': 2, 'ph':2, \"ground_point\":ground_point_LT,\"cartesian1\" : cartesian1 ,\"R\" : r_abc,\"X\" : x_abc\n",
    "           ,\"polar2\" : polar2,\"voltage_mag_kv\": voltage_mag_kv_other ,\"voltage_ang_deg\":voltage_ang_deg \n",
    "           ,\"current_mag_ka\": 0, \"current_ang_deg\": 0}\n",
    "phase_c_term2 = {'name': 'c','id': 3, 'ph':3, \"ground_point\":ground_point_LT,\"cartesian1\" : cartesian1 ,\"R\" : r_abc,\"X\" : x_abc\n",
    "           ,\"polar2\" : polar2,\"voltage_mag_kv\": voltage_mag_kv_other ,\"voltage_ang_deg\":voltage_ang_deg \n",
    "           ,\"current_mag_ka\": 0, \"current_ang_deg\": 0}\n",
    "phase_sw1_term2 = {'name': 'e_sw1','id': 4, 'ph':4, \"ground_point\":ground_point_LT,\"cartesian1\" : cartesian1 ,\"R\" : r_sw,\"X\" : x_sw\n",
    "           ,\"polar2\" : polar2,\"voltage_mag_kv\": voltage_mag_kv_other ,\"voltage_ang_deg\":voltage_ang_deg \n",
    "           ,\"current_mag_ka\": 0, \"current_ang_deg\": 0}\n",
    "phase_sw2_term2 = {'name': 'f_sw2','id': 5, 'ph':5, \"ground_point\":ground_point_LT,\"cartesian1\" : cartesian1 ,\"R\" : r_sw,\"X\" : x_sw\n",
    "           ,\"polar2\" : polar2,\"voltage_mag_kv\": voltage_mag_kv_other ,\"voltage_ang_deg\":voltage_ang_deg \n",
    "           ,\"current_mag_ka\": 0, \"current_ang_deg\": 0}\n",
    "phase_pipe_term2 = {'name': 'pipe','id': 6, 'ph':6, \"ground_point\":ground_point_DT,\"cartesian1\" : cartesian1 ,\"R\" : r_pipe,\"X\" : x_pipe\n",
    "           ,\"polar2\" : polar2,\"voltage_mag_kv\": voltage_mag_kv_other ,\"voltage_ang_deg\":voltage_ang_deg \n",
    "           ,\"current_mag_ka\": 0, \"current_ang_deg\": 0}"
   ]
  },
  {
   "cell_type": "markdown",
   "metadata": {},
   "source": [
    "## Energization"
   ]
  },
  {
   "cell_type": "markdown",
   "metadata": {},
   "source": [
    "### LT"
   ]
  },
  {
   "cell_type": "code",
   "execution_count": 115,
   "metadata": {},
   "outputs": [
    {
     "name": "stdout",
     "output_type": "stream",
     "text": [
      "        ENERGIZATION,VOLTAGE,1,1,1,1,1.0,0.0,2,1,0,2,0,0\n",
      "        ENERGIZATION,VOLTAGE,2,2,1,1,1.0,0.0,2,0,0,2,0,0\n",
      "        ENERGIZATION,VOLTAGE,3,3,1,1,1.0,0.0,2,0,0,2,0,0\n",
      "        ENERGIZATION,VOLTAGE,4,4,1,1,15.0,0.0,2,0,0,2,0,0\n",
      "        ENERGIZATION,VOLTAGE,5,5,1,1,15.0,0.0,2,0,0,2,0,0\n",
      "        ENERGIZATION,VOLTAGE,6,6,2,1,10.0,0.0,2,0,0,2,0,0\n"
     ]
    }
   ],
   "source": [
    "lista = []\n",
    "energization_info = [phase_a_term1, phase_b_term1, phase_c_term1, phase_sw1_term1, phase_sw2_term1, phase_pipe_term1]\n",
    "for i in energization_info:\n",
    "    lista.append(f'        ENERGIZATION,VOLTAGE,{i[\"id\"]},{i[\"ph\"]},{i[\"ground_point\"]},{i[\"cartesian1\"]},{i[\"R\"]},{i[\"X\"]},{i[\"polar2\"]},{i[\"voltage_mag_kv\"]},{i[\"voltage_ang_deg\"]},{i[\"polar2\"]},{i[\"current_mag_ka\"]},{i[\"current_ang_deg\"]}')\n",
    "\n",
    "energization_LT = '\\n'.join(lista)\n",
    "print(energization_LT)"
   ]
  },
  {
   "cell_type": "markdown",
   "metadata": {},
   "source": [
    "### DT"
   ]
  },
  {
   "cell_type": "code",
   "execution_count": 116,
   "metadata": {},
   "outputs": [
    {
     "name": "stdout",
     "output_type": "stream",
     "text": [
      "        ENERGIZATION,VOLTAGE,1,1,1,1,1.0,0.0,2,1,0,2,0,0\n",
      "        ENERGIZATION,VOLTAGE,2,2,1,1,1.0,0.0,2,0,0,2,0,0\n",
      "        ENERGIZATION,VOLTAGE,3,3,1,1,1.0,0.0,2,0,0,2,0,0\n",
      "        ENERGIZATION,VOLTAGE,4,4,1,1,15.0,0.0,2,0,0,2,0,0\n",
      "        ENERGIZATION,VOLTAGE,5,5,1,1,15.0,0.0,2,0,0,2,0,0\n",
      "        ENERGIZATION,VOLTAGE,6,6,2,1,10.0,0.0,2,0,0,2,0,0\n"
     ]
    }
   ],
   "source": [
    "lista = []\n",
    "energization_info = [phase_a_term2, phase_b_term2, phase_c_term2, phase_sw1_term2, phase_sw2_term2, phase_pipe_term2]\n",
    "for i in energization_info:\n",
    "    lista.append(f'        ENERGIZATION,VOLTAGE,{i[\"id\"]},{i[\"ph\"]},{i[\"ground_point\"]},{i[\"cartesian1\"]},{i[\"R\"]},{i[\"X\"]},{i[\"polar2\"]},{i[\"voltage_mag_kv\"]},{i[\"voltage_ang_deg\"]},{i[\"polar2\"]},{i[\"current_mag_ka\"]},{i[\"current_ang_deg\"]}')\n",
    "\n",
    "energization_DT = '\\n'.join(lista)\n",
    "print(energization_DT)"
   ]
  },
  {
   "cell_type": "markdown",
   "metadata": {},
   "source": [
    "## Polyline"
   ]
  },
  {
   "cell_type": "markdown",
   "metadata": {},
   "source": [
    "###  1 LT"
   ]
  },
  {
   "cell_type": "code",
   "execution_count": 117,
   "metadata": {},
   "outputs": [],
   "source": [
    "lt_coor = pd.read_csv('LT_VM100.csv', header=None)\n",
    "dt_coor = pd.read_csv('Gas_VM50_CRUZ_45graus.csv', header=None)\n",
    "# lt_coor"
   ]
  },
  {
   "cell_type": "code",
   "execution_count": 118,
   "metadata": {},
   "outputs": [],
   "source": [
    "# POINT, N,name,   x,y,z?, ,rho,  type,XS,?\n",
    "# POINT, 1, , -500,10,0,0,0,0,2,0\n",
    "# POINT, 2, ,    0,10,0,0,0,0,2,0\n",
    "# POINT, 3, ,  500,10,0,0,0,0,2,0"
   ]
  },
  {
   "cell_type": "code",
   "execution_count": 119,
   "metadata": {},
   "outputs": [
    {
     "name": "stdout",
     "output_type": "stream",
     "text": [
      "      POINT,1,,-48.59,0.0,,,1,0,1,\n",
      "      POINT,2,,51.41,0.0,,,1,0,1,\n",
      "      POINT,3,,151.41,0.0,,,1,0,1,\n",
      "      POINT,4,,271.40999999999997,0.0,,,1,0,1,\n",
      "      POINT,5,,371.40999999999997,0.0,,,1,0,1,\n",
      "      POINT,6,,471.40999999999997,0.0,,,1,0,1,\n",
      "      POINT,7,,571.41,0.0,,,1,0,1,\n",
      "      POINT,8,,671.41,0.0,,,1,0,1,\n",
      "      POINT,9,,771.41,0.0,,,1,0,1,\n",
      "      POINT,10,,871.41,0.0,,,1,0,1,\n",
      "      POINT,11,,971.41,0.0,,,1,0,1,\n",
      "      POINT,12,,1071.41,0.0,,,1,0,1,\n",
      "      POINT,13,,1171.41,0.0,,,1,0,1,\n",
      "      POINT,14,,1271.41,0.0,,,1,0,1,\n",
      "      POINT,15,,1371.41,0.0,,,1,0,1,\n",
      "      POINT,16,,1471.41,0.0,,,1,0,1,\n",
      "      POINT,17,,1571.41,0.0,,,1,0,1,\n",
      "      POINT,18,,1671.41,0.0,,,1,0,1,\n",
      "      POINT,19,,1771.41,0.0,,,1,0,1,\n",
      "      POINT,20,,1871.41,0.0,,,1,0,1,\n",
      "      POINT,21,,1971.41,0.0,,,1,0,1,\n",
      "      POINT,22,,2071.4100000000003,0.0,,,1,0,1,\n",
      "      POINT,23,,2171.4100000000003,0.0,,,1,0,1,\n"
     ]
    }
   ],
   "source": [
    "lista = []\n",
    "name = ''\n",
    "rho = 1\n",
    "xs = 1\n",
    "type_ = 0 # Towers = -2, Coordinate = -1 e Undefined = 0;\n",
    "\n",
    "first = True\n",
    "for index, row in lt_coor.iterrows():\n",
    "    if first: # Garantindo afastamento de 1 cm \n",
    "        x = row[0] + 0.01\n",
    "    else : \n",
    "        x = row[0]\n",
    "    \n",
    "    y = row[1]\n",
    "    lista.append(f'      POINT,{index+1},{name},{x},{y},,,{rho},{type_},{xs},')\n",
    "\n",
    "LT_points = '\\n'.join(lista)\n",
    "print(LT_points)"
   ]
  },
  {
   "cell_type": "markdown",
   "metadata": {},
   "source": [
    "### 2 DT"
   ]
  },
  {
   "cell_type": "code",
   "execution_count": 120,
   "metadata": {},
   "outputs": [],
   "source": [
    "# POLYLINE,2,DT                                      \n",
    "#   Point,N, name,   x,  y,  z?,   , rho, type, XS, ?\n",
    "#   POINT,1,     ,-500, 10,   0, 10,   0,    0,  2, 0\n",
    "#   POINT,2,     ,   0, 10,   0,  0,   0,    0,  2, 0\n",
    "#   POINT,3,     , 500, 10,   0,  0,   0,    0,  2, 0"
   ]
  },
  {
   "cell_type": "code",
   "execution_count": 121,
   "metadata": {},
   "outputs": [
    {
     "name": "stdout",
     "output_type": "stream",
     "text": [
      "      POINT,1,,-78.666,-100.0,,10,1,0,1,\n",
      "      POINT,2,,-28.666,-100.0,,0,1,0,1,\n",
      "      POINT,3,,21.334,-100.0,,0,1,0,1,\n",
      "      POINT,4,,71.334,-100.0,,0,1,0,1,\n",
      "      POINT,5,,121.334,-100.0,,0,1,0,1,\n",
      "      POINT,6,,171.334,-100.0,,0,1,0,1,\n",
      "      POINT,7,,221.334,-100.0,,0,1,0,1,\n",
      "      POINT,8,,271.334,-100.0,,0,1,0,1,\n",
      "      POINT,9,,321.334,-100.0,,0,1,0,1,\n",
      "      POINT,10,,371.334,-100.0,,0,1,0,1,\n",
      "      POINT,11,,421.334,-100.0,,0,1,0,1,\n",
      "      POINT,12,,471.334,-100.0,,0,1,0,1,\n",
      "      POINT,13,,521.334,-100.0,,0,1,0,1,\n",
      "      POINT,14,,571.334,-100.0,,0,1,0,1,\n",
      "      POINT,15,,621.334,-100.0,,0,1,0,1,\n",
      "      POINT,16,,671.334,-100.0,,0,1,0,1,\n",
      "      POINT,17,,721.334,-100.0,,0,1,0,1,\n",
      "      POINT,18,,771.334,-100.0,,0,1,0,1,\n",
      "      POINT,19,,821.334,-100.0,,0,1,0,1,\n",
      "      POINT,20,,871.334,-100.0,,0,1,0,1,\n",
      "      POINT,21,,921.334,-100.0,,0,1,0,1,\n",
      "      POINT,22,,956.6893,-65.7766,,0,1,0,1,\n",
      "      POINT,23,,992.0447,-29.2893,,0,1,0,1,\n",
      "      POINT,24,,1027.4,6.066,,0,1,0,1,\n",
      "      POINT,25,,1062.7554,41.4213,,0,1,0,1,\n",
      "      POINT,26,,1098.1107,75.7766,,0,1,0,1,\n",
      "      POINT,27,,1121.334,100.0,,0,1,0,1,\n",
      "      POINT,28,,1171.334,100.0,,0,1,0,1,\n",
      "      POINT,29,,1221.334,100.0,,0,1,0,1,\n",
      "      POINT,30,,1271.334,100.0,,0,1,0,1,\n",
      "      POINT,31,,1321.334,100.0,,0,1,0,1,\n",
      "      POINT,32,,1371.334,100.0,,0,1,0,1,\n",
      "      POINT,33,,1421.334,100.0,,0,1,0,1,\n",
      "      POINT,34,,1471.334,100.0,,0,1,0,1,\n",
      "      POINT,35,,1521.334,100.0,,0,1,0,1,\n",
      "      POINT,36,,1571.334,100.0,,0,1,0,1,\n",
      "      POINT,37,,1621.334,100.0,,0,1,0,1,\n",
      "      POINT,38,,1671.334,100.0,,0,1,0,1,\n",
      "      POINT,39,,1721.334,100.0,,0,1,0,1,\n",
      "      POINT,40,,1771.334,100.0,,0,1,0,1,\n",
      "      POINT,41,,1821.334,100.0,,0,1,0,1,\n",
      "      POINT,42,,1871.334,100.0,,0,1,0,1,\n",
      "      POINT,43,,1921.334,100.0,,0,1,0,1,\n",
      "      POINT,44,,1971.334,100.0,,0,1,0,1,\n",
      "      POINT,45,,2021.334,100.0,,0,1,0,1,\n",
      "      POINT,46,,2071.334,100.0,,0,1,0,1,\n",
      "      POINT,47,,2121.334,100.0,,0,1,0,1,\n"
     ]
    }
   ],
   "source": [
    "lista = []\n",
    "name = ''\n",
    "rho = 1\n",
    "xs = 1\n",
    "type_ = 0 # Towers = -2, Coordinate = -1 e Undefined = 0;\n",
    "\n",
    "for index, row in dt_coor.iterrows():\n",
    "    x = row[0]\n",
    "    y = row[1]\n",
    "    if index == 0:\n",
    "        something = 10\n",
    "    else:\n",
    "        something = 0\n",
    "    lista.append(f'      POINT,{index+1},{name},{x},{y},,{something},{rho},{type_},{xs},')\n",
    "\n",
    "DT_points = '\\n'.join(lista)\n",
    "print(DT_points)"
   ]
  },
  {
   "cell_type": "markdown",
   "metadata": {},
   "source": [
    "## Cross Section"
   ]
  },
  {
   "cell_type": "code",
   "execution_count": 122,
   "metadata": {},
   "outputs": [
    {
     "name": "stdout",
     "output_type": "stream",
     "text": [
      "  PHASE,1,a,1\n",
      "  PHASE,2,b,2\n",
      "  PHASE,3,c,3\n",
      "  PHASE,4,e_sw1,4\n",
      "  PHASE,5,f_sw2,5\n",
      "  PHASE,6,pipe,6\n"
     ]
    }
   ],
   "source": [
    "lista = []\n",
    "energization_info = [phase_a_term1, phase_b_term1, phase_c_term1, phase_sw1_term1, phase_sw2_term1, phase_pipe_term1]\n",
    "for i in energization_info:\n",
    "    lista.append(f'  PHASE,{i[\"id\"]},{i[\"name\"]},{i[\"ph\"]}')\n",
    "\n",
    "phase_cross_section = '\\n'.join(lista)\n",
    "print(phase_cross_section)"
   ]
  },
  {
   "cell_type": "code",
   "execution_count": 123,
   "metadata": {},
   "outputs": [
    {
     "data": {
      "text/html": [
       "<div>\n",
       "<style scoped>\n",
       "    .dataframe tbody tr th:only-of-type {\n",
       "        vertical-align: middle;\n",
       "    }\n",
       "\n",
       "    .dataframe tbody tr th {\n",
       "        vertical-align: top;\n",
       "    }\n",
       "\n",
       "    .dataframe thead th {\n",
       "        text-align: right;\n",
       "    }\n",
       "</style>\n",
       "<table border=\"1\" class=\"dataframe\">\n",
       "  <thead>\n",
       "    <tr style=\"text-align: right;\">\n",
       "      <th></th>\n",
       "      <th>@odata.etag</th>\n",
       "      <th>crddb_c1b_sep</th>\n",
       "      <th>crddb_contributionfaultcurrent_term1_mod</th>\n",
       "      <th>crddb_crosssection_targety</th>\n",
       "      <th>crddb_contributionfaultcurrent_term2_phase</th>\n",
       "      <th>_ownerid_value</th>\n",
       "      <th>crddb_spansbeforeemizone</th>\n",
       "      <th>statecode</th>\n",
       "      <th>crddb_contributionfaultcurrent_term2_mod</th>\n",
       "      <th>crddb_circuittype</th>\n",
       "      <th>...</th>\n",
       "      <th>crddb_c1b_numcond</th>\n",
       "      <th>crddb_c2c_horizontal</th>\n",
       "      <th>crddb_c2a_sep</th>\n",
       "      <th>_crddb_authorizationticket_value</th>\n",
       "      <th>crddb_c2b_vertical</th>\n",
       "      <th>crddb_c2b_sep</th>\n",
       "      <th>crddb_c2a_numcond</th>\n",
       "      <th>crddb_c2c_sep</th>\n",
       "      <th>crddb_c2a_alpha</th>\n",
       "      <th>_crddb_c2c_condtype_value</th>\n",
       "    </tr>\n",
       "  </thead>\n",
       "  <tbody>\n",
       "    <tr>\n",
       "      <th>0</th>\n",
       "      <td>W/\"4504770\"</td>\n",
       "      <td>0.4</td>\n",
       "      <td>5000.0</td>\n",
       "      <td>1.5</td>\n",
       "      <td>0.0</td>\n",
       "      <td>eade9878-0d57-ee11-be6f-000d3a1f576d</td>\n",
       "      <td>5.0</td>\n",
       "      <td>0</td>\n",
       "      <td>5000.0</td>\n",
       "      <td>1.0</td>\n",
       "      <td>...</td>\n",
       "      <td>None</td>\n",
       "      <td>None</td>\n",
       "      <td>None</td>\n",
       "      <td>None</td>\n",
       "      <td>None</td>\n",
       "      <td>None</td>\n",
       "      <td>None</td>\n",
       "      <td>None</td>\n",
       "      <td>None</td>\n",
       "      <td>None</td>\n",
       "    </tr>\n",
       "    <tr>\n",
       "      <th>1</th>\n",
       "      <td>W/\"3602231\"</td>\n",
       "      <td>NaN</td>\n",
       "      <td>NaN</td>\n",
       "      <td>NaN</td>\n",
       "      <td>NaN</td>\n",
       "      <td>69d46714-c7eb-ed11-8849-000d3a17a888</td>\n",
       "      <td>NaN</td>\n",
       "      <td>0</td>\n",
       "      <td>NaN</td>\n",
       "      <td>NaN</td>\n",
       "      <td>...</td>\n",
       "      <td>None</td>\n",
       "      <td>None</td>\n",
       "      <td>None</td>\n",
       "      <td>None</td>\n",
       "      <td>None</td>\n",
       "      <td>None</td>\n",
       "      <td>None</td>\n",
       "      <td>None</td>\n",
       "      <td>None</td>\n",
       "      <td>None</td>\n",
       "    </tr>\n",
       "  </tbody>\n",
       "</table>\n",
       "<p>2 rows × 132 columns</p>\n",
       "</div>"
      ],
      "text/plain": [
       "   @odata.etag  crddb_c1b_sep  crddb_contributionfaultcurrent_term1_mod  \\\n",
       "0  W/\"4504770\"            0.4                                    5000.0   \n",
       "1  W/\"3602231\"            NaN                                       NaN   \n",
       "\n",
       "   crddb_crosssection_targety  crddb_contributionfaultcurrent_term2_phase  \\\n",
       "0                         1.5                                         0.0   \n",
       "1                         NaN                                         NaN   \n",
       "\n",
       "                         _ownerid_value  crddb_spansbeforeemizone  statecode  \\\n",
       "0  eade9878-0d57-ee11-be6f-000d3a1f576d                       5.0          0   \n",
       "1  69d46714-c7eb-ed11-8849-000d3a17a888                       NaN          0   \n",
       "\n",
       "   crddb_contributionfaultcurrent_term2_mod  crddb_circuittype  ...  \\\n",
       "0                                    5000.0                1.0  ...   \n",
       "1                                       NaN                NaN  ...   \n",
       "\n",
       "   crddb_c1b_numcond  crddb_c2c_horizontal crddb_c2a_sep  \\\n",
       "0               None                  None          None   \n",
       "1               None                  None          None   \n",
       "\n",
       "  _crddb_authorizationticket_value crddb_c2b_vertical crddb_c2b_sep  \\\n",
       "0                             None               None          None   \n",
       "1                             None               None          None   \n",
       "\n",
       "  crddb_c2a_numcond  crddb_c2c_sep  crddb_c2a_alpha  _crddb_c2c_condtype_value  \n",
       "0              None           None             None                       None  \n",
       "1              None           None             None                       None  \n",
       "\n",
       "[2 rows x 132 columns]"
      ]
     },
     "execution_count": 123,
     "metadata": {},
     "output_type": "execute_result"
    }
   ],
   "source": [
    "data_df"
   ]
  },
  {
   "cell_type": "code",
   "execution_count": 124,
   "metadata": {},
   "outputs": [
    {
     "data": {
      "text/plain": [
       "['55329a7f-027d-ee11-8179-000d3a1f576d',\n",
       " '7451df6f-04f8-ed11-8848-000d3a1f576d']"
      ]
     },
     "execution_count": 124,
     "metadata": {},
     "output_type": "execute_result"
    }
   ],
   "source": [
    "id_projects"
   ]
  },
  {
   "cell_type": "code",
   "execution_count": 125,
   "metadata": {},
   "outputs": [
    {
     "data": {
      "text/plain": [
       "{'crddb_name': 'Grosbeak',\n",
       " 'crddb_cross_section': 636.0,\n",
       " 'crddb_ac_resistence': 0.0922114998,\n",
       " 'crddb_resistivity': 2.2816646099,\n",
       " 'crddb_outerradius': 0.0125705004,\n",
       " 'crddb_innerradius': 0.0046354998,\n",
       " 'crddb_dc_resistance': 0.0917143971,\n",
       " 'crddb_relativepermeability': 1.0643444061,\n",
       " 'crddb_gmr': 0.0102108}"
      ]
     },
     "execution_count": 125,
     "metadata": {},
     "output_type": "execute_result"
    }
   ],
   "source": [
    "conductor = cond_df.iloc[1].to_dict()\n",
    "conductor"
   ]
  },
  {
   "cell_type": "markdown",
   "metadata": {},
   "source": [
    "### Grosbeak"
   ]
  },
  {
   "cell_type": "code",
   "execution_count": 126,
   "metadata": {},
   "outputs": [],
   "source": [
    "grosbeak_info = {'Conductor_Name' : 'Grosbeak', 'inner_Radius' : conductor[\"crddb_innerradius\"], 'outer_Radius' : conductor[\"crddb_outerradius\"], 'relative_resistivity' : conductor[\"crddb_resistivity\"], 'dc_Resistance' : conductor[\"crddb_dc_resistance\"], 'ac_Resistance' : conductor[\"crddb_ac_resistence\"], 'relative_permeability' : conductor[\"crddb_relativepermeability\"], 'GMR' : conductor[\"crddb_gmr\"], 'X' : 0.256067007780075}\n",
    "grosbeak = f\"\"\"  COMPONENT-TYPE,1,Grosbeak\n",
    "    GROUP-COMPONENT,CONDUCTOR,1,Grosbeak,0,0,0,08\n",
    "      LAYER,CONDUCTOR,1,Grosbeak_Conductor\n",
    "        CONDUCTOR-CHARACTERISTICS,{grosbeak_info[\"inner_Radius\"]},{grosbeak_info[\"outer_Radius\"]},1,{grosbeak_info[\"relative_resistivity\"]},{grosbeak_info[\"dc_Resistance\"]},{grosbeak_info[\"ac_Resistance\"]},1,{grosbeak_info[\"relative_permeability\"]},{grosbeak_info[\"GMR\"]},{grosbeak_info[\"X\"]},1,26,0.00198628008365631,0.00463549979031086,7,0.00154432002454996,322.265960693359,636,,60,0,0\n",
    "          DB-CONDUCTOR_INFO,SYNCHRONIZEDWITHDB,Grosbeak,ACSR,60,0\"\"\""
   ]
  },
  {
   "cell_type": "code",
   "execution_count": 127,
   "metadata": {},
   "outputs": [],
   "source": [
    "total_cross_section1_LT = f\"\"\"CROSSSECTION\n",
    "  OPTIONS\n",
    "    CONFIGURATION-MODE,ROW\n",
    "    UNITS,METRIC\n",
    "  {phase_cross_section}\n",
    "  {grosbeak}\n",
    "  SYSTEM\n",
    "    SUBSET,1,Set #1\n",
    "      COMPONENT,1,Component #1,-6.65,13.5,1\n",
    "        INFO-GROUPCOMPONENT,1,{grosbeak_info['Conductor_Name']}\n",
    "          INFO-PHASE-CIRCUIT,1,{phase_a_term1[\"id\"]},0,0\n",
    "      COMPONENT,2,Component #2,0,13.5,1\n",
    "        INFO-GROUPCOMPONENT,1,{grosbeak_info[\"Conductor_Name\"]}\n",
    "          INFO-PHASE-CIRCUIT,1,{phase_b_term1[\"id\"]},0,0\n",
    "      COMPONENT,3,Component #3,6.65,13.5,1\n",
    "        INFO-GROUPCOMPONENT,1,{grosbeak_info[\"Conductor_Name\"]}\n",
    "          INFO-PHASE-CIRCUIT,1,{phase_c_term1[\"id\"]},0,0\n",
    "      COMPONENT,4,Component #4,4.65,17.6,2\n",
    "        INFO-GROUPCOMPONENT,1,{grosbeak_info[\"Conductor_Name\"]}\n",
    "          INFO-PHASE-CIRCUIT,1,{phase_sw1_term1[\"id\"]},0,0\n",
    "      COMPONENT,5,Component #5,-4.65,17.6,2\n",
    "        INFO-GROUPCOMPONENT,1,{grosbeak_info[\"Conductor_Name\"]}\n",
    "          INFO-PHASE-CIRCUIT,1,{phase_sw2_term1[\"id\"]},0,0\n",
    "ENDPROGRAM\"\"\""
   ]
  },
  {
   "cell_type": "code",
   "execution_count": 128,
   "metadata": {},
   "outputs": [
    {
     "name": "stdout",
     "output_type": "stream",
     "text": [
      "Content successfully saved to 'C:/Codigos_VS/Projects/PowerApps/results/XS_crossSection1.f05'.\n"
     ]
    }
   ],
   "source": [
    "file_name = \"C:/Codigos_VS/Projects/PowerApps/results/XS_crossSection1.f05\"\n",
    "save_to_txt_file(file_name, total_cross_section1_LT)"
   ]
  },
  {
   "cell_type": "code",
   "execution_count": 129,
   "metadata": {},
   "outputs": [],
   "source": [
    "total_cross_section2_DT = f\"\"\"CROSSSECTION\n",
    "  OPTIONS\n",
    "    CONFIGURATION-MODE,ROW\n",
    "    UNITS,METRIC\n",
    "  {phase_cross_section}\n",
    "  {grosbeak}\n",
    "  SYSTEM\n",
    "    SUBSET,1,Set #1\n",
    "      COMPONENT,1,pipe,0,-1,1\n",
    "        INFO-GROUPCOMPONENT,1,{grosbeak_info['Conductor_Name']}\n",
    "          INFO-PHASE-CIRCUIT,1,{phase_pipe_term2['id']},0,0\n",
    "ENDPROGRAM\"\"\""
   ]
  },
  {
   "cell_type": "code",
   "execution_count": 130,
   "metadata": {},
   "outputs": [
    {
     "name": "stdout",
     "output_type": "stream",
     "text": [
      "Content successfully saved to 'C:/Codigos_VS/Projects/PowerApps/results/XS_crossSection2.f05'.\n"
     ]
    }
   ],
   "source": [
    "file_name = \"C:/Codigos_VS/Projects/PowerApps/results/XS_crossSection2.f05\"\n",
    "save_to_txt_file(file_name, total_cross_section2_DT)"
   ]
  },
  {
   "cell_type": "code",
   "execution_count": 131,
   "metadata": {},
   "outputs": [],
   "source": [
    "path_cross_section1 = 'C:/Codigos_VS/Projects/PowerApps/results/XS_crossSection1.f05'\n",
    "path_cross_section2 = 'C:/Codigos_VS/Projects/PowerApps/results/XS_crossSection2.f05'"
   ]
  },
  {
   "cell_type": "markdown",
   "metadata": {},
   "source": [
    "## Soil"
   ]
  },
  {
   "cell_type": "code",
   "execution_count": 132,
   "metadata": {},
   "outputs": [],
   "source": [
    "soil_resistence_term1_LT = 1E-06  \n",
    "soil_resistence_term2_LT = 1E-06  \n",
    "soil_resistence_term1_DT = 1E-06  \n",
    "soil_resistence_term2_DT = 1E-06  "
   ]
  },
  {
   "cell_type": "markdown",
   "metadata": {},
   "source": [
    "## Leakage"
   ]
  },
  {
   "cell_type": "code",
   "execution_count": 133,
   "metadata": {},
   "outputs": [
    {
     "name": "stdout",
     "output_type": "stream",
     "text": [
      "    LEAKAGE,COMPUTED,1,a,0,9999999,9999999\n",
      "    LEAKAGE,COMPUTED,2,b,0,9999999,9999999\n",
      "    LEAKAGE,COMPUTED,3,c,0,9999999,9999999\n",
      "    LEAKAGE,COMPUTED,4,e_sw1,0,9999999,9999999\n",
      "    LEAKAGE,COMPUTED,5,f_sw2,0,9999999,9999999\n",
      "    LEAKAGE,COMPUTED,6,pipe,0,9999999,9999999\n"
     ]
    }
   ],
   "source": [
    "lista = []\n",
    "# total_leakage = f\"\"\"\"\"\"\n",
    "for i in energization_info:\n",
    "    lista.append(f'    LEAKAGE,COMPUTED,{i[\"id\"]},{i[\"name\"]},0,9999999,9999999')\n",
    "\n",
    "total_leakage = '\\n'.join(lista)\n",
    "print(total_leakage)"
   ]
  },
  {
   "cell_type": "code",
   "execution_count": 134,
   "metadata": {},
   "outputs": [
    {
     "name": "stdout",
     "output_type": "stream",
     "text": [
      "LEAKAGE-DEF\n",
      "  DEFINITION\n",
      "    LEAKAGE,COMPUTED,1,a,0,9999999,9999999\n",
      "    LEAKAGE,COMPUTED,2,b,0,9999999,9999999\n",
      "    LEAKAGE,COMPUTED,3,c,0,9999999,9999999\n",
      "    LEAKAGE,COMPUTED,4,e_sw1,0,9999999,9999999\n",
      "    LEAKAGE,COMPUTED,5,f_sw2,0,9999999,9999999\n",
      "    LEAKAGE,COMPUTED,6,pipe,0,9999999,9999999\n",
      "ENDPROGRAM\n"
     ]
    }
   ],
   "source": [
    "file_string = f\"\"\"LEAKAGE-DEF\n",
    "  DEFINITION\n",
    "{total_leakage}\n",
    "ENDPROGRAM\"\"\"\n",
    "print(file_string)"
   ]
  },
  {
   "cell_type": "code",
   "execution_count": 137,
   "metadata": {},
   "outputs": [
    {
     "name": "stdout",
     "output_type": "stream",
     "text": [
      "Content successfully saved to 'C:/Codigos_VS/Projects/PowerApps/results/LD_testLeakage.f05'.\n"
     ]
    }
   ],
   "source": [
    "file_name = \"C:/Codigos_VS/Projects/PowerApps/results/LD_testLeakage.f05\"\n",
    "save_to_txt_file(file_name, file_string)"
   ]
  },
  {
   "cell_type": "markdown",
   "metadata": {},
   "source": [
    "# Final"
   ]
  },
  {
   "cell_type": "code",
   "execution_count": 142,
   "metadata": {},
   "outputs": [],
   "source": [
    "final = f\"\"\"ROWCAD\n",
    "  OPTIONS\n",
    "    INPUT-MODE,CROSSSECTIONMODE\n",
    "    REGION-GENERATION,0,1,1\n",
    "  SYSTEM\n",
    "    POLYLINE,1,LT\n",
    "{LT_points}\n",
    "      DISPLAY-COLOR,1,0,0,1\n",
    "    POLYLINE,2,DT\n",
    "{DT_points}\n",
    "      DISPLAY-COLOR,1,1,0,0\n",
    "    ATTRIBUTE-SET,1,AttributeSet #1\n",
    "      DISPLAY-COLOR,1,0,0,1\n",
    "    ATTRIBUTE-SET,2,AttributeSet #2\n",
    "      DISPLAY-COLOR,1,1,0,0\n",
    "    SOIL-TYPE,1,Soil #1\n",
    "      DISPLAY-COLOR,1,0,0,1\n",
    "    TYPE-CROSSSECTION,1,LT,{path_cross_section1}\n",
    "      DISPLAY-COLOR,1,0,0,1\n",
    "    TYPE-CROSSSECTION,2,DT,{path_cross_section2}\n",
    "      DISPLAY-COLOR,1,1,0,0\n",
    "  CIRCUIT\n",
    "    PATH-CONSTRUCTION,1,1,2,2,1,1\n",
    "    PATH-CONSTRUCTION,2,1,2,2,2,2\n",
    "    CENTRAL-SITE,CentralSite\n",
    "    TERMINAL,1,Term1\n",
    "      EARTH,{soil_resistence_term1_LT},0,LT,1\n",
    "      EARTH,{soil_resistence_term1_DT},0,DT,2\n",
    "      LINES   \n",
    "{energization_LT}\n",
    "    TERMINAL,2,Term2\n",
    "      EARTH,{soil_resistence_term2_LT},0,LT,1\n",
    "      EARTH,{soil_resistence_term2_DT},0,DT,2\n",
    "      LINES\n",
    "{energization_DT}\n",
    "    PATH,1,Path\n",
    "      CONNECT-SATE-REF,NO\n",
    "    PATH,2,DT\n",
    "      CONNECT-SATE-REF,NO\n",
    "    PHASE-LEAKAGE\n",
    "      DEFAULT-DEFINITION,{file_name}\n",
    "ENDPROGRAM\"\"\""
   ]
  },
  {
   "cell_type": "code",
   "execution_count": 143,
   "metadata": {},
   "outputs": [
    {
     "name": "stdout",
     "output_type": "stream",
     "text": [
      "Content successfully saved to 'C:/Codigos_VS/Projects/PowerApps/results/RC_final.f05'.\n"
     ]
    }
   ],
   "source": [
    "file_name = \"C:/Codigos_VS/Projects/PowerApps/results/RC_final.f05\"\n",
    "save_to_txt_file(file_name, final)"
   ]
  },
  {
   "cell_type": "code",
   "execution_count": null,
   "metadata": {},
   "outputs": [],
   "source": []
  }
 ],
 "metadata": {
  "kernelspec": {
   "display_name": "base",
   "language": "python",
   "name": "python3"
  },
  "language_info": {
   "codemirror_mode": {
    "name": "ipython",
    "version": 3
   },
   "file_extension": ".py",
   "mimetype": "text/x-python",
   "name": "python",
   "nbconvert_exporter": "python",
   "pygments_lexer": "ipython3",
   "version": "3.11.5"
  }
 },
 "nbformat": 4,
 "nbformat_minor": 2
}
