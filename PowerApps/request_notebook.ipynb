{
 "cells": [
  {
   "cell_type": "markdown",
   "metadata": {},
   "source": [
    "### Imports"
   ]
  },
  {
   "cell_type": "code",
   "execution_count": 1,
   "metadata": {},
   "outputs": [],
   "source": [
    "from tools import *\n",
    "import warnings\n",
    "warnings.filterwarnings(\"ignore\")"
   ]
  },
  {
   "cell_type": "markdown",
   "metadata": {},
   "source": [
    "# Requests"
   ]
  },
  {
   "cell_type": "markdown",
   "metadata": {},
   "source": [
    "## API Auto ROW Report Input Session"
   ]
  },
  {
   "cell_type": "markdown",
   "metadata": {},
   "source": [
    "Dados de Usuário"
   ]
  },
  {
   "cell_type": "code",
   "execution_count": 2,
   "metadata": {},
   "outputs": [],
   "source": [
    "user = \"190126230@aluno.unb.br\"\n",
    "password = \"ENG1901me00$$\""
   ]
  },
  {
   "cell_type": "markdown",
   "metadata": {},
   "source": [
    "This function take all the need part to all requests"
   ]
  },
  {
   "cell_type": "code",
   "execution_count": 3,
   "metadata": {},
   "outputs": [
    {
     "name": "stdout",
     "output_type": "stream",
     "text": [
      "https://localhost/?code=0.AQoAoZs17AtjK024M8jm1I-AWYkU-FHuEp5Kqq6iWR9FmH0BAAA.AgABAAIAAAAmoFfGtYxvRrNriQdPKIZ-AgDs_wUA9P86oTGhXlf4U--hAUs4E87Oomyui2gZdB3IwyA6Smc1eXwaQMp7c8cQLhBopS35XHqQwbNaifd6ifKvLCmA1qghwhq5JFHJtbu-h2DOqem0kdiTWzoZXkLZJj18FolvHKFXn1HIEFehDyFp4tyjxdu_L2ZKr5nqS14ajehgKl7fCCjSX4didJhwPL1FB2hOqhXJatRMNqs4gHgkz7x7yCW5aTNuQF2qBN_00EB6rkpFS5EGPwdOKoPzpOOocY2T3-fV2eR8apZiRCTNj_vtaolkTRWYLtrAbV-ImYIcmFAoJ3ULsGlBDI17SeomdBcrb17GPt2k1k03Uam2havrBkv474GzqHJ-uGuIQ5aVeuYYtjYZ1L_wJIk-4d8LXYZ2sXTeiCk0HYII4RbDzk6RPLPfNPjGUZdjVYZEKboCUzlEjp_5syyrAHDj7H36re_ydEtpYNBU1vzbjkeEaTS1kBIHppnwBeADQyH6KhcnYeSFcClxF9Nvo1Pgavg74nt_IO8uuFXwG2qf2U95peNxk0JdBAlICgJGbcnhuZM6PIHQvIfsarg8vITm5auPXvtWWj-ezaU9CUhTT7ktDhjtZRQvLVhXdAitoaL5FE8M1PELQTK73amR740q9C7mqDEZKxs&session_state=bea14231-5003-4a90-b570-73fed0639fee\n",
      "eyJ0eXAiOiJKV1QiLCJhbGciOiJSUzI1NiIsIng1dCI6IjVCM25SeHRRN2ppOGVORGMzRnkwNUtmOTdaRSIsImtpZCI6IjVCM25SeHRRN2ppOGVORGMzRnkwNUtmOTdaRSJ9.eyJhdWQiOiJodHRwczovL29yZzQyNWVlMmNmLmFwaS5jcm0uZHluYW1pY3MuY29tIiwiaXNzIjoiaHR0cHM6Ly9zdHMud2luZG93cy5uZXQvZWMzNTliYTEtNjMwYi00ZDJiLWI4MzMtYzhlNmQ0OGY4MDU5LyIsImlhdCI6MTcwMzM2MjU4NSwibmJmIjoxNzAzMzYyNTg1LCJleHAiOjE3MDMzNjc0NzcsImFjY3QiOjAsImFjciI6IjEiLCJhaW8iOiJBVFFBeS84VkFBQUEyVlYrOGRZZ0ppK3E3aFNXZnAwZVJ0NHN6WGlvYkFUcjJCTm9Mbk8vMnRqYXU5czRjdXZ5cDdWV1RPcXplWGwyIiwiYW1yIjpbInB3ZCJdLCJhcHBpZCI6IjUxZjgxNDg5LTEyZWUtNGE5ZS1hYWFlLWEyNTkxZjQ1OTg3ZCIsImFwcGlkYWNyIjoiMCIsImZhbWlseV9uYW1lIjoiU2FudG9zIExlc3NhIiwiZ2l2ZW5fbmFtZSI6Ikx1Y2FzIiwiaXBhZGRyIjoiMTg5LjM5LjE3OC4yNTQiLCJsb2dpbl9oaW50IjoiTy5DaVE1TTJFMVpUSmlaQzFoWmpJMkxUUTVZbUl0WWpsak9DMDBZV0ZpWW1KaE16QTBaallTSkdWak16VTVZbUV4TFRZek1HSXROR1F5WWkxaU9ETXpMV000WlRaa05EaG1PREExT1JvV01Ua3dNVEkyTWpNd1FHRnNkVzV2TG5WdVlpNWljaUF4IiwibmFtZSI6Ikx1Y2FzIFNhbnRvcyBMZXNzYSIsIm9pZCI6IjkzYTVlMmJkLWFmMjYtNDliYi1iOWM4LTRhYWJiYmEzMDRmNiIsIm9ucHJlbV9zaWQiOiJTLTEtNS0yMS0xNjc1Nzk5NzAtMTcwMjQwMDM5OC0zNTM5NjQ3MzY1LTU0OTI2IiwicHVpZCI6IjEwMDMyMDAwNUZCQzhBOTUiLCJyaCI6IjAuQVFvQW9aczE3QXRqSzAyNE04am0xSS1BV1FjQUFBQUFBQUFBd0FBQUFBQUFBQUFLQUNvLiIsInNjcCI6InVzZXJfaW1wZXJzb25hdGlvbiIsInN1YiI6InRFTUtiTDZhQkR6UGhqbnk5WFlVdDNEOF9WOUNNMEhqUDlnVG9TVUdGa1EiLCJ0ZW5hbnRfcmVnaW9uX3Njb3BlIjoiU0EiLCJ0aWQiOiJlYzM1OWJhMS02MzBiLTRkMmItYjgzMy1jOGU2ZDQ4ZjgwNTkiLCJ1bmlxdWVfbmFtZSI6IjE5MDEyNjIzMEBhbHVuby51bmIuYnIiLCJ1cG4iOiIxOTAxMjYyMzBAYWx1bm8udW5iLmJyIiwidXRpIjoiM0xQZlJqU2hjRVNaZUNYR0tEMnJBUSIsInZlciI6IjEuMCIsIndpZHMiOlsiYjc5ZmJmNGQtM2VmOS00Njg5LTgxNDMtNzZiMTk0ZTg1NTA5Il0sInhtc19jYWUiOiIxIn0.Pjl7RZLPb3uALgnxYDKAr8BSqDpXA-V9PZXkDwR9i5L5lfUdWX2S4El7F_PphBbIS3QBAb_Lm7XXv0QNUqTBn35H3Rsnf0wUaLb_MASM0ReiPFzXW397BCI_rH3riyTO4ncLFJYmwQoFMBl-nGU6xTThoZOUdDg70Ngs_MH3W-sDPEizUHklTwYDKzSN8F48g0-3kmeeFfhSEZaNCY0sVkqR9C4RKJrqEpbuGh-uas1GINuMa-308TNAFboQnX_KxCVCAzvYgRmbvQL_wyA77mAAchArUR1XWU8KkxtBB5AYnMT-mUFavuFMVHoOC27oq7DR8BVchubt4ER4CCp74Q\n"
     ]
    }
   ],
   "source": [
    "access_token, callback_url =  take_request(user, password)"
   ]
  },
  {
   "cell_type": "markdown",
   "metadata": {},
   "source": [
    "### Request Auto ROW"
   ]
  },
  {
   "cell_type": "code",
   "execution_count": 4,
   "metadata": {},
   "outputs": [
    {
     "name": "stdout",
     "output_type": "stream",
     "text": [
      "<Response [200]>\n",
      "{'@odata.context': 'https://org425ee2cf.crm.dynamics.com/api/data/v9.2/$metadata#crddb_autorowreportinputsessions', 'value': [{'@odata.etag': 'W/\"4853583\"', 'crddb_c1b_sep': 0.4, 'crddb_contributionfaultcurrent_term1_mod': 5000.0, '_ownerid_value': 'eade9878-0d57-ee11-be6f-000d3a1f576d', 'crddb_c2a_sep': 0.4, 'crddb_shieldwirevertical2': 24.99, 'crddb_contributionfaultcurrent_term2_phase': 0.0, 'crddb_c2a_alpha': 45.0, 'crddb_spansbeforeemizone': 5, 'statecode': 0, 'modifiedon': '2023-12-23T18:20:37Z', 'crddb_contributionfaultcurrent_term2_mod': 5000.0, 'crddb_targetgroundimpedance_left_x': 0.0, 'crddb_groundimpedance_terminal2_r': 1.0, 'crddb_approxtype': 1, 'crddb_coordinatesfile_source': '23ab9985-027d-ee11-8179-000d3a1f576d', '_crddb_c1c_condtype_value': '72ab56d1-cb92-ee11-be37-000d3a1f576d', '_crddb_sw2_condtype_value': '72ab56d1-cb92-ee11-be37-000d3a1f576d', 'crddb_c2c_alpha': 45.0, 'crddb_coordinatesfile_target': '96c89991-027d-ee11-8179-000d3a1f576d', 'crddb_shieldwirevertical1': 24.99, 'crddb_term1_name': 'Term1', 'crddb_safelimits_bodycurrent': 6.0, 'crddb_c1b_vertical': 18.995, 'crddb_targetlinetype': 1, 'crddb_targetlineowner': 'EmpresaDT', '_crddb_c2c_condtype_value': '72ab56d1-cb92-ee11-be37-000d3a1f576d', '_owninguser_value': 'eade9878-0d57-ee11-be6f-000d3a1f576d', 'crddb_safelimits_rb': 1000.0, '_crddb_c1a_condtype_value': '72ab56d1-cb92-ee11-be37-000d3a1f576d', 'crddb_safelimits_steadystate': 15.0, 'crddb_nominalfaultcurrent_1phase_term1_mod': 4010.0, 'crddb_targetgroundimpedance_right_r': 10.0, 'crddb_c2c_numcond': 4, 'crddb_sourcelineowner': 'EmpresaLT', 'crddb_casedescription': 'Teste cruzamento 45 graus', 'crddb_c1c_vertical': 18.995, 'crddb_interferencetype': 2, 'crddb_term2_name': 'Term2', 'crddb_c2c_horizontal': -28.41, 'crddb_targetgroundimpedance_left_r': 10.0, 'crddb_exposurelength': 2500.0, '_crddb_coating_type_value': '9598ed21-ee98-ee11-be37-000d3a1f576d', '_crddb_pipeconductortype_value': 'f2e82abc-4394-ee11-be37-000d3a1f576d', 'crddb_c2c_sep': 0.4, 'crddb_c1phasesequence': 1, 'crddb_c1a_horizontal': 0.0, 'crddb_c2a_vertical': 19.0, 'crddb_c2b_sep': 0.4, 'crddb_safelimits_rectifier': 1000.0, 'crddb_faultlocation_section': '15', 'crddb_nominalfaultcurrent_1phase_term2_phase': 0.0, 'crddb_coordinatesfile_source_name': 'LT_VM100.csv', 'crddb_mitigation_covermaterialthickness': 0.1, 'crddb_contributionfaultcurrent_term1_phase': 0.0, 'crddb_groundimpedance_terminal2_x': 0.0, 'crddb_c2a_horizontal': 0.0, 'crddb_steadystatecurrent': 670.0, 'crddb_nominalfaultcurrent_1phase_term1_phase': 0.0, 'statuscode': 1, 'createdon': '2023-11-07T00:13:40Z', 'crddb_spansafteremizone': 5, 'crddb_nominalfaultcurrent_3phase_term2_mod': 2370.0, 'crddb_nominalfaultcurrent_3phase_term1_phase': 0.0, 'crddb_crosssection_targety': 1.5, 'crddb_c1c_horizontal': 28.41, 'crddb_linevoltage': 138.0, 'crddb_jobstatus': 1, 'crddb_c1c_numcond': 4, 'crddb_c1a_numcond': 4, 'versionnumber': 4853583, 'crddb_coatingdatathickness': 0.0, 'crddb_jobid': 'ROW-1004L5J9', 'crddb_nominalfaultcurrent_1phase_term2_mod': 4640.0, 'crddb_averagespanlength': 100.0, 'crddb_mitigation_covermaterial': 'Brita nº. 4', 'crddb_targetline': 'Duto teste', '_crddb_faullocationsoilresistivity_value': 'a08a3884-cc92-ee11-be37-000d3a1f576d', '_crddb_projectid_value': '62560189-fe7c-ee11-8179-000d3a1f576d', 'crddb_c1b_alpha': 45.0, '_crddb_sw1_condtype_value': '72ab56d1-cb92-ee11-be37-000d3a1f576d', 'crddb_coatingdataresistivity': 100000000.0, 'crddb_c2a_numcond': 4, 'crddb_shieldwirehorizontal1': 11.25, 'crddb_safelimits_faultduration': 1000.0, 'crddb_coordinatesfile_target_name': 'Gas_VM50_CRUZ_45graus.csv', '_modifiedby_value': 'eade9878-0d57-ee11-be6f-000d3a1f576d', '_crddb_c2a_condtype_value': '72ab56d1-cb92-ee11-be37-000d3a1f576d', 'crddb_pipediameter': 10.0, '_createdby_value': 'eade9878-0d57-ee11-be6f-000d3a1f576d', 'crddb_groundimpedance_terminal1_x': 0.0, 'crddb_circuittype': 2, 'crddb_c1c_sep': 0.4, 'crddb_counterpoiselength': 100.0, 'crddb_groundimpedance_terminal1_r': 1.0, 'crddb_c2b_vertical': 19.0, 'crddb_autorowreportinputsessionid': '55329a7f-027d-ee11-8179-000d3a1f576d', 'crddb_groundimpedance_towers_r': 15.0, '_crddb_c2b_condtype_value': '72ab56d1-cb92-ee11-be37-000d3a1f576d', 'crddb_sourceline': 'Linha teste', 'crddb_c1a_alpha': 45.0, 'crddb_c1c_alpha': 45.0, 'crddb_groundimpedance_towers_x': 0.0, 'crddb_c2phasesequence': 1, 'crddb_c2b_alpha': 45.0, 'crddb_safelimits_insuljoint': 2500.0, 'crddb_safelimits_currdensity': 100.0, 'crddb_shieldwirehorizontal2': 22.5, 'crddb_c2c_vertical': 19.0, 'crddb_c1a_sep': 0.4, '_owningbusinessunit_value': '77cd6714-c7eb-ed11-8849-000d3a17a888', 'crddb_c2b_horizontal': -14.21, 'crddb_faultlocation_epicenter_x': 0.0, 'crddb_faultlocation_epicenter_y': 0.0, 'crddb_mitigation_covermaterialresistivity': 3000.0, 'crddb_c1a_vertical': 18.995, 'crddb_safelimits_coating': 5000.0, '_crddb_c1b_condtype_value': '72ab56d1-cb92-ee11-be37-000d3a1f576d', 'crddb_coatingdatatype': 'PE3L', 'crddb_targetgroundimpedance_right_x': 0.0, 'crddb_c1b_horizontal': 14.205, 'crddb_nominalfaultcurrent_3phase_term2_phase': 0.0, 'importsequencenumber': None, 'utcconversiontimezonecode': None, 'overriddencreatedon': None, 'crddb_nominalfaultcurrent_3phase_term1_mod': None, 'timezoneruleversionnumber': None, '_owningteam_value': None, 'crddb_c2b_numcond': None, '_modifiedonbehalfby_value': None, '_createdonbehalfby_value': None, 'crddb_progress': None, 'crddb_c1b_numcond': None, '_crddb_authorizationticket_value': None}, {'@odata.etag': 'W/\"3602231\"', 'crddb_c1b_sep': None, 'crddb_contributionfaultcurrent_term1_mod': None, '_ownerid_value': '69d46714-c7eb-ed11-8849-000d3a17a888', 'crddb_c2a_sep': None, 'crddb_shieldwirevertical2': None, 'crddb_contributionfaultcurrent_term2_phase': None, 'crddb_c2a_alpha': None, 'crddb_spansbeforeemizone': None, 'statecode': 0, 'modifiedon': '2023-10-07T13:19:50Z', 'crddb_contributionfaultcurrent_term2_mod': None, 'crddb_targetgroundimpedance_left_x': None, 'crddb_groundimpedance_terminal2_r': None, 'crddb_approxtype': 1, 'crddb_coordinatesfile_source': None, '_crddb_c1c_condtype_value': None, '_crddb_sw2_condtype_value': None, 'crddb_c2c_alpha': None, 'crddb_coordinatesfile_target': None, 'crddb_shieldwirevertical1': None, 'crddb_term1_name': None, 'crddb_safelimits_bodycurrent': None, 'crddb_c1b_vertical': None, 'crddb_targetlinetype': None, 'crddb_targetlineowner': None, '_crddb_c2c_condtype_value': None, '_owninguser_value': '69d46714-c7eb-ed11-8849-000d3a17a888', 'crddb_safelimits_rb': None, '_crddb_c1a_condtype_value': None, 'crddb_safelimits_steadystate': None, 'crddb_nominalfaultcurrent_1phase_term1_mod': None, 'crddb_targetgroundimpedance_right_r': None, 'crddb_c2c_numcond': None, 'crddb_sourcelineowner': None, 'crddb_casedescription': 'Caso teste', 'crddb_c1c_vertical': None, 'crddb_interferencetype': 2, 'crddb_term2_name': None, 'crddb_c2c_horizontal': None, 'crddb_targetgroundimpedance_left_r': None, 'crddb_exposurelength': None, '_crddb_coating_type_value': None, '_crddb_pipeconductortype_value': None, 'crddb_c2c_sep': None, 'crddb_c1phasesequence': None, 'crddb_c1a_horizontal': None, 'crddb_c2a_vertical': None, 'crddb_c2b_sep': None, 'crddb_safelimits_rectifier': None, 'crddb_faultlocation_section': None, 'crddb_nominalfaultcurrent_1phase_term2_phase': None, 'crddb_coordinatesfile_source_name': None, 'crddb_mitigation_covermaterialthickness': None, 'crddb_contributionfaultcurrent_term1_phase': None, 'crddb_groundimpedance_terminal2_x': None, 'crddb_c2a_horizontal': None, 'crddb_steadystatecurrent': None, 'crddb_nominalfaultcurrent_1phase_term1_phase': None, 'statuscode': 1, 'createdon': '2023-05-21T18:22:27Z', 'crddb_spansafteremizone': None, 'crddb_nominalfaultcurrent_3phase_term2_mod': None, 'crddb_nominalfaultcurrent_3phase_term1_phase': None, 'crddb_crosssection_targety': None, 'crddb_c1c_horizontal': None, 'crddb_linevoltage': None, 'crddb_jobstatus': 4, 'crddb_c1c_numcond': None, 'crddb_c1a_numcond': None, 'versionnumber': 3602231, 'crddb_coatingdatathickness': None, 'crddb_jobid': 'ROW-1002L5M5', 'crddb_nominalfaultcurrent_1phase_term2_mod': None, 'crddb_averagespanlength': None, 'crddb_mitigation_covermaterial': None, 'crddb_targetline': None, '_crddb_faullocationsoilresistivity_value': None, '_crddb_projectid_value': '2018e5fb-e8f7-ed11-8848-000d3a1f576d', 'crddb_c1b_alpha': None, '_crddb_sw1_condtype_value': None, 'crddb_coatingdataresistivity': None, 'crddb_c2a_numcond': None, 'crddb_shieldwirehorizontal1': None, 'crddb_safelimits_faultduration': None, 'crddb_coordinatesfile_target_name': None, '_modifiedby_value': 'eade9878-0d57-ee11-be6f-000d3a1f576d', '_crddb_c2a_condtype_value': None, 'crddb_pipediameter': None, '_createdby_value': '69d46714-c7eb-ed11-8849-000d3a17a888', 'crddb_groundimpedance_terminal1_x': None, 'crddb_circuittype': None, 'crddb_c1c_sep': None, 'crddb_counterpoiselength': None, 'crddb_groundimpedance_terminal1_r': None, 'crddb_c2b_vertical': None, 'crddb_autorowreportinputsessionid': '7451df6f-04f8-ed11-8848-000d3a1f576d', 'crddb_groundimpedance_towers_r': None, '_crddb_c2b_condtype_value': None, 'crddb_sourceline': 'Source', 'crddb_c1a_alpha': None, 'crddb_c1c_alpha': None, 'crddb_groundimpedance_towers_x': None, 'crddb_c2phasesequence': None, 'crddb_c2b_alpha': None, 'crddb_safelimits_insuljoint': None, 'crddb_safelimits_currdensity': None, 'crddb_shieldwirehorizontal2': None, 'crddb_c2c_vertical': None, 'crddb_c1a_sep': None, '_owningbusinessunit_value': '77cd6714-c7eb-ed11-8849-000d3a17a888', 'crddb_c2b_horizontal': None, 'crddb_faultlocation_epicenter_x': None, 'crddb_faultlocation_epicenter_y': None, 'crddb_mitigation_covermaterialresistivity': None, 'crddb_c1a_vertical': None, 'crddb_safelimits_coating': None, '_crddb_c1b_condtype_value': None, 'crddb_coatingdatatype': None, 'crddb_targetgroundimpedance_right_x': None, 'crddb_c1b_horizontal': None, 'crddb_nominalfaultcurrent_3phase_term2_phase': None, 'importsequencenumber': None, 'utcconversiontimezonecode': None, 'overriddencreatedon': None, 'crddb_nominalfaultcurrent_3phase_term1_mod': None, 'timezoneruleversionnumber': None, '_owningteam_value': None, 'crddb_c2b_numcond': None, '_modifiedonbehalfby_value': None, '_createdonbehalfby_value': None, 'crddb_progress': 50, 'crddb_c1b_numcond': None, '_crddb_authorizationticket_value': None}]}\n"
     ]
    },
    {
     "data": {
      "text/html": [
       "<div>\n",
       "<style scoped>\n",
       "    .dataframe tbody tr th:only-of-type {\n",
       "        vertical-align: middle;\n",
       "    }\n",
       "\n",
       "    .dataframe tbody tr th {\n",
       "        vertical-align: top;\n",
       "    }\n",
       "\n",
       "    .dataframe thead th {\n",
       "        text-align: right;\n",
       "    }\n",
       "</style>\n",
       "<table border=\"1\" class=\"dataframe\">\n",
       "  <thead>\n",
       "    <tr style=\"text-align: right;\">\n",
       "      <th></th>\n",
       "      <th>@odata.etag</th>\n",
       "      <th>crddb_c1b_sep</th>\n",
       "      <th>crddb_contributionfaultcurrent_term1_mod</th>\n",
       "      <th>_ownerid_value</th>\n",
       "      <th>crddb_c2a_sep</th>\n",
       "      <th>crddb_shieldwirevertical2</th>\n",
       "      <th>crddb_contributionfaultcurrent_term2_phase</th>\n",
       "      <th>crddb_c2a_alpha</th>\n",
       "      <th>crddb_spansbeforeemizone</th>\n",
       "      <th>statecode</th>\n",
       "      <th>...</th>\n",
       "      <th>overriddencreatedon</th>\n",
       "      <th>crddb_nominalfaultcurrent_3phase_term1_mod</th>\n",
       "      <th>timezoneruleversionnumber</th>\n",
       "      <th>_owningteam_value</th>\n",
       "      <th>crddb_c2b_numcond</th>\n",
       "      <th>_modifiedonbehalfby_value</th>\n",
       "      <th>_createdonbehalfby_value</th>\n",
       "      <th>crddb_progress</th>\n",
       "      <th>crddb_c1b_numcond</th>\n",
       "      <th>_crddb_authorizationticket_value</th>\n",
       "    </tr>\n",
       "    <tr>\n",
       "      <th>crddb_autorowreportinputsessionid</th>\n",
       "      <th></th>\n",
       "      <th></th>\n",
       "      <th></th>\n",
       "      <th></th>\n",
       "      <th></th>\n",
       "      <th></th>\n",
       "      <th></th>\n",
       "      <th></th>\n",
       "      <th></th>\n",
       "      <th></th>\n",
       "      <th></th>\n",
       "      <th></th>\n",
       "      <th></th>\n",
       "      <th></th>\n",
       "      <th></th>\n",
       "      <th></th>\n",
       "      <th></th>\n",
       "      <th></th>\n",
       "      <th></th>\n",
       "      <th></th>\n",
       "      <th></th>\n",
       "    </tr>\n",
       "  </thead>\n",
       "  <tbody>\n",
       "    <tr>\n",
       "      <th>55329a7f-027d-ee11-8179-000d3a1f576d</th>\n",
       "      <td>W/\"4853583\"</td>\n",
       "      <td>0.4</td>\n",
       "      <td>5000.0</td>\n",
       "      <td>eade9878-0d57-ee11-be6f-000d3a1f576d</td>\n",
       "      <td>0.4</td>\n",
       "      <td>24.99</td>\n",
       "      <td>0.0</td>\n",
       "      <td>45.0</td>\n",
       "      <td>5.0</td>\n",
       "      <td>0</td>\n",
       "      <td>...</td>\n",
       "      <td>None</td>\n",
       "      <td>None</td>\n",
       "      <td>None</td>\n",
       "      <td>None</td>\n",
       "      <td>None</td>\n",
       "      <td>None</td>\n",
       "      <td>None</td>\n",
       "      <td>NaN</td>\n",
       "      <td>None</td>\n",
       "      <td>None</td>\n",
       "    </tr>\n",
       "    <tr>\n",
       "      <th>7451df6f-04f8-ed11-8848-000d3a1f576d</th>\n",
       "      <td>W/\"3602231\"</td>\n",
       "      <td>NaN</td>\n",
       "      <td>NaN</td>\n",
       "      <td>69d46714-c7eb-ed11-8849-000d3a17a888</td>\n",
       "      <td>NaN</td>\n",
       "      <td>NaN</td>\n",
       "      <td>NaN</td>\n",
       "      <td>NaN</td>\n",
       "      <td>NaN</td>\n",
       "      <td>0</td>\n",
       "      <td>...</td>\n",
       "      <td>None</td>\n",
       "      <td>None</td>\n",
       "      <td>None</td>\n",
       "      <td>None</td>\n",
       "      <td>None</td>\n",
       "      <td>None</td>\n",
       "      <td>None</td>\n",
       "      <td>50.0</td>\n",
       "      <td>None</td>\n",
       "      <td>None</td>\n",
       "    </tr>\n",
       "  </tbody>\n",
       "</table>\n",
       "<p>2 rows × 133 columns</p>\n",
       "</div>"
      ],
      "text/plain": [
       "                                      @odata.etag  crddb_c1b_sep  \\\n",
       "crddb_autorowreportinputsessionid                                  \n",
       "55329a7f-027d-ee11-8179-000d3a1f576d  W/\"4853583\"            0.4   \n",
       "7451df6f-04f8-ed11-8848-000d3a1f576d  W/\"3602231\"            NaN   \n",
       "\n",
       "                                      crddb_contributionfaultcurrent_term1_mod  \\\n",
       "crddb_autorowreportinputsessionid                                                \n",
       "55329a7f-027d-ee11-8179-000d3a1f576d                                    5000.0   \n",
       "7451df6f-04f8-ed11-8848-000d3a1f576d                                       NaN   \n",
       "\n",
       "                                                            _ownerid_value  \\\n",
       "crddb_autorowreportinputsessionid                                            \n",
       "55329a7f-027d-ee11-8179-000d3a1f576d  eade9878-0d57-ee11-be6f-000d3a1f576d   \n",
       "7451df6f-04f8-ed11-8848-000d3a1f576d  69d46714-c7eb-ed11-8849-000d3a17a888   \n",
       "\n",
       "                                      crddb_c2a_sep  \\\n",
       "crddb_autorowreportinputsessionid                     \n",
       "55329a7f-027d-ee11-8179-000d3a1f576d            0.4   \n",
       "7451df6f-04f8-ed11-8848-000d3a1f576d            NaN   \n",
       "\n",
       "                                      crddb_shieldwirevertical2  \\\n",
       "crddb_autorowreportinputsessionid                                 \n",
       "55329a7f-027d-ee11-8179-000d3a1f576d                      24.99   \n",
       "7451df6f-04f8-ed11-8848-000d3a1f576d                        NaN   \n",
       "\n",
       "                                      crddb_contributionfaultcurrent_term2_phase  \\\n",
       "crddb_autorowreportinputsessionid                                                  \n",
       "55329a7f-027d-ee11-8179-000d3a1f576d                                         0.0   \n",
       "7451df6f-04f8-ed11-8848-000d3a1f576d                                         NaN   \n",
       "\n",
       "                                      crddb_c2a_alpha  \\\n",
       "crddb_autorowreportinputsessionid                       \n",
       "55329a7f-027d-ee11-8179-000d3a1f576d             45.0   \n",
       "7451df6f-04f8-ed11-8848-000d3a1f576d              NaN   \n",
       "\n",
       "                                      crddb_spansbeforeemizone  statecode  \\\n",
       "crddb_autorowreportinputsessionid                                           \n",
       "55329a7f-027d-ee11-8179-000d3a1f576d                       5.0          0   \n",
       "7451df6f-04f8-ed11-8848-000d3a1f576d                       NaN          0   \n",
       "\n",
       "                                      ... overriddencreatedon  \\\n",
       "crddb_autorowreportinputsessionid     ...                       \n",
       "55329a7f-027d-ee11-8179-000d3a1f576d  ...                None   \n",
       "7451df6f-04f8-ed11-8848-000d3a1f576d  ...                None   \n",
       "\n",
       "                                      crddb_nominalfaultcurrent_3phase_term1_mod  \\\n",
       "crddb_autorowreportinputsessionid                                                  \n",
       "55329a7f-027d-ee11-8179-000d3a1f576d                                        None   \n",
       "7451df6f-04f8-ed11-8848-000d3a1f576d                                        None   \n",
       "\n",
       "                                      timezoneruleversionnumber  \\\n",
       "crddb_autorowreportinputsessionid                                 \n",
       "55329a7f-027d-ee11-8179-000d3a1f576d                       None   \n",
       "7451df6f-04f8-ed11-8848-000d3a1f576d                       None   \n",
       "\n",
       "                                      _owningteam_value  crddb_c2b_numcond  \\\n",
       "crddb_autorowreportinputsessionid                                            \n",
       "55329a7f-027d-ee11-8179-000d3a1f576d               None               None   \n",
       "7451df6f-04f8-ed11-8848-000d3a1f576d               None               None   \n",
       "\n",
       "                                     _modifiedonbehalfby_value  \\\n",
       "crddb_autorowreportinputsessionid                                \n",
       "55329a7f-027d-ee11-8179-000d3a1f576d                      None   \n",
       "7451df6f-04f8-ed11-8848-000d3a1f576d                      None   \n",
       "\n",
       "                                     _createdonbehalfby_value crddb_progress  \\\n",
       "crddb_autorowreportinputsessionid                                              \n",
       "55329a7f-027d-ee11-8179-000d3a1f576d                     None            NaN   \n",
       "7451df6f-04f8-ed11-8848-000d3a1f576d                     None           50.0   \n",
       "\n",
       "                                      crddb_c1b_numcond  \\\n",
       "crddb_autorowreportinputsessionid                         \n",
       "55329a7f-027d-ee11-8179-000d3a1f576d               None   \n",
       "7451df6f-04f8-ed11-8848-000d3a1f576d               None   \n",
       "\n",
       "                                     _crddb_authorizationticket_value  \n",
       "crddb_autorowreportinputsessionid                                      \n",
       "55329a7f-027d-ee11-8179-000d3a1f576d                             None  \n",
       "7451df6f-04f8-ed11-8848-000d3a1f576d                             None  \n",
       "\n",
       "[2 rows x 133 columns]"
      ]
     },
     "execution_count": 4,
     "metadata": {},
     "output_type": "execute_result"
    }
   ],
   "source": [
    "# Make authenticated request\n",
    "data = request_autorow(access_token)\n",
    "print(data)\n",
    "data_df = pd.DataFrame(data['value'])\n",
    "data_df.set_index(\"crddb_autorowreportinputsessionid\", inplace = True)\n",
    "data_df"
   ]
  },
  {
   "cell_type": "code",
   "execution_count": 5,
   "metadata": {},
   "outputs": [
    {
     "name": "stdout",
     "output_type": "stream",
     "text": [
      "The dataset does not have columns with the same names.\n"
     ]
    }
   ],
   "source": [
    "_ = check_equal_columns(data_df)"
   ]
  },
  {
   "cell_type": "markdown",
   "metadata": {},
   "source": [
    "## API Files Auto ROW Report"
   ]
  },
  {
   "cell_type": "code",
   "execution_count": 6,
   "metadata": {},
   "outputs": [
    {
     "data": {
      "text/plain": [
       "['55329a7f-027d-ee11-8179-000d3a1f576d',\n",
       " '7451df6f-04f8-ed11-8848-000d3a1f576d']"
      ]
     },
     "execution_count": 6,
     "metadata": {},
     "output_type": "execute_result"
    }
   ],
   "source": [
    "id_projects = list(data_df.index)\n",
    "name_target = list(data_df['crddb_coordinatesfile_target_name'])\n",
    "name_source = list(data_df['crddb_coordinatesfile_source_name'])\n",
    "id_projects"
   ]
  },
  {
   "cell_type": "code",
   "execution_count": 7,
   "metadata": {},
   "outputs": [
    {
     "name": "stdout",
     "output_type": "stream",
     "text": [
      "File downloaded successfully.\n",
      "File downloaded successfully.\n",
      "Failed to download the file. Status code: 404\n",
      "Failed to download the file. Status code: 404\n"
     ]
    }
   ],
   "source": [
    "for i, target, source in zip(id_projects, name_target, name_source):\n",
    "    downloaded_file(i, 'target', target, access_token)\n",
    "    downloaded_file(i, 'source', source, access_token)\n",
    "        "
   ]
  },
  {
   "cell_type": "markdown",
   "metadata": {},
   "source": [
    "## API Conductors LookUp"
   ]
  },
  {
   "cell_type": "markdown",
   "metadata": {},
   "source": [
    "### Columns LookUps in Auto ROW"
   ]
  },
  {
   "cell_type": "code",
   "execution_count": 8,
   "metadata": {},
   "outputs": [],
   "source": [
    "col_lookup_c1 = ['_crddb_c1a_condtype_value', '_crddb_c1b_condtype_value', '_crddb_c1c_condtype_value']\n",
    "\n",
    "col_lookup_c2 = ['_crddb_c2a_condtype_value', '_crddb_c2b_condtype_value', '_crddb_c2c_condtype_value',\n",
    "                                                '_crddb_sw1_condtype_value', '_crddb_sw2_condtype_value']\n",
    "\n",
    "col_lookup_sw = ['_crddb_sw1_condtype_value', '_crddb_sw2_condtype_value']\n",
    "\n",
    "col_lookup_dt = ['_crddb_pipeconductortype_value']"
   ]
  },
  {
   "cell_type": "code",
   "execution_count": 9,
   "metadata": {},
   "outputs": [
    {
     "data": {
      "text/plain": [
       "{'_crddb_pipeconductortype_value': ['f2e82abc-4394-ee11-be37-000d3a1f576d',\n",
       "  None]}"
      ]
     },
     "execution_count": 9,
     "metadata": {},
     "output_type": "execute_result"
    }
   ],
   "source": [
    "lookup_c1 = data_df[col_lookup_c1].to_dict(orient='list')\n",
    "lookup_c2 = data_df[col_lookup_c2].to_dict(orient='list')\n",
    "lookup_sw = data_df[col_lookup_sw].to_dict(orient='list')\n",
    "lookup_dt = data_df[col_lookup_dt].to_dict(orient='list')\n",
    "lookup_dt # Lembrando que o index são os projetos"
   ]
  },
  {
   "cell_type": "code",
   "execution_count": 10,
   "metadata": {},
   "outputs": [
    {
     "data": {
      "text/plain": [
       "'72ab56d1-cb92-ee11-be37-000d3a1f576d'"
      ]
     },
     "execution_count": 10,
     "metadata": {},
     "output_type": "execute_result"
    }
   ],
   "source": [
    "lookup_c1[\"_crddb_c1a_condtype_value\"][0]"
   ]
  },
  {
   "cell_type": "markdown",
   "metadata": {},
   "source": [
    "### Request Conductors - crddb_conductor"
   ]
  },
  {
   "cell_type": "code",
   "execution_count": 11,
   "metadata": {},
   "outputs": [
    {
     "name": "stdout",
     "output_type": "stream",
     "text": [
      "{'@odata.context': 'https://org425ee2cf.crm.dynamics.com/api/data/v9.2/$metadata#crddb_conductors', 'value': [{'@odata.etag': 'W/\"4450795\"', 'crddb_name': 'Name_Conductor', 'crddb_conductorid': 'e3dbcae1-6085-ee11-8179-000d3a1f576d', '_owningbusinessunit_value': '77cd6714-c7eb-ed11-8849-000d3a17a888', 'statecode': 0, 'statuscode': 1, '_createdby_value': 'eade9878-0d57-ee11-be6f-000d3a1f576d', '_ownerid_value': 'eade9878-0d57-ee11-be6f-000d3a1f576d', 'modifiedon': '2023-11-17T15:49:26Z', '_owninguser_value': 'eade9878-0d57-ee11-be6f-000d3a1f576d', '_modifiedby_value': 'eade9878-0d57-ee11-be6f-000d3a1f576d', 'versionnumber': 4450795, 'createdon': '2023-11-17T15:49:26Z', 'crddb_cross_section': None, 'crddb_ac_resistence': None, 'overriddencreatedon': None, 'importsequencenumber': None, '_modifiedonbehalfby_value': None, 'crddb_resistivity': None, 'utcconversiontimezonecode': None, 'crddb_outerradius': None, '_createdonbehalfby_value': None, 'crddb_innerradius': None, 'crddb_dc_resistance': None, 'crddb_relativepermeability': None, 'crddb_gmr': None, '_owningteam_value': None, 'timezoneruleversionnumber': None}, {'@odata.etag': 'W/\"4504706\"', 'crddb_name': 'Grosbeak', 'crddb_conductorid': '72ab56d1-cb92-ee11-be37-000d3a1f576d', '_owningbusinessunit_value': '77cd6714-c7eb-ed11-8849-000d3a17a888', 'statecode': 0, 'statuscode': 1, '_createdby_value': 'eade9878-0d57-ee11-be6f-000d3a1f576d', '_ownerid_value': 'eade9878-0d57-ee11-be6f-000d3a1f576d', 'modifiedon': '2023-12-04T17:37:40Z', '_owninguser_value': 'eade9878-0d57-ee11-be6f-000d3a1f576d', '_modifiedby_value': 'eade9878-0d57-ee11-be6f-000d3a1f576d', 'versionnumber': 4504706, 'createdon': '2023-12-04T17:37:40Z', 'crddb_cross_section': 636.0, 'crddb_ac_resistence': 0.0922114998, 'overriddencreatedon': None, 'importsequencenumber': None, '_modifiedonbehalfby_value': None, 'crddb_resistivity': 2.2816646099, 'utcconversiontimezonecode': None, 'crddb_outerradius': 0.0125705004, '_createdonbehalfby_value': None, 'crddb_innerradius': 0.0046354998, 'crddb_dc_resistance': 0.0917143971, 'crddb_relativepermeability': 1.0643444061, 'crddb_gmr': 0.0102108, '_owningteam_value': None, 'timezoneruleversionnumber': None}, {'@odata.etag': 'W/\"4719441\"', 'crddb_name': 'Pipes-Steel_10\" 140', 'crddb_conductorid': 'f2e82abc-4394-ee11-be37-000d3a1f576d', '_owningbusinessunit_value': '77cd6714-c7eb-ed11-8849-000d3a17a888', 'statecode': 0, 'statuscode': 1, '_createdby_value': 'eade9878-0d57-ee11-be6f-000d3a1f576d', '_ownerid_value': 'eade9878-0d57-ee11-be6f-000d3a1f576d', 'modifiedon': '2023-12-12T19:49:23Z', '_owninguser_value': 'eade9878-0d57-ee11-be6f-000d3a1f576d', '_modifiedby_value': 'eade9878-0d57-ee11-be6f-000d3a1f576d', 'versionnumber': 4719441, 'createdon': '2023-12-06T14:28:41Z', 'crddb_cross_section': 100.7999725342, 'crddb_ac_resistence': 3.4231300354, 'overriddencreatedon': None, 'importsequencenumber': None, '_modifiedonbehalfby_value': None, 'crddb_resistivity': 10.0, 'utcconversiontimezonecode': None, 'crddb_outerradius': 0.4479166868, '_createdonbehalfby_value': None, 'crddb_innerradius': 0.3645833355, 'crddb_dc_resistance': None, 'crddb_relativepermeability': 300.0, 'crddb_gmr': None, '_owningteam_value': None, 'timezoneruleversionnumber': None}]}\n",
      "Request Done.\n"
     ]
    }
   ],
   "source": [
    "data_cond = request_conductors(access_token)"
   ]
  },
  {
   "cell_type": "code",
   "execution_count": 12,
   "metadata": {},
   "outputs": [
    {
     "data": {
      "text/html": [
       "<div>\n",
       "<style scoped>\n",
       "    .dataframe tbody tr th:only-of-type {\n",
       "        vertical-align: middle;\n",
       "    }\n",
       "\n",
       "    .dataframe tbody tr th {\n",
       "        vertical-align: top;\n",
       "    }\n",
       "\n",
       "    .dataframe thead th {\n",
       "        text-align: right;\n",
       "    }\n",
       "</style>\n",
       "<table border=\"1\" class=\"dataframe\">\n",
       "  <thead>\n",
       "    <tr style=\"text-align: right;\">\n",
       "      <th></th>\n",
       "      <th>crddb_name</th>\n",
       "      <th>crddb_name</th>\n",
       "      <th>crddb_cross_section</th>\n",
       "      <th>crddb_ac_resistence</th>\n",
       "      <th>crddb_resistivity</th>\n",
       "      <th>crddb_outerradius</th>\n",
       "      <th>crddb_innerradius</th>\n",
       "      <th>crddb_dc_resistance</th>\n",
       "      <th>crddb_relativepermeability</th>\n",
       "      <th>crddb_gmr</th>\n",
       "    </tr>\n",
       "    <tr>\n",
       "      <th>crddb_conductorid</th>\n",
       "      <th></th>\n",
       "      <th></th>\n",
       "      <th></th>\n",
       "      <th></th>\n",
       "      <th></th>\n",
       "      <th></th>\n",
       "      <th></th>\n",
       "      <th></th>\n",
       "      <th></th>\n",
       "      <th></th>\n",
       "    </tr>\n",
       "  </thead>\n",
       "  <tbody>\n",
       "    <tr>\n",
       "      <th>e3dbcae1-6085-ee11-8179-000d3a1f576d</th>\n",
       "      <td>Name_Conductor</td>\n",
       "      <td>Name_Conductor</td>\n",
       "      <td>NaN</td>\n",
       "      <td>NaN</td>\n",
       "      <td>NaN</td>\n",
       "      <td>NaN</td>\n",
       "      <td>NaN</td>\n",
       "      <td>NaN</td>\n",
       "      <td>NaN</td>\n",
       "      <td>NaN</td>\n",
       "    </tr>\n",
       "    <tr>\n",
       "      <th>72ab56d1-cb92-ee11-be37-000d3a1f576d</th>\n",
       "      <td>Grosbeak</td>\n",
       "      <td>Grosbeak</td>\n",
       "      <td>636.000000</td>\n",
       "      <td>0.092211</td>\n",
       "      <td>2.281665</td>\n",
       "      <td>0.012571</td>\n",
       "      <td>0.004635</td>\n",
       "      <td>0.091714</td>\n",
       "      <td>1.064344</td>\n",
       "      <td>0.010211</td>\n",
       "    </tr>\n",
       "    <tr>\n",
       "      <th>f2e82abc-4394-ee11-be37-000d3a1f576d</th>\n",
       "      <td>Pipes-Steel_10\" 140</td>\n",
       "      <td>Pipes-Steel_10\" 140</td>\n",
       "      <td>100.799973</td>\n",
       "      <td>3.423130</td>\n",
       "      <td>10.000000</td>\n",
       "      <td>0.447917</td>\n",
       "      <td>0.364583</td>\n",
       "      <td>NaN</td>\n",
       "      <td>300.000000</td>\n",
       "      <td>NaN</td>\n",
       "    </tr>\n",
       "  </tbody>\n",
       "</table>\n",
       "</div>"
      ],
      "text/plain": [
       "                                               crddb_name  \\\n",
       "crddb_conductorid                                           \n",
       "e3dbcae1-6085-ee11-8179-000d3a1f576d       Name_Conductor   \n",
       "72ab56d1-cb92-ee11-be37-000d3a1f576d             Grosbeak   \n",
       "f2e82abc-4394-ee11-be37-000d3a1f576d  Pipes-Steel_10\" 140   \n",
       "\n",
       "                                               crddb_name  \\\n",
       "crddb_conductorid                                           \n",
       "e3dbcae1-6085-ee11-8179-000d3a1f576d       Name_Conductor   \n",
       "72ab56d1-cb92-ee11-be37-000d3a1f576d             Grosbeak   \n",
       "f2e82abc-4394-ee11-be37-000d3a1f576d  Pipes-Steel_10\" 140   \n",
       "\n",
       "                                      crddb_cross_section  \\\n",
       "crddb_conductorid                                           \n",
       "e3dbcae1-6085-ee11-8179-000d3a1f576d                  NaN   \n",
       "72ab56d1-cb92-ee11-be37-000d3a1f576d           636.000000   \n",
       "f2e82abc-4394-ee11-be37-000d3a1f576d           100.799973   \n",
       "\n",
       "                                      crddb_ac_resistence  crddb_resistivity  \\\n",
       "crddb_conductorid                                                              \n",
       "e3dbcae1-6085-ee11-8179-000d3a1f576d                  NaN                NaN   \n",
       "72ab56d1-cb92-ee11-be37-000d3a1f576d             0.092211           2.281665   \n",
       "f2e82abc-4394-ee11-be37-000d3a1f576d             3.423130          10.000000   \n",
       "\n",
       "                                      crddb_outerradius  crddb_innerradius  \\\n",
       "crddb_conductorid                                                            \n",
       "e3dbcae1-6085-ee11-8179-000d3a1f576d                NaN                NaN   \n",
       "72ab56d1-cb92-ee11-be37-000d3a1f576d           0.012571           0.004635   \n",
       "f2e82abc-4394-ee11-be37-000d3a1f576d           0.447917           0.364583   \n",
       "\n",
       "                                      crddb_dc_resistance  \\\n",
       "crddb_conductorid                                           \n",
       "e3dbcae1-6085-ee11-8179-000d3a1f576d                  NaN   \n",
       "72ab56d1-cb92-ee11-be37-000d3a1f576d             0.091714   \n",
       "f2e82abc-4394-ee11-be37-000d3a1f576d                  NaN   \n",
       "\n",
       "                                      crddb_relativepermeability  crddb_gmr  \n",
       "crddb_conductorid                                                            \n",
       "e3dbcae1-6085-ee11-8179-000d3a1f576d                         NaN        NaN  \n",
       "72ab56d1-cb92-ee11-be37-000d3a1f576d                    1.064344   0.010211  \n",
       "f2e82abc-4394-ee11-be37-000d3a1f576d                  300.000000        NaN  "
      ]
     },
     "execution_count": 12,
     "metadata": {},
     "output_type": "execute_result"
    }
   ],
   "source": [
    "cond_columns = ['crddb_name'         , 'crddb_name'                , 'crddb_conductorid', 'crddb_cross_section',\n",
    "                'crddb_ac_resistence', 'crddb_resistivity'         , 'crddb_outerradius', 'crddb_innerradius'  ,\n",
    "                'crddb_dc_resistance', 'crddb_relativepermeability', 'crddb_gmr']\n",
    "cond_df = df_columns(data_cond, cond_columns)\n",
    "cond_df.set_index('crddb_conductorid', inplace=True)\n",
    "cond_df"
   ]
  },
  {
   "cell_type": "code",
   "execution_count": 13,
   "metadata": {},
   "outputs": [
    {
     "data": {
      "text/plain": [
       "{'crddb_name': 'Name_Conductor',\n",
       " 'crddb_cross_section': nan,\n",
       " 'crddb_ac_resistence': nan,\n",
       " 'crddb_resistivity': nan,\n",
       " 'crddb_outerradius': nan,\n",
       " 'crddb_innerradius': nan,\n",
       " 'crddb_dc_resistance': nan,\n",
       " 'crddb_relativepermeability': nan,\n",
       " 'crddb_gmr': nan}"
      ]
     },
     "execution_count": 13,
     "metadata": {},
     "output_type": "execute_result"
    }
   ],
   "source": [
    "row_dict = cond_df.iloc[0].to_dict()\n",
    "row_dict"
   ]
  },
  {
   "cell_type": "markdown",
   "metadata": {},
   "source": [
    "## API Soil Fit"
   ]
  },
  {
   "cell_type": "markdown",
   "metadata": {},
   "source": [
    "### Request Soil Fit"
   ]
  },
  {
   "cell_type": "code",
   "execution_count": 14,
   "metadata": {},
   "outputs": [
    {
     "name": "stdout",
     "output_type": "stream",
     "text": [
      "{'@odata.context': 'https://org425ee2cf.crm.dynamics.com/api/data/v9.2/$metadata#crddb_soilfitinputsessions', 'value': [{'@odata.etag': 'W/\"4131965\"', '_owningbusinessunit_value': '77cd6714-c7eb-ed11-8849-000d3a17a888', 'crddb_type': 2, 'crddb_jobid': 'SFT-1002Q5M7', 'crddb_measurementmethod': 1, 'statecode': 0, 'statuscode': 1, 'crddb_soilfitinputsessionid': '25578596-fe7c-ee11-8179-000d3a1f576d', '_createdby_value': 'eade9878-0d57-ee11-be6f-000d3a1f576d', '_ownerid_value': 'eade9878-0d57-ee11-be6f-000d3a1f576d', 'modifiedon': '2023-11-06T23:45:43Z', '_owninguser_value': 'eade9878-0d57-ee11-be6f-000d3a1f576d', '_modifiedby_value': 'eade9878-0d57-ee11-be6f-000d3a1f576d', 'crddb_status': 1, 'versionnumber': 4131965, 'crddb_casedescription': 'Projeto Teste', 'createdon': '2023-11-06T23:45:43Z', '_crddb_projectid_value': '62560189-fe7c-ee11-8179-000d3a1f576d', 'overriddencreatedon': None, 'importsequencenumber': None, '_modifiedonbehalfby_value': None, 'utcconversiontimezonecode': None, '_createdonbehalfby_value': None, 'crddb_progress': None, '_owningteam_value': None, 'timezoneruleversionnumber': None}, {'@odata.etag': 'W/\"3636972\"', '_owningbusinessunit_value': '77cd6714-c7eb-ed11-8849-000d3a17a888', 'crddb_type': 2, 'crddb_jobid': 'SFT-1001P2D2', 'crddb_measurementmethod': None, 'statecode': 0, 'statuscode': 1, 'crddb_soilfitinputsessionid': '8791b844-b566-ee11-9ae7-000d3a1f576d', '_createdby_value': '69d46714-c7eb-ed11-8849-000d3a17a888', '_ownerid_value': '69d46714-c7eb-ed11-8849-000d3a17a888', 'modifiedon': '2023-10-09T15:05:29Z', '_owninguser_value': '69d46714-c7eb-ed11-8849-000d3a17a888', '_modifiedby_value': '69d46714-c7eb-ed11-8849-000d3a17a888', 'crddb_status': 1, 'versionnumber': 3636972, 'crddb_casedescription': 'teste', 'createdon': '2023-10-09T15:05:29Z', '_crddb_projectid_value': '2018e5fb-e8f7-ed11-8848-000d3a1f576d', 'overriddencreatedon': None, 'importsequencenumber': None, '_modifiedonbehalfby_value': None, 'utcconversiontimezonecode': None, '_createdonbehalfby_value': None, 'crddb_progress': None, '_owningteam_value': None, 'timezoneruleversionnumber': None}, {'@odata.etag': 'W/\"4504717\"', '_owningbusinessunit_value': '77cd6714-c7eb-ed11-8849-000d3a17a888', 'crddb_type': 2, 'crddb_jobid': 'SFT-1003M6C9', 'crddb_measurementmethod': 1, 'statecode': 0, 'statuscode': 1, 'crddb_soilfitinputsessionid': 'a08a3884-cc92-ee11-be37-000d3a1f576d', '_createdby_value': 'eade9878-0d57-ee11-be6f-000d3a1f576d', '_ownerid_value': 'eade9878-0d57-ee11-be6f-000d3a1f576d', 'modifiedon': '2023-12-04T17:42:44Z', '_owninguser_value': 'eade9878-0d57-ee11-be6f-000d3a1f576d', '_modifiedby_value': 'eade9878-0d57-ee11-be6f-000d3a1f576d', 'crddb_status': 1, 'versionnumber': 4504717, 'crddb_casedescription': 'Dummy SoilFit', 'createdon': '2023-12-04T17:42:44Z', '_crddb_projectid_value': '62560189-fe7c-ee11-8179-000d3a1f576d', 'overriddencreatedon': None, 'importsequencenumber': None, '_modifiedonbehalfby_value': None, 'utcconversiontimezonecode': None, '_createdonbehalfby_value': None, 'crddb_progress': None, '_owningteam_value': None, 'timezoneruleversionnumber': None}]}\n",
      "Request Done.\n"
     ]
    }
   ],
   "source": [
    "data_soil = request_soil(access_token)"
   ]
  },
  {
   "cell_type": "code",
   "execution_count": 15,
   "metadata": {},
   "outputs": [
    {
     "data": {
      "text/html": [
       "<div>\n",
       "<style scoped>\n",
       "    .dataframe tbody tr th:only-of-type {\n",
       "        vertical-align: middle;\n",
       "    }\n",
       "\n",
       "    .dataframe tbody tr th {\n",
       "        vertical-align: top;\n",
       "    }\n",
       "\n",
       "    .dataframe thead th {\n",
       "        text-align: right;\n",
       "    }\n",
       "</style>\n",
       "<table border=\"1\" class=\"dataframe\">\n",
       "  <thead>\n",
       "    <tr style=\"text-align: right;\">\n",
       "      <th></th>\n",
       "      <th>crddb_type</th>\n",
       "      <th>crddb_measurementmethod</th>\n",
       "      <th>crddb_soilfitinputsessionid</th>\n",
       "      <th>_crddb_projectid_value</th>\n",
       "      <th>crddb_measurementmethod</th>\n",
       "      <th>crddb_soilfitinputsessionid</th>\n",
       "    </tr>\n",
       "  </thead>\n",
       "  <tbody>\n",
       "    <tr>\n",
       "      <th>0</th>\n",
       "      <td>2</td>\n",
       "      <td>1.0</td>\n",
       "      <td>25578596-fe7c-ee11-8179-000d3a1f576d</td>\n",
       "      <td>62560189-fe7c-ee11-8179-000d3a1f576d</td>\n",
       "      <td>1.0</td>\n",
       "      <td>25578596-fe7c-ee11-8179-000d3a1f576d</td>\n",
       "    </tr>\n",
       "    <tr>\n",
       "      <th>1</th>\n",
       "      <td>2</td>\n",
       "      <td>NaN</td>\n",
       "      <td>8791b844-b566-ee11-9ae7-000d3a1f576d</td>\n",
       "      <td>2018e5fb-e8f7-ed11-8848-000d3a1f576d</td>\n",
       "      <td>NaN</td>\n",
       "      <td>8791b844-b566-ee11-9ae7-000d3a1f576d</td>\n",
       "    </tr>\n",
       "    <tr>\n",
       "      <th>2</th>\n",
       "      <td>2</td>\n",
       "      <td>1.0</td>\n",
       "      <td>a08a3884-cc92-ee11-be37-000d3a1f576d</td>\n",
       "      <td>62560189-fe7c-ee11-8179-000d3a1f576d</td>\n",
       "      <td>1.0</td>\n",
       "      <td>a08a3884-cc92-ee11-be37-000d3a1f576d</td>\n",
       "    </tr>\n",
       "  </tbody>\n",
       "</table>\n",
       "</div>"
      ],
      "text/plain": [
       "   crddb_type  crddb_measurementmethod           crddb_soilfitinputsessionid  \\\n",
       "0           2                      1.0  25578596-fe7c-ee11-8179-000d3a1f576d   \n",
       "1           2                      NaN  8791b844-b566-ee11-9ae7-000d3a1f576d   \n",
       "2           2                      1.0  a08a3884-cc92-ee11-be37-000d3a1f576d   \n",
       "\n",
       "                 _crddb_projectid_value  crddb_measurementmethod  \\\n",
       "0  62560189-fe7c-ee11-8179-000d3a1f576d                      1.0   \n",
       "1  2018e5fb-e8f7-ed11-8848-000d3a1f576d                      NaN   \n",
       "2  62560189-fe7c-ee11-8179-000d3a1f576d                      1.0   \n",
       "\n",
       "            crddb_soilfitinputsessionid  \n",
       "0  25578596-fe7c-ee11-8179-000d3a1f576d  \n",
       "1  8791b844-b566-ee11-9ae7-000d3a1f576d  \n",
       "2  a08a3884-cc92-ee11-be37-000d3a1f576d  "
      ]
     },
     "execution_count": 15,
     "metadata": {},
     "output_type": "execute_result"
    }
   ],
   "source": [
    "soil_columns = ['crddb_type'            , 'crddb_measurementmethod', 'crddb_soilfitinputsessionid',\n",
    "                '_crddb_projectid_value', 'crddb_measurementmethod', 'crddb_soilfitinputsessionid']\n",
    "\n",
    "soil_df = df_columns(data_soil, soil_columns)\n",
    "soil_df"
   ]
  },
  {
   "cell_type": "markdown",
   "metadata": {},
   "source": [
    "## API Observation Point - LookUp"
   ]
  },
  {
   "cell_type": "code",
   "execution_count": 16,
   "metadata": {},
   "outputs": [
    {
     "name": "stdout",
     "output_type": "stream",
     "text": [
      "{'@odata.context': 'https://org425ee2cf.crm.dynamics.com/api/data/v9.2/$metadata#new_obspoints', 'value': [{'@odata.etag': 'W/\"4489367\"', '_crddb_autorowreportid_value': '55329a7f-027d-ee11-8179-000d3a1f576d', '_owningbusinessunit_value': '77cd6714-c7eb-ed11-8849-000d3a17a888', 'new_pointid': 'PTE-001', 'statecode': 0, 'statuscode': 1, '_createdby_value': '69d46714-c7eb-ed11-8849-000d3a17a888', 'crddb_pointtype': 11, '_ownerid_value': '69d46714-c7eb-ed11-8849-000d3a17a888', 'modifiedon': '2023-12-04T00:54:48Z', 'crddb_ycoordinate': 0.0, '_owninguser_value': '69d46714-c7eb-ed11-8849-000d3a17a888', '_modifiedby_value': '69d46714-c7eb-ed11-8849-000d3a17a888', 'versionnumber': 4489367, 'new_xcoordinate': 0.0, 'createdon': '2023-12-04T00:54:38Z', 'new_obspointid': 'a6099db1-3f92-ee11-be37-000d3a1f576d', 'overriddencreatedon': None, 'importsequencenumber': None, '_modifiedonbehalfby_value': None, '_crddb_resistivity_value': None, 'utcconversiontimezonecode': None, '_createdonbehalfby_value': None, 'new_name': None, '_owningteam_value': None, 'timezoneruleversionnumber': None}]}\n",
      "Request Done.\n"
     ]
    }
   ],
   "source": [
    "data_obs = request_obs(access_token)"
   ]
  },
  {
   "cell_type": "code",
   "execution_count": 17,
   "metadata": {},
   "outputs": [
    {
     "data": {
      "text/html": [
       "<div>\n",
       "<style scoped>\n",
       "    .dataframe tbody tr th:only-of-type {\n",
       "        vertical-align: middle;\n",
       "    }\n",
       "\n",
       "    .dataframe tbody tr th {\n",
       "        vertical-align: top;\n",
       "    }\n",
       "\n",
       "    .dataframe thead th {\n",
       "        text-align: right;\n",
       "    }\n",
       "</style>\n",
       "<table border=\"1\" class=\"dataframe\">\n",
       "  <thead>\n",
       "    <tr style=\"text-align: right;\">\n",
       "      <th></th>\n",
       "      <th>_crddb_autorowreportid_value</th>\n",
       "      <th>new_pointid</th>\n",
       "      <th>crddb_pointtype</th>\n",
       "      <th>_crddb_resistivity_value</th>\n",
       "      <th>crddb_ycoordinate</th>\n",
       "      <th>new_xcoordinate</th>\n",
       "      <th>new_obspointid</th>\n",
       "    </tr>\n",
       "  </thead>\n",
       "  <tbody>\n",
       "    <tr>\n",
       "      <th>0</th>\n",
       "      <td>55329a7f-027d-ee11-8179-000d3a1f576d</td>\n",
       "      <td>PTE-001</td>\n",
       "      <td>11</td>\n",
       "      <td>None</td>\n",
       "      <td>0.0</td>\n",
       "      <td>0.0</td>\n",
       "      <td>a6099db1-3f92-ee11-be37-000d3a1f576d</td>\n",
       "    </tr>\n",
       "  </tbody>\n",
       "</table>\n",
       "</div>"
      ],
      "text/plain": [
       "           _crddb_autorowreportid_value new_pointid  crddb_pointtype  \\\n",
       "0  55329a7f-027d-ee11-8179-000d3a1f576d     PTE-001               11   \n",
       "\n",
       "  _crddb_resistivity_value  crddb_ycoordinate  new_xcoordinate  \\\n",
       "0                     None                0.0              0.0   \n",
       "\n",
       "                         new_obspointid  \n",
       "0  a6099db1-3f92-ee11-be37-000d3a1f576d  "
      ]
     },
     "execution_count": 17,
     "metadata": {},
     "output_type": "execute_result"
    }
   ],
   "source": [
    "obs_columns = ['_crddb_autorowreportid_value', 'new_pointid'      , 'crddb_pointtype', \n",
    "               '_crddb_resistivity_value'    , 'crddb_ycoordinate', 'new_xcoordinate', 'new_obspointid' ]\n",
    "obs_df = df_columns(data_obs, obs_columns)\n",
    "obs_df"
   ]
  },
  {
   "cell_type": "markdown",
   "metadata": {},
   "source": [
    "## API Coating"
   ]
  },
  {
   "cell_type": "code",
   "execution_count": 18,
   "metadata": {},
   "outputs": [
    {
     "name": "stdout",
     "output_type": "stream",
     "text": [
      "{'@odata.context': 'https://org425ee2cf.crm.dynamics.com/api/data/v9.2/$metadata#crddb_coatings', 'value': [{'@odata.etag': 'W/\"4719402\"', 'crddb_name': 'Coating 3LPE', '_owningbusinessunit_value': '77cd6714-c7eb-ed11-8849-000d3a17a888', 'crddb_type': '3LPE', 'crddb_coatingid': '9598ed21-ee98-ee11-be37-000d3a1f576d', 'statecode': 0, 'statuscode': 1, '_createdby_value': 'eade9878-0d57-ee11-be6f-000d3a1f576d', 'crddb_area_resistance': 450000.0, 'crddb_thickness': 0.03, 'crddb_resistivity': 0.18, '_ownerid_value': 'eade9878-0d57-ee11-be6f-000d3a1f576d', 'modifiedon': '2023-12-12T12:58:30Z', '_owninguser_value': 'eade9878-0d57-ee11-be6f-000d3a1f576d', '_modifiedby_value': 'eade9878-0d57-ee11-be6f-000d3a1f576d', 'versionnumber': 4719402, 'createdon': '2023-12-12T12:58:30Z', 'overriddencreatedon': None, 'importsequencenumber': None, '_modifiedonbehalfby_value': None, 'crddb_permeability': None, 'utcconversiontimezonecode': None, 'crddb_permittivity': None, '_createdonbehalfby_value': None, '_owningteam_value': None, 'timezoneruleversionnumber': None}]}\n",
      "Request Done.\n"
     ]
    }
   ],
   "source": [
    "data_coating = request_coating(access_token)"
   ]
  },
  {
   "cell_type": "code",
   "execution_count": 19,
   "metadata": {},
   "outputs": [
    {
     "data": {
      "text/html": [
       "<div>\n",
       "<style scoped>\n",
       "    .dataframe tbody tr th:only-of-type {\n",
       "        vertical-align: middle;\n",
       "    }\n",
       "\n",
       "    .dataframe tbody tr th {\n",
       "        vertical-align: top;\n",
       "    }\n",
       "\n",
       "    .dataframe thead th {\n",
       "        text-align: right;\n",
       "    }\n",
       "</style>\n",
       "<table border=\"1\" class=\"dataframe\">\n",
       "  <thead>\n",
       "    <tr style=\"text-align: right;\">\n",
       "      <th></th>\n",
       "      <th>crddb_coatingid</th>\n",
       "      <th>crddb_name</th>\n",
       "      <th>crddb_type</th>\n",
       "      <th>crddb_area_resistance</th>\n",
       "      <th>crddb_thickness</th>\n",
       "      <th>crddb_resistivity</th>\n",
       "      <th>crddb_permeability</th>\n",
       "      <th>crddb_permittivity</th>\n",
       "    </tr>\n",
       "  </thead>\n",
       "  <tbody>\n",
       "    <tr>\n",
       "      <th>0</th>\n",
       "      <td>9598ed21-ee98-ee11-be37-000d3a1f576d</td>\n",
       "      <td>Coating 3LPE</td>\n",
       "      <td>3LPE</td>\n",
       "      <td>450000.0</td>\n",
       "      <td>0.03</td>\n",
       "      <td>0.18</td>\n",
       "      <td>None</td>\n",
       "      <td>None</td>\n",
       "    </tr>\n",
       "  </tbody>\n",
       "</table>\n",
       "</div>"
      ],
      "text/plain": [
       "                        crddb_coatingid    crddb_name crddb_type  \\\n",
       "0  9598ed21-ee98-ee11-be37-000d3a1f576d  Coating 3LPE       3LPE   \n",
       "\n",
       "   crddb_area_resistance  crddb_thickness  crddb_resistivity  \\\n",
       "0               450000.0             0.03               0.18   \n",
       "\n",
       "  crddb_permeability crddb_permittivity  \n",
       "0               None               None  "
      ]
     },
     "execution_count": 19,
     "metadata": {},
     "output_type": "execute_result"
    }
   ],
   "source": [
    "coating_columns = [ 'crddb_coatingid', 'crddb_name'       , 'crddb_type'        , 'crddb_area_resistance', \n",
    "                    'crddb_thickness', 'crddb_resistivity', 'crddb_permeability', 'crddb_permittivity']\n",
    "\n",
    "coating_df = df_columns(data_coating, coating_columns)\n",
    "coating_df"
   ]
  },
  {
   "cell_type": "code",
   "execution_count": 20,
   "metadata": {},
   "outputs": [
    {
     "data": {
      "text/plain": [
       "'9598ed21-ee98-ee11-be37-000d3a1f576d'"
      ]
     },
     "execution_count": 20,
     "metadata": {},
     "output_type": "execute_result"
    }
   ],
   "source": [
    "data_df.iloc[0][\"_crddb_coating_type_value\"]"
   ]
  },
  {
   "cell_type": "markdown",
   "metadata": {},
   "source": [
    "# RowCAD"
   ]
  },
  {
   "cell_type": "markdown",
   "metadata": {},
   "source": [
    "Flags importantes: crddb_circuittype, crddb_c1phasesequence e crddb_c2phasesequence."
   ]
  },
  {
   "cell_type": "code",
   "execution_count": 21,
   "metadata": {},
   "outputs": [],
   "source": [
    "circuit_type = data_df.iloc[0]['crddb_circuittype']         # Single"
   ]
  },
  {
   "cell_type": "code",
   "execution_count": 22,
   "metadata": {},
   "outputs": [],
   "source": [
    "from circuit_phases import *"
   ]
  },
  {
   "cell_type": "code",
   "execution_count": 23,
   "metadata": {},
   "outputs": [],
   "source": [
    "# Define a dictionary mapping sequence values to phase sequences\n",
    "phase_sequences = {\n",
    "    1: [-120, 0, 120],\n",
    "    2: [120, 0, -120],\n",
    "    3: [120, 0, -120]\n",
    "}\n",
    "\n",
    "# Check circuit_type and retrieve sequence values accordingly\n",
    "if circuit_type == 1:\n",
    "    sequence_c1 = data_df.iloc[0]['crddb_c1phasesequence']\n",
    "    phases_c1 = phase_sequences.get(sequence_c1, None)\n",
    "elif circuit_type == 2:\n",
    "    sequence_c1 = data_df.iloc[0]['crddb_c1phasesequence']\n",
    "    sequence_c2 = data_df.iloc[0]['crddb_c2phasesequence']\n",
    "    \n",
    "    phases_c1 = phase_sequences.get(sequence_c1, None)\n",
    "    phases_c2 = phase_sequences.get(sequence_c2, None)\n"
   ]
  },
  {
   "cell_type": "code",
   "execution_count": 24,
   "metadata": {},
   "outputs": [],
   "source": [
    "energization_info_lt, energization_info_dt = create_phases(circuit_type, data_df, phases_c1=phases_c1, phases_c2=[120, 0, -120])"
   ]
  },
  {
   "cell_type": "markdown",
   "metadata": {},
   "source": [
    "## Energization"
   ]
  },
  {
   "cell_type": "markdown",
   "metadata": {},
   "source": [
    "### LT"
   ]
  },
  {
   "cell_type": "code",
   "execution_count": 25,
   "metadata": {},
   "outputs": [
    {
     "name": "stdout",
     "output_type": "stream",
     "text": [
      "        ENERGIZATION,VOLTAGE,1,1,1,1,0,0,2,79.67433714816836,-120,2,0,0\n",
      "        ENERGIZATION,VOLTAGE,2,2,1,1,0,0,2,79.67433714816836,0,2,0,0\n",
      "        ENERGIZATION,VOLTAGE,3,3,1,1,0,0,2,79.67433714816836,120,2,0,0\n",
      "        ENERGIZATION,VOLTAGE,4,4,1,1,0,0,2,79.67433714816836,120,2,0,0\n",
      "        ENERGIZATION,VOLTAGE,5,5,1,1,0,0,2,79.67433714816836,0,2,0,0\n",
      "        ENERGIZATION,VOLTAGE,6,6,1,1,0,0,2,79.67433714816836,-120,2,0,0\n",
      "        ENERGIZATION,VOLTAGE,7,7,1,1,0,0,2,0,0,2,0,0\n",
      "        ENERGIZATION,VOLTAGE,8,8,2,1,0,0,0,0,0,0,0,0\n"
     ]
    }
   ],
   "source": [
    "lista = []\n",
    "# energization_info = [c1_phase_a_term1, c1_phase_b_term1, c1_phase_c_term1, sw_, c1_phase_pipe_term1]\n",
    "for i in energization_info_lt:\n",
    "    lista.append(f'        ENERGIZATION,VOLTAGE,{i[\"id\"]},{i[\"ph\"]},{i[\"ground_point\"]},{i[\"cartesian1\"]},{i[\"R\"]},{i[\"X\"]},{i[\"polar2\"]},{i[\"line2neutral_kv\"]},{i[\"line2neutral_deg\"]},{i[\"polar2\"]},{i[\"current_mag_ka\"]},{i[\"current_ang_deg\"]}')\n",
    "\n",
    "energization_LT = '\\n'.join(lista)\n",
    "print(energization_LT)"
   ]
  },
  {
   "cell_type": "markdown",
   "metadata": {},
   "source": [
    "### DT"
   ]
  },
  {
   "cell_type": "code",
   "execution_count": 26,
   "metadata": {},
   "outputs": [
    {
     "name": "stdout",
     "output_type": "stream",
     "text": [
      "        ENERGIZATION,VOLTAGE,1,1,1,1,118.91692111666919,0,2,0,0,2,5000.0,0.0\n",
      "        ENERGIZATION,VOLTAGE,2,2,1,1,118.91692111666919,0,2,0,0,2,5000.0,0.0\n",
      "        ENERGIZATION,VOLTAGE,3,3,1,1,118.91692111666919,0,2,0,0,2,5000.0,0.0\n",
      "        ENERGIZATION,VOLTAGE,4,4,1,1,118.91692111666919,0,2,0,0,2,5000.0,0.0\n",
      "        ENERGIZATION,VOLTAGE,5,5,1,1,118.91692111666919,0,2,0,0,2,5000.0,0.0\n",
      "        ENERGIZATION,VOLTAGE,6,6,1,1,118.91692111666919,0,2,0,0,2,5000.0,0.0\n",
      "        ENERGIZATION,VOLTAGE,7,7,1,1,0,0,2,0,0,2,0,0\n",
      "        ENERGIZATION,VOLTAGE,8,8,2,1,0,0,2,0,0,2,0,0\n"
     ]
    }
   ],
   "source": [
    "lista = []\n",
    "# energization_info = [c1_phase_a_term2, c1_phase_b_term2, c1_phase_c_term2, sw_, phase_pipe_term2]\n",
    "for i in energization_info_dt:\n",
    "    lista.append(f'        ENERGIZATION,VOLTAGE,{i[\"id\"]},{i[\"ph\"]},{i[\"ground_point\"]},{i[\"cartesian1\"]},{i[\"R\"]},{i[\"X\"]},{i[\"polar2\"]},{i[\"line2neutral_kv\"]},{i[\"line2neutral_deg\"]},{i[\"polar2\"]},{i[\"current_mag_ka\"]},{i[\"current_ang_deg\"]}')\n",
    "\n",
    "energization_DT = '\\n'.join(lista)\n",
    "print(energization_DT)"
   ]
  },
  {
   "cell_type": "markdown",
   "metadata": {},
   "source": [
    "## Polyline"
   ]
  },
  {
   "cell_type": "markdown",
   "metadata": {},
   "source": [
    "###  1 LT"
   ]
  },
  {
   "cell_type": "code",
   "execution_count": 27,
   "metadata": {},
   "outputs": [],
   "source": [
    "lt_coor = pd.read_csv(name_source[0], header=None)\n",
    "dt_coor = pd.read_csv(name_target[0], header=None)"
   ]
  },
  {
   "cell_type": "markdown",
   "metadata": {},
   "source": [
    "#### Add dummy points"
   ]
  },
  {
   "cell_type": "code",
   "execution_count": 28,
   "metadata": {},
   "outputs": [],
   "source": [
    "n_points_before = data_df['crddb_spansbeforeemizone'][0]  # Number of points to add before\n",
    "n_points_after = data_df['crddb_spansafteremizone'][0]   # Number of points to add after\n",
    "distance_between_points = data_df['crddb_averagespanlength'][0]  # Euclidean distance between points\n",
    "\n",
    "lt_coor_ = create_orientation_points(\n",
    "    lt_coor, n_points_before, n_points_after, distance_between_points)\n",
    "lt_coor_final = lt_coor_[[0,1]]\n",
    "lt_coor_final = lt_coor_final.astype(float)"
   ]
  },
  {
   "cell_type": "code",
   "execution_count": 29,
   "metadata": {},
   "outputs": [
    {
     "data": {
      "text/html": [
       "<div>\n",
       "<style scoped>\n",
       "    .dataframe tbody tr th:only-of-type {\n",
       "        vertical-align: middle;\n",
       "    }\n",
       "\n",
       "    .dataframe tbody tr th {\n",
       "        vertical-align: top;\n",
       "    }\n",
       "\n",
       "    .dataframe thead th {\n",
       "        text-align: right;\n",
       "    }\n",
       "</style>\n",
       "<table border=\"1\" class=\"dataframe\">\n",
       "  <thead>\n",
       "    <tr style=\"text-align: right;\">\n",
       "      <th></th>\n",
       "      <th>0</th>\n",
       "      <th>1</th>\n",
       "    </tr>\n",
       "  </thead>\n",
       "  <tbody>\n",
       "    <tr>\n",
       "      <th>0</th>\n",
       "      <td>-548.6</td>\n",
       "      <td>0.0</td>\n",
       "    </tr>\n",
       "    <tr>\n",
       "      <th>1</th>\n",
       "      <td>-448.6</td>\n",
       "      <td>0.0</td>\n",
       "    </tr>\n",
       "    <tr>\n",
       "      <th>2</th>\n",
       "      <td>-348.6</td>\n",
       "      <td>0.0</td>\n",
       "    </tr>\n",
       "  </tbody>\n",
       "</table>\n",
       "</div>"
      ],
      "text/plain": [
       "       0    1\n",
       "0 -548.6  0.0\n",
       "1 -448.6  0.0\n",
       "2 -348.6  0.0"
      ]
     },
     "execution_count": 29,
     "metadata": {},
     "output_type": "execute_result"
    }
   ],
   "source": [
    "lt_coor_final.head(3)"
   ]
  },
  {
   "cell_type": "markdown",
   "metadata": {},
   "source": [
    "#### Adding 1 cm to the first point"
   ]
  },
  {
   "cell_type": "code",
   "execution_count": 30,
   "metadata": {},
   "outputs": [
    {
     "data": {
      "text/html": [
       "<div>\n",
       "<style scoped>\n",
       "    .dataframe tbody tr th:only-of-type {\n",
       "        vertical-align: middle;\n",
       "    }\n",
       "\n",
       "    .dataframe tbody tr th {\n",
       "        vertical-align: top;\n",
       "    }\n",
       "\n",
       "    .dataframe thead th {\n",
       "        text-align: right;\n",
       "    }\n",
       "</style>\n",
       "<table border=\"1\" class=\"dataframe\">\n",
       "  <thead>\n",
       "    <tr style=\"text-align: right;\">\n",
       "      <th></th>\n",
       "      <th>0</th>\n",
       "      <th>1</th>\n",
       "    </tr>\n",
       "  </thead>\n",
       "  <tbody>\n",
       "    <tr>\n",
       "      <th>0</th>\n",
       "      <td>-548.59</td>\n",
       "      <td>0.01</td>\n",
       "    </tr>\n",
       "    <tr>\n",
       "      <th>1</th>\n",
       "      <td>-548.60</td>\n",
       "      <td>0.00</td>\n",
       "    </tr>\n",
       "    <tr>\n",
       "      <th>2</th>\n",
       "      <td>-448.60</td>\n",
       "      <td>0.00</td>\n",
       "    </tr>\n",
       "    <tr>\n",
       "      <th>3</th>\n",
       "      <td>-348.60</td>\n",
       "      <td>0.00</td>\n",
       "    </tr>\n",
       "    <tr>\n",
       "      <th>4</th>\n",
       "      <td>-248.60</td>\n",
       "      <td>0.00</td>\n",
       "    </tr>\n",
       "  </tbody>\n",
       "</table>\n",
       "</div>"
      ],
      "text/plain": [
       "        0     1\n",
       "0 -548.59  0.01\n",
       "1 -548.60  0.00\n",
       "2 -448.60  0.00\n",
       "3 -348.60  0.00\n",
       "4 -248.60  0.00"
      ]
     },
     "execution_count": 30,
     "metadata": {},
     "output_type": "execute_result"
    }
   ],
   "source": [
    "lt_coor_final = add_new_row(lt_coor_final)\n",
    "lt_coor_final.head()"
   ]
  },
  {
   "cell_type": "markdown",
   "metadata": {},
   "source": [
    "#### Write LT points"
   ]
  },
  {
   "cell_type": "code",
   "execution_count": 31,
   "metadata": {},
   "outputs": [
    {
     "name": "stdout",
     "output_type": "stream",
     "text": [
      "      POINT,1,,-548.58,0.01,0,0,1,-1,1,0\n",
      "      POINT,2,,-548.6,0.0,0,0,1,-2,1,0\n",
      "      POINT,3,,-448.6,0.0,0,0,1,-2,1,0\n",
      "      POINT,4,,-348.6,0.0,0,0,1,-2,1,0\n",
      "      POINT,5,,-248.6,0.0,0,0,1,-2,1,0\n",
      "      POINT,6,,-148.6,0.0,0,0,1,-2,1,0\n",
      "      POINT,7,,-48.6,0.0,0,0,1,-2,1,0\n",
      "      POINT,8,,51.4,0.0,0,0,1,-2,1,0\n",
      "      POINT,9,,151.4,0.0,0,0,1,-2,1,0\n",
      "      POINT,10,,271.4,0.0,0,0,1,-2,1,0\n",
      "      POINT,11,,371.4,0.0,0,0,1,-2,1,0\n",
      "      POINT,12,,471.4,0.0,0,0,1,-2,1,0\n",
      "      POINT,13,,571.4,0.0,0,0,1,-2,1,0\n",
      "      POINT,14,,671.4,0.0,0,0,1,-2,1,0\n",
      "      POINT,15,,771.4,0.0,0,0,1,-2,1,0\n",
      "      POINT,16,,871.4,0.0,0,0,1,-2,1,0\n",
      "      POINT,17,,971.4,0.0,0,0,1,-2,1,0\n",
      "      POINT,18,,1071.4,0.0,0,0,1,-2,1,0\n",
      "      POINT,19,,1171.4,0.0,0,0,1,-2,1,0\n",
      "      POINT,20,,1271.4,0.0,0,0,1,-2,1,0\n",
      "      POINT,21,,1371.4,0.0,0,0,1,-2,1,0\n",
      "      POINT,22,,1471.4,0.0,0,0,1,-2,1,0\n",
      "      POINT,23,,1571.4,0.0,0,0,1,-2,1,0\n",
      "      POINT,24,,1671.4,0.0,0,0,1,-2,1,0\n",
      "      POINT,25,,1771.4,0.0,0,0,1,-2,1,0\n",
      "      POINT,26,,1871.4,0.0,0,0,1,-2,1,0\n",
      "      POINT,27,,1971.4,0.0,0,0,1,-2,1,0\n",
      "      POINT,28,,2071.4,0.0,0,0,1,-2,1,0\n",
      "      POINT,29,,2171.4,0.0,0,0,1,-2,1,0\n",
      "      POINT,30,,2271.4,0.0,0,0,1,-2,1,0\n",
      "      POINT,31,,2371.4,0.0,0,0,1,-2,1,0\n",
      "      POINT,32,,2471.4,0.0,0,0,1,-2,1,0\n",
      "      POINT,33,,2571.4,0.0,0,0,1,-2,1,0\n",
      "      POINT,34,,2671.4,0.0,0,0,1,-2,1,0\n"
     ]
    }
   ],
   "source": [
    "# Call the function with lt_coor_final DataFrame\n",
    "LT_points = generate_points(lt_coor_final)\n",
    "print(LT_points)"
   ]
  },
  {
   "cell_type": "markdown",
   "metadata": {},
   "source": [
    "### 2 DT"
   ]
  },
  {
   "cell_type": "code",
   "execution_count": 32,
   "metadata": {},
   "outputs": [
    {
     "name": "stdout",
     "output_type": "stream",
     "text": [
      "      POINT,1,,-78.666,-100.0,0,10,1,-2,1,0\n",
      "      POINT,2,,-28.666,-100.0,0,0,1,-2,1,0\n",
      "      POINT,3,,21.334,-100.0,0,0,1,-2,1,0\n",
      "      POINT,4,,71.334,-100.0,0,0,1,-2,1,0\n",
      "      POINT,5,,121.334,-100.0,0,0,1,-2,1,0\n",
      "      POINT,6,,171.334,-100.0,0,0,1,-2,1,0\n",
      "      POINT,7,,221.334,-100.0,0,0,1,-2,1,0\n",
      "      POINT,8,,271.334,-100.0,0,0,1,-2,1,0\n",
      "      POINT,9,,321.334,-100.0,0,0,1,-2,1,0\n",
      "      POINT,10,,371.334,-100.0,0,0,1,-2,1,0\n",
      "      POINT,11,,421.334,-100.0,0,0,1,-2,1,0\n",
      "      POINT,12,,471.334,-100.0,0,0,1,-2,1,0\n",
      "      POINT,13,,521.334,-100.0,0,0,1,-2,1,0\n",
      "      POINT,14,,571.334,-100.0,0,0,1,-2,1,0\n",
      "      POINT,15,,621.334,-100.0,0,0,1,-2,1,0\n",
      "      POINT,16,,671.334,-100.0,0,0,1,-2,1,0\n",
      "      POINT,17,,721.334,-100.0,0,0,1,-2,1,0\n",
      "      POINT,18,,771.334,-100.0,0,0,1,-2,1,0\n",
      "      POINT,19,,821.334,-100.0,0,0,1,-2,1,0\n",
      "      POINT,20,,871.334,-100.0,0,0,1,-2,1,0\n",
      "      POINT,21,,921.334,-100.0,0,0,1,-2,1,0\n",
      "      POINT,22,,956.6893,-65.7766,0,0,1,-2,1,0\n",
      "      POINT,23,,992.0447,-29.2893,0,0,1,-2,1,0\n",
      "      POINT,24,,1027.4,6.066,0,0,1,-2,1,0\n",
      "      POINT,25,,1062.7554,41.4213,0,0,1,-2,1,0\n",
      "      POINT,26,,1098.1107,75.7766,0,0,1,-2,1,0\n",
      "      POINT,27,,1121.334,100.0,0,0,1,-2,1,0\n",
      "      POINT,28,,1171.334,100.0,0,0,1,-2,1,0\n",
      "      POINT,29,,1221.334,100.0,0,0,1,-2,1,0\n",
      "      POINT,30,,1271.334,100.0,0,0,1,-2,1,0\n",
      "      POINT,31,,1321.334,100.0,0,0,1,-2,1,0\n",
      "      POINT,32,,1371.334,100.0,0,0,1,-2,1,0\n",
      "      POINT,33,,1421.334,100.0,0,0,1,-2,1,0\n",
      "      POINT,34,,1471.334,100.0,0,0,1,-2,1,0\n",
      "      POINT,35,,1521.334,100.0,0,0,1,-2,1,0\n",
      "      POINT,36,,1571.334,100.0,0,0,1,-2,1,0\n",
      "      POINT,37,,1621.334,100.0,0,0,1,-2,1,0\n",
      "      POINT,38,,1671.334,100.0,0,0,1,-2,1,0\n",
      "      POINT,39,,1721.334,100.0,0,0,1,-2,1,0\n",
      "      POINT,40,,1771.334,100.0,0,0,1,-2,1,0\n",
      "      POINT,41,,1821.334,100.0,0,0,1,-2,1,0\n",
      "      POINT,42,,1871.334,100.0,0,0,1,-2,1,0\n",
      "      POINT,43,,1921.334,100.0,0,0,1,-2,1,0\n",
      "      POINT,44,,1971.334,100.0,0,0,1,-2,1,0\n",
      "      POINT,45,,2021.334,100.0,0,0,1,-2,1,0\n",
      "      POINT,46,,2071.334,100.0,0,0,1,-2,1,0\n",
      "      POINT,47,,2121.334,100.0,0,0,1,-2,1,0\n"
     ]
    }
   ],
   "source": [
    "# Call the function with dt_coor DataFrame\n",
    "DT_points = generate_points(dt_coor, is_DT=True)\n",
    "print(DT_points)"
   ]
  },
  {
   "cell_type": "markdown",
   "metadata": {},
   "source": [
    "## Cross Section"
   ]
  },
  {
   "cell_type": "code",
   "execution_count": 33,
   "metadata": {},
   "outputs": [
    {
     "name": "stdout",
     "output_type": "stream",
     "text": [
      "  PHASE,1,a,1\n",
      "  PHASE,2,b,2\n",
      "  PHASE,3,c,3\n",
      "  PHASE,4,a,4\n",
      "  PHASE,5,b,5\n",
      "  PHASE,6,c,6\n",
      "  PHASE,7,sw,7\n",
      "  PHASE,8,pipe,8\n"
     ]
    }
   ],
   "source": [
    "lista = []\n",
    "for index, i in enumerate(energization_info_dt):\n",
    "    lista.append(f'  PHASE,{index+1},{i[\"name\"]},{index+1}')\n",
    "\n",
    "phase_cross_section = '\\n'.join(lista)\n",
    "print(phase_cross_section)"
   ]
  },
  {
   "cell_type": "markdown",
   "metadata": {},
   "source": [
    "#### LT"
   ]
  },
  {
   "cell_type": "markdown",
   "metadata": {},
   "source": [
    "Conductor"
   ]
  },
  {
   "cell_type": "code",
   "execution_count": 34,
   "metadata": {},
   "outputs": [
    {
     "data": {
      "text/plain": [
       "'72ab56d1-cb92-ee11-be37-000d3a1f576d'"
      ]
     },
     "execution_count": 34,
     "metadata": {},
     "output_type": "execute_result"
    }
   ],
   "source": [
    "lookup_c1[\"_crddb_c1a_condtype_value\"][0]"
   ]
  },
  {
   "cell_type": "code",
   "execution_count": 35,
   "metadata": {},
   "outputs": [
    {
     "data": {
      "text/plain": [
       "{'_crddb_sw1_condtype_value': ['72ab56d1-cb92-ee11-be37-000d3a1f576d', None],\n",
       " '_crddb_sw2_condtype_value': ['72ab56d1-cb92-ee11-be37-000d3a1f576d', None]}"
      ]
     },
     "execution_count": 35,
     "metadata": {},
     "output_type": "execute_result"
    }
   ],
   "source": [
    "lookup_sw"
   ]
  },
  {
   "cell_type": "code",
   "execution_count": 36,
   "metadata": {},
   "outputs": [
    {
     "data": {
      "text/plain": [
       "{'_crddb_c1a_condtype_value': ['72ab56d1-cb92-ee11-be37-000d3a1f576d', None],\n",
       " '_crddb_c1b_condtype_value': ['72ab56d1-cb92-ee11-be37-000d3a1f576d', None],\n",
       " '_crddb_c1c_condtype_value': ['72ab56d1-cb92-ee11-be37-000d3a1f576d', None]}"
      ]
     },
     "execution_count": 36,
     "metadata": {},
     "output_type": "execute_result"
    }
   ],
   "source": [
    "lookup_c1"
   ]
  },
  {
   "cell_type": "markdown",
   "metadata": {},
   "source": [
    "Pipe"
   ]
  },
  {
   "cell_type": "code",
   "execution_count": 37,
   "metadata": {},
   "outputs": [],
   "source": [
    "condutores = create_conductors(circuit_type, cond_df, data_df, lookup_c1, lookup_sw, lookup_c2)"
   ]
  },
  {
   "cell_type": "code",
   "execution_count": 38,
   "metadata": {},
   "outputs": [],
   "source": [
    "conductor_dt = cond_df.loc[lookup_dt[\"_crddb_pipeconductortype_value\"][0]].to_dict()\n",
    "# conductor_dt"
   ]
  },
  {
   "cell_type": "code",
   "execution_count": 39,
   "metadata": {},
   "outputs": [],
   "source": [
    "add_condtype_id(condutores)"
   ]
  },
  {
   "cell_type": "code",
   "execution_count": 40,
   "metadata": {},
   "outputs": [
    {
     "name": "stdout",
     "output_type": "stream",
     "text": [
      "{'crddb_name': 'Grosbeak', 'crddb_cross_section': 636.0, 'crddb_ac_resistence': 0.0922114998, 'crddb_resistivity': 2.2816646099, 'crddb_outerradius': 0.0125705004, 'crddb_innerradius': 0.0046354998, 'crddb_dc_resistance': 0.0917143971, 'crddb_relativepermeability': 1.0643444061, 'crddb_gmr': 0.0102108, 'crddb_c1a_vertical': 18.995, 'crddb_c1a_horizontal': 0.0, 'condtype_value': '72ab56d1-cb92-ee11-be37-000d3a1f576d', 'condtype_id': 1}\n",
      "{'crddb_name': 'Grosbeak', 'crddb_cross_section': 636.0, 'crddb_ac_resistence': 0.0922114998, 'crddb_resistivity': 2.2816646099, 'crddb_outerradius': 0.0125705004, 'crddb_innerradius': 0.0046354998, 'crddb_dc_resistance': 0.0917143971, 'crddb_relativepermeability': 1.0643444061, 'crddb_gmr': 0.0102108, 'crddb_c1b_vertical': 18.995, 'crddb_c1b_horizontal': 14.205, 'condtype_value': '72ab56d1-cb92-ee11-be37-000d3a1f576d', 'condtype_id': 1}\n",
      "{'crddb_name': 'Grosbeak', 'crddb_cross_section': 636.0, 'crddb_ac_resistence': 0.0922114998, 'crddb_resistivity': 2.2816646099, 'crddb_outerradius': 0.0125705004, 'crddb_innerradius': 0.0046354998, 'crddb_dc_resistance': 0.0917143971, 'crddb_relativepermeability': 1.0643444061, 'crddb_gmr': 0.0102108, 'crddb_c1c_vertical': 18.995, 'crddb_c1c_horizontal': 28.41, 'condtype_value': '72ab56d1-cb92-ee11-be37-000d3a1f576d', 'condtype_id': 1}\n",
      "{'crddb_name': 'Grosbeak', 'crddb_cross_section': 636.0, 'crddb_ac_resistence': 0.0922114998, 'crddb_resistivity': 2.2816646099, 'crddb_outerradius': 0.0125705004, 'crddb_innerradius': 0.0046354998, 'crddb_dc_resistance': 0.0917143971, 'crddb_relativepermeability': 1.0643444061, 'crddb_gmr': 0.0102108, 'crddb_c2a_vertical': 19.0, 'crddb_c2a_horizontal': 0.0, 'condtype_value': '72ab56d1-cb92-ee11-be37-000d3a1f576d', 'condtype_id': 1}\n",
      "{'crddb_name': 'Grosbeak', 'crddb_cross_section': 636.0, 'crddb_ac_resistence': 0.0922114998, 'crddb_resistivity': 2.2816646099, 'crddb_outerradius': 0.0125705004, 'crddb_innerradius': 0.0046354998, 'crddb_dc_resistance': 0.0917143971, 'crddb_relativepermeability': 1.0643444061, 'crddb_gmr': 0.0102108, 'crddb_c2b_vertical': 19.0, 'crddb_c2b_horizontal': -14.21, 'condtype_value': '72ab56d1-cb92-ee11-be37-000d3a1f576d', 'condtype_id': 1}\n",
      "{'crddb_name': 'Grosbeak', 'crddb_cross_section': 636.0, 'crddb_ac_resistence': 0.0922114998, 'crddb_resistivity': 2.2816646099, 'crddb_outerradius': 0.0125705004, 'crddb_innerradius': 0.0046354998, 'crddb_dc_resistance': 0.0917143971, 'crddb_relativepermeability': 1.0643444061, 'crddb_gmr': 0.0102108, 'crddb_c2c_vertical': 19.0, 'crddb_c2c_horizontal': -28.41, 'condtype_value': '72ab56d1-cb92-ee11-be37-000d3a1f576d', 'condtype_id': 1}\n",
      "{'crddb_name': 'Grosbeak', 'crddb_cross_section': 636.0, 'crddb_ac_resistence': 0.0922114998, 'crddb_resistivity': 2.2816646099, 'crddb_outerradius': 0.0125705004, 'crddb_innerradius': 0.0046354998, 'crddb_dc_resistance': 0.0917143971, 'crddb_relativepermeability': 1.0643444061, 'crddb_gmr': 0.0102108, 'crddb_shieldwirevertical1': 24.99, 'crddb_shieldwirehorizontal1': 11.25, 'condtype_value': '72ab56d1-cb92-ee11-be37-000d3a1f576d', 'condtype_id': 1}\n",
      "{'crddb_name': 'Grosbeak', 'crddb_cross_section': 636.0, 'crddb_ac_resistence': 0.0922114998, 'crddb_resistivity': 2.2816646099, 'crddb_outerradius': 0.0125705004, 'crddb_innerradius': 0.0046354998, 'crddb_dc_resistance': 0.0917143971, 'crddb_relativepermeability': 1.0643444061, 'crddb_gmr': 0.0102108, 'crddb_shieldwirevertical2': 24.99, 'crddb_shieldwirehorizontal2': 22.5, 'condtype_value': '72ab56d1-cb92-ee11-be37-000d3a1f576d', 'condtype_id': 1}\n"
     ]
    }
   ],
   "source": [
    "for driver_info in condutores:\n",
    "    print(driver_info)"
   ]
  },
  {
   "cell_type": "code",
   "execution_count": 41,
   "metadata": {},
   "outputs": [
    {
     "name": "stdout",
     "output_type": "stream",
     "text": [
      "  COMPONENT-TYPE,1,Grosbeak\n",
      "        GROUP-COMPONENT,CONDUCTOR,1,Grosbeak,0,0,0,0\n",
      "        LAYER,CONDUCTOR,1,Grosbeak_Conductor\n",
      "            CONDUCTOR-CHARACTERISTICS,0.0046354998,0.0125705004,1,\n",
      "            2.2816646099,0.0917143971,\n",
      "            0.0922114998,1,1.0643444061,0.0102108,\n",
      "            0.256067007780075,1,26,0.00198628008365631,0.00463549979031086,7,0.00154432002454996,\n",
      "            322.265960693359,636.0,,60,0,0\n",
      "            DB-CONDUCTOR_INFO,SYNCHRONIZEDWITHDB,Grosbeak,ACSR,60,0\n"
     ]
    }
   ],
   "source": [
    "# Dictionary to store the strings corresponding to each conductor\n",
    "strings_conductors = {}\n",
    "aux = []\n",
    "first = True\n",
    "# Checks and creates the corresponding strings for each conductor\n",
    "for i, conductor in enumerate(condutores):\n",
    "    conductor_code = conductor['condtype_value']\n",
    "    if first:\n",
    "        first = False\n",
    "        aux.append(conductor_code)\n",
    "        strings_conductors[conductor_code] = create_string_conductor(conductor, i+1)\n",
    "        \n",
    "    elif conductor_code not in aux :\n",
    "        aux.append(conductor_code)\n",
    "        strings_conductors[conductor_code] = create_string_conductor(conductor, i+1)\n",
    "    else:\n",
    "        pass\n",
    "\n",
    "# Join strings for each conductor code\n",
    "condutores_rowCAD = '\\n'.join(strings_conductors.values())\n",
    "\n",
    "# Display strings together\n",
    "print(condutores_rowCAD)\n"
   ]
  },
  {
   "cell_type": "code",
   "execution_count": 42,
   "metadata": {},
   "outputs": [],
   "source": [
    "total_cross_section1_LT = generate_total_cross_section(circuit_type, energization_info_lt, phase_cross_section, condutores_rowCAD, condutores)"
   ]
  },
  {
   "cell_type": "code",
   "execution_count": 43,
   "metadata": {},
   "outputs": [
    {
     "name": "stdout",
     "output_type": "stream",
     "text": [
      "CROSSSECTION\n",
      "OPTIONS\n",
      "    CONFIGURATION-MODE,ROW\n",
      "    UNITS,METRIC\n",
      "  PHASE,1,a,1\n",
      "  PHASE,2,b,2\n",
      "  PHASE,3,c,3\n",
      "  PHASE,4,a,4\n",
      "  PHASE,5,b,5\n",
      "  PHASE,6,c,6\n",
      "  PHASE,7,sw,7\n",
      "  PHASE,8,pipe,8\n",
      "  COMPONENT-TYPE,1,Grosbeak\n",
      "        GROUP-COMPONENT,CONDUCTOR,1,Grosbeak,0,0,0,0\n",
      "        LAYER,CONDUCTOR,1,Grosbeak_Conductor\n",
      "            CONDUCTOR-CHARACTERISTICS,0.0046354998,0.0125705004,1,\n",
      "            2.2816646099,0.0917143971,\n",
      "            0.0922114998,1,1.0643444061,0.0102108,\n",
      "            0.256067007780075,1,26,0.00198628008365631,0.00463549979031086,7,0.00154432002454996,\n",
      "            322.265960693359,636.0,,60,0,0\n",
      "            DB-CONDUCTOR_INFO,SYNCHRONIZEDWITHDB,Grosbeak,ACSR,60,0\n",
      "SYSTEM\n",
      "    SUBSET,1,Set #1\n",
      "    COMPONENT,1,Component #1,0.0,18.995,1\n",
      "        INFO-GROUPCOMPONENT,1,Grosbeak\n",
      "        INFO-PHASE-CIRCUIT,1,1,0,0\n",
      "    COMPONENT,2,Component #2,14.205,18.995,1\n",
      "        INFO-GROUPCOMPONENT,1,Grosbeak\n",
      "        INFO-PHASE-CIRCUIT,1,2,0,0\n",
      "    COMPONENT,3,Component #3,28.41,18.995,1\n",
      "        INFO-GROUPCOMPONENT,1,Grosbeak\n",
      "        INFO-PHASE-CIRCUIT,1,3,0,0\n",
      "    COMPONENT,4,Component #4,0.0,19.0,1\n",
      "        INFO-GROUPCOMPONENT,1,Grosbeak\n",
      "        INFO-PHASE-CIRCUIT,1,4,0,0\n",
      "    COMPONENT,5,Component #5,-14.21,19.0,1\n",
      "        INFO-GROUPCOMPONENT,1,Grosbeak\n",
      "        INFO-PHASE-CIRCUIT,1,5,0,0\n",
      "    COMPONENT,6,Component #6,-28.41,19.0,1\n",
      "        INFO-GROUPCOMPONENT,1,Grosbeak\n",
      "        INFO-PHASE-CIRCUIT,1,6,0,0\n",
      "    COMPONENT,7,Component #4,11.25,24.99,1\n",
      "        INFO-GROUPCOMPONENT,1,Grosbeak\n",
      "        INFO-PHASE-CIRCUIT,1,7,0,0\n",
      "    COMPONENT,8,Component #5,22.5,24.99,1\n",
      "        INFO-GROUPCOMPONENT,1,Grosbeak\n",
      "        INFO-PHASE-CIRCUIT,1,7,0,0\n",
      "ENDPROGRAM\n"
     ]
    }
   ],
   "source": [
    "print(total_cross_section1_LT)"
   ]
  },
  {
   "cell_type": "code",
   "execution_count": 44,
   "metadata": {},
   "outputs": [
    {
     "name": "stdout",
     "output_type": "stream",
     "text": [
      "Content successfully saved to 'C:/Users/Public/Documents/SES Software/My Projects/Crossing_45deg/final-CrossSectionDefinition/XS_CrossSection-1 - LT.f05'.\n"
     ]
    }
   ],
   "source": [
    "file_name = \"C:/Users/Public/Documents/SES Software/My Projects/Crossing_45deg/final-CrossSectionDefinition/XS_CrossSection-1 - LT.f05\"\n",
    "save_to_txt_file(file_name, total_cross_section1_LT)"
   ]
  },
  {
   "cell_type": "markdown",
   "metadata": {},
   "source": [
    "#### DT"
   ]
  },
  {
   "cell_type": "code",
   "execution_count": 45,
   "metadata": {},
   "outputs": [
    {
     "data": {
      "text/plain": [
       "{'crddb_coatingid': '9598ed21-ee98-ee11-be37-000d3a1f576d',\n",
       " 'crddb_name': 'Coating 3LPE',\n",
       " 'crddb_type': '3LPE',\n",
       " 'crddb_area_resistance': 450000.0,\n",
       " 'crddb_thickness': 0.03,\n",
       " 'crddb_resistivity': 0.18,\n",
       " 'crddb_permeability': None,\n",
       " 'crddb_permittivity': None}"
      ]
     },
     "execution_count": 45,
     "metadata": {},
     "output_type": "execute_result"
    }
   ],
   "source": [
    "coating_dt = coating_df.loc[coating_df['crddb_coatingid'] == data_df.iloc[0][\"_crddb_coating_type_value\"]].squeeze().to_dict()\n",
    "coating_dt"
   ]
  },
  {
   "cell_type": "code",
   "execution_count": 46,
   "metadata": {},
   "outputs": [
    {
     "name": "stdout",
     "output_type": "stream",
     "text": [
      "{'crddb_name': 'Pipes-Steel_10\" 140', 'crddb_cross_section': 100.7999725342, 'crddb_ac_resistence': 3.4231300354, 'crddb_resistivity': 10.0, 'crddb_outerradius': 0.4479166868, 'crddb_innerradius': 0.3645833355, 'crddb_dc_resistance': '', 'crddb_relativepermeability': 300.0, 'crddb_gmr': ''}\n"
     ]
    }
   ],
   "source": [
    "remove_nan_from_dict(conductor_dt)\n",
    "remove_nan_from_dict(coating_dt)\n",
    "print(conductor_dt)"
   ]
  },
  {
   "cell_type": "code",
   "execution_count": 47,
   "metadata": {},
   "outputs": [
    {
     "name": "stdout",
     "output_type": "stream",
     "text": [
      " COMPONENT-TYPE,1,Pipes-Steel_10\" 140\n",
      "         GROUP-COMPONENT,CONDUCTOR,1,Pipes-Steel_10\" 140,0,0,0,0\n",
      "         LAYER,CONDUCTOR,1,Pipes-Steel_10\" 140_Conductor\n",
      "             CONDUCTOR-CHARACTERISTICS,0.3645833355,0.4479166868,2,\n",
      "             10.0,,3.4231300354 ,\n",
      "             2,300.0,,0.577875018119812,1,7,0.00152399996295571,\n",
      "             0,,,51.076099395752,100.7999725342 ,,60,0,0\n",
      "             DB-CONDUCTOR_INFO,SYNCHRONIZEDWITHDB,3/8 EHS-CG,Steel,60.0\n",
      "         LAYER,INSULATION,2,Pipes-Steel_10\" 140_Conductor - Insulation\n",
      "             INSULATION-CHARACTERISTICS,RESISTIVITY,0.4479166868,\n",
      "             0.4779166868,\n",
      "             450000.0,, ,\n",
      "             \n"
     ]
    }
   ],
   "source": [
    "dt_rowCAD = create_string_duct(conductor_dt, coating_dt)\n",
    "print(dt_rowCAD)"
   ]
  },
  {
   "cell_type": "code",
   "execution_count": 48,
   "metadata": {},
   "outputs": [],
   "source": [
    "total_cross_section2_DT = f\"\"\"CROSSSECTION\n",
    "  OPTIONS\n",
    "    CONFIGURATION-MODE,ROW\n",
    "    UNITS,METRIC\n",
    "{phase_cross_section}\n",
    "{dt_rowCAD}\n",
    "  SYSTEM\n",
    "    SUBSET,1,Set #1\n",
    "      COMPONENT,1,pipe,0,-1,1\n",
    "        INFO-GROUPCOMPONENT,1,{conductor_dt['crddb_name']}\n",
    "          INFO-PHASE-CIRCUIT,1,{energization_info_dt[-1]['id']},0,0\n",
    "ENDPROGRAM\"\"\""
   ]
  },
  {
   "cell_type": "code",
   "execution_count": 49,
   "metadata": {},
   "outputs": [
    {
     "name": "stdout",
     "output_type": "stream",
     "text": [
      "CROSSSECTION\n",
      "  OPTIONS\n",
      "    CONFIGURATION-MODE,ROW\n",
      "    UNITS,METRIC\n",
      "  PHASE,1,a,1\n",
      "  PHASE,2,b,2\n",
      "  PHASE,3,c,3\n",
      "  PHASE,4,a,4\n",
      "  PHASE,5,b,5\n",
      "  PHASE,6,c,6\n",
      "  PHASE,7,sw,7\n",
      "  PHASE,8,pipe,8\n",
      " COMPONENT-TYPE,1,Pipes-Steel_10\" 140\n",
      "         GROUP-COMPONENT,CONDUCTOR,1,Pipes-Steel_10\" 140,0,0,0,0\n",
      "         LAYER,CONDUCTOR,1,Pipes-Steel_10\" 140_Conductor\n",
      "             CONDUCTOR-CHARACTERISTICS,0.3645833355,0.4479166868,2,\n",
      "             10.0,,3.4231300354 ,\n",
      "             2,300.0,,0.577875018119812,1,7,0.00152399996295571,\n",
      "             0,,,51.076099395752,100.7999725342 ,,60,0,0\n",
      "             DB-CONDUCTOR_INFO,SYNCHRONIZEDWITHDB,3/8 EHS-CG,Steel,60.0\n",
      "         LAYER,INSULATION,2,Pipes-Steel_10\" 140_Conductor - Insulation\n",
      "             INSULATION-CHARACTERISTICS,RESISTIVITY,0.4479166868,\n",
      "             0.4779166868,\n",
      "             450000.0,, ,\n",
      "             \n",
      "  SYSTEM\n",
      "    SUBSET,1,Set #1\n",
      "      COMPONENT,1,pipe,0,-1,1\n",
      "        INFO-GROUPCOMPONENT,1,Pipes-Steel_10\" 140\n",
      "          INFO-PHASE-CIRCUIT,1,8,0,0\n",
      "ENDPROGRAM\n"
     ]
    }
   ],
   "source": [
    "print(total_cross_section2_DT)"
   ]
  },
  {
   "cell_type": "code",
   "execution_count": 50,
   "metadata": {},
   "outputs": [
    {
     "name": "stdout",
     "output_type": "stream",
     "text": [
      "Content successfully saved to 'C:/Users/Public/Documents/SES Software/My Projects/Crossing_45deg/final-CrossSectionDefinition/XS_CrossSection-2 - DT.f05'.\n"
     ]
    }
   ],
   "source": [
    "file_name = \"C:/Users/Public/Documents/SES Software/My Projects/Crossing_45deg/final-CrossSectionDefinition/XS_CrossSection-2 - DT.f05\"\n",
    "save_to_txt_file(file_name, total_cross_section2_DT)"
   ]
  },
  {
   "cell_type": "code",
   "execution_count": 51,
   "metadata": {},
   "outputs": [],
   "source": [
    "path_cross_section1 = 'XS_CrossSection-1 - LT.f05'\n",
    "path_cross_section2 = 'XS_CrossSection-2 - DT.f05'"
   ]
  },
  {
   "cell_type": "markdown",
   "metadata": {},
   "source": [
    "## Soil"
   ]
  },
  {
   "cell_type": "code",
   "execution_count": 52,
   "metadata": {},
   "outputs": [],
   "source": [
    "ground_imped_term1_LT_r = data_df.iloc[0][\"crddb_groundimpedance_terminal1_r\"]\n",
    "ground_imped_term1_LT_x = data_df.iloc[0][\"crddb_groundimpedance_terminal1_x\"]\n",
    "ground_imped_term2_LT_r = data_df.iloc[0][\"crddb_groundimpedance_terminal2_r\"]\n",
    "ground_imped_term2_LT_x = data_df.iloc[0][\"crddb_groundimpedance_terminal2_x\"]"
   ]
  },
  {
   "cell_type": "code",
   "execution_count": 53,
   "metadata": {},
   "outputs": [],
   "source": [
    "# ground_imped_term1_LT_r, ground_imped_term1_LT_x, ground_imped_term2_LT_r, ground_imped_term2_LT_x"
   ]
  },
  {
   "cell_type": "code",
   "execution_count": 54,
   "metadata": {},
   "outputs": [],
   "source": [
    "ground_imped_term1_DT_r = data_df.iloc[0][\"crddb_targetgroundimpedance_left_r\"]\n",
    "ground_imped_term1_DT_x = data_df.iloc[0][\"crddb_targetgroundimpedance_left_x\"]\n",
    "ground_imped_term2_DT_r = data_df.iloc[0][\"crddb_targetgroundimpedance_right_r\"]\n",
    "ground_imped_term2_DT_x = data_df.iloc[0][\"crddb_targetgroundimpedance_right_x\"]"
   ]
  },
  {
   "cell_type": "code",
   "execution_count": 55,
   "metadata": {},
   "outputs": [],
   "source": [
    "# ground_imped_term1_DT_r, ground_imped_term1_DT_x, ground_imped_term2_DT_r, ground_imped_term2_DT_x"
   ]
  },
  {
   "cell_type": "markdown",
   "metadata": {},
   "source": [
    "## Leakage"
   ]
  },
  {
   "cell_type": "code",
   "execution_count": 56,
   "metadata": {},
   "outputs": [
    {
     "name": "stdout",
     "output_type": "stream",
     "text": [
      "    LEAKAGE,COMPUTED,1,a,0,9999999,9999999\n",
      "    LEAKAGE,COMPUTED,2,b,0,9999999,9999999\n",
      "    LEAKAGE,COMPUTED,3,c,0,9999999,9999999\n",
      "    LEAKAGE,COMPUTED,4,a,0,9999999,9999999\n",
      "    LEAKAGE,COMPUTED,5,b,0,9999999,9999999\n",
      "    LEAKAGE,COMPUTED,6,c,0,9999999,9999999\n",
      "    LEAKAGE,OHMSPERTOWER,7,sw,0,15.0,0.0\n",
      "    LEAKAGE,COMPUTED,8,pipe,0,9999999,9999999\n"
     ]
    }
   ],
   "source": [
    "# Usage: Call the function with energization_info list and data_df DataFrame\n",
    "total_leakage = generate_leakage_info(energization_info_lt, data_df)\n",
    "print(total_leakage)\n"
   ]
  },
  {
   "cell_type": "code",
   "execution_count": 57,
   "metadata": {},
   "outputs": [
    {
     "name": "stdout",
     "output_type": "stream",
     "text": [
      "LEAKAGE-DEF\n",
      "  DEFINITION\n",
      "    LEAKAGE,COMPUTED,1,a,0,9999999,9999999\n",
      "    LEAKAGE,COMPUTED,2,b,0,9999999,9999999\n",
      "    LEAKAGE,COMPUTED,3,c,0,9999999,9999999\n",
      "    LEAKAGE,COMPUTED,4,a,0,9999999,9999999\n",
      "    LEAKAGE,COMPUTED,5,b,0,9999999,9999999\n",
      "    LEAKAGE,COMPUTED,6,c,0,9999999,9999999\n",
      "    LEAKAGE,OHMSPERTOWER,7,sw,0,15.0,0.0\n",
      "    LEAKAGE,COMPUTED,8,pipe,0,9999999,9999999\n",
      "ENDPROGRAM\n"
     ]
    }
   ],
   "source": [
    "leakage_string = f\"\"\"LEAKAGE-DEF\n",
    "  DEFINITION\n",
    "{total_leakage}\n",
    "ENDPROGRAM\"\"\"\n",
    "print(leakage_string)"
   ]
  },
  {
   "cell_type": "code",
   "execution_count": 58,
   "metadata": {},
   "outputs": [
    {
     "name": "stdout",
     "output_type": "stream",
     "text": [
      "Content successfully saved to 'C:/Users/Public/Documents/SES Software/My Projects/Crossing_45deg/final-PhaseLeakageDefinition/LD_testLeakage.f05'.\n"
     ]
    }
   ],
   "source": [
    "name_leakage = \"LD_testLeakage.f05\"\n",
    "path_leakage = f\"C:/Users/Public/Documents/SES Software/My Projects/Crossing_45deg/final-PhaseLeakageDefinition/{name_leakage}\"\n",
    "save_to_txt_file(path_leakage, leakage_string)"
   ]
  },
  {
   "cell_type": "markdown",
   "metadata": {},
   "source": [
    "## Observation Point"
   ]
  },
  {
   "cell_type": "code",
   "execution_count": 59,
   "metadata": {},
   "outputs": [
    {
     "data": {
      "text/plain": [
       "{'_crddb_autorowreportid_value': '55329a7f-027d-ee11-8179-000d3a1f576d',\n",
       " 'new_pointid': 'PTE-001',\n",
       " 'crddb_pointtype': 11,\n",
       " '_crddb_resistivity_value': None,\n",
       " 'crddb_ycoordinate': 0.0,\n",
       " 'new_xcoordinate': 0.0,\n",
       " 'new_obspointid': 'a6099db1-3f92-ee11-be37-000d3a1f576d'}"
      ]
     },
     "execution_count": 59,
     "metadata": {},
     "output_type": "execute_result"
    }
   ],
   "source": [
    "point = obs_df.iloc[0].to_dict()\n",
    "point"
   ]
  },
  {
   "cell_type": "markdown",
   "metadata": {},
   "source": [
    "# Final"
   ]
  },
  {
   "cell_type": "code",
   "execution_count": 60,
   "metadata": {},
   "outputs": [],
   "source": [
    "final = f\"\"\"ROWCAD\n",
    "  OPTIONS\n",
    "    INPUT-MODE,CROSSSECTIONMODE\n",
    "    REGION-GENERATION,0,1,1\n",
    "  SYSTEM\n",
    "    POLYLINE,1,LT\n",
    "{LT_points}\n",
    "      DISPLAY-COLOR,1,0,0,1\n",
    "    POLYLINE,2,DT\n",
    "{DT_points}\n",
    "      DISPLAY-COLOR,1,1,0,0\n",
    "    SOIL-TYPE,1,Soil #1\n",
    "      DISPLAY-COLOR,1,0,0,1\n",
    "    ATTRIBUTE-SET,1,AttributeSet #1\n",
    "      DISPLAY-COLOR,1,0,0,1\n",
    "    ATTRIBUTE-SET,2,AttributeSet #2\n",
    "      DISPLAY-COLOR,1,1,0,0\n",
    "    ENTITY-MODEL,OBSERVATIONPOINT,1,{point['new_pointid']},\n",
    "      LOCATION,GLOBAL,1,{point['new_pointid']},{point['new_xcoordinate']},{point['crddb_ycoordinate']},0\n",
    "    TYPE-CROSSSECTION,1,LT,./final-CrossSectionDefinition/{path_cross_section1}\n",
    "      DISPLAY-COLOR,1,0,0,1\n",
    "    TYPE-CROSSSECTION,2,DT,./final-CrossSectionDefinition/{path_cross_section2}\n",
    "      DISPLAY-COLOR,1,1,0,0\n",
    "  CIRCUIT\n",
    "    PATH-CONSTRUCTION,1,1,2,2,1,1\n",
    "    PATH-CONSTRUCTION,2,-1,1,2,2,2\n",
    "    CENTRAL-SITE,CentralSite\n",
    "    TERMINAL,1,Term1   \n",
    "      EARTH,{ground_imped_term1_LT_r},{ground_imped_term1_LT_x},LT,1\n",
    "      EARTH,{ground_imped_term1_DT_r},{ground_imped_term1_DT_x},DT,2\n",
    "      LINES   \n",
    "{energization_LT}\n",
    "    TERMINAL,2,Term2\n",
    "      EARTH,{ground_imped_term2_LT_r},{ground_imped_term2_LT_x},LT,1\n",
    "      EARTH,{ground_imped_term2_DT_r},{ground_imped_term2_DT_x},DT,2\n",
    "      LINES\n",
    "{energization_DT}\n",
    "    PATH,1,Path\n",
    "      CONNECT-SATE-REF,NO\n",
    "    PATH,2,DT\n",
    "      CONNECT-SATE-REF,NO\n",
    "    PHASE-LEAKAGE\n",
    "      DEFAULT-DEFINITION,./final-PhaseLeakageDefinition/{name_leakage}\n",
    "ENDPROGRAM\"\"\""
   ]
  },
  {
   "cell_type": "code",
   "execution_count": 61,
   "metadata": {},
   "outputs": [
    {
     "name": "stdout",
     "output_type": "stream",
     "text": [
      "ROWCAD\n",
      "  OPTIONS\n",
      "    INPUT-MODE,CROSSSECTIONMODE\n",
      "    REGION-GENERATION,0,1,1\n",
      "  SYSTEM\n",
      "    POLYLINE,1,LT\n",
      "      POINT,1,,-548.58,0.01,0,0,1,-1,1,0\n",
      "      POINT,2,,-548.6,0.0,0,0,1,-2,1,0\n",
      "      POINT,3,,-448.6,0.0,0,0,1,-2,1,0\n",
      "      POINT,4,,-348.6,0.0,0,0,1,-2,1,0\n",
      "      POINT,5,,-248.6,0.0,0,0,1,-2,1,0\n",
      "      POINT,6,,-148.6,0.0,0,0,1,-2,1,0\n",
      "      POINT,7,,-48.6,0.0,0,0,1,-2,1,0\n",
      "      POINT,8,,51.4,0.0,0,0,1,-2,1,0\n",
      "      POINT,9,,151.4,0.0,0,0,1,-2,1,0\n",
      "      POINT,10,,271.4,0.0,0,0,1,-2,1,0\n",
      "      POINT,11,,371.4,0.0,0,0,1,-2,1,0\n",
      "      POINT,12,,471.4,0.0,0,0,1,-2,1,0\n",
      "      POINT,13,,571.4,0.0,0,0,1,-2,1,0\n",
      "      POINT,14,,671.4,0.0,0,0,1,-2,1,0\n",
      "      POINT,15,,771.4,0.0,0,0,1,-2,1,0\n",
      "      POINT,16,,871.4,0.0,0,0,1,-2,1,0\n",
      "      POINT,17,,971.4,0.0,0,0,1,-2,1,0\n",
      "      POINT,18,,1071.4,0.0,0,0,1,-2,1,0\n",
      "      POINT,19,,1171.4,0.0,0,0,1,-2,1,0\n",
      "      POINT,20,,1271.4,0.0,0,0,1,-2,1,0\n",
      "      POINT,21,,1371.4,0.0,0,0,1,-2,1,0\n",
      "      POINT,22,,1471.4,0.0,0,0,1,-2,1,0\n",
      "      POINT,23,,1571.4,0.0,0,0,1,-2,1,0\n",
      "      POINT,24,,1671.4,0.0,0,0,1,-2,1,0\n",
      "      POINT,25,,1771.4,0.0,0,0,1,-2,1,0\n",
      "      POINT,26,,1871.4,0.0,0,0,1,-2,1,0\n",
      "      POINT,27,,1971.4,0.0,0,0,1,-2,1,0\n",
      "      POINT,28,,2071.4,0.0,0,0,1,-2,1,0\n",
      "      POINT,29,,2171.4,0.0,0,0,1,-2,1,0\n",
      "      POINT,30,,2271.4,0.0,0,0,1,-2,1,0\n",
      "      POINT,31,,2371.4,0.0,0,0,1,-2,1,0\n",
      "      POINT,32,,2471.4,0.0,0,0,1,-2,1,0\n",
      "      POINT,33,,2571.4,0.0,0,0,1,-2,1,0\n",
      "      POINT,34,,2671.4,0.0,0,0,1,-2,1,0\n",
      "      DISPLAY-COLOR,1,0,0,1\n",
      "    POLYLINE,2,DT\n",
      "      POINT,1,,-78.666,-100.0,0,10,1,-2,1,0\n",
      "      POINT,2,,-28.666,-100.0,0,0,1,-2,1,0\n",
      "      POINT,3,,21.334,-100.0,0,0,1,-2,1,0\n",
      "      POINT,4,,71.334,-100.0,0,0,1,-2,1,0\n",
      "      POINT,5,,121.334,-100.0,0,0,1,-2,1,0\n",
      "      POINT,6,,171.334,-100.0,0,0,1,-2,1,0\n",
      "      POINT,7,,221.334,-100.0,0,0,1,-2,1,0\n",
      "      POINT,8,,271.334,-100.0,0,0,1,-2,1,0\n",
      "      POINT,9,,321.334,-100.0,0,0,1,-2,1,0\n",
      "      POINT,10,,371.334,-100.0,0,0,1,-2,1,0\n",
      "      POINT,11,,421.334,-100.0,0,0,1,-2,1,0\n",
      "      POINT,12,,471.334,-100.0,0,0,1,-2,1,0\n",
      "      POINT,13,,521.334,-100.0,0,0,1,-2,1,0\n",
      "      POINT,14,,571.334,-100.0,0,0,1,-2,1,0\n",
      "      POINT,15,,621.334,-100.0,0,0,1,-2,1,0\n",
      "      POINT,16,,671.334,-100.0,0,0,1,-2,1,0\n",
      "      POINT,17,,721.334,-100.0,0,0,1,-2,1,0\n",
      "      POINT,18,,771.334,-100.0,0,0,1,-2,1,0\n",
      "      POINT,19,,821.334,-100.0,0,0,1,-2,1,0\n",
      "      POINT,20,,871.334,-100.0,0,0,1,-2,1,0\n",
      "      POINT,21,,921.334,-100.0,0,0,1,-2,1,0\n",
      "      POINT,22,,956.6893,-65.7766,0,0,1,-2,1,0\n",
      "      POINT,23,,992.0447,-29.2893,0,0,1,-2,1,0\n",
      "      POINT,24,,1027.4,6.066,0,0,1,-2,1,0\n",
      "      POINT,25,,1062.7554,41.4213,0,0,1,-2,1,0\n",
      "      POINT,26,,1098.1107,75.7766,0,0,1,-2,1,0\n",
      "      POINT,27,,1121.334,100.0,0,0,1,-2,1,0\n",
      "      POINT,28,,1171.334,100.0,0,0,1,-2,1,0\n",
      "      POINT,29,,1221.334,100.0,0,0,1,-2,1,0\n",
      "      POINT,30,,1271.334,100.0,0,0,1,-2,1,0\n",
      "      POINT,31,,1321.334,100.0,0,0,1,-2,1,0\n",
      "      POINT,32,,1371.334,100.0,0,0,1,-2,1,0\n",
      "      POINT,33,,1421.334,100.0,0,0,1,-2,1,0\n",
      "      POINT,34,,1471.334,100.0,0,0,1,-2,1,0\n",
      "      POINT,35,,1521.334,100.0,0,0,1,-2,1,0\n",
      "      POINT,36,,1571.334,100.0,0,0,1,-2,1,0\n",
      "      POINT,37,,1621.334,100.0,0,0,1,-2,1,0\n",
      "      POINT,38,,1671.334,100.0,0,0,1,-2,1,0\n",
      "      POINT,39,,1721.334,100.0,0,0,1,-2,1,0\n",
      "      POINT,40,,1771.334,100.0,0,0,1,-2,1,0\n",
      "      POINT,41,,1821.334,100.0,0,0,1,-2,1,0\n",
      "      POINT,42,,1871.334,100.0,0,0,1,-2,1,0\n",
      "      POINT,43,,1921.334,100.0,0,0,1,-2,1,0\n",
      "      POINT,44,,1971.334,100.0,0,0,1,-2,1,0\n",
      "      POINT,45,,2021.334,100.0,0,0,1,-2,1,0\n",
      "      POINT,46,,2071.334,100.0,0,0,1,-2,1,0\n",
      "      POINT,47,,2121.334,100.0,0,0,1,-2,1,0\n",
      "      DISPLAY-COLOR,1,1,0,0\n",
      "    SOIL-TYPE,1,Soil #1\n",
      "      DISPLAY-COLOR,1,0,0,1\n",
      "    ATTRIBUTE-SET,1,AttributeSet #1\n",
      "      DISPLAY-COLOR,1,0,0,1\n",
      "    ATTRIBUTE-SET,2,AttributeSet #2\n",
      "      DISPLAY-COLOR,1,1,0,0\n",
      "    ENTITY-MODEL,OBSERVATIONPOINT,1,PTE-001,\n",
      "      LOCATION,GLOBAL,1,PTE-001,0.0,0.0,0\n",
      "    TYPE-CROSSSECTION,1,LT,./final-CrossSectionDefinition/XS_CrossSection-1 - LT.f05\n",
      "      DISPLAY-COLOR,1,0,0,1\n",
      "    TYPE-CROSSSECTION,2,DT,./final-CrossSectionDefinition/XS_CrossSection-2 - DT.f05\n",
      "      DISPLAY-COLOR,1,1,0,0\n",
      "  CIRCUIT\n",
      "    PATH-CONSTRUCTION,1,1,2,2,1,1\n",
      "    PATH-CONSTRUCTION,2,-1,1,2,2,2\n",
      "    CENTRAL-SITE,CentralSite\n",
      "    TERMINAL,1,Term1   \n",
      "      EARTH,1.0,0.0,LT,1\n",
      "      EARTH,10.0,0.0,DT,2\n",
      "      LINES   \n",
      "        ENERGIZATION,VOLTAGE,1,1,1,1,0,0,2,79.67433714816836,-120,2,0,0\n",
      "        ENERGIZATION,VOLTAGE,2,2,1,1,0,0,2,79.67433714816836,0,2,0,0\n",
      "        ENERGIZATION,VOLTAGE,3,3,1,1,0,0,2,79.67433714816836,120,2,0,0\n",
      "        ENERGIZATION,VOLTAGE,4,4,1,1,0,0,2,79.67433714816836,120,2,0,0\n",
      "        ENERGIZATION,VOLTAGE,5,5,1,1,0,0,2,79.67433714816836,0,2,0,0\n",
      "        ENERGIZATION,VOLTAGE,6,6,1,1,0,0,2,79.67433714816836,-120,2,0,0\n",
      "        ENERGIZATION,VOLTAGE,7,7,1,1,0,0,2,0,0,2,0,0\n",
      "        ENERGIZATION,VOLTAGE,8,8,2,1,0,0,0,0,0,0,0,0\n",
      "    TERMINAL,2,Term2\n",
      "      EARTH,1.0,0.0,LT,1\n",
      "      EARTH,10.0,0.0,DT,2\n",
      "      LINES\n",
      "        ENERGIZATION,VOLTAGE,1,1,1,1,118.91692111666919,0,2,0,0,2,5000.0,0.0\n",
      "        ENERGIZATION,VOLTAGE,2,2,1,1,118.91692111666919,0,2,0,0,2,5000.0,0.0\n",
      "        ENERGIZATION,VOLTAGE,3,3,1,1,118.91692111666919,0,2,0,0,2,5000.0,0.0\n",
      "        ENERGIZATION,VOLTAGE,4,4,1,1,118.91692111666919,0,2,0,0,2,5000.0,0.0\n",
      "        ENERGIZATION,VOLTAGE,5,5,1,1,118.91692111666919,0,2,0,0,2,5000.0,0.0\n",
      "        ENERGIZATION,VOLTAGE,6,6,1,1,118.91692111666919,0,2,0,0,2,5000.0,0.0\n",
      "        ENERGIZATION,VOLTAGE,7,7,1,1,0,0,2,0,0,2,0,0\n",
      "        ENERGIZATION,VOLTAGE,8,8,2,1,0,0,2,0,0,2,0,0\n",
      "    PATH,1,Path\n",
      "      CONNECT-SATE-REF,NO\n",
      "    PATH,2,DT\n",
      "      CONNECT-SATE-REF,NO\n",
      "    PHASE-LEAKAGE\n",
      "      DEFAULT-DEFINITION,./final-PhaseLeakageDefinition/LD_testLeakage.f05\n",
      "ENDPROGRAM\n"
     ]
    }
   ],
   "source": [
    "print(final)"
   ]
  },
  {
   "cell_type": "code",
   "execution_count": 62,
   "metadata": {},
   "outputs": [
    {
     "name": "stdout",
     "output_type": "stream",
     "text": [
      "Content successfully saved to 'C:/Users/Public/Documents/SES Software/My Projects/Crossing_45deg/RC_final.f05'.\n"
     ]
    }
   ],
   "source": [
    "file_name = \"C:/Users/Public/Documents/SES Software/My Projects/Crossing_45deg/RC_final.f05\"\n",
    "save_to_txt_file(file_name, final)"
   ]
  }
 ],
 "metadata": {
  "kernelspec": {
   "display_name": "base",
   "language": "python",
   "name": "python3"
  },
  "language_info": {
   "codemirror_mode": {
    "name": "ipython",
    "version": 3
   },
   "file_extension": ".py",
   "mimetype": "text/x-python",
   "name": "python",
   "nbconvert_exporter": "python",
   "pygments_lexer": "ipython3",
   "version": "3.11.5"
  }
 },
 "nbformat": 4,
 "nbformat_minor": 2
}
