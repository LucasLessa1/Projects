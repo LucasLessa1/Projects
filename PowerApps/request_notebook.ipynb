{
 "cells": [
  {
   "cell_type": "markdown",
   "metadata": {},
   "source": [
    "# Imports"
   ]
  },
  {
   "cell_type": "code",
   "execution_count": 1,
   "metadata": {},
   "outputs": [],
   "source": [
    "from tools import *"
   ]
  },
  {
   "cell_type": "markdown",
   "metadata": {},
   "source": [
    "# API Auto ROW Report Input Session"
   ]
  },
  {
   "cell_type": "markdown",
   "metadata": {},
   "source": [
    "## Dados de Usuário"
   ]
  },
  {
   "cell_type": "code",
   "execution_count": 2,
   "metadata": {},
   "outputs": [],
   "source": [
    "user = \"190126230@aluno.unb.br\"\n",
    "password = \"ENG1901me00$$\""
   ]
  },
  {
   "cell_type": "markdown",
   "metadata": {},
   "source": [
    "## Chrome WebDriver"
   ]
  },
  {
   "cell_type": "code",
   "execution_count": 3,
   "metadata": {},
   "outputs": [
    {
     "name": "stdout",
     "output_type": "stream",
     "text": [
      "https://localhost/?code=0.AQoAoZs17AtjK024M8jm1I-AWYkU-FHuEp5Kqq6iWR9FmH0BAAA.AgABAAIAAAAmoFfGtYxvRrNriQdPKIZ-AgDs_wUA9P_UWyTPtbvpkyWskJy7oRwcJ-BtunqvS_UtJHWhh4wFGjumFsc3jeHLBNkNMcSQBAFmA2Ejo1kaVB3zsEGVrS2nUc3GVb9bJ5padO9RUmtbE2P1Sma4DE5VtiWg_bqBKq_TJVRzN65ZGX5UsTPikY9xQzsNSUGRLxbli7lpqAa1JjdX8Oiqp_OIoII0d9CL3m6aaZUFf9dRVukzOMBXhxbxDmz3OZS4kvbnZCStbTeQK1a3uTykBZtKTJ1TNuhyn6T737266bcNvp6t0y1KHuwOLAT2YQI29CpFabGd1EvmKBbymwztlI19_GAVDbJOObyjPgukaOmhFoRsCGGyY66p0sXr1gyE8Wl364UXDC6tiRwJvDyeJ-ZGxG5tEjACwYyKOR6rXKsE0c4VRzjSBaLjR2GfK58GKVES4WWI1KgA-jHRu0baT6u7aJsmBIyB1W61YEhrhx2yBbLAIlkSRptJV0TyIQ8d-WIi3wQLgUmuuw8sROswVmpb6MzE1SOWJHwOGE02O6ODDKNS_XaL-YeFJqtydpVokoSJcYjEDaJ0HufJ5VHdGoNsUwtbVw6YOYyPaFuS3wSoqfaUr0s9q-2qqUfa60tZU75ehqlbW0OKVFr5jwVzLq6BV1j8GxHtj9AO7Q&session_state=6d705889-2b01-42d0-a716-fc9dabef3648\n"
     ]
    }
   ],
   "source": [
    "# Initialize a Chrome WebDriver\n",
    "driver = webdriver.Chrome()\n",
    "\n",
    "# Your Azure AD and OAuth2.0 parameters\n",
    "url = 'https://org425ee2cf.api.crm.dynamics.com'\n",
    "client_id = '51f81489-12ee-4a9e-aaae-a2591f45987d'\n",
    "callback_base_url = 'https://localhost'\n",
    "\n",
    "\n",
    "# Construct the authorization URL with query parameters\n",
    "auth_url = f'https://login.microsoftonline.com/common/oauth2/authorize?' \\\n",
    "           f'client_id={client_id}&response_type=code&redirect_uri={callback_base_url}&resource={url}'\n",
    "\n",
    "callback_url = take_callback_url(auth_url, driver, user, password)"
   ]
  },
  {
   "cell_type": "markdown",
   "metadata": {},
   "source": [
    "## Request Auto ROW"
   ]
  },
  {
   "cell_type": "code",
   "execution_count": 4,
   "metadata": {},
   "outputs": [
    {
     "name": "stdout",
     "output_type": "stream",
     "text": [
      "eyJ0eXAiOiJKV1QiLCJhbGciOiJSUzI1NiIsIng1dCI6IlQxU3QtZExUdnlXUmd4Ql82NzZ1OGtyWFMtSSIsImtpZCI6IlQxU3QtZExUdnlXUmd4Ql82NzZ1OGtyWFMtSSJ9.eyJhdWQiOiJodHRwczovL29yZzQyNWVlMmNmLmFwaS5jcm0uZHluYW1pY3MuY29tIiwiaXNzIjoiaHR0cHM6Ly9zdHMud2luZG93cy5uZXQvZWMzNTliYTEtNjMwYi00ZDJiLWI4MzMtYzhlNmQ0OGY4MDU5LyIsImlhdCI6MTcwMjEyODE4MiwibmJmIjoxNzAyMTI4MTgyLCJleHAiOjE3MDIxMzMxMzQsImFjY3QiOjAsImFjciI6IjEiLCJhaW8iOiJBVFFBeS84VkFBQUFjRDZLR0FRa0s5ems1dlhmT1dlSE1Td0JOaUNaMC9BeUhTVEQwZWpxODRsNVlmdURyTC8wRzYrbEFuSkhPcmZ3IiwiYW1yIjpbInB3ZCJdLCJhcHBpZCI6IjUxZjgxNDg5LTEyZWUtNGE5ZS1hYWFlLWEyNTkxZjQ1OTg3ZCIsImFwcGlkYWNyIjoiMCIsImZhbWlseV9uYW1lIjoiU2FudG9zIExlc3NhIiwiZ2l2ZW5fbmFtZSI6Ikx1Y2FzIiwiaXBhZGRyIjoiMTg5LjM5LjE3Ny4xOTMiLCJsb2dpbl9oaW50IjoiTy5DaVE1TTJFMVpUSmlaQzFoWmpJMkxUUTVZbUl0WWpsak9DMDBZV0ZpWW1KaE16QTBaallTSkdWak16VTVZbUV4TFRZek1HSXROR1F5WWkxaU9ETXpMV000WlRaa05EaG1PREExT1JvV01Ua3dNVEkyTWpNd1FHRnNkVzV2TG5WdVlpNWljaUNKQVE9PSIsIm5hbWUiOiJMdWNhcyBTYW50b3MgTGVzc2EiLCJvaWQiOiI5M2E1ZTJiZC1hZjI2LTQ5YmItYjljOC00YWFiYmJhMzA0ZjYiLCJvbnByZW1fc2lkIjoiUy0xLTUtMjEtMTY3NTc5OTcwLTE3MDI0MDAzOTgtMzUzOTY0NzM2NS01NDkyNiIsInB1aWQiOiIxMDAzMjAwMDVGQkM4QTk1IiwicmgiOiIwLkFRb0FvWnMxN0F0akswMjRNOGptMUktQVdRY0FBQUFBQUFBQXdBQUFBQUFBQUFBS0FDby4iLCJzY3AiOiJ1c2VyX2ltcGVyc29uYXRpb24iLCJzdWIiOiJ0RU1LYkw2YUJEelBoam55OVhZVXQzRDhfVjlDTTBIalA5Z1RvU1VHRmtRIiwidGVuYW50X3JlZ2lvbl9zY29wZSI6IlNBIiwidGlkIjoiZWMzNTliYTEtNjMwYi00ZDJiLWI4MzMtYzhlNmQ0OGY4MDU5IiwidW5pcXVlX25hbWUiOiIxOTAxMjYyMzBAYWx1bm8udW5iLmJyIiwidXBuIjoiMTkwMTI2MjMwQGFsdW5vLnVuYi5iciIsInV0aSI6ImR0clpIclhlcWsyRXJTcTZNeHR0QUEiLCJ2ZXIiOiIxLjAiLCJ3aWRzIjpbImI3OWZiZjRkLTNlZjktNDY4OS04MTQzLTc2YjE5NGU4NTUwOSJdLCJ4bXNfY2FlIjoiMSJ9.HDJdmSOJ5kEI2r9i0PH515P_mT8EzYG7bikkMAGUv7w46Zc4sJ7Rsk6ZD4cVw_aELD6IR-_cztUy_RYzpLRIj4a8rTp-_IrWB8UAw3Sst5ttq5YqqLZ_n2SGcc8DMbDAVJdYvCtZgW7Eu34YNImyF0xlIiztaXbrLnbwn5STLpzXM02kQ0KqPkxvRUvYp5x080oEb3BpCvMaLKV92BV-1nVIyMGEEx8pJkUOIHcPxRJE1bXDRoECRFP6s1tBu41SaizPYGoIIO7iWr-UanJH8TvFo1n7ScRKqZQTSBkKRqVetGRZPu4Ux0ELg2ZVqZ2EAQmR7IRhHBqKeCn2Th76wQ\n",
      "<Response [200]>\n",
      "{'@odata.context': 'https://org425ee2cf.crm.dynamics.com/api/data/v9.2/$metadata#crddb_autorowreportinputsessions', 'value': [{'@odata.etag': 'W/\"4506723\"', 'crddb_c1b_sep': 0.4, 'crddb_contributionfaultcurrent_term1_mod': 5000.0, 'crddb_crosssection_targety': 1.5, 'crddb_contributionfaultcurrent_term2_phase': 0.0, '_ownerid_value': 'eade9878-0d57-ee11-be6f-000d3a1f576d', 'crddb_spansbeforeemizone': 5, 'statecode': 0, 'crddb_contributionfaultcurrent_term2_mod': 5000.0, 'crddb_circuittype': 1, 'crddb_groundimpedance_terminal2_r': 1.0, 'crddb_approxtype': 1, 'crddb_coordinatesfile_source': '23ab9985-027d-ee11-8179-000d3a1f576d', '_crddb_c1c_condtype_value': '72ab56d1-cb92-ee11-be37-000d3a1f576d', '_crddb_sw2_condtype_value': '72ab56d1-cb92-ee11-be37-000d3a1f576d', 'crddb_coordinatesfile_target': '96c89991-027d-ee11-8179-000d3a1f576d', 'crddb_term1_name': 'Term1', 'crddb_safelimits_bodycurrent': 6.0, 'crddb_c1b_vertical': 18.995, 'crddb_targetlinetype': 1, 'crddb_targetlineowner': 'EmpresaDT', 'modifiedon': '2023-12-06T14:33:34Z', '_owninguser_value': 'eade9878-0d57-ee11-be6f-000d3a1f576d', 'crddb_safelimits_rb': 1000.0, '_crddb_c1a_condtype_value': '72ab56d1-cb92-ee11-be37-000d3a1f576d', 'crddb_nominalfaultcurrent_1phase_term1_mod': 4010.0, 'crddb_targetgroundimpedance_right_r': 10.0, 'crddb_sourcelineowner': 'EmpresaLT', 'crddb_casedescription': 'Teste cruzamento 45 graus', 'crddb_c1c_vertical': 18.995, 'crddb_interferencetype': 2, 'crddb_term2_name': 'Term2', 'crddb_targetgroundimpedance_left_r': 10.0, 'crddb_exposurelength': 2500.0, 'crddb_safelimits_currdensity': 100.0, 'crddb_c1phasesequence': 1, 'crddb_c1a_horizontal': 0.0, 'crddb_nominalfaultcurrent_1phase_term1_phase': 0.0, 'crddb_safelimits_rectifier': 1000.0, 'crddb_faultlocation_section': '17', 'crddb_nominalfaultcurrent_1phase_term2_phase': 0.0, 'crddb_coordinatesfile_source_name': 'LT_VM100.csv', 'crddb_mitigation_covermaterialthickness': 0.1, 'crddb_contributionfaultcurrent_term1_phase': 0.0, 'crddb_groundimpedance_terminal2_x': 0.0, 'crddb_safelimits_steadystate': 15.0, 'crddb_steadystatecurrent': 670.0, 'crddb_c1c_alpha': 45.0, 'statuscode': 1, 'createdon': '2023-11-07T00:13:40Z', 'crddb_c1c_sep': 0.4, 'crddb_spansafteremizone': 5, 'crddb_nominalfaultcurrent_3phase_term2_mod': 2370.0, 'crddb_nominalfaultcurrent_3phase_term1_phase': 0.0, 'crddb_nominalfaultcurrent_3phase_term2_phase': 0.0, 'crddb_c1c_horizontal': 28.41, 'crddb_linevoltage': 138.0, 'crddb_jobstatus': 1, 'crddb_c1c_numcond': 4, 'crddb_c1a_numcond': 4, 'versionnumber': 4506723, 'crddb_coatingdatathickness': 0.0, 'crddb_jobid': 'ROW-1004L5J9', 'crddb_nominalfaultcurrent_1phase_term2_mod': 2040.0, 'crddb_averagespanlength': 100.0, 'crddb_mitigation_covermaterial': 'Brita nº. 4', 'crddb_targetline': 'Duto teste', '_crddb_faullocationsoilresistivity_value': 'a08a3884-cc92-ee11-be37-000d3a1f576d', '_crddb_projectid_value': '62560189-fe7c-ee11-8179-000d3a1f576d', 'crddb_c1b_alpha': 45.0, '_crddb_sw1_condtype_value': '72ab56d1-cb92-ee11-be37-000d3a1f576d', 'crddb_coatingdataresistivity': 100000000.0, 'crddb_shieldwirehorizontal1': 11.25, 'crddb_safelimits_faultduration': 1000.0, 'crddb_coordinatesfile_target_name': 'Gas_VM50_CRUZ_45graus.csv', '_modifiedby_value': 'eade9878-0d57-ee11-be6f-000d3a1f576d', 'crddb_pipediameter': 10.0, '_createdby_value': 'eade9878-0d57-ee11-be6f-000d3a1f576d', 'crddb_groundimpedance_terminal1_x': 0.0, 'crddb_shieldwirevertical2': 24.99, 'crddb_shieldwirevertical1': 24.99, 'crddb_counterpoiselength': 100.0, 'crddb_groundimpedance_terminal1_r': 1.0, 'crddb_autorowreportinputsessionid': '55329a7f-027d-ee11-8179-000d3a1f576d', 'crddb_groundimpedance_towers_r': 15.0, '_crddb_pipeconductortype_value': 'f2e82abc-4394-ee11-be37-000d3a1f576d', 'crddb_sourceline': 'Linha teste', 'crddb_c1a_alpha': 45.0, 'crddb_targetgroundimpedance_left_x': 0.0, 'crddb_groundimpedance_towers_x': 0.0, 'crddb_nominalfaultcurrent_3phase_term1_mod': 4640.0, 'crddb_safelimits_insuljoint': 2500.0, 'crddb_shieldwirehorizontal2': 22.5, 'crddb_c1a_sep': 0.4, '_owningbusinessunit_value': '77cd6714-c7eb-ed11-8849-000d3a17a888', 'crddb_faultlocation_epicenter_x': 0.0, 'crddb_faultlocation_epicenter_y': 0.0, 'crddb_mitigation_covermaterialresistivity': 3000.0, 'crddb_c1a_vertical': 18.995, 'crddb_safelimits_coating': 5000.0, '_crddb_c1b_condtype_value': '72ab56d1-cb92-ee11-be37-000d3a1f576d', 'crddb_coatingdatatype': 'PE3L', 'crddb_targetgroundimpedance_right_x': 0.0, 'crddb_c1b_horizontal': 14.205, 'crddb_c2a_vertical': None, 'crddb_c2b_alpha': None, 'crddb_c2b_horizontal': None, 'crddb_c2c_numcond': None, 'importsequencenumber': None, 'utcconversiontimezonecode': None, 'overriddencreatedon': None, 'crddb_c2phasesequence': None, '_crddb_c2b_condtype_value': None, '_crddb_c2a_condtype_value': None, 'timezoneruleversionnumber': None, '_owningteam_value': None, 'crddb_c2b_numcond': None, '_modifiedonbehalfby_value': None, 'crddb_c2c_alpha': None, 'crddb_c2a_horizontal': None, '_createdonbehalfby_value': None, 'crddb_c2c_vertical': None, 'crddb_progress': None, 'crddb_c1b_numcond': None, 'crddb_c2c_horizontal': None, 'crddb_c2a_sep': None, '_crddb_authorizationticket_value': None, 'crddb_c2b_vertical': None, 'crddb_c2b_sep': None, 'crddb_c2a_numcond': None, 'crddb_c2c_sep': None, 'crddb_c2a_alpha': None, '_crddb_c2c_condtype_value': None}, {'@odata.etag': 'W/\"3602231\"', 'crddb_c1b_sep': None, 'crddb_contributionfaultcurrent_term1_mod': None, 'crddb_crosssection_targety': None, 'crddb_contributionfaultcurrent_term2_phase': None, '_ownerid_value': '69d46714-c7eb-ed11-8849-000d3a17a888', 'crddb_spansbeforeemizone': None, 'statecode': 0, 'crddb_contributionfaultcurrent_term2_mod': None, 'crddb_circuittype': None, 'crddb_groundimpedance_terminal2_r': None, 'crddb_approxtype': 1, 'crddb_coordinatesfile_source': None, '_crddb_c1c_condtype_value': None, '_crddb_sw2_condtype_value': None, 'crddb_coordinatesfile_target': None, 'crddb_term1_name': None, 'crddb_safelimits_bodycurrent': None, 'crddb_c1b_vertical': None, 'crddb_targetlinetype': None, 'crddb_targetlineowner': None, 'modifiedon': '2023-10-07T13:19:50Z', '_owninguser_value': '69d46714-c7eb-ed11-8849-000d3a17a888', 'crddb_safelimits_rb': None, '_crddb_c1a_condtype_value': None, 'crddb_nominalfaultcurrent_1phase_term1_mod': None, 'crddb_targetgroundimpedance_right_r': None, 'crddb_sourcelineowner': None, 'crddb_casedescription': 'Caso teste', 'crddb_c1c_vertical': None, 'crddb_interferencetype': 2, 'crddb_term2_name': None, 'crddb_targetgroundimpedance_left_r': None, 'crddb_exposurelength': None, 'crddb_safelimits_currdensity': None, 'crddb_c1phasesequence': None, 'crddb_c1a_horizontal': None, 'crddb_nominalfaultcurrent_1phase_term1_phase': None, 'crddb_safelimits_rectifier': None, 'crddb_faultlocation_section': None, 'crddb_nominalfaultcurrent_1phase_term2_phase': None, 'crddb_coordinatesfile_source_name': None, 'crddb_mitigation_covermaterialthickness': None, 'crddb_contributionfaultcurrent_term1_phase': None, 'crddb_groundimpedance_terminal2_x': None, 'crddb_safelimits_steadystate': None, 'crddb_steadystatecurrent': None, 'crddb_c1c_alpha': None, 'statuscode': 1, 'createdon': '2023-05-21T18:22:27Z', 'crddb_c1c_sep': None, 'crddb_spansafteremizone': None, 'crddb_nominalfaultcurrent_3phase_term2_mod': None, 'crddb_nominalfaultcurrent_3phase_term1_phase': None, 'crddb_nominalfaultcurrent_3phase_term2_phase': None, 'crddb_c1c_horizontal': None, 'crddb_linevoltage': None, 'crddb_jobstatus': 4, 'crddb_c1c_numcond': None, 'crddb_c1a_numcond': None, 'versionnumber': 3602231, 'crddb_coatingdatathickness': None, 'crddb_jobid': 'ROW-1002L5M5', 'crddb_nominalfaultcurrent_1phase_term2_mod': None, 'crddb_averagespanlength': None, 'crddb_mitigation_covermaterial': None, 'crddb_targetline': None, '_crddb_faullocationsoilresistivity_value': None, '_crddb_projectid_value': '2018e5fb-e8f7-ed11-8848-000d3a1f576d', 'crddb_c1b_alpha': None, '_crddb_sw1_condtype_value': None, 'crddb_coatingdataresistivity': None, 'crddb_shieldwirehorizontal1': None, 'crddb_safelimits_faultduration': None, 'crddb_coordinatesfile_target_name': None, '_modifiedby_value': 'eade9878-0d57-ee11-be6f-000d3a1f576d', 'crddb_pipediameter': None, '_createdby_value': '69d46714-c7eb-ed11-8849-000d3a17a888', 'crddb_groundimpedance_terminal1_x': None, 'crddb_shieldwirevertical2': None, 'crddb_shieldwirevertical1': None, 'crddb_counterpoiselength': None, 'crddb_groundimpedance_terminal1_r': None, 'crddb_autorowreportinputsessionid': '7451df6f-04f8-ed11-8848-000d3a1f576d', 'crddb_groundimpedance_towers_r': None, '_crddb_pipeconductortype_value': None, 'crddb_sourceline': 'Source', 'crddb_c1a_alpha': None, 'crddb_targetgroundimpedance_left_x': None, 'crddb_groundimpedance_towers_x': None, 'crddb_nominalfaultcurrent_3phase_term1_mod': None, 'crddb_safelimits_insuljoint': None, 'crddb_shieldwirehorizontal2': None, 'crddb_c1a_sep': None, '_owningbusinessunit_value': '77cd6714-c7eb-ed11-8849-000d3a17a888', 'crddb_faultlocation_epicenter_x': None, 'crddb_faultlocation_epicenter_y': None, 'crddb_mitigation_covermaterialresistivity': None, 'crddb_c1a_vertical': None, 'crddb_safelimits_coating': None, '_crddb_c1b_condtype_value': None, 'crddb_coatingdatatype': None, 'crddb_targetgroundimpedance_right_x': None, 'crddb_c1b_horizontal': None, 'crddb_c2a_vertical': None, 'crddb_c2b_alpha': None, 'crddb_c2b_horizontal': None, 'crddb_c2c_numcond': None, 'importsequencenumber': None, 'utcconversiontimezonecode': None, 'overriddencreatedon': None, 'crddb_c2phasesequence': None, '_crddb_c2b_condtype_value': None, '_crddb_c2a_condtype_value': None, 'timezoneruleversionnumber': None, '_owningteam_value': None, 'crddb_c2b_numcond': None, '_modifiedonbehalfby_value': None, 'crddb_c2c_alpha': None, 'crddb_c2a_horizontal': None, '_createdonbehalfby_value': None, 'crddb_c2c_vertical': None, 'crddb_progress': 50, 'crddb_c1b_numcond': None, 'crddb_c2c_horizontal': None, 'crddb_c2a_sep': None, '_crddb_authorizationticket_value': None, 'crddb_c2b_vertical': None, 'crddb_c2b_sep': None, 'crddb_c2a_numcond': None, 'crddb_c2c_sep': None, 'crddb_c2a_alpha': None, '_crddb_c2c_condtype_value': None}]}\n"
     ]
    }
   ],
   "source": [
    "# Get access token\n",
    "access_token = get_access_token(callback_url, client_id, callback_base_url, url)\n",
    "\n",
    "\n",
    "url = 'https://org425ee2cf.crm.dynamics.com/api/data/v9.2/crddb_autorowreportinputsessions?$top=10'\n",
    "\n",
    "# Make authenticated request\n",
    "data = make_authenticated_request(access_token, url)\n",
    "\n",
    "# Process the response as needed\n",
    "print(data)"
   ]
  },
  {
   "cell_type": "code",
   "execution_count": 5,
   "metadata": {},
   "outputs": [
    {
     "data": {
      "text/html": [
       "<div>\n",
       "<style scoped>\n",
       "    .dataframe tbody tr th:only-of-type {\n",
       "        vertical-align: middle;\n",
       "    }\n",
       "\n",
       "    .dataframe tbody tr th {\n",
       "        vertical-align: top;\n",
       "    }\n",
       "\n",
       "    .dataframe thead th {\n",
       "        text-align: right;\n",
       "    }\n",
       "</style>\n",
       "<table border=\"1\" class=\"dataframe\">\n",
       "  <thead>\n",
       "    <tr style=\"text-align: right;\">\n",
       "      <th></th>\n",
       "      <th>@odata.etag</th>\n",
       "      <th>crddb_c1b_sep</th>\n",
       "      <th>crddb_contributionfaultcurrent_term1_mod</th>\n",
       "      <th>crddb_crosssection_targety</th>\n",
       "      <th>crddb_contributionfaultcurrent_term2_phase</th>\n",
       "      <th>_ownerid_value</th>\n",
       "      <th>crddb_spansbeforeemizone</th>\n",
       "      <th>statecode</th>\n",
       "      <th>crddb_contributionfaultcurrent_term2_mod</th>\n",
       "      <th>crddb_circuittype</th>\n",
       "      <th>...</th>\n",
       "      <th>crddb_c1b_numcond</th>\n",
       "      <th>crddb_c2c_horizontal</th>\n",
       "      <th>crddb_c2a_sep</th>\n",
       "      <th>_crddb_authorizationticket_value</th>\n",
       "      <th>crddb_c2b_vertical</th>\n",
       "      <th>crddb_c2b_sep</th>\n",
       "      <th>crddb_c2a_numcond</th>\n",
       "      <th>crddb_c2c_sep</th>\n",
       "      <th>crddb_c2a_alpha</th>\n",
       "      <th>_crddb_c2c_condtype_value</th>\n",
       "    </tr>\n",
       "    <tr>\n",
       "      <th>crddb_autorowreportinputsessionid</th>\n",
       "      <th></th>\n",
       "      <th></th>\n",
       "      <th></th>\n",
       "      <th></th>\n",
       "      <th></th>\n",
       "      <th></th>\n",
       "      <th></th>\n",
       "      <th></th>\n",
       "      <th></th>\n",
       "      <th></th>\n",
       "      <th></th>\n",
       "      <th></th>\n",
       "      <th></th>\n",
       "      <th></th>\n",
       "      <th></th>\n",
       "      <th></th>\n",
       "      <th></th>\n",
       "      <th></th>\n",
       "      <th></th>\n",
       "      <th></th>\n",
       "      <th></th>\n",
       "    </tr>\n",
       "  </thead>\n",
       "  <tbody>\n",
       "    <tr>\n",
       "      <th>55329a7f-027d-ee11-8179-000d3a1f576d</th>\n",
       "      <td>W/\"4506723\"</td>\n",
       "      <td>0.4</td>\n",
       "      <td>5000.0</td>\n",
       "      <td>1.5</td>\n",
       "      <td>0.0</td>\n",
       "      <td>eade9878-0d57-ee11-be6f-000d3a1f576d</td>\n",
       "      <td>5.0</td>\n",
       "      <td>0</td>\n",
       "      <td>5000.0</td>\n",
       "      <td>1.0</td>\n",
       "      <td>...</td>\n",
       "      <td>None</td>\n",
       "      <td>None</td>\n",
       "      <td>None</td>\n",
       "      <td>None</td>\n",
       "      <td>None</td>\n",
       "      <td>None</td>\n",
       "      <td>None</td>\n",
       "      <td>None</td>\n",
       "      <td>None</td>\n",
       "      <td>None</td>\n",
       "    </tr>\n",
       "    <tr>\n",
       "      <th>7451df6f-04f8-ed11-8848-000d3a1f576d</th>\n",
       "      <td>W/\"3602231\"</td>\n",
       "      <td>NaN</td>\n",
       "      <td>NaN</td>\n",
       "      <td>NaN</td>\n",
       "      <td>NaN</td>\n",
       "      <td>69d46714-c7eb-ed11-8849-000d3a17a888</td>\n",
       "      <td>NaN</td>\n",
       "      <td>0</td>\n",
       "      <td>NaN</td>\n",
       "      <td>NaN</td>\n",
       "      <td>...</td>\n",
       "      <td>None</td>\n",
       "      <td>None</td>\n",
       "      <td>None</td>\n",
       "      <td>None</td>\n",
       "      <td>None</td>\n",
       "      <td>None</td>\n",
       "      <td>None</td>\n",
       "      <td>None</td>\n",
       "      <td>None</td>\n",
       "      <td>None</td>\n",
       "    </tr>\n",
       "  </tbody>\n",
       "</table>\n",
       "<p>2 rows × 132 columns</p>\n",
       "</div>"
      ],
      "text/plain": [
       "                                      @odata.etag  crddb_c1b_sep  \\\n",
       "crddb_autorowreportinputsessionid                                  \n",
       "55329a7f-027d-ee11-8179-000d3a1f576d  W/\"4506723\"            0.4   \n",
       "7451df6f-04f8-ed11-8848-000d3a1f576d  W/\"3602231\"            NaN   \n",
       "\n",
       "                                      crddb_contributionfaultcurrent_term1_mod  \\\n",
       "crddb_autorowreportinputsessionid                                                \n",
       "55329a7f-027d-ee11-8179-000d3a1f576d                                    5000.0   \n",
       "7451df6f-04f8-ed11-8848-000d3a1f576d                                       NaN   \n",
       "\n",
       "                                      crddb_crosssection_targety  \\\n",
       "crddb_autorowreportinputsessionid                                  \n",
       "55329a7f-027d-ee11-8179-000d3a1f576d                         1.5   \n",
       "7451df6f-04f8-ed11-8848-000d3a1f576d                         NaN   \n",
       "\n",
       "                                      crddb_contributionfaultcurrent_term2_phase  \\\n",
       "crddb_autorowreportinputsessionid                                                  \n",
       "55329a7f-027d-ee11-8179-000d3a1f576d                                         0.0   \n",
       "7451df6f-04f8-ed11-8848-000d3a1f576d                                         NaN   \n",
       "\n",
       "                                                            _ownerid_value  \\\n",
       "crddb_autorowreportinputsessionid                                            \n",
       "55329a7f-027d-ee11-8179-000d3a1f576d  eade9878-0d57-ee11-be6f-000d3a1f576d   \n",
       "7451df6f-04f8-ed11-8848-000d3a1f576d  69d46714-c7eb-ed11-8849-000d3a17a888   \n",
       "\n",
       "                                      crddb_spansbeforeemizone  statecode  \\\n",
       "crddb_autorowreportinputsessionid                                           \n",
       "55329a7f-027d-ee11-8179-000d3a1f576d                       5.0          0   \n",
       "7451df6f-04f8-ed11-8848-000d3a1f576d                       NaN          0   \n",
       "\n",
       "                                      crddb_contributionfaultcurrent_term2_mod  \\\n",
       "crddb_autorowreportinputsessionid                                                \n",
       "55329a7f-027d-ee11-8179-000d3a1f576d                                    5000.0   \n",
       "7451df6f-04f8-ed11-8848-000d3a1f576d                                       NaN   \n",
       "\n",
       "                                      crddb_circuittype  ...  \\\n",
       "crddb_autorowreportinputsessionid                        ...   \n",
       "55329a7f-027d-ee11-8179-000d3a1f576d                1.0  ...   \n",
       "7451df6f-04f8-ed11-8848-000d3a1f576d                NaN  ...   \n",
       "\n",
       "                                      crddb_c1b_numcond  crddb_c2c_horizontal  \\\n",
       "crddb_autorowreportinputsessionid                                               \n",
       "55329a7f-027d-ee11-8179-000d3a1f576d               None                  None   \n",
       "7451df6f-04f8-ed11-8848-000d3a1f576d               None                  None   \n",
       "\n",
       "                                     crddb_c2a_sep  \\\n",
       "crddb_autorowreportinputsessionid                    \n",
       "55329a7f-027d-ee11-8179-000d3a1f576d          None   \n",
       "7451df6f-04f8-ed11-8848-000d3a1f576d          None   \n",
       "\n",
       "                                     _crddb_authorizationticket_value  \\\n",
       "crddb_autorowreportinputsessionid                                       \n",
       "55329a7f-027d-ee11-8179-000d3a1f576d                             None   \n",
       "7451df6f-04f8-ed11-8848-000d3a1f576d                             None   \n",
       "\n",
       "                                     crddb_c2b_vertical crddb_c2b_sep  \\\n",
       "crddb_autorowreportinputsessionid                                       \n",
       "55329a7f-027d-ee11-8179-000d3a1f576d               None          None   \n",
       "7451df6f-04f8-ed11-8848-000d3a1f576d               None          None   \n",
       "\n",
       "                                     crddb_c2a_numcond  crddb_c2c_sep  \\\n",
       "crddb_autorowreportinputsessionid                                       \n",
       "55329a7f-027d-ee11-8179-000d3a1f576d              None           None   \n",
       "7451df6f-04f8-ed11-8848-000d3a1f576d              None           None   \n",
       "\n",
       "                                      crddb_c2a_alpha  \\\n",
       "crddb_autorowreportinputsessionid                       \n",
       "55329a7f-027d-ee11-8179-000d3a1f576d             None   \n",
       "7451df6f-04f8-ed11-8848-000d3a1f576d             None   \n",
       "\n",
       "                                      _crddb_c2c_condtype_value  \n",
       "crddb_autorowreportinputsessionid                                \n",
       "55329a7f-027d-ee11-8179-000d3a1f576d                       None  \n",
       "7451df6f-04f8-ed11-8848-000d3a1f576d                       None  \n",
       "\n",
       "[2 rows x 132 columns]"
      ]
     },
     "execution_count": 5,
     "metadata": {},
     "output_type": "execute_result"
    }
   ],
   "source": [
    "data_df = pd.DataFrame(data['value'])\n",
    "data_df.set_index(\"crddb_autorowreportinputsessionid\", inplace = True)\n",
    "data_df"
   ]
  },
  {
   "cell_type": "code",
   "execution_count": 6,
   "metadata": {},
   "outputs": [
    {
     "name": "stdout",
     "output_type": "stream",
     "text": [
      "O dataset não possui colunas com nomes iguais.\n"
     ]
    },
    {
     "data": {
      "text/plain": [
       "False"
      ]
     },
     "execution_count": 6,
     "metadata": {},
     "output_type": "execute_result"
    }
   ],
   "source": [
    "#  Chame a função e passe o caminho do seu dataset como argumento\n",
    "check_equal_columns(data_df)"
   ]
  },
  {
   "cell_type": "code",
   "execution_count": 7,
   "metadata": {},
   "outputs": [
    {
     "ename": "SyntaxError",
     "evalue": "invalid decimal literal (3928831466.py, line 1)",
     "output_type": "error",
     "traceback": [
      "\u001b[1;36m  Cell \u001b[1;32mIn[7], line 1\u001b[1;36m\u001b[0m\n\u001b[1;33m    6516vwevwe\u001b[0m\n\u001b[1;37m       ^\u001b[0m\n\u001b[1;31mSyntaxError\u001b[0m\u001b[1;31m:\u001b[0m invalid decimal literal\n"
     ]
    }
   ],
   "source": [
    "6516vwevwe"
   ]
  },
  {
   "cell_type": "markdown",
   "metadata": {},
   "source": [
    "## API Files Auto ROW Report"
   ]
  },
  {
   "cell_type": "code",
   "execution_count": null,
   "metadata": {},
   "outputs": [],
   "source": [
    "id_projects = list(data_df.index)\n",
    "name_target = list(data_df['crddb_coordinatesfile_target_name'])\n",
    "name_source = list(data_df['crddb_coordinatesfile_source_name'])\n",
    "id_projects"
   ]
  },
  {
   "cell_type": "code",
   "execution_count": null,
   "metadata": {},
   "outputs": [],
   "source": [
    "def downloaded_file(id, column, name):\n",
    "\n",
    "    api_endpoint = f'https://org425ee2cf.crm.dynamics.com/api/data/v9.0/crddb_autorowreportinputsessions({id})/crddb_coordinatesfile_{column}/$value'\n",
    "    response = requests.get(api_endpoint, headers=headers)\n",
    "    if response.status_code == 200:\n",
    "        file_content = response.content\n",
    "        # Write the binary data to a file\n",
    "        with open(name, 'wb') as file:\n",
    "            file.write(file_content)\n",
    "        print(\"File downloaded successfully.\")\n",
    "    else:\n",
    "        print(f\"Failed to download the file. Status code: {response.status_code}\")\n"
   ]
  },
  {
   "cell_type": "code",
   "execution_count": null,
   "metadata": {},
   "outputs": [],
   "source": [
    "for i, target, source in zip(id_projects, name_target, name_source):\n",
    "    downloaded_file(i, 'target', target)\n",
    "    downloaded_file(i, 'source', source)\n",
    "        "
   ]
  },
  {
   "cell_type": "markdown",
   "metadata": {},
   "source": [
    "# API Conductors LookUp"
   ]
  },
  {
   "cell_type": "markdown",
   "metadata": {},
   "source": [
    "## Columns LookUps in Auto ROW"
   ]
  },
  {
   "cell_type": "code",
   "execution_count": null,
   "metadata": {},
   "outputs": [],
   "source": [
    "col_lookup_c1 = ['_crddb_c1a_condtype_value', '_crddb_c1b_condtype_value', '_crddb_c1c_condtype_value']\n",
    "col_lookup_c2 = ['_crddb_c2a_condtype_value', '_crddb_c2b_condtype_value', '_crddb_c2c_condtype_value',\n",
    "             '_crddb_sw1_condtype_value', '_crddb_sw2_condtype_value']\n",
    "col_lookup_sw = ['_crddb_sw1_condtype_value', '_crddb_sw2_condtype_value']\n",
    "col_lookup_dt = ['_crddb_pipeconductortype_value']\n"
   ]
  },
  {
   "cell_type": "code",
   "execution_count": null,
   "metadata": {},
   "outputs": [],
   "source": [
    "lookup_c1 = data_df[col_lookup_c1].to_dict(orient='list')\n",
    "lookup_c2 = data_df[col_lookup_c2].to_dict(orient='list')\n",
    "lookup_sw = data_df[col_lookup_sw].to_dict(orient='list')\n",
    "lookup_dt = data_df[col_lookup_dt].to_dict(orient='list')\n",
    "lookup_dt # Lembrando que o index são os projetos"
   ]
  },
  {
   "cell_type": "code",
   "execution_count": null,
   "metadata": {},
   "outputs": [],
   "source": [
    "lookup_c1[\"_crddb_c1a_condtype_value\"][0]"
   ]
  },
  {
   "cell_type": "markdown",
   "metadata": {},
   "source": [
    "## Request Conductors - crddb_conductor"
   ]
  },
  {
   "cell_type": "code",
   "execution_count": null,
   "metadata": {},
   "outputs": [],
   "source": [
    "api_cond = 'https://org425ee2cf.crm.dynamics.com/api/data/v9.2/crddb_conductors?$top=10'\n",
    "\n",
    "response = requests.get(api_cond, headers=headers)\n",
    "if response.status_code == 200:\n",
    "    data_cond = response.json()  # Assuming the response is in JSON format\n",
    "    print(data_cond)\n",
    " \n",
    "    print(\"File downloaded successfully.\")\n",
    "else:\n",
    "    print(f\"Failed to download the file. Status code: {response.status_code}\")\n"
   ]
  },
  {
   "cell_type": "code",
   "execution_count": null,
   "metadata": {},
   "outputs": [],
   "source": [
    "cond_df = pd.DataFrame(data_cond['value'])\n",
    "cond_columns = ['crddb_name', 'crddb_name', 'crddb_conductorid', 'crddb_cross_section',\n",
    "'crddb_ac_resistence', 'crddb_resistivity' , 'crddb_outerradius',\n",
    "'crddb_innerradius', 'crddb_dc_resistance', 'crddb_relativepermeability', 'crddb_gmr']\n",
    "cond_df = cond_df[cond_columns]\n",
    "# cond = cond_df.to_dict(orient='list')\n",
    "cond_df.set_index('crddb_conductorid', inplace=True)\n",
    "cond_df"
   ]
  },
  {
   "cell_type": "code",
   "execution_count": null,
   "metadata": {},
   "outputs": [],
   "source": []
  },
  {
   "cell_type": "code",
   "execution_count": null,
   "metadata": {},
   "outputs": [],
   "source": [
    "row_dict = cond_df.iloc[0].to_dict()\n",
    "row_dict"
   ]
  },
  {
   "cell_type": "markdown",
   "metadata": {},
   "source": [
    "# API Soil Fit"
   ]
  },
  {
   "cell_type": "markdown",
   "metadata": {},
   "source": [
    "## Request Soil Fit"
   ]
  },
  {
   "cell_type": "code",
   "execution_count": null,
   "metadata": {},
   "outputs": [],
   "source": [
    "api_cond = 'https://org425ee2cf.crm.dynamics.com/api/data/v9.2/crddb_soilfitinputsessions?$top=10'\n",
    "\n",
    "response = requests.get(api_cond, headers=headers)\n",
    "if response.status_code == 200:\n",
    "    data_soil = response.json()  # Assuming the response is in JSON format\n",
    "    print(data_soil)\n",
    " \n",
    "    print(\"Request successfully.\")\n",
    "else:\n",
    "    print(f\"Failed to request the file. Status code: {response.status_code}\")\n"
   ]
  },
  {
   "cell_type": "code",
   "execution_count": null,
   "metadata": {},
   "outputs": [],
   "source": [
    "soil_columns = ['crddb_type', 'crddb_measurementmethod', 'crddb_soilfitinputsessionid',\n",
    "'_crddb_projectid_value', 'crddb_measurementmethod', 'crddb_soilfitinputsessionid']"
   ]
  },
  {
   "cell_type": "code",
   "execution_count": null,
   "metadata": {},
   "outputs": [],
   "source": [
    "soil_df = pd.DataFrame(data_soil['value'])\n",
    "soil_df = soil_df[soil_columns]\n",
    "# soil = soil_df.to_dict(orient='list')\n",
    "# soil_df.set_index('crddb_soiluctorid', inplace=True)\n",
    "soil_df"
   ]
  },
  {
   "cell_type": "markdown",
   "metadata": {},
   "source": [
    "# API Observation Point - LookUp"
   ]
  },
  {
   "cell_type": "code",
   "execution_count": null,
   "metadata": {},
   "outputs": [],
   "source": [
    "api_cond = 'https://org425ee2cf.crm.dynamics.com/api/data/v9.2/new_obspoints?$top=10'\n",
    "\n",
    "response = requests.get(api_cond, headers=headers)\n",
    "if response.status_code == 200:\n",
    "    data_obs = response.json()  # Assuming the response is in JSON format\n",
    "    print(data_obs)\n",
    " \n",
    "    print(\"Request successfully.\")\n",
    "else:\n",
    "    print(f\"Failed to request the file. Status code: {response.status_code}\")\n"
   ]
  },
  {
   "cell_type": "code",
   "execution_count": null,
   "metadata": {},
   "outputs": [],
   "source": [
    "obs_columns = ['_crddb_autorowreportid_value', 'new_pointid', 'crddb_pointtype', '_crddb_resistivity_value', 'crddb_ycoordinate', 'new_xcoordinate', 'new_obspointid' ]"
   ]
  },
  {
   "cell_type": "code",
   "execution_count": null,
   "metadata": {},
   "outputs": [],
   "source": [
    "obs_df = pd.DataFrame(data_obs['value'])\n",
    "obs_columns = ['_crddb_autorowreportid_value', 'new_pointid', 'crddb_pointtype', \n",
    "'_crddb_resistivity_value', 'crddb_ycoordinate', 'new_xcoordinate', 'new_obspointid' ]\n",
    "obs_df = obs_df[obs_columns]\n",
    "obs_df"
   ]
  },
  {
   "cell_type": "markdown",
   "metadata": {},
   "source": [
    "# RowCAD"
   ]
  },
  {
   "cell_type": "code",
   "execution_count": null,
   "metadata": {},
   "outputs": [],
   "source": [
    "def save_to_txt_file(file_name, content):\n",
    "    with open(file_name, 'w') as file:\n",
    "        file.write(content)\n",
    "    print(f\"Content successfully saved to '{file_name}'.\")"
   ]
  },
  {
   "cell_type": "markdown",
   "metadata": {},
   "source": [
    "Flags importantes: crddb_circuittype, crddb_c1phasesequence e crddb_c2phasesequence."
   ]
  },
  {
   "cell_type": "code",
   "execution_count": null,
   "metadata": {},
   "outputs": [],
   "source": [
    "circuit_type = data_df.iloc[0]['crddb_circuittype']         # Single"
   ]
  },
  {
   "cell_type": "code",
   "execution_count": null,
   "metadata": {},
   "outputs": [],
   "source": [
    "data_df"
   ]
  },
  {
   "cell_type": "code",
   "execution_count": null,
   "metadata": {},
   "outputs": [],
   "source": [
    "data_df['crddb_groundimpedance_terminal1_r']  "
   ]
  },
  {
   "cell_type": "code",
   "execution_count": null,
   "metadata": {},
   "outputs": [],
   "source": [
    "ground_point_LT = 1\n",
    "ground_point_DT = 2\n",
    "cartesian1 = 1\n",
    "#Lembrar que no Power Apps eu tenho que calcular isso com a corrente nominal\n",
    "r_abc = data_df.iloc[0]['crddb_groundimpedance_terminal1_r']  \n",
    "x_abc = data_df.iloc[0]['crddb_groundimpedance_terminal1_x']\n",
    "\n",
    "r_sw = data_df.iloc[0]['crddb_groundimpedance_towers_r']   \n",
    "x_sw = data_df.iloc[0]['crddb_groundimpedance_towers_x']\n",
    "\n",
    "r_pipe = data_df.iloc[0]['crddb_targetgroundimpedance_right_r']\n",
    "x_pipe = data_df.iloc[0]['crddb_targetgroundimpedance_right_x']\n",
    "\n",
    "polar2 = 2   # Praticamente sempre\n",
    "\n",
    "voltage_mag_kv = 1 #pu\n",
    "voltage_mag_kv_other = 0 #pu\n",
    "voltage_ang_deg = 0\n",
    "\n",
    "current_mag_ka = data_df.iloc[0][\"crddb_contributionfaultcurrent_term1_mod\"]\n",
    "current_ang_deg = data_df.iloc[0][\"crddb_contributionfaultcurrent_term1_phase\"]\n",
    "\n",
    "phase_a_term1 = {'name': 'a','id': 1, 'ph':1, \"ground_point\":ground_point_LT,\"cartesian1\" : cartesian1 ,\"R\" : r_abc,\"X\" : x_abc\n",
    "           ,\"polar2\" : polar2,\"voltage_mag_kv\": voltage_mag_kv ,\"voltage_ang_deg\":voltage_ang_deg \n",
    "           ,\"current_mag_ka\": 0, \"current_ang_deg\": 0}\n",
    "\n",
    "phase_b_term1 = {'name': 'b','id': 2, 'ph':2, \"ground_point\":ground_point_LT,\"cartesian1\" : cartesian1 ,\"R\" : r_abc,\"X\" : x_abc\n",
    "           ,\"polar2\" : polar2,\"voltage_mag_kv\": voltage_mag_kv_other ,\"voltage_ang_deg\":voltage_ang_deg \n",
    "           ,\"current_mag_ka\": 0, \"current_ang_deg\": 0}\n",
    "phase_c_term1 = {'name': 'c','id': 3, 'ph':3, \"ground_point\":ground_point_LT,\"cartesian1\" : cartesian1 ,\"R\" : r_abc,\"X\" : x_abc\n",
    "           ,\"polar2\" : polar2,\"voltage_mag_kv\": voltage_mag_kv_other ,\"voltage_ang_deg\":voltage_ang_deg \n",
    "           ,\"current_mag_ka\": 0, \"current_ang_deg\": 0}\n",
    "phase_sw1_term1 = {'name': 'e_sw1','id': 4, 'ph':4, \"ground_point\":ground_point_LT,\"cartesian1\" : cartesian1 ,\"R\" : r_sw,\"X\" : x_sw\n",
    "           ,\"polar2\" : polar2,\"voltage_mag_kv\": voltage_mag_kv_other ,\"voltage_ang_deg\":voltage_ang_deg \n",
    "           ,\"current_mag_ka\": 0, \"current_ang_deg\": 0}\n",
    "phase_sw2_term1 = {'name': 'f_sw2','id': 5, 'ph':5, \"ground_point\":ground_point_LT,\"cartesian1\" : cartesian1 ,\"R\" : r_sw,\"X\" : x_sw\n",
    "           ,\"polar2\" : polar2,\"voltage_mag_kv\": voltage_mag_kv_other ,\"voltage_ang_deg\":voltage_ang_deg \n",
    "           ,\"current_mag_ka\": 0, \"current_ang_deg\": 0}\n",
    "phase_pipe_term1 = {'name': 'pipe','id': 6, 'ph':6, \"ground_point\":ground_point_DT,\"cartesian1\" : cartesian1 ,\"R\" : r_pipe,\"X\" : x_pipe\n",
    "           ,\"polar2\" : polar2,\"voltage_mag_kv\": voltage_mag_kv_other ,\"voltage_ang_deg\":voltage_ang_deg \n",
    "           ,\"current_mag_ka\": 0, \"current_ang_deg\": 0}"
   ]
  },
  {
   "cell_type": "code",
   "execution_count": null,
   "metadata": {},
   "outputs": [],
   "source": [
    "ground_point_LT = 1\n",
    "ground_point_DT = 2\n",
    "cartesian1 = 1\n",
    "#Lembrar que no Power Apps eu tenho que calcular isso com a corrente nominal\n",
    "r_abc = data_df.iloc[0]['crddb_groundimpedance_terminal1_r']  \n",
    "x_abc = data_df.iloc[0]['crddb_groundimpedance_terminal1_x']\n",
    "\n",
    "r_sw = data_df.iloc[0]['crddb_groundimpedance_towers_r']   \n",
    "x_sw = data_df.iloc[0]['crddb_groundimpedance_towers_x']\n",
    "\n",
    "r_pipe = data_df.iloc[0]['crddb_targetgroundimpedance_left_r']\n",
    "x_pipe = data_df.iloc[0]['crddb_targetgroundimpedance_left_x']\n",
    "\n",
    "polar2 = 2   # Praticamente sempre\n",
    "voltage_mag_kv = 1 #pu\n",
    "voltage_mag_kv_other = 0 #pu\n",
    "voltage_ang_deg = 0\n",
    "polar2 = 2\n",
    "current_mag_ka = data_df.iloc[0][\"crddb_contributionfaultcurrent_term2_mod\"]\n",
    "current_ang_deg = data_df.iloc[0][\"crddb_contributionfaultcurrent_term2_phase\"]\n",
    "\n",
    "phase_a_term2 = {'name': 'a','id': 1, 'ph':1, \"ground_point\":ground_point_LT,\"cartesian1\" : cartesian1 ,\"R\" : r_abc,\"X\" : x_abc\n",
    "           ,\"polar2\" : polar2,\"voltage_mag_kv\": voltage_mag_kv ,\"voltage_ang_deg\":voltage_ang_deg \n",
    "           ,\"current_mag_ka\": 0, \"current_ang_deg\": 0}\n",
    "\n",
    "phase_b_term2 = {'name': 'b','id': 2, 'ph':2, \"ground_point\":ground_point_LT,\"cartesian1\" : cartesian1 ,\"R\" : r_abc,\"X\" : x_abc\n",
    "           ,\"polar2\" : polar2,\"voltage_mag_kv\": voltage_mag_kv_other ,\"voltage_ang_deg\":voltage_ang_deg \n",
    "           ,\"current_mag_ka\": 0, \"current_ang_deg\": 0}\n",
    "phase_c_term2 = {'name': 'c','id': 3, 'ph':3, \"ground_point\":ground_point_LT,\"cartesian1\" : cartesian1 ,\"R\" : r_abc,\"X\" : x_abc\n",
    "           ,\"polar2\" : polar2,\"voltage_mag_kv\": voltage_mag_kv_other ,\"voltage_ang_deg\":voltage_ang_deg \n",
    "           ,\"current_mag_ka\": 0, \"current_ang_deg\": 0}\n",
    "phase_sw1_term2 = {'name': 'e_sw1','id': 4, 'ph':4, \"ground_point\":ground_point_LT,\"cartesian1\" : cartesian1 ,\"R\" : r_sw,\"X\" : x_sw\n",
    "           ,\"polar2\" : polar2,\"voltage_mag_kv\": voltage_mag_kv_other ,\"voltage_ang_deg\":voltage_ang_deg \n",
    "           ,\"current_mag_ka\": 0, \"current_ang_deg\": 0}\n",
    "phase_sw2_term2 = {'name': 'f_sw2','id': 5, 'ph':5, \"ground_point\":ground_point_LT,\"cartesian1\" : cartesian1 ,\"R\" : r_sw,\"X\" : x_sw\n",
    "           ,\"polar2\" : polar2,\"voltage_mag_kv\": voltage_mag_kv_other ,\"voltage_ang_deg\":voltage_ang_deg \n",
    "           ,\"current_mag_ka\": 0, \"current_ang_deg\": 0}\n",
    "phase_pipe_term2 = {'name': 'pipe','id': 6, 'ph':6, \"ground_point\":ground_point_DT,\"cartesian1\" : cartesian1 ,\"R\" : r_pipe,\"X\" : x_pipe\n",
    "           ,\"polar2\" : polar2,\"voltage_mag_kv\": voltage_mag_kv_other ,\"voltage_ang_deg\":voltage_ang_deg \n",
    "           ,\"current_mag_ka\": 0, \"current_ang_deg\": 0}"
   ]
  },
  {
   "cell_type": "markdown",
   "metadata": {},
   "source": [
    "## Energization"
   ]
  },
  {
   "cell_type": "markdown",
   "metadata": {},
   "source": [
    "### LT"
   ]
  },
  {
   "cell_type": "code",
   "execution_count": null,
   "metadata": {},
   "outputs": [],
   "source": [
    "lista = []\n",
    "energization_info = [phase_a_term1, phase_b_term1, phase_c_term1, phase_sw1_term1, phase_sw2_term1, phase_pipe_term1]\n",
    "for i in energization_info:\n",
    "    lista.append(f'        ENERGIZATION,VOLTAGE,{i[\"id\"]},{i[\"ph\"]},{i[\"ground_point\"]},{i[\"cartesian1\"]},{i[\"R\"]},{i[\"X\"]},{i[\"polar2\"]},{i[\"voltage_mag_kv\"]},{i[\"voltage_ang_deg\"]},{i[\"polar2\"]},{i[\"current_mag_ka\"]},{i[\"current_ang_deg\"]}')\n",
    "\n",
    "energization_LT = '\\n'.join(lista)\n",
    "print(energization_LT)"
   ]
  },
  {
   "cell_type": "markdown",
   "metadata": {},
   "source": [
    "### DT"
   ]
  },
  {
   "cell_type": "code",
   "execution_count": null,
   "metadata": {},
   "outputs": [],
   "source": [
    "lista = []\n",
    "energization_info = [phase_a_term2, phase_b_term2, phase_c_term2, phase_sw1_term2, phase_sw2_term2, phase_pipe_term2]\n",
    "for i in energization_info:\n",
    "    lista.append(f'        ENERGIZATION,VOLTAGE,{i[\"id\"]},{i[\"ph\"]},{i[\"ground_point\"]},{i[\"cartesian1\"]},{i[\"R\"]},{i[\"X\"]},{i[\"polar2\"]},{i[\"voltage_mag_kv\"]},{i[\"voltage_ang_deg\"]},{i[\"polar2\"]},{i[\"current_mag_ka\"]},{i[\"current_ang_deg\"]}')\n",
    "\n",
    "energization_DT = '\\n'.join(lista)\n",
    "print(energization_DT)"
   ]
  },
  {
   "cell_type": "markdown",
   "metadata": {},
   "source": [
    "## Polyline"
   ]
  },
  {
   "cell_type": "markdown",
   "metadata": {},
   "source": [
    "###  1 LT"
   ]
  },
  {
   "cell_type": "code",
   "execution_count": null,
   "metadata": {},
   "outputs": [],
   "source": [
    "lt_coor = pd.read_csv('LT_VM100.csv', header=None)\n",
    "dt_coor = pd.read_csv('Gas_VM50_CRUZ_45graus.csv', header=None)\n",
    "# lt_coor"
   ]
  },
  {
   "cell_type": "code",
   "execution_count": null,
   "metadata": {},
   "outputs": [],
   "source": [
    "import numpy as np\n",
    "import pandas as pd\n",
    "\n",
    "def calculate_vector(point1, point2):\n",
    "    return point2 - point1\n",
    "\n",
    "def create_orientation_points(df, n_before, n_after, distance):\n",
    "    if len(df) < 2:\n",
    "        return pd.DataFrame()\n",
    "\n",
    "    coordinates = df.to_numpy()\n",
    "\n",
    "    # Calculate vectors\n",
    "    vector_start = calculate_vector(coordinates[0], coordinates[1])\n",
    "    vector_end = calculate_vector(coordinates[-2], coordinates[-1])\n",
    "\n",
    "    # Calculate normalized vectors\n",
    "    norm_vector_start = vector_start / np.linalg.norm(vector_start)\n",
    "    norm_vector_end = vector_end / np.linalg.norm(vector_end)\n",
    "\n",
    "    # Create points before the first coordinate\n",
    "    points_before = []\n",
    "    for i in range(int(n_before), 0, -1):\n",
    "        new_point = coordinates[0] - i * distance * norm_vector_start\n",
    "        points_before.append(np.append(new_point, 'Before'))\n",
    "\n",
    "    # Create points after the last coordinate\n",
    "    points_after = []\n",
    "    for i in range(1, int(n_after) + 1):\n",
    "        new_point = coordinates[-1] + i * distance * norm_vector_end\n",
    "        points_after.append(np.append(new_point, 'After'))\n",
    "\n",
    "    # Convert lists to DataFrames\n",
    "    df_before = pd.DataFrame(np.array(points_before), columns=list(df.columns) + ['Label'])\n",
    "    df_after = pd.DataFrame(np.array(points_after), columns=list(df.columns) + ['Label'])\n",
    "\n",
    "    # Include a Label column for the original points\n",
    "    df['Label'] = 'Original'\n",
    "\n",
    "    # Combine DataFrames\n",
    "    combined_df = pd.concat([df_before, df, df_after], ignore_index=True)\n",
    "\n",
    "    return combined_df"
   ]
  },
  {
   "cell_type": "code",
   "execution_count": null,
   "metadata": {},
   "outputs": [],
   "source": [
    "data_df['crddb_averagespanlength'][0] "
   ]
  },
  {
   "cell_type": "markdown",
   "metadata": {},
   "source": [
    "#### Add dummy points"
   ]
  },
  {
   "cell_type": "code",
   "execution_count": null,
   "metadata": {},
   "outputs": [],
   "source": [
    "\n",
    "n_points_before = data_df['crddb_spansbeforeemizone'][0]  # Number of points to add before\n",
    "n_points_after = data_df['crddb_spansafteremizone'][0]   # Number of points to add after\n",
    "distance_between_points = data_df['crddb_averagespanlength'][0]  # Euclidean distance between points\n",
    "\n",
    "lt_coor_ = create_orientation_points(\n",
    "    lt_coor, n_points_before, n_points_after, distance_between_points)"
   ]
  },
  {
   "cell_type": "code",
   "execution_count": null,
   "metadata": {},
   "outputs": [],
   "source": [
    "# lt_coor_"
   ]
  },
  {
   "cell_type": "code",
   "execution_count": null,
   "metadata": {},
   "outputs": [],
   "source": [
    "lt_coor_final = lt_coor_[[0,1]]\n",
    "lt_coor_final = lt_coor_final.astype(float)\n",
    "lt_coor_final.head(3)"
   ]
  },
  {
   "cell_type": "markdown",
   "metadata": {},
   "source": [
    "#### Adding 1 cm to the first point"
   ]
  },
  {
   "cell_type": "code",
   "execution_count": null,
   "metadata": {},
   "outputs": [],
   "source": [
    "new_row = lt_coor_final.iloc[0].copy() + 0.01\n",
    "\n",
    "# Insert the new row at index 0\n",
    "lt_coor_final = pd.concat([pd.DataFrame(new_row).transpose(), lt_coor_final], ignore_index=True)\n",
    "\n",
    "lt_coor_final.head()"
   ]
  },
  {
   "cell_type": "code",
   "execution_count": null,
   "metadata": {},
   "outputs": [],
   "source": [
    "# POINT, 1, , -500,10,0,0,0,0,2,0\n",
    "# POINT, 2, ,    0,10,0,0,0,0,2,0\n",
    "# POINT, 3, ,  500,10,0,0,0,0,2,0"
   ]
  },
  {
   "cell_type": "markdown",
   "metadata": {},
   "source": [
    "#### Write LT points"
   ]
  },
  {
   "cell_type": "code",
   "execution_count": null,
   "metadata": {},
   "outputs": [],
   "source": [
    "lista = []\n",
    "name = ''\n",
    "rho = 1\n",
    "xs = 1\n",
    "type_ = -2 # Towers = -2, Coordinate = -1 e Undefined = 0;\n",
    "\n",
    "first = True\n",
    "for index, row in lt_coor_final.iterrows():\n",
    "    if first: # Garantindo afastamento de 1 cm \n",
    "        x = row[0] + 0.01\n",
    "        first = False\n",
    "    else : \n",
    "        x = row[0]\n",
    "    if index == 0:\n",
    "        type_ = -1\n",
    "        y = row[1]\n",
    "        lista.append(f'      POINT,{index+1},{name},{x},{y},,,{rho},{type_},{xs},')\n",
    "        type_ = -2\n",
    "        continue\n",
    "    y = row[1]\n",
    "    lista.append(f'      POINT,{index+1},{name},{x},{y},,,{rho},{type_},{xs},')\n",
    "\n",
    "LT_points = '\\n'.join(lista)\n",
    "print(LT_points)"
   ]
  },
  {
   "cell_type": "markdown",
   "metadata": {},
   "source": [
    "### 2 DT"
   ]
  },
  {
   "cell_type": "code",
   "execution_count": null,
   "metadata": {},
   "outputs": [],
   "source": [
    "# POLYLINE,2,DT                                      \n",
    "#   Point,N, name,   x,  y,  z?,   , rho, type, XS, ?\n",
    "#   POINT,1,     ,-500, 10,   0, 10,   0,    0,  2, 0\n",
    "#   POINT,2,     ,   0, 10,   0,  0,   0,    0,  2, 0\n",
    "#   POINT,3,     , 500, 10,   0,  0,   0,    0,  2, 0"
   ]
  },
  {
   "cell_type": "code",
   "execution_count": null,
   "metadata": {},
   "outputs": [],
   "source": [
    "lista = []\n",
    "name = ''\n",
    "rho = 1\n",
    "xs = 1\n",
    "type_ = 0 # Towers = -2, Coordinate = -1 e Undefined = 0;\n",
    "\n",
    "for index, row in dt_coor.iterrows():\n",
    "    x = row[0]\n",
    "    y = row[1]\n",
    "    if index == 0:\n",
    "        something = 10\n",
    "    else:\n",
    "        something = 0\n",
    "    lista.append(f'      POINT,{index+1},{name},{x},{y},,{something},{rho},{type_},{xs},')\n",
    "\n",
    "DT_points = '\\n'.join(lista)\n",
    "print(DT_points)"
   ]
  },
  {
   "cell_type": "markdown",
   "metadata": {},
   "source": [
    "## Cross Section"
   ]
  },
  {
   "cell_type": "code",
   "execution_count": null,
   "metadata": {},
   "outputs": [],
   "source": [
    "def remove_nan_from_dict(dictionary):\n",
    "    keys_to_remove = []  # Lista para armazenar as chaves a serem removidas\n",
    "\n",
    "    for key, value in dictionary.items():\n",
    "        if isinstance(value, dict):\n",
    "            remove_nan_from_dict(value)  # Verifica os valores nos dicionários aninhados\n",
    "        elif pd.isnull(value):  # Verifica se o valor é NaN\n",
    "            keys_to_remove.append(key)  # Adiciona a chave à lista de remoção\n",
    "\n",
    "    # Remove as chaves que possuem valores NaN\n",
    "    for key in keys_to_remove:\n",
    "        dictionary[key] = ''  # Substitui o valor NaN por string vazia"
   ]
  },
  {
   "cell_type": "code",
   "execution_count": null,
   "metadata": {},
   "outputs": [],
   "source": [
    "lista = []\n",
    "energization_info = [phase_a_term1, phase_b_term1, phase_c_term1, phase_sw1_term1, phase_sw2_term1, phase_pipe_term1]\n",
    "for i in energization_info:\n",
    "    lista.append(f'  PHASE,{i[\"id\"]},{i[\"name\"]},{i[\"ph\"]}')\n",
    "\n",
    "phase_cross_section = '\\n'.join(lista)\n",
    "print(phase_cross_section)"
   ]
  },
  {
   "cell_type": "markdown",
   "metadata": {},
   "source": [
    "#### LT"
   ]
  },
  {
   "cell_type": "code",
   "execution_count": null,
   "metadata": {},
   "outputs": [],
   "source": [
    "if circuit_type ==1:\n",
    "    conductor_c1a = cond_df.loc[lookup_c1[\"_crddb_c1a_condtype_value\"][0]].to_dict()\n",
    "    conductor_c1b = cond_df.loc[lookup_c1[\"_crddb_c1b_condtype_value\"][0]].to_dict()\n",
    "    conductor_c1c = cond_df.loc[lookup_c1[\"_crddb_c1c_condtype_value\"][0]].to_dict()\n",
    "    \n",
    "    conductor_sw1 = cond_df.loc[lookup_sw[\"_crddb_sw1_condtype_value\"][0]].to_dict()\n",
    "    conductor_sw2 = cond_df.loc[lookup_sw[\"_crddb_sw2_condtype_value\"][0]].to_dict()\n",
    "\n",
    "    c2 = None\n",
    "elif circuit_type ==2:\n",
    "    conductor_c1a = cond_df.loc[lookup_c1[\"_crddb_c1a_condtype_value\"][0]].to_dict()\n",
    "    conductor_c1b = cond_df.loc[lookup_c1[\"_crddb_c1b_condtype_value\"][0]].to_dict()\n",
    "    conductor_c1c = cond_df.loc[lookup_c1[\"_crddb_c1c_condtype_value\"][0]].to_dict()\n",
    "    \n",
    "    conductor_sw1 = cond_df.loc[lookup_sw[\"_crddb_sw1_condtype_value\"][0]].to_dict()\n",
    "    conductor_sw2 = cond_df.loc[lookup_sw[\"_crddb_sw2_condtype_value\"][0]].to_dict()\n",
    "    \n",
    "    conductor_c2a = cond_df.loc[lookup_c2[\"_crddb_c2a_condtype_value\"][0]].to_dict()\n",
    "    conductor_c2b = cond_df.loc[lookup_c2[\"_crddb_c2b_condtype_value\"][0]].to_dict()\n",
    "    conductor_c2c = cond_df.loc[lookup_c2[\"_crddb_c2c_condtype_value\"][0]].to_dict()"
   ]
  },
  {
   "cell_type": "code",
   "execution_count": null,
   "metadata": {},
   "outputs": [],
   "source": [
    "conductor_dt = cond_df.loc[lookup_dt[\"_crddb_pipeconductortype_value\"][0]].to_dict()\n",
    "conductor_dt"
   ]
  },
  {
   "cell_type": "code",
   "execution_count": null,
   "metadata": {},
   "outputs": [],
   "source": [
    "def criar_string_condutor(conductor):\n",
    "    conductor_dict = {'Conductor_Name' : conductor[\"crddb_name\"], 'cross_section': conductor[\"crddb_cross_section\"], 'inner_Radius' : conductor[\"crddb_innerradius\"], 'outer_Radius' : conductor[\"crddb_outerradius\"], 'relative_resistivity' : conductor[\"crddb_resistivity\"], 'dc_Resistance' : conductor[\"crddb_dc_resistance\"], 'ac_Resistance' : conductor[\"crddb_ac_resistence\"], 'relative_permeability' : conductor[\"crddb_relativepermeability\"], 'GMR' : conductor[\"crddb_gmr\"], 'X' : 0.256067007780075}\n",
    "    conductor_string = f\"\"\"  COMPONENT-TYPE,1,{conductor_dict['Conductor_Name']}\n",
    "        GROUP-COMPONENT,CONDUCTOR,1,{conductor_dict['Conductor_Name']},0,0,0,0\n",
    "        LAYER,CONDUCTOR,1,{conductor_dict['Conductor_Name']}_Conductor\n",
    "            CONDUCTOR-CHARACTERISTICS,{conductor_dict[\"inner_Radius\"]},{conductor_dict[\"outer_Radius\"]},1,{conductor_dict[\"relative_resistivity\"]},{conductor_dict[\"dc_Resistance\"]},{conductor_dict[\"ac_Resistance\"]},1,{conductor_dict[\"relative_permeability\"]},{conductor_dict[\"GMR\"]},{conductor_dict[\"X\"]},1,26,0.00198628008365631,0.00463549979031086,7,0.00154432002454996,322.265960693359,{conductor_dict['cross_section']},,60,0,0\n",
    "            DB-CONDUCTOR_INFO,SYNCHRONIZEDWITHDB,{conductor_dict['Conductor_Name']},ACSR,60,0\"\"\"\n",
    "    return conductor_string"
   ]
  },
  {
   "cell_type": "code",
   "execution_count": null,
   "metadata": {},
   "outputs": [],
   "source": [
    "# Lista de todos os condutores\n",
    "if circuit_type == 1:\n",
    "    condutores = [conductor_c1a, conductor_c1b, conductor_c1c, conductor_sw1, conductor_sw2]\n",
    "else:\n",
    "    condutores = [conductor_c1a, conductor_c1b, conductor_c1c, conductor_c2a, conductor_c2b, \n",
    "                  conductor_c2c, conductor_sw1, conductor_sw2]\n",
    "\n",
    "# Dicionário para armazenar as strings correspondentes a cada condutor\n",
    "strings_condutores = {}\n",
    "\n",
    "# Verifica e cria as strings correspondentes para cada condutor\n",
    "for i, condutor in enumerate(condutores, start=1):\n",
    "    for j, outro_condutor in enumerate(condutores[i:], start=i+1):\n",
    "        if condutor == outro_condutor:\n",
    "            # Se os condutores forem iguais, usa apenas um deles\n",
    "            strings_condutores[condutor['crddb_name']] = criar_string_condutor(condutor)\n",
    "        else:\n",
    "            # Se os condutores forem diferentes, cria strings para ambos\n",
    "            strings_condutores[condutor['crddb_name']] = criar_string_condutor(condutor)\n",
    "            strings_condutores[outro_condutor['crddb_name']] = criar_string_condutor(outro_condutor)\n",
    "\n",
    "# Itera sobre os valores do dicionário e junta-os usando '\\n'.join(lista)\n",
    "lista_strings = [valor for valor in strings_condutores.values()]\n",
    "condutores_rowCAD = '\\n'.join(lista_strings)\n",
    "\n",
    "# Exibe as strings juntas\n",
    "print(condutores_rowCAD)"
   ]
  },
  {
   "cell_type": "code",
   "execution_count": null,
   "metadata": {},
   "outputs": [],
   "source": [
    "total_cross_section1_LT = f\"\"\"CROSSSECTION\n",
    "  OPTIONS\n",
    "    CONFIGURATION-MODE,ROW\n",
    "    UNITS,METRIC\n",
    "{phase_cross_section}\n",
    "{condutores_rowCAD}\n",
    "  SYSTEM\n",
    "    SUBSET,1,Set #1\n",
    "      COMPONENT,1,Component #1,-6.65,13.5,1\n",
    "        INFO-GROUPCOMPONENT,1,{conductor_c1a['crddb_name']}\n",
    "          INFO-PHASE-CIRCUIT,1,{phase_a_term1[\"id\"]},0,0\n",
    "      COMPONENT,2,Component #2,0,13.5,1\n",
    "        INFO-GROUPCOMPONENT,1,{conductor_c1b['crddb_name']}\n",
    "          INFO-PHASE-CIRCUIT,1,{phase_b_term1[\"id\"]},0,0\n",
    "      COMPONENT,3,Component #3,6.65,13.5,1\n",
    "        INFO-GROUPCOMPONENT,1,{conductor_c1c['crddb_name']}\n",
    "          INFO-PHASE-CIRCUIT,1,{phase_c_term1[\"id\"]},0,0\n",
    "      COMPONENT,4,Component #4,4.65,17.6,2\n",
    "        INFO-GROUPCOMPONENT,1,{'Grosbeak'}\n",
    "          INFO-PHASE-CIRCUIT,1,{4},0,0\n",
    "      COMPONENT,5,Component #5,-4.65,17.6,2\n",
    "        INFO-GROUPCOMPONENT,1,{'Grosbeak'}\n",
    "          INFO-PHASE-CIRCUIT,1,{5},0,0\n",
    "ENDPROGRAM\"\"\""
   ]
  },
  {
   "cell_type": "code",
   "execution_count": null,
   "metadata": {},
   "outputs": [],
   "source": [
    "conductor_c1a['crddb_name']"
   ]
  },
  {
   "cell_type": "code",
   "execution_count": null,
   "metadata": {},
   "outputs": [],
   "source": [
    "print(total_cross_section1_LT)"
   ]
  },
  {
   "cell_type": "code",
   "execution_count": null,
   "metadata": {},
   "outputs": [],
   "source": [
    "file_name = \"C:/Users/Public/Documents/SES Software/My Projects/TestPython/SP-CrossSectionDefinition/XS_crossSection1.f05\"\n",
    "save_to_txt_file(file_name, total_cross_section1_LT)"
   ]
  },
  {
   "cell_type": "markdown",
   "metadata": {},
   "source": [
    "#### DT"
   ]
  },
  {
   "cell_type": "code",
   "execution_count": null,
   "metadata": {},
   "outputs": [],
   "source": [
    "def criar_string_duto(duto):\n",
    "    duto_dict = {'cross_section': duto['crddb_cross_section'],'Conductor_Name' : duto[\"crddb_name\"], 'inner_Radius' : duto[\"crddb_innerradius\"], 'outer_Radius' : duto[\"crddb_outerradius\"], 'relative_resistivity' : duto[\"crddb_resistivity\"], 'dc_Resistance' : duto[\"crddb_dc_resistance\"], 'ac_Resistance' : duto[\"crddb_ac_resistence\"], 'relative_permeability' : duto[\"crddb_relativepermeability\"], 'GMR' : '', 'X' : 0.577875018119812}\n",
    "    duto_string = f\"\"\"  COMPONENT-TYPE,2,{duto_dict['Conductor_Name']}\n",
    "        GROUP-COMPONENT,CONDUCTOR,1,{duto_dict['Conductor_Name']},0,0,0,0\n",
    "        LAYER,CONDUCTOR,1,{duto_dict['Conductor_Name']}_Conductor\n",
    "            CONDUCTOR-CHARACTERISTICS,{duto_dict['inner_Radius']},{duto_dict['outer_Radius']},2,{duto_dict['relative_resistivity']},{duto_dict['dc_Resistance']},{duto_dict['ac_Resistance']},2,{duto_dict['relative_permeability']},{duto_dict['GMR']},{duto_dict['X']},1,7,0.00152399996295571,0,,,51.076099395752,{duto_dict['cross_section']},,60,0,0\n",
    "            DB-CONDUCTOR_INFO,SYNCHRONIZEDWITHDB,3/8 EHS-CG,Steel,60,0\"\"\"\n",
    "    return duto_string"
   ]
  },
  {
   "cell_type": "code",
   "execution_count": null,
   "metadata": {},
   "outputs": [],
   "source": [
    "remove_nan_from_dict(conductor_dt)\n",
    "print(conductor_dt)"
   ]
  },
  {
   "cell_type": "code",
   "execution_count": null,
   "metadata": {},
   "outputs": [],
   "source": [
    "dt_rowCAD = criar_string_duto(conductor_dt)\n",
    "print(dt_rowCAD)"
   ]
  },
  {
   "cell_type": "code",
   "execution_count": null,
   "metadata": {},
   "outputs": [],
   "source": [
    "print(dt_rowCAD)"
   ]
  },
  {
   "cell_type": "code",
   "execution_count": null,
   "metadata": {},
   "outputs": [],
   "source": [
    "total_cross_section2_DT = f\"\"\"CROSSSECTION\n",
    "  OPTIONS\n",
    "    CONFIGURATION-MODE,ROW\n",
    "    UNITS,METRIC\n",
    "{phase_cross_section}\n",
    "{dt_rowCAD}\n",
    "  SYSTEM\n",
    "    SUBSET,1,Set #1\n",
    "      COMPONENT,1,pipe,0,-1,1\n",
    "        INFO-GROUPCOMPONENT,1,{conductor_dt['crddb_name']}\n",
    "          INFO-PHASE-CIRCUIT,1,{phase_pipe_term2['id']},0,0\n",
    "ENDPROGRAM\"\"\""
   ]
  },
  {
   "cell_type": "code",
   "execution_count": null,
   "metadata": {},
   "outputs": [],
   "source": [
    "{phase_pipe_term2['id']}"
   ]
  },
  {
   "cell_type": "code",
   "execution_count": null,
   "metadata": {},
   "outputs": [],
   "source": [
    "print(total_cross_section2_DT)"
   ]
  },
  {
   "cell_type": "code",
   "execution_count": null,
   "metadata": {},
   "outputs": [],
   "source": [
    "file_name = \"C:/Users/Public/Documents/SES Software/My Projects/TestPython/SP-CrossSectionDefinition/XS_crossSection2.f05\"\n",
    "save_to_txt_file(file_name, total_cross_section2_DT)"
   ]
  },
  {
   "cell_type": "code",
   "execution_count": null,
   "metadata": {},
   "outputs": [],
   "source": [
    "path_cross_section1 = 'C:/Users/Public/Documents/SES Software/My Projects/TestPython/SP-CrossSectionDefinition/XS_crossSection1.f05'\n",
    "path_cross_section2 = 'C:/Users/Public/Documents/SES Software/My Projects/TestPython/SP-CrossSectionDefinition/XS_crossSection2.f05'"
   ]
  },
  {
   "cell_type": "markdown",
   "metadata": {},
   "source": [
    "## Soil"
   ]
  },
  {
   "cell_type": "code",
   "execution_count": null,
   "metadata": {},
   "outputs": [],
   "source": [
    "soil_resistence_term1_LT = 1E-06  \n",
    "soil_resistence_term2_LT = 1E-06  \n",
    "soil_resistence_term1_DT = 1E-06  \n",
    "soil_resistence_term2_DT = 1E-06  "
   ]
  },
  {
   "cell_type": "markdown",
   "metadata": {},
   "source": [
    "## Leakage"
   ]
  },
  {
   "cell_type": "code",
   "execution_count": null,
   "metadata": {},
   "outputs": [],
   "source": [
    "lista = []\n",
    "# total_leakage = f\"\"\"\"\"\"\n",
    "for i in energization_info:\n",
    "    lista.append(f'    LEAKAGE,COMPUTED,{i[\"id\"]},{i[\"name\"]},0,9999999,9999999')\n",
    "\n",
    "total_leakage = '\\n'.join(lista)\n",
    "print(total_leakage)"
   ]
  },
  {
   "cell_type": "code",
   "execution_count": null,
   "metadata": {},
   "outputs": [],
   "source": [
    "file_string = f\"\"\"LEAKAGE-DEF\n",
    "  DEFINITION\n",
    "{total_leakage}\n",
    "ENDPROGRAM\"\"\"\n",
    "print(file_string)"
   ]
  },
  {
   "cell_type": "code",
   "execution_count": null,
   "metadata": {},
   "outputs": [],
   "source": [
    "name_leakage = \"LD_testLeakage.f05\"\n",
    "path_leakage = f\"C:/Users/Public/Documents/SES Software/My Projects/TestPython/SP-PhaseLeakageDefinition/{name_leakage}\"\n",
    "save_to_txt_file(path_leakage, file_string)"
   ]
  },
  {
   "cell_type": "markdown",
   "metadata": {},
   "source": [
    "## Observation Point"
   ]
  },
  {
   "cell_type": "code",
   "execution_count": null,
   "metadata": {},
   "outputs": [],
   "source": [
    "point = obs_df.iloc[0].to_dict()\n",
    "point"
   ]
  },
  {
   "cell_type": "markdown",
   "metadata": {},
   "source": [
    "# Final"
   ]
  },
  {
   "cell_type": "code",
   "execution_count": null,
   "metadata": {},
   "outputs": [],
   "source": [
    "final = f\"\"\"ROWCAD\n",
    "  OPTIONS\n",
    "    INPUT-MODE,CROSSSECTIONMODE\n",
    "    REGION-GENERATION,0,1,1\n",
    "  SYSTEM\n",
    "    POLYLINE,1,LT\n",
    "{LT_points}\n",
    "      DISPLAY-COLOR,1,0,0,1\n",
    "    POLYLINE,2,DT\n",
    "{DT_points}\n",
    "      DISPLAY-COLOR,1,1,0,0\n",
    "    ATTRIBUTE-SET,1,AttributeSet #1\n",
    "      DISPLAY-COLOR,1,0,0,1\n",
    "    ATTRIBUTE-SET,2,AttributeSet #2\n",
    "      DISPLAY-COLOR,1,1,0,0\n",
    "    SOIL-TYPE,1,Soil #1\n",
    "      DISPLAY-COLOR,1,0,0,1\n",
    "    ENTITY-MODEL,OBSERVATIONPOINT,1,{point['new_pointid']},\n",
    "      LOCATION,GLOBAL,1,{point['new_pointid']},{point['new_xcoordinate']},{point['crddb_ycoordinate']},0\n",
    "    TYPE-CROSSSECTION,1,LT,{path_cross_section1}\n",
    "      DISPLAY-COLOR,1,0,0,1\n",
    "    TYPE-CROSSSECTION,2,DT,{path_cross_section2}\n",
    "      DISPLAY-COLOR,1,1,0,0\n",
    "  CIRCUIT\n",
    "    PATH-CONSTRUCTION,1,1,2,2,1,1\n",
    "    PATH-CONSTRUCTION,2,1,2,2,2,2\n",
    "    CENTRAL-SITE,CentralSite\n",
    "    TERMINAL,1,Term1\n",
    "      EARTH,{soil_resistence_term1_LT},0,LT,1\n",
    "      EARTH,{soil_resistence_term1_DT},0,DT,2\n",
    "      LINES   \n",
    "{energization_LT}\n",
    "    TERMINAL,2,Term2\n",
    "      EARTH,{soil_resistence_term2_LT},0,LT,1\n",
    "      EARTH,{soil_resistence_term2_DT},0,DT,2\n",
    "      LINES\n",
    "{energization_DT}\n",
    "    PATH,1,Path\n",
    "      CONNECT-SATE-REF,NO\n",
    "    PATH,2,DT\n",
    "      CONNECT-SATE-REF,NO\n",
    "    PHASE-LEAKAGE\n",
    "      DEFAULT-DEFINITION,.\\SP-PhaseLeakageDefinition\\{name_leakage}\n",
    "ENDPROGRAM\"\"\""
   ]
  },
  {
   "cell_type": "code",
   "execution_count": null,
   "metadata": {},
   "outputs": [],
   "source": [
    "print(final)"
   ]
  },
  {
   "cell_type": "code",
   "execution_count": null,
   "metadata": {},
   "outputs": [],
   "source": [
    "file_name = \"C:/Users/Public/Documents/SES Software/My Projects/TestPython/RC_final.f05\"\n",
    "save_to_txt_file(file_name, final)"
   ]
  }
 ],
 "metadata": {
  "kernelspec": {
   "display_name": "base",
   "language": "python",
   "name": "python3"
  },
  "language_info": {
   "codemirror_mode": {
    "name": "ipython",
    "version": 3
   },
   "file_extension": ".py",
   "mimetype": "text/x-python",
   "name": "python",
   "nbconvert_exporter": "python",
   "pygments_lexer": "ipython3",
   "version": "3.11.5"
  }
 },
 "nbformat": 4,
 "nbformat_minor": 2
}
