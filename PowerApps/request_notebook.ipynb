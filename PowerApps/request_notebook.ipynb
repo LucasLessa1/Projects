{
 "cells": [
  {
   "cell_type": "code",
   "execution_count": 1,
   "metadata": {},
   "outputs": [],
   "source": [
    "from selenium import webdriver\n",
    "from selenium.webdriver.chrome.service import Service as ChromeSerice\n",
    "import requests\n",
    "from selenium.webdriver.common.by import By\n",
    "\n",
    "from selenium import webdriver\n",
    "import requests\n",
    "import pyautogui as py\n",
    "import time\n",
    "\n",
    "import clipboard\n",
    "import pandas as pd"
   ]
  },
  {
   "cell_type": "code",
   "execution_count": 2,
   "metadata": {},
   "outputs": [],
   "source": [
    "user = \"190126230@aluno.unb.br\"\n",
    "password = \"ENG1901me00$$\""
   ]
  },
  {
   "cell_type": "code",
   "execution_count": 3,
   "metadata": {},
   "outputs": [
    {
     "name": "stdout",
     "output_type": "stream",
     "text": [
      "https://localhost/?code=0.AQoAoZs17AtjK024M8jm1I-AWYkU-FHuEp5Kqq6iWR9FmH0BAAA.AgABAAIAAAAmoFfGtYxvRrNriQdPKIZ-AgDs_wUA9P_PtSpVEPjKExroKMT8g5u7dw172nSqeJhesOY1PDkdxywrBUTBzRlDfaojmiYNoPIR8Rygf-7FGLODF8siOw2BG9mM9OoC_r3iCJV4iQaMGkM0u0mdvuWoSrpuIjy3Ll_VLt6xT0UWSmpA-IJxmSJQIR1HtnNfshX488XWlHaikf_0IebQHh3D-D6tZXNKkZskf5aW4wAswo0GeJzc0WP5zDDnB7CGiyy8O8j-thyZM_g0viMSCcSukX93TmlrhJBNEwF2TmflUEjvCaaO6P4SLOd9H-EoRmhDsMhOiP6xsaP0bYZr5Z6g25167Z9IP2-Rwy4_YUXf71rg9B1HIig-jWbyO6B3m-ZRXdaRxILblRz-xT4upAh_sVzzKVA2b99lWxjFHVRKOJImpJ7zm_vGuwAN51XfQre93Uox33YQXgvrKXNcBhUb6AeB_Bwy4THcl7tx4bmAxRY2RTq1CE4dHPuq6mntOZzKoklgSjiR_Bmx_u5-irHgMEXPMeBxpPjyJv0i6Bed9ekysh-Sf8n_ABEVvvVrK-lfDatI7UoPl7EMX6lr8GsG0IP1VVMRU__CWeDZ2tmrCwnQ8f1SldJH1ZZkwLI4489odx2yxt6peKSKo9fLIBrjE8J61t9v6rI&session_state=ef08030e-f358-4768-8692-ea592b70c396\n"
     ]
    }
   ],
   "source": [
    "# Initialize a Chrome WebDriver\n",
    "driver = webdriver.Chrome()\n",
    "\n",
    "# Your Azure AD and OAuth2.0 parameters\n",
    "url = 'https://org425ee2cf.api.crm.dynamics.com'\n",
    "client_id = '51f81489-12ee-4a9e-aaae-a2591f45987d'\n",
    "callback_base_url = 'https://localhost'\n",
    "\n",
    "\n",
    "# Construct the authorization URL with query parameters\n",
    "auth_url = f'https://login.microsoftonline.com/common/oauth2/authorize?' \\\n",
    "           f'client_id={client_id}&response_type=code&redirect_uri={callback_base_url}&resource={url}'\n",
    "\n",
    "\n",
    "# Open the authorization URL in a browser\n",
    "driver.get(auth_url)\n",
    "\n",
    "time.sleep(3)\n",
    "py.write(user)\n",
    "time.sleep(1)\n",
    "py.press('enter')\n",
    "\n",
    "\n",
    "time.sleep(3)\n",
    "py.write(password)\n",
    "time.sleep(1)\n",
    "py.press('enter')\n",
    "\n",
    "time.sleep(3)\n",
    "py.hotkey('ctrl', 'l')\n",
    "py.hotkey('ctrl', 'c')\n",
    "callback_url = str(clipboard.paste())\n",
    "print(callback_url)"
   ]
  },
  {
   "cell_type": "code",
   "execution_count": 4,
   "metadata": {},
   "outputs": [
    {
     "name": "stdout",
     "output_type": "stream",
     "text": [
      "Access token:\n",
      "eyJ0eXAiOiJKV1QiLCJhbGciOiJSUzI1NiIsIng1dCI6IjlHbW55RlBraGMzaE91UjIybXZTdmduTG83WSIsImtpZCI6IjlHbW55RlBraGMzaE91UjIybXZTdmduTG83WSJ9.eyJhdWQiOiJodHRwczovL29yZzQyNWVlMmNmLmFwaS5jcm0uZHluYW1pY3MuY29tIiwiaXNzIjoiaHR0cHM6Ly9zdHMud2luZG93cy5uZXQvZWMzNTliYTEtNjMwYi00ZDJiLWI4MzMtYzhlNmQ0OGY4MDU5LyIsImlhdCI6MTcwMDMyMjg0MywibmJmIjoxNzAwMzIyODQzLCJleHAiOjE3MDAzMjgyOTUsImFjY3QiOjAsImFjciI6IjEiLCJhaW8iOiJBVFFBeS84VkFBQUF3dlVMMDBhK244Vlh6UDIwUGlvdGRYOExuZG5pSlN6ZEw0eDhYMmRyY0dkNVNpeFhyckFSOE9hak1ZWDFwWEM1IiwiYW1yIjpbInB3ZCJdLCJhcHBpZCI6IjUxZjgxNDg5LTEyZWUtNGE5ZS1hYWFlLWEyNTkxZjQ1OTg3ZCIsImFwcGlkYWNyIjoiMCIsImZhbWlseV9uYW1lIjoiU2FudG9zIExlc3NhIiwiZ2l2ZW5fbmFtZSI6Ikx1Y2FzIiwiaXBhZGRyIjoiMTY0LjQxLjQuMjYiLCJsb2dpbl9oaW50IjoiTy5DaVE1TTJFMVpUSmlaQzFoWmpJMkxUUTVZbUl0WWpsak9DMDBZV0ZpWW1KaE16QTBaallTSkdWak16VTVZbUV4TFRZek1HSXROR1F5WWkxaU9ETXpMV000WlRaa05EaG1PREExT1JvV01Ua3dNVEkyTWpNd1FHRnNkVzV2TG5WdVlpNWljaUFPIiwibmFtZSI6Ikx1Y2FzIFNhbnRvcyBMZXNzYSIsIm9pZCI6IjkzYTVlMmJkLWFmMjYtNDliYi1iOWM4LTRhYWJiYmEzMDRmNiIsIm9ucHJlbV9zaWQiOiJTLTEtNS0yMS0xNjc1Nzk5NzAtMTcwMjQwMDM5OC0zNTM5NjQ3MzY1LTU0OTI2IiwicHVpZCI6IjEwMDMyMDAwNUZCQzhBOTUiLCJyaCI6IjAuQVFvQW9aczE3QXRqSzAyNE04am0xSS1BV1FjQUFBQUFBQUFBd0FBQUFBQUFBQUFLQUNvLiIsInNjcCI6InVzZXJfaW1wZXJzb25hdGlvbiIsInN1YiI6InRFTUtiTDZhQkR6UGhqbnk5WFlVdDNEOF9WOUNNMEhqUDlnVG9TVUdGa1EiLCJ0ZW5hbnRfcmVnaW9uX3Njb3BlIjoiU0EiLCJ0aWQiOiJlYzM1OWJhMS02MzBiLTRkMmItYjgzMy1jOGU2ZDQ4ZjgwNTkiLCJ1bmlxdWVfbmFtZSI6IjE5MDEyNjIzMEBhbHVuby51bmIuYnIiLCJ1cG4iOiIxOTAxMjYyMzBAYWx1bm8udW5iLmJyIiwidXRpIjoiR1EzNThSUXZZVXFFX2NkYmJKNjlBQSIsInZlciI6IjEuMCIsIndpZHMiOlsiYjc5ZmJmNGQtM2VmOS00Njg5LTgxNDMtNzZiMTk0ZTg1NTA5Il0sInhtc19jYWUiOiIxIn0.RwPfbclb-jynEWxTS4kz81me3IkF_mvKnpYCVHAmZAwm3X9T2HdACNUhwnaUr-HdhBMg7qi53IS0oLw83kicjfZ9s1GdIBXsbSqCi0_fDMkUSrUV9JxC3otkRdvu0dZXgnvscCykFZF2XaxOi5_4qhnHMJW17u9KxnuI1Csl6p2X3w1QP9McPRcJQzcA76nCe6w1oKUqz7O7sFOp4K8gxeYar7i3fXy-yjAMWTqpjoyo6eDr9zsKR7AXgXXVxcgwnpKiuICKtUGnn7iMCutmG6Hm_cogPROTQ27cdT8tsTSj9e3-FTTolO0_VV-GjXE9-g8smvf_2eyDTvK9JwyvPw\n",
      "{'@odata.context': 'https://org425ee2cf.crm.dynamics.com/api/data/v9.2/$metadata#crddb_autorowreportinputsessions', 'value': [{'@odata.etag': 'W/\"4450966\"', 'statecode': 0, 'crddb_coordinatesfile_source_name': 'LT_VM100.csv', 'crddb_jobstatus': 1, 'statuscode': 1, 'crddb_jobid': 'ROW-1004L5J9', 'createdon': '2023-11-07T00:13:40Z', '_crddb_projectid_value': '62560189-fe7c-ee11-8179-000d3a1f576d', '_ownerid_value': 'eade9878-0d57-ee11-be6f-000d3a1f576d', 'modifiedon': '2023-11-17T18:10:04Z', '_crddb_c2a_condtype_value': 'e3dbcae1-6085-ee11-8179-000d3a1f576d', '_modifiedby_value': 'eade9878-0d57-ee11-be6f-000d3a1f576d', 'crddb_coordinatesfile_target_name': 'Gas_VM50_CRUZ_45graus.csv', 'versionnumber': 4450966, 'crddb_coordinatesfile_target': '96c89991-027d-ee11-8179-000d3a1f576d', 'crddb_coordinatesfile_source': '23ab9985-027d-ee11-8179-000d3a1f576d', '_createdby_value': 'eade9878-0d57-ee11-be6f-000d3a1f576d', '_owningbusinessunit_value': '77cd6714-c7eb-ed11-8849-000d3a17a888', '_owninguser_value': 'eade9878-0d57-ee11-be6f-000d3a1f576d', 'crddb_circuittype': 1, 'crddb_autorowreportinputsessionid': '55329a7f-027d-ee11-8179-000d3a1f576d', 'crddb_c2a_vertical': None, 'crddb_c1b_horizontal': None, 'crddb_targetgroundimpedance_left_r': None, 'crddb_c1a_numcond': None, 'crddb_coatingdataresistivity': None, 'crddb_c2b_horizontal': None, 'crddb_steadystatecurrent': None, 'crddb_c2c_numcond': None, 'crddb_term2_name': None, 'crddb_safelimits_steadystate': None, 'importsequencenumber': None, 'crddb_linevoltage': None, 'crddb_sourcelineowner': None, 'utcconversiontimezonecode': None, 'overriddencreatedon': None, 'crddb_c1a_vertical': None, 'crddb_sourceline': None, 'crddb_safelimits_coating': None, 'crddb_c2phasesequence': None, 'crddb_safelimits_currdensity': None, '_crddb_c1b_condtype_value': None, 'crddb_nominalfaultcurrent_3phase_term1_phase': None, 'crddb_c1phasesequence': None, 'crddb_nominalfaultcurrent_3phase_term2_mod': None, 'crddb_nominalfaultcurrent_1phase_term1_phase': None, 'crddb_groundimpedance_terminal1_x': None, 'crddb_groundimpedance_terminal1_r': None, 'crddb_safelimits_insuljoint': None, '_crddb_c1a_condtype_value': None, 'crddb_targetlinetype': None, 'crddb_nominalfaultcurrent_3phase_term1_mod': None, 'crddb_spansbeforeemizone': None, 'crddb_c1c_numcond': None, 'crddb_mitigation_covermaterialthickness': None, 'crddb_nominalfaultcurrent_3phase_term2_phase': None, 'crddb_term1_name': None, '_crddb_c2b_condtype_value': None, 'crddb_nominalfaultcurrent_1phase_term2_phase': None, 'crddb_casedescription': None, 'crddb_c1c_horizontal': None, 'crddb_exposurelength': None, 'crddb_averagespanlength': None, 'crddb_mitigation_covermaterialresistivity': None, 'crddb_coatingdatathickness': None, 'crddb_safelimits_rectifier': None, 'crddb_targetgroundimpedance_right_r': None, 'timezoneruleversionnumber': None, '_owningteam_value': None, 'crddb_targetgroundimpedance_right_x': None, 'crddb_targetlineowner': None, 'crddb_c2b_numcond': None, 'crddb_groundimpedance_towers_r': None, '_modifiedonbehalfby_value': None, 'crddb_c1a_horizontal': None, '_crddb_faullocationsoilresistivity_value': None, 'crddb_c2a_horizontal': None, 'crddb_spansafteremizone': None, 'crddb_safelimits_rb': None, 'crddb_interferencetype': None, '_createdonbehalfby_value': None, 'crddb_faultlocation_epicenter_y': None, 'crddb_faultlocation_epicenter_x': None, 'crddb_safelimits_faultduration': None, 'crddb_nominalfaultcurrent_1phase_term2_mod': None, 'crddb_shieldwirehorizontal1': None, 'crddb_shieldwirehorizontal2': None, 'crddb_c2c_vertical': None, 'crddb_approxtype': None, 'crddb_mitigation_covermaterial': None, 'crddb_progress': None, 'crddb_c1b_numcond': None, 'crddb_c2c_horizontal': None, 'crddb_nominalfaultcurrent_1phase_term1_mod': None, 'crddb_groundimpedance_towers_x': None, 'crddb_crosssection_targety': None, 'crddb_faultlocation_section': None, 'crddb_c1c_vertical': None, 'crddb_c2a_sep': None, '_crddb_authorizationticket_value': None, 'crddb_c1a_sep': None, 'crddb_c2b_vertical': None, 'crddb_contributionfaultcurrent_term2_phase': None, 'crddb_contributionfaultcurrent_term2_mod': None, 'crddb_contributionfaultcurrent_term1_mod': None, 'crddb_c2b_sep': None, 'crddb_targetgroundimpedance_left_x': None, 'crddb_groundimpedance_terminal2_x': None, 'crddb_c1b_sep': None, 'crddb_c2a_numcond': None, 'crddb_groundimpedance_terminal2_r': None, 'crddb_counterpoiselength': None, '_crddb_c1c_condtype_value': None, 'crddb_c1b_vertical': None, 'crddb_contributionfaultcurrent_term1_phase': None, 'crddb_coatingdatatype': None, 'crddb_c2c_sep': None, 'crddb_safelimits_bodycurrent': None, 'crddb_c1c_sep': None, '_crddb_sw2_condtype_value': None, '_crddb_sw1_condtype_value': None, 'crddb_shieldwirevertical2': None, 'crddb_shieldwirevertical1': None, 'crddb_pipediameter': None, '_crddb_c2c_condtype_value': None, 'crddb_targetline': None}, {'@odata.etag': 'W/\"3602231\"', 'statecode': 0, 'crddb_coordinatesfile_source_name': None, 'crddb_jobstatus': 4, 'statuscode': 1, 'crddb_jobid': 'ROW-1002L5M5', 'createdon': '2023-05-21T18:22:27Z', '_crddb_projectid_value': '2018e5fb-e8f7-ed11-8848-000d3a1f576d', '_ownerid_value': '69d46714-c7eb-ed11-8849-000d3a17a888', 'modifiedon': '2023-10-07T13:19:50Z', '_crddb_c2a_condtype_value': None, '_modifiedby_value': 'eade9878-0d57-ee11-be6f-000d3a1f576d', 'crddb_coordinatesfile_target_name': None, 'versionnumber': 3602231, 'crddb_coordinatesfile_target': None, 'crddb_coordinatesfile_source': None, '_createdby_value': '69d46714-c7eb-ed11-8849-000d3a17a888', '_owningbusinessunit_value': '77cd6714-c7eb-ed11-8849-000d3a17a888', '_owninguser_value': '69d46714-c7eb-ed11-8849-000d3a17a888', 'crddb_circuittype': None, 'crddb_autorowreportinputsessionid': '7451df6f-04f8-ed11-8848-000d3a1f576d', 'crddb_c2a_vertical': None, 'crddb_c1b_horizontal': None, 'crddb_targetgroundimpedance_left_r': None, 'crddb_c1a_numcond': None, 'crddb_coatingdataresistivity': None, 'crddb_c2b_horizontal': None, 'crddb_steadystatecurrent': None, 'crddb_c2c_numcond': None, 'crddb_term2_name': None, 'crddb_safelimits_steadystate': None, 'importsequencenumber': None, 'crddb_linevoltage': None, 'crddb_sourcelineowner': None, 'utcconversiontimezonecode': None, 'overriddencreatedon': None, 'crddb_c1a_vertical': None, 'crddb_sourceline': 'Source', 'crddb_safelimits_coating': None, 'crddb_c2phasesequence': None, 'crddb_safelimits_currdensity': None, '_crddb_c1b_condtype_value': None, 'crddb_nominalfaultcurrent_3phase_term1_phase': None, 'crddb_c1phasesequence': None, 'crddb_nominalfaultcurrent_3phase_term2_mod': None, 'crddb_nominalfaultcurrent_1phase_term1_phase': None, 'crddb_groundimpedance_terminal1_x': None, 'crddb_groundimpedance_terminal1_r': None, 'crddb_safelimits_insuljoint': None, '_crddb_c1a_condtype_value': None, 'crddb_targetlinetype': None, 'crddb_nominalfaultcurrent_3phase_term1_mod': None, 'crddb_spansbeforeemizone': None, 'crddb_c1c_numcond': None, 'crddb_mitigation_covermaterialthickness': None, 'crddb_nominalfaultcurrent_3phase_term2_phase': None, 'crddb_term1_name': None, '_crddb_c2b_condtype_value': None, 'crddb_nominalfaultcurrent_1phase_term2_phase': None, 'crddb_casedescription': 'Caso teste', 'crddb_c1c_horizontal': None, 'crddb_exposurelength': None, 'crddb_averagespanlength': None, 'crddb_mitigation_covermaterialresistivity': None, 'crddb_coatingdatathickness': None, 'crddb_safelimits_rectifier': None, 'crddb_targetgroundimpedance_right_r': None, 'timezoneruleversionnumber': None, '_owningteam_value': None, 'crddb_targetgroundimpedance_right_x': None, 'crddb_targetlineowner': None, 'crddb_c2b_numcond': None, 'crddb_groundimpedance_towers_r': None, '_modifiedonbehalfby_value': None, 'crddb_c1a_horizontal': None, '_crddb_faullocationsoilresistivity_value': None, 'crddb_c2a_horizontal': None, 'crddb_spansafteremizone': None, 'crddb_safelimits_rb': None, 'crddb_interferencetype': 2, '_createdonbehalfby_value': None, 'crddb_faultlocation_epicenter_y': None, 'crddb_faultlocation_epicenter_x': None, 'crddb_safelimits_faultduration': None, 'crddb_nominalfaultcurrent_1phase_term2_mod': None, 'crddb_shieldwirehorizontal1': None, 'crddb_shieldwirehorizontal2': None, 'crddb_c2c_vertical': None, 'crddb_approxtype': 1, 'crddb_mitigation_covermaterial': None, 'crddb_progress': 50, 'crddb_c1b_numcond': None, 'crddb_c2c_horizontal': None, 'crddb_nominalfaultcurrent_1phase_term1_mod': None, 'crddb_groundimpedance_towers_x': None, 'crddb_crosssection_targety': None, 'crddb_faultlocation_section': None, 'crddb_c1c_vertical': None, 'crddb_c2a_sep': None, '_crddb_authorizationticket_value': None, 'crddb_c1a_sep': None, 'crddb_c2b_vertical': None, 'crddb_contributionfaultcurrent_term2_phase': None, 'crddb_contributionfaultcurrent_term2_mod': None, 'crddb_contributionfaultcurrent_term1_mod': None, 'crddb_c2b_sep': None, 'crddb_targetgroundimpedance_left_x': None, 'crddb_groundimpedance_terminal2_x': None, 'crddb_c1b_sep': None, 'crddb_c2a_numcond': None, 'crddb_groundimpedance_terminal2_r': None, 'crddb_counterpoiselength': None, '_crddb_c1c_condtype_value': None, 'crddb_c1b_vertical': None, 'crddb_contributionfaultcurrent_term1_phase': None, 'crddb_coatingdatatype': None, 'crddb_c2c_sep': None, 'crddb_safelimits_bodycurrent': None, 'crddb_c1c_sep': None, '_crddb_sw2_condtype_value': None, '_crddb_sw1_condtype_value': None, 'crddb_shieldwirevertical2': None, 'crddb_shieldwirevertical1': None, 'crddb_pipediameter': None, '_crddb_c2c_condtype_value': None, 'crddb_targetline': None}]}\n"
     ]
    }
   ],
   "source": [
    "start_index = callback_url.find('code=')\n",
    "end_index = callback_url.find('&', start_index)\n",
    "authorization_code = callback_url[start_index + len('code='):end_index]\n",
    "\n",
    "# Parse the authorization code from the callback URL\n",
    "# authorization_code = callback_url.split('code=')[1]\n",
    "\n",
    "# Exchange the authorization code for an access token\n",
    "token_url = 'https://login.microsoftonline.com/common/oauth2/token'\n",
    "\n",
    "\n",
    "data = {\n",
    "    'grant_type': 'authorization_code',\n",
    "    'client_id': client_id,\n",
    "    'code': authorization_code,\n",
    "    'redirect_uri': callback_base_url,\n",
    "    'resource': url  # Add the 'resource' parameter\n",
    "}\n",
    "\n",
    "headers = {\n",
    "    'Content-Type': 'application/x-www-form-urlencoded'\n",
    "}\n",
    "\n",
    "response = requests.post(token_url, data=data, headers=headers)\n",
    "\n",
    "access_token = response.json().get('access_token')\n",
    "# Display the access token\n",
    "print('Access token:')\n",
    "print(access_token)\n",
    "\n",
    "\n",
    "url = 'https://org425ee2cf.crm.dynamics.com/api/data/v9.2/crddb_autorowreportinputsessions?$top=10'\n",
    "\n",
    "# Create the headers with the Authorization token\n",
    "headers = {\n",
    "    'Authorization': f'Bearer {access_token}'\n",
    "}\n",
    "\n",
    "# Send the HTTP GET request\n",
    "response = requests.get(url, headers=headers)\n",
    "\n",
    "# Process the response as needed\n",
    "data = response.json()  # Assuming the response is in JSON format\n",
    "print(data)"
   ]
  },
  {
   "cell_type": "code",
   "execution_count": 5,
   "metadata": {},
   "outputs": [
    {
     "data": {
      "text/html": [
       "<div>\n",
       "<style scoped>\n",
       "    .dataframe tbody tr th:only-of-type {\n",
       "        vertical-align: middle;\n",
       "    }\n",
       "\n",
       "    .dataframe tbody tr th {\n",
       "        vertical-align: top;\n",
       "    }\n",
       "\n",
       "    .dataframe thead th {\n",
       "        text-align: right;\n",
       "    }\n",
       "</style>\n",
       "<table border=\"1\" class=\"dataframe\">\n",
       "  <thead>\n",
       "    <tr style=\"text-align: right;\">\n",
       "      <th></th>\n",
       "      <th>@odata.etag</th>\n",
       "      <th>statecode</th>\n",
       "      <th>crddb_coordinatesfile_source_name</th>\n",
       "      <th>crddb_jobstatus</th>\n",
       "      <th>statuscode</th>\n",
       "      <th>crddb_jobid</th>\n",
       "      <th>createdon</th>\n",
       "      <th>_crddb_projectid_value</th>\n",
       "      <th>_ownerid_value</th>\n",
       "      <th>modifiedon</th>\n",
       "      <th>...</th>\n",
       "      <th>crddb_c2c_sep</th>\n",
       "      <th>crddb_safelimits_bodycurrent</th>\n",
       "      <th>crddb_c1c_sep</th>\n",
       "      <th>_crddb_sw2_condtype_value</th>\n",
       "      <th>_crddb_sw1_condtype_value</th>\n",
       "      <th>crddb_shieldwirevertical2</th>\n",
       "      <th>crddb_shieldwirevertical1</th>\n",
       "      <th>crddb_pipediameter</th>\n",
       "      <th>_crddb_c2c_condtype_value</th>\n",
       "      <th>crddb_targetline</th>\n",
       "    </tr>\n",
       "  </thead>\n",
       "  <tbody>\n",
       "    <tr>\n",
       "      <th>0</th>\n",
       "      <td>W/\"4450966\"</td>\n",
       "      <td>0</td>\n",
       "      <td>LT_VM100.csv</td>\n",
       "      <td>1</td>\n",
       "      <td>1</td>\n",
       "      <td>ROW-1004L5J9</td>\n",
       "      <td>2023-11-07T00:13:40Z</td>\n",
       "      <td>62560189-fe7c-ee11-8179-000d3a1f576d</td>\n",
       "      <td>eade9878-0d57-ee11-be6f-000d3a1f576d</td>\n",
       "      <td>2023-11-17T18:10:04Z</td>\n",
       "      <td>...</td>\n",
       "      <td>None</td>\n",
       "      <td>None</td>\n",
       "      <td>None</td>\n",
       "      <td>None</td>\n",
       "      <td>None</td>\n",
       "      <td>None</td>\n",
       "      <td>None</td>\n",
       "      <td>None</td>\n",
       "      <td>None</td>\n",
       "      <td>None</td>\n",
       "    </tr>\n",
       "    <tr>\n",
       "      <th>1</th>\n",
       "      <td>W/\"3602231\"</td>\n",
       "      <td>0</td>\n",
       "      <td>None</td>\n",
       "      <td>4</td>\n",
       "      <td>1</td>\n",
       "      <td>ROW-1002L5M5</td>\n",
       "      <td>2023-05-21T18:22:27Z</td>\n",
       "      <td>2018e5fb-e8f7-ed11-8848-000d3a1f576d</td>\n",
       "      <td>69d46714-c7eb-ed11-8849-000d3a17a888</td>\n",
       "      <td>2023-10-07T13:19:50Z</td>\n",
       "      <td>...</td>\n",
       "      <td>None</td>\n",
       "      <td>None</td>\n",
       "      <td>None</td>\n",
       "      <td>None</td>\n",
       "      <td>None</td>\n",
       "      <td>None</td>\n",
       "      <td>None</td>\n",
       "      <td>None</td>\n",
       "      <td>None</td>\n",
       "      <td>None</td>\n",
       "    </tr>\n",
       "  </tbody>\n",
       "</table>\n",
       "<p>2 rows × 126 columns</p>\n",
       "</div>"
      ],
      "text/plain": [
       "   @odata.etag  statecode crddb_coordinatesfile_source_name  crddb_jobstatus  \\\n",
       "0  W/\"4450966\"          0                      LT_VM100.csv                1   \n",
       "1  W/\"3602231\"          0                              None                4   \n",
       "\n",
       "   statuscode   crddb_jobid             createdon  \\\n",
       "0           1  ROW-1004L5J9  2023-11-07T00:13:40Z   \n",
       "1           1  ROW-1002L5M5  2023-05-21T18:22:27Z   \n",
       "\n",
       "                 _crddb_projectid_value                        _ownerid_value  \\\n",
       "0  62560189-fe7c-ee11-8179-000d3a1f576d  eade9878-0d57-ee11-be6f-000d3a1f576d   \n",
       "1  2018e5fb-e8f7-ed11-8848-000d3a1f576d  69d46714-c7eb-ed11-8849-000d3a17a888   \n",
       "\n",
       "             modifiedon  ... crddb_c2c_sep crddb_safelimits_bodycurrent  \\\n",
       "0  2023-11-17T18:10:04Z  ...          None                         None   \n",
       "1  2023-10-07T13:19:50Z  ...          None                         None   \n",
       "\n",
       "  crddb_c1c_sep  _crddb_sw2_condtype_value _crddb_sw1_condtype_value  \\\n",
       "0          None                       None                      None   \n",
       "1          None                       None                      None   \n",
       "\n",
       "  crddb_shieldwirevertical2 crddb_shieldwirevertical1 crddb_pipediameter  \\\n",
       "0                      None                      None               None   \n",
       "1                      None                      None               None   \n",
       "\n",
       "  _crddb_c2c_condtype_value  crddb_targetline  \n",
       "0                      None              None  \n",
       "1                      None              None  \n",
       "\n",
       "[2 rows x 126 columns]"
      ]
     },
     "execution_count": 5,
     "metadata": {},
     "output_type": "execute_result"
    }
   ],
   "source": [
    "data_df = pd.DataFrame(data['value'])\n",
    "data_df"
   ]
  },
  {
   "cell_type": "code",
   "execution_count": 6,
   "metadata": {},
   "outputs": [
    {
     "data": {
      "text/plain": [
       "['55329a7f-027d-ee11-8179-000d3a1f576d',\n",
       " '7451df6f-04f8-ed11-8848-000d3a1f576d']"
      ]
     },
     "execution_count": 6,
     "metadata": {},
     "output_type": "execute_result"
    }
   ],
   "source": [
    "id_projects = list(data_df['crddb_autorowreportinputsessionid'])\n",
    "name_target = list(data_df['crddb_coordinatesfile_target_name'])\n",
    "name_source = list(data_df['crddb_coordinatesfile_source_name'])\n",
    "id_projects"
   ]
  },
  {
   "cell_type": "code",
   "execution_count": 7,
   "metadata": {},
   "outputs": [],
   "source": [
    "# https://org425ee2cf.crm.dynamics.com/main.aspx?appid=711598ab-c3ee-ed11-8848-0022481c5dfb&pagetype=entityrecord&etn=crddb_autorowreportinputsession&id=55329a7f-027d-ee11-8179-000d3a1f576d"
   ]
  },
  {
   "cell_type": "code",
   "execution_count": 8,
   "metadata": {},
   "outputs": [],
   "source": [
    "# id_autorow = data_df['crddb_autorowreportinputsessionid'][0]\n",
    "# id_autorow"
   ]
  },
  {
   "cell_type": "code",
   "execution_count": 13,
   "metadata": {},
   "outputs": [],
   "source": [
    "def downloaded_file(id, column, name):\n",
    "\n",
    "    api_endpoint = f'https://org425ee2cf.crm.dynamics.com/api/data/v9.0/crddb_autorowreportinputsessions({id})/crddb_coordinatesfile_{column}/$value'\n",
    "    response = requests.get(api_endpoint, headers=headers)\n",
    "    if response.status_code == 200:\n",
    "        file_content = response.content\n",
    "        # Write the binary data to a file\n",
    "        with open(name, 'wb') as file:\n",
    "            file.write(file_content)\n",
    "        print(\"File downloaded successfully.\")\n",
    "    else:\n",
    "        print(f\"Failed to download the file. Status code: {response.status_code}\")\n"
   ]
  },
  {
   "cell_type": "code",
   "execution_count": 14,
   "metadata": {},
   "outputs": [],
   "source": [
    "# downloaded_file(id_projects[0], 'target', names[0])"
   ]
  },
  {
   "cell_type": "code",
   "execution_count": 15,
   "metadata": {},
   "outputs": [
    {
     "name": "stdout",
     "output_type": "stream",
     "text": [
      "File downloaded successfully.\n",
      "File downloaded successfully.\n",
      "Failed to download the file. Status code: 404\n",
      "Failed to download the file. Status code: 404\n"
     ]
    }
   ],
   "source": [
    "for i, target, source in zip(id_projects, name_target, name_source):\n",
    "    downloaded_file(i, 'target', target)\n",
    "    downloaded_file(i, 'source', source)\n",
    "        "
   ]
  },
  {
   "cell_type": "code",
   "execution_count": null,
   "metadata": {},
   "outputs": [],
   "source": [
    "918498cececrer"
   ]
  },
  {
   "cell_type": "code",
   "execution_count": null,
   "metadata": {},
   "outputs": [],
   "source": [
    "# https://org425ee2cf.crm.dynamics.com/api/data/v9.0/crddb_autorowreportinputsessions(55329a7f-027d-ee11-8179-000d3a1f576d)/crddb_coordinatesfile_source/$value"
   ]
  },
  {
   "cell_type": "code",
   "execution_count": null,
   "metadata": {},
   "outputs": [],
   "source": [
    "# api_endpoint = 'https://org425ee2cf.crm.dynamics.com/api/data/v9.1/crddb_autorowreportinputsessions'#/ROW-1004L5J9/crddb_coordinatesfile_source'\n",
    "api_endpoint_target = f'https://org425ee2cf.crm.dynamics.com/api/data/v9.0/crddb_autorowreportinputsessions({id_autorow})/crddb_coordinatesfile_target/$value'\n",
    "api_endpoint_source = f'https://org425ee2cf.crm.dynamics.com/api/data/v9.0/crddb_autorowreportinputsessions({id_autorow})/crddb_coordinatesfile_target/$value'\n",
    "\n",
    "\n",
    "headers = {\n",
    "    'Authorization': f'Bearer {access_token}'\n",
    "}\n",
    "\n",
    "# Making the API request to get the file content\n",
    "response_target = requests.get(api_endpoint_target, headers=headers)\n",
    "response_source = requests.get(api_endpoint_source, headers=headers)\n",
    "\n",
    "# Check if the request was successful\n",
    "if response_target.status_code == 200:\n",
    "    file_content = response_target.content\n",
    "    # Write the binary data to a file\n",
    "    with open(names[0], 'wb') as file:\n",
    "        file.write(file_content)\n",
    "    print(\"File downloaded successfully.\")\n",
    "else:\n",
    "    print(f\"Failed to download the file. Status code: {response_target.status_code}\")\n",
    "    \n",
    "# Check if the request was successful\n",
    "if response_source.status_code == 200:\n",
    "    file_content = response_source.content\n",
    "    # Write the binary data to a file\n",
    "    with open(names[1], 'wb') as file:\n",
    "        file.write(file_content)\n",
    "    print(\"File downloaded successfully.\")\n",
    "else:\n",
    "    print(f\"Failed to download the file. Status code: {response_source.status_code}\")\n",
    "    "
   ]
  },
  {
   "cell_type": "code",
   "execution_count": null,
   "metadata": {},
   "outputs": [],
   "source": [
    "875Sdcsdcs67"
   ]
  }
 ],
 "metadata": {
  "kernelspec": {
   "display_name": "base",
   "language": "python",
   "name": "python3"
  },
  "language_info": {
   "codemirror_mode": {
    "name": "ipython",
    "version": 3
   },
   "file_extension": ".py",
   "mimetype": "text/x-python",
   "name": "python",
   "nbconvert_exporter": "python",
   "pygments_lexer": "ipython3",
   "version": "3.9.12"
  }
 },
 "nbformat": 4,
 "nbformat_minor": 2
}
