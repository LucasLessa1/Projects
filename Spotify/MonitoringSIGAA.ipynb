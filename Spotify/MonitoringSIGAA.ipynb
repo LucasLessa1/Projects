{
  "cells": [
    {
      "cell_type": "markdown",
      "metadata": {
        "id": "X1BUSRxpzYAF"
      },
      "source": [
        "Importing Library"
      ]
    },
    {
      "cell_type": "code",
      "execution_count": 5,
      "metadata": {
        "id": "aImQVJex0Y5s"
      },
      "outputs": [],
      "source": [
        "import smtplib\n",
        "import email.message\n",
        "import ssl"
      ]
    },
    {
      "cell_type": "code",
      "execution_count": null,
      "metadata": {},
      "outputs": [],
      "source": [
        "!pip install ssl"
      ]
    },
    {
      "cell_type": "code",
      "execution_count": 6,
      "metadata": {
        "id": "8rsIsPo30gx3"
      },
      "outputs": [],
      "source": [
        "def enviar_email():\n",
        "  corpo_email = \"\"\"\n",
        "  <p> Observei que a matéria CSD no SIGAA, com o Renato, teve movimentação..</p>\n",
        "\n",
        "  <p>Faça algo, seu pessoa.</p>\n",
        "  \"\"\"\n",
        "  msg = email.message.Message()\n",
        "  msg['Subject'] = 'Movimentação SIGAA - Python'\n",
        "  msg['From'] = 'lucaslessaeco@gmail.com'\n",
        "  msg['To'] = 'lucaslessaeco@gmail.com'\n",
        "  password = 'pauh yraf jmds zigu'\n",
        "  msg.add_header('Content-Type', 'text/html')\n",
        "  msg.set_payload(corpo_email)\n",
        "  s = smtplib.SMTP('smtp.gmail.com: 587')\n",
        "  s.starttls()\n",
        "\n",
        "  s.login(msg['From'], password)\n",
        "  s.sendmail(msg['From'], [msg['To']], msg.as_string().encode('utf-8'))\n",
        "  print('Email enviado')\n"
      ]
    },
    {
      "cell_type": "code",
      "execution_count": 7,
      "metadata": {
        "colab": {
          "base_uri": "https://localhost:8080/"
        },
        "id": "av3GSNL81wuH",
        "outputId": "c2c5b55e-ab75-40f9-f954-2161f5e01495"
      },
      "outputs": [
        {
          "ename": "SMTPServerDisconnected",
          "evalue": "Connection unexpectedly closed: [WinError 10060] A connection attempt failed because the connected party did not properly respond after a period of time, or established connection failed because connected host has failed to respond",
          "output_type": "error",
          "traceback": [
            "\u001b[1;31m---------------------------------------------------------------------------\u001b[0m",
            "\u001b[1;31mTimeoutError\u001b[0m                              Traceback (most recent call last)",
            "File \u001b[1;32mc:\\Users\\lucas\\anaconda3\\lib\\smtplib.py:398\u001b[0m, in \u001b[0;36mSMTP.getreply\u001b[1;34m(self)\u001b[0m\n\u001b[0;32m    397\u001b[0m \u001b[39mtry\u001b[39;00m:\n\u001b[1;32m--> 398\u001b[0m     line \u001b[39m=\u001b[39m \u001b[39mself\u001b[39;49m\u001b[39m.\u001b[39;49mfile\u001b[39m.\u001b[39;49mreadline(_MAXLINE \u001b[39m+\u001b[39;49m \u001b[39m1\u001b[39;49m)\n\u001b[0;32m    399\u001b[0m \u001b[39mexcept\u001b[39;00m \u001b[39mOSError\u001b[39;00m \u001b[39mas\u001b[39;00m e:\n",
            "File \u001b[1;32mc:\\Users\\lucas\\anaconda3\\lib\\socket.py:704\u001b[0m, in \u001b[0;36mSocketIO.readinto\u001b[1;34m(self, b)\u001b[0m\n\u001b[0;32m    703\u001b[0m \u001b[39mtry\u001b[39;00m:\n\u001b[1;32m--> 704\u001b[0m     \u001b[39mreturn\u001b[39;00m \u001b[39mself\u001b[39;49m\u001b[39m.\u001b[39;49m_sock\u001b[39m.\u001b[39;49mrecv_into(b)\n\u001b[0;32m    705\u001b[0m \u001b[39mexcept\u001b[39;00m timeout:\n",
            "\u001b[1;31mTimeoutError\u001b[0m: [WinError 10060] A connection attempt failed because the connected party did not properly respond after a period of time, or established connection failed because connected host has failed to respond",
            "\nDuring handling of the above exception, another exception occurred:\n",
            "\u001b[1;31mSMTPServerDisconnected\u001b[0m                    Traceback (most recent call last)",
            "\u001b[1;32mc:\\Codigos_VS\\Projects\\Projects\\WebMonitoring\\MonitoringSIGAA.ipynb Cell 5\u001b[0m in \u001b[0;36m<cell line: 1>\u001b[1;34m()\u001b[0m\n\u001b[1;32m----> <a href='vscode-notebook-cell:/c%3A/Codigos_VS/Projects/Projects/WebMonitoring/MonitoringSIGAA.ipynb#W3sZmlsZQ%3D%3D?line=0'>1</a>\u001b[0m enviar_email()\n",
            "\u001b[1;32mc:\\Codigos_VS\\Projects\\Projects\\WebMonitoring\\MonitoringSIGAA.ipynb Cell 5\u001b[0m in \u001b[0;36menviar_email\u001b[1;34m()\u001b[0m\n\u001b[0;32m     <a href='vscode-notebook-cell:/c%3A/Codigos_VS/Projects/Projects/WebMonitoring/MonitoringSIGAA.ipynb#W3sZmlsZQ%3D%3D?line=12'>13</a>\u001b[0m msg\u001b[39m.\u001b[39mset_payload(corpo_email)\n\u001b[0;32m     <a href='vscode-notebook-cell:/c%3A/Codigos_VS/Projects/Projects/WebMonitoring/MonitoringSIGAA.ipynb#W3sZmlsZQ%3D%3D?line=13'>14</a>\u001b[0m s \u001b[39m=\u001b[39m smtplib\u001b[39m.\u001b[39mSMTP(\u001b[39m'\u001b[39m\u001b[39msmtp.gmail.com: 587\u001b[39m\u001b[39m'\u001b[39m)\n\u001b[1;32m---> <a href='vscode-notebook-cell:/c%3A/Codigos_VS/Projects/Projects/WebMonitoring/MonitoringSIGAA.ipynb#W3sZmlsZQ%3D%3D?line=14'>15</a>\u001b[0m s\u001b[39m.\u001b[39;49mstarttls()\n\u001b[0;32m     <a href='vscode-notebook-cell:/c%3A/Codigos_VS/Projects/Projects/WebMonitoring/MonitoringSIGAA.ipynb#W3sZmlsZQ%3D%3D?line=16'>17</a>\u001b[0m s\u001b[39m.\u001b[39mlogin(msg[\u001b[39m'\u001b[39m\u001b[39mFrom\u001b[39m\u001b[39m'\u001b[39m], password)\n\u001b[0;32m     <a href='vscode-notebook-cell:/c%3A/Codigos_VS/Projects/Projects/WebMonitoring/MonitoringSIGAA.ipynb#W3sZmlsZQ%3D%3D?line=17'>18</a>\u001b[0m s\u001b[39m.\u001b[39msendmail(msg[\u001b[39m'\u001b[39m\u001b[39mFrom\u001b[39m\u001b[39m'\u001b[39m], [msg[\u001b[39m'\u001b[39m\u001b[39mTo\u001b[39m\u001b[39m'\u001b[39m]], msg\u001b[39m.\u001b[39mas_string()\u001b[39m.\u001b[39mencode(\u001b[39m'\u001b[39m\u001b[39mutf-8\u001b[39m\u001b[39m'\u001b[39m))\n",
            "File \u001b[1;32mc:\\Users\\lucas\\anaconda3\\lib\\smtplib.py:769\u001b[0m, in \u001b[0;36mSMTP.starttls\u001b[1;34m(self, keyfile, certfile, context)\u001b[0m\n\u001b[0;32m    752\u001b[0m \u001b[39mdef\u001b[39;00m \u001b[39mstarttls\u001b[39m(\u001b[39mself\u001b[39m, keyfile\u001b[39m=\u001b[39m\u001b[39mNone\u001b[39;00m, certfile\u001b[39m=\u001b[39m\u001b[39mNone\u001b[39;00m, context\u001b[39m=\u001b[39m\u001b[39mNone\u001b[39;00m):\n\u001b[0;32m    753\u001b[0m     \u001b[39m\"\"\"Puts the connection to the SMTP server into TLS mode.\u001b[39;00m\n\u001b[0;32m    754\u001b[0m \n\u001b[0;32m    755\u001b[0m \u001b[39m    If there has been no previous EHLO or HELO command this session, this\u001b[39;00m\n\u001b[1;32m   (...)\u001b[0m\n\u001b[0;32m    767\u001b[0m \u001b[39m                              the helo greeting.\u001b[39;00m\n\u001b[0;32m    768\u001b[0m \u001b[39m    \"\"\"\u001b[39;00m\n\u001b[1;32m--> 769\u001b[0m     \u001b[39mself\u001b[39;49m\u001b[39m.\u001b[39;49mehlo_or_helo_if_needed()\n\u001b[0;32m    770\u001b[0m     \u001b[39mif\u001b[39;00m \u001b[39mnot\u001b[39;00m \u001b[39mself\u001b[39m\u001b[39m.\u001b[39mhas_extn(\u001b[39m\"\u001b[39m\u001b[39mstarttls\u001b[39m\u001b[39m\"\u001b[39m):\n\u001b[0;32m    771\u001b[0m         \u001b[39mraise\u001b[39;00m SMTPNotSupportedError(\n\u001b[0;32m    772\u001b[0m             \u001b[39m\"\u001b[39m\u001b[39mSTARTTLS extension not supported by server.\u001b[39m\u001b[39m\"\u001b[39m)\n",
            "File \u001b[1;32mc:\\Users\\lucas\\anaconda3\\lib\\smtplib.py:611\u001b[0m, in \u001b[0;36mSMTP.ehlo_or_helo_if_needed\u001b[1;34m(self)\u001b[0m\n\u001b[0;32m    600\u001b[0m \u001b[39m\"\"\"Call self.ehlo() and/or self.helo() if needed.\u001b[39;00m\n\u001b[0;32m    601\u001b[0m \n\u001b[0;32m    602\u001b[0m \u001b[39mIf there has been no previous EHLO or HELO command this session, this\u001b[39;00m\n\u001b[1;32m   (...)\u001b[0m\n\u001b[0;32m    608\u001b[0m \u001b[39m                          the helo greeting.\u001b[39;00m\n\u001b[0;32m    609\u001b[0m \u001b[39m\"\"\"\u001b[39;00m\n\u001b[0;32m    610\u001b[0m \u001b[39mif\u001b[39;00m \u001b[39mself\u001b[39m\u001b[39m.\u001b[39mhelo_resp \u001b[39mis\u001b[39;00m \u001b[39mNone\u001b[39;00m \u001b[39mand\u001b[39;00m \u001b[39mself\u001b[39m\u001b[39m.\u001b[39mehlo_resp \u001b[39mis\u001b[39;00m \u001b[39mNone\u001b[39;00m:\n\u001b[1;32m--> 611\u001b[0m     \u001b[39mif\u001b[39;00m \u001b[39mnot\u001b[39;00m (\u001b[39m200\u001b[39m \u001b[39m<\u001b[39m\u001b[39m=\u001b[39m \u001b[39mself\u001b[39;49m\u001b[39m.\u001b[39;49mehlo()[\u001b[39m0\u001b[39m] \u001b[39m<\u001b[39m\u001b[39m=\u001b[39m \u001b[39m299\u001b[39m):\n\u001b[0;32m    612\u001b[0m         (code, resp) \u001b[39m=\u001b[39m \u001b[39mself\u001b[39m\u001b[39m.\u001b[39mhelo()\n\u001b[0;32m    613\u001b[0m         \u001b[39mif\u001b[39;00m \u001b[39mnot\u001b[39;00m (\u001b[39m200\u001b[39m \u001b[39m<\u001b[39m\u001b[39m=\u001b[39m code \u001b[39m<\u001b[39m\u001b[39m=\u001b[39m \u001b[39m299\u001b[39m):\n",
            "File \u001b[1;32mc:\\Users\\lucas\\anaconda3\\lib\\smtplib.py:452\u001b[0m, in \u001b[0;36mSMTP.ehlo\u001b[1;34m(self, name)\u001b[0m\n\u001b[0;32m    450\u001b[0m \u001b[39mself\u001b[39m\u001b[39m.\u001b[39mesmtp_features \u001b[39m=\u001b[39m {}\n\u001b[0;32m    451\u001b[0m \u001b[39mself\u001b[39m\u001b[39m.\u001b[39mputcmd(\u001b[39mself\u001b[39m\u001b[39m.\u001b[39mehlo_msg, name \u001b[39mor\u001b[39;00m \u001b[39mself\u001b[39m\u001b[39m.\u001b[39mlocal_hostname)\n\u001b[1;32m--> 452\u001b[0m (code, msg) \u001b[39m=\u001b[39m \u001b[39mself\u001b[39;49m\u001b[39m.\u001b[39;49mgetreply()\n\u001b[0;32m    453\u001b[0m \u001b[39m# According to RFC1869 some (badly written)\u001b[39;00m\n\u001b[0;32m    454\u001b[0m \u001b[39m# MTA's will disconnect on an ehlo. Toss an exception if\u001b[39;00m\n\u001b[0;32m    455\u001b[0m \u001b[39m# that happens -ddm\u001b[39;00m\n\u001b[0;32m    456\u001b[0m \u001b[39mif\u001b[39;00m code \u001b[39m==\u001b[39m \u001b[39m-\u001b[39m\u001b[39m1\u001b[39m \u001b[39mand\u001b[39;00m \u001b[39mlen\u001b[39m(msg) \u001b[39m==\u001b[39m \u001b[39m0\u001b[39m:\n",
            "File \u001b[1;32mc:\\Users\\lucas\\anaconda3\\lib\\smtplib.py:401\u001b[0m, in \u001b[0;36mSMTP.getreply\u001b[1;34m(self)\u001b[0m\n\u001b[0;32m    399\u001b[0m \u001b[39mexcept\u001b[39;00m \u001b[39mOSError\u001b[39;00m \u001b[39mas\u001b[39;00m e:\n\u001b[0;32m    400\u001b[0m     \u001b[39mself\u001b[39m\u001b[39m.\u001b[39mclose()\n\u001b[1;32m--> 401\u001b[0m     \u001b[39mraise\u001b[39;00m SMTPServerDisconnected(\u001b[39m\"\u001b[39m\u001b[39mConnection unexpectedly closed: \u001b[39m\u001b[39m\"\u001b[39m\n\u001b[0;32m    402\u001b[0m                                  \u001b[39m+\u001b[39m \u001b[39mstr\u001b[39m(e))\n\u001b[0;32m    403\u001b[0m \u001b[39mif\u001b[39;00m \u001b[39mnot\u001b[39;00m line:\n\u001b[0;32m    404\u001b[0m     \u001b[39mself\u001b[39m\u001b[39m.\u001b[39mclose()\n",
            "\u001b[1;31mSMTPServerDisconnected\u001b[0m: Connection unexpectedly closed: [WinError 10060] A connection attempt failed because the connected party did not properly respond after a period of time, or established connection failed because connected host has failed to respond"
          ]
        }
      ],
      "source": [
        "enviar_email()"
      ]
    },
    {
      "cell_type": "code",
      "execution_count": 7,
      "metadata": {
        "colab": {
          "base_uri": "https://localhost:8080/",
          "height": 380
        },
        "id": "q1poysfDBVb8",
        "outputId": "8c076848-cc99-4158-f267-e446c857f58e"
      },
      "outputs": [],
      "source": [
        "import pyautogui as py\n",
        "import pandas as pd\n",
        "import numpy as np\n",
        "import time\n",
        "from selenium import webdriver\n",
        "from selenium.common.exceptions import NoSuchElementException"
      ]
    },
    {
      "cell_type": "code",
      "execution_count": 8,
      "metadata": {},
      "outputs": [],
      "source": [
        "from selenium import webdriver\n",
        "from webdriver_manager.chrome import ChromeDriverManager\n",
        "\n",
        "# driver = webdriver.Chrome(ChromeDriverManager().install())"
      ]
    },
    {
      "cell_type": "code",
      "execution_count": 13,
      "metadata": {},
      "outputs": [
        {
          "name": "stdout",
          "output_type": "stream",
          "text": [
            "Collecting chromedriver_autoinstaller\n",
            "  Downloading chromedriver_autoinstaller-0.6.2-py3-none-any.whl (7.4 kB)\n",
            "Installing collected packages: chromedriver-autoinstaller\n",
            "Successfully installed chromedriver-autoinstaller-0.6.2\n"
          ]
        }
      ],
      "source": [
        "!pip install chromedriver_autoinstaller"
      ]
    },
    {
      "cell_type": "code",
      "execution_count": 26,
      "metadata": {},
      "outputs": [],
      "source": [
        "from selenium import webdriver\n",
        "from chromedriver_autoinstaller import install as cda_install\n",
        "\n",
        "# Install ChromeDriver\n",
        "cda_install()\n",
        "\n",
        "# Initialize WebDriver\n",
        "navegador = webdriver.Chrome()\n"
      ]
    },
    {
      "cell_type": "code",
      "execution_count": 9,
      "metadata": {},
      "outputs": [],
      "source": [
        "import clipboard"
      ]
    },
    {
      "cell_type": "code",
      "execution_count": 16,
      "metadata": {},
      "outputs": [],
      "source": [
        "navegador = webdriver.Chrome()"
      ]
    },
    {
      "cell_type": "code",
      "execution_count": 27,
      "metadata": {},
      "outputs": [
        {
          "name": "stdout",
          "output_type": "stream",
          "text": [
            "Você tem uma chance\n"
          ]
        },
        {
          "ename": "SMTPServerDisconnected",
          "evalue": "Connection unexpectedly closed: [WinError 10060] A connection attempt failed because the connected party did not properly respond after a period of time, or established connection failed because connected host has failed to respond",
          "output_type": "error",
          "traceback": [
            "\u001b[1;31m---------------------------------------------------------------------------\u001b[0m",
            "\u001b[1;31mTimeoutError\u001b[0m                              Traceback (most recent call last)",
            "File \u001b[1;32mc:\\Users\\lucas\\anaconda3\\lib\\smtplib.py:398\u001b[0m, in \u001b[0;36mSMTP.getreply\u001b[1;34m(self)\u001b[0m\n\u001b[0;32m    397\u001b[0m \u001b[39mtry\u001b[39;00m:\n\u001b[1;32m--> 398\u001b[0m     line \u001b[39m=\u001b[39m \u001b[39mself\u001b[39;49m\u001b[39m.\u001b[39;49mfile\u001b[39m.\u001b[39;49mreadline(_MAXLINE \u001b[39m+\u001b[39;49m \u001b[39m1\u001b[39;49m)\n\u001b[0;32m    399\u001b[0m \u001b[39mexcept\u001b[39;00m \u001b[39mOSError\u001b[39;00m \u001b[39mas\u001b[39;00m e:\n",
            "File \u001b[1;32mc:\\Users\\lucas\\anaconda3\\lib\\socket.py:704\u001b[0m, in \u001b[0;36mSocketIO.readinto\u001b[1;34m(self, b)\u001b[0m\n\u001b[0;32m    703\u001b[0m \u001b[39mtry\u001b[39;00m:\n\u001b[1;32m--> 704\u001b[0m     \u001b[39mreturn\u001b[39;00m \u001b[39mself\u001b[39;49m\u001b[39m.\u001b[39;49m_sock\u001b[39m.\u001b[39;49mrecv_into(b)\n\u001b[0;32m    705\u001b[0m \u001b[39mexcept\u001b[39;00m timeout:\n",
            "\u001b[1;31mTimeoutError\u001b[0m: [WinError 10060] A connection attempt failed because the connected party did not properly respond after a period of time, or established connection failed because connected host has failed to respond",
            "\nDuring handling of the above exception, another exception occurred:\n",
            "\u001b[1;31mSMTPServerDisconnected\u001b[0m                    Traceback (most recent call last)",
            "\u001b[1;32mc:\\Codigos_VS\\Projects\\Projects\\WebMonitoring\\MonitoringSIGAA.ipynb Cell 11\u001b[0m in \u001b[0;36m<cell line: 33>\u001b[1;34m()\u001b[0m\n\u001b[0;32m     <a href='vscode-notebook-cell:/c%3A/Codigos_VS/Projects/Projects/WebMonitoring/MonitoringSIGAA.ipynb#X10sZmlsZQ%3D%3D?line=35'>36</a>\u001b[0m \u001b[39melse\u001b[39;00m:\n\u001b[0;32m     <a href='vscode-notebook-cell:/c%3A/Codigos_VS/Projects/Projects/WebMonitoring/MonitoringSIGAA.ipynb#X10sZmlsZQ%3D%3D?line=36'>37</a>\u001b[0m     \u001b[39mprint\u001b[39m(\u001b[39m\"\u001b[39m\u001b[39mVocê tem uma chance\u001b[39m\u001b[39m\"\u001b[39m)\n\u001b[1;32m---> <a href='vscode-notebook-cell:/c%3A/Codigos_VS/Projects/Projects/WebMonitoring/MonitoringSIGAA.ipynb#X10sZmlsZQ%3D%3D?line=37'>38</a>\u001b[0m     enviar_email()\n\u001b[0;32m     <a href='vscode-notebook-cell:/c%3A/Codigos_VS/Projects/Projects/WebMonitoring/MonitoringSIGAA.ipynb#X10sZmlsZQ%3D%3D?line=38'>39</a>\u001b[0m     enviar_email()\n\u001b[0;32m     <a href='vscode-notebook-cell:/c%3A/Codigos_VS/Projects/Projects/WebMonitoring/MonitoringSIGAA.ipynb#X10sZmlsZQ%3D%3D?line=39'>40</a>\u001b[0m     enviar_email()\n",
            "\u001b[1;32mc:\\Codigos_VS\\Projects\\Projects\\WebMonitoring\\MonitoringSIGAA.ipynb Cell 11\u001b[0m in \u001b[0;36menviar_email\u001b[1;34m()\u001b[0m\n\u001b[0;32m     <a href='vscode-notebook-cell:/c%3A/Codigos_VS/Projects/Projects/WebMonitoring/MonitoringSIGAA.ipynb#X10sZmlsZQ%3D%3D?line=12'>13</a>\u001b[0m msg\u001b[39m.\u001b[39mset_payload(corpo_email)\n\u001b[0;32m     <a href='vscode-notebook-cell:/c%3A/Codigos_VS/Projects/Projects/WebMonitoring/MonitoringSIGAA.ipynb#X10sZmlsZQ%3D%3D?line=13'>14</a>\u001b[0m s \u001b[39m=\u001b[39m smtplib\u001b[39m.\u001b[39mSMTP(\u001b[39m'\u001b[39m\u001b[39msmtp.gmail.com: 587\u001b[39m\u001b[39m'\u001b[39m)\n\u001b[1;32m---> <a href='vscode-notebook-cell:/c%3A/Codigos_VS/Projects/Projects/WebMonitoring/MonitoringSIGAA.ipynb#X10sZmlsZQ%3D%3D?line=14'>15</a>\u001b[0m s\u001b[39m.\u001b[39;49mstarttls()\n\u001b[0;32m     <a href='vscode-notebook-cell:/c%3A/Codigos_VS/Projects/Projects/WebMonitoring/MonitoringSIGAA.ipynb#X10sZmlsZQ%3D%3D?line=16'>17</a>\u001b[0m s\u001b[39m.\u001b[39mlogin(msg[\u001b[39m'\u001b[39m\u001b[39mFrom\u001b[39m\u001b[39m'\u001b[39m], password)\n\u001b[0;32m     <a href='vscode-notebook-cell:/c%3A/Codigos_VS/Projects/Projects/WebMonitoring/MonitoringSIGAA.ipynb#X10sZmlsZQ%3D%3D?line=17'>18</a>\u001b[0m s\u001b[39m.\u001b[39msendmail(msg[\u001b[39m'\u001b[39m\u001b[39mFrom\u001b[39m\u001b[39m'\u001b[39m], [msg[\u001b[39m'\u001b[39m\u001b[39mTo\u001b[39m\u001b[39m'\u001b[39m]], msg\u001b[39m.\u001b[39mas_string()\u001b[39m.\u001b[39mencode(\u001b[39m'\u001b[39m\u001b[39mutf-8\u001b[39m\u001b[39m'\u001b[39m))\n",
            "File \u001b[1;32mc:\\Users\\lucas\\anaconda3\\lib\\smtplib.py:769\u001b[0m, in \u001b[0;36mSMTP.starttls\u001b[1;34m(self, keyfile, certfile, context)\u001b[0m\n\u001b[0;32m    752\u001b[0m \u001b[39mdef\u001b[39;00m \u001b[39mstarttls\u001b[39m(\u001b[39mself\u001b[39m, keyfile\u001b[39m=\u001b[39m\u001b[39mNone\u001b[39;00m, certfile\u001b[39m=\u001b[39m\u001b[39mNone\u001b[39;00m, context\u001b[39m=\u001b[39m\u001b[39mNone\u001b[39;00m):\n\u001b[0;32m    753\u001b[0m     \u001b[39m\"\"\"Puts the connection to the SMTP server into TLS mode.\u001b[39;00m\n\u001b[0;32m    754\u001b[0m \n\u001b[0;32m    755\u001b[0m \u001b[39m    If there has been no previous EHLO or HELO command this session, this\u001b[39;00m\n\u001b[1;32m   (...)\u001b[0m\n\u001b[0;32m    767\u001b[0m \u001b[39m                              the helo greeting.\u001b[39;00m\n\u001b[0;32m    768\u001b[0m \u001b[39m    \"\"\"\u001b[39;00m\n\u001b[1;32m--> 769\u001b[0m     \u001b[39mself\u001b[39;49m\u001b[39m.\u001b[39;49mehlo_or_helo_if_needed()\n\u001b[0;32m    770\u001b[0m     \u001b[39mif\u001b[39;00m \u001b[39mnot\u001b[39;00m \u001b[39mself\u001b[39m\u001b[39m.\u001b[39mhas_extn(\u001b[39m\"\u001b[39m\u001b[39mstarttls\u001b[39m\u001b[39m\"\u001b[39m):\n\u001b[0;32m    771\u001b[0m         \u001b[39mraise\u001b[39;00m SMTPNotSupportedError(\n\u001b[0;32m    772\u001b[0m             \u001b[39m\"\u001b[39m\u001b[39mSTARTTLS extension not supported by server.\u001b[39m\u001b[39m\"\u001b[39m)\n",
            "File \u001b[1;32mc:\\Users\\lucas\\anaconda3\\lib\\smtplib.py:611\u001b[0m, in \u001b[0;36mSMTP.ehlo_or_helo_if_needed\u001b[1;34m(self)\u001b[0m\n\u001b[0;32m    600\u001b[0m \u001b[39m\"\"\"Call self.ehlo() and/or self.helo() if needed.\u001b[39;00m\n\u001b[0;32m    601\u001b[0m \n\u001b[0;32m    602\u001b[0m \u001b[39mIf there has been no previous EHLO or HELO command this session, this\u001b[39;00m\n\u001b[1;32m   (...)\u001b[0m\n\u001b[0;32m    608\u001b[0m \u001b[39m                          the helo greeting.\u001b[39;00m\n\u001b[0;32m    609\u001b[0m \u001b[39m\"\"\"\u001b[39;00m\n\u001b[0;32m    610\u001b[0m \u001b[39mif\u001b[39;00m \u001b[39mself\u001b[39m\u001b[39m.\u001b[39mhelo_resp \u001b[39mis\u001b[39;00m \u001b[39mNone\u001b[39;00m \u001b[39mand\u001b[39;00m \u001b[39mself\u001b[39m\u001b[39m.\u001b[39mehlo_resp \u001b[39mis\u001b[39;00m \u001b[39mNone\u001b[39;00m:\n\u001b[1;32m--> 611\u001b[0m     \u001b[39mif\u001b[39;00m \u001b[39mnot\u001b[39;00m (\u001b[39m200\u001b[39m \u001b[39m<\u001b[39m\u001b[39m=\u001b[39m \u001b[39mself\u001b[39;49m\u001b[39m.\u001b[39;49mehlo()[\u001b[39m0\u001b[39m] \u001b[39m<\u001b[39m\u001b[39m=\u001b[39m \u001b[39m299\u001b[39m):\n\u001b[0;32m    612\u001b[0m         (code, resp) \u001b[39m=\u001b[39m \u001b[39mself\u001b[39m\u001b[39m.\u001b[39mhelo()\n\u001b[0;32m    613\u001b[0m         \u001b[39mif\u001b[39;00m \u001b[39mnot\u001b[39;00m (\u001b[39m200\u001b[39m \u001b[39m<\u001b[39m\u001b[39m=\u001b[39m code \u001b[39m<\u001b[39m\u001b[39m=\u001b[39m \u001b[39m299\u001b[39m):\n",
            "File \u001b[1;32mc:\\Users\\lucas\\anaconda3\\lib\\smtplib.py:452\u001b[0m, in \u001b[0;36mSMTP.ehlo\u001b[1;34m(self, name)\u001b[0m\n\u001b[0;32m    450\u001b[0m \u001b[39mself\u001b[39m\u001b[39m.\u001b[39mesmtp_features \u001b[39m=\u001b[39m {}\n\u001b[0;32m    451\u001b[0m \u001b[39mself\u001b[39m\u001b[39m.\u001b[39mputcmd(\u001b[39mself\u001b[39m\u001b[39m.\u001b[39mehlo_msg, name \u001b[39mor\u001b[39;00m \u001b[39mself\u001b[39m\u001b[39m.\u001b[39mlocal_hostname)\n\u001b[1;32m--> 452\u001b[0m (code, msg) \u001b[39m=\u001b[39m \u001b[39mself\u001b[39;49m\u001b[39m.\u001b[39;49mgetreply()\n\u001b[0;32m    453\u001b[0m \u001b[39m# According to RFC1869 some (badly written)\u001b[39;00m\n\u001b[0;32m    454\u001b[0m \u001b[39m# MTA's will disconnect on an ehlo. Toss an exception if\u001b[39;00m\n\u001b[0;32m    455\u001b[0m \u001b[39m# that happens -ddm\u001b[39;00m\n\u001b[0;32m    456\u001b[0m \u001b[39mif\u001b[39;00m code \u001b[39m==\u001b[39m \u001b[39m-\u001b[39m\u001b[39m1\u001b[39m \u001b[39mand\u001b[39;00m \u001b[39mlen\u001b[39m(msg) \u001b[39m==\u001b[39m \u001b[39m0\u001b[39m:\n",
            "File \u001b[1;32mc:\\Users\\lucas\\anaconda3\\lib\\smtplib.py:401\u001b[0m, in \u001b[0;36mSMTP.getreply\u001b[1;34m(self)\u001b[0m\n\u001b[0;32m    399\u001b[0m \u001b[39mexcept\u001b[39;00m \u001b[39mOSError\u001b[39;00m \u001b[39mas\u001b[39;00m e:\n\u001b[0;32m    400\u001b[0m     \u001b[39mself\u001b[39m\u001b[39m.\u001b[39mclose()\n\u001b[1;32m--> 401\u001b[0m     \u001b[39mraise\u001b[39;00m SMTPServerDisconnected(\u001b[39m\"\u001b[39m\u001b[39mConnection unexpectedly closed: \u001b[39m\u001b[39m\"\u001b[39m\n\u001b[0;32m    402\u001b[0m                                  \u001b[39m+\u001b[39m \u001b[39mstr\u001b[39m(e))\n\u001b[0;32m    403\u001b[0m \u001b[39mif\u001b[39;00m \u001b[39mnot\u001b[39;00m line:\n\u001b[0;32m    404\u001b[0m     \u001b[39mself\u001b[39m\u001b[39m.\u001b[39mclose()\n",
            "\u001b[1;31mSMTPServerDisconnected\u001b[0m: Connection unexpectedly closed: [WinError 10060] A connection attempt failed because the connected party did not properly respond after a period of time, or established connection failed because connected host has failed to respond"
          ]
        }
      ],
      "source": [
        "navegador = webdriver.Chrome()\n",
        "\n",
        "navegador.get(\"https://sigaa.unb.br/sigaa/public/turmas/listar.jsf?aba=p-ensino\")\n",
        "# time.sleep(1)\n",
        "\n",
        "navegador.find_element(\"xpath\",'/html/body/div/div/div[2]/form/table/tbody/tr[1]/td/select').click()\n",
        "# time.sleep(1)\n",
        "\n",
        "py.press('g')\n",
        "time.sleep(1)\n",
        "\n",
        "py.press('enter')\n",
        "\n",
        "navegador.find_element(\"xpath\",'/html/body/div/div/div[2]/form/table/tbody/tr[2]/td/select').click()\n",
        "\n",
        "for i in range(40):\n",
        "    py.press('down')\n",
        "    time.sleep(0.05)\n",
        "\n",
        "# py.press('enter')\n",
        "navegador.find_element(\"xpath\",'/html/body/div/div/div[2]/form/table/tfoot/tr/td/input[1]').click()\n",
        "\n",
        "\n",
        "time.sleep(0.8)\n",
        "\n",
        "navegador.find_element(\"xpath\",'/html/body/div/div/div[2]/form/div[2]/table/tbody/tr[115]/td[7]').click()\n",
        "time.sleep(0.5)\n",
        "\n",
        "\n",
        "text = navegador.find_element(\"xpath\",'//*[@id=\"turmasAbertas\"]/table/tbody/tr[115]/td[7]').text\n",
        "# text = str(clipboard.paste())\n",
        "\n",
        "if text == '40':\n",
        "    print(f\"Vagas de CSD estão cheias, tem {text}\")\n",
        "\n",
        "else:\n",
        "    print(\"Você tem uma chance\")\n",
        "    enviar_email()\n",
        "    enviar_email()\n",
        "    enviar_email()\n",
        "    enviar_email()\n",
        "\n",
        "py.hotkey('ctrl', 'w')\n",
        "\n"
      ]
    },
    {
      "cell_type": "code",
      "execution_count": 23,
      "metadata": {
        "id": "5hJB_yf3-RSd"
      },
      "outputs": [
        {
          "ename": "NoSuchElementException",
          "evalue": "Message: no such element: Unable to locate element: {\"method\":\"xpath\",\"selector\":\"//*[@id=\"turmasAbertas\"]/table/tbody/tr[122]/td[7]\"}\n  (Session info: chrome=117.0.5938.92)\nStacktrace:\n\tGetHandleVerifier [0x00AECEB3+45171]\n\t(No symbol) [0x00A79101]\n\t(No symbol) [0x0096BE1D]\n\t(No symbol) [0x0099ED40]\n\t(No symbol) [0x0099F20B]\n\t(No symbol) [0x009CF692]\n\t(No symbol) [0x009BB094]\n\t(No symbol) [0x009CDCFA]\n\t(No symbol) [0x009BAE46]\n\t(No symbol) [0x0099675E]\n\t(No symbol) [0x009978FD]\n\tGetHandleVerifier [0x00DA54B9+2897529]\n\tGetHandleVerifier [0x00DEDC6B+3194411]\n\tGetHandleVerifier [0x00DE7A41+3169281]\n\tGetHandleVerifier [0x00B76130+606960]\n\t(No symbol) [0x00A82E7C]\n\t(No symbol) [0x00A7F008]\n\t(No symbol) [0x00A7F12F]\n\t(No symbol) [0x00A71827]\n\tBaseThreadInitThunk [0x75CDFCC9+25]\n\tRtlGetAppContainerNamedObjectPath [0x774F7B1E+286]\n\tRtlGetAppContainerNamedObjectPath [0x774F7AEE+238]\n",
          "output_type": "error",
          "traceback": [
            "\u001b[1;31m---------------------------------------------------------------------------\u001b[0m",
            "\u001b[1;31mNoSuchElementException\u001b[0m                    Traceback (most recent call last)",
            "\u001b[1;32mc:\\Codigos_VS\\Projects\\Projects\\WebMonitoring\\MonitoringSIGAA.ipynb Cell 12\u001b[0m in \u001b[0;36m<cell line: 1>\u001b[1;34m()\u001b[0m\n\u001b[0;32m     <a href='vscode-notebook-cell:/c%3A/Codigos_VS/Projects/Projects/WebMonitoring/MonitoringSIGAA.ipynb#X11sZmlsZQ%3D%3D?line=26'>27</a>\u001b[0m navegador\u001b[39m.\u001b[39mfind_element(\u001b[39m\"\u001b[39m\u001b[39mxpath\u001b[39m\u001b[39m\"\u001b[39m,\u001b[39m'\u001b[39m\u001b[39m/html/body/div/div/div[2]/form/div[2]/table/tbody/tr[115]/td[7]\u001b[39m\u001b[39m'\u001b[39m)\u001b[39m.\u001b[39mclick()\n\u001b[0;32m     <a href='vscode-notebook-cell:/c%3A/Codigos_VS/Projects/Projects/WebMonitoring/MonitoringSIGAA.ipynb#X11sZmlsZQ%3D%3D?line=27'>28</a>\u001b[0m time\u001b[39m.\u001b[39msleep(\u001b[39m0.5\u001b[39m)\n\u001b[1;32m---> <a href='vscode-notebook-cell:/c%3A/Codigos_VS/Projects/Projects/WebMonitoring/MonitoringSIGAA.ipynb#X11sZmlsZQ%3D%3D?line=30'>31</a>\u001b[0m text \u001b[39m=\u001b[39m navegador\u001b[39m.\u001b[39;49mfind_element(\u001b[39m\"\u001b[39;49m\u001b[39mxpath\u001b[39;49m\u001b[39m\"\u001b[39;49m,\u001b[39m'\u001b[39;49m\u001b[39m//*[@id=\u001b[39;49m\u001b[39m\"\u001b[39;49m\u001b[39mturmasAbertas\u001b[39;49m\u001b[39m\"\u001b[39;49m\u001b[39m]/table/tbody/tr[122]/td[7]\u001b[39;49m\u001b[39m'\u001b[39;49m)\u001b[39m.\u001b[39mtext\n\u001b[0;32m     <a href='vscode-notebook-cell:/c%3A/Codigos_VS/Projects/Projects/WebMonitoring/MonitoringSIGAA.ipynb#X11sZmlsZQ%3D%3D?line=32'>33</a>\u001b[0m \u001b[39m# text = str(clipboard.paste())\u001b[39;00m\n\u001b[0;32m     <a href='vscode-notebook-cell:/c%3A/Codigos_VS/Projects/Projects/WebMonitoring/MonitoringSIGAA.ipynb#X11sZmlsZQ%3D%3D?line=34'>35</a>\u001b[0m \u001b[39mif\u001b[39;00m text \u001b[39m==\u001b[39m \u001b[39m'\u001b[39m\u001b[39m40\u001b[39m\u001b[39m'\u001b[39m:\n",
            "File \u001b[1;32mc:\\Users\\lucas\\anaconda3\\lib\\site-packages\\selenium\\webdriver\\remote\\webdriver.py:856\u001b[0m, in \u001b[0;36mWebDriver.find_element\u001b[1;34m(self, by, value)\u001b[0m\n\u001b[0;32m    853\u001b[0m     by \u001b[39m=\u001b[39m By\u001b[39m.\u001b[39mCSS_SELECTOR\n\u001b[0;32m    854\u001b[0m     value \u001b[39m=\u001b[39m \u001b[39m'\u001b[39m\u001b[39m[name=\u001b[39m\u001b[39m\"\u001b[39m\u001b[39m%s\u001b[39;00m\u001b[39m\"\u001b[39m\u001b[39m]\u001b[39m\u001b[39m'\u001b[39m \u001b[39m%\u001b[39m value\n\u001b[1;32m--> 856\u001b[0m \u001b[39mreturn\u001b[39;00m \u001b[39mself\u001b[39;49m\u001b[39m.\u001b[39;49mexecute(Command\u001b[39m.\u001b[39;49mFIND_ELEMENT, {\n\u001b[0;32m    857\u001b[0m     \u001b[39m'\u001b[39;49m\u001b[39musing\u001b[39;49m\u001b[39m'\u001b[39;49m: by,\n\u001b[0;32m    858\u001b[0m     \u001b[39m'\u001b[39;49m\u001b[39mvalue\u001b[39;49m\u001b[39m'\u001b[39;49m: value})[\u001b[39m'\u001b[39m\u001b[39mvalue\u001b[39m\u001b[39m'\u001b[39m]\n",
            "File \u001b[1;32mc:\\Users\\lucas\\anaconda3\\lib\\site-packages\\selenium\\webdriver\\remote\\webdriver.py:429\u001b[0m, in \u001b[0;36mWebDriver.execute\u001b[1;34m(self, driver_command, params)\u001b[0m\n\u001b[0;32m    427\u001b[0m response \u001b[39m=\u001b[39m \u001b[39mself\u001b[39m\u001b[39m.\u001b[39mcommand_executor\u001b[39m.\u001b[39mexecute(driver_command, params)\n\u001b[0;32m    428\u001b[0m \u001b[39mif\u001b[39;00m response:\n\u001b[1;32m--> 429\u001b[0m     \u001b[39mself\u001b[39;49m\u001b[39m.\u001b[39;49merror_handler\u001b[39m.\u001b[39;49mcheck_response(response)\n\u001b[0;32m    430\u001b[0m     response[\u001b[39m'\u001b[39m\u001b[39mvalue\u001b[39m\u001b[39m'\u001b[39m] \u001b[39m=\u001b[39m \u001b[39mself\u001b[39m\u001b[39m.\u001b[39m_unwrap_value(\n\u001b[0;32m    431\u001b[0m         response\u001b[39m.\u001b[39mget(\u001b[39m'\u001b[39m\u001b[39mvalue\u001b[39m\u001b[39m'\u001b[39m, \u001b[39mNone\u001b[39;00m))\n\u001b[0;32m    432\u001b[0m     \u001b[39mreturn\u001b[39;00m response\n",
            "File \u001b[1;32mc:\\Users\\lucas\\anaconda3\\lib\\site-packages\\selenium\\webdriver\\remote\\errorhandler.py:243\u001b[0m, in \u001b[0;36mErrorHandler.check_response\u001b[1;34m(self, response)\u001b[0m\n\u001b[0;32m    241\u001b[0m         alert_text \u001b[39m=\u001b[39m value[\u001b[39m'\u001b[39m\u001b[39malert\u001b[39m\u001b[39m'\u001b[39m]\u001b[39m.\u001b[39mget(\u001b[39m'\u001b[39m\u001b[39mtext\u001b[39m\u001b[39m'\u001b[39m)\n\u001b[0;32m    242\u001b[0m     \u001b[39mraise\u001b[39;00m exception_class(message, screen, stacktrace, alert_text)  \u001b[39m# type: ignore[call-arg]  # mypy is not smart enough here\u001b[39;00m\n\u001b[1;32m--> 243\u001b[0m \u001b[39mraise\u001b[39;00m exception_class(message, screen, stacktrace)\n",
            "\u001b[1;31mNoSuchElementException\u001b[0m: Message: no such element: Unable to locate element: {\"method\":\"xpath\",\"selector\":\"//*[@id=\"turmasAbertas\"]/table/tbody/tr[122]/td[7]\"}\n  (Session info: chrome=117.0.5938.92)\nStacktrace:\n\tGetHandleVerifier [0x00AECEB3+45171]\n\t(No symbol) [0x00A79101]\n\t(No symbol) [0x0096BE1D]\n\t(No symbol) [0x0099ED40]\n\t(No symbol) [0x0099F20B]\n\t(No symbol) [0x009CF692]\n\t(No symbol) [0x009BB094]\n\t(No symbol) [0x009CDCFA]\n\t(No symbol) [0x009BAE46]\n\t(No symbol) [0x0099675E]\n\t(No symbol) [0x009978FD]\n\tGetHandleVerifier [0x00DA54B9+2897529]\n\tGetHandleVerifier [0x00DEDC6B+3194411]\n\tGetHandleVerifier [0x00DE7A41+3169281]\n\tGetHandleVerifier [0x00B76130+606960]\n\t(No symbol) [0x00A82E7C]\n\t(No symbol) [0x00A7F008]\n\t(No symbol) [0x00A7F12F]\n\t(No symbol) [0x00A71827]\n\tBaseThreadInitThunk [0x75CDFCC9+25]\n\tRtlGetAppContainerNamedObjectPath [0x774F7B1E+286]\n\tRtlGetAppContainerNamedObjectPath [0x774F7AEE+238]\n"
          ]
        }
      ],
      "source": [
        "for i in range(24):\n",
        "    navegador = webdriver.Chrome()\n",
        "\n",
        "    navegador.get(\"https://sigaa.unb.br/sigaa/public/turmas/listar.jsf?aba=p-ensino\")\n",
        "    # time.sleep(1)\n",
        "\n",
        "    navegador.find_element(\"xpath\",'/html/body/div/div/div[2]/form/table/tbody/tr[1]/td/select').click()\n",
        "    # time.sleep(1)\n",
        "\n",
        "    py.press('g')\n",
        "    time.sleep(1)\n",
        "\n",
        "    py.press('enter')\n",
        "\n",
        "    navegador.find_element(\"xpath\",'/html/body/div/div/div[2]/form/table/tbody/tr[2]/td/select').click()\n",
        "\n",
        "    for i in range(40):\n",
        "        py.press('down')\n",
        "        time.sleep(0.05)\n",
        "\n",
        "    # py.press('enter')\n",
        "    navegador.find_element(\"xpath\",'/html/body/div/div/div[2]/form/table/tfoot/tr/td/input[1]').click()\n",
        "    \n",
        "    \n",
        "    time.sleep(0.8)\n",
        "\n",
        "    navegador.find_element(\"xpath\",'/html/body/div/div/div[2]/form/div[2]/table/tbody/tr[115]/td[7]').click()\n",
        "    time.sleep(0.5)\n",
        "\n",
        "\n",
        "    text = navegador.find_element(\"xpath\",'//*[@id=\"turmasAbertas\"]/table/tbody/tr[122]/td[7]').text\n",
        "    # text = str(clipboard.paste())\n",
        "\n",
        "    if text == '40':\n",
        "        print(f\"Vagas de CSD estão cheias, tem {text}\")\n",
        "\n",
        "    else:\n",
        "        print(\"Você tem uma chance\")\n",
        "        enviar_email()\n",
        "        enviar_email()\n",
        "        enviar_email()\n",
        "        enviar_email()\n",
        "\n",
        "    py.hotkey('ctrl', 'w')\n",
        "    time.sleep(3600)\n",
        "\n"
      ]
    },
    {
      "cell_type": "code",
      "execution_count": null,
      "metadata": {},
      "outputs": [],
      "source": []
    }
  ],
  "metadata": {
    "colab": {
      "provenance": []
    },
    "kernelspec": {
      "display_name": "Python 3.9.12 ('base')",
      "language": "python",
      "name": "python3"
    },
    "language_info": {
      "codemirror_mode": {
        "name": "ipython",
        "version": 3
      },
      "file_extension": ".py",
      "mimetype": "text/x-python",
      "name": "python",
      "nbconvert_exporter": "python",
      "pygments_lexer": "ipython3",
      "version": "3.9.12"
    },
    "vscode": {
      "interpreter": {
        "hash": "665796ea3363072d3a6057ac2fdbe3c4fcb0d17a4b92295d9707f78e9c46c0af"
      }
    }
  },
  "nbformat": 4,
  "nbformat_minor": 0
}
