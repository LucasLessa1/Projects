{
 "cells": [
  {
   "cell_type": "markdown",
   "metadata": {},
   "source": [
    "This notebook have the goal to classify the Eletric Faults"
   ]
  },
  {
   "cell_type": "markdown",
   "metadata": {},
   "source": [
    "> This project was sugered by professor PhD. Kleber Melo e Silva of Universidade de Brasília"
   ]
  },
  {
   "cell_type": "markdown",
   "metadata": {},
   "source": [
    "# 1 - Imports"
   ]
  },
  {
   "cell_type": "code",
   "execution_count": 1,
   "metadata": {},
   "outputs": [],
   "source": [
    "import pandas as pd\n",
    "import numpy as np\n",
    "import matplotlib.pyplot as plt\n",
    "import seaborn as sns\n",
    "import datetime\n",
    "import gdown"
   ]
  },
  {
   "cell_type": "markdown",
   "metadata": {},
   "source": [
    "# 2 - Pre processing"
   ]
  },
  {
   "cell_type": "code",
   "execution_count": 2,
   "metadata": {},
   "outputs": [],
   "source": [
    "#download data csv\n",
    "def download(id):\n",
    "  url = 'https://drive.google.com/uc?id=' + str(id)\n",
    "  gdown.download(url, output = None, quiet = False)\n",
    "\n",
    "\n",
    "# download('')"
   ]
  },
  {
   "cell_type": "code",
   "execution_count": 3,
   "metadata": {},
   "outputs": [],
   "source": [
    "train_ds = pd.read_csv('classData.csv')\n",
    "classif_df = pd.read_csv('detect_dataset.csv')\n"
   ]
  },
  {
   "cell_type": "markdown",
   "metadata": {},
   "source": [
    "This file contains the dataset to classify the types of fault.\n",
    "Inputs - [Ia,Ib,Ic,Va,Vb,Vc]\n",
    "Outputs - [G C B A]\n",
    "Examples :\n",
    "> [0 0 0 0] - No Fault\n",
    "\n",
    "> [1 0 0 1] - LG fault (Between Phase A and Gnd)\n",
    "\n",
    "> [0 0 1 1] - LL fault (Between Phase A and Phase B)\n",
    "\n",
    "> [1 0 1 1] - LLG Fault (Between Phases A,B and ground)\n",
    "\n",
    "> [0 1 1 1] - LLL Fault(Between all three phases)\n",
    "\n",
    "> [1 1 1 1] - LLLG fault( Three phase symmetrical fault)\n"
   ]
  },
  {
   "cell_type": "code",
   "execution_count": 4,
   "metadata": {},
   "outputs": [
    {
     "data": {
      "text/html": [
       "<div>\n",
       "<style scoped>\n",
       "    .dataframe tbody tr th:only-of-type {\n",
       "        vertical-align: middle;\n",
       "    }\n",
       "\n",
       "    .dataframe tbody tr th {\n",
       "        vertical-align: top;\n",
       "    }\n",
       "\n",
       "    .dataframe thead th {\n",
       "        text-align: right;\n",
       "    }\n",
       "</style>\n",
       "<table border=\"1\" class=\"dataframe\">\n",
       "  <thead>\n",
       "    <tr style=\"text-align: right;\">\n",
       "      <th></th>\n",
       "      <th>G</th>\n",
       "      <th>C</th>\n",
       "      <th>B</th>\n",
       "      <th>A</th>\n",
       "      <th>Ia</th>\n",
       "      <th>Ib</th>\n",
       "      <th>Ic</th>\n",
       "      <th>Va</th>\n",
       "      <th>Vb</th>\n",
       "      <th>Vc</th>\n",
       "    </tr>\n",
       "  </thead>\n",
       "  <tbody>\n",
       "    <tr>\n",
       "      <th>0</th>\n",
       "      <td>1</td>\n",
       "      <td>0</td>\n",
       "      <td>0</td>\n",
       "      <td>1</td>\n",
       "      <td>-151.291812</td>\n",
       "      <td>-9.677452</td>\n",
       "      <td>85.800162</td>\n",
       "      <td>0.400750</td>\n",
       "      <td>-0.132935</td>\n",
       "      <td>-0.267815</td>\n",
       "    </tr>\n",
       "    <tr>\n",
       "      <th>1</th>\n",
       "      <td>1</td>\n",
       "      <td>0</td>\n",
       "      <td>0</td>\n",
       "      <td>1</td>\n",
       "      <td>-336.186183</td>\n",
       "      <td>-76.283262</td>\n",
       "      <td>18.328897</td>\n",
       "      <td>0.312732</td>\n",
       "      <td>-0.123633</td>\n",
       "      <td>-0.189099</td>\n",
       "    </tr>\n",
       "    <tr>\n",
       "      <th>2</th>\n",
       "      <td>1</td>\n",
       "      <td>0</td>\n",
       "      <td>0</td>\n",
       "      <td>1</td>\n",
       "      <td>-502.891583</td>\n",
       "      <td>-174.648023</td>\n",
       "      <td>-80.924663</td>\n",
       "      <td>0.265728</td>\n",
       "      <td>-0.114301</td>\n",
       "      <td>-0.151428</td>\n",
       "    </tr>\n",
       "    <tr>\n",
       "      <th>3</th>\n",
       "      <td>1</td>\n",
       "      <td>0</td>\n",
       "      <td>0</td>\n",
       "      <td>1</td>\n",
       "      <td>-593.941905</td>\n",
       "      <td>-217.703359</td>\n",
       "      <td>-124.891924</td>\n",
       "      <td>0.235511</td>\n",
       "      <td>-0.104940</td>\n",
       "      <td>-0.130570</td>\n",
       "    </tr>\n",
       "    <tr>\n",
       "      <th>4</th>\n",
       "      <td>1</td>\n",
       "      <td>0</td>\n",
       "      <td>0</td>\n",
       "      <td>1</td>\n",
       "      <td>-643.663617</td>\n",
       "      <td>-224.159427</td>\n",
       "      <td>-132.282815</td>\n",
       "      <td>0.209537</td>\n",
       "      <td>-0.095554</td>\n",
       "      <td>-0.113983</td>\n",
       "    </tr>\n",
       "  </tbody>\n",
       "</table>\n",
       "</div>"
      ],
      "text/plain": [
       "   G  C  B  A          Ia          Ib          Ic        Va        Vb  \\\n",
       "0  1  0  0  1 -151.291812   -9.677452   85.800162  0.400750 -0.132935   \n",
       "1  1  0  0  1 -336.186183  -76.283262   18.328897  0.312732 -0.123633   \n",
       "2  1  0  0  1 -502.891583 -174.648023  -80.924663  0.265728 -0.114301   \n",
       "3  1  0  0  1 -593.941905 -217.703359 -124.891924  0.235511 -0.104940   \n",
       "4  1  0  0  1 -643.663617 -224.159427 -132.282815  0.209537 -0.095554   \n",
       "\n",
       "         Vc  \n",
       "0 -0.267815  \n",
       "1 -0.189099  \n",
       "2 -0.151428  \n",
       "3 -0.130570  \n",
       "4 -0.113983  "
      ]
     },
     "execution_count": 4,
     "metadata": {},
     "output_type": "execute_result"
    }
   ],
   "source": [
    "train_ds.head()"
   ]
  },
  {
   "cell_type": "code",
   "execution_count": 5,
   "metadata": {},
   "outputs": [
    {
     "data": {
      "text/html": [
       "<div>\n",
       "<style scoped>\n",
       "    .dataframe tbody tr th:only-of-type {\n",
       "        vertical-align: middle;\n",
       "    }\n",
       "\n",
       "    .dataframe tbody tr th {\n",
       "        vertical-align: top;\n",
       "    }\n",
       "\n",
       "    .dataframe thead th {\n",
       "        text-align: right;\n",
       "    }\n",
       "</style>\n",
       "<table border=\"1\" class=\"dataframe\">\n",
       "  <thead>\n",
       "    <tr style=\"text-align: right;\">\n",
       "      <th></th>\n",
       "      <th>Output (S)</th>\n",
       "      <th>Ia</th>\n",
       "      <th>Ib</th>\n",
       "      <th>Ic</th>\n",
       "      <th>Va</th>\n",
       "      <th>Vb</th>\n",
       "      <th>Vc</th>\n",
       "      <th>Unnamed: 7</th>\n",
       "      <th>Unnamed: 8</th>\n",
       "    </tr>\n",
       "  </thead>\n",
       "  <tbody>\n",
       "    <tr>\n",
       "      <th>0</th>\n",
       "      <td>0</td>\n",
       "      <td>-170.472196</td>\n",
       "      <td>9.219613</td>\n",
       "      <td>161.252583</td>\n",
       "      <td>0.054490</td>\n",
       "      <td>-0.659921</td>\n",
       "      <td>0.605431</td>\n",
       "      <td>NaN</td>\n",
       "      <td>NaN</td>\n",
       "    </tr>\n",
       "    <tr>\n",
       "      <th>1</th>\n",
       "      <td>0</td>\n",
       "      <td>-122.235754</td>\n",
       "      <td>6.168667</td>\n",
       "      <td>116.067087</td>\n",
       "      <td>0.102000</td>\n",
       "      <td>-0.628612</td>\n",
       "      <td>0.526202</td>\n",
       "      <td>NaN</td>\n",
       "      <td>NaN</td>\n",
       "    </tr>\n",
       "    <tr>\n",
       "      <th>2</th>\n",
       "      <td>0</td>\n",
       "      <td>-90.161474</td>\n",
       "      <td>3.813632</td>\n",
       "      <td>86.347841</td>\n",
       "      <td>0.141026</td>\n",
       "      <td>-0.605277</td>\n",
       "      <td>0.464251</td>\n",
       "      <td>NaN</td>\n",
       "      <td>NaN</td>\n",
       "    </tr>\n",
       "    <tr>\n",
       "      <th>3</th>\n",
       "      <td>0</td>\n",
       "      <td>-79.904916</td>\n",
       "      <td>2.398803</td>\n",
       "      <td>77.506112</td>\n",
       "      <td>0.156272</td>\n",
       "      <td>-0.602235</td>\n",
       "      <td>0.445963</td>\n",
       "      <td>NaN</td>\n",
       "      <td>NaN</td>\n",
       "    </tr>\n",
       "    <tr>\n",
       "      <th>4</th>\n",
       "      <td>0</td>\n",
       "      <td>-63.885255</td>\n",
       "      <td>0.590667</td>\n",
       "      <td>63.294587</td>\n",
       "      <td>0.180451</td>\n",
       "      <td>-0.591501</td>\n",
       "      <td>0.411050</td>\n",
       "      <td>NaN</td>\n",
       "      <td>NaN</td>\n",
       "    </tr>\n",
       "  </tbody>\n",
       "</table>\n",
       "</div>"
      ],
      "text/plain": [
       "   Output (S)          Ia        Ib          Ic        Va        Vb        Vc  \\\n",
       "0           0 -170.472196  9.219613  161.252583  0.054490 -0.659921  0.605431   \n",
       "1           0 -122.235754  6.168667  116.067087  0.102000 -0.628612  0.526202   \n",
       "2           0  -90.161474  3.813632   86.347841  0.141026 -0.605277  0.464251   \n",
       "3           0  -79.904916  2.398803   77.506112  0.156272 -0.602235  0.445963   \n",
       "4           0  -63.885255  0.590667   63.294587  0.180451 -0.591501  0.411050   \n",
       "\n",
       "   Unnamed: 7  Unnamed: 8  \n",
       "0         NaN         NaN  \n",
       "1         NaN         NaN  \n",
       "2         NaN         NaN  \n",
       "3         NaN         NaN  \n",
       "4         NaN         NaN  "
      ]
     },
     "execution_count": 5,
     "metadata": {},
     "output_type": "execute_result"
    }
   ],
   "source": [
    "classif_df.head()"
   ]
  },
  {
   "cell_type": "markdown",
   "metadata": {},
   "source": [
    "### Removing Unnamed: 7 and 8 Columns"
   ]
  },
  {
   "cell_type": "code",
   "execution_count": 6,
   "metadata": {},
   "outputs": [
    {
     "data": {
      "text/plain": [
       "Index(['Output (S)', 'Ia', 'Ib', 'Ic', 'Va', 'Vb', 'Vc', 'Unnamed: 7',\n",
       "       'Unnamed: 8'],\n",
       "      dtype='object')"
      ]
     },
     "execution_count": 6,
     "metadata": {},
     "output_type": "execute_result"
    }
   ],
   "source": [
    "classif_df.columns"
   ]
  },
  {
   "cell_type": "code",
   "execution_count": 7,
   "metadata": {},
   "outputs": [
    {
     "data": {
      "text/html": [
       "<div>\n",
       "<style scoped>\n",
       "    .dataframe tbody tr th:only-of-type {\n",
       "        vertical-align: middle;\n",
       "    }\n",
       "\n",
       "    .dataframe tbody tr th {\n",
       "        vertical-align: top;\n",
       "    }\n",
       "\n",
       "    .dataframe thead th {\n",
       "        text-align: right;\n",
       "    }\n",
       "</style>\n",
       "<table border=\"1\" class=\"dataframe\">\n",
       "  <thead>\n",
       "    <tr style=\"text-align: right;\">\n",
       "      <th></th>\n",
       "      <th>Ia</th>\n",
       "      <th>Ib</th>\n",
       "      <th>Ic</th>\n",
       "      <th>Va</th>\n",
       "      <th>Vb</th>\n",
       "      <th>Vc</th>\n",
       "    </tr>\n",
       "  </thead>\n",
       "  <tbody>\n",
       "    <tr>\n",
       "      <th>0</th>\n",
       "      <td>-170.472196</td>\n",
       "      <td>9.219613</td>\n",
       "      <td>161.252583</td>\n",
       "      <td>0.054490</td>\n",
       "      <td>-0.659921</td>\n",
       "      <td>0.605431</td>\n",
       "    </tr>\n",
       "    <tr>\n",
       "      <th>1</th>\n",
       "      <td>-122.235754</td>\n",
       "      <td>6.168667</td>\n",
       "      <td>116.067087</td>\n",
       "      <td>0.102000</td>\n",
       "      <td>-0.628612</td>\n",
       "      <td>0.526202</td>\n",
       "    </tr>\n",
       "    <tr>\n",
       "      <th>2</th>\n",
       "      <td>-90.161474</td>\n",
       "      <td>3.813632</td>\n",
       "      <td>86.347841</td>\n",
       "      <td>0.141026</td>\n",
       "      <td>-0.605277</td>\n",
       "      <td>0.464251</td>\n",
       "    </tr>\n",
       "    <tr>\n",
       "      <th>3</th>\n",
       "      <td>-79.904916</td>\n",
       "      <td>2.398803</td>\n",
       "      <td>77.506112</td>\n",
       "      <td>0.156272</td>\n",
       "      <td>-0.602235</td>\n",
       "      <td>0.445963</td>\n",
       "    </tr>\n",
       "    <tr>\n",
       "      <th>4</th>\n",
       "      <td>-63.885255</td>\n",
       "      <td>0.590667</td>\n",
       "      <td>63.294587</td>\n",
       "      <td>0.180451</td>\n",
       "      <td>-0.591501</td>\n",
       "      <td>0.411050</td>\n",
       "    </tr>\n",
       "    <tr>\n",
       "      <th>...</th>\n",
       "      <td>...</td>\n",
       "      <td>...</td>\n",
       "      <td>...</td>\n",
       "      <td>...</td>\n",
       "      <td>...</td>\n",
       "      <td>...</td>\n",
       "    </tr>\n",
       "    <tr>\n",
       "      <th>11996</th>\n",
       "      <td>-66.237921</td>\n",
       "      <td>38.457041</td>\n",
       "      <td>24.912239</td>\n",
       "      <td>0.094421</td>\n",
       "      <td>-0.552019</td>\n",
       "      <td>0.457598</td>\n",
       "    </tr>\n",
       "    <tr>\n",
       "      <th>11997</th>\n",
       "      <td>-65.849493</td>\n",
       "      <td>37.465454</td>\n",
       "      <td>25.515675</td>\n",
       "      <td>0.103778</td>\n",
       "      <td>-0.555186</td>\n",
       "      <td>0.451407</td>\n",
       "    </tr>\n",
       "    <tr>\n",
       "      <th>11998</th>\n",
       "      <td>-65.446698</td>\n",
       "      <td>36.472055</td>\n",
       "      <td>26.106554</td>\n",
       "      <td>0.113107</td>\n",
       "      <td>-0.558211</td>\n",
       "      <td>0.445104</td>\n",
       "    </tr>\n",
       "    <tr>\n",
       "      <th>11999</th>\n",
       "      <td>-65.029633</td>\n",
       "      <td>35.477088</td>\n",
       "      <td>26.684731</td>\n",
       "      <td>0.122404</td>\n",
       "      <td>-0.561094</td>\n",
       "      <td>0.438690</td>\n",
       "    </tr>\n",
       "    <tr>\n",
       "      <th>12000</th>\n",
       "      <td>-64.598401</td>\n",
       "      <td>34.480799</td>\n",
       "      <td>27.250065</td>\n",
       "      <td>0.131669</td>\n",
       "      <td>-0.563835</td>\n",
       "      <td>0.432166</td>\n",
       "    </tr>\n",
       "  </tbody>\n",
       "</table>\n",
       "<p>12001 rows × 6 columns</p>\n",
       "</div>"
      ],
      "text/plain": [
       "               Ia         Ib          Ic        Va        Vb        Vc\n",
       "0     -170.472196   9.219613  161.252583  0.054490 -0.659921  0.605431\n",
       "1     -122.235754   6.168667  116.067087  0.102000 -0.628612  0.526202\n",
       "2      -90.161474   3.813632   86.347841  0.141026 -0.605277  0.464251\n",
       "3      -79.904916   2.398803   77.506112  0.156272 -0.602235  0.445963\n",
       "4      -63.885255   0.590667   63.294587  0.180451 -0.591501  0.411050\n",
       "...           ...        ...         ...       ...       ...       ...\n",
       "11996  -66.237921  38.457041   24.912239  0.094421 -0.552019  0.457598\n",
       "11997  -65.849493  37.465454   25.515675  0.103778 -0.555186  0.451407\n",
       "11998  -65.446698  36.472055   26.106554  0.113107 -0.558211  0.445104\n",
       "11999  -65.029633  35.477088   26.684731  0.122404 -0.561094  0.438690\n",
       "12000  -64.598401  34.480799   27.250065  0.131669 -0.563835  0.432166\n",
       "\n",
       "[12001 rows x 6 columns]"
      ]
     },
     "execution_count": 7,
     "metadata": {},
     "output_type": "execute_result"
    }
   ],
   "source": [
    "classif_df = classif_df.drop(['Output (S)','Unnamed: 7','Unnamed: 8'], axis=1)\n",
    "classif_df"
   ]
  },
  {
   "cell_type": "code",
   "execution_count": 8,
   "metadata": {},
   "outputs": [
    {
     "name": "stdout",
     "output_type": "stream",
     "text": [
      "Columns of Detection DataSet:\n",
      "Index(['G', 'C', 'B', 'A', 'Ia', 'Ib', 'Ic', 'Va', 'Vb', 'Vc'], dtype='object') \n",
      "\n",
      "G       int64\n",
      "C       int64\n",
      "B       int64\n",
      "A       int64\n",
      "Ia    float64\n",
      "Ib    float64\n",
      "Ic    float64\n",
      "Va    float64\n",
      "Vb    float64\n",
      "Vc    float64\n",
      "dtype: object \n",
      "\n",
      "Types of Detection DataSet:\n",
      "Valeus NaN of Detection DataSet:\n",
      "G     0\n",
      "C     0\n",
      "B     0\n",
      "A     0\n",
      "Ia    0\n",
      "Ib    0\n",
      "Ic    0\n",
      "Va    0\n",
      "Vb    0\n",
      "Vc    0\n",
      "dtype: int64\n"
     ]
    }
   ],
   "source": [
    "print(\"Columns of Detection DataSet:\")\n",
    "print(train_ds.columns, \"\\n\")\n",
    "\n",
    "print(\"Types of Detection DataSet:\")\n",
    "print(train_ds.dtypes, \"\\n\")\n",
    "\n",
    "print(\"Valeus NaN of Detection DataSet:\")\n",
    "print(train_ds.isna().sum())"
   ]
  },
  {
   "cell_type": "code",
   "execution_count": 9,
   "metadata": {},
   "outputs": [
    {
     "name": "stdout",
     "output_type": "stream",
     "text": [
      "Extras information of detection DataSet:\n",
      "                 G            C            B            A           Ia  \\\n",
      "count  7861.000000  7861.000000  7861.000000  7861.000000  7861.000000   \n",
      "mean      0.432006     0.411271     0.555527     0.571429    13.721194   \n",
      "std       0.495387     0.492095     0.496939     0.494903   464.741671   \n",
      "min       0.000000     0.000000     0.000000     0.000000  -883.542316   \n",
      "25%       0.000000     0.000000     0.000000     0.000000  -119.802518   \n",
      "50%       0.000000     0.000000     1.000000     1.000000     2.042805   \n",
      "75%       1.000000     1.000000     1.000000     1.000000   227.246377   \n",
      "max       1.000000     1.000000     1.000000     1.000000   885.738571   \n",
      "\n",
      "                Ib           Ic           Va           Vb           Vc  \n",
      "count  7861.000000  7861.000000  7861.000000  7861.000000  7861.000000  \n",
      "mean    -44.845268    34.392394    -0.007667     0.001152     0.006515  \n",
      "std     439.269195   371.107412     0.289150     0.313437     0.307897  \n",
      "min    -900.526951  -883.357762    -0.620748    -0.608016    -0.612709  \n",
      "25%    -271.845947   -61.034219    -0.130287    -0.159507    -0.215977  \n",
      "50%       5.513317    -4.326711    -0.005290     0.001620     0.009281  \n",
      "75%      91.194282    49.115141     0.111627     0.153507     0.239973  \n",
      "max     889.868884   901.274261     0.595342     0.627875     0.600179   \n",
      "\n"
     ]
    }
   ],
   "source": [
    "print(\"Extras information of detection DataSet:\")\n",
    "print(train_ds.describe(), \"\\n\")"
   ]
  },
  {
   "cell_type": "code",
   "execution_count": 10,
   "metadata": {},
   "outputs": [
    {
     "name": "stdout",
     "output_type": "stream",
     "text": [
      "Columns of Classification DataSet:\n",
      "Index(['Ia', 'Ib', 'Ic', 'Va', 'Vb', 'Vc'], dtype='object') \n",
      "\n"
     ]
    }
   ],
   "source": [
    "print(\"Columns of Classification DataSet:\")\n",
    "print(classif_df.columns, \"\\n\")\n"
   ]
  },
  {
   "cell_type": "code",
   "execution_count": 11,
   "metadata": {},
   "outputs": [
    {
     "name": "stdout",
     "output_type": "stream",
     "text": [
      "Shape of train dataset (7861, 10)\n",
      "Shape of test dataset (12001, 6)\n"
     ]
    }
   ],
   "source": [
    "print(f\"Shape of train dataset {train_ds.shape}\")\n",
    "print(f\"Shape of test dataset {classif_df.shape}\")\n"
   ]
  },
  {
   "cell_type": "code",
   "execution_count": 12,
   "metadata": {},
   "outputs": [
    {
     "data": {
      "text/html": [
       "<div>\n",
       "<style scoped>\n",
       "    .dataframe tbody tr th:only-of-type {\n",
       "        vertical-align: middle;\n",
       "    }\n",
       "\n",
       "    .dataframe tbody tr th {\n",
       "        vertical-align: top;\n",
       "    }\n",
       "\n",
       "    .dataframe thead th {\n",
       "        text-align: right;\n",
       "    }\n",
       "</style>\n",
       "<table border=\"1\" class=\"dataframe\">\n",
       "  <thead>\n",
       "    <tr style=\"text-align: right;\">\n",
       "      <th></th>\n",
       "      <th>Ia</th>\n",
       "      <th>Ib</th>\n",
       "      <th>Ic</th>\n",
       "      <th>Va</th>\n",
       "      <th>Vb</th>\n",
       "      <th>Vc</th>\n",
       "    </tr>\n",
       "  </thead>\n",
       "  <tbody>\n",
       "    <tr>\n",
       "      <th>0</th>\n",
       "      <td>-170.472196</td>\n",
       "      <td>9.219613</td>\n",
       "      <td>161.252583</td>\n",
       "      <td>0.054490</td>\n",
       "      <td>-0.659921</td>\n",
       "      <td>0.605431</td>\n",
       "    </tr>\n",
       "    <tr>\n",
       "      <th>1</th>\n",
       "      <td>-122.235754</td>\n",
       "      <td>6.168667</td>\n",
       "      <td>116.067087</td>\n",
       "      <td>0.102000</td>\n",
       "      <td>-0.628612</td>\n",
       "      <td>0.526202</td>\n",
       "    </tr>\n",
       "    <tr>\n",
       "      <th>2</th>\n",
       "      <td>-90.161474</td>\n",
       "      <td>3.813632</td>\n",
       "      <td>86.347841</td>\n",
       "      <td>0.141026</td>\n",
       "      <td>-0.605277</td>\n",
       "      <td>0.464251</td>\n",
       "    </tr>\n",
       "    <tr>\n",
       "      <th>3</th>\n",
       "      <td>-79.904916</td>\n",
       "      <td>2.398803</td>\n",
       "      <td>77.506112</td>\n",
       "      <td>0.156272</td>\n",
       "      <td>-0.602235</td>\n",
       "      <td>0.445963</td>\n",
       "    </tr>\n",
       "    <tr>\n",
       "      <th>4</th>\n",
       "      <td>-63.885255</td>\n",
       "      <td>0.590667</td>\n",
       "      <td>63.294587</td>\n",
       "      <td>0.180451</td>\n",
       "      <td>-0.591501</td>\n",
       "      <td>0.411050</td>\n",
       "    </tr>\n",
       "  </tbody>\n",
       "</table>\n",
       "</div>"
      ],
      "text/plain": [
       "           Ia        Ib          Ic        Va        Vb        Vc\n",
       "0 -170.472196  9.219613  161.252583  0.054490 -0.659921  0.605431\n",
       "1 -122.235754  6.168667  116.067087  0.102000 -0.628612  0.526202\n",
       "2  -90.161474  3.813632   86.347841  0.141026 -0.605277  0.464251\n",
       "3  -79.904916  2.398803   77.506112  0.156272 -0.602235  0.445963\n",
       "4  -63.885255  0.590667   63.294587  0.180451 -0.591501  0.411050"
      ]
     },
     "execution_count": 12,
     "metadata": {},
     "output_type": "execute_result"
    }
   ],
   "source": [
    "classif_df.head()"
   ]
  },
  {
   "cell_type": "markdown",
   "metadata": {},
   "source": [
    "# Inventando moda"
   ]
  },
  {
   "cell_type": "code",
   "execution_count": 13,
   "metadata": {},
   "outputs": [
    {
     "data": {
      "text/plain": [
       "Text(0.5, 1.0, 'Ground Fault')"
      ]
     },
     "execution_count": 13,
     "metadata": {},
     "output_type": "execute_result"
    },
    {
     "data": {
      "image/png": "[encoded data removed]",
      "text/plain": [
       "<Figure size 432x288 with 2 Axes>"
      ]
     },
     "metadata": {
      "needs_background": "light"
     },
     "output_type": "display_data"
    }
   ],
   "source": [
    "ax = plt.subplot(1,2,1)\n",
    "ax = sns.countplot(x='G', data=train_ds)\n",
    "ax.bar_label(ax.containers[0])\n",
    "plt.title(\"Ground Fault\", fontsize=20,color = 'Brown',pad=20)\n",
    "\n",
    "ax =plt.subplot(1,2,2)\n",
    "ax=train_ds['G'].value_counts().plot.pie(explode=[0.1, 0.1],autopct='%1.2f%%',shadow=True)\n",
    "ax.set_title(label = \"Ground Fault\", fontsize = 20,color='Brown',pad=20)"
   ]
  },
  {
   "cell_type": "code",
   "execution_count": 14,
   "metadata": {},
   "outputs": [
    {
     "data": {
      "text/html": [
       "<div>\n",
       "<style scoped>\n",
       "    .dataframe tbody tr th:only-of-type {\n",
       "        vertical-align: middle;\n",
       "    }\n",
       "\n",
       "    .dataframe tbody tr th {\n",
       "        vertical-align: top;\n",
       "    }\n",
       "\n",
       "    .dataframe thead th {\n",
       "        text-align: right;\n",
       "    }\n",
       "</style>\n",
       "<table border=\"1\" class=\"dataframe\">\n",
       "  <thead>\n",
       "    <tr style=\"text-align: right;\">\n",
       "      <th></th>\n",
       "      <th>G</th>\n",
       "      <th>C</th>\n",
       "      <th>B</th>\n",
       "      <th>A</th>\n",
       "      <th>Ia</th>\n",
       "      <th>Ib</th>\n",
       "      <th>Ic</th>\n",
       "      <th>Va</th>\n",
       "      <th>Vb</th>\n",
       "      <th>Vc</th>\n",
       "      <th>Fault_Type</th>\n",
       "    </tr>\n",
       "  </thead>\n",
       "  <tbody>\n",
       "    <tr>\n",
       "      <th>0</th>\n",
       "      <td>1</td>\n",
       "      <td>0</td>\n",
       "      <td>0</td>\n",
       "      <td>1</td>\n",
       "      <td>-151.291812</td>\n",
       "      <td>-9.677452</td>\n",
       "      <td>85.800162</td>\n",
       "      <td>0.400750</td>\n",
       "      <td>-0.132935</td>\n",
       "      <td>-0.267815</td>\n",
       "      <td>1001</td>\n",
       "    </tr>\n",
       "    <tr>\n",
       "      <th>1</th>\n",
       "      <td>1</td>\n",
       "      <td>0</td>\n",
       "      <td>0</td>\n",
       "      <td>1</td>\n",
       "      <td>-336.186183</td>\n",
       "      <td>-76.283262</td>\n",
       "      <td>18.328897</td>\n",
       "      <td>0.312732</td>\n",
       "      <td>-0.123633</td>\n",
       "      <td>-0.189099</td>\n",
       "      <td>1001</td>\n",
       "    </tr>\n",
       "    <tr>\n",
       "      <th>2</th>\n",
       "      <td>1</td>\n",
       "      <td>0</td>\n",
       "      <td>0</td>\n",
       "      <td>1</td>\n",
       "      <td>-502.891583</td>\n",
       "      <td>-174.648023</td>\n",
       "      <td>-80.924663</td>\n",
       "      <td>0.265728</td>\n",
       "      <td>-0.114301</td>\n",
       "      <td>-0.151428</td>\n",
       "      <td>1001</td>\n",
       "    </tr>\n",
       "    <tr>\n",
       "      <th>3</th>\n",
       "      <td>1</td>\n",
       "      <td>0</td>\n",
       "      <td>0</td>\n",
       "      <td>1</td>\n",
       "      <td>-593.941905</td>\n",
       "      <td>-217.703359</td>\n",
       "      <td>-124.891924</td>\n",
       "      <td>0.235511</td>\n",
       "      <td>-0.104940</td>\n",
       "      <td>-0.130570</td>\n",
       "      <td>1001</td>\n",
       "    </tr>\n",
       "    <tr>\n",
       "      <th>4</th>\n",
       "      <td>1</td>\n",
       "      <td>0</td>\n",
       "      <td>0</td>\n",
       "      <td>1</td>\n",
       "      <td>-643.663617</td>\n",
       "      <td>-224.159427</td>\n",
       "      <td>-132.282815</td>\n",
       "      <td>0.209537</td>\n",
       "      <td>-0.095554</td>\n",
       "      <td>-0.113983</td>\n",
       "      <td>1001</td>\n",
       "    </tr>\n",
       "  </tbody>\n",
       "</table>\n",
       "</div>"
      ],
      "text/plain": [
       "   G  C  B  A          Ia          Ib          Ic        Va        Vb  \\\n",
       "0  1  0  0  1 -151.291812   -9.677452   85.800162  0.400750 -0.132935   \n",
       "1  1  0  0  1 -336.186183  -76.283262   18.328897  0.312732 -0.123633   \n",
       "2  1  0  0  1 -502.891583 -174.648023  -80.924663  0.265728 -0.114301   \n",
       "3  1  0  0  1 -593.941905 -217.703359 -124.891924  0.235511 -0.104940   \n",
       "4  1  0  0  1 -643.663617 -224.159427 -132.282815  0.209537 -0.095554   \n",
       "\n",
       "         Vc Fault_Type  \n",
       "0 -0.267815       1001  \n",
       "1 -0.189099       1001  \n",
       "2 -0.151428       1001  \n",
       "3 -0.130570       1001  \n",
       "4 -0.113983       1001  "
      ]
     },
     "execution_count": 14,
     "metadata": {},
     "output_type": "execute_result"
    }
   ],
   "source": [
    "train_ds['Fault_Type'] = train_ds['G'].astype('str') + train_ds['C'].astype('str') + train_ds['B'].astype('str') + train_ds['A'].astype('str')\n",
    "train_ds.head()\n"
   ]
  },
  {
   "cell_type": "code",
   "execution_count": 15,
   "metadata": {},
   "outputs": [
    {
     "name": "stderr",
     "output_type": "stream",
     "text": [
      "/tmp/ipykernel_999/288564435.py:1: SettingWithCopyWarning: \n",
      "A value is trying to be set on a copy of a slice from a DataFrame\n",
      "\n",
      "See the caveats in the documentation: https://pandas.pydata.org/pandas-docs/stable/user_guide/indexing.html#returning-a-view-versus-a-copy\n",
      "  train_ds['Fault_Type'][train_ds['Fault_Type'] == '0000' ] = 'NO Fault'\n",
      "/tmp/ipykernel_999/288564435.py:2: SettingWithCopyWarning: \n",
      "A value is trying to be set on a copy of a slice from a DataFrame\n",
      "\n",
      "See the caveats in the documentation: https://pandas.pydata.org/pandas-docs/stable/user_guide/indexing.html#returning-a-view-versus-a-copy\n",
      "  train_ds['Fault_Type'][train_ds['Fault_Type'] == '1001' ] = 'Line A to Ground Fault'\n",
      "/tmp/ipykernel_999/288564435.py:3: SettingWithCopyWarning: \n",
      "A value is trying to be set on a copy of a slice from a DataFrame\n",
      "\n",
      "See the caveats in the documentation: https://pandas.pydata.org/pandas-docs/stable/user_guide/indexing.html#returning-a-view-versus-a-copy\n",
      "  train_ds['Fault_Type'][train_ds['Fault_Type'] == '0110' ] = 'Line B to Line C Fault'\n",
      "/tmp/ipykernel_999/288564435.py:4: SettingWithCopyWarning: \n",
      "A value is trying to be set on a copy of a slice from a DataFrame\n",
      "\n",
      "See the caveats in the documentation: https://pandas.pydata.org/pandas-docs/stable/user_guide/indexing.html#returning-a-view-versus-a-copy\n",
      "  train_ds['Fault_Type'][train_ds['Fault_Type'] == '1011' ] = 'Line A Line B to Ground Fault'\n",
      "/tmp/ipykernel_999/288564435.py:5: SettingWithCopyWarning: \n",
      "A value is trying to be set on a copy of a slice from a DataFrame\n",
      "\n",
      "See the caveats in the documentation: https://pandas.pydata.org/pandas-docs/stable/user_guide/indexing.html#returning-a-view-versus-a-copy\n",
      "  train_ds['Fault_Type'][train_ds['Fault_Type'] == '0111' ] = 'Line A Line B Line C'\n",
      "/tmp/ipykernel_999/288564435.py:6: SettingWithCopyWarning: \n",
      "A value is trying to be set on a copy of a slice from a DataFrame\n",
      "\n",
      "See the caveats in the documentation: https://pandas.pydata.org/pandas-docs/stable/user_guide/indexing.html#returning-a-view-versus-a-copy\n",
      "  train_ds['Fault_Type'][train_ds['Fault_Type'] == '1111' ] = 'Line A Line B Line C to Ground Fault'\n"
     ]
    },
    {
     "data": {
      "text/html": [
       "<div>\n",
       "<style scoped>\n",
       "    .dataframe tbody tr th:only-of-type {\n",
       "        vertical-align: middle;\n",
       "    }\n",
       "\n",
       "    .dataframe tbody tr th {\n",
       "        vertical-align: top;\n",
       "    }\n",
       "\n",
       "    .dataframe thead th {\n",
       "        text-align: right;\n",
       "    }\n",
       "</style>\n",
       "<table border=\"1\" class=\"dataframe\">\n",
       "  <thead>\n",
       "    <tr style=\"text-align: right;\">\n",
       "      <th></th>\n",
       "      <th>G</th>\n",
       "      <th>C</th>\n",
       "      <th>B</th>\n",
       "      <th>A</th>\n",
       "      <th>Ia</th>\n",
       "      <th>Ib</th>\n",
       "      <th>Ic</th>\n",
       "      <th>Va</th>\n",
       "      <th>Vb</th>\n",
       "      <th>Vc</th>\n",
       "      <th>Fault_Type</th>\n",
       "    </tr>\n",
       "  </thead>\n",
       "  <tbody>\n",
       "    <tr>\n",
       "      <th>0</th>\n",
       "      <td>1</td>\n",
       "      <td>0</td>\n",
       "      <td>0</td>\n",
       "      <td>1</td>\n",
       "      <td>-151.291812</td>\n",
       "      <td>-9.677452</td>\n",
       "      <td>85.800162</td>\n",
       "      <td>0.400750</td>\n",
       "      <td>-0.132935</td>\n",
       "      <td>-0.267815</td>\n",
       "      <td>Line A to Ground Fault</td>\n",
       "    </tr>\n",
       "    <tr>\n",
       "      <th>1</th>\n",
       "      <td>1</td>\n",
       "      <td>0</td>\n",
       "      <td>0</td>\n",
       "      <td>1</td>\n",
       "      <td>-336.186183</td>\n",
       "      <td>-76.283262</td>\n",
       "      <td>18.328897</td>\n",
       "      <td>0.312732</td>\n",
       "      <td>-0.123633</td>\n",
       "      <td>-0.189099</td>\n",
       "      <td>Line A to Ground Fault</td>\n",
       "    </tr>\n",
       "    <tr>\n",
       "      <th>2</th>\n",
       "      <td>1</td>\n",
       "      <td>0</td>\n",
       "      <td>0</td>\n",
       "      <td>1</td>\n",
       "      <td>-502.891583</td>\n",
       "      <td>-174.648023</td>\n",
       "      <td>-80.924663</td>\n",
       "      <td>0.265728</td>\n",
       "      <td>-0.114301</td>\n",
       "      <td>-0.151428</td>\n",
       "      <td>Line A to Ground Fault</td>\n",
       "    </tr>\n",
       "    <tr>\n",
       "      <th>3</th>\n",
       "      <td>1</td>\n",
       "      <td>0</td>\n",
       "      <td>0</td>\n",
       "      <td>1</td>\n",
       "      <td>-593.941905</td>\n",
       "      <td>-217.703359</td>\n",
       "      <td>-124.891924</td>\n",
       "      <td>0.235511</td>\n",
       "      <td>-0.104940</td>\n",
       "      <td>-0.130570</td>\n",
       "      <td>Line A to Ground Fault</td>\n",
       "    </tr>\n",
       "    <tr>\n",
       "      <th>4</th>\n",
       "      <td>1</td>\n",
       "      <td>0</td>\n",
       "      <td>0</td>\n",
       "      <td>1</td>\n",
       "      <td>-643.663617</td>\n",
       "      <td>-224.159427</td>\n",
       "      <td>-132.282815</td>\n",
       "      <td>0.209537</td>\n",
       "      <td>-0.095554</td>\n",
       "      <td>-0.113983</td>\n",
       "      <td>Line A to Ground Fault</td>\n",
       "    </tr>\n",
       "  </tbody>\n",
       "</table>\n",
       "</div>"
      ],
      "text/plain": [
       "   G  C  B  A          Ia          Ib          Ic        Va        Vb  \\\n",
       "0  1  0  0  1 -151.291812   -9.677452   85.800162  0.400750 -0.132935   \n",
       "1  1  0  0  1 -336.186183  -76.283262   18.328897  0.312732 -0.123633   \n",
       "2  1  0  0  1 -502.891583 -174.648023  -80.924663  0.265728 -0.114301   \n",
       "3  1  0  0  1 -593.941905 -217.703359 -124.891924  0.235511 -0.104940   \n",
       "4  1  0  0  1 -643.663617 -224.159427 -132.282815  0.209537 -0.095554   \n",
       "\n",
       "         Vc              Fault_Type  \n",
       "0 -0.267815  Line A to Ground Fault  \n",
       "1 -0.189099  Line A to Ground Fault  \n",
       "2 -0.151428  Line A to Ground Fault  \n",
       "3 -0.130570  Line A to Ground Fault  \n",
       "4 -0.113983  Line A to Ground Fault  "
      ]
     },
     "execution_count": 15,
     "metadata": {},
     "output_type": "execute_result"
    }
   ],
   "source": [
    "train_ds['Fault_Type'][train_ds['Fault_Type'] == '0000' ] = 'NO Fault'\n",
    "train_ds['Fault_Type'][train_ds['Fault_Type'] == '1001' ] = 'Line A to Ground Fault'\n",
    "train_ds['Fault_Type'][train_ds['Fault_Type'] == '0110' ] = 'Line B to Line C Fault'\n",
    "train_ds['Fault_Type'][train_ds['Fault_Type'] == '1011' ] = 'Line A Line B to Ground Fault'\n",
    "train_ds['Fault_Type'][train_ds['Fault_Type'] == '0111' ] = 'Line A Line B Line C'\n",
    "train_ds['Fault_Type'][train_ds['Fault_Type'] == '1111' ] = 'Line A Line B Line C to Ground Fault'\n",
    "teste_LabelEnconder = train_ds\n",
    "train_ds.head()"
   ]
  },
  {
   "cell_type": "code",
   "execution_count": 16,
   "metadata": {},
   "outputs": [
    {
     "name": "stderr",
     "output_type": "stream",
     "text": [
      "findfont: Font family ['Lucida Calligraphy'] not found. Falling back to DejaVu Sans.\n"
     ]
    },
    {
     "data": {
      "text/plain": [
       "(-1.25, 1.25, -1.25, 1.25)"
      ]
     },
     "execution_count": 16,
     "metadata": {},
     "output_type": "execute_result"
    },
    {
     "data": {
      "image/png": "[encoded data removed]",
      "text/plain": [
       "<Figure size 1152x720 with 2 Axes>"
      ]
     },
     "metadata": {
      "needs_background": "light"
     },
     "output_type": "display_data"
    }
   ],
   "source": [
    "ax = plt.figure(figsize = (16,10))\n",
    "ax = plt.subplot(2,1,1)\n",
    "ax = sns.countplot(x='Fault_Type', data=train_ds)\n",
    "ax.bar_label(ax.containers[0])\n",
    "plt.title(\"Fault Type\", fontsize=20,color = 'Brown',font='Lucida Calligraphy',pad=20)\n",
    "plt.xticks(rotation=65)\n",
    "plt.tight_layout()\n",
    "\n",
    "ax =plt.subplot(2,1,2)\n",
    "ax=train_ds['Fault_Type'].value_counts().plot.pie(explode=[0.1, 0.1,0.1,0.1, 0.1,0.1],autopct='%1.2f%%',shadow=True)\n",
    "plt.tight_layout()\n",
    "plt.axis('off')\n"
   ]
  },
  {
   "cell_type": "code",
   "execution_count": 17,
   "metadata": {},
   "outputs": [
    {
     "data": {
      "image/png": "[encoded data removed]",
      "text/plain": [
       "<Figure size 720x288 with 1 Axes>"
      ]
     },
     "metadata": {
      "needs_background": "light"
     },
     "output_type": "display_data"
    }
   ],
   "source": [
    "plt.figure(figsize = (10,4))\n",
    "plt.plot(train_ds[\"Ia\"])\n",
    "plt.plot(train_ds[\"Ib\"])\n",
    "plt.plot(train_ds[\"Ic\"]);"
   ]
  },
  {
   "cell_type": "code",
   "execution_count": 18,
   "metadata": {},
   "outputs": [
    {
     "data": {
      "image/png": "[encoded data removed]",
      "text/plain": [
       "<Figure size 720x288 with 1 Axes>"
      ]
     },
     "metadata": {
      "needs_background": "light"
     },
     "output_type": "display_data"
    }
   ],
   "source": [
    "plt.figure(figsize = (10,4))\n",
    "plt.plot(train_ds[\"Va\"])\n",
    "plt.plot(train_ds[\"Vb\"])\n",
    "plt.plot(train_ds[\"Vc\"]);"
   ]
  },
  {
   "cell_type": "markdown",
   "metadata": {},
   "source": [
    "# Modelo"
   ]
  },
  {
   "cell_type": "code",
   "execution_count": 19,
   "metadata": {},
   "outputs": [],
   "source": [
    "from sklearn import preprocessing\n",
    "from sklearn.model_selection import train_test_split\n",
    "\n",
    "Min_Max_Scaler = preprocessing.MinMaxScaler()\n"
   ]
  },
  {
   "cell_type": "code",
   "execution_count": 20,
   "metadata": {},
   "outputs": [
    {
     "data": {
      "text/html": [
       "<div>\n",
       "<style scoped>\n",
       "    .dataframe tbody tr th:only-of-type {\n",
       "        vertical-align: middle;\n",
       "    }\n",
       "\n",
       "    .dataframe tbody tr th {\n",
       "        vertical-align: top;\n",
       "    }\n",
       "\n",
       "    .dataframe thead th {\n",
       "        text-align: right;\n",
       "    }\n",
       "</style>\n",
       "<table border=\"1\" class=\"dataframe\">\n",
       "  <thead>\n",
       "    <tr style=\"text-align: right;\">\n",
       "      <th></th>\n",
       "      <th>G</th>\n",
       "      <th>C</th>\n",
       "      <th>B</th>\n",
       "      <th>A</th>\n",
       "      <th>Ia</th>\n",
       "      <th>Ib</th>\n",
       "      <th>Ic</th>\n",
       "      <th>Va</th>\n",
       "      <th>Vb</th>\n",
       "      <th>Vc</th>\n",
       "      <th>Fault_Type</th>\n",
       "    </tr>\n",
       "  </thead>\n",
       "  <tbody>\n",
       "    <tr>\n",
       "      <th>0</th>\n",
       "      <td>1</td>\n",
       "      <td>0</td>\n",
       "      <td>0</td>\n",
       "      <td>1</td>\n",
       "      <td>-151.291812</td>\n",
       "      <td>-9.677452</td>\n",
       "      <td>85.800162</td>\n",
       "      <td>0.400750</td>\n",
       "      <td>-0.132935</td>\n",
       "      <td>-0.267815</td>\n",
       "      <td>Line A to Ground Fault</td>\n",
       "    </tr>\n",
       "    <tr>\n",
       "      <th>1</th>\n",
       "      <td>1</td>\n",
       "      <td>0</td>\n",
       "      <td>0</td>\n",
       "      <td>1</td>\n",
       "      <td>-336.186183</td>\n",
       "      <td>-76.283262</td>\n",
       "      <td>18.328897</td>\n",
       "      <td>0.312732</td>\n",
       "      <td>-0.123633</td>\n",
       "      <td>-0.189099</td>\n",
       "      <td>Line A to Ground Fault</td>\n",
       "    </tr>\n",
       "    <tr>\n",
       "      <th>2</th>\n",
       "      <td>1</td>\n",
       "      <td>0</td>\n",
       "      <td>0</td>\n",
       "      <td>1</td>\n",
       "      <td>-502.891583</td>\n",
       "      <td>-174.648023</td>\n",
       "      <td>-80.924663</td>\n",
       "      <td>0.265728</td>\n",
       "      <td>-0.114301</td>\n",
       "      <td>-0.151428</td>\n",
       "      <td>Line A to Ground Fault</td>\n",
       "    </tr>\n",
       "    <tr>\n",
       "      <th>3</th>\n",
       "      <td>1</td>\n",
       "      <td>0</td>\n",
       "      <td>0</td>\n",
       "      <td>1</td>\n",
       "      <td>-593.941905</td>\n",
       "      <td>-217.703359</td>\n",
       "      <td>-124.891924</td>\n",
       "      <td>0.235511</td>\n",
       "      <td>-0.104940</td>\n",
       "      <td>-0.130570</td>\n",
       "      <td>Line A to Ground Fault</td>\n",
       "    </tr>\n",
       "    <tr>\n",
       "      <th>4</th>\n",
       "      <td>1</td>\n",
       "      <td>0</td>\n",
       "      <td>0</td>\n",
       "      <td>1</td>\n",
       "      <td>-643.663617</td>\n",
       "      <td>-224.159427</td>\n",
       "      <td>-132.282815</td>\n",
       "      <td>0.209537</td>\n",
       "      <td>-0.095554</td>\n",
       "      <td>-0.113983</td>\n",
       "      <td>Line A to Ground Fault</td>\n",
       "    </tr>\n",
       "  </tbody>\n",
       "</table>\n",
       "</div>"
      ],
      "text/plain": [
       "   G  C  B  A          Ia          Ib          Ic        Va        Vb  \\\n",
       "0  1  0  0  1 -151.291812   -9.677452   85.800162  0.400750 -0.132935   \n",
       "1  1  0  0  1 -336.186183  -76.283262   18.328897  0.312732 -0.123633   \n",
       "2  1  0  0  1 -502.891583 -174.648023  -80.924663  0.265728 -0.114301   \n",
       "3  1  0  0  1 -593.941905 -217.703359 -124.891924  0.235511 -0.104940   \n",
       "4  1  0  0  1 -643.663617 -224.159427 -132.282815  0.209537 -0.095554   \n",
       "\n",
       "         Vc              Fault_Type  \n",
       "0 -0.267815  Line A to Ground Fault  \n",
       "1 -0.189099  Line A to Ground Fault  \n",
       "2 -0.151428  Line A to Ground Fault  \n",
       "3 -0.130570  Line A to Ground Fault  \n",
       "4 -0.113983  Line A to Ground Fault  "
      ]
     },
     "execution_count": 20,
     "metadata": {},
     "output_type": "execute_result"
    }
   ],
   "source": [
    "train_ds.head()"
   ]
  },
  {
   "cell_type": "code",
   "execution_count": 22,
   "metadata": {},
   "outputs": [
    {
     "data": {
      "text/plain": [
       "array([3, 3, 3, ..., 5, 5, 5])"
      ]
     },
     "execution_count": 22,
     "metadata": {},
     "output_type": "execute_result"
    }
   ],
   "source": [
    "LabelEncoder = preprocessing.LabelEncoder()\n",
    "\n",
    "LabelEncoder.fit(train_ds[\"Fault_Type\"])\n",
    "\n",
    "teste_aux = LabelEncoder.transform(train_ds[\"Fault_Type\"])\n",
    "teste_aux"
   ]
  },
  {
   "cell_type": "code",
   "execution_count": 23,
   "metadata": {},
   "outputs": [
    {
     "name": "stdout",
     "output_type": "stream",
     "text": [
      "{'Line A Line B Line C': 0, 'Line A Line B Line C to Ground Fault': 1, 'Line A Line B to Ground Fault': 2, 'Line A to Ground Fault': 3, 'Line B to Line C Fault': 4, 'NO Fault': 5}\n"
     ]
    }
   ],
   "source": [
    "train_ds['encoded'] = LabelEncoder.transform(train_ds['Fault_Type'])\n",
    "keys = LabelEncoder.classes_\n",
    "values = LabelEncoder.transform(LabelEncoder.classes_)\n",
    "dictionary = dict(zip(keys, values))\n",
    "print(dictionary)"
   ]
  },
  {
   "cell_type": "code",
   "execution_count": 24,
   "metadata": {},
   "outputs": [
    {
     "data": {
      "text/html": [
       "<div>\n",
       "<style scoped>\n",
       "    .dataframe tbody tr th:only-of-type {\n",
       "        vertical-align: middle;\n",
       "    }\n",
       "\n",
       "    .dataframe tbody tr th {\n",
       "        vertical-align: top;\n",
       "    }\n",
       "\n",
       "    .dataframe thead th {\n",
       "        text-align: right;\n",
       "    }\n",
       "</style>\n",
       "<table border=\"1\" class=\"dataframe\">\n",
       "  <thead>\n",
       "    <tr style=\"text-align: right;\">\n",
       "      <th></th>\n",
       "      <th>G</th>\n",
       "      <th>C</th>\n",
       "      <th>B</th>\n",
       "      <th>A</th>\n",
       "      <th>Ia</th>\n",
       "      <th>Ib</th>\n",
       "      <th>Ic</th>\n",
       "      <th>Va</th>\n",
       "      <th>Vb</th>\n",
       "      <th>Vc</th>\n",
       "      <th>Fault_Type</th>\n",
       "      <th>encoded</th>\n",
       "    </tr>\n",
       "  </thead>\n",
       "  <tbody>\n",
       "    <tr>\n",
       "      <th>0</th>\n",
       "      <td>1</td>\n",
       "      <td>0</td>\n",
       "      <td>0</td>\n",
       "      <td>1</td>\n",
       "      <td>-151.291812</td>\n",
       "      <td>-9.677452</td>\n",
       "      <td>85.800162</td>\n",
       "      <td>0.400750</td>\n",
       "      <td>-0.132935</td>\n",
       "      <td>-0.267815</td>\n",
       "      <td>Line A to Ground Fault</td>\n",
       "      <td>3</td>\n",
       "    </tr>\n",
       "    <tr>\n",
       "      <th>1</th>\n",
       "      <td>1</td>\n",
       "      <td>0</td>\n",
       "      <td>0</td>\n",
       "      <td>1</td>\n",
       "      <td>-336.186183</td>\n",
       "      <td>-76.283262</td>\n",
       "      <td>18.328897</td>\n",
       "      <td>0.312732</td>\n",
       "      <td>-0.123633</td>\n",
       "      <td>-0.189099</td>\n",
       "      <td>Line A to Ground Fault</td>\n",
       "      <td>3</td>\n",
       "    </tr>\n",
       "    <tr>\n",
       "      <th>2</th>\n",
       "      <td>1</td>\n",
       "      <td>0</td>\n",
       "      <td>0</td>\n",
       "      <td>1</td>\n",
       "      <td>-502.891583</td>\n",
       "      <td>-174.648023</td>\n",
       "      <td>-80.924663</td>\n",
       "      <td>0.265728</td>\n",
       "      <td>-0.114301</td>\n",
       "      <td>-0.151428</td>\n",
       "      <td>Line A to Ground Fault</td>\n",
       "      <td>3</td>\n",
       "    </tr>\n",
       "    <tr>\n",
       "      <th>3</th>\n",
       "      <td>1</td>\n",
       "      <td>0</td>\n",
       "      <td>0</td>\n",
       "      <td>1</td>\n",
       "      <td>-593.941905</td>\n",
       "      <td>-217.703359</td>\n",
       "      <td>-124.891924</td>\n",
       "      <td>0.235511</td>\n",
       "      <td>-0.104940</td>\n",
       "      <td>-0.130570</td>\n",
       "      <td>Line A to Ground Fault</td>\n",
       "      <td>3</td>\n",
       "    </tr>\n",
       "    <tr>\n",
       "      <th>4</th>\n",
       "      <td>1</td>\n",
       "      <td>0</td>\n",
       "      <td>0</td>\n",
       "      <td>1</td>\n",
       "      <td>-643.663617</td>\n",
       "      <td>-224.159427</td>\n",
       "      <td>-132.282815</td>\n",
       "      <td>0.209537</td>\n",
       "      <td>-0.095554</td>\n",
       "      <td>-0.113983</td>\n",
       "      <td>Line A to Ground Fault</td>\n",
       "      <td>3</td>\n",
       "    </tr>\n",
       "  </tbody>\n",
       "</table>\n",
       "</div>"
      ],
      "text/plain": [
       "   G  C  B  A          Ia          Ib          Ic        Va        Vb  \\\n",
       "0  1  0  0  1 -151.291812   -9.677452   85.800162  0.400750 -0.132935   \n",
       "1  1  0  0  1 -336.186183  -76.283262   18.328897  0.312732 -0.123633   \n",
       "2  1  0  0  1 -502.891583 -174.648023  -80.924663  0.265728 -0.114301   \n",
       "3  1  0  0  1 -593.941905 -217.703359 -124.891924  0.235511 -0.104940   \n",
       "4  1  0  0  1 -643.663617 -224.159427 -132.282815  0.209537 -0.095554   \n",
       "\n",
       "         Vc              Fault_Type  encoded  \n",
       "0 -0.267815  Line A to Ground Fault        3  \n",
       "1 -0.189099  Line A to Ground Fault        3  \n",
       "2 -0.151428  Line A to Ground Fault        3  \n",
       "3 -0.130570  Line A to Ground Fault        3  \n",
       "4 -0.113983  Line A to Ground Fault        3  "
      ]
     },
     "execution_count": 24,
     "metadata": {},
     "output_type": "execute_result"
    }
   ],
   "source": [
    "train_ds.head()"
   ]
  },
  {
   "cell_type": "code",
   "execution_count": 25,
   "metadata": {},
   "outputs": [],
   "source": [
    "namesColumns = ['Ia', 'Ib', 'Ic', 'Va', 'Vb', 'Vc', 'encoded']"
   ]
  },
  {
   "cell_type": "code",
   "execution_count": 26,
   "metadata": {},
   "outputs": [],
   "source": [
    "labelX = ['Ia', 'Ib', 'Ic', 'Va', 'Vb', 'Vc']\n",
    "labelY = \"encoded\"\n",
    "\n",
    "x = np.array(train_ds[labelX])\n",
    "y = np.array(train_ds[labelY])"
   ]
  },
  {
   "cell_type": "code",
   "execution_count": 27,
   "metadata": {},
   "outputs": [
    {
     "data": {
      "text/plain": [
       "array([[0.413869  , 0.49757125, 0.54305757, 0.83998528, 0.38440376,\n",
       "        0.28435789],\n",
       "       [0.30936644, 0.46036953, 0.50525074, 0.76760749, 0.39193015,\n",
       "        0.34925764],\n",
       "       [0.21514432, 0.4054293 , 0.44963504, 0.72895617, 0.3994813 ,\n",
       "        0.38031664],\n",
       "       ...,\n",
       "       [0.46238877, 0.5233474 , 0.50960887, 0.60345407, 0.04029893,\n",
       "        0.87214445],\n",
       "       [0.4626245 , 0.52279168, 0.50993285, 0.61109955, 0.03796598,\n",
       "        0.86685598],\n",
       "       [0.46286823, 0.52223521, 0.51024963, 0.61871774, 0.0357486 ,\n",
       "        0.86147711]])"
      ]
     },
     "execution_count": 27,
     "metadata": {},
     "output_type": "execute_result"
    }
   ],
   "source": [
    "x = Min_Max_Scaler.fit_transform(x)\n",
    "x"
   ]
  },
  {
   "cell_type": "code",
   "execution_count": 28,
   "metadata": {},
   "outputs": [],
   "source": [
    "X_train, X_test, y_train, y_test = train_test_split(x, y, test_size=0.2, random_state=1)\n",
    "\n",
    "X_train, X_val, y_train, y_val = train_test_split(X_train, y_train, test_size=0.2, random_state=1)"
   ]
  },
  {
   "cell_type": "code",
   "execution_count": 29,
   "metadata": {},
   "outputs": [
    {
     "data": {
      "text/plain": [
       "array([[0.52575559, 0.1153376 , 0.8591048 , 0.56670695, 0.50960467,\n",
       "        0.43078233],\n",
       "       [0.48780942, 0.55550923, 0.45192469, 0.00108482, 0.76501585,\n",
       "        0.73764264],\n",
       "       [0.69649975, 0.79890866, 0.00381426, 0.54515308, 0.47720741,\n",
       "        0.48540478],\n",
       "       ...,\n",
       "       [0.48637783, 0.55737294, 0.45138735, 0.        , 0.75307183,\n",
       "        0.75090086],\n",
       "       [0.40117475, 0.13463859, 0.46262054, 0.47698723, 0.72578194,\n",
       "        0.30046178],\n",
       "       [0.00588191, 0.81205033, 0.67415947, 0.49917316, 0.52562413,\n",
       "        0.48217114]])"
      ]
     },
     "execution_count": 29,
     "metadata": {},
     "output_type": "execute_result"
    }
   ],
   "source": [
    "X_train"
   ]
  },
  {
   "cell_type": "markdown",
   "metadata": {},
   "source": [
    "* 426 épocas para atingir um erro médio quadrático de 0,002 -> 99,83 % nos testes"
   ]
  },
  {
   "cell_type": "code",
   "execution_count": 30,
   "metadata": {},
   "outputs": [],
   "source": [
    "from sklearn.neural_network import MLPClassifier \n",
    "from sklearn.metrics import classification_report, confusion_matrix "
   ]
  },
  {
   "cell_type": "code",
   "execution_count": 31,
   "metadata": {},
   "outputs": [
    {
     "data": {
      "text/plain": [
       "MLPClassifier(hidden_layer_sizes=(100, 100, 6), max_iter=100000)"
      ]
     },
     "execution_count": 31,
     "metadata": {},
     "output_type": "execute_result"
    }
   ],
   "source": [
    "mlp = MLPClassifier(hidden_layer_sizes=(100, 100, 6), max_iter=100000)  \n",
    "mlp.fit(X_train, y_train)  "
   ]
  },
  {
   "cell_type": "code",
   "execution_count": 32,
   "metadata": {},
   "outputs": [],
   "source": [
    "predictions = mlp.predict(X_test) "
   ]
  },
  {
   "cell_type": "code",
   "execution_count": 33,
   "metadata": {},
   "outputs": [
    {
     "name": "stdout",
     "output_type": "stream",
     "text": [
      "[3 4 5 ... 4 5 5]\n"
     ]
    }
   ],
   "source": [
    "print(predictions)"
   ]
  },
  {
   "cell_type": "code",
   "execution_count": 34,
   "metadata": {},
   "outputs": [
    {
     "name": "stdout",
     "output_type": "stream",
     "text": [
      "[[ 93 135   2   0   1   0]\n",
      " [ 71 138  16   1   0   0]\n",
      " [  0   0 221   5   0   0]\n",
      " [  0   0  16 203   0   1]\n",
      " [  0   0   0   0 201   1]\n",
      " [  0   0   0   0   0 468]]\n",
      "              precision    recall  f1-score   support\n",
      "\n",
      "           0       0.57      0.40      0.47       231\n",
      "           1       0.51      0.61      0.55       226\n",
      "           2       0.87      0.98      0.92       226\n",
      "           3       0.97      0.92      0.95       220\n",
      "           4       1.00      1.00      1.00       202\n",
      "           5       1.00      1.00      1.00       468\n",
      "\n",
      "    accuracy                           0.84      1573\n",
      "   macro avg       0.82      0.82      0.81      1573\n",
      "weighted avg       0.84      0.84      0.84      1573\n",
      "\n"
     ]
    }
   ],
   "source": [
    "# Last thing: evaluation of algorithm performance in classifying flowers\n",
    "print(confusion_matrix(y_test,predictions))  \n",
    "print(classification_report(y_test,predictions))  "
   ]
  },
  {
   "cell_type": "code",
   "execution_count": null,
   "metadata": {},
   "outputs": [],
   "source": [
    "import tensorflow as tf"
   ]
  }
 ],
 "metadata": {
  "kernelspec": {
   "display_name": "Python 3.9.12 ('base')",
   "language": "python",
   "name": "python3"
  },
  "language_info": {
   "codemirror_mode": {
    "name": "ipython",
    "version": 3
   },
   "file_extension": ".py",
   "mimetype": "text/x-python",
   "name": "python",
   "nbconvert_exporter": "python",
   "pygments_lexer": "ipython3",
   "version": "3.9.12"
  },
  "orig_nbformat": 4,
  "vscode": {
   "interpreter": {
    "hash": "27c25d6569ec02ceb42cea2c6f55d2b1508b2f5fa092368aff75373772ed8443"
   }
  }
 },
 "nbformat": 4,
 "nbformat_minor": 2
}
