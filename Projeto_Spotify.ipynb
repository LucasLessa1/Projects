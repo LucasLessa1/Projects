{
 "cells": [
  {
   "cell_type": "code",
   "execution_count": null,
   "id": "c9886956",
   "metadata": {},
   "outputs": [],
   "source": [
    "import pyautogui as py\n",
    "import pandas as pd\n",
    "import numpy as np\n",
    "import time"
   ]
  },
  {
   "cell_type": "code",
   "execution_count": null,
   "id": "49984ae8",
   "metadata": {},
   "outputs": [],
   "source": [
    "# py.PAUSE = 5\n",
    "\n",
    "# py.press(\"win\")\n",
    "# py.write(\"Word\")\n",
    "# py.press(\"backspace\")"
   ]
  },
  {
   "cell_type": "code",
   "execution_count": null,
   "id": "8cdc9cf6",
   "metadata": {},
   "outputs": [],
   "source": [
    "from selenium import webdriver"
   ]
  },
  {
   "cell_type": "code",
   "execution_count": null,
   "id": "be354e5d",
   "metadata": {},
   "outputs": [],
   "source": [
    "df1 = pd.read_csv(\"C:/Users/lucas/Documents/Projetos/Spotify/aleatory_music.csv\")\n",
    "df1.head()"
   ]
  },
  {
   "cell_type": "code",
   "execution_count": null,
   "id": "cd4e87e8",
   "metadata": {},
   "outputs": [],
   "source": [
    "sum_colum = df1[\"Artist Name(s)\"] + \" \" + df1[\"Track Name\"]\n",
    "sum_colum.head()"
   ]
  },
  {
   "cell_type": "code",
   "execution_count": null,
   "id": "b417487f",
   "metadata": {},
   "outputs": [],
   "source": [
    "list_music_with_artist = sum_colum.tolist()"
   ]
  },
  {
   "cell_type": "code",
   "execution_count": null,
   "id": "794781a0",
   "metadata": {},
   "outputs": [],
   "source": [
    "# navegador = webdriver.Chrome()\n",
    "\n",
    "# navegador.get(\"https://slider.kz/\")\n",
    "# # time.sleep(1)\n",
    "\n",
    "# navegador.find_element_by_xpath('/html/body/div[4]/div[6]/div').click()\n",
    "# # time.sleep(1)\n",
    "\n",
    "# navegador.find_element_by_xpath('/html/body/div[4]/div[2]/input').send_keys(\"Kenny Loggins Footloose\")\n",
    "# # time.sleep(1)\n",
    "\n",
    "# navegador.find_element_by_xpath('/html/body/div[4]/div[2]/div[1]').click()#Clicou pra pesquisar\n",
    "# #/html/body/div[4]/div[3]/div[2]/div[2]/div[2]/a/img\n",
    "# time.sleep(2)\n",
    "\n",
    "# navegador.find_element_by_xpath('/html/body/div[4]/div[3]/div[2]/div[2]/div[2]/a/img').click() #Clicou pra baixar\n",
    "# #//*[@id=\"liveaudio\"]/div[2]/div[2]/div[2]/a/img\n",
    "# #/html/body/div[4]/div[3]/div[2]/div[2]/div[2]/a/img\n",
    "# time.sleep(1)\n",
    "# # py.press(\"enter\")\n",
    "\n",
    "# navegador.find_element_by_xpath('/html/body/div[4]/div[2]/input').click() #Clico para apagar a musica\n",
    "\n",
    "# py.hotkey('ctrl', 'a', 'backspace')\n",
    "\n",
    "# navegador.find_element_by_xpath('/html/body/div[4]/div[2]/input').send_keys(\"Kenny Loggins Footloose\")"
   ]
  },
  {
   "cell_type": "code",
   "execution_count": null,
   "id": "8101aac7",
   "metadata": {},
   "outputs": [],
   "source": [
    "len(list_music_with_artist)"
   ]
  },
  {
   "cell_type": "code",
   "execution_count": null,
   "id": "8c341a53",
   "metadata": {},
   "outputs": [],
   "source": [
    "list_music_with_artist[29] = \"The Beatles - Ob-La-Di, Ob-La-Da\"\n",
    "list_music_with_artist[30] = \"Dizzee Rascal Just Sittin' Here\""
   ]
  },
  {
   "cell_type": "code",
   "execution_count": null,
   "id": "ca394c6c",
   "metadata": {},
   "outputs": [],
   "source": [
    "list_music_with_artist[37] = \"   0:02 / 3:10   Eddy Grant - Electric Avenue\""
   ]
  },
  {
   "cell_type": "code",
   "execution_count": null,
   "id": "309f0280",
   "metadata": {},
   "outputs": [],
   "source": [
    "def error_treat():\n",
    "    print(\"entrei na função error_treat\")\n",
    "    music_none.append(i)\n",
    "    py.hotkey('alt', 'left')\n",
    "    navegador.find_element_by_xpath('/html/body/div[4]/div[2]/input').click()  #Clico para apagar a musica\n",
    "    time.sleep(1)\n",
    "    py.hotkey('ctrl', 'a', 'backspace')"
   ]
  },
  {
   "cell_type": "code",
   "execution_count": null,
   "id": "033ca5af",
   "metadata": {},
   "outputs": [],
   "source": [
    "from selenium.common.exceptions import NoSuchElementException"
   ]
  },
  {
   "cell_type": "code",
   "execution_count": null,
   "id": "94ad5141",
   "metadata": {},
   "outputs": [],
   "source": [
    "\n",
    "\n",
    "py.PAUSE = 1\n",
    "delay = 5\n",
    "navegador = webdriver.Chrome()\n",
    "wait = WebDriverWait(navegador, delay)\n",
    "navegador.get(\"https://slider.kz/\")\n",
    "\n",
    "navegador.find_element_by_xpath('/html/body/div[4]/div[6]/div').click()#clicar no site pra entrar\n",
    "\n",
    "time.sleep(30)\n",
    "\n",
    "for i in list_music_with_artist:\n",
    "\n",
    "    try:\n",
    "        navegador.find_element_by_xpath('/html/body/div[4]/div[2]/input').send_keys(i) \n",
    "    except NoSuchElementException:\n",
    "        error_treat()\n",
    "        continue\n",
    "\n",
    "   #/html/body/div[4]/div[2]/input\n",
    "    time.sleep(2)\n",
    "    py.press(\"enter\")\n",
    "    time.sleep(2)\n",
    "\n",
    "    navegador.find_element_by_xpath('/html/body/div[4]/div[3]/div[2]/div[2]/div[2]/a/img').click()  #Clicou pra baixar\n",
    "\n",
    "    time.sleep(2)\n",
    "\n",
    "    try:\n",
    "        navegador.find_element_by_xpath('/html/body/div[4]/div[2]/input').click()  #Clico para apagar a musica\n",
    "\n",
    "    except NoSuchElementException:\n",
    "        error_treat()\n",
    "        continue\n",
    "    time.sleep(2)\n",
    "    py.hotkey('ctrl', 'a', 'backspace')\n",
    "    time.sleep(2)\n",
    "    py.hotkey('ctrl', 'a', 'backspace')"
   ]
  },
  {
   "cell_type": "code",
   "execution_count": null,
   "id": "4bbbfde2",
   "metadata": {},
   "outputs": [],
   "source": [
    "# navegador = webdriver.Chrome()\n",
    "# wait = WebDriverWait(navegador, delay)\n",
    "# navegador.get(\"https://slider.kz/\")\n",
    "# navegador.find_element_by_xpath('/html/body/div[4]/div[6]/div').click()#clicar no site pra entrar\n",
    "\n",
    "# navegador.find_element_by_xpath('/html/body/div[4]/div[2]/input').send_keys(list_music_with_artist[40]) \n",
    "\n",
    "# time.sleep(2)\n",
    "# py.press(\"enter\")\n",
    "# time.sleep(2)\n",
    "# try:\n",
    "#     navegador.find_element_by_xpath('/html/body/div[4]/div[3]/div[2]/div[2]/div[2]/a/img').click()  #Clicou pra baixar\n",
    "# except :\n",
    "#     navegador = webdriver.Chrome()\n",
    "#     navegador.get(\"https://slider.kz/\")\n",
    "#     navegador.find_element_by_xpath('/html/body/div[4]/div[6]/div').click()#clicar no site pra entrar\n",
    "\n",
    "#     navegador.find_element_by_xpath('/html/body/div[4]/div[2]/input').send_keys(list_music_with_artist[41]) \n",
    "#     print(\"Entrou na exceção\")\n",
    "#     music_none.append(i)"
   ]
  }
 ],
 "metadata": {
  "kernelspec": {
   "display_name": "Python 3 (ipykernel)",
   "language": "python",
   "name": "python3"
  },
  "language_info": {
   "codemirror_mode": {
    "name": "ipython",
    "version": 3
   },
   "file_extension": ".py",
   "mimetype": "text/x-python",
   "name": "python",
   "nbconvert_exporter": "python",
   "pygments_lexer": "ipython3",
   "version": "3.9.7"
  }
 },
 "nbformat": 4,
 "nbformat_minor": 5
}
