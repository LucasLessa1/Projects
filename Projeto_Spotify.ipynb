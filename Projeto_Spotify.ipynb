{
 "cells": [
  {
   "cell_type": "code",
   "execution_count": 1,
   "id": "c9886956",
   "metadata": {},
   "outputs": [],
   "source": [
    "import pyautogui as py\n",
    "import pandas as pd\n",
    "import numpy as np\n",
    "import time"
   ]
  },
  {
   "cell_type": "code",
   "execution_count": 2,
   "id": "49984ae8",
   "metadata": {},
   "outputs": [],
   "source": [
    "# py.PAUSE = 5\n",
    "\n",
    "# py.press(\"win\")\n",
    "# py.write(\"Word\")\n",
    "# py.press(\"backspace\")"
   ]
  },
  {
   "cell_type": "code",
   "execution_count": 3,
   "id": "8cdc9cf6",
   "metadata": {},
   "outputs": [],
   "source": [
    "from selenium import webdriver"
   ]
  },
  {
   "cell_type": "code",
   "execution_count": 4,
   "id": "be354e5d",
   "metadata": {},
   "outputs": [
    {
     "data": {
      "text/html": [
       "<div>\n",
       "<style scoped>\n",
       "    .dataframe tbody tr th:only-of-type {\n",
       "        vertical-align: middle;\n",
       "    }\n",
       "\n",
       "    .dataframe tbody tr th {\n",
       "        vertical-align: top;\n",
       "    }\n",
       "\n",
       "    .dataframe thead th {\n",
       "        text-align: right;\n",
       "    }\n",
       "</style>\n",
       "<table border=\"1\" class=\"dataframe\">\n",
       "  <thead>\n",
       "    <tr style=\"text-align: right;\">\n",
       "      <th></th>\n",
       "      <th>Track Name</th>\n",
       "      <th>Artist Name(s)</th>\n",
       "    </tr>\n",
       "  </thead>\n",
       "  <tbody>\n",
       "    <tr>\n",
       "      <th>0</th>\n",
       "      <td>Southern Nights</td>\n",
       "      <td>Glen Campbell</td>\n",
       "    </tr>\n",
       "    <tr>\n",
       "      <th>1</th>\n",
       "      <td>Shooting Stars</td>\n",
       "      <td>Bag Raiders</td>\n",
       "    </tr>\n",
       "    <tr>\n",
       "      <th>2</th>\n",
       "      <td>Buttercup</td>\n",
       "      <td>Jack Stauber</td>\n",
       "    </tr>\n",
       "    <tr>\n",
       "      <th>3</th>\n",
       "      <td>Crazy</td>\n",
       "      <td>Gnarls Barkley</td>\n",
       "    </tr>\n",
       "    <tr>\n",
       "      <th>4</th>\n",
       "      <td>What'd I Say, Pt. 1 &amp; 2</td>\n",
       "      <td>Ray Charles</td>\n",
       "    </tr>\n",
       "  </tbody>\n",
       "</table>\n",
       "</div>"
      ],
      "text/plain": [
       "                Track Name  Artist Name(s)\n",
       "0          Southern Nights   Glen Campbell\n",
       "1           Shooting Stars     Bag Raiders\n",
       "2                Buttercup    Jack Stauber\n",
       "3                    Crazy  Gnarls Barkley\n",
       "4  What'd I Say, Pt. 1 & 2     Ray Charles"
      ]
     },
     "execution_count": 4,
     "metadata": {},
     "output_type": "execute_result"
    }
   ],
   "source": [
    "df1 = pd.read_csv(\"C:/Users/lucas/Documents/Projetos/Spotify/aleatory_music.csv\")\n",
    "df1.head()"
   ]
  },
  {
   "cell_type": "code",
   "execution_count": 5,
   "id": "cd4e87e8",
   "metadata": {},
   "outputs": [
    {
     "data": {
      "text/plain": [
       "0          Glen Campbell Southern Nights\n",
       "1             Bag Raiders Shooting Stars\n",
       "2                 Jack Stauber Buttercup\n",
       "3                   Gnarls Barkley Crazy\n",
       "4    Ray Charles What'd I Say, Pt. 1 & 2\n",
       "dtype: object"
      ]
     },
     "execution_count": 5,
     "metadata": {},
     "output_type": "execute_result"
    }
   ],
   "source": [
    "sum_colum = df1[\"Artist Name(s)\"] + \" \" + df1[\"Track Name\"]\n",
    "sum_colum.head()"
   ]
  },
  {
   "cell_type": "code",
   "execution_count": 6,
   "id": "b417487f",
   "metadata": {},
   "outputs": [],
   "source": [
    "list_music_with_artist = sum_colum.tolist()"
   ]
  },
  {
   "cell_type": "code",
   "execution_count": 7,
   "id": "794781a0",
   "metadata": {},
   "outputs": [],
   "source": [
    "# navegador = webdriver.Chrome()\n",
    "\n",
    "# navegador.get(\"https://slider.kz/\")\n",
    "# # time.sleep(1)\n",
    "\n",
    "# navegador.find_element_by_xpath('/html/body/div[4]/div[6]/div').click()\n",
    "# # time.sleep(1)\n",
    "\n",
    "# navegador.find_element_by_xpath('/html/body/div[4]/div[2]/input').send_keys(\"Kenny Loggins Footloose\")\n",
    "# # time.sleep(1)\n",
    "\n",
    "# navegador.find_element_by_xpath('/html/body/div[4]/div[2]/div[1]').click()#Clicou pra pesquisar\n",
    "# #/html/body/div[4]/div[3]/div[2]/div[2]/div[2]/a/img\n",
    "# time.sleep(2)\n",
    "\n",
    "# navegador.find_element_by_xpath('/html/body/div[4]/div[3]/div[2]/div[2]/div[2]/a/img').click() #Clicou pra baixar\n",
    "# #//*[@id=\"liveaudio\"]/div[2]/div[2]/div[2]/a/img\n",
    "# #/html/body/div[4]/div[3]/div[2]/div[2]/div[2]/a/img\n",
    "# time.sleep(1)\n",
    "# # py.press(\"enter\")\n",
    "\n",
    "# navegador.find_element_by_xpath('/html/body/div[4]/div[2]/input').click() #Clico para apagar a musica\n",
    "\n",
    "# py.hotkey('ctrl', 'a', 'backspace')\n",
    "\n",
    "# navegador.find_element_by_xpath('/html/body/div[4]/div[2]/input').send_keys(\"Kenny Loggins Footloose\")"
   ]
  },
  {
   "cell_type": "code",
   "execution_count": 8,
   "id": "8101aac7",
   "metadata": {},
   "outputs": [
    {
     "data": {
      "text/plain": [
       "400"
      ]
     },
     "execution_count": 8,
     "metadata": {},
     "output_type": "execute_result"
    }
   ],
   "source": [
    "len(list_music_with_artist)"
   ]
  },
  {
   "cell_type": "code",
   "execution_count": 9,
   "id": "8c341a53",
   "metadata": {},
   "outputs": [],
   "source": [
    "list_music_with_artist[29] = \"The Beatles - Ob-La-Di, Ob-La-Da\"\n",
    "list_music_with_artist[30] = \"Dizzee Rascal Just Sittin' Here\""
   ]
  },
  {
   "cell_type": "code",
   "execution_count": 10,
   "id": "ca394c6c",
   "metadata": {},
   "outputs": [],
   "source": [
    "list_music_with_artist[37] = \"   0:02 / 3:10   Eddy Grant - Electric Avenue\""
   ]
  },
  {
   "cell_type": "code",
   "execution_count": 11,
   "id": "4ae3e195",
   "metadata": {},
   "outputs": [],
   "source": [
    "music_none = []"
   ]
  },
  {
   "cell_type": "code",
   "execution_count": 12,
   "id": "309f0280",
   "metadata": {},
   "outputs": [],
   "source": [
    "def error_treat():\n",
    "    print(\"entrei na função error_treat\")\n",
    "    music_none.append(i)\n",
    "    py.hotkey('alt', 'left')\n",
    "    navegador.find_element_by_xpath('/html/body/div[4]/div[2]/input').click()  #Clico para apagar a musica\n",
    "    time.sleep(1)\n",
    "    py.hotkey('ctrl', 'a', 'backspace')"
   ]
  },
  {
   "cell_type": "code",
   "execution_count": 13,
   "id": "033ca5af",
   "metadata": {},
   "outputs": [],
   "source": [
    "from selenium.common.exceptions import NoSuchElementException"
   ]
  },
  {
   "cell_type": "code",
   "execution_count": 20,
   "id": "5017afc1",
   "metadata": {},
   "outputs": [
    {
     "data": {
      "text/plain": [
       "367"
      ]
     },
     "execution_count": 20,
     "metadata": {},
     "output_type": "execute_result"
    }
   ],
   "source": [
    "x = list_music_with_artist.index(\"Dick Dale & His Del-Tones Misirlou\")\n",
    "x"
   ]
  },
  {
   "cell_type": "code",
   "execution_count": 21,
   "id": "57b5118b",
   "metadata": {},
   "outputs": [
    {
     "data": {
      "text/plain": [
       "400"
      ]
     },
     "execution_count": 21,
     "metadata": {},
     "output_type": "execute_result"
    }
   ],
   "source": [
    "len(list_music_with_artist)"
   ]
  },
  {
   "cell_type": "code",
   "execution_count": 22,
   "id": "bcbbdd34",
   "metadata": {},
   "outputs": [
    {
     "data": {
      "text/plain": [
       "'Dick Dale & His Del-Tones Misirlou'"
      ]
     },
     "execution_count": 22,
     "metadata": {},
     "output_type": "execute_result"
    }
   ],
   "source": [
    "list_music_with_artist[367]"
   ]
  },
  {
   "cell_type": "code",
   "execution_count": 23,
   "id": "94ad5141",
   "metadata": {},
   "outputs": [
    {
     "name": "stderr",
     "output_type": "stream",
     "text": [
      "C:\\Users\\lucas\\AppData\\Local\\Temp/ipykernel_1468/2711290285.py:6: DeprecationWarning: find_element_by_xpath is deprecated. Please use find_element(by=By.XPATH, value=xpath) instead\n",
      "  navegador.find_element_by_xpath('/html/body/div[4]/div[6]/div').click()#clicar no site pra entrar\n",
      "C:\\Users\\lucas\\AppData\\Local\\Temp/ipykernel_1468/2711290285.py:13: DeprecationWarning: find_element_by_xpath is deprecated. Please use find_element(by=By.XPATH, value=xpath) instead\n",
      "  navegador.find_element_by_xpath('/html/body/div[4]/div[2]/input').send_keys(i)\n",
      "C:\\Users\\lucas\\AppData\\Local\\Temp/ipykernel_1468/2711290285.py:23: DeprecationWarning: find_element_by_xpath is deprecated. Please use find_element(by=By.XPATH, value=xpath) instead\n",
      "  navegador.find_element_by_xpath('/html/body/div[4]/div[3]/div[2]/div[2]/div[2]/a/img').click()  #Clicou pra baixar\n",
      "C:\\Users\\lucas\\AppData\\Local\\Temp/ipykernel_1468/2711290285.py:28: DeprecationWarning: find_element_by_xpath is deprecated. Please use find_element(by=By.XPATH, value=xpath) instead\n",
      "  navegador.find_element_by_xpath('/html/body/div[4]/div[2]/input').click()  #Clico para apagar a musica\n"
     ]
    }
   ],
   "source": [
    "py.PAUSE = 1\n",
    "delay = 5\n",
    "navegador = webdriver.Chrome()\n",
    "navegador.get(\"https://slider.kz/\")\n",
    "\n",
    "navegador.find_element_by_xpath('/html/body/div[4]/div[6]/div').click()#clicar no site pra entrar\n",
    "\n",
    "time.sleep(30)\n",
    "\n",
    "for i in list_music_with_artist[368:]:\n",
    "\n",
    "    try:\n",
    "        navegador.find_element_by_xpath('/html/body/div[4]/div[2]/input').send_keys(i) \n",
    "    except NoSuchElementException:\n",
    "        error_treat()\n",
    "        continue\n",
    "\n",
    "   #/html/body/div[4]/div[2]/input\n",
    "    time.sleep(2)\n",
    "    py.press(\"enter\")\n",
    "    time.sleep(2)\n",
    "\n",
    "    navegador.find_element_by_xpath('/html/body/div[4]/div[3]/div[2]/div[2]/div[2]/a/img').click()  #Clicou pra baixar\n",
    "\n",
    "    time.sleep(2)\n",
    "\n",
    "    try:\n",
    "        navegador.find_element_by_xpath('/html/body/div[4]/div[2]/input').click()  #Clico para apagar a musica\n",
    "\n",
    "    except NoSuchElementException:\n",
    "        error_treat()\n",
    "        continue\n",
    "    time.sleep(2)\n",
    "    py.hotkey('ctrl', 'a', 'backspace')\n",
    "    time.sleep(2)\n",
    "    py.hotkey('ctrl', 'a', 'backspace')"
   ]
  },
  {
   "cell_type": "code",
   "execution_count": 25,
   "id": "c167d27b",
   "metadata": {},
   "outputs": [
    {
     "data": {
      "text/plain": [
       "['Jim Rovers The Hustle',\n",
       " 'The Beatles Twist And Shout - Remastered 2009',\n",
       " 'America, George Martin Muskrat Love',\n",
       " 'The Beatles Besame Mucho - Anthology 1 Version']"
      ]
     },
     "execution_count": 25,
     "metadata": {},
     "output_type": "execute_result"
    }
   ],
   "source": [
    "music_none"
   ]
  },
  {
   "cell_type": "code",
   "execution_count": null,
   "id": "4bbbfde2",
   "metadata": {},
   "outputs": [],
   "source": [
    "# navegador = webdriver.Chrome()\n",
    "# wait = WebDriverWait(navegador, delay)\n",
    "# navegador.get(\"https://slider.kz/\")\n",
    "# navegador.find_element_by_xpath('/html/body/div[4]/div[6]/div').click()#clicar no site pra entrar\n",
    "\n",
    "# navegador.find_element_by_xpath('/html/body/div[4]/div[2]/input').send_keys(list_music_with_artist[40]) \n",
    "\n",
    "# time.sleep(2)\n",
    "# py.press(\"enter\")\n",
    "# time.sleep(2)\n",
    "# try:\n",
    "#     navegador.find_element_by_xpath('/html/body/div[4]/div[3]/div[2]/div[2]/div[2]/a/img').click()  #Clicou pra baixar\n",
    "# except :\n",
    "#     navegador = webdriver.Chrome()\n",
    "#     navegador.get(\"https://slider.kz/\")\n",
    "#     navegador.find_element_by_xpath('/html/body/div[4]/div[6]/div').click()#clicar no site pra entrar\n",
    "\n",
    "#     navegador.find_element_by_xpath('/html/body/div[4]/div[2]/input').send_keys(list_music_with_artist[41]) \n",
    "#     print(\"Entrou na exceção\")\n",
    "#     music_none.append(i)"
   ]
  }
 ],
 "metadata": {
  "interpreter": {
   "hash": "665796ea3363072d3a6057ac2fdbe3c4fcb0d17a4b92295d9707f78e9c46c0af"
  },
  "kernelspec": {
   "display_name": "Python 3.9.7 ('base')",
   "language": "python",
   "name": "python3"
  },
  "language_info": {
   "codemirror_mode": {
    "name": "ipython",
    "version": 3
   },
   "file_extension": ".py",
   "mimetype": "text/x-python",
   "name": "python",
   "nbconvert_exporter": "python",
   "pygments_lexer": "ipython3",
   "version": "3.9.7"
  }
 },
 "nbformat": 4,
 "nbformat_minor": 5
}
