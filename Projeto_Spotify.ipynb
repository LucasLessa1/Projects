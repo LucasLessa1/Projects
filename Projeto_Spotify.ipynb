{
 "cells": [
  {
   "cell_type": "code",
   "execution_count": 1,
   "id": "c9886956",
   "metadata": {},
   "outputs": [],
   "source": [
    "import pyautogui as py\n",
    "import pandas as pd\n",
    "import numpy as np\n",
    "import time"
   ]
  },
  {
   "cell_type": "code",
   "execution_count": 2,
   "id": "49984ae8",
   "metadata": {},
   "outputs": [],
   "source": [
    "# py.PAUSE = 5\n",
    "\n",
    "# py.press(\"win\")\n",
    "# py.write(\"Word\")\n",
    "# py.press(\"backspace\")"
   ]
  },
  {
   "cell_type": "code",
   "execution_count": 3,
   "id": "8cdc9cf6",
   "metadata": {},
   "outputs": [],
   "source": [
    "from selenium import webdriver"
   ]
  },
  {
   "cell_type": "code",
   "execution_count": 4,
   "id": "be354e5d",
   "metadata": {},
   "outputs": [
    {
     "data": {
      "text/html": [
       "<div>\n",
       "<style scoped>\n",
       "    .dataframe tbody tr th:only-of-type {\n",
       "        vertical-align: middle;\n",
       "    }\n",
       "\n",
       "    .dataframe tbody tr th {\n",
       "        vertical-align: top;\n",
       "    }\n",
       "\n",
       "    .dataframe thead th {\n",
       "        text-align: right;\n",
       "    }\n",
       "</style>\n",
       "<table border=\"1\" class=\"dataframe\">\n",
       "  <thead>\n",
       "    <tr style=\"text-align: right;\">\n",
       "      <th></th>\n",
       "      <th>Track Name</th>\n",
       "      <th>Artist Name(s)</th>\n",
       "    </tr>\n",
       "  </thead>\n",
       "  <tbody>\n",
       "    <tr>\n",
       "      <th>0</th>\n",
       "      <td>Southern Nights</td>\n",
       "      <td>Glen Campbell</td>\n",
       "    </tr>\n",
       "    <tr>\n",
       "      <th>1</th>\n",
       "      <td>Shooting Stars</td>\n",
       "      <td>Bag Raiders</td>\n",
       "    </tr>\n",
       "    <tr>\n",
       "      <th>2</th>\n",
       "      <td>Buttercup</td>\n",
       "      <td>Jack Stauber</td>\n",
       "    </tr>\n",
       "    <tr>\n",
       "      <th>3</th>\n",
       "      <td>Crazy</td>\n",
       "      <td>Gnarls Barkley</td>\n",
       "    </tr>\n",
       "    <tr>\n",
       "      <th>4</th>\n",
       "      <td>What'd I Say, Pt. 1 &amp; 2</td>\n",
       "      <td>Ray Charles</td>\n",
       "    </tr>\n",
       "  </tbody>\n",
       "</table>\n",
       "</div>"
      ],
      "text/plain": [
       "                Track Name  Artist Name(s)\n",
       "0          Southern Nights   Glen Campbell\n",
       "1           Shooting Stars     Bag Raiders\n",
       "2                Buttercup    Jack Stauber\n",
       "3                    Crazy  Gnarls Barkley\n",
       "4  What'd I Say, Pt. 1 & 2     Ray Charles"
      ]
     },
     "execution_count": 4,
     "metadata": {},
     "output_type": "execute_result"
    }
   ],
   "source": [
    "df1 = pd.read_csv(\"C:/Users/lucas/Documents/Projetos/Spotify/aleatory_music.csv\")\n",
    "df1.head()"
   ]
  },
  {
   "cell_type": "code",
   "execution_count": 5,
   "id": "cd4e87e8",
   "metadata": {},
   "outputs": [
    {
     "data": {
      "text/plain": [
       "0          Glen Campbell Southern Nights\n",
       "1             Bag Raiders Shooting Stars\n",
       "2                 Jack Stauber Buttercup\n",
       "3                   Gnarls Barkley Crazy\n",
       "4    Ray Charles What'd I Say, Pt. 1 & 2\n",
       "dtype: object"
      ]
     },
     "execution_count": 5,
     "metadata": {},
     "output_type": "execute_result"
    }
   ],
   "source": [
    "sum_colum = df1[\"Artist Name(s)\"] + \" \" + df1[\"Track Name\"]\n",
    "sum_colum.head()"
   ]
  },
  {
   "cell_type": "code",
   "execution_count": 6,
   "id": "b417487f",
   "metadata": {},
   "outputs": [],
   "source": [
    "list_music_with_artist = sum_colum.tolist()"
   ]
  },
  {
   "cell_type": "code",
   "execution_count": 7,
   "id": "794781a0",
   "metadata": {},
   "outputs": [],
   "source": [
    "# navegador = webdriver.Chrome()\n",
    "\n",
    "# navegador.get(\"https://slider.kz/\")\n",
    "# # time.sleep(1)\n",
    "\n",
    "# navegador.find_element_by_xpath('/html/body/div[4]/div[6]/div').click()\n",
    "# # time.sleep(1)\n",
    "\n",
    "# navegador.find_element_by_xpath('/html/body/div[4]/div[2]/input').send_keys(\"Kenny Loggins Footloose\")\n",
    "# # time.sleep(1)\n",
    "\n",
    "# navegador.find_element_by_xpath('/html/body/div[4]/div[2]/div[1]').click()#Clicou pra pesquisar\n",
    "# #/html/body/div[4]/div[3]/div[2]/div[2]/div[2]/a/img\n",
    "# time.sleep(2)\n",
    "\n",
    "# navegador.find_element_by_xpath('/html/body/div[4]/div[3]/div[2]/div[2]/div[2]/a/img').click() #Clicou pra baixar\n",
    "# #//*[@id=\"liveaudio\"]/div[2]/div[2]/div[2]/a/img\n",
    "# #/html/body/div[4]/div[3]/div[2]/div[2]/div[2]/a/img\n",
    "# time.sleep(1)\n",
    "# # py.press(\"enter\")\n",
    "\n",
    "# navegador.find_element_by_xpath('/html/body/div[4]/div[2]/input').click() #Clico para apagar a musica\n",
    "\n",
    "# py.hotkey('ctrl', 'a', 'backspace')\n",
    "\n",
    "# navegador.find_element_by_xpath('/html/body/div[4]/div[2]/input').send_keys(\"Kenny Loggins Footloose\")"
   ]
  },
  {
   "cell_type": "code",
   "execution_count": 8,
   "id": "8101aac7",
   "metadata": {},
   "outputs": [
    {
     "data": {
      "text/plain": [
       "400"
      ]
     },
     "execution_count": 8,
     "metadata": {},
     "output_type": "execute_result"
    }
   ],
   "source": [
    "len(list_music_with_artist)"
   ]
  },
  {
   "cell_type": "code",
   "execution_count": 9,
   "id": "8c341a53",
   "metadata": {},
   "outputs": [],
   "source": [
    "list_music_with_artist[29] = \"The Beatles - Ob-La-Di, Ob-La-Da\"\n",
    "list_music_with_artist[30] = \"Dizzee Rascal Just Sittin' Here\""
   ]
  },
  {
   "cell_type": "code",
   "execution_count": 10,
   "id": "ca394c6c",
   "metadata": {},
   "outputs": [],
   "source": [
    "list_music_with_artist[37] = \"   0:02 / 3:10   Eddy Grant - Electric Avenue\""
   ]
  },
  {
   "cell_type": "code",
   "execution_count": 11,
   "id": "4ae3e195",
   "metadata": {},
   "outputs": [],
   "source": [
    "music_none = []"
   ]
  },
  {
   "cell_type": "code",
   "execution_count": 12,
   "id": "309f0280",
   "metadata": {},
   "outputs": [],
   "source": [
    "def error_treat(i, navegador):\n",
    "    print(\"entrei na função error_treat\")\n",
    "    music_none.append(i)\n",
    "    py.hotkey('alt', 'left')\n",
    "    navegador.find_element_by_xpath('/html/body/div[4]/div[2]/input').click()  #Clico para apagar a musica\n",
    "    time.sleep(1)\n",
    "    py.hotkey('ctrl', 'a', 'backspace')"
   ]
  },
  {
   "cell_type": "code",
   "execution_count": 13,
   "id": "033ca5af",
   "metadata": {},
   "outputs": [],
   "source": [
    "from selenium.common.exceptions import NoSuchElementException"
   ]
  },
  {
   "cell_type": "code",
   "execution_count": 14,
   "id": "5017afc1",
   "metadata": {},
   "outputs": [
    {
     "data": {
      "text/plain": [
       "367"
      ]
     },
     "execution_count": 14,
     "metadata": {},
     "output_type": "execute_result"
    }
   ],
   "source": [
    "x = list_music_with_artist.index(\"Dick Dale & His Del-Tones Misirlou\")\n",
    "x"
   ]
  },
  {
   "cell_type": "code",
   "execution_count": 15,
   "id": "57b5118b",
   "metadata": {},
   "outputs": [
    {
     "data": {
      "text/plain": [
       "400"
      ]
     },
     "execution_count": 15,
     "metadata": {},
     "output_type": "execute_result"
    }
   ],
   "source": [
    "len(list_music_with_artist)"
   ]
  },
  {
   "cell_type": "code",
   "execution_count": 16,
   "id": "94ad5141",
   "metadata": {},
   "outputs": [],
   "source": [
    "def music_download(list_music_with_artist, url):\n",
    "    py.PAUSE = 1\n",
    "    navegador = webdriver.Chrome()\n",
    "    navegador.get(url)\n",
    "\n",
    "    navegador.find_element_by_xpath('/html/body/div[4]/div[6]/div').click()#clicar no site pra entrar\n",
    "\n",
    "    # time.sleep(30)\n",
    "\n",
    "    for i in list_music_with_artist[29:]:\n",
    "\n",
    "        try:\n",
    "            navegador.find_element_by_xpath('/html/body/div[4]/div[2]/input').send_keys(i) \n",
    "        except NoSuchElementException:\n",
    "            error_treat(i, navegador)\n",
    "            continue\n",
    "        time.sleep(2)\n",
    "        py.press(\"enter\")\n",
    "        time.sleep(2)\n",
    "#/html/body/div[4]/div[3]/div[2]/div[2]/div[2]/a/img\n",
    "        navegador.find_element_by_xpath('/html/body/div[4]/div[3]/div[2]/div[2]/div[2]/a/img').click()  #Clicou pra baixar\n",
    "\n",
    "        time.sleep(2)\n",
    "\n",
    "        try:\n",
    "            navegador.find_element_by_xpath('/html/body/div[4]/div[2]/input').click()  #Clico para apagar a musica\n",
    "\n",
    "        except NoSuchElementException:\n",
    "            error_treat(i, navegador)\n",
    "            continue\n",
    "        time.sleep(2)\n",
    "        py.hotkey('ctrl', 'a', 'backspace')\n",
    "        time.sleep(2)\n",
    "        py.hotkey('ctrl', 'a', 'backspace')"
   ]
  },
  {
   "cell_type": "code",
   "execution_count": 17,
   "id": "b66f6d64",
   "metadata": {},
   "outputs": [
    {
     "data": {
      "text/html": [
       "<div>\n",
       "<style scoped>\n",
       "    .dataframe tbody tr th:only-of-type {\n",
       "        vertical-align: middle;\n",
       "    }\n",
       "\n",
       "    .dataframe tbody tr th {\n",
       "        vertical-align: top;\n",
       "    }\n",
       "\n",
       "    .dataframe thead th {\n",
       "        text-align: right;\n",
       "    }\n",
       "</style>\n",
       "<table border=\"1\" class=\"dataframe\">\n",
       "  <thead>\n",
       "    <tr style=\"text-align: right;\">\n",
       "      <th></th>\n",
       "      <th>Unnamed: 1</th>\n",
       "      <th>Unnamed: 2</th>\n",
       "    </tr>\n",
       "  </thead>\n",
       "  <tbody>\n",
       "    <tr>\n",
       "      <th>0</th>\n",
       "      <td>Two Worlds</td>\n",
       "      <td>Phil Collins</td>\n",
       "    </tr>\n",
       "    <tr>\n",
       "      <th>1</th>\n",
       "      <td>You'll Be In My Heart</td>\n",
       "      <td>Glenn Close, Phil Collins</td>\n",
       "    </tr>\n",
       "    <tr>\n",
       "      <th>2</th>\n",
       "      <td>Son of Man</td>\n",
       "      <td>Phil Collins</td>\n",
       "    </tr>\n",
       "    <tr>\n",
       "      <th>3</th>\n",
       "      <td>Strangers Like Me</td>\n",
       "      <td>Phil Collins</td>\n",
       "    </tr>\n",
       "    <tr>\n",
       "      <th>4</th>\n",
       "      <td>You'll Be In My Heart</td>\n",
       "      <td>Phil Collins</td>\n",
       "    </tr>\n",
       "  </tbody>\n",
       "</table>\n",
       "</div>"
      ],
      "text/plain": [
       "              Unnamed: 1                 Unnamed: 2\n",
       "0             Two Worlds               Phil Collins\n",
       "1  You'll Be In My Heart  Glenn Close, Phil Collins\n",
       "2             Son of Man               Phil Collins\n",
       "3      Strangers Like Me               Phil Collins\n",
       "4  You'll Be In My Heart               Phil Collins"
      ]
     },
     "execution_count": 17,
     "metadata": {},
     "output_type": "execute_result"
    }
   ],
   "source": [
    "df2 = pd.read_csv(\"C:/Users/lucas/Documents/Projetos/Spotify/liked_and_other_musics.csv\")\n",
    "del df2[\"Unnamed: 0\"]\n",
    "df2.head()      "
   ]
  },
  {
   "cell_type": "code",
   "execution_count": 18,
   "id": "7d24dcc7",
   "metadata": {},
   "outputs": [],
   "source": [
    "sum_colum = df2[\"Unnamed: 1\"] + \" \" + df2[\"Unnamed: 2\"]\n",
    "sum_colum.head()\n",
    "list_music = sum_colum.tolist()"
   ]
  },
  {
   "cell_type": "code",
   "execution_count": 19,
   "id": "e32abdbe",
   "metadata": {},
   "outputs": [
    {
     "data": {
      "text/plain": [
       "103"
      ]
     },
     "execution_count": 19,
     "metadata": {},
     "output_type": "execute_result"
    }
   ],
   "source": [
    "len(list_music)"
   ]
  },
  {
   "cell_type": "code",
   "execution_count": 20,
   "id": "0945407f",
   "metadata": {},
   "outputs": [
    {
     "name": "stderr",
     "output_type": "stream",
     "text": [
      "C:\\Users\\lucas\\AppData\\Local\\Temp/ipykernel_10156/655450846.py:6: DeprecationWarning: find_element_by_xpath is deprecated. Please use find_element(by=By.XPATH, value=xpath) instead\n",
      "  navegador.find_element_by_xpath('/html/body/div[4]/div[6]/div').click()#clicar no site pra entrar\n",
      "C:\\Users\\lucas\\AppData\\Local\\Temp/ipykernel_10156/655450846.py:13: DeprecationWarning: find_element_by_xpath is deprecated. Please use find_element(by=By.XPATH, value=xpath) instead\n",
      "  navegador.find_element_by_xpath('/html/body/div[4]/div[2]/input').send_keys(i)\n",
      "C:\\Users\\lucas\\AppData\\Local\\Temp/ipykernel_10156/655450846.py:21: DeprecationWarning: find_element_by_xpath is deprecated. Please use find_element(by=By.XPATH, value=xpath) instead\n",
      "  navegador.find_element_by_xpath('/html/body/div[4]/div[3]/div[2]/div[2]/div[2]/a/img').click()  #Clicou pra baixar\n",
      "C:\\Users\\lucas\\AppData\\Local\\Temp/ipykernel_10156/655450846.py:26: DeprecationWarning: find_element_by_xpath is deprecated. Please use find_element(by=By.XPATH, value=xpath) instead\n",
      "  navegador.find_element_by_xpath('/html/body/div[4]/div[2]/input').click()  #Clico para apagar a musica\n"
     ]
    },
    {
     "name": "stdout",
     "output_type": "stream",
     "text": [
      "entrei na função error_treat\n"
     ]
    },
    {
     "name": "stderr",
     "output_type": "stream",
     "text": [
      "C:\\Users\\lucas\\AppData\\Local\\Temp/ipykernel_10156/14094396.py:5: DeprecationWarning: find_element_by_xpath is deprecated. Please use find_element(by=By.XPATH, value=xpath) instead\n",
      "  navegador.find_element_by_xpath('/html/body/div[4]/div[2]/input').click()  #Clico para apagar a musica\n"
     ]
    },
    {
     "name": "stdout",
     "output_type": "stream",
     "text": [
      "entrei na função error_treat\n",
      "entrei na função error_treat\n",
      "entrei na função error_treat\n",
      "entrei na função error_treat\n",
      "entrei na função error_treat\n",
      "entrei na função error_treat\n",
      "entrei na função error_treat\n",
      "entrei na função error_treat\n",
      "entrei na função error_treat\n",
      "entrei na função error_treat\n",
      "entrei na função error_treat\n",
      "entrei na função error_treat\n",
      "entrei na função error_treat\n",
      "entrei na função error_treat\n",
      "entrei na função error_treat\n",
      "entrei na função error_treat\n",
      "entrei na função error_treat\n",
      "entrei na função error_treat\n",
      "entrei na função error_treat\n",
      "entrei na função error_treat\n",
      "entrei na função error_treat\n",
      "entrei na função error_treat\n",
      "entrei na função error_treat\n",
      "entrei na função error_treat\n",
      "entrei na função error_treat\n",
      "entrei na função error_treat\n",
      "entrei na função error_treat\n",
      "entrei na função error_treat\n",
      "entrei na função error_treat\n",
      "entrei na função error_treat\n",
      "entrei na função error_treat\n",
      "entrei na função error_treat\n",
      "entrei na função error_treat\n",
      "entrei na função error_treat\n",
      "entrei na função error_treat\n",
      "entrei na função error_treat\n",
      "entrei na função error_treat\n",
      "entrei na função error_treat\n",
      "entrei na função error_treat\n",
      "entrei na função error_treat\n",
      "entrei na função error_treat\n",
      "entrei na função error_treat\n",
      "entrei na função error_treat\n",
      "entrei na função error_treat\n",
      "entrei na função error_treat\n",
      "entrei na função error_treat\n",
      "entrei na função error_treat\n",
      "entrei na função error_treat\n",
      "entrei na função error_treat\n",
      "entrei na função error_treat\n",
      "entrei na função error_treat\n",
      "entrei na função error_treat\n",
      "entrei na função error_treat\n",
      "entrei na função error_treat\n",
      "entrei na função error_treat\n",
      "entrei na função error_treat\n",
      "entrei na função error_treat\n",
      "entrei na função error_treat\n",
      "entrei na função error_treat\n",
      "entrei na função error_treat\n",
      "entrei na função error_treat\n"
     ]
    }
   ],
   "source": [
    "url =\"https://slider.kz/\"\n",
    "music_download(list_music, url)"
   ]
  },
  {
   "cell_type": "code",
   "execution_count": 21,
   "id": "8b929f15",
   "metadata": {},
   "outputs": [
    {
     "data": {
      "text/plain": [
       "29"
      ]
     },
     "execution_count": 21,
     "metadata": {},
     "output_type": "execute_result"
    }
   ],
   "source": [
    "x = list_music.index(\"Butterfly - Radio Edit Yusuf / Cat Stevens\")\n",
    "x"
   ]
  },
  {
   "cell_type": "code",
   "execution_count": 23,
   "id": "c895ac2f",
   "metadata": {},
   "outputs": [
    {
     "data": {
      "text/plain": [
       "62"
      ]
     },
     "execution_count": 23,
     "metadata": {},
     "output_type": "execute_result"
    }
   ],
   "source": [
    "len(music_none)"
   ]
  },
  {
   "cell_type": "code",
   "execution_count": 22,
   "id": "c167d27b",
   "metadata": {},
   "outputs": [
    {
     "data": {
      "text/plain": [
       "['Butterfly - Radio Edit Yusuf / Cat Stevens',\n",
       " 'Roadsinger Yusuf / Cat Stevens',\n",
       " \"Maybe There's a World Yusuf / Cat Stevens\",\n",
       " \"Maybe You're Right Yusuf / Cat Stevens\",\n",
       " 'Here Comes My Baby - Stereo Version Yusuf / Cat Stevens',\n",
       " 'Everytime I Dream Yusuf / Cat Stevens',\n",
       " 'Angelsea Yusuf / Cat Stevens',\n",
       " 'The Beloved Yusuf / Cat Stevens',\n",
       " 'Dying to Live Yusuf / Cat Stevens',\n",
       " \"Thinking 'Bout You Yusuf / Cat Stevens\",\n",
       " 'Silent Sunlight Yusuf / Cat Stevens',\n",
       " 'Another Saturday Night Yusuf / Cat Stevens',\n",
       " 'Just Another Night Yusuf / Cat Stevens',\n",
       " 'See What Love Did to Me Yusuf / Cat Stevens',\n",
       " 'Dancin (feat. Luvli) - Krono Remix Aaron Smith, Krono, Luvli',\n",
       " 'Pumped Up Kicks Foster The People',\n",
       " 'Peace Frog The Doors',\n",
       " \"Ain't No Mountain High Enough Marvin Gaye, Tammi Terrell\",\n",
       " 'This Flight Tonight - 2010 - Remaster Nazareth',\n",
       " \"I'm Yours Jason Mraz\",\n",
       " 'Tequila Sunrise - 2013 Remaster Eagles',\n",
       " 'December, 1963 (Oh What a Night!) Frankie Valli & The Four Seasons',\n",
       " 'If You Like Pi��a Coladas Karass',\n",
       " 'Listen to the Music The Doobie Brothers',\n",
       " 'Am I Wrong Nico & Vinz',\n",
       " 'Money For Nothing - Edit Dire Straits',\n",
       " 'Despedida De Casal Gustavo Mioto',\n",
       " 'Fortunate Son Creedence Clearwater Revival',\n",
       " 'Down On The Corner Creedence Clearwater Revival',\n",
       " 'Somebody That I Used To Know Gotye, Kimbra',\n",
       " 'Iron Man Black Sabbath',\n",
       " 'Hooked On A Feeling Blue Swede, Bj��rn Skifs',\n",
       " 'Sweet Home Alabama Lynyrd Skynyrd',\n",
       " 'Whole Lotta Love - 1990 Remaster Led Zeppelin',\n",
       " 'Take Me To Church Hozier',\n",
       " 'What A Wonderful World Louis Armstrong',\n",
       " 'Stand by Me Seal',\n",
       " \"Number One (Ichigo's Theme) [From Bleach] [feat. Mariana Camelo] Museek, Mariana Camelo\",\n",
       " 'Ideologia Cazuza',\n",
       " 'Concerto in B-Flat, Op. 7, No. 3: I. Allegro Tomaso Albinoni, John Wallace, Simon Wright, Philharmonia Orchestra',\n",
       " 'The Four Seasons, Violin Concerto No. 2 in G Minor, RV 315 \"L\\'estate\": III. Tempo impetuoso d\\'estate Antonio Vivaldi, Europa Galante, Fabio Biondi',\n",
       " 'Cello Suite No. 1 in G Major, BWV 1007: I. Prelude Johann Sebastian Bach, Ralph Kirshbaum',\n",
       " 'I Don���t Wanna Live Forever (Fifty Shades Darker) ZAYN, Taylor Swift',\n",
       " 'Shower Becky G',\n",
       " 'Low (feat. T-Pain) Flo Rida, T-Pain',\n",
       " 'The Monster Eminem, Rihanna',\n",
       " 'Party Rock Anthem LMFAO, Lauren Bennett, GoonRock',\n",
       " 'Mood (feat. iann dior) 24kGoldn, iann dior',\n",
       " 'Rain On Me (with Ariana Grande) Lady Gaga, Ariana Grande',\n",
       " 'Dynamite BTS',\n",
       " 'Cheia de Manias Ra��a Negra',\n",
       " 'I Want To Break Free Queen',\n",
       " 'X Nicky Jam, J Balvin',\n",
       " 'On The Floor Jennifer Lopez, Pitbull',\n",
       " 'Everything I Own Bread',\n",
       " 'Kings & Queens Ava Max',\n",
       " 'Watermelon Sugar Harry Styles',\n",
       " 'Head & Heart (feat. MNEK) Joel Corry, MNEK',\n",
       " 'Dance Monkey Tones And I',\n",
       " 'Savage Love (Laxed - Siren Beat) Jawsh 685, Jason Derulo',\n",
       " 'Footloose Kenny Loggins',\n",
       " 'Que Sorte A Nossa - Live Matheus & Kauan']"
      ]
     },
     "execution_count": 22,
     "metadata": {},
     "output_type": "execute_result"
    }
   ],
   "source": [
    "music_none"
   ]
  }
 ],
 "metadata": {
  "interpreter": {
   "hash": "665796ea3363072d3a6057ac2fdbe3c4fcb0d17a4b92295d9707f78e9c46c0af"
  },
  "kernelspec": {
   "display_name": "Python 3.9.7 ('base')",
   "language": "python",
   "name": "python3"
  },
  "language_info": {
   "codemirror_mode": {
    "name": "ipython",
    "version": 3
   },
   "file_extension": ".py",
   "mimetype": "text/x-python",
   "name": "python",
   "nbconvert_exporter": "python",
   "pygments_lexer": "ipython3",
   "version": "3.9.7"
  }
 },
 "nbformat": 4,
 "nbformat_minor": 5
}
