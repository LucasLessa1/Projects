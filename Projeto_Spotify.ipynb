{
 "cells": [
  {
   "cell_type": "code",
   "execution_count": 1,
   "id": "f716e15a",
   "metadata": {},
   "outputs": [
    {
     "name": "stdout",
     "output_type": "stream",
     "text": [
      "Requirement already satisfied: pyautogui in c:\\users\\lucas\\anaconda3\\lib\\site-packages (0.9.53)\n",
      "Requirement already satisfied: PyTweening>=1.0.1 in c:\\users\\lucas\\anaconda3\\lib\\site-packages (from pyautogui) (1.0.4)\n",
      "Requirement already satisfied: pyscreeze>=0.1.21 in c:\\users\\lucas\\anaconda3\\lib\\site-packages (from pyautogui) (0.1.28)\n",
      "Requirement already satisfied: pymsgbox in c:\\users\\lucas\\anaconda3\\lib\\site-packages (from pyautogui) (1.0.9)\n",
      "Requirement already satisfied: pygetwindow>=0.0.5 in c:\\users\\lucas\\anaconda3\\lib\\site-packages (from pyautogui) (0.0.9)\n",
      "Requirement already satisfied: mouseinfo in c:\\users\\lucas\\anaconda3\\lib\\site-packages (from pyautogui) (0.1.3)\n",
      "Requirement already satisfied: pyrect in c:\\users\\lucas\\anaconda3\\lib\\site-packages (from pygetwindow>=0.0.5->pyautogui) (0.2.0)\n",
      "Requirement already satisfied: pyperclip in c:\\users\\lucas\\anaconda3\\lib\\site-packages (from mouseinfo->pyautogui) (1.8.2)\n",
      "Note: you may need to restart the kernel to use updated packages.\n"
     ]
    }
   ],
   "source": [
    "pip install pyautogui"
   ]
  },
  {
   "cell_type": "code",
   "execution_count": 2,
   "id": "1bcd05f8",
   "metadata": {},
   "outputs": [
    {
     "name": "stdout",
     "output_type": "stream",
     "text": [
      "Requirement already satisfied: selenium in c:\\users\\lucas\\anaconda3\\lib\\site-packages (4.4.0)\n",
      "Requirement already satisfied: urllib3[secure,socks]~=1.26 in c:\\users\\lucas\\anaconda3\\lib\\site-packages (from selenium) (1.26.9)\n",
      "Requirement already satisfied: trio~=0.17 in c:\\users\\lucas\\anaconda3\\lib\\site-packages (from selenium) (0.21.0)\n",
      "Requirement already satisfied: trio-websocket~=0.9 in c:\\users\\lucas\\anaconda3\\lib\\site-packages (from selenium) (0.9.2)\n",
      "Requirement already satisfied: idna in c:\\users\\lucas\\anaconda3\\lib\\site-packages (from trio~=0.17->selenium) (3.3)\n",
      "Requirement already satisfied: cffi>=1.14 in c:\\users\\lucas\\anaconda3\\lib\\site-packages (from trio~=0.17->selenium) (1.15.0)\n",
      "Requirement already satisfied: attrs>=19.2.0 in c:\\users\\lucas\\anaconda3\\lib\\site-packages (from trio~=0.17->selenium) (21.4.0)\n",
      "Requirement already satisfied: sniffio in c:\\users\\lucas\\anaconda3\\lib\\site-packages (from trio~=0.17->selenium) (1.2.0)\n",
      "Requirement already satisfied: sortedcontainers in c:\\users\\lucas\\anaconda3\\lib\\site-packages (from trio~=0.17->selenium) (2.4.0)\n",
      "Requirement already satisfied: async-generator>=1.9 in c:\\users\\lucas\\anaconda3\\lib\\site-packages (from trio~=0.17->selenium) (1.10)\n",
      "Requirement already satisfied: outcome in c:\\users\\lucas\\anaconda3\\lib\\site-packages (from trio~=0.17->selenium) (1.2.0)\n",
      "Note: you may need to restart the kernel to use updated packages.Requirement already satisfied: pycparser in c:\\users\\lucas\\anaconda3\\lib\\site-packages (from cffi>=1.14->trio~=0.17->selenium) (2.21)\n",
      "Requirement already satisfied: wsproto>=0.14 in c:\\users\\lucas\\anaconda3\\lib\\site-packages (from trio-websocket~=0.9->selenium) (1.1.0)\n",
      "Requirement already satisfied: certifi in c:\\users\\lucas\\anaconda3\\lib\\site-packages (from urllib3[secure,socks]~=1.26->selenium) (2021.10.8)\n",
      "Requirement already satisfied: cryptography>=1.3.4 in c:\\users\\lucas\\anaconda3\\lib\\site-packages (from urllib3[secure,socks]~=1.26->selenium) (3.4.8)\n",
      "\n",
      "Requirement already satisfied: pyOpenSSL>=0.14 in c:\\users\\lucas\\anaconda3\\lib\\site-packages (from urllib3[secure,socks]~=1.26->selenium) (21.0.0)\n",
      "Requirement already satisfied: PySocks!=1.5.7,<2.0,>=1.5.6 in c:\\users\\lucas\\anaconda3\\lib\\site-packages (from urllib3[secure,socks]~=1.26->selenium) (1.7.1)\n",
      "Requirement already satisfied: six>=1.5.2 in c:\\users\\lucas\\anaconda3\\lib\\site-packages (from pyOpenSSL>=0.14->urllib3[secure,socks]~=1.26->selenium) (1.15.0)\n",
      "Requirement already satisfied: h11<1,>=0.9.0 in c:\\users\\lucas\\anaconda3\\lib\\site-packages (from wsproto>=0.14->trio-websocket~=0.9->selenium) (0.13.0)\n"
     ]
    }
   ],
   "source": [
    "pip install selenium"
   ]
  },
  {
   "cell_type": "code",
   "execution_count": 3,
   "id": "306c8b3e",
   "metadata": {},
   "outputs": [
    {
     "name": "stdout",
     "output_type": "stream",
     "text": [
      "Requirement already satisfied: webdriver-manager in c:\\users\\lucas\\anaconda3\\lib\\site-packages (3.8.3)\n",
      "Requirement already satisfied: requests in c:\\users\\lucas\\anaconda3\\lib\\site-packages (from webdriver-manager) (2.27.1)\n",
      "Requirement already satisfied: tqdm in c:\\users\\lucas\\anaconda3\\lib\\site-packages (from webdriver-manager) (4.64.0)\n",
      "Requirement already satisfied: python-dotenv in c:\\users\\lucas\\anaconda3\\lib\\site-packages (from webdriver-manager) (0.20.0)\n",
      "Requirement already satisfied: certifi>=2017.4.17 in c:\\users\\lucas\\anaconda3\\lib\\site-packages (from requests->webdriver-manager) (2021.10.8)\n",
      "Requirement already satisfied: idna<4,>=2.5 in c:\\users\\lucas\\anaconda3\\lib\\site-packages (from requests->webdriver-manager) (3.3)\n",
      "Requirement already satisfied: urllib3<1.27,>=1.21.1 in c:\\users\\lucas\\anaconda3\\lib\\site-packages (from requests->webdriver-manager) (1.26.9)\n",
      "Requirement already satisfied: charset-normalizer~=2.0.0 in c:\\users\\lucas\\anaconda3\\lib\\site-packages (from requests->webdriver-manager) (2.0.4)\n",
      "Requirement already satisfied: colorama in c:\\users\\lucas\\anaconda3\\lib\\site-packages (from tqdm->webdriver-manager) (0.4.4)\n",
      "Note: you may need to restart the kernel to use updated packages.\n"
     ]
    }
   ],
   "source": [
    "pip install webdriver-manager\n"
   ]
  },
  {
   "cell_type": "code",
   "execution_count": 4,
   "id": "c9886956",
   "metadata": {},
   "outputs": [],
   "source": [
    "import pyautogui as py\n",
    "import pandas as pd\n",
    "import numpy as np\n",
    "import time\n",
    "from selenium import webdriver\n",
    "from selenium.common.exceptions import NoSuchElementException"
   ]
  },
  {
   "cell_type": "code",
   "execution_count": 5,
   "id": "49984ae8",
   "metadata": {},
   "outputs": [],
   "source": [
    "# py.PAUSE = 5\n",
    "\n",
    "# py.press(\"win\")\n",
    "# py.write(\"Word\")\n",
    "# py.press(\"backspace\")"
   ]
  },
  {
   "cell_type": "code",
   "execution_count": 6,
   "id": "91dfee81",
   "metadata": {},
   "outputs": [
    {
     "name": "stderr",
     "output_type": "stream",
     "text": [
      "C:\\Users\\lucas\\AppData\\Local\\Temp\\ipykernel_27552\\2160715986.py:4: DeprecationWarning: executable_path has been deprecated, please pass in a Service object\n",
      "  driver = webdriver.Chrome(ChromeDriverManager().install())\n"
     ]
    }
   ],
   "source": [
    "from selenium import webdriver\n",
    "from webdriver_manager.chrome import ChromeDriverManager\n",
    "\n",
    "driver = webdriver.Chrome(ChromeDriverManager().install())"
   ]
  },
  {
   "cell_type": "markdown",
   "id": "960ad0fc",
   "metadata": {},
   "source": [
    "Testando WebDriver"
   ]
  },
  {
   "cell_type": "code",
   "execution_count": 7,
   "id": "d94ca3df",
   "metadata": {},
   "outputs": [],
   "source": [
    "# navegador = webdriver.Chrome(ChromeDriverManager().install())\n",
    "\n",
    "# navegador.get(\"https://slider.kz/\")\n",
    "# # time.sleep(1)\n",
    "\n",
    "# navegador.find_element(\"xpath\",'/html/body/div[4]/div[6]/div').click()\n",
    "# # time.sleep(1)\n",
    "\n",
    "# navegador.find_element(\"xpath\",'/html/body/div[4]/div[2]/input').send_keys(\"Kenny Loggins Footloose\")\n",
    "# # time.sleep(1)\n",
    "\n",
    "# navegador.find_element(\"xpath\",'/html/body/div[4]/div[2]/div[1]').click()#Clicou pra pesquisar\n",
    "# #/html/body/div[4]/div[3]/div[2]/div[2]/div[2]/a/img\n",
    "# time.sleep(2)\n",
    "\n",
    "# navegador.find_element(\"xpath\",'/html/body/div[4]/div[3]/div[2]/div[2]/div[2]/a/img').click() #Clicou pra baixar\n",
    "# #//*[@id=\"liveaudio\"]/div[2]/div[2]/div[2]/a/img\n",
    "# #/html/body/div[4]/div[3]/div[2]/div[2]/div[2]/a/img\n",
    "# time.sleep(1)\n",
    "# # py.press(\"enter\")\n",
    "\n",
    "# navegador.find_element(\"xpath\",'/html/body/div[4]/div[2]/input').click() #Clico para apagar a musica\n",
    "\n",
    "# py.hotkey('ctrl', 'a', 'backspace')\n",
    "\n",
    "# navegador.find_element(\"xpath\",'/html/body/div[4]/div[2]/input').send_keys(\"Kenny Loggins Footloose\")"
   ]
  },
  {
   "cell_type": "code",
   "execution_count": 8,
   "id": "309f0280",
   "metadata": {},
   "outputs": [],
   "source": [
    "music_none = []\n",
    "def error_treat(i, navegador):\n",
    "    print(\"entrei na função error_treat\")\n",
    "    music_none.append(i)\n",
    "    py.hotkey('alt', 'left')\n",
    "    time.sleep(1)\n",
    "    navegador.find_element(\"xpath\",'/html/body/div[4]/div[2]/input').click()  #Clico para apagar a musica\n",
    "    time.sleep(1)\n",
    "    py.hotkey('ctrl', 'a', 'backspace')\n",
    "    print(\"Saí da função error_treat\")"
   ]
  },
  {
   "cell_type": "code",
   "execution_count": 9,
   "id": "94ad5141",
   "metadata": {},
   "outputs": [],
   "source": [
    "def music_download(list_music_with_artist, url):\n",
    "    py.PAUSE = 1\n",
    "    navegador = webdriver.Chrome(ChromeDriverManager().install())\n",
    "    navegador.get(url)\n",
    "\n",
    "    navegador.find_element(\"xpath\",'/html/body/div[4]/div[6]/div').click()#clicar no site pra entrar\n",
    "\n",
    "    # time.sleep(30)\n",
    "\n",
    "    for i in list_music_with_artist:\n",
    "\n",
    "        try:\n",
    "            navegador.find_element(\"xpath\",'/html/body/div[4]/div[2]/input').send_keys(i) \n",
    "        except NoSuchElementException:\n",
    "            error_treat(i, navegador)\n",
    "            continue\n",
    "        time.sleep(2)\n",
    "        py.press(\"enter\")\n",
    "        time.sleep(2)\n",
    "#/html/body/div[4]/div[3]/div[2]/div[2]/div[2]/a/img\n",
    "        navegador.find_element(\"xpath\",'/html/body/div[4]/div[3]/div[2]/div[2]/div[2]/a/img').click()  #Clicou pra baixar\n",
    "\n",
    "        time.sleep(2)\n",
    "        try:\n",
    "            navegador.find_element(\"xpath\",'/html/body/div[4]/div[2]/input').click()  #Clico para apagar a musica\n",
    "\n",
    "        except NoSuchElementException:\n",
    "            print(\"Coisa errada na hora de clicar para apagar \")\n",
    "            error_treat(i, navegador)\n",
    "            continue\n",
    "        time.sleep(2)\n",
    "        py.hotkey('ctrl', 'a', 'backspace')\n",
    "        time.sleep(2)\n",
    "        py.hotkey('ctrl', 'a', 'backspace')"
   ]
  },
  {
   "cell_type": "code",
   "execution_count": 10,
   "id": "d00e3ec6",
   "metadata": {},
   "outputs": [
    {
     "data": {
      "text/plain": [
       "['Preto no Branco, Gabriela Rocha Ninguem Explica Deus (feat. Gabriela Rocha) - Ao Vivo',\n",
       " 'Padre Marcelo Rossi Noites Traicoeiras',\n",
       " 'Padre Marcelo Rossi Segura na Mao de Deus',\n",
       " 'Regis Danese Faz um Milagre em Mim',\n",
       " 'Coro Basilica Do Carmo Te Amarei, Senhor',\n",
       " 'Cristina Maximo Ninguem Te Ama Como Eu',\n",
       " 'Fabricio Simoes Oracao de sao Francisco de Assis',\n",
       " 'Cidinha Simon A Barca',\n",
       " 'Cristina Maximo Sonda-Me',\n",
       " 'Kelly Clarkson Because of You',\n",
       " 'Di Paullo & Paulino, Maralia Mendonca Estrelinha',\n",
       " 'Bruna Karla Sou Humano',\n",
       " 'Midian Lima Nao Pare',\n",
       " 'Tim e Vanessa Aos Pes do Monte',\n",
       " 'Tim e Vanessa Pedro',\n",
       " 'Tim e Vanessa Aurora',\n",
       " 'Tim e Vanessa Mundo-Escola',\n",
       " 'Tim e Vanessa Chamas (Ao Vivo)',\n",
       " 'Tim e Vanessa Zaqueu (Ao Vivo)',\n",
       " 'Karen Keldani A Barca']"
      ]
     },
     "execution_count": 10,
     "metadata": {},
     "output_type": "execute_result"
    }
   ],
   "source": [
    "df1 = pd.read_csv(\"C:/Códigos_VS/Projetos/Spotify/Livia/deus.csv\")\n",
    "sum_colum = df1[\"Artist Name(s)\"] + \" \" + df1[\"Track Name\"]\n",
    "list_music_with_artist = sum_colum.tolist()\n",
    "list_music_with_artist"
   ]
  },
  {
   "cell_type": "code",
   "execution_count": 11,
   "id": "ab6a0550",
   "metadata": {},
   "outputs": [
    {
     "name": "stderr",
     "output_type": "stream",
     "text": [
      "C:\\Users\\lucas\\AppData\\Local\\Temp\\ipykernel_27552\\2575481003.py:3: DeprecationWarning: executable_path has been deprecated, please pass in a Service object\n",
      "  navegador = webdriver.Chrome(ChromeDriverManager().install())\n"
     ]
    },
    {
     "name": "stdout",
     "output_type": "stream",
     "text": [
      "Coisa errada na hora de clicar para apagar \n",
      "entrei na função error_treat\n",
      "Saí da função error_treat\n",
      "Coisa errada na hora de clicar para apagar \n",
      "entrei na função error_treat\n",
      "Saí da função error_treat\n",
      "Coisa errada na hora de clicar para apagar \n",
      "entrei na função error_treat\n",
      "Saí da função error_treat\n"
     ]
    },
    {
     "ename": "NoSuchElementException",
     "evalue": "Message: no such element: Unable to locate element: {\"method\":\"xpath\",\"selector\":\"/html/body/div[4]/div[3]/div[2]/div[2]/div[2]/a/img\"}\n  (Session info: chrome=104.0.5112.81)\nStacktrace:\nBacktrace:\n\tOrdinal0 [0x005D78B3+2193587]\n\tOrdinal0 [0x00570681+1771137]\n\tOrdinal0 [0x004841A8+803240]\n\tOrdinal0 [0x004B24A0+992416]\n\tOrdinal0 [0x004B273B+993083]\n\tOrdinal0 [0x004DF7C2+1177538]\n\tOrdinal0 [0x004CD7F4+1103860]\n\tOrdinal0 [0x004DDAE2+1170146]\n\tOrdinal0 [0x004CD5C6+1103302]\n\tOrdinal0 [0x004A77E0+948192]\n\tOrdinal0 [0x004A86E6+952038]\n\tGetHandleVerifier [0x00880CB2+2738370]\n\tGetHandleVerifier [0x008721B8+2678216]\n\tGetHandleVerifier [0x006617AA+512954]\n\tGetHandleVerifier [0x00660856+509030]\n\tOrdinal0 [0x0057743B+1799227]\n\tOrdinal0 [0x0057BB68+1817448]\n\tOrdinal0 [0x0057BC55+1817685]\n\tOrdinal0 [0x00585230+1856048]\n\tBaseThreadInitThunk [0x7613FA29+25]\n\tRtlGetAppContainerNamedObjectPath [0x77027A9E+286]\n\tRtlGetAppContainerNamedObjectPath [0x77027A6E+238]\n",
     "output_type": "error",
     "traceback": [
      "\u001b[1;31m---------------------------------------------------------------------------\u001b[0m",
      "\u001b[1;31mNoSuchElementException\u001b[0m                    Traceback (most recent call last)",
      "\u001b[1;32mc:\\Códigos_VS\\Projetos\\Spotify\\Projeto_Spotify.ipynb Cell 12\u001b[0m in \u001b[0;36m<cell line: 2>\u001b[1;34m()\u001b[0m\n\u001b[0;32m      <a href='vscode-notebook-cell:/c%3A/C%C3%B3digos_VS/Projetos/Spotify/Projeto_Spotify.ipynb#X14sZmlsZQ%3D%3D?line=0'>1</a>\u001b[0m url \u001b[39m=\u001b[39m\u001b[39m\"\u001b[39m\u001b[39mhttps://slider.kz/\u001b[39m\u001b[39m\"\u001b[39m\n\u001b[1;32m----> <a href='vscode-notebook-cell:/c%3A/C%C3%B3digos_VS/Projetos/Spotify/Projeto_Spotify.ipynb#X14sZmlsZQ%3D%3D?line=1'>2</a>\u001b[0m music_download(list_music_with_artist, url)\n",
      "\u001b[1;32mc:\\Códigos_VS\\Projetos\\Spotify\\Projeto_Spotify.ipynb Cell 12\u001b[0m in \u001b[0;36mmusic_download\u001b[1;34m(list_music_with_artist, url)\u001b[0m\n\u001b[0;32m     <a href='vscode-notebook-cell:/c%3A/C%C3%B3digos_VS/Projetos/Spotify/Projeto_Spotify.ipynb#X14sZmlsZQ%3D%3D?line=18'>19</a>\u001b[0m         time\u001b[39m.\u001b[39msleep(\u001b[39m2\u001b[39m)\n\u001b[0;32m     <a href='vscode-notebook-cell:/c%3A/C%C3%B3digos_VS/Projetos/Spotify/Projeto_Spotify.ipynb#X14sZmlsZQ%3D%3D?line=19'>20</a>\u001b[0m \u001b[39m#/html/body/div[4]/div[3]/div[2]/div[2]/div[2]/a/img\u001b[39;00m\n\u001b[1;32m---> <a href='vscode-notebook-cell:/c%3A/C%C3%B3digos_VS/Projetos/Spotify/Projeto_Spotify.ipynb#X14sZmlsZQ%3D%3D?line=20'>21</a>\u001b[0m         navegador\u001b[39m.\u001b[39;49mfind_element(\u001b[39m\"\u001b[39;49m\u001b[39mxpath\u001b[39;49m\u001b[39m\"\u001b[39;49m,\u001b[39m'\u001b[39;49m\u001b[39m/html/body/div[4]/div[3]/div[2]/div[2]/div[2]/a/img\u001b[39;49m\u001b[39m'\u001b[39;49m)\u001b[39m.\u001b[39mclick()  \u001b[39m#Clicou pra baixar\u001b[39;00m\n\u001b[0;32m     <a href='vscode-notebook-cell:/c%3A/C%C3%B3digos_VS/Projetos/Spotify/Projeto_Spotify.ipynb#X14sZmlsZQ%3D%3D?line=22'>23</a>\u001b[0m         time\u001b[39m.\u001b[39msleep(\u001b[39m2\u001b[39m)\n\u001b[0;32m     <a href='vscode-notebook-cell:/c%3A/C%C3%B3digos_VS/Projetos/Spotify/Projeto_Spotify.ipynb#X14sZmlsZQ%3D%3D?line=23'>24</a>\u001b[0m         \u001b[39mtry\u001b[39;00m:\n",
      "File \u001b[1;32mc:\\Users\\lucas\\anaconda3\\lib\\site-packages\\selenium\\webdriver\\remote\\webdriver.py:856\u001b[0m, in \u001b[0;36mWebDriver.find_element\u001b[1;34m(self, by, value)\u001b[0m\n\u001b[0;32m    853\u001b[0m     by \u001b[39m=\u001b[39m By\u001b[39m.\u001b[39mCSS_SELECTOR\n\u001b[0;32m    854\u001b[0m     value \u001b[39m=\u001b[39m \u001b[39m'\u001b[39m\u001b[39m[name=\u001b[39m\u001b[39m\"\u001b[39m\u001b[39m%s\u001b[39;00m\u001b[39m\"\u001b[39m\u001b[39m]\u001b[39m\u001b[39m'\u001b[39m \u001b[39m%\u001b[39m value\n\u001b[1;32m--> 856\u001b[0m \u001b[39mreturn\u001b[39;00m \u001b[39mself\u001b[39;49m\u001b[39m.\u001b[39;49mexecute(Command\u001b[39m.\u001b[39;49mFIND_ELEMENT, {\n\u001b[0;32m    857\u001b[0m     \u001b[39m'\u001b[39;49m\u001b[39musing\u001b[39;49m\u001b[39m'\u001b[39;49m: by,\n\u001b[0;32m    858\u001b[0m     \u001b[39m'\u001b[39;49m\u001b[39mvalue\u001b[39;49m\u001b[39m'\u001b[39;49m: value})[\u001b[39m'\u001b[39m\u001b[39mvalue\u001b[39m\u001b[39m'\u001b[39m]\n",
      "File \u001b[1;32mc:\\Users\\lucas\\anaconda3\\lib\\site-packages\\selenium\\webdriver\\remote\\webdriver.py:434\u001b[0m, in \u001b[0;36mWebDriver.execute\u001b[1;34m(self, driver_command, params)\u001b[0m\n\u001b[0;32m    432\u001b[0m response \u001b[39m=\u001b[39m \u001b[39mself\u001b[39m\u001b[39m.\u001b[39mcommand_executor\u001b[39m.\u001b[39mexecute(driver_command, params)\n\u001b[0;32m    433\u001b[0m \u001b[39mif\u001b[39;00m response:\n\u001b[1;32m--> 434\u001b[0m     \u001b[39mself\u001b[39;49m\u001b[39m.\u001b[39;49merror_handler\u001b[39m.\u001b[39;49mcheck_response(response)\n\u001b[0;32m    435\u001b[0m     response[\u001b[39m'\u001b[39m\u001b[39mvalue\u001b[39m\u001b[39m'\u001b[39m] \u001b[39m=\u001b[39m \u001b[39mself\u001b[39m\u001b[39m.\u001b[39m_unwrap_value(\n\u001b[0;32m    436\u001b[0m         response\u001b[39m.\u001b[39mget(\u001b[39m'\u001b[39m\u001b[39mvalue\u001b[39m\u001b[39m'\u001b[39m, \u001b[39mNone\u001b[39;00m))\n\u001b[0;32m    437\u001b[0m     \u001b[39mreturn\u001b[39;00m response\n",
      "File \u001b[1;32mc:\\Users\\lucas\\anaconda3\\lib\\site-packages\\selenium\\webdriver\\remote\\errorhandler.py:243\u001b[0m, in \u001b[0;36mErrorHandler.check_response\u001b[1;34m(self, response)\u001b[0m\n\u001b[0;32m    241\u001b[0m         alert_text \u001b[39m=\u001b[39m value[\u001b[39m'\u001b[39m\u001b[39malert\u001b[39m\u001b[39m'\u001b[39m]\u001b[39m.\u001b[39mget(\u001b[39m'\u001b[39m\u001b[39mtext\u001b[39m\u001b[39m'\u001b[39m)\n\u001b[0;32m    242\u001b[0m     \u001b[39mraise\u001b[39;00m exception_class(message, screen, stacktrace, alert_text)  \u001b[39m# type: ignore[call-arg]  # mypy is not smart enough here\u001b[39;00m\n\u001b[1;32m--> 243\u001b[0m \u001b[39mraise\u001b[39;00m exception_class(message, screen, stacktrace)\n",
      "\u001b[1;31mNoSuchElementException\u001b[0m: Message: no such element: Unable to locate element: {\"method\":\"xpath\",\"selector\":\"/html/body/div[4]/div[3]/div[2]/div[2]/div[2]/a/img\"}\n  (Session info: chrome=104.0.5112.81)\nStacktrace:\nBacktrace:\n\tOrdinal0 [0x005D78B3+2193587]\n\tOrdinal0 [0x00570681+1771137]\n\tOrdinal0 [0x004841A8+803240]\n\tOrdinal0 [0x004B24A0+992416]\n\tOrdinal0 [0x004B273B+993083]\n\tOrdinal0 [0x004DF7C2+1177538]\n\tOrdinal0 [0x004CD7F4+1103860]\n\tOrdinal0 [0x004DDAE2+1170146]\n\tOrdinal0 [0x004CD5C6+1103302]\n\tOrdinal0 [0x004A77E0+948192]\n\tOrdinal0 [0x004A86E6+952038]\n\tGetHandleVerifier [0x00880CB2+2738370]\n\tGetHandleVerifier [0x008721B8+2678216]\n\tGetHandleVerifier [0x006617AA+512954]\n\tGetHandleVerifier [0x00660856+509030]\n\tOrdinal0 [0x0057743B+1799227]\n\tOrdinal0 [0x0057BB68+1817448]\n\tOrdinal0 [0x0057BC55+1817685]\n\tOrdinal0 [0x00585230+1856048]\n\tBaseThreadInitThunk [0x7613FA29+25]\n\tRtlGetAppContainerNamedObjectPath [0x77027A9E+286]\n\tRtlGetAppContainerNamedObjectPath [0x77027A6E+238]\n"
     ]
    }
   ],
   "source": [
    "url =\"https://slider.kz/\"\n",
    "music_download(list_music_with_artist, url)"
   ]
  },
  {
   "cell_type": "code",
   "execution_count": 14,
   "id": "4df65cda",
   "metadata": {},
   "outputs": [
    {
     "name": "stderr",
     "output_type": "stream",
     "text": [
      "[WDM] - Downloading: 100%|██████████| 6.21M/6.21M [00:00<00:00, 23.2MB/s]\n",
      "C:\\Users\\lucas\\AppData\\Local\\Temp\\ipykernel_27552\\2575481003.py:3: DeprecationWarning: executable_path has been deprecated, please pass in a Service object\n",
      "  navegador = webdriver.Chrome(ChromeDriverManager().install())\n"
     ]
    },
    {
     "ename": "NoSuchElementException",
     "evalue": "Message: no such element: Unable to locate element: {\"method\":\"xpath\",\"selector\":\"/html/body/div[4]/div[3]/div[2]/div[2]/div[2]/a/img\"}\n  (Session info: chrome=104.0.5112.81)\nStacktrace:\nBacktrace:\n\tOrdinal0 [0x005D78B3+2193587]\n\tOrdinal0 [0x00570681+1771137]\n\tOrdinal0 [0x004841A8+803240]\n\tOrdinal0 [0x004B24A0+992416]\n\tOrdinal0 [0x004B273B+993083]\n\tOrdinal0 [0x004DF7C2+1177538]\n\tOrdinal0 [0x004CD7F4+1103860]\n\tOrdinal0 [0x004DDAE2+1170146]\n\tOrdinal0 [0x004CD5C6+1103302]\n\tOrdinal0 [0x004A77E0+948192]\n\tOrdinal0 [0x004A86E6+952038]\n\tGetHandleVerifier [0x00880CB2+2738370]\n\tGetHandleVerifier [0x008721B8+2678216]\n\tGetHandleVerifier [0x006617AA+512954]\n\tGetHandleVerifier [0x00660856+509030]\n\tOrdinal0 [0x0057743B+1799227]\n\tOrdinal0 [0x0057BB68+1817448]\n\tOrdinal0 [0x0057BC55+1817685]\n\tOrdinal0 [0x00585230+1856048]\n\tBaseThreadInitThunk [0x7613FA29+25]\n\tRtlGetAppContainerNamedObjectPath [0x77027A9E+286]\n\tRtlGetAppContainerNamedObjectPath [0x77027A6E+238]\n",
     "output_type": "error",
     "traceback": [
      "\u001b[1;31m---------------------------------------------------------------------------\u001b[0m",
      "\u001b[1;31mNoSuchElementException\u001b[0m                    Traceback (most recent call last)",
      "\u001b[1;32mc:\\Códigos_VS\\Projetos\\Spotify\\Projeto_Spotify.ipynb Cell 13\u001b[0m in \u001b[0;36m<cell line: 5>\u001b[1;34m()\u001b[0m\n\u001b[0;32m      <a href='vscode-notebook-cell:/c%3A/C%C3%B3digos_VS/Projetos/Spotify/Projeto_Spotify.ipynb#X21sZmlsZQ%3D%3D?line=2'>3</a>\u001b[0m list_music_with_artist \u001b[39m=\u001b[39m sum_colum\u001b[39m.\u001b[39mtolist()\n\u001b[0;32m      <a href='vscode-notebook-cell:/c%3A/C%C3%B3digos_VS/Projetos/Spotify/Projeto_Spotify.ipynb#X21sZmlsZQ%3D%3D?line=3'>4</a>\u001b[0m url \u001b[39m=\u001b[39m\u001b[39m\"\u001b[39m\u001b[39mhttps://slider.kz/\u001b[39m\u001b[39m\"\u001b[39m\n\u001b[1;32m----> <a href='vscode-notebook-cell:/c%3A/C%C3%B3digos_VS/Projetos/Spotify/Projeto_Spotify.ipynb#X21sZmlsZQ%3D%3D?line=4'>5</a>\u001b[0m music_download(list_music_with_artist, url)\n",
      "\u001b[1;32mc:\\Códigos_VS\\Projetos\\Spotify\\Projeto_Spotify.ipynb Cell 13\u001b[0m in \u001b[0;36mmusic_download\u001b[1;34m(list_music_with_artist, url)\u001b[0m\n\u001b[0;32m     <a href='vscode-notebook-cell:/c%3A/C%C3%B3digos_VS/Projetos/Spotify/Projeto_Spotify.ipynb#X21sZmlsZQ%3D%3D?line=18'>19</a>\u001b[0m         time\u001b[39m.\u001b[39msleep(\u001b[39m2\u001b[39m)\n\u001b[0;32m     <a href='vscode-notebook-cell:/c%3A/C%C3%B3digos_VS/Projetos/Spotify/Projeto_Spotify.ipynb#X21sZmlsZQ%3D%3D?line=19'>20</a>\u001b[0m \u001b[39m#/html/body/div[4]/div[3]/div[2]/div[2]/div[2]/a/img\u001b[39;00m\n\u001b[1;32m---> <a href='vscode-notebook-cell:/c%3A/C%C3%B3digos_VS/Projetos/Spotify/Projeto_Spotify.ipynb#X21sZmlsZQ%3D%3D?line=20'>21</a>\u001b[0m         navegador\u001b[39m.\u001b[39;49mfind_element(\u001b[39m\"\u001b[39;49m\u001b[39mxpath\u001b[39;49m\u001b[39m\"\u001b[39;49m,\u001b[39m'\u001b[39;49m\u001b[39m/html/body/div[4]/div[3]/div[2]/div[2]/div[2]/a/img\u001b[39;49m\u001b[39m'\u001b[39;49m)\u001b[39m.\u001b[39mclick()  \u001b[39m#Clicou pra baixar\u001b[39;00m\n\u001b[0;32m     <a href='vscode-notebook-cell:/c%3A/C%C3%B3digos_VS/Projetos/Spotify/Projeto_Spotify.ipynb#X21sZmlsZQ%3D%3D?line=22'>23</a>\u001b[0m         time\u001b[39m.\u001b[39msleep(\u001b[39m2\u001b[39m)\n\u001b[0;32m     <a href='vscode-notebook-cell:/c%3A/C%C3%B3digos_VS/Projetos/Spotify/Projeto_Spotify.ipynb#X21sZmlsZQ%3D%3D?line=23'>24</a>\u001b[0m         \u001b[39mtry\u001b[39;00m:\n",
      "File \u001b[1;32mc:\\Users\\lucas\\anaconda3\\lib\\site-packages\\selenium\\webdriver\\remote\\webdriver.py:856\u001b[0m, in \u001b[0;36mWebDriver.find_element\u001b[1;34m(self, by, value)\u001b[0m\n\u001b[0;32m    853\u001b[0m     by \u001b[39m=\u001b[39m By\u001b[39m.\u001b[39mCSS_SELECTOR\n\u001b[0;32m    854\u001b[0m     value \u001b[39m=\u001b[39m \u001b[39m'\u001b[39m\u001b[39m[name=\u001b[39m\u001b[39m\"\u001b[39m\u001b[39m%s\u001b[39;00m\u001b[39m\"\u001b[39m\u001b[39m]\u001b[39m\u001b[39m'\u001b[39m \u001b[39m%\u001b[39m value\n\u001b[1;32m--> 856\u001b[0m \u001b[39mreturn\u001b[39;00m \u001b[39mself\u001b[39;49m\u001b[39m.\u001b[39;49mexecute(Command\u001b[39m.\u001b[39;49mFIND_ELEMENT, {\n\u001b[0;32m    857\u001b[0m     \u001b[39m'\u001b[39;49m\u001b[39musing\u001b[39;49m\u001b[39m'\u001b[39;49m: by,\n\u001b[0;32m    858\u001b[0m     \u001b[39m'\u001b[39;49m\u001b[39mvalue\u001b[39;49m\u001b[39m'\u001b[39;49m: value})[\u001b[39m'\u001b[39m\u001b[39mvalue\u001b[39m\u001b[39m'\u001b[39m]\n",
      "File \u001b[1;32mc:\\Users\\lucas\\anaconda3\\lib\\site-packages\\selenium\\webdriver\\remote\\webdriver.py:434\u001b[0m, in \u001b[0;36mWebDriver.execute\u001b[1;34m(self, driver_command, params)\u001b[0m\n\u001b[0;32m    432\u001b[0m response \u001b[39m=\u001b[39m \u001b[39mself\u001b[39m\u001b[39m.\u001b[39mcommand_executor\u001b[39m.\u001b[39mexecute(driver_command, params)\n\u001b[0;32m    433\u001b[0m \u001b[39mif\u001b[39;00m response:\n\u001b[1;32m--> 434\u001b[0m     \u001b[39mself\u001b[39;49m\u001b[39m.\u001b[39;49merror_handler\u001b[39m.\u001b[39;49mcheck_response(response)\n\u001b[0;32m    435\u001b[0m     response[\u001b[39m'\u001b[39m\u001b[39mvalue\u001b[39m\u001b[39m'\u001b[39m] \u001b[39m=\u001b[39m \u001b[39mself\u001b[39m\u001b[39m.\u001b[39m_unwrap_value(\n\u001b[0;32m    436\u001b[0m         response\u001b[39m.\u001b[39mget(\u001b[39m'\u001b[39m\u001b[39mvalue\u001b[39m\u001b[39m'\u001b[39m, \u001b[39mNone\u001b[39;00m))\n\u001b[0;32m    437\u001b[0m     \u001b[39mreturn\u001b[39;00m response\n",
      "File \u001b[1;32mc:\\Users\\lucas\\anaconda3\\lib\\site-packages\\selenium\\webdriver\\remote\\errorhandler.py:243\u001b[0m, in \u001b[0;36mErrorHandler.check_response\u001b[1;34m(self, response)\u001b[0m\n\u001b[0;32m    241\u001b[0m         alert_text \u001b[39m=\u001b[39m value[\u001b[39m'\u001b[39m\u001b[39malert\u001b[39m\u001b[39m'\u001b[39m]\u001b[39m.\u001b[39mget(\u001b[39m'\u001b[39m\u001b[39mtext\u001b[39m\u001b[39m'\u001b[39m)\n\u001b[0;32m    242\u001b[0m     \u001b[39mraise\u001b[39;00m exception_class(message, screen, stacktrace, alert_text)  \u001b[39m# type: ignore[call-arg]  # mypy is not smart enough here\u001b[39;00m\n\u001b[1;32m--> 243\u001b[0m \u001b[39mraise\u001b[39;00m exception_class(message, screen, stacktrace)\n",
      "\u001b[1;31mNoSuchElementException\u001b[0m: Message: no such element: Unable to locate element: {\"method\":\"xpath\",\"selector\":\"/html/body/div[4]/div[3]/div[2]/div[2]/div[2]/a/img\"}\n  (Session info: chrome=104.0.5112.81)\nStacktrace:\nBacktrace:\n\tOrdinal0 [0x005D78B3+2193587]\n\tOrdinal0 [0x00570681+1771137]\n\tOrdinal0 [0x004841A8+803240]\n\tOrdinal0 [0x004B24A0+992416]\n\tOrdinal0 [0x004B273B+993083]\n\tOrdinal0 [0x004DF7C2+1177538]\n\tOrdinal0 [0x004CD7F4+1103860]\n\tOrdinal0 [0x004DDAE2+1170146]\n\tOrdinal0 [0x004CD5C6+1103302]\n\tOrdinal0 [0x004A77E0+948192]\n\tOrdinal0 [0x004A86E6+952038]\n\tGetHandleVerifier [0x00880CB2+2738370]\n\tGetHandleVerifier [0x008721B8+2678216]\n\tGetHandleVerifier [0x006617AA+512954]\n\tGetHandleVerifier [0x00660856+509030]\n\tOrdinal0 [0x0057743B+1799227]\n\tOrdinal0 [0x0057BB68+1817448]\n\tOrdinal0 [0x0057BC55+1817685]\n\tOrdinal0 [0x00585230+1856048]\n\tBaseThreadInitThunk [0x7613FA29+25]\n\tRtlGetAppContainerNamedObjectPath [0x77027A9E+286]\n\tRtlGetAppContainerNamedObjectPath [0x77027A6E+238]\n"
     ]
    }
   ],
   "source": [
    "df1 = pd.read_csv(\"C:/Códigos_VS/Projetos/Spotify/Livia/this_is_harmonia_do_samba.csv\")\n",
    "sum_colum = df1[\"Artist Name(s)\"] + \" \" + df1[\"Track Name\"]\n",
    "list_music_with_artist = sum_colum.tolist()\n",
    "url =\"https://slider.kz/\"\n",
    "music_download(list_music_with_artist, url)"
   ]
  },
  {
   "cell_type": "code",
   "execution_count": null,
   "id": "e1f16c10",
   "metadata": {},
   "outputs": [],
   "source": [
    "list_music_with_artist"
   ]
  },
  {
   "cell_type": "code",
   "execution_count": 13,
   "id": "c167d27b",
   "metadata": {},
   "outputs": [
    {
     "data": {
      "text/plain": [
       "['Fabricio Simoes Oracao de sao Francisco de Assis',\n",
       " 'Cristina Maximo Sonda-Me',\n",
       " 'Di Paullo & Paulino, Maralia Mendonca Estrelinha',\n",
       " 'Leo Santana, Diego & Victor Hugo Ta Na Sua Mente - Ao Vivo',\n",
       " 'Leo Santana Sentadinha',\n",
       " 'Leo Santana, Luisa Sonza Seculo 21',\n",
       " ' Leo Santana Onda',\n",
       " 'Leo Santana, Vitao SAMU',\n",
       " 'Leo Santana So Porque Voce Estourou',\n",
       " 'Leo Santana So Hoje',\n",
       " 'Leo Santana Aumenta O Paredao',\n",
       " 'Leo Santana, La Furia Solinho Ordinario - Leo Santana Ao Vivo / 2020',\n",
       " 'Leo Santana Rabetao GG - Ao Vivo',\n",
       " 'Xand Aviao, Leo Santana Forro 150',\n",
       " 'Leo Santana 60km',\n",
       " 'Leo Santana, Parango, Saulo Sossego',\n",
       " 'Leo Santana Mamolengo',\n",
       " 'Leo Santana Fenomeno',\n",
       " 'Leo Santana Deboche']"
      ]
     },
     "execution_count": 13,
     "metadata": {},
     "output_type": "execute_result"
    }
   ],
   "source": [
    "music_none"
   ]
  }
 ],
 "metadata": {
  "kernelspec": {
   "display_name": "Python 3.9.12 ('base')",
   "language": "python",
   "name": "python3"
  },
  "language_info": {
   "codemirror_mode": {
    "name": "ipython",
    "version": 3
   },
   "file_extension": ".py",
   "mimetype": "text/x-python",
   "name": "python",
   "nbconvert_exporter": "python",
   "pygments_lexer": "ipython3",
   "version": "3.9.12"
  },
  "vscode": {
   "interpreter": {
    "hash": "665796ea3363072d3a6057ac2fdbe3c4fcb0d17a4b92295d9707f78e9c46c0af"
   }
  }
 },
 "nbformat": 4,
 "nbformat_minor": 5
}
